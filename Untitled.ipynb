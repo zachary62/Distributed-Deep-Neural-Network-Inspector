{
 "cells": [
  {
   "cell_type": "code",
   "execution_count": 2,
   "metadata": {},
   "outputs": [],
   "source": [
    "import numpy as np"
   ]
  },
  {
   "cell_type": "code",
   "execution_count": null,
   "metadata": {},
   "outputs": [],
   "source": []
  },
  {
   "cell_type": "code",
   "execution_count": 54,
   "metadata": {},
   "outputs": [
    {
     "data": {
      "text/plain": [
       "array([[1. , 0.5],\n",
       "       [0.5, 1. ]])"
      ]
     },
     "execution_count": 54,
     "metadata": {},
     "output_type": "execute_result"
    }
   ],
   "source": [
    "np.corrcoef([1, 2, 3], [0, 1, 0.5])"
   ]
  },
  {
   "cell_type": "code",
   "execution_count": 68,
   "metadata": {},
   "outputs": [
    {
     "data": {
      "text/plain": [
       "<module 'dni' from '/home/zh2408/dni.py'>"
      ]
     },
     "execution_count": 68,
     "metadata": {},
     "output_type": "execute_result"
    }
   ],
   "source": [
    "import dni\n",
    "import importlib\n",
    "importlib.reload(dni)"
   ]
  },
  {
   "cell_type": "code",
   "execution_count": 69,
   "metadata": {},
   "outputs": [],
   "source": [
    "class hi():\n",
    "    pass"
   ]
  },
  {
   "cell_type": "code",
   "execution_count": 70,
   "metadata": {},
   "outputs": [],
   "source": [
    "a = np.zeros(shape=(5,2,3))"
   ]
  },
  {
   "cell_type": "code",
   "execution_count": 72,
   "metadata": {},
   "outputs": [
    {
     "ename": "TypeError",
     "evalue": "float() argument must be a string or a number, not 'hi'",
     "output_type": "error",
     "traceback": [
      "\u001b[0;31m---------------------------------------------------------------------------\u001b[0m",
      "\u001b[0;31mTypeError\u001b[0m                                 Traceback (most recent call last)",
      "\u001b[0;32m<ipython-input-72-2644b9babe1c>\u001b[0m in \u001b[0;36m<module>\u001b[0;34m\u001b[0m\n\u001b[0;32m----> 1\u001b[0;31m \u001b[0ma\u001b[0m\u001b[0;34m[\u001b[0m\u001b[0;36m1\u001b[0m\u001b[0;34m,\u001b[0m\u001b[0;36m1\u001b[0m\u001b[0;34m,\u001b[0m\u001b[0;36m1\u001b[0m\u001b[0;34m]\u001b[0m \u001b[0;34m=\u001b[0m \u001b[0mhi\u001b[0m\u001b[0;34m(\u001b[0m\u001b[0;34m)\u001b[0m\u001b[0;34m\u001b[0m\u001b[0m\n\u001b[0m",
      "\u001b[0;31mTypeError\u001b[0m: float() argument must be a string or a number, not 'hi'"
     ]
    }
   ],
   "source": [
    "a[1,1,1] = hi()"
   ]
  },
  {
   "cell_type": "code",
   "execution_count": null,
   "metadata": {},
   "outputs": [],
   "source": []
  },
  {
   "cell_type": "code",
   "execution_count": null,
   "metadata": {},
   "outputs": [],
   "source": [
    "class MetricManager():\n",
    "    def __init__(self, listofmetrics):\n",
    "        import numpy as np\n",
    "        self.metrics = listofmetrics\n",
    "    # input should from one layer one unit\n",
    "    def increment(self,input1,input2):\n",
    "        for i in range(len(input1)):\n",
    "            self.sumXsquare += input1[i]**2\n",
    "            self.sumYsquare += input2[i]**2\n",
    "            self.sumX += input1[i]\n",
    "            self.sumY += input2[i]\n",
    "            self.sumXY += input1[i]*input2[i]\n",
    "            self.n += 1\n",
    "    def extract(self):\n",
    "        return (self.sumXY - self.sumX*self.sumY/self.n)/(((self.sumXsquare - self.sumX**2/self.n)**(1/2))*((self.sumYsquare - self.sumY**2/self.n)**(1/2)))\n",
    "    def get_class(self):\n",
    "        return \"Batch_incremental_Correlation\"\n",
    "    def get_name(self):\n",
    "        return \"Correlation\""
   ]
  },
  {
   "cell_type": "code",
   "execution_count": 119,
   "metadata": {},
   "outputs": [],
   "source": [
    "# batch mode exhaustive correlation\n",
    "class Batch_Incremental_Comprehensive_Correlation():\n",
    "    def __init__(self, model, layer, unit, feature):\n",
    "        import numpy as np\n",
    "        self.sumXsquare = np.zeros(shape=(model, layer, unit, feature))\n",
    "        self.sumYsquare = np.zeros(shape=(model, layer, unit, feature))\n",
    "        self.sumX = np.zeros(shape=(model, layer, unit, feature))\n",
    "        self.sumY = np.zeros(shape=(model, layer, unit, feature))\n",
    "        self.sumXY = np.zeros(shape=(model, layer, unit, feature))\n",
    "        self.n = np.full((model, layer, unit, feature),1e-17)\n",
    "    # input should from one layer one unit\n",
    "    def increment(self,input1,input2,model, layer, unit, feature):\n",
    "        import numpy as np\n",
    "        while input1.ndim != 1:\n",
    "            input1 = np.concatenate(input1)\n",
    "        while input2.ndim != 1:\n",
    "            input2 = np.concatenate(input2)\n",
    "        for i in range(len(input1)):\n",
    "            self.sumXsquare[model, layer, unit, feature] += input1[i]**2\n",
    "            self.sumYsquare[model, layer, unit, feature] += input2[i]**2\n",
    "            self.sumX[model, layer, unit, feature] += input1[i]\n",
    "            self.sumY[model, layer, unit, feature] += input2[i]\n",
    "            self.sumXY[model, layer, unit, feature] += input1[i]*input2[i]\n",
    "            self.n += 1\n",
    "    def extract(self,model, layer, unit, feature):\n",
    "        return (self.sumXY[model, layer, unit, feature] - self.sumX[model, layer, unit, feature]*self.sumY[model, layer, unit, feature]/\\\n",
    "                self.n[model, layer, unit, feature])/(((self.sumXsquare[model, layer, unit, feature] - self.sumX[model, layer, unit, feature]\\\n",
    "                **2/self.n[model, layer, unit, feature])**(1/2))*((self.sumYsquare[model, layer, unit, feature]\\\n",
    "                - self.sumY[model, layer, unit, feature]**2/self.n[model, layer, unit, feature])**(1/2))+1e-17)\n",
    "    def get_class(self):\n",
    "        return \"Batch_Incremental_Comprehensive_Correlation\"\n",
    "    def get_name(self):\n",
    "        return \"Correlation\""
   ]
  },
  {
   "cell_type": "code",
   "execution_count": 120,
   "metadata": {},
   "outputs": [
    {
     "data": {
      "text/plain": [
       "0.0"
      ]
     },
     "execution_count": 120,
     "metadata": {},
     "output_type": "execute_result"
    }
   ],
   "source": [
    "b = Batch_Incremental_Comprehensive_Correlation(1,2,2,2)\n",
    "b.extract(0,0,0,0)"
   ]
  },
  {
   "cell_type": "code",
   "execution_count": 117,
   "metadata": {},
   "outputs": [],
   "source": [
    "# b.increment([1, 2, 3], [0, 1, 0.5])\n",
    "\n",
    "b.increment([1, 2], [0, 1],0,1,0,0)\n",
    "# b.increment([3], [0.5],0,0,0,0)"
   ]
  },
  {
   "cell_type": "code",
   "execution_count": 118,
   "metadata": {},
   "outputs": [
    {
     "data": {
      "text/plain": [
       "0.875"
      ]
     },
     "execution_count": 118,
     "metadata": {},
     "output_type": "execute_result"
    }
   ],
   "source": [
    "b.extract(0,1,0,0)"
   ]
  },
  {
   "cell_type": "code",
   "execution_count": null,
   "metadata": {},
   "outputs": [],
   "source": []
  },
  {
   "cell_type": "code",
   "execution_count": 107,
   "metadata": {},
   "outputs": [
    {
     "data": {
      "text/plain": [
       "array([[[10, 10],\n",
       "        [10, 10]],\n",
       "\n",
       "       [[10, 10],\n",
       "        [10, 10]]])"
      ]
     },
     "execution_count": 107,
     "metadata": {},
     "output_type": "execute_result"
    }
   ],
   "source": [
    "np.full((2,2, 2), 10)"
   ]
  },
  {
   "cell_type": "code",
   "execution_count": 9,
   "metadata": {},
   "outputs": [
    {
     "data": {
      "text/plain": [
       "1.4142135623730951"
      ]
     },
     "execution_count": 9,
     "metadata": {},
     "output_type": "execute_result"
    }
   ],
   "source": [
    "2 **(1/2)"
   ]
  },
  {
   "cell_type": "code",
   "execution_count": 76,
   "metadata": {},
   "outputs": [
    {
     "data": {
      "text/plain": [
       "1e-17"
      ]
     },
     "execution_count": 76,
     "metadata": {},
     "output_type": "execute_result"
    }
   ],
   "source": [
    "1e-17"
   ]
  },
  {
   "cell_type": "code",
   "execution_count": 81,
   "metadata": {},
   "outputs": [
    {
     "data": {
      "text/plain": [
       "0.0"
      ]
     },
     "execution_count": 81,
     "metadata": {},
     "output_type": "execute_result"
    }
   ],
   "source": [
    "0/1e-17"
   ]
  },
  {
   "cell_type": "code",
   "execution_count": null,
   "metadata": {},
   "outputs": [],
   "source": []
  }
 ],
 "metadata": {
  "kernelspec": {
   "display_name": "Python 3",
   "language": "python",
   "name": "python3"
  },
  "language_info": {
   "codemirror_mode": {
    "name": "ipython",
    "version": 3
   },
   "file_extension": ".py",
   "mimetype": "text/x-python",
   "name": "python",
   "nbconvert_exporter": "python",
   "pygments_lexer": "ipython3",
   "version": "3.5.3"
  }
 },
 "nbformat": 4,
 "nbformat_minor": 2
}
