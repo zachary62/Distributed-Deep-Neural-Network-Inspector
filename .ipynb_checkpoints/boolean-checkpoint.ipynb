{
 "cells": [
  {
   "cell_type": "code",
   "execution_count": 60,
   "metadata": {},
   "outputs": [
    {
     "name": "stderr",
     "output_type": "stream",
     "text": [
      "Using TensorFlow backend.\n"
     ]
    }
   ],
   "source": [
    "import keras"
   ]
  },
  {
   "cell_type": "code",
   "execution_count": 61,
   "metadata": {},
   "outputs": [],
   "source": [
    "import numpy as np\n",
    "import random\n",
    "import pandas as pd\n",
    "\n",
    "np.random.seed(55555)\n",
    "random.seed(55555)"
   ]
  },
  {
   "cell_type": "code",
   "execution_count": 62,
   "metadata": {},
   "outputs": [],
   "source": [
    "N_SENTENCES = 10000\n",
    "TEST_RATIO = .5\n",
    "MAX_LENGTH = 50\n",
    "N_EPOCHS = 10\n",
    "N_STATES = 4\n",
    "BATCH_SIZE = 32"
   ]
  },
  {
   "cell_type": "code",
   "execution_count": 63,
   "metadata": {},
   "outputs": [],
   "source": [
    "def solve_expr(S):\n",
    "    res_buffer = 1\n",
    "    op_buffer = '&'\n",
    "    for x in S:\n",
    "        if x =='X':\n",
    "            pass\n",
    "        elif x in ['&', '|']:\n",
    "            op_buffer = x\n",
    "        elif x in ['0','1']:\n",
    "            x = int(x)\n",
    "            if op_buffer == '&':\n",
    "                res_buffer = res_buffer & x\n",
    "            elif op_buffer == '|':\n",
    "                res_buffer = res_buffer | x\n",
    "    return res_buffer\n",
    "\n",
    "def gen_expr(n_expr, max_size):\n",
    "    random.seed(55555)\n",
    "    \n",
    "    bools = []\n",
    "    sols = []\n",
    "    for _ in range(n_expr):\n",
    "        \n",
    "        # Gets expr length\n",
    "        L = random.randint(1,max_size)\n",
    "        if L%2 == 0 and L < max_size:\n",
    "            L += 1\n",
    "        elif L%2 == 0 and L == max_size:\n",
    "            L -= 1\n",
    "            \n",
    "        # Generates expression\n",
    "        expr = ''\n",
    "        for c in range(L):\n",
    "            if c%2 == 0:\n",
    "                c = str(random.randint(0,1))\n",
    "            else:\n",
    "                c = '&|'[random.randint(0,1)]\n",
    "            expr += c\n",
    "        sol = solve_expr(expr)\n",
    "        \n",
    "        bools.append(expr)\n",
    "        sols.append(sol)\n",
    "\n",
    "    return pd.DataFrame({\n",
    "        'sequence': bools,\n",
    "        'target'  : sols\n",
    "    })\n",
    "        \n",
    "df = gen_expr(N_SENTENCES, MAX_LENGTH)"
   ]
  },
  {
   "cell_type": "code",
   "execution_count": 64,
   "metadata": {},
   "outputs": [
    {
     "name": "stdout",
     "output_type": "stream",
     "text": [
      "                                        sequence  target\n",
      "0                                          0|1&0       0\n",
      "1                                    0|1&1&1|1&0       0\n",
      "2              1&1|1|1|1&1|0|1|0&0|0&0|1&1&1&0&0       0\n",
      "3  0&0|1|0|0|0|0|1&0|0|1|1|1|1&1|1&1&0&0|0|0|1|1       1\n",
      "4                        1&0&0|1|1|0|0|0|0|0&1|0       1\n",
      "Max size: 49\n"
     ]
    }
   ],
   "source": [
    "print(df.head())\n",
    "print('Max size:', max(len(s) for s in df['sequence']))"
   ]
  },
  {
   "cell_type": "code",
   "execution_count": 65,
   "metadata": {},
   "outputs": [],
   "source": [
    "def pad(s, L):\n",
    "    if len(s) > L:\n",
    "        raise ValueError('Nope')\n",
    "    diff = L - len(s)\n",
    "    return 'X' * diff + s\n",
    "\n",
    "df['sequence'] = [pad(s, 50) for s in df['sequence']]"
   ]
  },
  {
   "cell_type": "code",
   "execution_count": 66,
   "metadata": {},
   "outputs": [
    {
     "data": {
      "text/html": [
       "<div>\n",
       "<style scoped>\n",
       "    .dataframe tbody tr th:only-of-type {\n",
       "        vertical-align: middle;\n",
       "    }\n",
       "\n",
       "    .dataframe tbody tr th {\n",
       "        vertical-align: top;\n",
       "    }\n",
       "\n",
       "    .dataframe thead th {\n",
       "        text-align: right;\n",
       "    }\n",
       "</style>\n",
       "<table border=\"1\" class=\"dataframe\">\n",
       "  <thead>\n",
       "    <tr style=\"text-align: right;\">\n",
       "      <th></th>\n",
       "      <th>sequence</th>\n",
       "      <th>target</th>\n",
       "    </tr>\n",
       "  </thead>\n",
       "  <tbody>\n",
       "    <tr>\n",
       "      <th>0</th>\n",
       "      <td>XXXXXXXXXXXXXXXXXXXXXXXXXXXXXXXXXXXXXXXXXXXXX0...</td>\n",
       "      <td>0</td>\n",
       "    </tr>\n",
       "    <tr>\n",
       "      <th>1</th>\n",
       "      <td>XXXXXXXXXXXXXXXXXXXXXXXXXXXXXXXXXXXXXXX0|1&amp;1&amp;1...</td>\n",
       "      <td>0</td>\n",
       "    </tr>\n",
       "    <tr>\n",
       "      <th>2</th>\n",
       "      <td>XXXXXXXXXXXXXXXXX1&amp;1|1|1|1&amp;1|0|1|0&amp;0|0&amp;0|1&amp;1&amp;1...</td>\n",
       "      <td>0</td>\n",
       "    </tr>\n",
       "    <tr>\n",
       "      <th>3</th>\n",
       "      <td>XXXXX0&amp;0|1|0|0|0|0|1&amp;0|0|1|1|1|1&amp;1|1&amp;1&amp;0&amp;0|0|0...</td>\n",
       "      <td>1</td>\n",
       "    </tr>\n",
       "    <tr>\n",
       "      <th>4</th>\n",
       "      <td>XXXXXXXXXXXXXXXXXXXXXXXXXXX1&amp;0&amp;0|1|1|0|0|0|0|0...</td>\n",
       "      <td>1</td>\n",
       "    </tr>\n",
       "    <tr>\n",
       "      <th>...</th>\n",
       "      <td>...</td>\n",
       "      <td>...</td>\n",
       "    </tr>\n",
       "    <tr>\n",
       "      <th>9995</th>\n",
       "      <td>XXXXXXX0&amp;0|0&amp;0|0|0|0|0|0&amp;0&amp;0&amp;0&amp;1|0&amp;1|1&amp;1|0|0|0...</td>\n",
       "      <td>0</td>\n",
       "    </tr>\n",
       "    <tr>\n",
       "      <th>9996</th>\n",
       "      <td>XXXXXXXXXXXXXXXXXXXXXXXXXXXXX0|1&amp;1&amp;0&amp;0&amp;1|1|0|1...</td>\n",
       "      <td>1</td>\n",
       "    </tr>\n",
       "    <tr>\n",
       "      <th>9997</th>\n",
       "      <td>XXXXXXXXXXXXXXXXXXXXXXX1|0&amp;1|1&amp;0&amp;0|1&amp;1&amp;0&amp;1&amp;0&amp;0...</td>\n",
       "      <td>0</td>\n",
       "    </tr>\n",
       "    <tr>\n",
       "      <th>9998</th>\n",
       "      <td>XXXXXXXXXXXXXXXXXXXXXXXXXXXXXXXXX0|1|1|0|0|0|0...</td>\n",
       "      <td>1</td>\n",
       "    </tr>\n",
       "    <tr>\n",
       "      <th>9999</th>\n",
       "      <td>XXXXXXXXXXXXXXXXX0&amp;1|0&amp;1|1|0|1&amp;0|1|0|0&amp;1&amp;1|1|1...</td>\n",
       "      <td>1</td>\n",
       "    </tr>\n",
       "  </tbody>\n",
       "</table>\n",
       "<p>10000 rows × 2 columns</p>\n",
       "</div>"
      ],
      "text/plain": [
       "                                               sequence  target\n",
       "0     XXXXXXXXXXXXXXXXXXXXXXXXXXXXXXXXXXXXXXXXXXXXX0...       0\n",
       "1     XXXXXXXXXXXXXXXXXXXXXXXXXXXXXXXXXXXXXXX0|1&1&1...       0\n",
       "2     XXXXXXXXXXXXXXXXX1&1|1|1|1&1|0|1|0&0|0&0|1&1&1...       0\n",
       "3     XXXXX0&0|1|0|0|0|0|1&0|0|1|1|1|1&1|1&1&0&0|0|0...       1\n",
       "4     XXXXXXXXXXXXXXXXXXXXXXXXXXX1&0&0|1|1|0|0|0|0|0...       1\n",
       "...                                                 ...     ...\n",
       "9995  XXXXXXX0&0|0&0|0|0|0|0|0&0&0&0&1|0&1|1&1|0|0|0...       0\n",
       "9996  XXXXXXXXXXXXXXXXXXXXXXXXXXXXX0|1&1&0&0&1|1|0|1...       1\n",
       "9997  XXXXXXXXXXXXXXXXXXXXXXX1|0&1|1&0&0|1&1&0&1&0&0...       0\n",
       "9998  XXXXXXXXXXXXXXXXXXXXXXXXXXXXXXXXX0|1|1|0|0|0|0...       1\n",
       "9999  XXXXXXXXXXXXXXXXX0&1|0&1|1|0|1&0|1|0|0&1&1|1|1...       1\n",
       "\n",
       "[10000 rows x 2 columns]"
      ]
     },
     "execution_count": 66,
     "metadata": {},
     "output_type": "execute_result"
    }
   ],
   "source": [
    "df"
   ]
  },
  {
   "cell_type": "code",
   "execution_count": 67,
   "metadata": {},
   "outputs": [
    {
     "name": "stdout",
     "output_type": "stream",
     "text": [
      "4992\n",
      "4992\n"
     ]
    }
   ],
   "source": [
    "TRAIN_SPLIT = int(len(df)*(1-TEST_RATIO))\n",
    "TRAIN_SPLIT = TRAIN_SPLIT - TRAIN_SPLIT%BATCH_SIZE\n",
    "\n",
    "TEST_SPLIT = int(len(df))\n",
    "TEST_SPLIT = TEST_SPLIT - TEST_SPLIT%BATCH_SIZE\n",
    "\n",
    "train_sequences = list(df['sequence'][:TRAIN_SPLIT])\n",
    "train_labels = list(df['target'][:TRAIN_SPLIT])\n",
    "\n",
    "test_sequences = list(df['sequence'][TRAIN_SPLIT:TEST_SPLIT])\n",
    "test_labels = list(df['target'][TRAIN_SPLIT:TEST_SPLIT])\n",
    "\n",
    "print(len(train_sequences))\n",
    "print(len(test_sequences))"
   ]
  },
  {
   "cell_type": "code",
   "execution_count": 68,
   "metadata": {},
   "outputs": [],
   "source": [
    "char2int = {'X': 0, '0':1, '1':2, '|':3, '&':4}\n",
    "\n",
    "# ENCODING MATRICES OF CHARS\n",
    "class TwoDimEncoders:\n",
    "\n",
    "    @staticmethod\n",
    "    def raw_to_encoded(seqs, seqs2=None, cust_char2int=None):\n",
    "\n",
    "        if cust_char2int is None:\n",
    "            all_chars = reduce(lambda chars,seq : set(chars) | set(seq), seqs)\n",
    "            if seqs2 is not None:\n",
    "                all_chars |= reduce(lambda chars,seq : set(chars) | set(seq),\n",
    "                                    seqs2)\n",
    "            all_chars = sorted(all_chars)\n",
    "\n",
    "            char2int =  {c:i for i, c in enumerate(all_chars)}\n",
    "            print(\"Total vocabulary len_sequence: \", len(all_chars))\n",
    "        else:\n",
    "            char2int = cust_char2int\n",
    "\n",
    "        encoded_seqs = [[char2int[x] for x in seq] for seq in seqs]\n",
    "        if seqs2 is None:\n",
    "            return encoded_seqs, char2int\n",
    "\n",
    "        encoded_seqs2 = [[char2int[x] for x in seq] for seq in seqs2]\n",
    "        return encoded_seqs, char2int, encoded_seqs2\n",
    "\n",
    "    @staticmethod\n",
    "    def encoded_to_bin_tensor(enc_seqs, char2int, enc_seqs2=None,\n",
    "                                start_at_min=False):\n",
    "\n",
    "        min_x = min(char2int.values()) if start_at_min else 0\n",
    "        n_chars = max(char2int.values()) - min_x + 1\n",
    "        seq_len = len(enc_seqs[0])\n",
    "\n",
    "        X = np.zeros((len(enc_seqs), seq_len, n_chars), dtype=np.int)\n",
    "        for i, enc_seq in enumerate(enc_seqs):\n",
    "            for j, x in enumerate(enc_seq):\n",
    "                k = x - min_x\n",
    "                X[i, j, k] = 1\n",
    "\n",
    "        if enc_seqs2 is None:\n",
    "            return X\n",
    "\n",
    "        X2 = np.zeros((len(enc_seqs2), seq_len, n_chars), dtype=np.int)\n",
    "        for i, enc_seq in enumerate(enc_seqs2):\n",
    "            for j, x in enumerate(enc_seq):\n",
    "                k = x - min_x\n",
    "                X2[i, j, k] = 1\n",
    "\n",
    "        return X, X2\n",
    "\n",
    "    @staticmethod\n",
    "    def raw_to_bin_tensor(seqs, seqs2=None, cust_char2int=None):\n",
    "        encoding_out = TwoDimEncoders.raw_to_encoded(seqs, seqs2, cust_char2int)\n",
    "        if len(encoding_out) == 2:\n",
    "            encoded_seqs, char2int = encoding_out\n",
    "            encoded_seqs2 = None\n",
    "        else:\n",
    "            encoded_seqs, char2int, encoded_seqs2 = encoding_out\n",
    "\n",
    "        bin_tensors = TwoDimEncoders.encoded_to_bin_tensor(\n",
    "            encoded_seqs, char2int, encoded_seqs2)\n",
    "\n",
    "        if type(bin_tensors) is not tuple:\n",
    "            return bin_tensors, char2int\n",
    "\n",
    "        out = bin_tensors + (char2int,)\n",
    "        return out"
   ]
  },
  {
   "cell_type": "code",
   "execution_count": 71,
   "metadata": {},
   "outputs": [],
   "source": [
    "X_train, char2int = TwoDimEncoders.raw_to_bin_tensor(train_sequences, cust_char2int = char2int)"
   ]
  },
  {
   "cell_type": "code",
   "execution_count": 76,
   "metadata": {},
   "outputs": [
    {
     "data": {
      "text/plain": [
       "array([[1, 0, 0, 0, 0],\n",
       "       [1, 0, 0, 0, 0],\n",
       "       [1, 0, 0, 0, 0],\n",
       "       [1, 0, 0, 0, 0],\n",
       "       [1, 0, 0, 0, 0],\n",
       "       [1, 0, 0, 0, 0],\n",
       "       [1, 0, 0, 0, 0],\n",
       "       [1, 0, 0, 0, 0],\n",
       "       [1, 0, 0, 0, 0],\n",
       "       [1, 0, 0, 0, 0],\n",
       "       [1, 0, 0, 0, 0],\n",
       "       [1, 0, 0, 0, 0],\n",
       "       [1, 0, 0, 0, 0],\n",
       "       [1, 0, 0, 0, 0],\n",
       "       [1, 0, 0, 0, 0],\n",
       "       [1, 0, 0, 0, 0],\n",
       "       [1, 0, 0, 0, 0],\n",
       "       [1, 0, 0, 0, 0],\n",
       "       [1, 0, 0, 0, 0],\n",
       "       [1, 0, 0, 0, 0],\n",
       "       [1, 0, 0, 0, 0],\n",
       "       [1, 0, 0, 0, 0],\n",
       "       [1, 0, 0, 0, 0],\n",
       "       [1, 0, 0, 0, 0],\n",
       "       [1, 0, 0, 0, 0],\n",
       "       [1, 0, 0, 0, 0],\n",
       "       [1, 0, 0, 0, 0],\n",
       "       [1, 0, 0, 0, 0],\n",
       "       [1, 0, 0, 0, 0],\n",
       "       [1, 0, 0, 0, 0],\n",
       "       [1, 0, 0, 0, 0],\n",
       "       [1, 0, 0, 0, 0],\n",
       "       [1, 0, 0, 0, 0],\n",
       "       [1, 0, 0, 0, 0],\n",
       "       [1, 0, 0, 0, 0],\n",
       "       [1, 0, 0, 0, 0],\n",
       "       [1, 0, 0, 0, 0],\n",
       "       [1, 0, 0, 0, 0],\n",
       "       [1, 0, 0, 0, 0],\n",
       "       [1, 0, 0, 0, 0],\n",
       "       [1, 0, 0, 0, 0],\n",
       "       [1, 0, 0, 0, 0],\n",
       "       [1, 0, 0, 0, 0],\n",
       "       [1, 0, 0, 0, 0],\n",
       "       [1, 0, 0, 0, 0],\n",
       "       [0, 1, 0, 0, 0],\n",
       "       [0, 0, 0, 1, 0],\n",
       "       [0, 0, 1, 0, 0],\n",
       "       [0, 0, 0, 0, 1],\n",
       "       [0, 1, 0, 0, 0]])"
      ]
     },
     "execution_count": 76,
     "metadata": {},
     "output_type": "execute_result"
    }
   ],
   "source": [
    "X_train[0]"
   ]
  },
  {
   "cell_type": "code",
   "execution_count": 116,
   "metadata": {},
   "outputs": [],
   "source": [
    "int2char = {0:'X', 1:'0', 2:'1', 3:'|', 4:'&'}\n",
    "seq = ''\n",
    "for i in X_train[0]:\n",
    "    for k in range(len(i)):\n",
    "        if i[k] == 1:\n",
    "            seq = seq + int2char[k]"
   ]
  },
  {
   "cell_type": "code",
   "execution_count": 117,
   "metadata": {},
   "outputs": [
    {
     "data": {
      "text/plain": [
       "'XXXXXXXXXXXXXXXXXXXXXXXXXXXXXXXXXXXXXXXXXXXXX0|1&0'"
      ]
     },
     "execution_count": 117,
     "metadata": {},
     "output_type": "execute_result"
    }
   ],
   "source": [
    "seq"
   ]
  },
  {
   "cell_type": "code",
   "execution_count": 108,
   "metadata": {},
   "outputs": [
    {
     "data": {
      "text/plain": [
       "'XXXXXXXXXXXXXXXXXXXXXXXXXXXXXXXXXXXXXXXXXXXXX0|1&0'"
      ]
     },
     "execution_count": 108,
     "metadata": {},
     "output_type": "execute_result"
    }
   ],
   "source": [
    "train_sequences[0]"
   ]
  },
  {
   "cell_type": "code",
   "execution_count": 20,
   "metadata": {},
   "outputs": [],
   "source": [
    "y_train, y_test = np.array(train_labels), np.array(test_labels)"
   ]
  },
  {
   "cell_type": "code",
   "execution_count": 23,
   "metadata": {},
   "outputs": [],
   "source": [
    "from keras.models import Sequential\n",
    "from keras.layers import Dense\n",
    "from keras.layers import Dropout\n",
    "from keras.layers import LSTM,SimpleRNN\n",
    "from keras.layers import Lambda\n",
    "from keras import regularizers"
   ]
  },
  {
   "cell_type": "code",
   "execution_count": 29,
   "metadata": {},
   "outputs": [],
   "source": [
    "in_dim = X_train.shape[1:]"
   ]
  },
  {
   "cell_type": "code",
   "execution_count": 69,
   "metadata": {},
   "outputs": [],
   "source": [
    "adam = keras.optimizers.Adam(lr=0.001)\n",
    "\n",
    "model = Sequential()\n",
    "model.add(LSTM(N_STATES, return_sequences=True,\n",
    "                         stateful=False,\n",
    "                         batch_size=BATCH_SIZE,\n",
    "                         input_shape=in_dim,\n",
    "                          activity_regularizer=regularizers.l1(0.00001)))\n",
    "model.add(Lambda(lambda x: x[:,-1, :]))\n",
    "model.add(Dense(1, activation='sigmoid'))\n",
    "model.compile(loss='binary_crossentropy',\n",
    "              optimizer=\"adam\",\n",
    "              metrics=['acc'])"
   ]
  },
  {
   "cell_type": "code",
   "execution_count": 70,
   "metadata": {},
   "outputs": [
    {
     "name": "stdout",
     "output_type": "stream",
     "text": [
      "Model: \"sequential_3\"\n",
      "_________________________________________________________________\n",
      "Layer (type)                 Output Shape              Param #   \n",
      "=================================================================\n",
      "lstm_2 (LSTM)                (32, 50, 4)               160       \n",
      "_________________________________________________________________\n",
      "lambda_2 (Lambda)            (32, 4)                   0         \n",
      "_________________________________________________________________\n",
      "dense_2 (Dense)              (32, 1)                   5         \n",
      "=================================================================\n",
      "Total params: 165\n",
      "Trainable params: 165\n",
      "Non-trainable params: 0\n",
      "_________________________________________________________________\n",
      "Epoch 1/10\n",
      "4992/4992 [==============================] - 5s 1ms/step - loss: 0.6568 - acc: 0.6725\n",
      "Epoch 2/10\n",
      "4992/4992 [==============================] - 4s 859us/step - loss: 0.5287 - acc: 0.8712\n",
      "Epoch 3/10\n",
      "4992/4992 [==============================] - 4s 863us/step - loss: 0.3949 - acc: 0.9207\n",
      "Epoch 4/10\n",
      "4992/4992 [==============================] - 4s 864us/step - loss: 0.2937 - acc: 0.9509\n",
      "Epoch 5/10\n",
      "4992/4992 [==============================] - 4s 896us/step - loss: 0.2292 - acc: 0.9649\n",
      "Epoch 6/10\n",
      "4992/4992 [==============================] - 5s 908us/step - loss: 0.1870 - acc: 0.9754\n",
      "Epoch 7/10\n",
      "4992/4992 [==============================] - 4s 884us/step - loss: 0.1555 - acc: 0.9868\n",
      "Epoch 8/10\n",
      "4992/4992 [==============================] - 4s 883us/step - loss: 0.1293 - acc: 0.9914\n",
      "Epoch 9/10\n",
      "4992/4992 [==============================] - 4s 884us/step - loss: 0.1056 - acc: 0.9968\n",
      "Epoch 10/10\n",
      "4992/4992 [==============================] - 4s 874us/step - loss: 0.0844 - acc: 0.9992\n"
     ]
    }
   ],
   "source": [
    "from keras.models import load_model\n",
    "\n",
    "CACHED = False\n",
    "if not CACHED:\n",
    "    model.summary()\n",
    "    model.fit(X_train, y_train,\n",
    "                        batch_size=BATCH_SIZE,\n",
    "                        epochs=N_EPOCHS,\n",
    "                        verbose=1,\n",
    "                        shuffle=False)\n",
    "    model.save('boolean_nopriorities.h5')\n",
    "else:\n",
    "    model = load_model('boolean_nopriorities.h5')"
   ]
  },
  {
   "cell_type": "code",
   "execution_count": 71,
   "metadata": {},
   "outputs": [
    {
     "name": "stdout",
     "output_type": "stream",
     "text": [
      "4992/4992 [==============================] - 1s 177us/step\n",
      "Test score: 0.07672305187831323\n",
      "Test accuracy: 0.9983974099159241\n"
     ]
    }
   ],
   "source": [
    "model.reset_states()\n",
    "score = model.evaluate(X_test, y_test, batch_size=BATCH_SIZE, verbose=1)\n",
    "print('Test score:', score[0])\n",
    "print('Test accuracy:', score[1])"
   ]
  },
  {
   "cell_type": "code",
   "execution_count": 118,
   "metadata": {},
   "outputs": [],
   "source": [
    "def fsm_states(transition_table, dictionary, init_state = 0, id_fsm = None):\n",
    "    def F(seq_raw):\n",
    "        int2char = {0:'X', 1:'0', 2:'1', 3:'|', 4:'&'}\n",
    "        seq = ''\n",
    "        for i in seq_raw:\n",
    "            for k in range(len(i)):\n",
    "                if i[k] == 1:\n",
    "                    seq = seq + int2char[k]\n",
    "        features = np.zeros(len(seq))\n",
    "        cur_state = init_state\n",
    "        for i, x in enumerate(seq):\n",
    "            cur_state = transition_table[cur_state][dictionary[x]]\n",
    "            features[i] = cur_state\n",
    "        name = 'states' if id_fsm is None else 'states_' + id_fsm\n",
    "        return features, name\n",
    "    return F"
   ]
  },
  {
   "cell_type": "code",
   "execution_count": 119,
   "metadata": {},
   "outputs": [],
   "source": [
    "fsm_dict = {'X': 0, '0':1, '1':2, '|':3, '&':4}\n",
    "fsm_tbl =  [[0, 2, 1, -1, -1],\n",
    "            [0, -1, -1, 4, 3],\n",
    "            [0, -1, -1, 6, 5],\n",
    "            [0, 2, 1, -1, -1],\n",
    "            [0, 1, 1, -1, -1],\n",
    "            [0, 2, 2, -1, -1],\n",
    "            [0, 2, 1, -1, -1]]\n",
    "fsm_states_7 = fsm_states(fsm_tbl, fsm_dict, id_fsm = '7')\n",
    "\n",
    "fsm_tbl4 = [[0,2,1,-1,-1],\n",
    "            [0,1,1,1,3],\n",
    "            [0,2,2,3,2],\n",
    "            [0,2,1,2,1]]\n",
    "fsm_states_4 = fsm_states(fsm_tbl4, fsm_dict, id_fsm = '4')\n",
    "\n",
    "\n",
    "fsm_tbl3 = [[0,2,1,-1,-1],\n",
    "           [0,2,1,1,0],\n",
    "           [0,2,2,0,2]]\n",
    "fsm_states_3 = fsm_states(fsm_tbl3, fsm_dict, id_fsm = '3')\n",
    "\n",
    "\n",
    "features = [fsm_states_7, fsm_states_4, fsm_states_3]\n",
    "\n",
    "def random_fsm(n_states, fsm_dict=fsm_dict):\n",
    "    s = np.random.randint(n_states, size=n_states*len(fsm_dict))\n",
    "    tran = np.reshape(s, (n_states, len(fsm_dict)))\n",
    "    return tran\n",
    "\n",
    "fsm_states_3rd = fsm_states(random_fsm(3), fsm_dict, id_fsm = 'rd_3')\n",
    "fsm_states_4rd = fsm_states(random_fsm(4), fsm_dict, id_fsm = 'rd_4')\n",
    "fsm_states_7rd = fsm_states(random_fsm(7), fsm_dict, id_fsm = 'rd_7')\n",
    "\n",
    "features += [fsm_states_3rd, fsm_states_4rd, fsm_states_7rd]"
   ]
  },
  {
   "cell_type": "code",
   "execution_count": 120,
   "metadata": {},
   "outputs": [
    {
     "data": {
      "text/plain": [
       "(50,)"
      ]
     },
     "execution_count": 120,
     "metadata": {},
     "output_type": "execute_result"
    }
   ],
   "source": [
    "fsm_states_7(X_train[0])[0].shape"
   ]
  },
  {
   "cell_type": "code",
   "execution_count": 123,
   "metadata": {},
   "outputs": [
    {
     "data": {
      "text/plain": [
       "array([0., 0., 0., 0., 0., 0., 0., 0., 0., 0., 0., 0., 0., 0., 0., 0., 0.,\n",
       "       0., 0., 0., 0., 0., 0., 0., 0., 0., 0., 0., 0., 0., 0., 0., 0., 0.,\n",
       "       0., 0., 0., 0., 0., 0., 0., 0., 0., 0., 0., 2., 0., 1., 0., 2.])"
      ]
     },
     "execution_count": 123,
     "metadata": {},
     "output_type": "execute_result"
    }
   ],
   "source": [
    "fsm_states_3(X_train[0])[0]"
   ]
  },
  {
   "cell_type": "code",
   "execution_count": null,
   "metadata": {},
   "outputs": [],
   "source": []
  },
  {
   "cell_type": "code",
   "execution_count": 75,
   "metadata": {},
   "outputs": [
    {
     "data": {
      "text/plain": [
       "[(32, 50, 5), (32, 50, 4), (32, 4)]"
      ]
     },
     "execution_count": 75,
     "metadata": {},
     "output_type": "execute_result"
    }
   ],
   "source": [
    "[l.input_shape for l in model.layers]"
   ]
  },
  {
   "cell_type": "code",
   "execution_count": 76,
   "metadata": {},
   "outputs": [
    {
     "name": "stdout",
     "output_type": "stream",
     "text": [
      "0 (32,)\n",
      "1 (32,)\n",
      "2 (32,)\n"
     ]
    }
   ],
   "source": [
    "for i,shape in enumerate([l.input_shape for l in model.layers]):\n",
    "    print(i,shape[0:1])"
   ]
  },
  {
   "cell_type": "code",
   "execution_count": 77,
   "metadata": {},
   "outputs": [
    {
     "data": {
      "text/plain": [
       "(32,)"
      ]
     },
     "execution_count": 77,
     "metadata": {},
     "output_type": "execute_result"
    }
   ],
   "source": [
    "model.input_shape[0:1]"
   ]
  },
  {
   "cell_type": "code",
   "execution_count": 78,
   "metadata": {},
   "outputs": [],
   "source": [
    "same_dim = [i for i,shape in enumerate([l.input_shape for l in model.layers])\n",
    "                      if shape[0:1] == model.input_shape[0:1]]"
   ]
  },
  {
   "cell_type": "code",
   "execution_count": 79,
   "metadata": {},
   "outputs": [],
   "source": [
    "from keras.layers import SimpleRNN, GRU, LSTM\n",
    "RECURRENT_LAYERS = (SimpleRNN, GRU, LSTM)\n",
    "out = []\n",
    "for i, layer in enumerate(model.layers):\n",
    "    if isinstance(layer, RECURRENT_LAYERS):\n",
    "        out.append(i)"
   ]
  },
  {
   "cell_type": "code",
   "execution_count": 80,
   "metadata": {},
   "outputs": [
    {
     "data": {
      "text/plain": [
       "[0]"
      ]
     },
     "execution_count": 80,
     "metadata": {},
     "output_type": "execute_result"
    }
   ],
   "source": [
    "recur = out\n",
    "recur"
   ]
  },
  {
   "cell_type": "code",
   "execution_count": 81,
   "metadata": {},
   "outputs": [],
   "source": [
    "intersect = sorted(set(same_dim) & set(recur))"
   ]
  },
  {
   "cell_type": "code",
   "execution_count": 82,
   "metadata": {},
   "outputs": [
    {
     "data": {
      "text/plain": [
       "[0]"
      ]
     },
     "execution_count": 82,
     "metadata": {},
     "output_type": "execute_result"
    }
   ],
   "source": [
    "layer_ids = intersect\n",
    "layer_ids"
   ]
  },
  {
   "cell_type": "code",
   "execution_count": 83,
   "metadata": {},
   "outputs": [],
   "source": [
    "outputs = [model.layers[l].output for l in layer_ids]"
   ]
  },
  {
   "cell_type": "code",
   "execution_count": 84,
   "metadata": {},
   "outputs": [],
   "source": [
    "from keras.models import Model\n",
    "spy_model = Model(inputs = model.input, outputs = outputs)"
   ]
  },
  {
   "cell_type": "code",
   "execution_count": 88,
   "metadata": {},
   "outputs": [],
   "source": [
    "raw_activations = spy_model.predict(X_train,\n",
    "                                            batch_size=32)"
   ]
  },
  {
   "cell_type": "code",
   "execution_count": 127,
   "metadata": {},
   "outputs": [
    {
     "data": {
      "text/plain": [
       "array([ 4.8889272e-04,  9.3079545e-04,  1.2901225e-03,  1.5700043e-03,\n",
       "        1.7843596e-03,  1.9477402e-03,  2.0723476e-03,  2.1676428e-03,\n",
       "        2.2407547e-03,  2.2970124e-03,  2.3404087e-03,  2.3739489e-03,\n",
       "        2.3999116e-03,  2.4200284e-03,  2.4356304e-03,  2.4477406e-03,\n",
       "        2.4571414e-03,  2.4644434e-03,  2.4701168e-03,  2.4745238e-03,\n",
       "        2.4779509e-03,  2.4806140e-03,  2.4826846e-03,  2.4842916e-03,\n",
       "        2.4855421e-03,  2.4865153e-03,  2.4872711e-03,  2.4878595e-03,\n",
       "        2.4883172e-03,  2.4886727e-03,  2.4889500e-03,  2.4891668e-03,\n",
       "        2.4893347e-03,  2.4894653e-03,  2.4895642e-03,  2.4896432e-03,\n",
       "        2.4897044e-03,  2.4897512e-03,  2.4897866e-03,  2.4898141e-03,\n",
       "        2.4898374e-03,  2.4898546e-03,  2.4898688e-03,  2.4898800e-03,\n",
       "        2.4898872e-03,  4.7461429e-01,  2.1423253e-01, -3.3533663e-01,\n",
       "        3.7080324e-01,  6.6535527e-01], dtype=float32)"
      ]
     },
     "execution_count": 127,
     "metadata": {},
     "output_type": "execute_result"
    }
   ],
   "source": [
    "a = raw_activations[0,:,0]\n",
    "a"
   ]
  },
  {
   "cell_type": "code",
   "execution_count": 128,
   "metadata": {},
   "outputs": [
    {
     "data": {
      "text/plain": [
       "array([0., 0., 0., 0., 0., 0., 0., 0., 0., 0., 0., 0., 0., 0., 0., 0., 0.,\n",
       "       0., 0., 0., 0., 0., 0., 0., 0., 0., 0., 0., 0., 0., 0., 0., 0., 0.,\n",
       "       0., 0., 0., 0., 0., 0., 0., 0., 0., 0., 0., 2., 6., 1., 3., 2.])"
      ]
     },
     "execution_count": 128,
     "metadata": {},
     "output_type": "execute_result"
    }
   ],
   "source": [
    "b = fsm_states_7(X_train[0])[0]\n",
    "b"
   ]
  },
  {
   "cell_type": "code",
   "execution_count": 131,
   "metadata": {},
   "outputs": [
    {
     "data": {
      "text/plain": [
       "0.5783246604097833"
      ]
     },
     "execution_count": 131,
     "metadata": {},
     "output_type": "execute_result"
    }
   ],
   "source": [
    "corr = abs(np.corrcoef(a, b)[1,0])\n",
    "corr"
   ]
  },
  {
   "cell_type": "code",
   "execution_count": 134,
   "metadata": {},
   "outputs": [
    {
     "data": {
      "text/plain": [
       "numpy.ndarray"
      ]
     },
     "execution_count": 134,
     "metadata": {},
     "output_type": "execute_result"
    }
   ],
   "source": [
    "type(X_train)"
   ]
  },
  {
   "cell_type": "code",
   "execution_count": 175,
   "metadata": {},
   "outputs": [],
   "source": [
    "with open('data.txt', 'w') as f:\n",
    "    for item in train_sequences:\n",
    "        f.write(\"%s\\n\" % item)"
   ]
  },
  {
   "cell_type": "code",
   "execution_count": 176,
   "metadata": {},
   "outputs": [
    {
     "data": {
      "text/plain": [
       "list"
      ]
     },
     "execution_count": 176,
     "metadata": {},
     "output_type": "execute_result"
    }
   ],
   "source": [
    "type(train_sequences)"
   ]
  },
  {
   "cell_type": "code",
   "execution_count": 180,
   "metadata": {},
   "outputs": [
    {
     "name": "stdout",
     "output_type": "stream",
     "text": [
      "CPU times: user 0 ns, sys: 0 ns, total: 0 ns\n",
      "Wall time: 5.96 µs\n"
     ]
    }
   ],
   "source": [
    "%time\n",
    "read_seq = []\n",
    "with open('data.txt', 'r') as f:\n",
    "    line = f.readline().rstrip('\\n') \n",
    "    read_seq.append(line)\n",
    "    while line: \n",
    "        line = f.readline().rstrip('\\n') \n",
    "        read_seq.append(line)\n",
    "        "
   ]
  },
  {
   "cell_type": "code",
   "execution_count": 181,
   "metadata": {},
   "outputs": [
    {
     "data": {
      "text/plain": [
       "['XXXXXXXXXXXXXXXXXXXXXXXXXXXXXXXXXXXXXXXXXXXXX0|1&0',\n",
       " 'XXXXXXXXXXXXXXXXXXXXXXXXXXXXXXXXXXXXXXX0|1&1&1|1&0',\n",
       " 'XXXXXXXXXXXXXXXXX1&1|1|1|1&1|0|1|0&0|0&0|1&1&1&0&0',\n",
       " 'XXXXX0&0|1|0|0|0|0|1&0|0|1|1|1|1&1|1&1&0&0|0|0|1|1',\n",
       " 'XXXXXXXXXXXXXXXXXXXXXXXXXXX1&0&0|1|1|0|0|0|0|0&1|0',\n",
       " 'XXXXXXXXXXXXXXXXXXXXX1&0|1&0|1&1&1&0|1&1|0&1&0|0&0',\n",
       " 'XXXXXXXXXXXXXXXXXXXXXXXXXXXXXXXXX1&1&0&0|1|1&0&1&0',\n",
       " 'XXXXXXXXXXXXXXXXXXXXXXXXXXXXXXXXXXXXX1&1&0|1|1&1&1',\n",
       " 'XXX1|1|0&0&1&1|1|1&1|1|0&1&0|1&1&0|1|1&1|0|1|1&1|0',\n",
       " 'X1&1|0&0|0&0|1&0|1&0|1&1&1&0&0|1&0&0&0&0|1|1|0|1&1',\n",
       " 'XXXXXXXXXXXXXXXXXXXXXXXXXXXXXXXXXXXXXXXXX0|0&1&1&1',\n",
       " 'XXXXXXXXXXXXXXXXXXXXXXXXXXXXXXXXX0|1|0&1|1|1|0&0&0',\n",
       " 'XXXXXXXXXXXXXXXXXXXXX1|1&0&0|1|1&1&0&0&0|1|0&1&0|1',\n",
       " 'XXXXXXXXXXXXXXXXX1|0&0&1|1|1&1|0|1&1&0&1&1|0|0&0|1',\n",
       " 'XXXXXXXXXXXXXXXXXXXXXXXXXXXXXXX0|0|0|0&1|1&0&1|0|1',\n",
       " 'XXXXXXXXXXXXXXXXXXXXXXXXXXXXXXXXXXX0|0&0|1&1|0&0&1',\n",
       " 'XXX0|0&1&1&1&1&0&0|1&0&0&0&0&1|1|1|1&0|1&0&1&0&1&1',\n",
       " 'XXXXXXXXXXXXXXXXXXX1&1&1&1&0|1|1|0|0|0&0|0&1&0|0|1',\n",
       " 'X0&1&0|1|1|0&1|0|1|1|1|1|1&0&1&0|1|0&0&1&1|0|1|0&0',\n",
       " 'XXXXXXXXXXXXXXXXXXXXXXXXXXXXXXXXXXXXX1&0&1&0&1&0&0',\n",
       " 'XXXXXXXXXXXXXXXXXXXXXXXXXXXXXXXXXXXXXXXXXXXXXXX0&1',\n",
       " 'XXXXXXXXXXXXX1|0|1|0|1&1|1&1|0|0&1|0&1&1&0&1|0&0&0',\n",
       " 'XXXXXXXXXXXXXXXXXXXXXXXXXXXXXXXXXXXXXXXXXXXXX1&0|1',\n",
       " 'XXXXXXXXXXXXXXXXXXXXXXX1&0|1|0|0|0&1&0&1|1|0|1|0&0',\n",
       " 'XXXXX0&1|1|1|1|1&0|1|1|1|0&0&1&0&1|1|1|1&1&1&0|1|0',\n",
       " 'XXXXXXXXXXXXXXXXXXXXXXXXXXXXXXXXXXXXXXXXXXXXX1&0&0',\n",
       " 'XXXXXXXXXXXXXXXXXXXXX0&1&0&0&1&1|1|0&0&1|0&1&1&0|1',\n",
       " 'XXXXXXXXXXXXXXXXXXXXXXXXXXXXXXXXXXXXXXXXXXXXXXXXX0',\n",
       " 'XXXXXXXXXXXXXXXXXXXXXXXXXXXXXXXXXXXXXXXXXXXXXXX1|0',\n",
       " 'XXXXXXXXXXXXXXXXXXXXXXXXXXXXXXXXXXXXXXXXXXX0&1&0&0',\n",
       " 'XXXXX1|1&0|0&0&0|0&0|0|0|0&0|0|1&0&1|1&1&0|1&1|1&0',\n",
       " 'XXXXXXXXXXXXXXXXXXXXXXX0|0|1|0&0&0|1&1|0&0&0|1&0|1',\n",
       " 'XXXXXXXXXXXXXXXXXXXXXXXXX1|1&0|1&0|1&1&0&0&1|0&1&0',\n",
       " 'XXXXXXXXXXXXXXX1&1|0&1&1|1|0|1|0|0&1&0|1|0&0|1&0&1',\n",
       " 'XXXXXXXXXXX1&1|1&0&1&1&1&0|0|1|0|0&0&1|1&0|1&0&0|1',\n",
       " 'XXXXXXXXXXXXXXXXXXXXXXXXXXXXXXXXXXXXXXXXX1&1|0|0&0',\n",
       " 'XXXXXXXXXXX0&0|0|1&0|1&0|1&0|0|0|1&1|0&1|1&1&1|0&1',\n",
       " 'XXXXXXXXX1|1|1&1|0|0&0|0&1|1|0&1|1|0&0&0&1&1|1|0|0',\n",
       " 'XXXXXXXXXXXXXXXXXXXXXXXXXXXXX1&0|1&0|0&0&1&1&1&1&0',\n",
       " 'XXXXXXXXXXXXXXXXXXXXX0|1&0|1&0|0&0|0|0|1&0&1|1|0|1',\n",
       " 'XXX0&1&1&1|0&0&0&0|0&0|1|0&1|1|1&1|1|1|0&0|1&0&1|0',\n",
       " 'XXXXXXXXXXXXXXXXXXXXXXXXX0|0|0|1|1|0&1|0|0|1&0|1|1',\n",
       " 'X1|1&1|1&1|1|1&0|0&0&1&1|0|0&0|1|0&1|0&1&1&1|1&1&0',\n",
       " 'XXXXXXXXXXXXXXXXXXXXXXXXXXXXXXXXXXXXXXXXX1|1|1&0|0',\n",
       " 'XXX0|0|0&0&1&0|1|0|0|0|0&0|1&0&1&1|1&0&0&1&0|0&0|0',\n",
       " 'XXXXXXXXXXXXXXXXXXXXXXXXXXXXXXXXXXXXXXXXXXXXXXXXX0',\n",
       " 'XXXXXXXXXXXXXXXXXXXXXXXXXXXXXXXXXXXXXXXXXXXXX0|0|0',\n",
       " 'XXXXXXXXXXXXXXXXXXX1|0&0&1|0&1|1|1|1&0&1|0|0&0|0&0',\n",
       " 'XXXXXXXXXXXXXXXXX0&0|1|1|0&1|1|0|0|0&1|1|1&0&0&1|1',\n",
       " 'XXXXXXXXXXXXXXXXXXXXXXXXXXXXXXXXXXXXXXXXXXXXX0&0&0',\n",
       " 'XXXXXXXXXXXXXXXXXXXXXXXXXXXXXXXXXXXXXXXXXXXXX0&1&1',\n",
       " 'XXXXXXXXXXXXXXXXXXXXXXXXXXX0|1&0&1|1&1&1|1&0&0|0&0',\n",
       " 'X0&1&1|0&1|0&0|1|0&1|0&1|0|1|1|0&1&0&0&0&1|0|1&1|0',\n",
       " 'XXXXXXX0&1&0&0|0|0|1&1&1|0&0&1&0|0|0|1|1|0&0|0|1&1',\n",
       " 'XXXXXXXXXXXXXXXXXXXXXXXXXXXXXXXXXXXXXXXXXXXXX1&0|0',\n",
       " 'XXXXXXXXXXXXXXXXXXXXXXXXXXXXXXXXXXXXXXXXX1&1|0|1&0',\n",
       " 'XXXXXXXXXXXXXXXXXXX0&0&0&1|1&0&1&1&0&0|1&0&0&0&0&1',\n",
       " 'XXXXXXXXXXXXXXXXXXXXXXXXXXXXXXXXXXXXX1&0&1&0&1&1&1',\n",
       " 'XXXXXXXXXXXXXXXXXXXXXXX0|1|0&1|0&1|0|1&1&0&0|1&0|0',\n",
       " 'XXXXXXXXXXXXXXXXXXXXXXXXXXXXXXX0|0|1|1|0|1|1|0&0&1',\n",
       " 'XXXXXXXXXXXXXXXXXXXXXXXXXXXXXXXXXXX0&0&1|1&0|1|1|1',\n",
       " 'XXXXXXXXXXXXXXXXXXXXXXXXXXXXXXXXXXXXX0|0|1&1&1&1&1',\n",
       " 'XXXXXXXXXXXXXXX1|0|0&0&1&1&1&1|0&0|0&1|1|1&1&1|0&0',\n",
       " 'XXXXXXXXXXXXXXXXXXXXXXXXXXXXXXXXX0&0|1&1&1&1|0&1|0',\n",
       " 'XXXXX0&0&1&1&1|1&0&1|1|0&0|1|0|0|1|0|1|0|1&1|1&1&1',\n",
       " 'XXXXXXX1&1|0|1|0&1&1&0&1|1|0|0&1&1&0&0|0&0&1|1&0|0',\n",
       " 'XXXXXXXXXXXXXXXXXXXXXXXXXXX1|1&1|0&0&0|0|0|1|0&1&1',\n",
       " 'XXXXXXX0|0&0|1|0|0&0|0&1&1&0&0|1&0|0|0&0|1&0|0|1|1',\n",
       " 'XXXXXXXXXXXXXXXXXXXXXXXXXXXXXXX0|1&0|0|0&1&0&1&0|1',\n",
       " 'XXXXXXXXX0&0&0&1|0&0|0|1|0|1&0&0|1|0|0&0|0&0|0|0&1',\n",
       " 'XXXXXXXXXXXXXXXXXXXXXXXXXXXXXXXXXXXXXXXXXXXXX1|0&1',\n",
       " 'XXXXXXXXXXXXXXXXXXX0&1|1|1&0&0&1&0|1|0|0|0&0&1&0|1',\n",
       " 'XXXXXXXXXXXXXXXXXXXXXXXXXXX1|0|0|0&1|0&0|0&0&0|0|0',\n",
       " 'XXXXX0|0|1|1|0&0&0|0|1&1&1&1&1&0|0&0|1|0&1&0|1&0|0',\n",
       " 'XXXXXXXXXXXXXXX1|0|1&0|0|0|1&0|1&0|0|1|0|0&1&1|1|1',\n",
       " 'XXXXXXXXXXXXXXXXX0&1|1|0|0&0&1|0&0&0|1|1&1&1|1|0&1',\n",
       " 'XXXXXXXXXXXXXXXXXXXXXXXXXXXXXXX0&1|0&1&0&1|1|0|1|0',\n",
       " 'XXXXXXXXXXXXXXXXX1|0&1&1|1&0|0&0&0&1|0|0|0|1&0|0&1',\n",
       " 'XXXXXXXXXXXXXXXXXXXXXXXXXXXXXXX1|0|1|0&1&1&1&0|0|0',\n",
       " 'XXXXXXXXXXXXXXXXXXXXXXXXXXX1&1|0|0&0|1|0&1|0&0&1|1',\n",
       " 'XXXXXXXXXXXXXXXXXXXXXXXXXXXXXXXXXXXXXXXXXXXXXXX0|0',\n",
       " 'XXXXXXXXXXXXXXXXXXXXXXXXXXXXXXXXXXXXXXXXX0|0|0&1|0',\n",
       " 'XXXXXXXXXXXXXXXXXXX0|0&1&0&1&1|0|0&1|1&0&0&0&1&0&1',\n",
       " 'XXXXXXXXXXXXXXXXXXXXXXXXXXXXXXXXXXXXXXXXXXXXX0|0&1',\n",
       " 'XXXXXXXXXXXXXXXXXXXXXXXXXXXXXXXXXXXXXXXXXXXXXXXXX1',\n",
       " 'XXXXXXXXXXXXXXXXXXXXXXXXXXX1&1&0&1|0&1&0|0|0&1&1|0',\n",
       " 'XXXXX0|0&1|0|0&0&0&0&1&0|0|0&0|0&0&0|0|0|1|0|0|1&1',\n",
       " 'XXXXXXXXXXXXXXXXXXXXXXXXXXXXXXXXXXXXX0&1|0|1&0|0&1',\n",
       " 'XXXXXXXXXXXXXXXXXXXXXXXXXXXXXXXXXXXXXXX0|0&0|1&0&0',\n",
       " 'XXXXXXXXXXXXXXXXXXXXX1&0|0|0&0&0&1&0|1&1|0|1|1|1&0',\n",
       " 'XXXXXXXXXXXXXXXXXXXXXXXXXXX0|1&0&0&1&1&0|1|0&1&0|1',\n",
       " 'XXXXXXXXXXXXXXX1|0|1|0&0|0|1&0|1|1|1&0|0|1&1&0&0|0',\n",
       " 'XXXXXXXXXXXXXXXXXXXXXXXXXXX1|1|1&1&0|0|0&1&1|1|0|1',\n",
       " 'XXXXXXXXXXXXXXXXXXXXXXXXXXXXXXXXX1|0|1&0&0&0|1|1&0',\n",
       " 'XXXXXXXXXXXXXXXXXXXXXXXXXXX1|0|1|0|1&1&1|0|0&1&0|1',\n",
       " 'XXXXXXXXXXX1|1&0|1|0&1|1&0&1|0|0&1&1&1|0&0&0&0|1|0',\n",
       " 'XXXXXXXXXXXXXXXXX0|1&0|1&0|0&0&0&0|1&0&1&1|0&1&1|0',\n",
       " 'XXXXXXXXXXXXXXXXXXXXXXXXXXX1&1&1&0|1|0|0|0|0&1&1&0',\n",
       " 'X1&1&0&0|1&0|0|0&0&0&1|0|1|1|1&1|1|1&1&0&1&0|0|1&1',\n",
       " 'XXXXXXXXXXXXXXXXXXXXX0&1|1&1|0&1|1&0|0|1|1&1&1|0|0',\n",
       " 'XXXXXXXXXXXXXXXXXXXXXXXXXXXXXXX1|0|0|0&1|0&0&0|0|1',\n",
       " 'XXXXXXXXXXXXXXXXXXXXXXXXXXXXXXX0&0|0&1|1&1&1|0&0&0',\n",
       " 'XXXXXXXXXXXXXXXXX1&0|0|0&1|1&0&0&0|0|1|0&1&1&1&1|1',\n",
       " 'XXXXXXXXXXXXX0|1&1&1|1|0&0&0&0&1&1&1|0&0&0|1&0|1&1',\n",
       " 'XXXXXXXXXXXXXXX1&0|0|1|0|1&1|0|0&0|1|1&1&1|0|0|0&1',\n",
       " 'XXXXXXXXXXXXXXXXXXXXXXXXXXXXXXXXXXX1|0&0|0&1&1|1|1',\n",
       " 'XXXXXXXXXXXXXXXXXXXXXXXXXXXXXXXXXXXXXXXXX1|0&1&0&0',\n",
       " 'XXXXXXXXX1&0&1&0&1&1|0&1|0&0&1|1|1|1&1&0|0|0|1|0&0',\n",
       " 'XXXXXXXXXXXXXXX0&1&0|1&1&0|0|1&0&1&0&0|0|0|0|0&1|0',\n",
       " 'XXXXXXX1&1&1|0|1&0&0&0&1&0&1|0&0|0|1|0|1|1&1|0|0|0',\n",
       " 'XXXXXXXXXXX0|0|1|1&1|1|0&1|1|0&1&1|1&0&0|0&1|1&1&0',\n",
       " 'XXXXXXX1|1&1|1|0&0|1|1|1|1&1&0&1&0&1|1|0|0|1|0|1&0',\n",
       " 'XXXXXXXXXXX1&0&0|1&1&1|0&1&0|0|1&0&0|1|0|0|1&1&0&0',\n",
       " 'XXXXXXXXXXXXXXXXXXXXXXXXXXXXX1&1&1&1&0&1&1&0|0|1|1',\n",
       " 'XXXXXXXXXXXXXXXXXXXXXXXXXXXXXXXXXXXXX0|0|1|0|1|1|1',\n",
       " 'XXXXXXXXXXXXXXXXXXXXXXXXXXXXXXXXXXXXXXXXXXXXX1|1&1',\n",
       " 'XXXXXXXXXXXXXXXXXXXXXXXXXXX0&1&0&1&0&0&1&0|1&1&1|1',\n",
       " 'XXXXXXXXXXXXXXXXXXXXXXXXXXXXXXXXX0|0&0&0|0|0|0|1&0',\n",
       " 'XXXXXXXXXXXXXXXXXXXXXXXXXXX1&1|1&1|0|0|1|0&0&0|0&0',\n",
       " 'XXXXXXXXXXXXXXXXXXXXXXXXXXXXXXXXXXX0&1&0&1&1&1|1|1',\n",
       " 'XXXXXXXXXXXXXXXXXXXXXXXXXXXXXXXXXXXXXXXXXXX1&0&0&0',\n",
       " 'XXXXXXXXXXXXXXXXXXXXXXXXXXXXXXXXXXXXX1&0&1|0|1|0&0',\n",
       " 'XXX0&1|1|1&0|0&1&0&1|0|1|1&0&1|0|1|1&0|0&0&0|1|0&0',\n",
       " 'XXX0&0&1&0&1&0&0&0|1|1|1&0|1|1|0&1&1|1|1|1&1|0&0|0',\n",
       " 'XXXXX0|1|1|1|0|0&1&0&1&0|0&0&0|0|1|1&1|1|1&1|1&1&0',\n",
       " 'XXXXXXXXXXXXXXXXX1|0|0|1&0|1&1|1|1|1|1&1|1&1|1|1&0',\n",
       " 'XXXXXXXXXXXXXXXXXXXXXXXXX1&1|0&0&1&1|1&0&1|0|1|1&0',\n",
       " 'XXXXXXXXXXXXXXXXXXXXXXXXX1&1|0&1&0|0&1&1&1|0&1&0|1',\n",
       " 'X0&1|1|1|0&0&1|1|1&0&1&1&0&0&1|0|1|0&0&1&1&1&0|1|1',\n",
       " 'XXX1&0|1&0&1|1&1&1&0&0&0|1&1|0&1&0&1|0&1&0|1&0|0|1',\n",
       " 'XXXXXXXXXXXXXXXXXXXXXXXXXXX1&1&0&0|0&0|0&1|1|1&1&1',\n",
       " 'XXXXXXXXXXXXXXXXXXXXXXXXXXXXXXXXXXXXXXXXXXXXX0|1&1',\n",
       " 'XXXXXXXXXXXXXXXXXXXXXXXXXXXXXXX1|0&1&0&0|0&0&0|1|0',\n",
       " 'XXXXXXXXX1&0|0|1|1|1&1&1&1&0&1&0|1|0&1|0|0|1|1&0|0',\n",
       " 'XXXXXXXXXXXXXXX0|0&0&0|1|0|0|0|0&0&0|1|1&0&1&1|0|1',\n",
       " 'XXXXXXXXXXXXXXXXXXX0|1&1|1|1&0&0|1&0&0|1|0|1&1|0|1',\n",
       " 'XXXXXXXXXXXXXXXXXXXXXXXXXXXXXXXXXXXXXXXXXXXXXXXXX1',\n",
       " 'XXXXXXXXX1|1|0|1&1|0&1&1|1|1|1&0|1&1&1&0&0|0&0|0|1',\n",
       " 'X0|1|1&0&1&1&0&1|0&1&0&0|0&1&1&1&1|1|1&1&0|1|0&1&0',\n",
       " 'XXXXXXXXXXXXXXXXXXXXXXXXXXXXXXXXXXXXX0|1|0&0|0&1&0',\n",
       " 'XXXXXXXXXXXXXXXXXXXXXXXXXXXXXXXXXXXXX0|1&0&0&0&1|1',\n",
       " 'XXXXXXXXXXXXXXXXXXXXXXXXXXXXXXXXXXX1|1|1&1|1&0&1|0',\n",
       " 'XXXXXXXXXXXXXXXXXXXXXXXXXXX1&1&0|0&0&1&1|0&1&0&1&0',\n",
       " 'XXXXXXXXXXXXXXXXX0&0&1&0|1|0|0&1|1|0&0|0|1&1&1|0|0',\n",
       " 'XXXXXXXXX0&1&1|0|1|1&0&1|0|1&1&0|0&1&0|0|0|1|1&1|1',\n",
       " 'XXXXXXXXX1&1|0|1&1|0&0&1|0&0&0&0&0&1|1&0|1|1|1|1&1',\n",
       " 'XXXXXXXXXXXXXXXXXXXXXXX1|1|0|1&1&1&1&1&0|0&1|1&0|1',\n",
       " 'XXXXXXXXXXXXXXXXXXXXXXXXXXXXXXXXXXXXXXXXXXXXXXX1&1',\n",
       " 'XXXXXXX0|1&1|0&0&1|1|1|1|1|1&0|0&1|1|1&1|1&0&0&0|1',\n",
       " 'XXX0|0|0|1&0|0|0|0|1&0|0|1|0&1|1|0|0|1|1&0&0|0|1&1',\n",
       " 'XXXXXXXXXXXXXXXXXXXXXXXXXXX1|1|1&0|1|1|0&1|1|1&1&0',\n",
       " 'XXXXXXXXXXXXXXXXXXXXXXXXXXXXXXXXXXXXXXXXXXX0&1|0&1',\n",
       " 'XXXXXXX0|0|0|1&1|0&1|1|0&0|0|1&0&1&1&1&1&0&0&1&0&1',\n",
       " 'XXXXXXXXXXXXXXXXXXXXXXXXXXXXXXX0&0|0|1&0|0|1|1&1&0',\n",
       " 'XXXXXXXXXXX0&1&0&0|1|1|0&0&0&1&0|0|0&0|0|1&0|0&1|0',\n",
       " 'XXXXXXXXX1&0&1|0|0&0&0|1&0&0|1&1&1&0&1|0|0|1|0|1|0',\n",
       " 'XXXXXXXXXXXXXXXXXXXXXXXXXXXXXXXXXXXXXXXXXXX1&0&0|1',\n",
       " 'XXXXXXXXXXXXX0&1&1&1|1&1|1&0&1|1|1&1|0|0|1&1|0|0&1',\n",
       " 'XXXXXXXXXXXXXXXXX1&1&0&0|1|0&0&1|0&1|1&1&1|1|0&0&1',\n",
       " 'XXXXXXXXXXXXXXXXXXXXXXXXXXXXXXXXXXXXXXXXXXX1&0&1&1',\n",
       " 'XXX0|0|1|0&0|0|0&0&0&1&1&1&0|0|1&1&0|0&1&0|0|0|1|0',\n",
       " 'XXXXXXXXXXXXXXXXXXXXXXXXXXXXXXXXXXXXXXXXXXX0|1&0|0',\n",
       " 'XXXXXXXXX1&0|1&0|1&0|1|0|1|0|0&1&0&1&0&1|1&1|0|1&1',\n",
       " 'XXXXXXXXXXXXXXXXXXXXXXX0|1&1&1&1&1|1|0&0|1&1|0|0&0',\n",
       " 'XXXXXXXXXXXXXXXXXXXXXXXXXXXXXXXXXXXXXXXXXXXXX0&0&1',\n",
       " 'XXXXXXXXXXXXXXXXXXX1&1|1&1&0|1|0|1|1&1|1&0|1|0|0|0',\n",
       " 'XXXXXXXXXXXXXXXXXXXXXXX0&1&1&1|1&0|1&1&1&1|0&0|1|0',\n",
       " 'XXXXXXXXXXXXX1&0|1|0|0|1&1&0&1|1&0&0|0|1&0|1|1&0&1',\n",
       " 'XXXXXXXXXXXXXXXXXXXXXXXXXXXXXXXXXXX1&1|0|1|0|1&0|1',\n",
       " 'XXXXXXXXXXXXXXXXXXXXXXXXXXXXXXXXXXXXX1|0|0|0&1&1&1',\n",
       " 'XXXXXXXXXXXXXXXXXXX1&1&0|1&0|1|0&1&0|1|0|1&1&0|1&1',\n",
       " 'X1&0|1|0|0&1&0&1|0&1&1|1&0|1|1&1&0|0|0|1|0&1&1|1|0',\n",
       " 'XXXXXXXXXXXXXXX1|1|0&1&1|1|1|0&1|1|0&0&1&1&0&1|1|0',\n",
       " 'XXXXXXXXXXXXXXXXXXXXXXXXXXXXXXXXXXXXX1&1&1&1&0&1&0',\n",
       " 'XXXXXXXXXXXXXXXXXXXXXXXXXXXXXXXXXXXXXXXXXXXXX1|1|0',\n",
       " 'XXX0|1|0|1&1&1&0&0&1|0|1|0&1&1|0|0|1|1|0&0|0|0|0|0',\n",
       " 'XXXXXXXXXXXXXXXXXXX0|0|0|1&0|1&0|1|1|1&0|1&1&0|0&1',\n",
       " 'XXXXXXXXXXXXXXXXXXXXXXXXXXXXXXXXXXXXXXXXXXX0&1&1&0',\n",
       " 'XXXXXXXXXXXXXXX0|0|0&0|1&1&0|1|0|1|1|1|0|1|1&0&0|1',\n",
       " 'XXXXXXXXXXXXXXXXXXXXXXXXXXXXXXX1&1&1&1|0|0&0&0|1&0',\n",
       " 'XXX1&0|1&0|0&1|0&1&0&0&0&1|0&0&0&0&1&0&0|0&0|1|0&0',\n",
       " 'XXXXXXXXXXXXXXXXXXXXX0|1&1&0|0|0&0|1&0&0|1|0|1|0&1',\n",
       " 'XXXXXXXXXXXXXXXXXXXXXXXXXXXXXXXXX1&0&0&0&1|0|1|0&0',\n",
       " 'XXXXXXXXXXXXXXXXXXXXXXXXX0|1|0|1&0&0|1|1&0|1|0|0&1',\n",
       " 'XXXXXXXXXXXXXXXXXXXXXXXXXXXXXXXXX1|0&0&0&0&0&0&0&1',\n",
       " 'XXXXXXXXXXXXXXXXXXXXXXXXXXXXXXXXXXXXXXXXX0&1|1|0&0',\n",
       " 'XXXXXXX0&1|0&0|1|1&0&0&1&0&0&0|1&1|1&0|1|1&1&1|0|1',\n",
       " 'XXXXXXXXX0|0&0&1&0|1&0&1|0|0&1|1&1|1&1&1&0|1|1|0|0',\n",
       " 'XXXXXXXXXXXXXXXXXXXXXXXXXXXXXXXXXXXXX1|1|0&1&0|1|0',\n",
       " 'XXXXXXXXXXX1|0|1|1&1|1|1&1&1|0&0|1&0&0&1&0&0&1|1&0',\n",
       " 'XXXXXXXXXXXXXXXXX1&1|1&1&1&1&1|1|1&1|0|1|0|1&0|0&1',\n",
       " 'XXXXX0|1|0|1|0|0|1|0&0&0&1|0&0|1&1&0&1&1|1|0|0|1&0',\n",
       " 'XXXXXXXXXXXXXXXXXXXXXXXXXXXXXXXXXXXXXXX1|1|1|1&0&1',\n",
       " 'XXX0|1&0|0&0|1&1|0|1&1|1|0&0|1&0|1&1|1|1&0&1&0&0|1',\n",
       " 'XXXXXXXXXXXXXXXXXXXXXXXXXXXXXXXXXXXXXXX1|1|1|0&0&0',\n",
       " 'X1&1&1|1|0&0&0|0|1|0|0&1|1&1|1&0&0&0&1|0&0&1&0&1&1',\n",
       " 'XXXXXXXXXXXXXXXXXXXXXXXXXXXXXXXXX1&1&0|0|0|0&0&1|1',\n",
       " 'XXXXXXXXXXXXX0|1|1&0|0&1|0|0|0|1&0|1|1&0&1|1&0|0&1',\n",
       " 'X1&0|1|1&0|0|1|1|0|1&1&0&0|0&0|1&0|1|0&0&0|1&1|0|1',\n",
       " 'XXXXXXXXXXXXXXXXXXXXXXXXXXXXXXXXXXXXXXXXXXXXXXX1&1',\n",
       " 'XXXXXXXXXXXXXXXXXXXXXXXXXXXXXXXXXXXXXXXXXXXXX1|1|0',\n",
       " 'XXXXXXXXXXXXXXXXXXXXXXXXXXXXXXXXXXX1|0|0&1&0|0&0&1',\n",
       " 'XXXXXXXXXXXXXXXXXXXXXXXXXXXXXXXXX1|1&0&1&0&1|0&1&0',\n",
       " 'XXXXXXXXXXXXXXXXX0|1|1|1&0&0|1&1|1&0&1|1|0&0|0|1&1',\n",
       " 'XXXXXXX0&0|0|1&1|1|0|0|1&0&0&0&1&1|1&0|1&0&0&1|1|0',\n",
       " 'XXXXXXXXX0|1|0&0&1&1|1|1&0&1&0|0|0|0&1&1|0&0&0|1|0',\n",
       " 'XXXXXXXXXXXXXXXXXXXXXXXXXXXXXXXXX1&1&0|0&0&0&1&0&1',\n",
       " 'XXXXXXXXXXXXXXXXXXXXXXXXXXXXXXXXXXXXXXXXXXX0&0&1|1',\n",
       " 'XXXXXXXXXXXXXXXXXXXXXXXXXXXXXXX0|1|1|0&0|0&0|1&1|1',\n",
       " 'XXXXXXXXX0&0|1|1|1|0|1&1|0|0|0&0|0|0&0&0&1&1&1&1&1',\n",
       " 'XXXXXXXXXXXXXXXXXXXXXXXXX0|1&0&0&0&1|1|1|1|1&0&0&0',\n",
       " 'XXXXXXXXX1&1&1|1|0&1&0|0|1|0&0&1&0&1|0&0|0|1|1|1&1',\n",
       " 'XXXXXXXXXXXXXXXXXXXXXXXXXXXXXXXXXXXXXXX1&0|1|1&0&0',\n",
       " 'XXXXXXXXXXXXXXXXXXXXXXXXXXXXXXXXXXXXX0|1|0&1|0|0&1',\n",
       " 'XXXXXXXXXXXXXXXXXXXXXXX1|0&0&0|1&1|0&0&1&0|0&0&0|0',\n",
       " 'XXXXXXXXXXXXXXXXXXXXXXXXXXXXXXXXXXXXXXXXX1&1&1&1&1',\n",
       " 'XXXXXXXXXXXXXXXXXXXXXXXXXXX1&0&0|1|0|0|0&1&0&1|0|0',\n",
       " 'XXXXX0&0|0|1&0&1|1|0|0|1&1&0&1|1|0&0|1|1&0|0|1|0|0',\n",
       " 'XXXXXXX1&1&0&0|1|1&1|1&0&1|0&0|0&1&1&1|1&1&0|0&0|0',\n",
       " 'XXXXXXXXXXXXXXXXXXXXXXXXXXXXX0&0|0&0&0&1|0|0&1|1|0',\n",
       " 'XXXXXXXXXXXXXXXXXXXXXXXXXXXXXXXXXXXXXXXXXXX0&0&1&1',\n",
       " 'XXXXXXXXXXXXXXXXXXXXXXXXXXXXXXXXXXXXXXXXXXXXX0|1&0',\n",
       " 'XXXXXXXXXXXXXXXXX1|0&1|1&0&0&1|1&0&0&0|0|1|0|0|0&0',\n",
       " 'XXXXXXXXXXXXXXX0&1&0&1|0|0&0&0&1&1|1|1&1|0|0|1|1|1',\n",
       " 'XXXXXXX1|1|1&1|1&1|1&0&1&0&1&1&0&1&0&0&1|1|1&1|1&1',\n",
       " 'XXXXXXXXXXXXXXXXXXXXXXXXXXXXXXXXXXXXXXXXXXXXXXXXX1',\n",
       " 'XXXXXXX0|0|0&0&0|0|1&1|1&1&0&0&0&1|0|0&0|1&1|1|0&0',\n",
       " 'XXXXXXXXXXXXXXXXXXXXXXXXXXXXXXXXXXX1&0|1|1|1|0|0|1',\n",
       " 'XXXXXXXXXXXXXXXXXXX1|1&0|1|1|1|0&0&0|0|0&1|1&0|0&0',\n",
       " 'XXXXXXXXXXXXXXXXXXXXXXXXXXXXXXXXXXX1&0|1&0|1&0|1&1',\n",
       " 'XXXXXXXXXXXXXXXXXXXXXXXXXXX1|1|1|0|0&1|1&1&1|0&0|0',\n",
       " 'XXXXXXXXXXXXXXXXXXXXXXX0|1|0&1|0&0&1&0|0|1|1&1&0|1',\n",
       " 'XXXXXXXXXXXXXXXXXXXXXXXXXXXXXXXXXXXXXXX0&1&1|1|0&0',\n",
       " 'XXXXXXXXXXXXXXXXXXXXXXXXXXXXX1&0&0|1|1|0|1&1&0|0&0',\n",
       " 'XXXXXXXXXXXXXXXXX0&0&0|1&0&1&1|1|1&0&1|1|1&0&0|0&0',\n",
       " 'XXXXXXXXX1&1|1|1&1&1&1&0|0&1|0|1&0|0|0|1&1&1|1&0|0',\n",
       " 'XXX0|0&1&1|0|0&1|1|0&0&0|1&0|1&0&1|0&0|0|0&0|0&0&0',\n",
       " 'XXXXXXXXXXXXX0|1|1|1|1&1|1&0&0|0|0&1|0&0|1&0|1&1&1',\n",
       " 'XXXXXXXXXXXXXXXXXXXXXXXXXXXXXXXXXXXXX1&0|1&0&0&1&1',\n",
       " 'XXXXXXX1&0&1|1|0|1&0|0&0&1|1&1&0&0|0|1|1&0&0|0&1&1',\n",
       " 'XXXXXXXXXXXXXXXXX0&0|1&1|1&1|1|0&1|0|1&1&1|1&0&0&1',\n",
       " 'XXXXXXXXXXXXXXX1&0&0|1|0|1|0|0&0&0&1|0|1&1|0|0|1&0',\n",
       " 'X1|1|0|1|1|1&1|1|1|0&0|0|1&0|1&1&1&0|1|0|0&0|0&0|0',\n",
       " 'XXXXXXXXXXXXXXXXXXXXXXXXXXXXXXX0|0&1|0|1|0&1&1&0|0',\n",
       " 'XXXXXXXXXXXXXXXXXXX1&1&1|0|1|0&0&0|0&1|0&0&1|0|0|1',\n",
       " 'XXXXXXXXXXXXXXXXXXXXXXXXXXXXXXX0|1|1&0&1|0|1&1|0&0',\n",
       " 'XXXXXXXXXXXXXXXXXXXXXXXXXXXXX1|0|0|1&1|0&1|1|0|1&1',\n",
       " 'XXXXXXXXX1&1|0&0|0|1&1&0&0&0&0&1&1&0&1|1&0|0&1&1&0',\n",
       " 'XXXXXXXXX0|1&0|0|0&0|1|0|0|0&0&1&0&1&1&1|0&0&0&0|1',\n",
       " 'XXXXXXXXXXXXXXXXX0|0&0|1&0&0&0&0&0|1&0|0&1|0&0&0|1',\n",
       " 'XXXXXXXXXXXXXXXXXXX1&1|1&0|1|0|1|0|0|0|0|1&0&1|0&0',\n",
       " 'XXXXXXX0|1&0&0|1&1&1&1|1|0&1&1&1|1|1|0&0|0|0&1&1|0',\n",
       " 'XXXXXXXXXXXXX0|0&0|1|0|0&1|0|1&0&1|0&1&0&1|0|0|1&0',\n",
       " 'XXXXXXXXXXXXXXXXX0&1&1&0|1|1&1|0|1&1&0|0&0&1&0&1&1',\n",
       " 'XXXXXXXXXXXXXXXXXXXXXXXXXXX1|1&1|1|1|0|0&1|0|0|1|1',\n",
       " 'XXXXXXXXXXXXXXXXXXXXXXXXXXXXXXXXXXX1|1|1|0&0|0&1&0',\n",
       " 'XXX1|0|0&0&0&1|0|1|0&1&0|1|0|1|0|1&1|1|1&0&1&1&1&0',\n",
       " 'X1|1|0&0&0|1&0|1|1&0|1|0&1|0&1&0&0|0&0|0&0|1&0|1&1',\n",
       " 'XXXXXXXXXXXXXXXXXXXXXXXXXXXXXXXXXXX0&1&1&1&1&0|1&1',\n",
       " 'XXXXXXXXXXXXXXXXXXXXX1&1|0|1&1&0&1&1&1|1|0|0|1|0&1',\n",
       " 'XXXXXXXXXXXXXXXXXXXXXXXXX0|0&0|1|1|1&1|1|1|0&0|1|0',\n",
       " 'XXXXXXXXXXXXXXXXXXXXXXXXXXXXXXXXXXXXXXX0|1&0|0|0&1',\n",
       " 'XXXXXXXXX0|1|0|1&0&0&1|1&0&0&1&0|0&0|1|1|1&1&1|0&0',\n",
       " 'XXX1&1|1&1|0&0|0|1&0&1|0&0&0|1&1&1|0|1&1&0&1&0|0|0',\n",
       " 'X1|1&0&0|1&1|0&1|1&0&0|0|1|1|1|1|1|1|0|0|0&1&1&0&1',\n",
       " 'XXXXX0&0|1|0&0|1&1|0&0|1|1&0&0&0|0&1|0&1|1|1&0&1|0',\n",
       " 'XXXXXXXXXXXXXXXXXXXXXXXXXXXXXXXXXXX1|0|0|0|1|0|0|1',\n",
       " 'XXXXXXXXXXXXXXXXXXXXXXXXXXXXXXXXX1|1&1&1|1|0&1&1|1',\n",
       " 'XXXXXXXXXXXXXXXXXXXXXXXXXXXXXXXXX1&0|1|1|1&1&1|1|0',\n",
       " 'X1&1|1&0|0|1|1|0&1|0&1|0&0&1|1|1&0&0&1|0&1|1|0&0|1',\n",
       " 'XXXXXXXXXXXXXXXXXXXXXXXXXXXXXXXXXXXXXXXXXXX0&1|1&1',\n",
       " 'XXXXXXXXXXXXXXXXXXXXXXX1&1&1|0&1|0|0&0|0&1&0|1|1|0',\n",
       " 'XXXXXXXXXXXXXXXXXXXXXXXXXXXXXXX0&1&0&1|1|1&0|1&1&1',\n",
       " 'XXXXXXXXXXXXXXXXXXXXXXXXX0|1&1|0&1&0|1&1&0|0&1&0&1',\n",
       " 'XXXXXXXXXXXXXXXXXXX1&0|0&1|0|1&1&0|0&1&0|0&0|1&0&1',\n",
       " 'XXXXXXXXXXXXXXXXXXXXXXXXXXXXXXXXXXXXXXXXX1|0|0|1&1',\n",
       " 'XXXXXXX1|1&0|1|1|1|1|0|0|0|0&0|1|1&0&0|0&0&1&0|0&1',\n",
       " 'XXXXXXXXXXXXXXXXXXXXXXXXXXXXXXX0|0|1|1&0&1&0|0|1&0',\n",
       " 'XXX0&0|0|0|0&1|0|0&0&0&1&1|0&1|1&1|0&1&0|1|0&0&0&1',\n",
       " 'XXXXXXXXXXXXXXXXXXXXXXX1|0&1|0&0&1&1&0&0&0|0|0&0&1',\n",
       " 'XXXXXXXXXXXXXXXXXXXXXXXXXXXXXXX0&0&1&0|1|0|1|1&0&0',\n",
       " 'XXXXXXXXXXXXXXXXXXXXXXXXXXXXX0&0|1|1|1|0&0|1&1|0&0',\n",
       " 'XXXXXXXXXXXXXXXXX0|1&1&1|0|0&0|1&1&1&1|0&1&0&1|1&1',\n",
       " 'XXXXXXXXXXXXXXXXXXXXXXXXXXXXXXXXX1|0&0|1&1|0&0&1|1',\n",
       " 'XXXXXXXXXXXXXXXXXXXXXXXXXXXXXXXXXXXXXXXXXXX1|0&0|0',\n",
       " 'X1|0&0|0|1|0&1|0&1&0|0|0&1|1|1&0&0&0|0&0&0&0&1|0&0',\n",
       " 'XXXXXXXXXXXXXXXXXXXXXXX1|1|1|0|0&1&0|1|1|1&1&1|0|1',\n",
       " 'XXXXXXXXXXXXXXXXXXXXXXXXXXXXXXXXXXXXXXXXXXXXXXXXX0',\n",
       " 'XXXXXXXXXXXXXXXXXXXXXXXXXXXXX1|1|1&1&1|0|0|0|0|1|1',\n",
       " 'XXXXXXXXXXXXXXXXXXXXXXXXXXXXXXX1|1&0|1|0|1&1&0|0&1',\n",
       " 'XXXXXXXXXXXXXXXXXXXXXXXXXXXXXXXXXXXXXXXXX1|0&1|1&1',\n",
       " 'XXXXXXXXXXXXXXXXXXXXX1|1|1&1&1|0|0&1&0&0|0&1|1|1&1',\n",
       " 'XXXXXXXXXXXXXXXXX1&0&1|1&1&1&0|0|1|0|1&1&1&1|1&1|0',\n",
       " 'XXXXXXXXXXXXXXXXXXX1|0&1|1&0|1|0&1|1&0|1&0&1|1&1&1',\n",
       " 'XXXXXXXXXXXXXXXXXXXXXXXXXXXXXXXXXXXXXXXXXXXXXXX0|1',\n",
       " 'XXXXXXXXXXX1&1|1&0&0&1&1|1&1|0&1&0|0|0|0|1&0|1|1&1',\n",
       " 'XXXXXXXXXXXXXXXXXXXXXXXXXXXXXXXXXXXXXXX0|1&1&0&1|0',\n",
       " 'XXXXXXXXXXXXXXXXXXXXXXXXXXXXX0&1&0&1&1&1|1|1|0|1&0',\n",
       " 'XXXXXXXXXXXXXXXXXXXXXXXXXXXXXXXXXXXXXXXXXXXXX1|1&0',\n",
       " 'XXXXXXXXXXXXXXXXXXXXXXXXXXXXXXXXXXXXXXXXXXX1|1|1|1',\n",
       " 'XXXXXXX1|1&1&0|0&0|1&1|1|1|1|0&0|1|1&0&0|1&1&1&0|1',\n",
       " 'XXXXXXXXXXX0&1&1&1|1|0|0&1&0&0|1|0|1|0|1|0|1|1|0|0',\n",
       " 'X0|1&0&0&0&0|1|1&1&0&1&0|1|1&0&1&0&1|1&1|0|1&0&0|1',\n",
       " 'XXXXXXXXXXXXXXXXXXXXXXXXXXXXXXXXXXXXXXXXXXXXXXX0|0',\n",
       " 'XXXXXXX0|0|0|0&1&0&1&0&0&1&0|1|0&1&0&0&0&1|0&1|0|0',\n",
       " 'XXXXXXXXXXXXXXXXXXXXXXX0&0|0|1&1&0&0|0|0&0&0|0&1&0',\n",
       " 'XXXXXXXXXXXXXXXXXXXXXXXXXXX1|1|0&1|1|0|0|1&0|0&1&0',\n",
       " 'XXXXXXXXXXXXXXXXXXXXXXXXXXX0&0|0&1&0&1&1&1|1&0&1&0',\n",
       " 'XXXXXXX1&1|1|1|1|0&0&1&1&1|0&1|0|0|1|1|1|1&1&0&0&1',\n",
       " 'XXXXXXXXXXXXXXXXXXXXXXXXXXXXXXXXXXXXXXXXXXX1|1&0&0',\n",
       " 'XXXXXXXXXXXXXXXXXXXXXXXXX1|1|0&1&1&0&0&0|0|1&0&0|0',\n",
       " 'XXX0|1&1&0&1|1|1&0&0&1&1|1|0&0|0&1|1|1|1&0&0&1&1&1',\n",
       " 'XXXXXXXXXXXXXXXXXXXXXXXXXXXXX0&0&0|1&1|1&0&1|0&0&0',\n",
       " 'XXXXXXXXXXXXXXXXXXXXXXXXXXXXXXXXXXXXXXX1|1|1&0&1|0',\n",
       " 'XXXXXXXXXXXXXXXXXXX1&1|0&1|1|1|1&0|1|1|0|1|1&1|1&0',\n",
       " 'XXXXXXXXX1&1|1|1|1|0|1|1&0&1&1|0&1|0|1|1&1|0&0|1&0',\n",
       " 'XXX0&0|0&0&0|1&0|0|0&0|1|0&1&1|0|0&0&0&1|0|0&0|0&1',\n",
       " 'XXXXXXXXXXXXXXXXXXX0|0&0|0&0&0|1|1&0|1|0|1|0&0&0|0',\n",
       " 'XXXXXXXXXXXXXXXXXXXXXXXXXXXXXXXXXXXXXXXXXXXXX1&1|1',\n",
       " 'XXXXXXXXXXXXXXXXXXXXXXXXX1|1&1|0&0&1|0&0&0&1|0&1|0',\n",
       " 'XXXXXXXXXXXXXXXXXXXXXXXXXXXXXXXXXXXXXXXXXXX0&1|0&1',\n",
       " 'XXXXX1&1&0|1&0|0|1&0&0&0&0&1|0|1&0|0&1|0|0|0|0&1&0',\n",
       " 'XXXXXXX0|1|0|0|0|1|1&1&1&0|1&1&0&0&0&0|0|0&1&0&1|1',\n",
       " 'XXXXX1|0|1|1&0&1&0&1&1|1|0|0&1|1&1&1&0&0|1&1|0&0&1',\n",
       " 'XXXXXXXXXXXXXXXXXXXXX1|1|0&0|1&1&1|0|1|1|0|1|0|1|0',\n",
       " 'XXXXXXXXXXXXXXXXXXXXXXXXXXXXXXXXX0|1&0|0|0&0|0|0|1',\n",
       " 'XXXXXXXXXXXXXXXXXXXXXXXXXXXXXXXXXXXXXXXXXXXXXXXXX0',\n",
       " 'XXXXXXXXXXXXXXXXX1&0|1&1|1&1|1&1|1&0&1&1|0|1&0|1&1',\n",
       " 'XXXXXXXXXXXXXXXXX0|0&0&0|1&1|1&1&1|1|0|1|0|0|1|1|1',\n",
       " 'XXXXXXXXXXXXXXXXXXXXXXXXX0&1&1&0|1&0&1&1&0&1&1&0|1',\n",
       " 'X1&1|1|1|1&0&1|0|1|0|0&0&1|1&1&1|1&1&0&1|0&1&0&1&0',\n",
       " 'XXXXXXXXXXXXXXXXXXXXXXXXXXXXXXXXXXXXXXXXX0&0|1|1&1',\n",
       " 'XXXXXXXXXXXXXXXXXXXXXXXXXXXXXXXXXXX0|1&1&1|1|0|0&1',\n",
       " 'XXXXXXXXXXXXXXXXXXXXXXXXX0|1|1&1|1&1&1|1&0&1&1&1&1',\n",
       " 'XXXXXXXXXXXXXXXXXXXXXXX1&1|1&1|1&0|1|0|0|1|1|1|0&1',\n",
       " 'XXXXXXXXXXXXXXXXXXXXXXXXXXXXXXXXXXXXXXX1|0|1&1|0|1',\n",
       " 'XXXXXXXXX0|1&0&0&0|0&0&0&0|0|0|1|1|0&1&0|0&1&0&0|0',\n",
       " 'XXXXXXXXXXXXX1&1|0|0|0|0&1|1|1&0|1|1|0&1|0|0&1&0|1',\n",
       " 'XXXXXXXXXXXXXXXXX0|1|1&1&0&1&1&0|1&0&0&1&1|1|0|0|1',\n",
       " 'XXXXXXX0&0|0&0|1&1&1&1&0&1|1&1|1&0|0&1|0&0|0&0|1|1',\n",
       " 'XXXXXXXXXXXXXXXXXXXXXXXXXXXXXXXXXXX0&0|0|0|1|0&1&0',\n",
       " 'XXXXXXX0&1&1&1&0&0&0&1&0&0|0|1&1|0&0|1|0&0&0&0|0|1',\n",
       " 'XXXXXXXXXXXXXXXXXXXXX1&0&0|1&1|1|1|1&0&0|0|0|0&0&1',\n",
       " 'XXX0&1&1&0|0&0|0|1|1|1&1&0|0|0&1|1&1&1|1|0&1|1|0&0',\n",
       " 'XXXXXXXXXXXXXXXXXXXXXXXXXXXXXXXXXXXXXXXXXXXXX0&0&0',\n",
       " 'XXXXX1&1&1&1|1|1|1|1|0|1&0|0|1|1&1|1&1&1&1|0|0|1&1',\n",
       " 'XXXXXXXXXXXXXXXXXXXXXXXXXXXXXXXXXXXXXXXXXXXXXXX0&1',\n",
       " 'XXXXXXXXXXXXXXXXXXX1&1&1|1|0|1|0|1&1|1|1&1|0|0|0|0',\n",
       " 'XXXXXXXXX0&0|1&1&1&1|0|0|0|1|0&0&0&1|1&1&1|0|0&0|0',\n",
       " 'XXXXXXXXXXXXXXXXXXXXXXXXXXXXXXXXXXXXXXX1&0|1&0&0&0',\n",
       " 'XXXXXXXXXXXXXXXXXXXXXXXXXXXXXXXXXXX0|0|1&1|0|1&1&1',\n",
       " 'XXXXXXXXXXXXXXXXXXXXXXXXXXXXXXX1&1|0|1|0|1&0&1&0|0',\n",
       " 'XXXXXXXXXXXXXXX1|1&0|1|0|1&0&1&1&0|1|1|1&1&1&1|0|1',\n",
       " 'XXXXXXXXXXXXX1&1|1|0&1|1&0|0|0|1&1&1|1&0&0|1&0|1|0',\n",
       " 'XXXXXXXXXXX0|0|1|0&0&0&0|1|0|1&1&1|1&0&1|0|1&0|1|0',\n",
       " 'XXXXXXXXXXXXXXXXXXXXXXXXXXXXXXXXXXXXXXXXXXXXXXX1&1',\n",
       " 'XXXXXXXXXXXXXXXXXXX1|1&1|1&0|0|1&1&1|1&1&0&1|0&1|1',\n",
       " 'XXXXXXXXXXXXXXXXXXXXXXXXX0|0|1|1&1&0|0|0&0&1&1&0|1',\n",
       " 'XXXXXXXXXXXXXXXXXXXXXXXXXXXXXXXXXXXXXXXXXXX1|0|1|0',\n",
       " 'XXXXXXXXXXXXXXXXXXXXXXXXXXXXXXXXX1&0|1&1&1|0&1|0|1',\n",
       " 'XXXXXXXXXXXXXXXXXXXXXXX1|0&0&0|1&1|1|0|0|0&1|0|0&0',\n",
       " 'XXXXXXXXXXXXXXXXXXXXXXXXXXXXXXXXXXX0|0&1|1&0|1&0&0',\n",
       " 'XXXXXXXXXXXXX1|1&0|0&1&1|1|0&0|0|0&1|0|0|1&1&0|1|0',\n",
       " 'XXXXXXXXXXXXXXX0&0&0&0|0&1|0|1|1|0&0|1&0&1&0&0&1&0',\n",
       " 'XXXXXXXXXXXXXXXXXXXXXXXXXXXXXXXXXXXXXXXXXXXXXXXXX1',\n",
       " 'XXXXXXXXXXXXXXXXXXXXXXXXXXX0&0&0&0&0|1|1|1|0|0&0|0',\n",
       " 'XXXXXXXXXXXXXXXXXXXXXXXXXXXXXXXXXXX1&1&1|0&0&0&0&1',\n",
       " 'XXXXXXXXXXXXXXXXXXXXXXXXXXXXX1|1|0&0|0|1&1&1&1&1&0',\n",
       " 'XXXXXXXXXXXXX0&1|0|0|0&1|0|0|1|1|1&0|1&1&0|1|0|0|1',\n",
       " 'XXXXXXXXXXXXXXXXXXXXXXXXXXXXXXXXXXXXXXXXXXXXXXX0&1',\n",
       " 'X1&1|0|0|0&1&1&1&0|1&0&1&1&0&0|0&0|1&1&1&1|0|1|1|1',\n",
       " 'XXXXXXXXXXXXXXXXXXXXXXXXXXXXXXXXXXX1|1|1|0|1|1|1&0',\n",
       " 'XXXXXXXXXXXXXXXXXXXXXXXXXXX1|1&1|0|1|1&1&0&1|0&0|0',\n",
       " 'XXXXXXXXXXXXXXXXXXXXXXXXXXXXXXX0&1&1|0|1&0|0|0&0|0',\n",
       " 'XXXXXXXXXXXXXXXXX0&1&1&0&0|0&1|0|0&1&1|1&0|1|1&1&1',\n",
       " 'XXXXXXXXXXXXXXXXXXXXX1|1|0&0|0&0|1&0&0&0|0|0|1|0&0',\n",
       " 'XXXXXXXXX1|0|1&0|0|1|0|1|0&0&1&1&1|0|0&1&0|1|1&0|1',\n",
       " 'XXXXXXXXXXXXXXXXXXXXXXXXXXXXXXXXX1&0&0&0|0&0&1|0&0',\n",
       " 'XXX0|0&1&1|1|1&1|0|1&0&0&0&1|0|1&1&1&1|1&1|1&1|1|1',\n",
       " 'XXXXXXXXXXXXXXXXXXXXXXXXX1&1&1|1|0&1&0|1&1&1&1&1|0',\n",
       " 'XXXXXXXXXXXXXXXXXXXXXXXXXXXXXXXXXXXXXXXXXXXXX0&1|0',\n",
       " 'XXXXXXX0&1|0|1|0|0|0&0&0&0&1&1&1|1|0&1&1|0|1&1|1|0',\n",
       " 'XXXXXXXXXXXXXXXXXXX0|1|0&0|0|1|0|1&1&1|1|1|0|0&0|0',\n",
       " 'XXXXXXXXXXXXXXXXXXXXXXXXXXXXXXXXXXXXXXXXXXXXX0&0|1',\n",
       " 'XXXXXXXXXXXXXXXXXXXXXXXXXXXXXXXXX1&1&1|0&1|0|0|0&0',\n",
       " 'XXXXXXX1&0&1|1|0&1|0&1&1&0|0&0|0&1&1&0|1&0|1|0&0&0',\n",
       " 'XXXXXXXXX0&0|1&1&1&0&1&1|1|1&1&1&0&1&1&0&1|1|0&1&0',\n",
       " 'XXXXXXXXXXXXXXX1&1&0&1|1&0&0|1|1|1&1|1&1|1&0|0&1&0',\n",
       " 'XXXXXXXXXXXXXXX1&1|0&1|0&1|0|1|1&0|0|1&1|1&0&1&0&0',\n",
       " 'XXXXX1&1&0&0&0|1|1|1&0&0|0&0&0&1&0&0&0|0&1|1&1&0|1',\n",
       " 'XXXXX0&1&1|0|1&0&1&0|0&0&1&0|0|0|1|0&1&1&1&0&1&1&1',\n",
       " 'X1&1&1&0|1&0|1&0|1&0&1|1|0|1|0|1&1|0|0|1&0|1|1|0&1',\n",
       " 'XXXXXXXXXXXXXXX0|0|0&0&0&0|0|0&0&0|1&1&0&1|0|0&1&0',\n",
       " 'XXXXXXXXXXXXXXXXXXXXXXXXXXXXXXXXXXXXXXXXXXX1&1|1&1',\n",
       " 'XXXXXXXXXXXXXXXXXXXXXXXXXXXXXXXXXXXXXXXXXXX1&0&0|0',\n",
       " 'XXXXXXXXXXXXXXXXXXXXXXXXXXXXX0|0&1&1|1&0&1&1|1|0&1',\n",
       " 'XXXXXXX0|1&0&1|1|1&1|1&0&1&1|0&1|1&0|1|1|1&1&1&1&0',\n",
       " 'XXXXXXXXXXXXXXXXXXX1|1&0|0|1|0&0|1|1|0&1|0&1|1&0&0',\n",
       " 'XXXXXXXXXXXXXXXXXXXXXXXXXXXXXXXXXXXXXXXXX1|0|1|0|0',\n",
       " 'X1|1&0|0&0|1&0|0&0&1|0|0|0&1&0|0|1&1|0&1&0&0&1|0|0',\n",
       " 'XXXXXXXXXXXXXXXXX0&0&1|1&1|1|1&1&1&1|0|0&1&0|1|0&0',\n",
       " 'XXXXXXXXXXXXXXXXXXXXXXXXXXXXXXXXXXXXXXX0|1|0|1&1|0',\n",
       " 'XXXXXXX1|0&0|0|0&1|1&1|1|0&0|0|0&1&1|1&0&1&1|1|1|0',\n",
       " 'XXXXXXXXXXXXXXXXXXX0|0|0&0&1&1&0|1|0&0&0&1|0|1|0|0',\n",
       " 'XXXXXXXXXXXXXXXXXXXXXXXXXXXXXXXXXXXXXXXXXXXXX1|1&0',\n",
       " 'XXXXXXXXXXXXXXXXXXXXX0|0|1&1&0&1|1&0|0|0&1&1&1&1&1',\n",
       " 'XXXXXXXXXXXXXXXXXXXXXXXXXXXXXXXXXXXXXXXXXXX0&0&0|1',\n",
       " 'XXXXXXXXXXXXXXXXXXXXXXXXXXXXXXXXXXX0|1|0&1|0|1|1&1',\n",
       " 'XXXXXXXXXXXXXXXXXXXXXXXXXXXXXXX0|1|1&0|1|1&1&0|0&0',\n",
       " 'XXXXXXXXXXXXXXX1|0|0&0&0&0&1|0|0&1&0|1|1|0&1|1&1|0',\n",
       " 'XXXXXXXXXXXXXXXXXXX0&0|1|1&1|0&1&0|0&0&1&1&0|1&0&0',\n",
       " 'XXXXXXXXXXXXXXXXXXXXXXXXXXX1&1&1&0|1&0&1&1|1|1&0&0',\n",
       " 'XXXXXXXXXXXXXXXXXXXXXXXXXXXXXXXXXXXXXXX0&1|0|1&0|0',\n",
       " 'XXXXXXXXXXXXXXXXXXX0|0&1|1&1&0|0|1&1&1&0|0|0&1&1|0',\n",
       " 'XXXXXXXXXXXXXXXXXXXXXXXXXXXXXXXXXXXXX0|0&0&0&1&1&0',\n",
       " 'XXX0|0|0&1|1&0|1&0&1&1&0|0&1&1&0&1&0&0&1&0&1|1|1&0',\n",
       " 'XXXXXXXXXXXXXXXXXXXXXXXXXXXXXXXXXXXXXXXXXXXXX0|0|1',\n",
       " 'XXXXXXXXXXXXXXXXXXXXXXXXXXX1|0|1|0|0&1&0&0&1&0&0&0',\n",
       " 'XXXXXXXXXXXXX0&0|0|1&0&0&1&1&0|1|0&0&0|1|0&1|0&1&1',\n",
       " 'XXXXX0|1&0|1&1&0|1|0&1|1&1&0|0|0&1&0&0&1|1|0&1&0|1',\n",
       " 'XXXXXXXXXXXXXXXXXXXXXXXXXXXXXXXXX0&1&0|0&0|0|0&1|0',\n",
       " 'X0&0&1&1|1&1|1&1&1|1&1|1&1&0&1|0&1|0|1&1|1|1|1&0&0',\n",
       " 'XXXXXXXXXXXXXXXXXXXXXXXXXXXXX1|0|0|1&1&0&0&1&0|1&1',\n",
       " 'XXXXXXXXXXXXXXXXXXXXXXX0|0|1|1&0|0&1|0&0&1|1|1|1|0',\n",
       " 'XXXXXXX0&1&1|0&0&0&0&0|1&1|1&0&1|0|0|0&1&0&0|1|1&0',\n",
       " 'XXXXXXXXXXXXXXXXXXXXXXXXXXXXXXXXXXXXXXXXX1&1&0|0&1',\n",
       " 'XXXXXXXXXXXXXXXXXXXXXXXXXXXXX1|0|1|1|0|0|1|1|0&1|1',\n",
       " 'XXXXXXXXXXX1&1&0|0|1|1&1&0&1&1&1|0&0|1&0|0&1&0&1|0',\n",
       " 'XXXXXXXXXXX1&0|1|1&1|0|1&0|1&0|1|0|0&0&1&0&1|1|0|0',\n",
       " 'XXXXXXXXXXXXXXXXXXXXXXXXXXXXXXXXXXXXXXXXXXXXXXXXX1',\n",
       " 'XXXXXXXXXXXXXXXXXXXXXXXXXXXXX0|1&0&1&0&1&0|1|0|1&0',\n",
       " 'XXXXXXXXXXXXXXXXXXXXXXXXXXXXXXXXXXXXXXXXXXX0|1&1&1',\n",
       " 'XXXXXXXXXXXXXXXXXXXXXXXXXXXXXXXXXXXXX1&1&1|1|1&0&0',\n",
       " 'XXXXXXXXXXXXXXXXXXXXXXXXXXXXXXXXXXXXXXXXXXXXXXX1&1',\n",
       " 'XXXXXXXXXXXXXXXXXXXXXXXXXXXXXXX0&0&1|0&1|1|0&1|1|1',\n",
       " 'XXXXXXXXXXX0|0&0|1|0&1&1|1|1|0&1&1&0|1|0|1|1&0|1&0',\n",
       " 'XXXXXXXXXXX0&1|0|0|0&1&0|1|1&0|0|1&0&0|1&1|1&1|0&1',\n",
       " 'XXXXXXXXX1&0&1&0|0&1&0&0&0|0&1&1&1&0|1&0|1|0|1&1&0',\n",
       " 'XXXXXXXXXXXXXXXXXXXXXXXXXXX1&1&1|1&0|0|1|1|1&0|0|1',\n",
       " 'X0|0|1&0|1&1|1&1&1|1&1&1&0&1|1|0&1&0&1&1|0&1&0&0&0',\n",
       " 'XXXXXXXXXXXXXXXXXXXXXXXXXXX1|0&0&0&1|1&0&1|0&0&0&1',\n",
       " 'XXXXXXXXX0&0|0|0&1|1|0|0|0&1|1|0&1&0&1|0|1|1&0|0&0',\n",
       " 'XXXXXXXXXXXXXXX1&0&0&0|1&1&1|1|0&0|1&0&1&1&0|0|1|0',\n",
       " 'XXXXXXXXXXXXXXXXXXXXXXXXX1&1|0|0|1&1|1|0|0&0&0|0&1',\n",
       " 'XXXXXXXXXXXXX0|0&0|0&1|1&1&0&1|0|1&1|1&1&0&0&0|1&1',\n",
       " 'XXXXXXXXXXXXXXXXXXXXXXX1|1&0&1&1|1&0&0&1&0&1&0&1&1',\n",
       " 'XXXXXXX0|0&0|1|1&1&0&1|1|1&0|1&1&0|1&0|0|0&0|1&0|0',\n",
       " 'XXXXXXXXXXXXXXXXXXXXXXXXX0&1|0&1&0|1|0|0|0&1|0|0&1',\n",
       " 'XXXXXXXXXXXXXXXXXXXXX0|1&0&1|0&1&0&0|1&1&1&0|0&1&1',\n",
       " 'XXXXXXXXXXXXXXX1|1&1&1|0&0&0&1|1|1|1&0&0|0|1&0|1|0',\n",
       " 'X1&0|1|1&1|1&1|0|0|1&0&0|0|0&1&1|0|0|0|0&1|0&1|0|0',\n",
       " 'XXXXXXXXXXXXXXXXXXXXXXXXXXXXXXXXX1&0|0&1|1|1|0|1|0',\n",
       " 'XXXXXXXXXXXXXXXXXXXXXXXXXXXXXXX1|1&0|0&1|1|1|1|0&0',\n",
       " 'XXXXXXXXXXXXXXXXXXXXXXXXXXXXXXXXXXXXXXXXXXX1|0|1&1',\n",
       " 'XXXXXXX0&1&0|0|1&0|0&1&1|0|1|0&1|1&0&0|0&0|1|0|0|1',\n",
       " 'XXXXXXXXXXXXXXXXXXXXXXXXXXXXXXXXXXXXXXXXXXXXXXX1|1',\n",
       " 'XXXXXXXXXXXXXXXXXXXXXXXXXXXXXXXXX1|1|1&1|1&1&0&1|0',\n",
       " 'XXXXXXXXXXXXXXXXXXXXXXXXXXXXXXXXXXXXXXXXX0|0|1|0&1',\n",
       " 'XXX0|0|1&0|0|1&1&1&1|0&0|1|0&1&0|0&1&0|0|0&0&0|1&0',\n",
       " 'XXXXXXXXXXXXXXXXXXXXXXXXXXXXXXXXXXXXXXX1|1|1|1|0&1',\n",
       " 'XXXXXXXXXXX1&1|1|1|1|1&1|1&1&0&1&1&0&1|0&1|1|0&0&0',\n",
       " 'XXXXXXXXXXXXXXX0|0|0&0|1&1|1&0&1|1|0|1|1&1|1|0&1&1',\n",
       " 'XXXXXXXXXXXXXXXXXXXXXXXXXXXXX0|1|0|1&1|1|1|0&0|0&0',\n",
       " 'XXXXXXXXXXXXXXXXXXXXXXXXXXXXXXXXX1|0|1|1|1&1&0|0&1',\n",
       " 'XXXXXXXXXXXXXXXXXXXXXXXXXXXXXXXXXXXXXXXXXXXXXXX1|1',\n",
       " 'XXXXXXXXXXX1&1|1|1|0|1|0|0|0&0|1&1&0&1&1|1&0&1|1|0',\n",
       " 'XXXXXXXXXXXXXXXXXXXXXXXXXXX0&0|1&1|0|1|0&1|0&0&1&0',\n",
       " 'XXXXXXXXXXXXXXXXXXXXXXXXXXXXXXXXXXXXXXX1&1&0|1&1|0',\n",
       " 'XXXXXXXXXXXXX0|0&1|0&1&1&1|1|0|0&0|1|0&1&0|0&0&1|0',\n",
       " 'XXXXXXXXXXXXXXXXXXXXXXXXXXXXXXXXXXX1|1&0|1|0|1&1&0',\n",
       " 'XXXXXXXXX0&1&1&1|1|0|0|0&0|0&1|1|1|0|0&1|0|0&0&1&1',\n",
       " 'X0&1&0|0&1|1|1&1&0|1&0|0&0|0|1|0|0|1&0&0&1|0&0|1&1',\n",
       " 'XXXXXXXXXXXXXXXXXXXXXXXXXXXXXXX0|0|1|0&0&1|1|1|1|0',\n",
       " 'XXXXXXXXXXXXXXXXXXXXXXXXXXXXXXXXXXX1&0|1|1|0|0|1|1',\n",
       " 'XXXXXXXXXXXXXXXXXXXXXXXXXXX1&1&0|0&0&1|1|1&1|1|0&0',\n",
       " 'XXXXX1&1|0&1|1&0&1|0|0&1|1|1&1&1|1&0|0|1|1&1|0&1|1',\n",
       " 'XXXXXXXXX1&1|1|0|0|0&1|1&0|0&0&1&0|0&0&0&1|0|1|0&1',\n",
       " 'XXXXXXXXXXXXXXXXXXXXXXXXXXXXXXXXXXXXXXXXXXXXX1&1&1',\n",
       " 'XXXXXXXXXXXXXXXXXXXXXXXXXXXXXXXXXXXXXXXXXXX0&0&1&0',\n",
       " 'XXXXXXXXXXXXXXXXXXXXXXX0&1&0&1|0&0|0|0&1|1|1&0&0&1',\n",
       " 'XXXXXXXXXXXXX0&0&0|1&0&1|1|1|1|0|0&0&0&1|0|0&1&0&1',\n",
       " 'XXXXXXXXXXXXXXXXXXXXXXXXXXXXXXXXXXXXX1|0&1|1&0&0|0',\n",
       " 'XXXXXXXXXXXXXXXXXXXXXXXXXXXXXXXXXXXXXXXXXXXXXXX0|1',\n",
       " 'XXXXXXXXXXXXXXXXXXXXXXXXXXXXXXXXXXXXXXXXXXX1|0&0&0',\n",
       " 'XXXXXXXXXXXXXXXXXXXXXXXXX1|0&1|1&1&0&1&1|0|1&1|1&0',\n",
       " 'XXXXXXXXXXXXXXXXXXXXXXXXX1&0|1&1|0|1&1&1|0|0&1&0|1',\n",
       " 'XXXXXXXXXXXXXXXXXXXXXXXXXXXXXXX0&0|1|1|0|0&1&1|1|0',\n",
       " 'XXXXXXXXXXXXXXX0|1&1&1&1|0|1&1|1|1&1&0|0|0&0|0|1&1',\n",
       " 'XXXXXXXXXXXXXXXXXXXXXXXXXXXXXXXXXXXXX0|0&1&1&0|1&0',\n",
       " 'XXXXX1&1|1&0&1&0|1&0&1|1&1&0|1&0|1&1|0&1&1&1|1|0|1',\n",
       " 'XXXXXXXXXXXXXXXXXXX1|1&1&0&0|1&0|0|0|0|1&1|0|0&0&0',\n",
       " 'X1|0|1|0&0|0&0&1&0&0&1&1&1&0&0&0|1&1&1&1|1&1|1&1|0',\n",
       " 'XXXXXXXXXXXXXXXXXXXXX1&0&0|1|0|1&0&1&1|1|1|0&1|1|1',\n",
       " 'XXX0|0|1&0|1|0|1&0|1&1|0&1|1|1&0|0&0&1&1&0&0&1|1&1',\n",
       " 'XXXXXXXXXXXXX1|1&0|1|0|0|1&1|0|1|1&0|1&1&0&1&1|0|0',\n",
       " 'XXXXXXX0|0|0|0|1&0&0&0|0&0&1|1|0&1|0|0&1&0&0|1&1&1',\n",
       " 'XXXXXXXXXXXXXXX0|1|1&1|1&1|1|1&1&1&1|1&0&1&1&1&1&0',\n",
       " 'XXXXXXXXXXXXXXXXXXXXXXXXXXXXXXXXX1|1|1&0&1&1&1|1&0',\n",
       " 'XXXXXXXXXXXXXXXXXXXXXXXXXXX1&1&0&0|0|1&1|1|1&0&0|1',\n",
       " 'XXXXXXXXXXXXXXXXXXXXXXXXXXXXXXXXX0|0&0|0&0&1&0&0&1',\n",
       " 'XXXXXXXXXXXXXXXXXXXXXXXXXXXXXXXXXXXXX0&0&0|0|1|0|1',\n",
       " 'X0|0&1&1|1|1|0|0&0&1&1&1|0&1&0|1&1|1|1|1&1&0|1&1|1',\n",
       " 'XXXXXXXXXXXXXXXXXXXXXXXXXXXXXXX0|1|1|0|0|1|1|1&0&0',\n",
       " 'XXXXXXXXXXXXX0|1&1&0|0&0&1&1&0&1|0&1&0&1|1|0|0|1|1',\n",
       " 'X0|0&0&1&1&0&1&0|0|0&0&1|1|1&0|1&1&1&0|0&1|1&1&1|1',\n",
       " 'XXXXXXXXXXXXXXXXXXXXXXXXXXXXXXXXXXXXXXXXX1|1&0|0&0',\n",
       " 'XXXXXXXXXXXXXXXXXXXXXXXXXXX0|1&0&1|0|1|0|1|0|0|0&0',\n",
       " 'XXXXX0|0|0|1&1|0&0|0|0&0|1|0&0&0&1&0|1&0|1&0&1|0&1',\n",
       " 'XXXXXXXXXXXXXXXXXXXXXXXXXXX0|0|1&0&0|0|0|1|0|0|1|1',\n",
       " 'XXXXXXXXXXXXXXXXXXXXXXXXXXXXXXXXXXXXXXXXXXXXXXX1&0',\n",
       " 'XXXXXXXXXXXXXXXXXXXXXXXXX0&1|0|0&1|1&0&0&0|1&0|1|1',\n",
       " 'XXXXXXXXXXXXXXXXXXXXXXXXXXXXXXXXXXXXXXX0|0|1|0|0&1',\n",
       " 'XXXXXXXXXXXXXXXXXXXXXXXXXXX1&1&1|0&0&1|0&0|0&0|0&1',\n",
       " 'X0&1|1|0&1|1|1|0&1&0|0|1|1&0|1&0&1&1&0|0|1&1&1|0&1',\n",
       " 'XXXXXXXXXXXXXXXXXXX0&0&0|1|0|1&1|1&1|1&1|1|0&0|0|0',\n",
       " 'XXXXXXXXXXXXXXXXXXXXXXXXXXXXXXXXXXX0|1&1&1|1&1&1&0',\n",
       " 'XXXXXXXXXXXXXXXXXXXXXXXXXXXXXXXXXXXXXXXXXXXXXXX1|1',\n",
       " 'X1|1&0|0&1&1|1|0|1&0|1&0&1|1|0&0|1&0|1&1&1&1&0|0&1',\n",
       " 'X1&0&1|0|0&0&1|1&1|1|0&0&0|0&1&0|1&0&0&0&0|0&0|0|0',\n",
       " 'XXXXXXXXXXXXXXXXXXXXXXXXXXXXXXX0|0&1|0|1|0|0|0&0&0',\n",
       " 'XXXXXXXXXXXXXXXXXXXXXXXXXXXXXXXXXXXXXXXXXXXXX0|1&0',\n",
       " 'XXXXXXXXXXXXXXXXXXXXXXXXXXX0|0|1&0|0&1&0|0&0|0|0|0',\n",
       " 'XXX1&1|1&0&1|1&1&0|0|1|1|1|1|1|1&1|1&1|1&1&1|1|1&1',\n",
       " 'XXXXXXXXXXXXXXXXXXXXXXXXX0&0|1|0|1&1|0|1|0|0&0&0&1',\n",
       " 'XXXXXXXXXXXXX0|0|0|1|0|1|1&1&0&1|0&0|0|0&0&1&0|0|1',\n",
       " 'XXXXXXXXXXXXXXXXXXXXXXXXXXXXXXX0|1|1&0|0&0&1&0&1|1',\n",
       " 'XXXXXXXXXXXXXXXXXXXXXXXXXXXXX1|0&0|1&1|1&1&0|1&0&0',\n",
       " 'XXXXXXXXXXXXXXX0|0|1|0&1|0&0|1|1&1|0&1&0|1|0|1&0&0',\n",
       " 'XXXXXXXXXXXXXXXXXXXXXXXXXXXXXXXXXXXXXXX1|0|1&1&0&1',\n",
       " 'XXXXXXXXXXXXXXXXXXXXXXXXXXXXXXXXXXXXXXXXXXXXXXX0&0',\n",
       " 'X1&1|1|0|0|1|1|0|0|0&1|1|0|1&0|0|1|0&1|1|1|1&0|0|0',\n",
       " 'XXXXXXXXXXXXXXXXXXXXXXXXX0|1&0|1|0|1&1|1&1|1&0|0|1',\n",
       " 'XXXXXXXXXXXXX0&1&0|0|1&0|0|0|0|1|1&0&1|0&1|1|1&0|1',\n",
       " 'XXXXXXXXXXXXXXXXXXXXXXXXXXXXXXXXXXXXXXXXX1|1&1|1|1',\n",
       " 'XXXXXXXXXXX0&1&0|0&1&0|1&1&0|0&0&1&0&1|1|0|0|0&1|1',\n",
       " 'XXXXXXXXXXXXXXX0&1|1|1|0&1|1&0&1|1&1&1|0&0|0|1&0&0',\n",
       " 'XXXXXXXXXXXXXXXXXXXXXXXXXXXXXXXXXXXXXXXXXXX1&1|0|0',\n",
       " 'XXXXXXXXXXXXX1&1|1|0|1|1&0|1&0&0|0|0|0|0&1&0|0|0|1',\n",
       " 'XXXXXXXXXXX0|1|0|1|0|0|0&1&0&0|0&0&1|0|1|1&1|1|0|0',\n",
       " 'XXXXXXXXXXXXXXXXXXXXXXX0&1&0|1|0&1&0|1|0&0|0&0|1|1',\n",
       " 'XXXXXXX0|0|1&0|1&1&0|0|0&0&1|0|1|0&1&1&0|1&0|1&1|1',\n",
       " 'X1|0&0&0&0|0|0&0&0&1&1&1|1|0|0|1&0|1&0&0&0&1|0|0|1',\n",
       " 'XXXXXXXXXXXXXXXXXXX1&0|0&0|0&1|1&0&0&0&1&1|1&1|1|0',\n",
       " 'XXXXX0|0|1|1&1|0|1&0|1&1&0&0&0&0&0|1|0|0|0&0|1&1|0',\n",
       " 'XXXXXXXXXXXXXXXXXXXXX0|0&1|0|0|1&0&1&0|1&1&1|0|1|1',\n",
       " 'XXXXXXXXXXXXXXXXXXXXXXX0|1&0&0|0|0&0&1|1&0&0&0|1&1',\n",
       " 'XXXXXXX1|1&0|1|0|1&0|0&0|1&0|0|0|1|1&0&0|1&1&0|0&1',\n",
       " 'XXXXXXXXXXXXXXXXXXXXXXXXX0&0|0|1|0&1&1&1&1&0|0&1&0',\n",
       " 'XXXXXXXXXXXXXXXXXXXXXXXXXXXXXXXXXXXXXXXXXXX0|1|0&1',\n",
       " 'XXXXXXXXXXXXXXXXXXXXXXXXX1|1|0&0&0|0|0&1&0&1&1|1|1',\n",
       " 'XXXXXXXXXXXXXXXXXXXXXXXXXXXXXXXXX1|1&0&1&1&0|0|1|1',\n",
       " 'XXXXXXXXXXXXXXXXXXXXXXXXXXXXXXXXXXXXXXXXXXXXXXXXX1',\n",
       " 'XXXXXXXXXXXXXXXXXXXXXXXXXXXXXXXXX0|0&1&0|0&0|1|0&1',\n",
       " 'XXX0|1&1|0|1&0|1|0&1|1&1&1|1|0&0|1|0|0|1|1|1|0&1|0',\n",
       " 'XXXXXXXXXXXXXXXXXXXXXXXXXXXXXXXXXXXXXXXXXXXXXXX1&1',\n",
       " 'XXXXXXXXXXXXXXXXXXXXXXXXXXXXXXXXXXX1|1|0|1|1|0|1&0',\n",
       " 'XXXXXXXXXXXXX1&0&0|1|0|0&0|1|0&0|0&1&1|0&0|0|1&1&0',\n",
       " 'XXXXXXXXXXXXXXXXXXXXXXXXX1&1&0&1&0&0|0|0&1&1&0&1&0',\n",
       " 'XXXXXXXXXXXXXXXXXXXXXXXXXXXXXXXXXXXXXXXXX1|0|1|1&0',\n",
       " 'XXXXXXXXX1&1&1|1|1&0|1|1|0|1&1|1&1&1|1|0&1|1&1|1&1',\n",
       " 'XXXXXXXXXXXXXXXXXXXXXXXXXXXXXXXXXXXXXXXXXXXXXXX1&0',\n",
       " 'XXXXXXXXXXXXXXXXXXXXXXXXXXXXXXX1|1&0&1|1&0|0|0|1|1',\n",
       " 'XXXXXXXXXXXXXXXXXXXXXXXXXXXXXXXXXXX0|0|1&0&0|0&0&0',\n",
       " 'XXXXXXXXXXXXXXXXXXXXXXXXXXXXXXXXXXX1|1|1&0&1&1|0&0',\n",
       " 'XXXXXXXXXXX1&0&1&0&1&1|0&0|0|1&1|0|0|0&0&1&1&0&0|1',\n",
       " 'XXXXXXX1|0|1|1&0&1&1&0&0&1&1|0|1|0&1&0&1&0&0&1|0&1',\n",
       " 'XXXXXXXXXXXXXXXXXXXXXXXXXXXXX0|1|0|1|0&0|1&0&0|1|1',\n",
       " 'X0|1&0&1|0&1&1|1|1|1&0&0|1|0&0|1&1&0|0&1|1|1&0|0&1',\n",
       " 'XXXXXXXXXXXXXXXXXXXXXXXXXXXXXXXXXXXXXXXXXXXXX0&1|0',\n",
       " 'XXXXXXXXXXXXXXXXXXXXXXXXXXXXXXX1&0&0|1&1&0|1&0|1|0',\n",
       " 'XXXXXXXXXXXXXXXXXXXXXXXXXXXXXXXXX1&0&0&1|0&0|1&1&0',\n",
       " 'XXXXXXXXXXXXXXXXXXXXXXXXXXX0&0&0|1|1&1|1|1|0|1|1&1',\n",
       " 'XXXXXXXXXXX1|0&0&1|0&1|0|1&0|1|0|0|0|1&1&0&0&0&0|1',\n",
       " 'XXXXXXXXXXXXXXXXXXXXXXXXXXXXXXXXXXXXXXXXX0&1|1&1&0',\n",
       " 'XXXXX0|0&1|0&1&1&0&1&0|1|0|0|1|0&1|1&0|1|1|1&1|0&0',\n",
       " 'X1|0|0&0&1&1&0|1&1&0|0|1&0&0|1|1|0&0|0&0|1&1|0&0&0',\n",
       " 'XXXXXXXXXXXXXXXXX0&0&0|1&1&0&1&0|1|1&1|1|0&0|0|0&0',\n",
       " 'XXXXX0&0&0|1|1&1|1&0|1&1|0&1&1|1|0|0&0|1&0&0|1&0|1',\n",
       " 'XXXXXXXXXXXXXXXXXXXXXXXXXXXXXXXXXXX1|1|1|1&0&1&0&0',\n",
       " 'XXXXXXXXXXXXXXXXXXXXXXX1&0|0&1|0&0&1|0|1&0&1&1|1|1',\n",
       " 'XXXXXXXXXXXXXXXXXXX1&1&1&1&1&1|1&1&1|0|0|1&1|0&1|1',\n",
       " 'XXXXXXXXXXXXXXXXXXXXXXXXXXXXXXXXXXXXXXXXXXX0&1&1&0',\n",
       " 'XXXXXXXXXXXXXXXXXXXXXXXXXXXXXXX1&0&1|1&0&0|1&0|1&1',\n",
       " 'XXXXXXXXXXXXXXXXXXXXXXX1&0&1|1&1&1&0&0|0|0&1|0|0&1',\n",
       " 'XXX0&0&0&1&1&0|0|0|0|0&0|0|1&1&0&1|0&1&0&0&1|1&1|0',\n",
       " 'XXXXXXXXXXXXXXXXXXXXXXXXXXXXXXXXXXXXX0&1|0&1&0|1|0',\n",
       " 'XXXXXXXXXXXXXXXXXXXXXXXXXXXXXXX1|1&1&0&0&0|1&1&1|0',\n",
       " 'XXXXXXXXXXXXXXXXXXXXXXXXXXXXX0&1&0&1&1&0&1|1|1|0&0',\n",
       " 'XXXXX1|1&0&0&1&1&0|0|1&0|1|0&0&1|1|1&0|0&1&0&1|0&1',\n",
       " 'XXXXXXXXXXXXXXXXXXXXXXXXXXXXXXXXXXX0&1&1|1&0&0|0&0',\n",
       " 'XXXXXXXXXXXXXXXXXXX0&1|0&0&1&0&0&0|0|0|0&0&1|1&0|0',\n",
       " 'XXXXXXXXXXX1&1&1&0|0|0|1|0&0|1&1&1|0|0|0|0|0&1|1&1',\n",
       " 'XXXXXXXXX1&1&1&0|0&0|1|0|0|0|1|1&1&1|1|1|1&0|1|1&0',\n",
       " 'XXXXXXXXXXXXXXXXXXXXXXXXXXXXX0|1&0&0|1|1&0|1&0|0&1',\n",
       " 'XXXXXXXXXXXXXXXXXXXXXXXXXXXXXXXXX1|0|1&1&0|1&0&1&0',\n",
       " 'XXXXXXXXXXXXXXXXXXXXX1&1&0&0&0|0|1&0&0&0|0&0|1|0|0',\n",
       " 'X0&0&1&1&1&1&0&1|1|1&1|0|1|0|1&1|1&1&0|1&0|1&1|0|1',\n",
       " 'XXXXXXXXXXXXXXXXXXX0&0&1&1&0&0&0|1&1&1|0|1|0|0&1&0',\n",
       " 'XXXXXXXXXXXXXXXXXXXXXXXXXXXXXXXXXXXXXXXXX0|0&0&0&0',\n",
       " 'XXXXXXXXXXXXXXXXXXXXXXXXX1|1|1|1&1&1&0|0&0&0|0&1|1',\n",
       " 'XXXXXXXXXXXXXXXXXXXXXXXXXXXXXXXXXXXXXXXXX1|1|1|0|1',\n",
       " 'XXXXXXXXXXXXXXXXXXXXXXXXXXX0|0&1|1&0&0|1&0|1&1|0|1',\n",
       " 'XXXXX0|0|0|0|0&0&1|1|0|1&1&1|1&0|1|1|1|1|0|1|1|1|0',\n",
       " 'XXX0|1|1|1&1|1&1|0|0|1&0&0&0|0|1|1|0&1|0&1|1&1&1&0',\n",
       " 'XXXXXXXXXXXXXXXXXXXXXXXXXXXXXXX0&0|0|0|1&0&1&0|1&0',\n",
       " 'XXXXXXXXXXXXXXXXXXXXX1|0|1&1&0&1&0&1&0|1|1|1&1&0&0',\n",
       " 'XXXXXXXXXXXXXXXXXXXXXXXXX1&0&0&1|0|1&0|1&0&0&1|1&0',\n",
       " 'XXXXXXXXXXXXXXXXXXXXXXXXXXXXXXXXXXXXXXXXXXXXXXX0&1',\n",
       " 'XXXXXXXXXXXXXXXXXXXXXXXXXXXXXXXXXXXXXXXXX1|1|1&1&0',\n",
       " 'XXXXXXXXXXXXXXXXXXXXXXXXXXXXXXXXXXXXXXXXXXXXX0&1|0',\n",
       " 'XXXXX1&0|0&0&1&1|1|1|1|1&0|0|1&1|0|1&1|0|0&0&0|0|1',\n",
       " 'XXXXXXXXXXXXXXXXXXXXXXXXXXXXX1&0&1&1&0|0|1|0|1|1&0',\n",
       " 'XXX1|1|1|0&1|0&1&1|0|0|0|0&1&1|1|1|1&1|0&1&1|0|1&1',\n",
       " 'XXXXXXXXXXXXXXXXXXXXXXXXX1|1&1&0|0|1&0|1|1&0&0&0&0',\n",
       " 'XXX1|1|1|1&1&1|1&1|0|0&1&0&1|1&0&1|0&0&1&1&1&0&0&0',\n",
       " 'XXXXXXXXXXXXXXXXXXXXXXX1&0&0&1|0|1|0&0&0&0&1|1&0&0',\n",
       " 'XXXXXXXXXXXXXXXXXXXXXXXXXXXXXXXXXXXXXXX1&0|1|1|0&1',\n",
       " 'XXXXXXXXXXXXXXXXXXXXXXXXXXXXXXXXXXX1&1|0|0&1&0|1&1',\n",
       " 'XXXXXXXXXXXXXXXXXXXXXXXXXXXXXXXXX1&1&0|1&0|1|1&1|0',\n",
       " 'XXXXXXXXXXXXX0|0|1&1|1&0|1|0|0|0|1|1&1&1|1|1|1|1|0',\n",
       " 'XXXXXXXXXXX1|1|1|1&1&0|0&0&1|0|1|0|1|0&0|0|1&1&1|1',\n",
       " 'XXXXXXXXXXXXXXXXXXXXXXXXX1&1|0&1|0|0|1&1|1|0|1|1&1',\n",
       " 'XXXXXXXXXXXXXXXXXXXXXXXXXXXXX1|0|0&0|1|1|1|0|0&0&1',\n",
       " 'X1&0|1|1&1|1|1&0&1&0|0&0&1|1&0&1&0|1&0|1&0|1&1&0|1',\n",
       " 'XXXXXXXXXXXXXXXXXXXXXXXXXXXXXXXXXXXXXXXXXXXXXXXXX1',\n",
       " 'XXXXXXXXXXXXXXXXXXXXXXXXXXXXXXXXXXXXX1&1|0|1&1|0&0',\n",
       " 'XXXXX0|0|0|1&0|0|0&1&1&0&1|0&1|0&1&0&0|1|1|0&1&0&1',\n",
       " 'XXXXXXXXXXXXXXXXXXXXXXXXXXXXXXXXXXXXXXXXXXXXXXX0&1',\n",
       " 'XXXXXXXXXXXXXXXXXXXXXXXXX1&1&0|1&1&1|0|0|1|0|1&0|1',\n",
       " 'XXXXXXXXXXXXXXXXXXXXXXX0|0&1|0&0|0|0|1&0|1&0|0&1|0',\n",
       " 'XXXXXXXXXXX1|1|0&1|1&0|0&0|1&1&0|0&0&0|1|0|1|1&0&0',\n",
       " 'XXXXXXXXXXXXXXXXXXXXXXXXXXXXX0|0|0&1&1|0&0|0|0&1|1',\n",
       " 'XXXXXXXXXXXXXXXXX1|1&1&1|0|0&1&0|0|0|0&1&1&1&0|0|0',\n",
       " 'XXXXXXXXX0&0|1|1&1&1|1&1|0|1&0&0&0&1|0|1|1&1&1&1&0',\n",
       " 'X1|0|1|0&0|0&1|1&1|0|0&1&0|0|0|0&0&0&1|1&1|1&1|1|1',\n",
       " 'XXXXXXX0|1|0&0&1&1|1|0|1&1&0|1|1|0|1|0|0&0&1|1|1&1',\n",
       " 'XXXXXXXXXXX1|0&1|1|1|1|0&1|0|0&0|0|0|0|1|1&0|0|0|1',\n",
       " 'X0&1|0|1|1|0&1&0&0|0|1&0&0&1|1&1|1&1&1&0|1|1|1&1|0',\n",
       " 'XXXXXXXXXXXXXXXXXXXXXXXXXXXXXXXXX1&1|1&1|0&1&0&0|0',\n",
       " 'XXXXXXXXXXXXXXXXXXX1|1&0|1&0&0|1|1|0|0|1&1|1&1&1|0',\n",
       " 'XXXXXXXXXXXXXXXXXXXXXXXXXXXXXXXXXXXXXXX0&0|1|0&1|0',\n",
       " 'XXXXXXXXXXXXXXXXXXXXXXXXXXXXXXXXXXXXXXXXXXX1|0&1|1',\n",
       " 'XXXXXXXXXXXXXXXXXXXXXXXXXXX1&0|1|0&0|0&0|0&0&0|0&1',\n",
       " 'XXXXXXXXXXXXXXXXX1&1&0|0|0&0&0|1|0&1&0&1|0&1|0&0|0',\n",
       " 'XXXXXXXXXXXXX1|1|0|1|0|0&1|0&1|1|1|1&1|1&0&0&1|1&0',\n",
       " 'XXXXXXXXXXXXXXXXXXXXX0|0|1|0&0&1&1&1&1|1&0|1&1|1|0',\n",
       " 'XXXXXXXXXXXXXXXXXXXXXXXXXXXXXXXXXXXXXXXXX1|0&1|1|1',\n",
       " 'X0|0|0&1&0|1&0|1&0&1|1&1&1&1|1|1&1|1&1&1|1&1|0&1&0',\n",
       " 'XXXXXXXXXXXXXXXXXXXXXXXXXXX1|1&1&0|1|1|0|1&0|0|1&1',\n",
       " 'XXXXXXXXXXXXXXX1&0&1&1|1|1|1&1|0|0&0|0|1|1&1&0&1|1',\n",
       " 'XXXXXXXXXXXXXXXXXXXXXXXXXXXXXXXXXXXXX0&0|1|1&1&1|0',\n",
       " 'XXX0|1&1|1|1|1|0&1&0|1&0&0|1|0&1&1|1&0&1|0&0&0|0|0',\n",
       " 'XXXXXXXXXXXXXXXXXXXXXXXXXXXXXXXXXXXXXXXXXXX1&1|0&1',\n",
       " 'XXX0|0&1|1|0|1|1|1&0|0&0|1|1|1|0|1|1&0&1|0&1|1|1&1',\n",
       " 'XXX0|0&1&0&1&1&1|1|1&0|0&1|0|1|0|0|0&1&1|0|0|1|1|1',\n",
       " 'XXXXXXXXXXXXXXXXXXXXX0&0|1&1&1|0|0|0&0&1&1&1|1&0|0',\n",
       " 'XXXXXXXXXXXXXXXXXXXXXXX1&0&1|1|1&1&1|0&1|1|0|1&0|0',\n",
       " 'XXXXXXXXXXXXXXXXX0|0&0&0|1|1|1|0&1|1|1&0&1|0&0&0&1',\n",
       " 'XXXXXXXXXXXXXXXXXXXXXXX0|1|1&0&1&1&0|1&1&1|1|1&1|0',\n",
       " 'XXXXXXXXXXXXXXXXXXXXXXXXXXXXXXX0&1&1&0&1&0|0|0|1|0',\n",
       " 'XXXXX0|1|1|0|0|1&0|1|1|1|1|1|0|1|1&0&0&0&1|1&0&1|0',\n",
       " 'XXXXXXXXXXXXXXX1&0|1|0|1&0|0&0|0&0&0&1|0|1|1&0|1&0',\n",
       " 'XXXXXXXXXXXXXXXXXXXXXXXXXXXXXXXXXXXXXXXXXXXXX0&1|0',\n",
       " 'XXXXXXXXXXXXXXXXXXX0&0&1|0|0&1&0|0|0&1|0&0|1&0|1&1',\n",
       " 'XXXXXXXXXXXXXXXXXXXXXXXXXXXXXXXXXXXXXXXXXXXXX1|0|0',\n",
       " 'XXXXXXXXXXXXXXXXXXXXXXXXXXXXXXXXXXXXXXXXXXXXXXXXX1',\n",
       " 'XXXXXXXXXXXXX1&0|0|1|0|0&1&1&1&1|1&1|1|1|0&1&0|1|1',\n",
       " 'XXXXXXXXXXXXXXXXXXXXX1&0&0|1|0&0|1|1&0&1&0&0|1|1&1',\n",
       " 'XXXXXXXXXXX1&0&0&1|1|1&1|1&0&1|0|0&0|0&0|0&0&1&1&1',\n",
       " 'XXXXXXXXXXXXXXXXXXXXXXXXXXXXXXX0|0&1|0|0|0|0|0&0&1',\n",
       " 'XXXXXXX1&1&1&0&1&0&0&0|1|0|0&1|0|0&0|0|1|1|1&0|1|0',\n",
       " 'XXXXXXXXX1|0&1&0&1&0|1&1&1&0|1&0|0|0&0&0&0|1&0|1&0',\n",
       " 'XXXXXXXXXXXXXXXXXXXXXXXXXXXXXXXXXXX0|0&1|1&0&1&0|0',\n",
       " 'XXXXXXXXXXXXXXXXXXXXXXXXXXXXXXXXX1|0&1&0&1&0&0&1&0',\n",
       " 'X0|0|1&0&1|0&0|1|0|0|0|0&1&1|1|0&0&1&1&0&0&0|0&1&0',\n",
       " 'XXXXXXXXXXXXXXXXXXXXXXXXXXXXXXXXXXXXXXXXXXXXXXX1&0',\n",
       " 'X0&0&0&0&1|1|1&0&0&1&0&0|1|1&1|1|1|1|1|1|1|0&1|0|0',\n",
       " 'XXXXXXXXXXXXXXXXXXXXXXXXXXXXXXXXXXXXX0|0|1|0&1&1&0',\n",
       " 'XXXXXXXXXXXXXXX1|0|0|0&0&1&0&0|0|0&0|0|0&1&1&0&0&1',\n",
       " 'X0&1&0&1&1|1|0&0|0&1|1&0&1|0&1&1&0&0|1&1|1&1&0|1&1',\n",
       " 'XXXXXXXXXXXXXXXXXXXXXXXXXXX1|0|1&1&1&1|0&0&1|1|0|1',\n",
       " 'XXXXXXXXXXXXXXXXXXX0&0&1&1&0|1|0|1|1|1&0|1&1|1&1|0',\n",
       " 'XXXXXXXXXXXXXXXXXXXXXXXXXXXXXXX1|1|1&1&0|0&1&1|0&0',\n",
       " 'XXXXXXXXXXXXXXXXXXXXXXXXXXXXX0|1&0|0|0|0|1&0|0|0&0',\n",
       " 'X0&0&0&0|0&0|1|1|1&1|1|1&1&0|0|0|0&1&1&0&0|1&0|1|1',\n",
       " 'XXXXXXXXXXXXXXXXXXXXX1&0&0|0&1&1|0&1|0&1&0|0|1&1|1',\n",
       " 'XXX1&1&1|1|0|0&1&1&1&1&0|1&1&1|0|1&1&0|0&0|0|0|0&0',\n",
       " 'XXXXXXXXXXXXXXXXX1&1&0|1|1&1&0&1&0&1|1|1&0&0|0|0&0',\n",
       " 'XXXXX0|0|0|0&0&1&1&0|0&1|0&1&0|0&1&0&0&0&0|0|1|1&1',\n",
       " 'XXXXXXXXXXX0|1&1|0|0|1|0|1|0&1|1&0|1|0|0&0&1|1&1|0',\n",
       " 'XXXXXXXXXXXXXXXXXXXXX1|0&0|1|1|1&1&0&1|0|0|1&1|1|1',\n",
       " 'XXXXXXXXXXX0&1|1&1|0&0|0&0&1|0|0|0|0&1|1&1|0|0&0|0',\n",
       " 'X1|0&1|0&1&1|0|1&0|1|0&1&1|1&0|0&1|1|1|0&1&1|1|1&1',\n",
       " 'XXXXXXXXXXXXXXXXXXXXXXXXXXXXXXXXXXX0&1&0|1|0&0&1&1',\n",
       " 'XXXXXXXXXXXXXXXXXXXXXXXXXXX1|1&1&1|0|0|1|1|1|0&0|1',\n",
       " 'XXXXXXXXXXXXXXXXXXXXXXXXXXXXXXXXXXXXXXX0|0&1&0|1|1',\n",
       " 'XXXXXXXXXXXXXXXXXXXXXXXXXXXXXXXXXXX1|0|0&1&1|0&0|0',\n",
       " 'XXXXXXXXXXXXXXXXXXXXXXXXXXX0|0&1|1&1|0&1|0&1|0&0|0',\n",
       " 'XXXXXXXXXXXXXXXXXXXXXXXXXXXXXXXXXXXXXXXXX1&1&1|0|0',\n",
       " 'XXXXXXXXXXXXXXXXX0|0&0&1|0|1&1|0&0|0|0|0&1&1&0|1|0',\n",
       " 'XXXXXXXXXXXXXXXXXXXXXXX0&0|0&0&0|1&1&1|1|0|0&0|0|0',\n",
       " 'X1|0|0|0|1|1|0&0|1|0|1&1|0&1|1&0|1|0|1|1&1&0|0|0|0',\n",
       " 'XXXXXXXXXXXXXXXXXXXXXXXXXXXXX0|0|0|1&0|0|1|1|0|1|0',\n",
       " 'XXXXXXX1&0|0|1|0|1&1&1&1&1&0&1&0&0&0&0&0|1&1|1&0|1',\n",
       " 'XXXXXXXXXXXXXXXXXXXXXXXXXXXXX1|0|1|0|0|0&0&0|1&0&1',\n",
       " 'XXXXXXXXXXXXXXXXXXXXXXXXXXXXXXX0&1&0&1|1&1|1|0|1|1',\n",
       " 'XXXXXXXXXXXXXXXXXXXXXXXXXXXXX0&0&0&0&1&0|0&0|0&1|1',\n",
       " 'XXXXXXXXXXXXXXXXXXXXXXXXXXXXX0|0|1|0&1&1&1&0|0|1|1',\n",
       " 'XXXXXXXXXXXXXXXXXXXXXXXXXXXXXXXXXXXXX0|0&0|1&1&0&1',\n",
       " 'XXXXXXXXXXXXXXXXXXXXXXXXXXXXXXXXXXXXX1&0|0&1&1|0&0',\n",
       " 'XXXXXXXXXXXXXXXXXXXXXXXXXXXXXXXXXXXXXXX0&0&0&0&0|0',\n",
       " 'XXXXXXXXXXXXXXXXXXXXXXXXXXXXXXXXXXX0|0&1&1|0&0&0|0',\n",
       " 'XXXXXXXXXXXXXXXXXXXXX0&1&1|1|1|1|1&1|1&0|0&1&1|0&1',\n",
       " 'XXXXXXXXXXXXXXXXXXX1|0&1|0|0|0&1|1&1&1|0|0|0|1|1&0',\n",
       " 'XXXXXXXXXXXXXXXXXXXXX0&1&0|1|1&0&0|0|0|0|0&1&1|1|0',\n",
       " 'XXXXXXXXXXXXXXXXXXXXXXXXXXXXXXXXXXXXXXX0&1|1&1|1&1',\n",
       " 'XXXXXXXXXXXXXXXXXXXXXXX1&1&0&1|1|1&0|0&1&1&0&1|1|0',\n",
       " 'XXXXXXXXXXXXXXXXXXXXX0|0&0&0&1&0&1|0|1|0&1|1&1&1&1',\n",
       " 'XXXXXXXXXXXXXXXXXXXXXXXXXXXXXXXXXXXXXXXXXXXXXXX0&0',\n",
       " 'XXXXXXXXXXXXXXXXXXXXXXXXXXXXXXXXX0&1&0|0|0&1&1&0&0',\n",
       " 'XXXXXXXXX1&1&1|0&0|1|1|0|1|0&1&0|1&1&1|0&0&0&1|1|0',\n",
       " 'XXXXXXXXXXXXXXXXXXXXXXXXXXXXXXXXX1|0&0&1|0&0|0|1|0',\n",
       " 'XXXXXXXXXXX0&1|0&1|0|0&0&1|0|0|0|0&0&0&1|1&1|1&1&1',\n",
       " 'XXXXXXX0&0|0|0|0|0|0|0&1&1|0|1|1&0|0&1&0|1|1|1&0|0',\n",
       " 'XXXXXXXXXXXXXXXXXXXXXXXXXXXXX0&1&1|0&1|1&1&0|0&1|1',\n",
       " 'XXXXXXXXXXXXXXXXX0&0|0&0|0|1&1|0&0|1&0&0&0|0&1|1&1',\n",
       " 'XXXXXXXXXXXXXXXXXXXXXXXXXXXXXXXXXXXXXXXXXXX1|1|0&0',\n",
       " 'XXXXXXXXXXXXXXXXXXXXXXXXXXXXXXXXXXXXXXXXX1&0&1&0|1',\n",
       " 'XXXXXXXXXXXXXXXXX1|0&1|1&0&0|1|1&0|1&0&0&0|1&1&1|0',\n",
       " 'XXXXXXXXXXXXX1&0&0|1&1&0&1|0|1|0&0|0|0|1&0|1|0&1&1',\n",
       " 'XXXXXXXXXXXXXXXXXXXXXXXXXXXXXXXXXXXXXXXXX1&0|0|0&1',\n",
       " 'XXXXXXXXXXX0&1|0|1|0&1&1|0|0|1&1|1&0|0|1&0|1&1&0&1',\n",
       " 'XXXXXXXXXXXXXXXXXXXXXXXXXXXXXXXXXXXXXXX0|1|0|1&1&0',\n",
       " 'X1|0|0&0|1|0|0|0&1&1&1&0|0&1&1|0&1|0&0&1&1&1&0&1&1',\n",
       " 'XXXXXXXXXXXXXXXXXXXXXXXXXXXXXXXXXXXXXXXXXXXXXXXXX0',\n",
       " 'XXXXXXXXXXXXXXXXXXXXXXXXXXXXXXXXXXXXXXXXX1|0|1&1&0',\n",
       " 'XXXXXXXXXXXXX1|1&0&0&0&0|0&0&0|0|1|0|0&0&0&0&1&0&0',\n",
       " 'XXXXXXXXXXXXXXXXXXXXXXXXXXXXXXXXXXXXXXXXX0&1&1&0|1',\n",
       " 'XXXXXXXXXXXXXXXXXXXXXXXXXXXXXXXXXXXXXXX0|0|0|0|0&1',\n",
       " 'XXXXXXXXXXXXXXXXXXXXXXXXXXXXXXXXXXXXXXXXXXXXXXX1|1',\n",
       " 'XXXXXXXXXXXXXXXXXXXXXXXXXXX1&1|1|1&1&0&1|1|1|1|1&0',\n",
       " 'XXXXX1|1|1|1|0&0|1|0&0&1&0&0|1&0&1&0&1&1|0|1|1&0&1',\n",
       " 'XXXXXXXXXXXXXXXXXXXXXXXXXXXXXXXXXXXXXXXXXXX0|1&1&0',\n",
       " 'XXXXXXXXX1&1&1&0&0|1&1&0|1|0|0&1|0&0|0&0&1|1|1|1&1',\n",
       " 'XXXXXXXXXXXXX0&0|0&0&0&1|0|0|0|1&0|1|0|0|0&0|1|1&1',\n",
       " 'XXXXXXXXXXXXXXXXX0&0&1&0|1|0&0|1&0|0&1|0|0|0&0|1|1',\n",
       " 'XXXXX1&1&1&0|1&1|0&0&0&0|0|1&1|0&1|1&0|0|1|1|1&1|1',\n",
       " 'XXXXXXXXXXXXXXXXXXXXX0&0|1&1|1&1|0|0&0&1|1&0&0&0|0',\n",
       " 'XXXXXXXXXXXXXXXXXXXXXXXXXXXXXXXXXXXXXXXXXXXXXXX1|1',\n",
       " 'XXXXXXXXXXXXXXXXXXXXXXXXXXXXXXXXXXXXXXXXXXXXXXX0|1',\n",
       " 'X1|1&1|0|1|1&0&1&0&1|0&0&1&1|0|0|0|0&1&1|0&1|0&0&0',\n",
       " 'XXXXXXXXXXXXXXXXXXXXXXXXXXXXXXXXX1|1&0|0&0|0|0&0&1',\n",
       " 'XXXXXXXXXXXXXXXXX0|1&1&0&0&1&1&0|0|1|1|0&1&1&0|0|0',\n",
       " 'XXXXXXXXXXXXXXXXXXXXXXXXXXXXXXXXX1|0|0&0|0&1&1|0|0',\n",
       " 'XXXXXXXXXXXXXXXXXXXXXXXXXXX1|1|1|0&1|1|0&1&1|1&0&1',\n",
       " 'XXXXXXXXXXXXXXXXXXX1&0&0|1&0|1&0&1|1|1|0&0|1|1|0|1',\n",
       " 'XXXXXXXXXXXXXXXXXXXXXXXXXXXXXXXXXXXXXXXXXXXXX1&1&1',\n",
       " 'XXXXXXXXXXXXXXXXXXXXX1|1|1&0|0|0|0|1|1|0|1|0|1|1&0',\n",
       " 'XXXXXXXXXXXXXXX0|0|0|1&1&1|0|0|0|1|0|0&1|0|1|1|0&0',\n",
       " 'XXXXXXXXXXXXXXXXXXXXXXXXXXXXXXXXXXXXXXX0&1|1&1|0|1',\n",
       " 'X0|1&0|1&1&1|0|1&0&0|1&0&1|1&1|1&0|0|1|1|1|1|1&1|1',\n",
       " 'XXXXXXXXXXXXXXXXXXXXXXXXXXX0|1&1&1&1|1&0&1|1&0&0|1',\n",
       " 'XXXXXXXXXXXXXXX0|1&0&0|1|0|0|1&0&0&1|1|0|0|1&0|0&0',\n",
       " 'XXXXXXXXX1&0|1&1|1&0|0|0&1|0&0&0&0|1&1|0&0|0&1|1|0',\n",
       " 'X1&1|0&0&1&1|0&1&1&0|1&0&1|0|1|1|1&1|1&0&1|1|1|0|0',\n",
       " 'XXXXXXXXXXXXXXX1&0&0&1&0&1&0&0&1|0|0|0&1|1&0|1&0|1',\n",
       " 'XXX1|1|0|0&0&1&0&0|1|0&1|0&0&1&0&1|1|1&0|1&1|0|0|1',\n",
       " 'XXXXXXXXXXXXXXXXXXXXXXXXXXXXXXXXXXXXXXXXXXXXX1|0&1',\n",
       " 'XXXXXXXXXXXXXXXXXXXXXXXXXXXXXXXXXXXXXXXXXXX0&1&0&0',\n",
       " 'XXXXXXXXXXXXXXXXXXXXXXXXXXXXXXX1|1|1|0|1|1|1&0&1&0',\n",
       " 'XXXXXXXXXXXXXXXXXXXXXXX0&0|0&1|0&1|0|1|0|0|1&0|1|0',\n",
       " 'XXXXX0|1&0&1&0&0|0&0|1|1&0|0&0|0|1|1&1|1|0|1&0&1|0',\n",
       " 'XXXXXXXXXXXXXXXXXXXXXXXXXXX1|0|1|1&1|1&0&1&0&1&1&0',\n",
       " 'XXXXXXXXXXX0|0|0&1&0&0&0&0|0|0|1|1|1|1&1&1|1|0&0|1',\n",
       " 'XXXXXXXXXXXXXXXXXXXXXXXXXXXXXXXXXXX1|1|0&1&1&1&0|1',\n",
       " 'XXXXXXXXXXXXXXXXXXXXXXX0&1&0&1&0&1&0&1|0|1|0|0&0&0',\n",
       " 'X1|1&0&0&0|1&0|1&0|0|1|1|1&0&0|0&1|0&0|0|1&0&0&1|0',\n",
       " 'XXXXXXXXXXXXXXXXXXXXXXXXXXXXXXXXXXXXX1|0|0&0&0|0&1',\n",
       " 'XXXXXXXXXXXXXXXXXXXXXXXXXXXXX1|1&0&0&0&0&0&1|1|0&0',\n",
       " 'XXXXXXXXXXXXXXXXXXXXXXXXXXXXXXXXXXX1|0&0&0&1|1&0&1',\n",
       " 'XXXXXXXXXXXXXXXXXXXXXXXXXXXXXXXXXXXXXXXXXXXXXXX0|0',\n",
       " 'XXXXXXXXXXXXXXXXXXXXXXXXXXX0|1|1|0&1&1|1|1&1|0&0&1',\n",
       " 'XXXXXXXXXXXXXXXXXXXXXXXXXXXXXXXXXXXXXXXXXXX1&1&1|0',\n",
       " 'XXXXXXXXXXX1&0&0|0|1&1|0&1&0|0|0|1|1|1&0&0&1&1|0&1',\n",
       " 'XXXXXXXXXXXXXXXXXXXXXXXXXXXXXXXXXXXXX0|0|0&1&0&0|0',\n",
       " 'X1|0&0&1|0&0|1&0|1|0&0|1&0&1|1&0&1&1&1&1&0&0|1|1&1',\n",
       " 'XXXXXXXXXXXXXXXXXXXXXXXXXXXXXXXXXXXXXXXXXXXXXXX1|1',\n",
       " 'XXX0|1&0|1&1|0|1|1|1|1&0|1|0&0&1|1|0&0|0&0|0|1&0|0',\n",
       " 'XXXXXXXXXXX1|1&0&1|1|1|0&0&1&1&1&1&1|1&0&0&1|0&1|0',\n",
       " 'XXXXXXXXXXXXXXX1|1|1|1|0|1|1|1|1|1|1&0&1&1|0|1&1|0',\n",
       " 'XXXXXXXXXXXXXXX0&0&1&0|0&0&1&0&1|1|1|1&0&1|0|1&1|0',\n",
       " 'XXXXXXXXXXXXXXXXXXXXXXXXXXXXXXXXX0&1&1|0&0&0&0&0&1',\n",
       " 'XXXXXXXXXXXXXXXXXXXXXXXXXXXXXXXXXXXXX1&0|0&0|0|1&0',\n",
       " 'XXXXXXXXXXXXXXXXXXXXXXXXX1|0|0&1|0&1&1&1&0|1&1&1&0',\n",
       " 'XXXXXXXXXXXXXXX0|1&0|0&1|0|1|0|0|1&1|1|1|0&1|1|0&0',\n",
       " 'XXXXXXXXXXXXXXXXXXXXXXXXXXXXXXXXX0&1|0&1|0&1&0|0|0',\n",
       " 'XXXXXXXXX0&0|1&1&0&0&1|1&1|0|0&0&1&1&0|1&1|0&1&0|1',\n",
       " 'XXXXXXXXXXXXXXXXXXXXXXXXXXXXXXX0&0|1|1|0|0|0&0&1&0',\n",
       " 'XXXXXXXXXXXXXXX1&0|1&0|1|0&1&1|0&1&0&1&0|0|1&1&0|1',\n",
       " 'XXXXXXXXXXXXXXXXXXXXXXXXXXXXXXXXXXXXXXXXXXXXX0|0|1',\n",
       " 'XXXXXXXXXXXXXXXXXXXXXXXXXXXXXXXXXXX0&1|0|0&1|0|1&0',\n",
       " 'XXXXXXXXXXXXXXXXXXXXXXXXXXXXXXXXXXXXXXXXXXX0|1|1&1',\n",
       " 'XXXXX0|0|1|0&0|0&0&1&0&1&1|1&1&0|0|1&0&1&0|0&1&0|1',\n",
       " 'XXXXXXXXXXXXXXXXXXXXXXXXXXXXXXXXXXXXXXXXXXXXXXXXX1',\n",
       " 'XXXXXXXXXXXXXXXXXXXXXXXXXXXXX1&1&1|0&1&0|1|0|0|1|1',\n",
       " 'X0&0&0&0&0&0|0&1&1&0&1&0|1|1|1|0|1&0|0&1|1&0|1|0&0',\n",
       " 'XXXXXXXXXXXXXXXXXXXXXXXXXXXXX0&0&1&0|0&1|1|1|0|1&1',\n",
       " 'XXXXXXXXXXXXXXXXXXX0|1|1|0|0&1|1&1|0|0|0&0|1&1&0&0',\n",
       " 'XXXXXXXXXXXXXXXXXXXXXXXXXXXXXXXXXXX0&0&0&1&1|1&1&1',\n",
       " 'XXXXXXXXX0&1|0&1&1|1&0&1|1&1|0&0&1|0&0&1|0|1|0|1&0',\n",
       " 'XXXXXXX0|1|1&1|1|0&1&1&1&1&0&0|0&0|0&1|0|1|0|1|1|1',\n",
       " 'XXXXXXXXXXXXXXX1|1&1|1&0&1&0|0&1|1|1&0&1|0|1&0|0&1',\n",
       " 'XXXXXXXXXXXXXXXXXXXXXXXXXXX0|0|1|1|1|1|0&1&0|0&1&1',\n",
       " 'XXXXX0&1|0&0|1|1&0&0&0&1|1&0&0|1&0|1|0&1|1|1|0&0&0',\n",
       " 'XXXXXXXXXXXXXXXXXXXXXXXXX0&0&0&0|0|0&1|1|0&0|1|0&0',\n",
       " 'XXXXXXX0&1|0&0&1&0&0&1&0&0&1|0|0&1|0&1|0&0&1|1&0|0',\n",
       " 'XXXXXXX0|0|1&1|1&1|0|0|0&1&0|0&0|0&0&1|1|1|0|0&0&0',\n",
       " 'XXXXXXXXXXXXXXXXXXXXXXXXXXXXXXXXXXXXXXX0&0|1|0|0|1',\n",
       " 'X0&0&1&1&1|0&1&1|1|0&0|1&1|1|0|1|1|0&0&0|1|0|0|0&1',\n",
       " 'XXXXXXXXXXXXXXXXXXXXXXXXXXXXXXXXXXXXXXXXX1&0&0&1&0',\n",
       " 'XXXXXXXXXXXXXXXXXXXXXXXXXXXXXXXXXXXXXXXXXXXXX0&1|1',\n",
       " 'XXXXXXXXXXXXXXXXXXXXXXXXXXXXXXXXXXXXXXXXXXX0&1&0|0',\n",
       " 'XXXXXXXXXXXXXXXXXXXXXXXXXXXXXXXXXXXXXXXXXXXXX1|1&0',\n",
       " 'XXXXXXXXXXXXXXXXXXXXXXXXXXXXXXXXXXXXXXXXXXXXXXX0&0',\n",
       " 'XXXXXXXXXXXXXXXXXXXXXXXXXXXXXXXXXXXXXXXXX1&0&1|1|1',\n",
       " 'XXXXXXXXXXXXXXXXXXXXXXXXXXXXXXXXXXXXXXXXXXXXXXX1&0',\n",
       " 'XXXXXXXXXXXXXXXXXXXXXXXXXXXXXXXXXXXXXXXXXXXXX1|0|0',\n",
       " 'XXXXXXXXXXXXXXX0&0&0&0&1|0&0|1|0&0|1|1|0|0&0|1|1|1',\n",
       " 'XXXXXXXXXXXXXXXXXXXXXXXXXXXXXXX0&0|0|1|1|0|0|0|1|1',\n",
       " 'XXXXX0&0|0|0|0|0|1|1&1&0&1&0|1&1&0|1&0|1&0|1|1|0|0',\n",
       " 'XXXXXXXXXXXXX1&0|0&1&1&0|0&1|1&0&0|0&1&0&0|1&1&0&1',\n",
       " 'XXXXXXXXXXXXXXXXXXXXXXXXXXXXXXX0&0|1&1&0&0&0&0&1|0',\n",
       " 'XXXXXXXXX1|1&1&1&0|0|1|0|1&0|1|1|0|1|0&0&0|0|1&0|0',\n",
       " 'XXX1&1&0|0|0|0|1&1&0|1|1|0&0|0&1|0&1|1&1|1|1|0&0|0',\n",
       " 'XXXXXXXXXXXXXXXXXXXXXXX1&0&1&0&1|0|0&0&1&1|0|1&1&0',\n",
       " 'XXX1&1|1&0&1|1|1|1&1&0|0|1|1&1|0|1|0&0|0|0|1|0&1&1',\n",
       " 'XXXXXXXXXXXXXXXXXXX0|1|1&0|0|0&1&1&0&0|0|0|0&1&1|1',\n",
       " 'XXXXX0&1|1&0&1&1&0&1&0|1|1&0|1&0|1|1|0&0|1&1&0&1|0',\n",
       " 'XXXXXXXXXXXXXXXXX0|0&1|0|0&1|0|1|1&1|0|0&0|0&0&1|0',\n",
       " 'XXXXXXXXXXXXXXXXXXXXXXXXXXXXXXXXXXXXXXXXXXXXXXX1&0',\n",
       " 'XXXXXXXXXXXXXXXXXXXXXXXXXXXXXXXXXXXXXXXXX0|0|1|1&1',\n",
       " 'XXXXXXXXXXXXXXXXXXXXXXXXXXXXXXXXXXXXXXXXXXXXX1|1&1',\n",
       " 'XXXXXXXXXXXXXXXXXXXXXXX0&0&0|1|0|1|1|0|0&1|1|0&1&0',\n",
       " 'XXXXXXXXXXXXXXXXXXXXXXXXX1&1&0|0&0&1&1|0|1|1&1|1&0',\n",
       " 'XXXXXXXXXXXXXXXXXXXXXXXXXXX0&0|1&1&0&1&0&0|0|0&1|1',\n",
       " 'XXXXXXXXXXXXXXXXXXXXXXXXXXXXXXXXXXXXXXX0|0|1|0|1&1',\n",
       " 'XXXXXXXXXXXXXXXXXXXXXXXXXXXXXXXXXXXXXXXXXXX1|1|1&0',\n",
       " 'XXXXXXXXXXXXXXXXXXXXXXXXXXXXX0|1&0|0&0&0&0&0|0&0&0',\n",
       " 'X1&0|0&1|1|1|0&1&0|1&1&0&1|0&0|0|0|1&0&1|1&1&1&1&1',\n",
       " 'XXXXXXXXXXXXXXXXXXXXXXXXXXXXXXXXXXXXXXXXXXXXXXXXX1',\n",
       " 'XXXXXXXXXXXXXXXXXXXXXXX0|0&0&0|1|0&1&0|0&0|1&0&0|0',\n",
       " 'XXXXXXXXXXXXXXXXXXXXXXXXXXXXXXXXXXXXXXX0|1&1&0&1|0',\n",
       " 'XXXXXXXXXXXXXXXXXXXXXXXXX0|1&1&0|0|0|0|0&1&1|0|1&1',\n",
       " 'XXXXX0&1&0&1|0|1&0&1|0|0&0&0&1|0|1&1&0|1&1|1|0&0&0',\n",
       " 'XXXXX0|1&1&0&1&1|1&0|1&0&0|1&1&1|0&0|1|1&1&1&1&0&1',\n",
       " 'XXX1&1|0|0&0&1|0|0|0&0|0|0|1|0|1|0&0&1|1&1|0|1|1&0',\n",
       " 'XXXXXXXXXXXXXXXXXXXXXXXXXXXXXXXXXXXXXXXXXXXXXXXXX0',\n",
       " 'XXXXXXXXXXXXXXXXXXXXXXXXXXXXXXXXXXXXXXXXXXXXXXX1|0',\n",
       " 'XXXXXXXXXXXXXXXXXXXXXXXXX0&1|1|1|0|0|1|0&0&0&0&1|1',\n",
       " 'XXXXXXXXXXXXXXXXXXX0|1&1&1|0|1&0&1|1|0&1|1&1|0&0|1',\n",
       " 'XXXXXXXXXXXXXXX0&0|1&1|1|0&1|0|0&1|0&1|0|0|0&1&0&0',\n",
       " 'X0&0&1|0&0|1&0|0|1|1|0|1|0|0|0&0|0&0&1&1|0|0|0&0&1',\n",
       " 'XXXXXXXXXXXXXXXXXXXXXXXXX1|1|1|1|1&0&0|0&1&1&0|1|1',\n",
       " 'XXXXXXXXXXXXXXXXXXXXXXXXXXXXXXXXXXXXXXXXXXXXXXXXX0',\n",
       " 'XXXXXXXXXXXXXXXXXXXXXXXXXXXXXXXXXXXXXXXXXXXXX1&0&0',\n",
       " 'XXXXXXXXXXXXXXXXXXXXXXXXXXXXXXXXXXXXXXXXX1&1|1|0|0',\n",
       " 'XXXXXXXXXXXXXXXXXXXXXXXXXXXXXXXXXXXXXXX0&0|0&0|0&1',\n",
       " 'XXXXXXXXXXXXXXXXXXXXXXXXXXXXX0&1&0|1|0&1&1&0&1&1|0',\n",
       " 'XXXXXXXXXXXXXXXXXXXXXXXXXXXXXXXXXXXXXXXXXXXXXXXXX1',\n",
       " 'XXXXXXXXXXXXXXXXX1|1&1|1&1&1&0&1|0|0|1|0&0&1&1|0|1',\n",
       " 'XXXXXXXXXXXXXXXXXXXXXXXXXXXXXXX0&0|1&1&0&0&0&0&1|1',\n",
       " 'XXXXXXXXXXXXXXXXX1|0&1|0&0&0|0|0|0|0|1|1&1|0|0&0|1',\n",
       " 'XXXXXXXXXXXXXXXXX1|0&0&1|0&0|1&0|1&0&0|1&1|0&0&1&1',\n",
       " 'XXXXXXXXXXXXXXXXXXXXXXXXXXXXXXXXXXXXXXXXX1&0&1|1&0',\n",
       " 'XXXXX0&0&0|0&0|0&0|0&0|0&0&1|0&1|1&1&0&1&1|1&0|1&0',\n",
       " 'X1|0&0&0|1&0&0|1|1|0&0|0|1|0|1&1&1|0&1|1|1&1|1|0|0',\n",
       " 'XXXXXXXXXXXXXXX0|0&0&1|0&0|0&1|0|1&1|0|1&1|1|1&0|0',\n",
       " 'XXXXXXXXXXXXXXXXXXXXXXXXXXXXXXXXXXXXXXX1|0&1&1|0&1',\n",
       " 'XXXXXXXXXXXXX0|1&0|0&0&1|1|1|1&0&1|1&0&1&0|1&0|1|1',\n",
       " 'XXXXXXXXXXXXXXXXXXXXXXXXXXXXXXX0&1|0&1|1&0|1|0&1|1',\n",
       " 'XXXXXXXXXXXXXXXXXXXXXXXXXXXXXXXXX0|1&0&1&1|0&1&0|0',\n",
       " 'XXXXXXXXXXXXXXXXXXXXXXXXXXXXXXXXXXXXXXX0|0|1|1|0|0',\n",
       " 'X1&0&1&0&1&0&0&0|1|0|1|1|1|0|0|1&1|0|0|1|0&1&1&1&0',\n",
       " 'XXXXXXXXXXXXXXXXXXXXXXXXX0|1|1&0&0|0|1|0|0&0|1&0|1',\n",
       " 'XXXXXXX0|1&0&0|1|0|1&1&1&1|1|0&0|1|0|0|0&0&1|0&0&1',\n",
       " 'XXXXXXXXXXXXXXXXX1|1&0|1&0&1&0|1&1|1|1|0&1|0|0&0|0',\n",
       " 'XXXXX1|1|1|0|0&0|0|0|1&0|1|1&0|1|0&0|0&0&0|0&1&0&1',\n",
       " 'XXXXXXXXXXXXXXX1&1|0|1&0&0&1|1&0&1&1|0|0|0|1|1&0|1',\n",
       " 'XXXXXXXXXXXXXXXXXXXXXXXXXXXXXXXXXXXXXXXXX0&0&1&1&1',\n",
       " 'XXXXXXXXX0|0&0&0|0&1|0|1|0&1&0|0&0|1&0&0|1&1|1|0|0',\n",
       " 'XXXXXXXXX0|0|0|1|0&0&1&1|0&0&1|0&1&0|0|1|1|1&0|1|1',\n",
       " 'XXXXXXXXXXXXXXXXXXXXXXXXXXXXXXXXXXXXXXXXXXXXXXX0&1',\n",
       " 'XXXXXXXXXXXXXXXXXXXXXXXXXXXXXXXXXXXXXXXXX1&0&1|1|1',\n",
       " 'XXXXXXXXXXXXXXXXXXXXXXXXXXXXXXXXXXXXX1|0|1&1|0&1&1',\n",
       " 'XXXXXXXXXXXXXXXXXXXXXXXXXXXXX0|0|0|0&1&1&0|0|0&0&0',\n",
       " 'XXXXXXXXXXXXXXXXXXXXXXXXXXXXXXXXXXXXX1&1|1|1&1&0|0',\n",
       " 'XXXXXXXXXXXXXXXXXXXXXXXXXXXXXXXXXXXXXXX1&0|1|1|1&1',\n",
       " 'XXX0|1|1|1|0&0|0|0|1|1&0|1&0|1|0|0|0&0&1|0|0&0|1|0',\n",
       " 'XXXXXXXXXXXXXXXXXXXXXXXXXXXXXXX0|0|0&0&1&1|0&0&0|1',\n",
       " 'XXXXXXXXXXXXXXXXXXXXXXXXXXXXXXXXXXXXXXXXXXX0&1&0&0',\n",
       " 'XXX0|1&0|1|1&0|1|0&0&0&0&1|1|0|0|1&1|1|1|0&0&1&1|1',\n",
       " 'XXXXXXXXXXXXXXXXXXXXXXXXXXXXXXXXXXXXX0&1|1&1|0&1|0',\n",
       " 'XXXXXXXXXXXXXXXXXXXXXXXXXXXXXXXXXXX1&1|0|1|0&1&0&0',\n",
       " 'XXXXXXXXXXXXXXXXXXXXXXXXXXXXXXXXXXXXX0|1&1&0|0|0|0',\n",
       " 'XXXXXXXXXXXXXXXXXXXXXXXXXXXXX1|1|0&1&1|0|0&0|0&1&0',\n",
       " 'XXXXX0&1&0|0&1|1|0|1|0|1&1&1&0|0|0&0|1&1&1|1&0&0&1',\n",
       " 'XXXXXXXXXXXXX0&1|0&0|1|0|0|1|1&1|1&0&0&0|1&0&0&0&1',\n",
       " 'XXXXXXXXXXXXXXXXX0&0|1&0&0&0&0&1&1|0|1&1|0&0|1&1&1',\n",
       " 'XXXXXXXXXXXXX1|1|0&1|0|0|1|0&0&1&0&1|0|1|1&1|0|1|1',\n",
       " 'XXXXXXXXXXXXXXXXXXXXXXXXXXXXX1&0&1&1|1|0|1&0|0|1&0',\n",
       " 'XXXXXXXXXXXXXXXXXXXXXXXXXXXXXXXXXXXXXXXXXXXXXXX0|0',\n",
       " 'XXXXXXXXXXXXXXXXXXXXXXX0&0&0|1|0&1&0&0&0|0&0&1|1&1',\n",
       " 'XXXXXXXXXXXXXXXXX1&1|1|0&1&0|1|0|1|0&1|1|1|1|0|0|0',\n",
       " 'XXXXXXXXXXXXXXXXXXXXXXXXXXXXXXXXXXXXXXX1&0&1&0&0&1',\n",
       " 'XXXXXXXXXXXXXXXXXXXXXXXXXXXXXXXXXXXXX1&1|0|1&0&0&0',\n",
       " 'XXXXXXXXXXXXXXXXXXXXX0&1|1|1|0|1&0|1&0|1&0&1|0&0|1',\n",
       " 'XXXXXXXXXXXXXXXXXXXXXXXXXXXXXXX1&0&0|1|0&1|0|0|0&1',\n",
       " 'XXXXXXXXXXXXXXXXXXXXXXXXXXXXXXXXXXX0&1|0&0&1|0|0&1',\n",
       " 'XXXXXXXXXXXXXXXXXXXXXXXXXXX0&0|1&1|1|0|0&1&1|0&1|0',\n",
       " 'XXX0&0&0|1&0&0|1|0|0&0|1|1&0|0|1|0|0|1&1|0|0&0&0|0',\n",
       " 'XXXXX0|0|1&1|1|1&1|0|1|0&1|0|1&0&0|1&0&1&0|1|1&1&0',\n",
       " 'XXXXXXXXXXXXXXXXXXXXXXXXXXXXXXX0|1&0&0|0&1&1|1|1|0',\n",
       " 'XXXXXXXXXXXXXXXXXXXXXXXXXXXXXXXXXXXXXXXXXXXXXXXXX1',\n",
       " 'XXXXXXXXXXXXXXXXXXXXXXXXXXXXXXXXXXXXXXX1&0|1|1&0|0',\n",
       " 'XXXXXXXXXXXXXXXXXXXXXXXXXXXXXXX1|0&1|0|1|0&0&1&1&1',\n",
       " 'XXXXXXXXXXXXX1|0|1&1|0|0&0&0&1&1&1&0|0|0&0|0&0&1&0',\n",
       " 'XXXXX0&1|1&1&1|1|0|0|1|1|0&1&0|0&1&0|0|1&0&0|1&1&1',\n",
       " 'XXXXXXXXXXX0|1&1&0&0|1&0&1|1|1&1&0&1|1&1|1&0|0|0&0',\n",
       " 'XXXXXXXXXXXXXXXXXXXXXXXXXXXXXXXXXXXXX0|0&1&1|1|1&0',\n",
       " 'XXXXXXXXXXXXXXXXXXX1|1&1&0&0&0|0|0|1|1&0&1&0|0&1&1',\n",
       " 'XXXXXXXXXXXXXXXXXXXXXXXXXXXXXXXXXXXXXXXXXXXXXXX1|1',\n",
       " 'XXXXXXX0|1&0&0&1|0|0&0&1&1&1&0|1&1|1|1&1&1&0|1|0|1',\n",
       " 'XXXXXXXXX1|0|0&0&0|1|1|1&0|0|0|1&1|1|0&0|0&0|0|0|1',\n",
       " 'XXXXXXXXXXXXXXXXX0|1|1|1&1|0|0&0|1&0&0|0&1&0|0&0|1',\n",
       " 'XXXXXXXXXXXXXXXXXXX0|1|0&0|0|1&0|0&1&0&1&1&1&1&0&1',\n",
       " 'XXXXXXXXXXXXXXXXXXXXXXXXXXX1&0|1|0&0|0|0|1|0|1|0&0',\n",
       " 'XXXXXXXXXXXXXXXXX1&0&1|1|1|1|1&0|1|0|0|1&1|1|1|0&0',\n",
       " 'XXXXXXXXXXXXXXXXXXXXXXXXXXXXXXXXXXXXXXXXXXXXXXXXX0',\n",
       " 'XXXXXXXXXXXXXXXXXXXXX1|0|0|1|1&1&0|1&0&1|1|0|0|1&0',\n",
       " 'XXXXXXXXXXXXXXXXXXXXXXXXXXXXXXXXXXXXXXXXXXXXXXXXX1',\n",
       " 'XXXXXXXXXXXXXXXXXXXXXXXXXXXXXXXXXXXXXXX0&0|0&1|1|0',\n",
       " 'XXXXXXXXXXX1|1&0|1|1&1&0&1|0|1&1|0|1|1|0|1&1&1&1&1',\n",
       " 'XXXXXXXXXXXXXXXXXXXXXXXXXXXXXXXXXXXXXXXXXXX0|0&1&1',\n",
       " 'XXXXXXXXXXXXXXXXXXXXXXXXXXXXXXX0|0|1&1|0&1|0|0&0|1',\n",
       " 'XXXXXXXXXXX0&0|1|0&1|1&0&0&1|1&1|0|0|0&1&0|0|0|1|0',\n",
       " 'XXXXXXXXXXXXXXXXXXX1&0|0&0|1|1|0&0&0&1|1&0|1&0|1&0',\n",
       " 'XXXXXXXXXXXXXXXXXXXXXXXXXXXXXXX0|0&0|0|0|0&0|0&1&1',\n",
       " 'XXXXXXXXXXXXXXXXXXXXXXXXXXXXXXXXX0&0|1&1|1|1&1&0|1',\n",
       " 'XXX0&1&1&1|0|0|0&0|1&0&0|0|1&0|1&0&1&0&0&0&1&0&1|0',\n",
       " 'X0&0&0&1|1|0&1&0&1|0&1&1&1&1&0|1&1|0&1&1&0&1|0&0|1',\n",
       " 'XXXXXXXXXXXXXXXXXXXXXXXXXXXXXXXXXXXXXXXXXXXXXXX1|1',\n",
       " 'XXXXXXXXXXXXXXXXXXXXXXX0|0&1&0|1&1&0|0&1&0|1|1&1&1',\n",
       " 'X1|0|0|0&0&0&1&1|0|0&0|1|0|0&0|1|1|1|1&1|0&1|0|0&0',\n",
       " 'XXX0&1|0&0&1&0&1|0&1&0|1&1|1|0&0|1|1|1|1&1|0|0&0&1',\n",
       " 'XXXXXXXXXXXXXXXXXXXXXXXXXXXXXXXXXXX0|0|1&0&1&1&1&1',\n",
       " 'XXXXX1|0|1&1&0|1&0&1&1&1&1&1|1&0&0&1&1&1&0&1|0|1|1',\n",
       " 'XXXXXXXXXXXXXXX1&0|0|1|0|0|0|1|1&1&0|0&1&0&1|1&1&0',\n",
       " 'XXXXXXXXXXXXXXXXXXXXXXX1&0|0&0|1&1|0|0&1|0&0|1|1&0',\n",
       " 'XXXXXXXXXXXXXXXXXXXXXXXXXXXXXXXXXXXXXXX0&0|0&0&0|0',\n",
       " 'XXXXXXXXXXXXXXXXXXXXXXXXXXXXXXXXXXX1&1|1&1|0|0&1|1',\n",
       " 'XXXXXXXXXXX1&1&1&1&1&1|1&1|0|1&0&1|1|1&0|0&0|0&0&1',\n",
       " 'XXXXXXXXXXXXXXXXXXXXXXXXXXXXXXXXXXXXXXXXXXX0&1|1|1',\n",
       " 'XXXXXXXXXXXXXXXXXXXXXXXXXXXXXXXXXXXXX0|0|0&0&0|1&1',\n",
       " 'XXXXXXXXXXXXXXXXXXXXXXX1|1&1&0|1&1|0&0&0&0&1|1&0&0',\n",
       " 'XXXXXXXXXXXXXXXXXXXXXXXXXXXXXXX0&1&1|0&0&1&1|0|0&0',\n",
       " 'XXXXXXX1|0|1|1|0|0|0|0|0|0|0|1|0&1&1|1|0&1&0&1|1|0',\n",
       " 'XXXXXXXXXXXXXXXXXXXXXXXXXXXXXXXXXXX1|1|0&1&1&0|1|1',\n",
       " 'XXXXXXXXXXXXXXXXXXXXXXXXXXXXXXXXX0&0&1&1|0&0|1&0|1',\n",
       " 'XXXXXXXXXXXXXXXXXXX1|0|0&1&1|0|1|1|1&1&1|0|0&0|1|0',\n",
       " 'XXXXXXXXXXXXXXXXXXXXXXXXXXXXX1|1|1&1&0&1&1|0&0|1|1',\n",
       " 'XXXXXXXXXXXXXXXXX0&0|1&0&0&1|1|0|0|0&1|0|0|1&0&0&1',\n",
       " 'XXXXXXXXXXX1|1&0|1&0|0|0&0|1|1|0&1|0&0&0&0|1|0&0|1',\n",
       " 'XXXXXXXXXXXXXXX0&0|1|1|1&1|1|1&1|1|1&1|1|0|1|1|0|1',\n",
       " 'XXXXXXXXXXXXXXXXXXX1&1|0|1|0&0&1|1&1&0&1&1&1&1|0&0',\n",
       " 'XXXXXXXXXXXXXXXXX0|1|0|0&1|0|0&1|1&0&0|1&1|0|1&1|1',\n",
       " 'XXXXXXXXXXXXXXXXXXXXXXXXXXXXX1&1&0&0&1|0|1|1|0&0|1',\n",
       " 'XXX1|1&1|0&1&1&0&0&1&1|0|1&1|0|0&0|0|0&0&1|1|1&1|0',\n",
       " 'XXXXXXXXXXXXXXXXXXXXXXXXXXXXXXXXXXXXX0&1&1|1&0|1|0',\n",
       " 'XXXXXXXXXXX1&1&0|0|1&1|0|1|1&1|1&0&0&1|1|0&0&0|1|1',\n",
       " 'XXXXXXXXXXXXXXXXXXXXXXXXXXXXXXXXXXXXXXXXXXX0&1|1&1',\n",
       " 'XXXXXXXXXXXXX0&0&0&0|0&1&1&0&0|0&0|1&0|0&1|0|0|0&1',\n",
       " 'XXXXXXXXXXXXXXXXXXXXXXXXXXXXXXXXXXXXXXXXX0|0|1|1|0',\n",
       " 'XXXXXXXXXXXXXXXXXXXXXXXXXXXXXXXXXXXXXXXXXXX0|0&0&0',\n",
       " 'XXXXXXXXXXX1|0&1|0|1&0|0|0|0|0|1&0|1|1|1&1|0|0&1|1',\n",
       " 'XXXXXXXXXXXXXXXXXXXXXXXXXXXXXXXXXXX1&0|1&0|0&1&1&1',\n",
       " 'XXXXXXX0&0|0&1|1|1|0&1|0&1|1|0|1|0|0|0|0|0|1|1|1&0',\n",
       " 'XXXXXXXXXXXXX0&0|1|1|0&1&1|1|1&0&0&0&0&0|0&0&0|0&1',\n",
       " 'XXXXXXXXXXXXXXXXXXXXXXXXXXXXXXXXXXXXXXXXXXX0|1|0|0',\n",
       " 'XXXXXXXXXXXXXXXXXXXXXXXXXXXXXXXXXXXXX0|0|1&1|1&1&1',\n",
       " 'XXXXXXXXXXXXXXXXXXXXXXXXXXXXXXXXXXXXXXXXX0&0&0&1|0',\n",
       " 'XXXXXXXXXXXXXXXXXXX1|0&0&0&1|0|1&0&1&1|1|1&1|0|1&1',\n",
       " 'XXXXXXXXXXXXXXXXXXXXXXXXXXXXXXXXXXXXXXXXX1&0&0|0|1',\n",
       " 'XXXXXXXXXXXXXXXXXXXXXXXXXXXXXXXXXXXXXXXXXXXXXXXXX1',\n",
       " 'XXXXXXXXXXXXXXXXXXXXXXXXXXXXXXXXXXXXXXX1&0|0&1|1|1',\n",
       " 'XXXXXXXXXXXXXXXXXXXXXXX1|1&1|1&1&0&0&0&1|0&1&0&0&0',\n",
       " 'XXXXXXXXXXXXXXXXXXXXXXXXXXXXXXXXXXXXXXXXXXXXXXX0|0',\n",
       " 'XXXXXXXXXXXXXXXXXXXXXXXXXXXXXXXXXXXXXXXXX0|1&0&1&1',\n",
       " 'XXXXXXXXXXX0|0|1|1|1|1|0|1|0&0&0&1|1&0|1&0|0|1|1&0',\n",
       " 'XXXXXXXXXXXXXXXXXXXXXXXXX1&1&0&0|0|1&0&1|0|0&1|1&0',\n",
       " 'XXXXXXXXXXXXXXXXXXXXXXXXXXXXXXXXXXXXXXXXXXXXX0&1&0',\n",
       " ...]"
      ]
     },
     "execution_count": 181,
     "metadata": {},
     "output_type": "execute_result"
    }
   ],
   "source": [
    "train_sequences"
   ]
  },
  {
   "cell_type": "code",
   "execution_count": 194,
   "metadata": {},
   "outputs": [],
   "source": [
    "if read_seq[-1] == '':\n",
    "    del read_seq[-1]"
   ]
  },
  {
   "cell_type": "code",
   "execution_count": 218,
   "metadata": {},
   "outputs": [
    {
     "data": {
      "text/plain": [
       "str"
      ]
     },
     "execution_count": 218,
     "metadata": {},
     "output_type": "execute_result"
    }
   ],
   "source": [
    "type(read_seq[0])"
   ]
  },
  {
   "cell_type": "code",
   "execution_count": null,
   "metadata": {},
   "outputs": [],
   "source": []
  },
  {
   "cell_type": "code",
   "execution_count": 195,
   "metadata": {},
   "outputs": [
    {
     "data": {
      "text/plain": [
       "4992"
      ]
     },
     "execution_count": 195,
     "metadata": {},
     "output_type": "execute_result"
    }
   ],
   "source": [
    "len(read_seq)"
   ]
  },
  {
   "cell_type": "code",
   "execution_count": 196,
   "metadata": {},
   "outputs": [
    {
     "data": {
      "text/plain": [
       "True"
      ]
     },
     "execution_count": 196,
     "metadata": {},
     "output_type": "execute_result"
    }
   ],
   "source": [
    "read_seq == train_sequences"
   ]
  },
  {
   "cell_type": "code",
   "execution_count": 187,
   "metadata": {},
   "outputs": [
    {
     "data": {
      "text/plain": [
       "4992"
      ]
     },
     "execution_count": 187,
     "metadata": {},
     "output_type": "execute_result"
    }
   ],
   "source": [
    "len(train_sequences)"
   ]
  },
  {
   "cell_type": "code",
   "execution_count": 7,
   "metadata": {},
   "outputs": [],
   "source": [
    "from google.cloud import storage\n",
    "storage_client = storage.Client()"
   ]
  },
  {
   "cell_type": "code",
   "execution_count": 8,
   "metadata": {},
   "outputs": [
    {
     "name": "stdout",
     "output_type": "stream",
     "text": [
      "CPU times: user 56 ms, sys: 16 ms, total: 72 ms\n",
      "Wall time: 204 ms\n"
     ]
    }
   ],
   "source": [
    "bucketn = \"dni-storage\"\n",
    "bucket = storage_client.get_bucket(bucketn)\n",
    "blob = bucket.get_blob('Datasets/l_data.txt')\n",
    "%time s = blob.download_as_string(start=0, end=1)"
   ]
  },
  {
   "cell_type": "code",
   "execution_count": 7,
   "metadata": {},
   "outputs": [
    {
     "name": "stdout",
     "output_type": "stream",
     "text": [
      "CPU times: user 4 ms, sys: 0 ns, total: 4 ms\n",
      "Wall time: 143 ms\n"
     ]
    }
   ],
   "source": [
    "%%time\n",
    "blob = bucket.get_blob('Datasets/l_data.txt')\n"
   ]
  },
  {
   "cell_type": "code",
   "execution_count": 51,
   "metadata": {},
   "outputs": [],
   "source": [
    "i = 0"
   ]
  },
  {
   "cell_type": "code",
   "execution_count": 59,
   "metadata": {},
   "outputs": [
    {
     "data": {
      "text/plain": [
       "b'XXXXXXXXXXXXXXXXXXXXXXXXXXXXXXXXXXXXX0|1&0&0&0&1|1\\nXXXXXXXXXXXXXXXXXXXXXXXXXXXXXXXXXXX1|1|1&1|1&0&1|0\\nXXXXXXXXXXXXXXXXXXXXXXXXXXX1&1&0|0&0&1&1|0&1&0&1&0\\nXXXXXXXXXXXXXXXXX0&0&1&0|1|0|0&1|1|0&0|0|1&1&1|0|0\\nXXXXXXXXX0&1&1|0|1|1&0&1|0|1&1&0|0&1&0|0|0|1|1&1|1\\nXXXXXXXXX1&1|0|1&1|0&0&1|0&0&0&0&0&1|1&0|1|1|1|1&1\\nXXXXXXXXXXXXXXXXXXXXXXX1|1|0|1&1&1&1&1&0|0&1|1&0|1\\nXXXXXXXXXXXXXXXXXXXXXXXXXXXXXXXXXXXXXXXXXXXXXXX1&1\\nXXXXXXX0|1&1|0&0&1|1|1|1|1|1&0|0&1|1|1&1|1&0&0&0|1\\nXXX0|0|0|1&0|0|0|0|1&0|0|1|0&1|1|0|0|1|1&0&0|0|1&1\\nXXXXXXXXXXXXXXXXXXXXXXXXXXX1|1|1&0|1|1|0&1|1|1&1&0\\nXXXXXXXXXXXXXXXXXXXXXXXXXXXXXXXXXXXXXXXXXXX0&1|0&1\\nXXXXXXX0|0|0|1&1|0&1|1|0&0|0|1&0&1&1&1&1&0&0&1&0&1\\nXXXXXXXXXXXXXXXXXXXXXXXXXXXXXXX0&0|0|1&0|0|1|1&1&0\\nXXXXXXXXXXX0&1&0&0|1|1|0&0&0&1&0|0|0&0|0|1&0|0&1|0\\nXXXXXXXXX1&0&1|0|0&0&0|1&0&0|1&1&1&0&1|0|0|1|0|1|0\\nXXXXXXXXXXXXXXXXXXXXXXXXXXXXXXXXXXXXXXXXXXX1&0&0|1\\nXXXXXXXXXXXXX0&1&1&1|1&1|1&0&1|1|1&1|0|0|1&1|0|0&1\\nXXXXXXXXXXXXXXXXX1&1&0&0|1|0&0&1|0&1|1&1&1|1|0&0&1\\nXXXXXXXXXXXXXXXXXXXXXXXXXXXXXXXXXXXXXXXXXXX1&0&1&1\\n'"
      ]
     },
     "execution_count": 59,
     "metadata": {},
     "output_type": "execute_result"
    }
   ],
   "source": [
    "step = 20 # fetch how many data at one time\n",
    "s = blob.download_as_string(start=i*51*step, end=i*51*step+51*step-1)\n",
    "i += 1\n",
    "s"
   ]
  },
  {
   "cell_type": "code",
   "execution_count": 46,
   "metadata": {},
   "outputs": [
    {
     "data": {
      "text/plain": [
       "b'XXXXXXXXXXXXXXXXXXXXXXXXXXXXXXXXXXXXXXXXXXXXX0|1&0\\nXXXXXXXXXXXXXXXXXXXXXXXXXXXXXXXXXXXXXXX0|1&1&1|1&0\\n'"
      ]
     },
     "execution_count": 46,
     "metadata": {},
     "output_type": "execute_result"
    }
   ],
   "source": [
    "s = blob.download_as_string(start=0, end=101)\n",
    "s"
   ]
  },
  {
   "cell_type": "code",
   "execution_count": 18,
   "metadata": {},
   "outputs": [
    {
     "data": {
      "text/plain": [
       "b'XXXXXXXXXXXXXXXXX1&1|1|1|1&1|0|1|0&0|0&0|1&1&1&0&0\\n'"
      ]
     },
     "execution_count": 18,
     "metadata": {},
     "output_type": "execute_result"
    }
   ],
   "source": [
    "s = blob.download_as_string(start=102, end=152)\n",
    "s"
   ]
  },
  {
   "cell_type": "code",
   "execution_count": 4,
   "metadata": {},
   "outputs": [
    {
     "name": "stdout",
     "output_type": "stream",
     "text": [
      "CPU times: user 8 ms, sys: 0 ns, total: 8 ms\n",
      "Wall time: 98.3 ms\n"
     ]
    }
   ],
   "source": [
    "%%time\n",
    "# s = blob.download_as_string(start=1, end=101)\n",
    "s = blob.download_as_string()"
   ]
  },
  {
   "cell_type": "code",
   "execution_count": 14,
   "metadata": {},
   "outputs": [
    {
     "data": {
      "text/plain": [
       "bytes"
      ]
     },
     "execution_count": 14,
     "metadata": {},
     "output_type": "execute_result"
    }
   ],
   "source": [
    "type(s)"
   ]
  },
  {
   "cell_type": "code",
   "execution_count": 242,
   "metadata": {},
   "outputs": [
    {
     "name": "stdout",
     "output_type": "stream",
     "text": [
      "CPU times: user 0 ns, sys: 0 ns, total: 0 ns\n",
      "Wall time: 6.2 µs\n"
     ]
    },
    {
     "data": {
      "text/plain": [
       "'XXXXXXXXXXXXXXXXXXXXXXXXXXXXXXXXXXXXXXXXXXXXX0|1&0\\nXXXXXXXXXXXXXXXXXXXXXXXXXXXXXXXXXXXXXXX0|1&1&1|1&0\\nXXXXXXXXXXXXXXXXX1&1|1|1|1&1|0|1|0&0|0&0|1&1&1&0&0\\nXXXXX0&0|1|0|0|0|0|1&0|0|1|1|1|1&1|1&1&0&0|0|0|1|1\\nXXXXXXXXXXXXXXXXXXXXXXXXXXX1&0&0|1|1|0|0|0|0|0&1|0\\nXXXXXXXXXXXXXXXXXXXXX1&0|1&0|1&1&1&0|1&1|0&1&0|0&0\\nXXXXXXXXXXXXXXXXXXXXXXXXXXXXXXXXX1&1&0&0|1|1&0&1&0\\nXXXXXXXXXXXXXXXXXXXXXXXXXXXXXXXXXXXXX1&1&0|1|1&1&1\\nXXX1|1|0&0&1&1|1|1&1|1|0&1&0|1&1&0|1|1&1|0|1|1&1|0\\nX1&1|0&0|0&0|1&0|1&0|1&1&1&0&0|1&0&0&0&0|1|1|0|1&1\\nXXXXXXXXXXXXXXXXXXXXXXXXXXXXXXXXXXXXXXXXX0|0&1&1&1\\nXXXXXXXXXXXXXXXXXXXXXXXXXXXXXXXXX0|1|0&1|1|1|0&0&0\\nXXXXXXXXXXXXXXXXXXXXX1|1&0&0|1|1&1&0&0&0|1|0&1&0|1\\nXXXXXXXXXXXXXXXXX1|0&0&1|1|1&1|0|1&1&0&1&1|0|0&0|1\\nXXXXXXXXXXXXXXXXXXXXXXXXXXXXXXX0|0|0|0&1|1&0&1|0|1\\nXXXXXXXXXXXXXXXXXXXXXXXXXXXXXXXXXXX0|0&0|1&1|0&0&1\\nXXX0|0&1&1&1&1&0&0|1&0&0&0&0&1|1|1|1&0|1&0&1&0&1&1\\nXXXXXXXXXXXXXXXXXXX1&1&1&1&0|1|1|0|0|0&0|0&1&0|0|1\\nX0&1&0|1|1|0&1|0|1|1|1|1|1&0&1&0|1|0&0&1&1|0|1|0&0\\nXXXXXXXXXXXXXXXXXXXXXXXXXXXXXXXXXXXXX1&0&1&0&1&0&0\\nXXXXXXXXXXXXXXXXXXXXXXXXXXXXXXXXXXXXXXXXXXXXXXX0&1\\nXXXXXXXXXXXXX1|0|1|0|1&1|1&1|0|0&1|0&1&1&0&1|0&0&0\\nXXXXXXXXXXXXXXXXXXXXXXXXXXXXXXXXXXXXXXXXXXXXX1&0|1\\nXXXXXXXXXXXXXXXXXXXXXXX1&0|1|0|0|0&1&0&1|1|0|1|0&0\\nXXXXX0&1|1|1|1|1&0|1|1|1|0&0&1&0&1|1|1|1&1&1&0|1|0\\nXXXXXXXXXXXXXXXXXXXXXXXXXXXXXXXXXXXXXXXXXXXXX1&0&0\\nXXXXXXXXXXXXXXXXXXXXX0&1&0&0&1&1|1|0&0&1|0&1&1&0|1\\nXXXXXXXXXXXXXXXXXXXXXXXXXXXXXXXXXXXXXXXXXXXXXXXXX0\\nXXXXXXXXXXXXXXXXXXXXXXXXXXXXXXXXXXXXXXXXXXXXXXX1|0\\nXXXXXXXXXXXXXXXXXXXXXXXXXXXXXXXXXXXXXXXXXXX0&1&0&0\\nXXXXX1|1&0|0&0&0|0&0|0|0|0&0|0|1&0&1|1&1&0|1&1|1&0\\nXXXXXXXXXXXXXXXXXXXXXXX0|0|1|0&0&0|1&1|0&0&0|1&0|1\\nXXXXXXXXXXXXXXXXXXXXXXXXX1|1&0|1&0|1&1&0&0&1|0&1&0\\nXXXXXXXXXXXXXXX1&1|0&1&1|1|0|1|0|0&1&0|1|0&0|1&0&1\\nXXXXXXXXXXX1&1|1&0&1&1&1&0|0|1|0|0&0&1|1&0|1&0&0|1\\nXXXXXXXXXXXXXXXXXXXXXXXXXXXXXXXXXXXXXXXXX1&1|0|0&0\\nXXXXXXXXXXX0&0|0|1&0|1&0|1&0|0|0|1&1|0&1|1&1&1|0&1\\nXXXXXXXXX1|1|1&1|0|0&0|0&1|1|0&1|1|0&0&0&1&1|1|0|0\\nXXXXXXXXXXXXXXXXXXXXXXXXXXXXX1&0|1&0|0&0&1&1&1&1&0\\nXXXXXXXXXXXXXXXXXXXXX0|1&0|1&0|0&0|0|0|1&0&1|1|0|1\\nXXX0&1&1&1|0&0&0&0|0&0|1|0&1|1|1&1|1|1|0&0|1&0&1|0\\nXXXXXXXXXXXXXXXXXXXXXXXXX0|0|0|1|1|0&1|0|0|1&0|1|1\\nX1|1&1|1&1|1|1&0|0&0&1&1|0|0&0|1|0&1|0&1&1&1|1&1&0\\nXXXXXXXXXXXXXXXXXXXXXXXXXXXXXXXXXXXXXXXXX1|1|1&0|0\\nXXX0|0|0&0&1&0|1|0|0|0|0&0|1&0&1&1|1&0&0&1&0|0&0|0\\nXXXXXXXXXXXXXXXXXXXXXXXXXXXXXXXXXXXXXXXXXXXXXXXXX0\\nXXXXXXXXXXXXXXXXXXXXXXXXXXXXXXXXXXXXXXXXXXXXX0|0|0\\nXXXXXXXXXXXXXXXXXXX1|0&0&1|0&1|1|1|1&0&1|0|0&0|0&0\\nXXXXXXXXXXXXXXXXX0&0|1|1|0&1|1|0|0|0&1|1|1&0&0&1|1\\nXXXXXXXXXXXXXXXXXXXXXXXXXXXXXXXXXXXXXXXXXXXXX0&0&0\\nXXXXXXXXXXXXXXXXXXXXXXXXXXXXXXXXXXXXXXXXXXXXX0&1&1\\nXXXXXXXXXXXXXXXXXXXXXXXXXXX0|1&0&1|1&1&1|1&0&0|0&0\\nX0&1&1|0&1|0&0|1|0&1|0&1|0|1|1|0&1&0&0&0&1|0|1&1|0\\nXXXXXXX0&1&0&0|0|0|1&1&1|0&0&1&0|0|0|1|1|0&0|0|1&1\\nXXXXXXXXXXXXXXXXXXXXXXXXXXXXXXXXXXXXXXXXXXXXX1&0|0\\nXXXXXXXXXXXXXXXXXXXXXXXXXXXXXXXXXXXXXXXXX1&1|0|1&0\\nXXXXXXXXXXXXXXXXXXX0&0&0&1|1&0&1&1&0&0|1&0&0&0&0&1\\nXXXXXXXXXXXXXXXXXXXXXXXXXXXXXXXXXXXXX1&0&1&0&1&1&1\\nXXXXXXXXXXXXXXXXXXXXXXX0|1|0&1|0&1|0|1&1&0&0|1&0|0\\nXXXXXXXXXXXXXXXXXXXXXXXXXXXXXXX0|0|1|1|0|1|1|0&0&1\\nXXXXXXXXXXXXXXXXXXXXXXXXXXXXXXXXXXX0&0&1|1&0|1|1|1\\nXXXXXXXXXXXXXXXXXXXXXXXXXXXXXXXXXXXXX0|0|1&1&1&1&1\\nXXXXXXXXXXXXXXX1|0|0&0&1&1&1&1|0&0|0&1|1|1&1&1|0&0\\nXXXXXXXXXXXXXXXXXXXXXXXXXXXXXXXXX0&0|1&1&1&1|0&1|0\\nXXXXX0&0&1&1&1|1&0&1|1|0&0|1|0|0|1|0|1|0|1&1|1&1&1\\nXXXXXXX1&1|0|1|0&1&1&0&1|1|0|0&1&1&0&0|0&0&1|1&0|0\\nXXXXXXXXXXXXXXXXXXXXXXXXXXX1|1&1|0&0&0|0|0|1|0&1&1\\nXXXXXXX0|0&0|1|0|0&0|0&1&1&0&0|1&0|0|0&0|1&0|0|1|1\\nXXXXXXXXXXXXXXXXXXXXXXXXXXXXXXX0|1&0|0|0&1&0&1&0|1\\nXXXXXXXXX0&0&0&1|0&0|0|1|0|1&0&0|1|0|0&0|0&0|0|0&1\\nXXXXXXXXXXXXXXXXXXXXXXXXXXXXXXXXXXXXXXXXXXXXX1|0&1\\nXXXXXXXXXXXXXXXXXXX0&1|1|1&0&0&1&0|1|0|0|0&0&1&0|1\\nXXXXXXXXXXXXXXXXXXXXXXXXXXX1|0|0|0&1|0&0|0&0&0|0|0\\nXXXXX0|0|1|1|0&0&0|0|1&1&1&1&1&0|0&0|1|0&1&0|1&0|0\\nXXXXXXXXXXXXXXX1|0|1&0|0|0|1&0|1&0|0|1|0|0&1&1|1|1\\nXXXXXXXXXXXXXXXXX0&1|1|0|0&0&1|0&0&0|1|1&1&1|1|0&1\\nXXXXXXXXXXXXXXXXXXXXXXXXXXXXXXX0&1|0&1&0&1|1|0|1|0\\nXXXXXXXXXXXXXXXXX1|0&1&1|1&0|0&0&0&1|0|0|0|1&0|0&1\\nXXXXXXXXXXXXXXXXXXXXXXXXXXXXXXX1|0|1|0&1&1&1&0|0|0\\nXXXXXXXXXXXXXXXXXXXXXXXXXXX1&1|0|0&0|1|0&1|0&0&1|1\\nXXXXXXXXXXXXXXXXXXXXXXXXXXXXXXXXXXXXXXXXXXXXXXX0|0\\nXXXXXXXXXXXXXXXXXXXXXXXXXXXXXXXXXXXXXXXXX0|0|0&1|0\\nXXXXXXXXXXXXXXXXXXX0|0&1&0&1&1|0|0&1|1&0&0&0&1&0&1\\nXXXXXXXXXXXXXXXXXXXXXXXXXXXXXXXXXXXXXXXXXXXXX0|0&1\\nXXXXXXXXXXXXXXXXXXXXXXXXXXXXXXXXXXXXXXXXXXXXXXXXX1\\nXXXXXXXXXXXXXXXXXXXXXXXXXXX1&1&0&1|0&1&0|0|0&1&1|0\\nXXXXX0|0&1|0|0&0&0&0&1&0|0|0&0|0&0&0|0|0|1|0|0|1&1\\nXXXXXXXXXXXXXXXXXXXXXXXXXXXXXXXXXXXXX0&1|0|1&0|0&1\\nXXXXXXXXXXXXXXXXXXXXXXXXXXXXXXXXXXXXXXX0|0&0|1&0&0\\nXXXXXXXXXXXXXXXXXXXXX1&0|0|0&0&0&1&0|1&1|0|1|1|1&0\\nXXXXXXXXXXXXXXXXXXXXXXXXXXX0|1&0&0&1&1&0|1|0&1&0|1\\nXXXXXXXXXXXXXXX1|0|1|0&0|0|1&0|1|1|1&0|0|1&1&0&0|0\\nXXXXXXXXXXXXXXXXXXXXXXXXXXX1|1|1&1&0|0|0&1&1|1|0|1\\nXXXXXXXXXXXXXXXXXXXXXXXXXXXXXXXXX1|0|1&0&0&0|1|1&0\\nXXXXXXXXXXXXXXXXXXXXXXXXXXX1|0|1|0|1&1&1|0|0&1&0|1\\nXXXXXXXXXXX1|1&0|1|0&1|1&0&1|0|0&1&1&1|0&0&0&0|1|0\\nXXXXXXXXXXXXXXXXX0|1&0|1&0|0&0&0&0|1&0&1&1|0&1&1|0\\nXXXXXXXXXXXXXXXXXXXXXXXXXXX1&1&1&0|1|0|0|0|0&1&1&0\\nX1&1&0&0|1&0|0|0&0&0&1|0|1|1|1&1|1|1&1&0&1&0|0|1&1\\nXXXXXXXXXXXXXXXXXXXXX0&1|1&1|0&1|1&0|0|1|1&1&1|0|0\\nXXXXXXXXXXXXXXXXXXXXXXXXXXXXXXX1|0|0|0&1|0&0&0|0|1\\nXXXXXXXXXXXXXXXXXXXXXXXXXXXXXXX0&0|0&1|1&1&1|0&0&0\\nXXXXXXXXXXXXXXXXX1&0|0|0&1|1&0&0&0|0|1|0&1&1&1&1|1\\nXXXXXXXXXXXXX0|1&1&1|1|0&0&0&0&1&1&1|0&0&0|1&0|1&1\\nXXXXXXXXXXXXXXX1&0|0|1|0|1&1|0|0&0|1|1&1&1|0|0|0&1\\nXXXXXXXXXXXXXXXXXXXXXXXXXXXXXXXXXXX1|0&0|0&1&1|1|1\\nXXXXXXXXXXXXXXXXXXXXXXXXXXXXXXXXXXXXXXXXX1|0&1&0&0\\nXXXXXXXXX1&0&1&0&1&1|0&1|0&0&1|1|1|1&1&0|0|0|1|0&0\\nXXXXXXXXXXXXXXX0&1&0|1&1&0|0|1&0&1&0&0|0|0|0|0&1|0\\nXXXXXXX1&1&1|0|1&0&0&0&1&0&1|0&0|0|1|0|1|1&1|0|0|0\\nXXXXXXXXXXX0|0|1|1&1|1|0&1|1|0&1&1|1&0&0|0&1|1&1&0\\nXXXXXXX1|1&1|1|0&0|1|1|1|1&1&0&1&0&1|1|0|0|1|0|1&0\\nXXXXXXXXXXX1&0&0|1&1&1|0&1&0|0|1&0&0|1|0|0|1&1&0&0\\nXXXXXXXXXXXXXXXXXXXXXXXXXXXXX1&1&1&1&0&1&1&0|0|1|1\\nXXXXXXXXXXXXXXXXXXXXXXXXXXXXXXXXXXXXX0|0|1|0|1|1|1\\nXXXXXXXXXXXXXXXXXXXXXXXXXXXXXXXXXXXXXXXXXXXXX1|1&1\\nXXXXXXXXXXXXXXXXXXXXXXXXXXX0&1&0&1&0&0&1&0|1&1&1|1\\nXXXXXXXXXXXXXXXXXXXXXXXXXXXXXXXXX0|0&0&0|0|0|0|1&0\\nXXXXXXXXXXXXXXXXXXXXXXXXXXX1&1|1&1|0|0|1|0&0&0|0&0\\nXXXXXXXXXXXXXXXXXXXXXXXXXXXXXXXXXXX0&1&0&1&1&1|1|1\\nXXXXXXXXXXXXXXXXXXXXXXXXXXXXXXXXXXXXXXXXXXX1&0&0&0\\nXXXXXXXXXXXXXXXXXXXXXXXXXXXXXXXXXXXXX1&0&1|0|1|0&0\\nXXX0&1|1|1&0|0&1&0&1|0|1|1&0&1|0|1|1&0|0&0&0|1|0&0\\nXXX0&0&1&0&1&0&0&0|1|1|1&0|1|1|0&1&1|1|1|1&1|0&0|0\\nXXXXX0|1|1|1|0|0&1&0&1&0|0&0&0|0|1|1&1|1|1&1|1&1&0\\nXXXXXXXXXXXXXXXXX1|0|0|1&0|1&1|1|1|1|1&1|1&1|1|1&0\\nXXXXXXXXXXXXXXXXXXXXXXXXX1&1|0&0&1&1|1&0&1|0|1|1&0\\nXXXXXXXXXXXXXXXXXXXXXXXXX1&1|0&1&0|0&1&1&1|0&1&0|1\\nX0&1|1|1|0&0&1|1|1&0&1&1&0&0&1|0|1|0&0&1&1&1&0|1|1\\nXXX1&0|1&0&1|1&1&1&0&0&0|1&1|0&1&0&1|0&1&0|1&0|0|1\\nXXXXXXXXXXXXXXXXXXXXXXXXXXX1&1&0&0|0&0|0&1|1|1&1&1\\nXXXXXXXXXXXXXXXXXXXXXXXXXXXXXXXXXXXXXXXXXXXXX0|1&1\\nXXXXXXXXXXXXXXXXXXXXXXXXXXXXXXX1|0&1&0&0|0&0&0|1|0\\nXXXXXXXXX1&0|0|1|1|1&1&1&1&0&1&0|1|0&1|0|0|1|1&0|0\\nXXXXXXXXXXXXXXX0|0&0&0|1|0|0|0|0&0&0|1|1&0&1&1|0|1\\nXXXXXXXXXXXXXXXXXXX0|1&1|1|1&0&0|1&0&0|1|0|1&1|0|1\\nXXXXXXXXXXXXXXXXXXXXXXXXXXXXXXXXXXXXXXXXXXXXXXXXX1\\nXXXXXXXXX1|1|0|1&1|0&1&1|1|1|1&0|1&1&1&0&0|0&0|0|1\\nX0|1|1&0&1&1&0&1|0&1&0&0|0&1&1&1&1|1|1&1&0|1|0&1&0\\nXXXXXXXXXXXXXXXXXXXXXXXXXXXXXXXXXXXXX0|1|0&0|0&1&0\\nXXXXXXXXXXXXXXXXXXXXXXXXXXXXXXXXXXXXX0|1&0&0&0&1|1\\nXXXXXXXXXXXXXXXXXXXXXXXXXXXXXXXXXXX1|1|1&1|1&0&1|0\\nXXXXXXXXXXXXXXXXXXXXXXXXXXX1&1&0|0&0&1&1|0&1&0&1&0\\nXXXXXXXXXXXXXXXXX0&0&1&0|1|0|0&1|1|0&0|0|1&1&1|0|0\\nXXXXXXXXX0&1&1|0|1|1&0&1|0|1&1&0|0&1&0|0|0|1|1&1|1\\nXXXXXXXXX1&1|0|1&1|0&0&1|0&0&0&0&0&1|1&0|1|1|1|1&1\\nXXXXXXXXXXXXXXXXXXXXXXX1|1|0|1&1&1&1&1&0|0&1|1&0|1\\nXXXXXXXXXXXXXXXXXXXXXXXXXXXXXXXXXXXXXXXXXXXXXXX1&1\\nXXXXXXX0|1&1|0&0&1|1|1|1|1|1&0|0&1|1|1&1|1&0&0&0|1\\nXXX0|0|0|1&0|0|0|0|1&0|0|1|0&1|1|0|0|1|1&0&0|0|1&1\\nXXXXXXXXXXXXXXXXXXXXXXXXXXX1|1|1&0|1|1|0&1|1|1&1&0\\nXXXXXXXXXXXXXXXXXXXXXXXXXXXXXXXXXXXXXXXXXXX0&1|0&1\\nXXXXXXX0|0|0|1&1|0&1|1|0&0|0|1&0&1&1&1&1&0&0&1&0&1\\nXXXXXXXXXXXXXXXXXXXXXXXXXXXXXXX0&0|0|1&0|0|1|1&1&0\\nXXXXXXXXXXX0&1&0&0|1|1|0&0&0&1&0|0|0&0|0|1&0|0&1|0\\nXXXXXXXXX1&0&1|0|0&0&0|1&0&0|1&1&1&0&1|0|0|1|0|1|0\\nXXXXXXXXXXXXXXXXXXXXXXXXXXXXXXXXXXXXXXXXXXX1&0&0|1\\nXXXXXXXXXXXXX0&1&1&1|1&1|1&0&1|1|1&1|0|0|1&1|0|0&1\\nXXXXXXXXXXXXXXXXX1&1&0&0|1|0&0&1|0&1|1&1&1|1|0&0&1\\nXXXXXXXXXXXXXXXXXXXXXXXXXXXXXXXXXXXXXXXXXXX1&0&1&1\\nXXX0|0|1|0&0|0|0&0&0&1&1&1&0|0|1&1&0|0&1&0|0|0|1|0\\nXXXXXXXXXXXXXXXXXXXXXXXXXXXXXXXXXXXXXXXXXXX0|1&0|0\\nXXXXXXXXX1&0|1&0|1&0|1|0|1|0|0&1&0&1&0&1|1&1|0|1&1\\nXXXXXXXXXXXXXXXXXXXXXXX0|1&1&1&1&1|1|0&0|1&1|0|0&0\\nXXXXXXXXXXXXXXXXXXXXXXXXXXXXXXXXXXXXXXXXXXXXX0&0&1\\nXXXXXXXXXXXXXXXXXXX1&1|1&1&0|1|0|1|1&1|1&0|1|0|0|0\\nXXXXXXXXXXXXXXXXXXXXXXX0&1&1&1|1&0|1&1&1&1|0&0|1|0\\nXXXXXXXXXXXXX1&0|1|0|0|1&1&0&1|1&0&0|0|1&0|1|1&0&1\\nXXXXXXXXXXXXXXXXXXXXXXXXXXXXXXXXXXX1&1|0|1|0|1&0|1\\nXXXXXXXXXXXXXXXXXXXXXXXXXXXXXXXXXXXXX1|0|0|0&1&1&1\\nXXXXXXXXXXXXXXXXXXX1&1&0|1&0|1|0&1&0|1|0|1&1&0|1&1\\nX1&0|1|0|0&1&0&1|0&1&1|1&0|1|1&1&0|0|0|1|0&1&1|1|0\\nXXXXXXXXXXXXXXX1|1|0&1&1|1|1|0&1|1|0&0&1&1&0&1|1|0\\nXXXXXXXXXXXXXXXXXXXXXXXXXXXXXXXXXXXXX1&1&1&1&0&1&0\\nXXXXXXXXXXXXXXXXXXXXXXXXXXXXXXXXXXXXXXXXXXXXX1|1|0\\nXXX0|1|0|1&1&1&0&0&1|0|1|0&1&1|0|0|1|1|0&0|0|0|0|0\\nXXXXXXXXXXXXXXXXXXX0|0|0|1&0|1&0|1|1|1&0|1&1&0|0&1\\nXXXXXXXXXXXXXXXXXXXXXXXXXXXXXXXXXXXXXXXXXXX0&1&1&0\\nXXXXXXXXXXXXXXX0|0|0&0|1&1&0|1|0|1|1|1|0|1|1&0&0|1\\nXXXXXXXXXXXXXXXXXXXXXXXXXXXXXXX1&1&1&1|0|0&0&0|1&0\\nXXX1&0|1&0|0&1|0&1&0&0&0&1|0&0&0&0&1&0&0|0&0|1|0&0\\nXXXXXXXXXXXXXXXXXXXXX0|1&1&0|0|0&0|1&0&0|1|0|1|0&1\\nXXXXXXXXXXXXXXXXXXXXXXXXXXXXXXXXX1&0&0&0&1|0|1|0&0\\nXXXXXXXXXXXXXXXXXXXXXXXXX0|1|0|1&0&0|1|1&0|1|0|0&1\\nXXXXXXXXXXXXXXXXXXXXXXXXXXXXXXXXX1|0&0&0&0&0&0&0&1\\nXXXXXXXXXXXXXXXXXXXXXXXXXXXXXXXXXXXXXXXXX0&1|1|0&0\\nXXXXXXX0&1|0&0|1|1&0&0&1&0&0&0|1&1|1&0|1|1&1&1|0|1\\nXXXXXXXXX0|0&0&1&0|1&0&1|0|0&1|1&1|1&1&1&0|1|1|0|0\\nXXXXXXXXXXXXXXXXXXXXXXXXXXXXXXXXXXXXX1|1|0&1&0|1|0\\nXXXXXXXXXXX1|0|1|1&1|1|1&1&1|0&0|1&0&0&1&0&0&1|1&0\\nXXXXXXXXXXXXXXXXX1&1|1&1&1&1&1|1|1&1|0|1|0|1&0|0&1\\nXXXXX0|1|0|1|0|0|1|0&0&0&1|0&0|1&1&0&1&1|1|0|0|1&0\\nXXXXXXXXXXXXXXXXXXXXXXXXXXXXXXXXXXXXXXX1|1|1|1&0&1\\nXXX0|1&0|0&0|1&1|0|1&1|1|0&0|1&0|1&1|1|1&0&1&0&0|1\\nXXXXXXXXXXXXXXXXXXXXXXXXXXXXXXXXXXXXXXX1|1|1|0&0&0\\nX1&1&1|1|0&0&0|0|1|0|0&1|1&1|1&0&0&0&1|0&0&1&0&1&1\\nXXXXXXXXXXXXXXXXXXXXXXXXXXXXXXXXX1&1&0|0|0|0&0&1|1\\nXXXXXXXXXXXXX0|1|1&0|0&1|0|0|0|1&0|1|1&0&1|1&0|0&1\\nX1&0|1|1&0|0|1|1|0|1&1&0&0|0&0|1&0|1|0&0&0|1&1|0|1\\nXXXXXXXXXXXXXXXXXXXXXXXXXXXXXXXXXXXXXXXXXXXXXXX1&1\\nXXXXXXXXXXXXXXXXXXXXXXXXXXXXXXXXXXXXXXXXXXXXX1|1|0\\nXXXXXXXXXXXXXXXXXXXXXXXXXXXXXXXXXXX1|0|0&1&0|0&0&1\\nXXXXXXXXXXXXXXXXXXXXXXXXXXXXXXXXX1|1&0&1&0&1|0&1&0\\nXXXXXXXXXXXXXXXXX0|1|1|1&0&0|1&1|1&0&1|1|0&0|0|1&1\\nXXXXXXX0&0|0|1&1|1|0|0|1&0&0&0&1&1|1&0|1&0&0&1|1|0\\nXXXXXXXXX0|1|0&0&1&1|1|1&0&1&0|0|0|0&1&1|0&0&0|1|0\\nXXXXXXXXXXXXXXXXXXXXXXXXXXXXXXXXX1&1&0|0&0&0&1&0&1\\nXXXXXXXXXXXXXXXXXXXXXXXXXXXXXXXXXXXXXXXXXXX0&0&1|1\\nXXXXXXXXXXXXXXXXXXXXXXXXXXXXXXX0|1|1|0&0|0&0|1&1|1\\nXXXXXXXXX0&0|1|1|1|0|1&1|0|0|0&0|0|0&0&0&1&1&1&1&1\\nXXXXXXXXXXXXXXXXXXXXXXXXX0|1&0&0&0&1|1|1|1|1&0&0&0\\nXXXXXXXXX1&1&1|1|0&1&0|0|1|0&0&1&0&1|0&0|0|1|1|1&1\\nXXXXXXXXXXXXXXXXXXXXXXXXXXXXXXXXXXXXXXX1&0|1|1&0&0\\nXXXXXXXXXXXXXXXXXXXXXXXXXXXXXXXXXXXXX0|1|0&1|0|0&1\\nXXXXXXXXXXXXXXXXXXXXXXX1|0&0&0|1&1|0&0&1&0|0&0&0|0\\nXXXXXXXXXXXXXXXXXXXXXXXXXXXXXXXXXXXXXXXXX1&1&1&1&1\\nXXXXXXXXXXXXXXXXXXXXXXXXXXX1&0&0|1|0|0|0&1&0&1|0|0\\nXXXXX0&0|0|1&0&1|1|0|0|1&1&0&1|1|0&0|1|1&0|0|1|0|0\\nXXXXXXX1&1&0&0|1|1&1|1&0&1|0&0|0&1&1&1|1&1&0|0&0|0\\nXXXXXXXXXXXXXXXXXXXXXXXXXXXXX0&0|0&0&0&1|0|0&1|1|0\\nXXXXXXXXXXXXXXXXXXXXXXXXXXXXXXXXXXXXXXXXXXX0&0&1&1\\nXXXXXXXXXXXXXXXXXXXXXXXXXXXXXXXXXXXXXXXXXXXXX0|1&0\\nXXXXXXXXXXXXXXXXX1|0&1|1&0&0&1|1&0&0&0|0|1|0|0|0&0\\nXXXXXXXXXXXXXXX0&1&0&1|0|0&0&0&1&1|1|1&1|0|0|1|1|1\\nXXXXXXX1|1|1&1|1&1|1&0&1&0&1&1&0&1&0&0&1|1|1&1|1&1\\nXXXXXXXXXXXXXXXXXXXXXXXXXXXXXXXXXXXXXXXXXXXXXXXXX1\\nXXXXXXX0|0|0&0&0|0|1&1|1&1&0&0&0&1|0|0&0|1&1|1|0&0\\nXXXXXXXXXXXXXXXXXXXXXXXXXXXXXXXXXXX1&0|1|1|1|0|0|1\\nXXXXXXXXXXXXXXXXXXX1|1&0|1|1|1|0&0&0|0|0&1|1&0|0&0\\nXXXXXXXXXXXXXXXXXXXXXXXXXXXXXXXXXXX1&0|1&0|1&0|1&1\\nXXXXXXXXXXXXXXXXXXXXXXXXXXX1|1|1|0|0&1|1&1&1|0&0|0\\nXXXXXXXXXXXXXXXXXXXXXXX0|1|0&1|0&0&1&0|0|1|1&1&0|1\\nXXXXXXXXXXXXXXXXXXXXXXXXXXXXXXXXXXXXXXX0&1&1|1|0&0\\nXXXXXXXXXXXXXXXXXXXXXXXXXXXXX1&0&0|1|1|0|1&1&0|0&0\\nXXXXXXXXXXXXXXXXX0&0&0|1&0&1&1|1|1&0&1|1|1&0&0|0&0\\nXXXXXXXXX1&1|1|1&1&1&1&0|0&1|0|1&0|0|0|1&1&1|1&0|0\\nXXX0|0&1&1|0|0&1|1|0&0&0|1&0|1&0&1|0&0|0|0&0|0&0&0\\nXXXXXXXXXXXXX0|1|1|1|1&1|1&0&0|0|0&1|0&0|1&0|1&1&1\\nXXXXXXXXXXXXXXXXXXXXXXXXXXXXXXXXXXXXX1&0|1&0&0&1&1\\nXXXXXXX1&0&1|1|0|1&0|0&0&1|1&1&0&0|0|1|1&0&0|0&1&1\\nXXXXXXXXXXXXXXXXX0&0|1&1|1&1|1|0&1|0|1&1&1|1&0&0&1\\nXXXXXXXXXXXXXXX1&0&0|1|0|1|0|0&0&0&1|0|1&1|0|0|1&0\\nX1|1|0|1|1|1&1|1|1|0&0|0|1&0|1&1&1&0|1|0|0&0|0&0|0\\nXXXXXXXXXXXXXXXXXXXXXXXXXXXXXXX0|0&1|0|1|0&1&1&0|0\\nXXXXXXXXXXXXXXXXXXX1&1&1|0|1|0&0&0|0&1|0&0&1|0|0|1\\nXXXXXXXXXXXXXXXXXXXXXXXXXXXXXXX0|1|1&0&1|0|1&1|0&0\\nXXXXXXXXXXXXXXXXXXXXXXXXXXXXX1|0|0|1&1|0&1|1|0|1&1\\nXXXXXXXXX1&1|0&0|0|1&1&0&0&0&0&1&1&0&1|1&0|0&1&1&0\\nXXXXXXXXX0|1&0|0|0&0|1|0|0|0&0&1&0&1&1&1|0&0&0&0|1\\nXXXXXXXXXXXXXXXXX0|0&0|1&0&0&0&0&0|1&0|0&1|0&0&0|1\\nXXXXXXXXXXXXXXXXXXX1&1|1&0|1|0|1|0|0|0|0|1&0&1|0&0\\nXXXXXXX0|1&0&0|1&1&1&1|1|0&1&1&1|1|1|0&0|0|0&1&1|0\\nXXXXXXXXXXXXX0|0&0|1|0|0&1|0|1&0&1|0&1&0&1|0|0|1&0\\nXXXXXXXXXXXXXXXXX0&1&1&0|1|1&1|0|1&1&0|0&0&1&0&1&1\\nXXXXXXXXXXXXXXXXXXXXXXXXXXX1|1&1|1|1|0|0&1|0|0|1|1\\nXXXXXXXXXXXXXXXXXXXXXXXXXXXXXXXXXXX1|1|1|0&0|0&1&0\\nXXX1|0|0&0&0&1|0|1|0&1&0|1|0|1|0|1&1|1|1&0&1&1&1&0\\nX1|1|0&0&0|1&0|1|1&0|1|0&1|0&1&0&0|0&0|0&0|1&0|1&1\\nXXXXXXXXXXXXXXXXXXXXXXXXXXXXXXXXXXX0&1&1&1&1&0|1&1\\nXXXXXXXXXXXXXXXXXXXXX1&1|0|1&1&0&1&1&1|1|0|0|1|0&1\\nXXXXXXXXXXXXXXXXXXXXXXXXX0|0&0|1|1|1&1|1|1|0&0|1|0\\nXXXXXXXXXXXXXXXXXXXXXXXXXXXXXXXXXXXXXXX0|1&0|0|0&1\\nXXXXXXXXX0|1|0|1&0&0&1|1&0&0&1&0|0&0|1|1|1&1&1|0&0\\nXXX1&1|1&1|0&0|0|1&0&1|0&0&0|1&1&1|0|1&1&0&1&0|0|0\\nX1|1&0&0|1&1|0&1|1&0&0|0|1|1|1|1|1|1|0|0|0&1&1&0&1\\nXXXXX0&0|1|0&0|1&1|0&0|1|1&0&0&0|0&1|0&1|1|1&0&1|0\\nXXXXXXXXXXXXXXXXXXXXXXXXXXXXXXXXXXX1|0|0|0|1|0|0|1\\nXXXXXXXXXXXXXXXXXXXXXXXXXXXXXXXXX1|1&1&1|1|0&1&1|1\\nXXXXXXXXXXXXXXXXXXXXXXXXXXXXXXXXX1&0|1|1|1&1&1|1|0\\nX1&1|1&0|0|1|1|0&1|0&1|0&0&1|1|1&0&0&1|0&1|1|0&0|1\\nXXXXXXXXXXXXXXXXXXXXXXXXXXXXXXXXXXXXXXXXXXX0&1|1&1\\nXXXXXXXXXXXXXXXXXXXXXXX1&1&1|0&1|0|0&0|0&1&0|1|1|0\\nXXXXXXXXXXXXXXXXXXXXXXXXXXXXXXX0&1&0&1|1|1&0|1&1&1\\nXXXXXXXXXXXXXXXXXXXXXXXXX0|1&1|0&1&0|1&1&0|0&1&0&1\\nXXXXXXXXXXXXXXXXXXX1&0|0&1|0|1&1&0|0&1&0|0&0|1&0&1\\nXXXXXXXXXXXXXXXXXXXXXXXXXXXXXXXXXXXXXXXXX1|0|0|1&1\\nXXXXXXX1|1&0|1|1|1|1|0|0|0|0&0|1|1&0&0|0&0&1&0|0&1\\nXXXXXXXXXXXXXXXXXXXXXXXXXXXXXXX0|0|1|1&0&1&0|0|1&0\\nXXX0&0|0|0|0&1|0|0&0&0&1&1|0&1|1&1|0&1&0|1|0&0&0&1\\nXXXXXXXXXXXXXXXXXXXXXXX1|0&1|0&0&1&1&0&0&0|0|0&0&1\\nXXXXXXXXXXXXXXXXXXXXXXXXXXXXXXX0&0&1&0|1|0|1|1&0&0\\nXXXXXXXXXXXXXXXXXXXXXXXXXXXXX0&0|1|1|1|0&0|1&1|0&0\\nXXXXXXXXXXXXXXXXX0|1&1&1|0|0&0|1&1&1&1|0&1&0&1|1&1\\nXXXXXXXXXXXXXXXXXXXXXXXXXXXXXXXXX1|0&0|1&1|0&0&1|1\\nXXXXXXXXXXXXXXXXXXXXXXXXXXXXXXXXXXXXXXXXXXX1|0&0|0\\nX1|0&0|0|1|0&1|0&1&0|0|0&1|1|1&0&0&0|0&0&0&0&1|0&0\\nXXXXXXXXXXXXXXXXXXXXXXX1|1|1|0|0&1&0|1|1|1&1&1|0|1\\nXXXXXXXXXXXXXXXXXXXXXXXXXXXXXXXXXXXXXXXXXXXXXXXXX0\\nXXXXXXXXXXXXXXXXXXXXXXXXXXXXX1|1|1&1&1|0|0|0|0|1|1\\nXXXXXXXXXXXXXXXXXXXXXXXXXXXXXXX1|1&0|1|0|1&1&0|0&1\\nXXXXXXXXXXXXXXXXXXXXXXXXXXXXXXXXXXXXXXXXX1|0&1|1&1\\nXXXXXXXXXXXXXXXXXXXXX1|1|1&1&1|0|0&1&0&0|0&1|1|1&1\\nXXXXXXXXXXXXXXXXX1&0&1|1&1&1&0|0|1|0|1&1&1&1|1&1|0\\nXXXXXXXXXXXXXXXXXXX1|0&1|1&0|1|0&1|1&0|1&0&1|1&1&1\\nXXXXXXXXXXXXXXXXXXXXXXXXXXXXXXXXXXXXXXXXXXXXXXX0|1\\nXXXXXXXXXXX1&1|1&0&0&1&1|1&1|0&1&0|0|0|0|1&0|1|1&1\\nXXXXXXXXXXXXXXXXXXXXXXXXXXXXXXXXXXXXXXX0|1&1&0&1|0\\nXXXXXXXXXXXXXXXXXXXXXXXXXXXXX0&1&0&1&1&1|1|1|0|1&0\\nXXXXXXXXXXXXXXXXXXXXXXXXXXXXXXXXXXXXXXXXXXXXX1|1&0\\nXXXXXXXXXXXXXXXXXXXXXXXXXXXXXXXXXXXXXXXXXXX1|1|1|1\\nXXXXXXX1|1&1&0|0&0|1&1|1|1|1|0&0|1|1&0&0|1&1&1&0|1\\nXXXXXXXXXXX0&1&1&1|1|0|0&1&0&0|1|0|1|0|1|0|1|1|0|0\\nX0|1&0&0&0&0|1|1&1&0&1&0|1|1&0&1&0&1|1&1|0|1&0&0|1\\nXXXXXXXXXXXXXXXXXXXXXXXXXXXXXXXXXXXXXXXXXXXXXXX0|0\\nXXXXXXX0|0|0|0&1&0&1&0&0&1&0|1|0&1&0&0&0&1|0&1|0|0\\nXXXXXXXXXXXXXXXXXXXXXXX0&0|0|1&1&0&0|0|0&0&0|0&1&0\\nXXXXXXXXXXXXXXXXXXXXXXXXXXX1|1|0&1|1|0|0|1&0|0&1&0\\nXXXXXXXXXXXXXXXXXXXXXXXXXXX0&0|0&1&0&1&1&1|1&0&1&0\\nXXXXXXX1&1|1|1|1|0&0&1&1&1|0&1|0|0|1|1|1|1&1&0&0&1\\nXXXXXXXXXXXXXXXXXXXXXXXXXXXXXXXXXXXXXXXXXXX1|1&0&0\\nXXXXXXXXXXXXXXXXXXXXXXXXX1|1|0&1&1&0&0&0|0|1&0&0|0\\nXXX0|1&1&0&1|1|1&0&0&1&1|1|0&0|0&1|1|1|1&0&0&1&1&1\\nXXXXXXXXXXXXXXXXXXXXXXXXXXXXX0&0&0|1&1|1&0&1|0&0&0\\nXXXXXXXXXXXXXXXXXXXXXXXXXXXXXXXXXXXXXXX1|1|1&0&1|0\\nXXXXXXXXXXXXXXXXXXX1&1|0&1|1|1|1&0|1|1|0|1|1&1|1&0\\nXXXXXXXXX1&1|1|1|1|0|1|1&0&1&1|0&1|0|1|1&1|0&0|1&0\\nXXX0&0|0&0&0|1&0|0|0&0|1|0&1&1|0|0&0&0&1|0|0&0|0&1\\nXXXXXXXXXXXXXXXXXXX0|0&0|0&0&0|1|1&0|1|0|1|0&0&0|0\\nXXXXXXXXXXXXXXXXXXXXXXXXXXXXXXXXXXXXXXXXXXXXX1&1|1\\nXXXXXXXXXXXXXXXXXXXXXXXXX1|1&1|0&0&1|0&0&0&1|0&1|0\\nXXXXXXXXXXXXXXXXXXXXXXXXXXXXXXXXXXXXXXXXXXX0&1|0&1\\nXXXXX1&1&0|1&0|0|1&0&0&0&0&1|0|1&0|0&1|0|0|0|0&1&0\\nXXXXXXX0|1|0|0|0|1|1&1&1&0|1&1&0&0&0&0|0|0&1&0&1|1\\nXXXXX1|0|1|1&0&1&0&1&1|1|0|0&1|1&1&1&0&0|1&1|0&0&1\\nXXXXXXXXXXXXXXXXXXXXX1|1|0&0|1&1&1|0|1|1|0|1|0|1|0\\nXXXXXXXXXXXXXXXXXXXXXXXXXXXXXXXXX0|1&0|0|0&0|0|0|1\\nXXXXXXXXXXXXXXXXXXXXXXXXXXXXXXXXXXXXXXXXXXXXXXXXX0\\nXXXXXXXXXXXXXXXXX1&0|1&1|1&1|1&1|1&0&1&1|0|1&0|1&1\\nXXXXXXXXXXXXXXXXX0|0&0&0|1&1|1&1&1|1|0|1|0|0|1|1|1\\nXXXXXXXXXXXXXXXXXXXXXXXXX0&1&1&0|1&0&1&1&0&1&1&0|1\\nX1&1|1|1|1&0&1|0|1|0|0&0&1|1&1&1|1&1&0&1|0&1&0&1&0\\nXXXXXXXXXXXXXXXXXXXXXXXXXXXXXXXXXXXXXXXXX0&0|1|1&1\\nXXXXXXXXXXXXXXXXXXXXXXXXXXXXXXXXXXX0|1&1&1|1|0|0&1\\nXXXXXXXXXXXXXXXXXXXXXXXXX0|1|1&1|1&1&1|1&0&1&1&1&1\\nXXXXXXXXXXXXXXXXXXXXXXX1&1|1&1|1&0|1|0|0|1|1|1|0&1\\nXXXXXXXXXXXXXXXXXXXXXXXXXXXXXXXXXXXXXXX1|0|1&1|0|1\\nXXXXXXXXX0|1&0&0&0|0&0&0&0|0|0|1|1|0&1&0|0&1&0&0|0\\nXXXXXXXXXXXXX1&1|0|0|0|0&1|1|1&0|1|1|0&1|0|0&1&0|1\\nXXXXXXXXXXXXXXXXX0|1|1&1&0&1&1&0|1&0&0&1&1|1|0|0|1\\nXXXXXXX0&0|0&0|1&1&1&1&0&1|1&1|1&0|0&1|0&0|0&0|1|1\\nXXXXXXXXXXXXXXXXXXXXXXXXXXXXXXXXXXX0&0|0|0|1|0&1&0\\nXXXXXXX0&1&1&1&0&0&0&1&0&0|0|1&1|0&0|1|0&0&0&0|0|1\\nXXXXXXXXXXXXXXXXXXXXX1&0&0|1&1|1|1|1&0&0|0|0|0&0&1\\nXXX0&1&1&0|0&0|0|1|1|1&1&0|0|0&1|1&1&1|1|0&1|1|0&0\\nXXXXXXXXXXXXXXXXXXXXXXXXXXXXXXXXXXXXXXXXXXXXX0&0&0\\nXXXXX1&1&1&1|1|1|1|1|0|1&0|0|1|1&1|1&1&1&1|0|0|1&1\\nXXXXXXXXXXXXXXXXXXXXXXXXXXXXXXXXXXXXXXXXXXXXXXX0&1\\nXXXXXXXXXXXXXXXXXXX1&1&1|1|0|1|0|1&1|1|1&1|0|0|0|0\\nXXXXXXXXX0&0|1&1&1&1|0|0|0|1|0&0&0&1|1&1&1|0|0&0|0\\nXXXXXXXXXXXXXXXXXXXXXXXXXXXXXXXXXXXXXXX1&0|1&0&0&0\\nXXXXXXXXXXXXXXXXXXXXXXXXXXXXXXXXXXX0|0|1&1|0|1&1&1\\nXXXXXXXXXXXXXXXXXXXXXXXXXXXXXXX1&1|0|1|0|1&0&1&0|0\\nXXXXXXXXXXXXXXX1|1&0|1|0|1&0&1&1&0|1|1|1&1&1&1|0|1\\nXXXXXXXXXXXXX1&1|1|0&1|1&0|0|0|1&1&1|1&0&0|1&0|1|0\\nXXXXXXXXXXX0|0|1|0&0&0&0|1|0|1&1&1|1&0&1|0|1&0|1|0\\nXXXXXXXXXXXXXXXXXXXXXXXXXXXXXXXXXXXXXXXXXXXXXXX1&1\\nXXXXXXXXXXXXXXXXXXX1|1&1|1&0|0|1&1&1|1&1&0&1|0&1|1\\nXXXXXXXXXXXXXXXXXXXXXXXXX0|0|1|1&1&0|0|0&0&1&1&0|1\\nXXXXXXXXXXXXXXXXXXXXXXXXXXXXXXXXXXXXXXXXXXX1|0|1|0\\nXXXXXXXXXXXXXXXXXXXXXXXXXXXXXXXXX1&0|1&1&1|0&1|0|1\\nXXXXXXXXXXXXXXXXXXXXXXX1|0&0&0|1&1|1|0|0|0&1|0|0&0\\nXXXXXXXXXXXXXXXXXXXXXXXXXXXXXXXXXXX0|0&1|1&0|1&0&0\\nXXXXXXXXXXXXX1|1&0|0&1&1|1|0&0|0|0&1|0|0|1&1&0|1|0\\nXXXXXXXXXXXXXXX0&0&0&0|0&1|0|1|1|0&0|1&0&1&0&0&1&0\\nXXXXXXXXXXXXXXXXXXXXXXXXXXXXXXXXXXXXXXXXXXXXXXXXX1\\nXXXXXXXXXXXXXXXXXXXXXXXXXXX0&0&0&0&0|1|1|1|0|0&0|0\\nXXXXXXXXXXXXXXXXXXXXXXXXXXXXXXXXXXX1&1&1|0&0&0&0&1\\nXXXXXXXXXXXXXXXXXXXXXXXXXXXXX1|1|0&0|0|1&1&1&1&1&0\\nXXXXXXXXXXXXX0&1|0|0|0&1|0|0|1|1|1&0|1&1&0|1|0|0|1\\nXXXXXXXXXXXXXXXXXXXXXXXXXXXXXXXXXXXXXXXXXXXXXXX0&1\\nX1&1|0|0|0&1&1&1&0|1&0&1&1&0&0|0&0|1&1&1&1|0|1|1|1\\nXXXXXXXXXXXXXXXXXXXXXXXXXXXXXXXXXXX1|1|1|0|1|1|1&0\\nXXXXXXXXXXXXXXXXXXXXXXXXXXX1|1&1|0|1|1&1&0&1|0&0|0\\nXXXXXXXXXXXXXXXXXXXXXXXXXXXXXXX0&1&1|0|1&0|0|0&0|0\\nXXXXXXXXXXXXXXXXX0&1&1&0&0|0&1|0|0&1&1|1&0|1|1&1&1\\nXXXXXXXXXXXXXXXXXXXXX1|1|0&0|0&0|1&0&0&0|0|0|1|0&0\\nXXXXXXXXX1|0|1&0|0|1|0|1|0&0&1&1&1|0|0&1&0|1|1&0|1\\nXXXXXXXXXXXXXXXXXXXXXXXXXXXXXXXXX1&0&0&0|0&0&1|0&0\\nXXX0|0&1&1|1|1&1|0|1&0&0&0&1|0|1&1&1&1|1&1|1&1|1|1\\nXXXXXXXXXXXXXXXXXXXXXXXXX1&1&1|1|0&1&0|1&1&1&1&1|0\\nXXXXXXXXXXXXXXXXXXXXXXXXXXXXXXXXXXXXXXXXXXXXX0&1|0\\nXXXXXXX0&1|0|1|0|0|0&0&0&0&1&1&1|1|0&1&1|0|1&1|1|0\\nXXXXXXXXXXXXXXXXXXX0|1|0&0|0|1|0|1&1&1|1|1|0|0&0|0\\nXXXXXXXXXXXXXXXXXXXXXXXXXXXXXXXXXXXXXXXXXXXXX0&0|1\\nXXXXXXXXXXXXXXXXXXXXXXXXXXXXXXXXX1&1&1|0&1|0|0|0&0\\nXXXXXXX1&0&1|1|0&1|0&1&1&0|0&0|0&1&1&0|1&0|1|0&0&0\\nXXXXXXXXX0&0|1&1&1&0&1&1|1|1&1&1&0&1&1&0&1|1|0&1&0\\nXXXXXXXXXXXXXXX1&1&0&1|1&0&0|1|1|1&1|1&1|1&0|0&1&0\\nXXXXXXXXXXXXXXX1&1|0&1|0&1|0|1|1&0|0|1&1|1&0&1&0&0\\nXXXXX1&1&0&0&0|1|1|1&0&0|0&0&0&1&0&0&0|0&1|1&1&0|1\\nXXXXX0&1&1|0|1&0&1&0|0&0&1&0|0|0|1|0&1&1&1&0&1&1&1\\nX1&1&1&0|1&0|1&0|1&0&1|1|0|1|0|1&1|0|0|1&0|1|1|0&1\\nXXXXXXXXXXXXXXX0|0|0&0&0&0|0|0&0&0|1&1&0&1|0|0&1&0\\nXXXXXXXXXXXXXXXXXXXXXXXXXXXXXXXXXXXXXXXXXXX1&1|1&1\\nXXXXXXXXXXXXXXXXXXXXXXXXXXXXXXXXXXXXXXXXXXX1&0&0|0\\nXXXXXXXXXXXXXXXXXXXXXXXXXXXXX0|0&1&1|1&0&1&1|1|0&1\\nXXXXXXX0|1&0&1|1|1&1|1&0&1&1|0&1|1&0|1|1|1&1&1&1&0\\nXXXXXXXXXXXXXXXXXXX1|1&0|0|1|0&0|1|1|0&1|0&1|1&0&0\\nXXXXXXXXXXXXXXXXXXXXXXXXXXXXXXXXXXXXXXXXX1|0|1|0|0\\nX1|1&0|0&0|1&0|0&0&1|0|0|0&1&0|0|1&1|0&1&0&0&1|0|0\\nXXXXXXXXXXXXXXXXX0&0&1|1&1|1|1&1&1&1|0|0&1&0|1|0&0\\nXXXXXXXXXXXXXXXXXXXXXXXXXXXXXXXXXXXXXXX0|1|0|1&1|0\\nXXXXXXX1|0&0|0|0&1|1&1|1|0&0|0|0&1&1|1&0&1&1|1|1|0\\nXXXXXXXXXXXXXXXXXXX0|0|0&0&1&1&0|1|0&0&0&1|0|1|0|0\\nXXXXXXXXXXXXXXXXXXXXXXXXXXXXXXXXXXXXXXXXXXXXX1|1&0\\nXXXXXXXXXXXXXXXXXXXXX0|0|1&1&0&1|1&0|0|0&1&1&1&1&1\\nXXXXXXXXXXXXXXXXXXXXXXXXXXXXXXXXXXXXXXXXXXX0&0&0|1\\nXXXXXXXXXXXXXXXXXXXXXXXXXXXXXXXXXXX0|1|0&1|0|1|1&1\\nXXXXXXXXXXXXXXXXXXXXXXXXXXXXXXX0|1|1&0|1|1&1&0|0&0\\nXXXXXXXXXXXXXXX1|0|0&0&0&0&1|0|0&1&0|1|1|0&1|1&1|0\\nXXXXXXXXXXXXXXXXXXX0&0|1|1&1|0&1&0|0&0&1&1&0|1&0&0\\nXXXXXXXXXXXXXXXXXXXXXXXXXXX1&1&1&0|1&0&1&1|1|1&0&0\\nXXXXXXXXXXXXXXXXXXXXXXXXXXXXXXXXXXXXXXX0&1|0|1&0|0\\nXXXXXXXXXXXXXXXXXXX0|0&1|1&1&0|0|1&1&1&0|0|0&1&1|0\\nXXXXXXXXXXXXXXXXXXXXXXXXXXXXXXXXXXXXX0|0&0&0&1&1&0\\nXXX0|0|0&1|1&0|1&0&1&1&0|0&1&1&0&1&0&0&1&0&1|1|1&0\\nXXXXXXXXXXXXXXXXXXXXXXXXXXXXXXXXXXXXXXXXXXXXX0|0|1\\nXXXXXXXXXXXXXXXXXXXXXXXXXXX1|0|1|0|0&1&0&0&1&0&0&0\\nXXXXXXXXXXXXX0&0|0|1&0&0&1&1&0|1|0&0&0|1|0&1|0&1&1\\nXXXXX0|1&0|1&1&0|1|0&1|1&1&0|0|0&1&0&0&1|1|0&1&0|1\\nXXXXXXXXXXXXXXXXXXXXXXXXXXXXXXXXX0&1&0|0&0|0|0&1|0\\nX0&0&1&1|1&1|1&1&1|1&1|1&1&0&1|0&1|0|1&1|1|1|1&0&0\\nXXXXXXXXXXXXXXXXXXXXXXXXXXXXX1|0|0|1&1&0&0&1&0|1&1\\nXXXXXXXXXXXXXXXXXXXXXXX0|0|1|1&0|0&1|0&0&1|1|1|1|0\\nXXXXXXX0&1&1|0&0&0&0&0|1&1|1&0&1|0|0|0&1&0&0|1|1&0\\nXXXXXXXXXXXXXXXXXXXXXXXXXXXXXXXXXXXXXXXXX1&1&0|0&1\\nXXXXXXXXXXXXXXXXXXXXXXXXXXXXX1|0|1|1|0|0|1|1|0&1|1\\nXXXXXXXXXXX1&1&0|0|1|1&1&0&1&1&1|0&0|1&0|0&1&0&1|0\\nXXXXXXXXXXX1&0|1|1&1|0|1&0|1&0|1|0|0&0&1&0&1|1|0|0\\nXXXXXXXXXXXXXXXXXXXXXXXXXXXXXXXXXXXXXXXXXXXXXXXXX1\\nXXXXXXXXXXXXXXXXXXXXXXXXXXXXX0|1&0&1&0&1&0|1|0|1&0\\nXXXXXXXXXXXXXXXXXXXXXXXXXXXXXXXXXXXXXXXXXXX0|1&1&1\\nXXXXXXXXXXXXXXXXXXXXXXXXXXXXXXXXXXXXX1&1&1|1|1&0&0\\nXXXXXXXXXXXXXXXXXXXXXXXXXXXXXXXXXXXXXXXXXXXXXXX1&1\\nXXXXXXXXXXXXXXXXXXXXXXXXXXXXXXX0&0&1|0&1|1|0&1|1|1\\nXXXXXXXXXXX0|0&0|1|0&1&1|1|1|0&1&1&0|1|0|1|1&0|1&0\\nXXXXXXXXXXX0&1|0|0|0&1&0|1|1&0|0|1&0&0|1&1|1&1|0&1\\nXXXXXXXXX1&0&1&0|0&1&0&0&0|0&1&1&1&0|1&0|1|0|1&1&0\\nXXXXXXXXXXXXXXXXXXXXXXXXXXX1&1&1|1&0|0|1|1|1&0|0|1\\nX0|0|1&0|1&1|1&1&1|1&1&1&0&1|1|0&1&0&1&1|0&1&0&0&0\\nXXXXXXXXXXXXXXXXXXXXXXXXXXX1|0&0&0&1|1&0&1|0&0&0&1\\nXXXXXXXXX0&0|0|0&1|1|0|0|0&1|1|0&1&0&1|0|1|1&0|0&0\\nXXXXXXXXXXXXXXX1&0&0&0|1&1&1|1|0&0|1&0&1&1&0|0|1|0\\nXXXXXXXXXXXXXXXXXXXXXXXXX1&1|0|0|1&1|1|0|0&0&0|0&1\\nXXXXXXXXXXXXX0|0&0|0&1|1&1&0&1|0|1&1|1&1&0&0&0|1&1\\nXXXXXXXXXXXXXXXXXXXXXXX1|1&0&1&1|1&0&0&1&0&1&0&1&1\\nXXXXXXX0|0&0|1|1&1&0&1|1|1&0|1&1&0|1&0|0|0&0|1&0|0\\nXXXXXXXXXXXXXXXXXXXXXXXXX0&1|0&1&0|1|0|0|0&1|0|0&1\\nXXXXXXXXXXXXXXXXXXXXX0|1&0&1|0&1&0&0|1&1&1&0|0&1&1\\nXXXXXXXXXXXXXXX1|1&1&1|0&0&0&1|1|1|1&0&0|0|1&0|1|0\\nX1&0|1|1&1|1&1|0|0|1&0&0|0|0&1&1|0|0|0|0&1|0&1|0|0\\nXXXXXXXXXXXXXXXXXXXXXXXXXXXXXXXXX1&0|0&1|1|1|0|1|0\\nXXXXXXXXXXXXXXXXXXXXXXXXXXXXXXX1|1&0|0&1|1|1|1|0&0\\nXXXXXXXXXXXXXXXXXXXXXXXXXXXXXXXXXXXXXXXXXXX1|0|1&1\\nXXXXXXX0&1&0|0|1&0|0&1&1|0|1|0&1|1&0&0|0&0|1|0|0|1\\nXXXXXXXXXXXXXXXXXXXXXXXXXXXXXXXXXXXXXXXXXXXXXXX1|1\\nXXXXXXXXXXXXXXXXXXXXXXXXXXXXXXXXX1|1|1&1|1&1&0&1|0\\nXXXXXXXXXXXXXXXXXXXXXXXXXXXXXXXXXXXXXXXXX0|0|1|0&1\\nXXX0|0|1&0|0|1&1&1&1|0&0|1|0&1&0|0&1&0|0|0&0&0|1&0\\nXXXXXXXXXXXXXXXXXXXXXXXXXXXXXXXXXXXXXXX1|1|1|1|0&1\\nXXXXXXXXXXX1&1|1|1|1|1&1|1&1&0&1&1&0&1|0&1|1|0&0&0\\nXXXXXXXXXXXXXXX0|0|0&0|1&1|1&0&1|1|0|1|1&1|1|0&1&1\\nXXXXXXXXXXXXXXXXXXXXXXXXXXXXX0|1|0|1&1|1|1|0&0|0&0\\nXXXXXXXXXXXXXXXXXXXXXXXXXXXXXXXXX1|0|1|1|1&1&0|0&1\\nXXXXXXXXXXXXXXXXXXXXXXXXXXXXXXXXXXXXXXXXXXXXXXX1|1\\nXXXXXXXXXXX1&1|1|1|0|1|0|0|0&0|1&1&0&1&1|1&0&1|1|0\\nXXXXXXXXXXXXXXXXXXXXXXXXXXX0&0|1&1|0|1|0&1|0&0&1&0\\nXXXXXXXXXXXXXXXXXXXXXXXXXXXXXXXXXXXXXXX1&1&0|1&1|0\\nXXXXXXXXXXXXX0|0&1|0&1&1&1|1|0|0&0|1|0&1&0|0&0&1|0\\nXXXXXXXXXXXXXXXXXXXXXXXXXXXXXXXXXXX1|1&0|1|0|1&1&0\\nXXXXXXXXX0&1&1&1|1|0|0|0&0|0&1|1|1|0|0&1|0|0&0&1&1\\nX0&1&0|0&1|1|1&1&0|1&0|0&0|0|1|0|0|1&0&0&1|0&0|1&1\\nXXXXXXXXXXXXXXXXXXXXXXXXXXXXXXX0|0|1|0&0&1|1|1|1|0\\nXXXXXXXXXXXXXXXXXXXXXXXXXXXXXXXXXXX1&0|1|1|0|0|1|1\\nXXXXXXXXXXXXXXXXXXXXXXXXXXX1&1&0|0&0&1|1|1&1|1|0&0\\nXXXXX1&1|0&1|1&0&1|0|0&1|1|1&1&1|1&0|0|1|1&1|0&1|1\\nXXXXXXXXX1&1|1|0|0|0&1|1&0|0&0&1&0|0&0&0&1|0|1|0&1\\nXXXXXXXXXXXXXXXXXXXXXXXXXXXXXXXXXXXXXXXXXXXXX1&1&1\\nXXXXXXXXXXXXXXXXXXXXXXXXXXXXXXXXXXXXXXXXXXX0&0&1&0\\nXXXXXXXXXXXXXXXXXXXXXXX0&1&0&1|0&0|0|0&1|1|1&0&0&1\\nXXXXXXXXXXXXX0&0&0|1&0&1|1|1|1|0|0&0&0&1|0|0&1&0&1\\nXXXXXXXXXXXXXXXXXXXXXXXXXXXXXXXXXXXXX1|0&1|1&0&0|0\\nXXXXXXXXXXXXXXXXXXXXXXXXXXXXXXXXXXXXXXXXXXXXXXX0|1\\nXXXXXXXXXXXXXXXXXXXXXXXXXXXXXXXXXXXXXXXXXXX1|0&0&0\\nXXXXXXXXXXXXXXXXXXXXXXXXX1|0&1|1&1&0&1&1|0|1&1|1&0\\nXXXXXXXXXXXXXXXXXXXXXXXXX1&0|1&1|0|1&1&1|0|0&1&0|1\\nXXXXXXXXXXXXXXXXXXXXXXXXXXXXXXX0&0|1|1|0|0&1&1|1|0\\nXXXXXXXXXXXXXXX0|1&1&1&1|0|1&1|1|1&1&0|0|0&0|0|1&1\\nXXXXXXXXXXXXXXXXXXXXXXXXXXXXXXXXXXXXX0|0&1&1&0|1&0\\nXXXXX1&1|1&0&1&0|1&0&1|1&1&0|1&0|1&1|0&1&1&1|1|0|1\\nXXXXXXXXXXXXXXXXXXX1|1&1&0&0|1&0|0|0|0|1&1|0|0&0&0\\nX1|0|1|0&0|0&0&1&0&0&1&1&1&0&0&0|1&1&1&1|1&1|1&1|0\\nXXXXXXXXXXXXXXXXXXXXX1&0&0|1|0|1&0&1&1|1|1|0&1|1|1\\nXXX0|0|1&0|1|0|1&0|1&1|0&1|1|1&0|0&0&1&1&0&0&1|1&1\\nXXXXXXXXXXXXX1|1&0|1|0|0|1&1|0|1|1&0|1&1&0&1&1|0|0\\nXXXXXXX0|0|0|0|1&0&0&0|0&0&1|1|0&1|0|0&1&0&0|1&1&1\\nXXXXXXXXXXXXXXX0|1|1&1|1&1|1|1&1&1&1|1&0&1&1&1&1&0\\nXXXXXXXXXXXXXXXXXXXXXXXXXXXXXXXXX1|1|1&0&1&1&1|1&0\\nXXXXXXXXXXXXXXXXXXXXXXXXXXX1&1&0&0|0|1&1|1|1&0&0|1\\nXXXXXXXXXXXXXXXXXXXXXXXXXXXXXXXXX0|0&0|0&0&1&0&0&1\\nXXXXXXXXXXXXXXXXXXXXXXXXXXXXXXXXXXXXX0&0&0|0|1|0|1\\nX0|0&1&1|1|1|0|0&0&1&1&1|0&1&0|1&1|1|1|1&1&0|1&1|1\\nXXXXXXXXXXXXXXXXXXXXXXXXXXXXXXX0|1|1|0|0|1|1|1&0&0\\nXXXXXXXXXXXXX0|1&1&0|0&0&1&1&0&1|0&1&0&1|1|0|0|1|1\\nX0|0&0&1&1&0&1&0|0|0&0&1|1|1&0|1&1&1&0|0&1|1&1&1|1\\nXXXXXXXXXXXXXXXXXXXXXXXXXXXXXXXXXXXXXXXXX1|1&0|0&0\\nXXXXXXXXXXXXXXXXXXXXXXXXXXX0|1&0&1|0|1|0|1|0|0|0&0\\nXXXXX0|0|0|1&1|0&0|0|0&0|1|0&0&0&1&0|1&0|1&0&1|0&1\\nXXXXXXXXXXXXXXXXXXXXXXXXXXX0|0|1&0&0|0|0|1|0|0|1|1\\nXXXXXXXXXXXXXXXXXXXXXXXXXXXXXXXXXXXXXXXXXXXXXXX1&0\\nXXXXXXXXXXXXXXXXXXXXXXXXX0&1|0|0&1|1&0&0&0|1&0|1|1\\nXXXXXXXXXXXXXXXXXXXXXXXXXXXXXXXXXXXXXXX0|0|1|0|0&1\\nXXXXXXXXXXXXXXXXXXXXXXXXXXX1&1&1|0&0&1|0&0|0&0|0&1\\nX0&1|1|0&1|1|1|0&1&0|0|1|1&0|1&0&1&1&0|0|1&1&1|0&1\\nXXXXXXXXXXXXXXXXXXX0&0&0|1|0|1&1|1&1|1&1|1|0&0|0|0\\nXXXXXXXXXXXXXXXXXXXXXXXXXXXXXXXXXXX0|1&1&1|1&1&1&0\\nXXXXXXXXXXXXXXXXXXXXXXXXXXXXXXXXXXXXXXXXXXXXXXX1|1\\nX1|1&0|0&1&1|1|0|1&0|1&0&1|1|0&0|1&0|1&1&1&1&0|0&1\\nX1&0&1|0|0&0&1|1&1|1|0&0&0|0&1&0|1&0&0&0&0|0&0|0|0\\nXXXXXXXXXXXXXXXXXXXXXXXXXXXXXXX0|0&1|0|1|0|0|0&0&0\\nXXXXXXXXXXXXXXXXXXXXXXXXXXXXXXXXXXXXXXXXXXXXX0|1&0\\nXXXXXXXXXXXXXXXXXXXXXXXXXXX0|0|1&0|0&1&0|0&0|0|0|0\\nXXX1&1|1&0&1|1&1&0|0|1|1|1|1|1|1&1|1&1|1&1&1|1|1&1\\nXXXXXXXXXXXXXXXXXXXXXXXXX0&0|1|0|1&1|0|1|0|0&0&0&1\\nXXXXXXXXXXXXX0|0|0|1|0|1|1&1&0&1|0&0|0|0&0&1&0|0|1\\nXXXXXXXXXXXXXXXXXXXXXXXXXXXXXXX0|1|1&0|0&0&1&0&1|1\\nXXXXXXXXXXXXXXXXXXXXXXXXXXXXX1|0&0|1&1|1&1&0|1&0&0\\nXXXXXXXXXXXXXXX0|0|1|0&1|0&0|1|1&1|0&1&0|1|0|1&0&0\\nXXXXXXXXXXXXXXXXXXXXXXXXXXXXXXXXXXXXXXX1|0|1&1&0&1\\nXXXXXXXXXXXXXXXXXXXXXXXXXXXXXXXXXXXXXXXXXXXXXXX0&0\\nX1&1|1|0|0|1|1|0|0|0&1|1|0|1&0|0|1|0&1|1|1|1&0|0|0\\nXXXXXXXXXXXXXXXXXXXXXXXXX0|1&0|1|0|1&1|1&1|1&0|0|1\\nXXXXXXXXXXXXX0&1&0|0|1&0|0|0|0|1|1&0&1|0&1|1|1&0|1\\nXXXXXXXXXXXXXXXXXXXXXXXXXXXXXXXXXXXXXXXXX1|1&1|1|1\\nXXXXXXXXXXX0&1&0|0&1&0|1&1&0|0&0&1&0&1|1|0|0|0&1|1\\nXXXXXXXXXXXXXXX0&1|1|1|0&1|1&0&1|1&1&1|0&0|0|1&0&0\\nXXXXXXXXXXXXXXXXXXXXXXXXXXXXXXXXXXXXXXXXXXX1&1|0|0\\nXXXXXXXXXXXXX1&1|1|0|1|1&0|1&0&0|0|0|0|0&1&0|0|0|1\\nXXXXXXXXXXX0|1|0|1|0|0|0&1&0&0|0&0&1|0|1|1&1|1|0|0\\nXXXXXXXXXXXXXXXXXXXXXXX0&1&0|1|0&1&0|1|0&0|0&0|1|1\\nXXXXXXX0|0|1&0|1&1&0|0|0&0&1|0|1|0&1&1&0|1&0|1&1|1\\nX1|0&0&0&0|0|0&0&0&1&1&1|1|0|0|1&0|1&0&0&0&1|0|0|1\\nXXXXXXXXXXXXXXXXXXX1&0|0&0|0&1|1&0&0&0&1&1|1&1|1|0\\nXXXXX0|0|1|1&1|0|1&0|1&1&0&0&0&0&0|1|0|0|0&0|1&1|0\\nXXXXXXXXXXXXXXXXXXXXX0|0&1|0|0|1&0&1&0|1&1&1|0|1|1\\nXXXXXXXXXXXXXXXXXXXXXXX0|1&0&0|0|0&0&1|1&0&0&0|1&1\\nXXXXXXX1|1&0|1|0|1&0|0&0|1&0|0|0|1|1&0&0|1&1&0|0&1\\nXXXXXXXXXXXXXXXXXXXXXXXXX0&0|0|1|0&1&1&1&1&0|0&1&0\\nXXXXXXXXXXXXXXXXXXXXXXXXXXXXXXXXXXXXXXXXXXX0|1|0&1\\nXXXXXXXXXXXXXXXXXXXXXXXXX1|1|0&0&0|0|0&1&0&1&1|1|1\\nXXXXXXXXXXXXXXXXXXXXXXXXXXXXXXXXX1|1&0&1&1&0|0|1|1\\nXXXXXXXXXXXXXXXXXXXXXXXXXXXXXXXXXXXXXXXXXXXXXXXXX1\\nXXXXXXXXXXXXXXXXXXXXXXXXXXXXXXXXX0|0&1&0|0&0|1|0&1\\nXXX0|1&1|0|1&0|1|0&1|1&1&1|1|0&0|1|0|0|1|1|1|0&1|0\\nXXXXXXXXXXXXXXXXXXXXXXXXXXXXXXXXXXXXXXXXXXXXXXX1&1\\nXXXXXXXXXXXXXXXXXXXXXXXXXXXXXXXXXXX1|1|0|1|1|0|1&0\\nXXXXXXXXXXXXX1&0&0|1|0|0&0|1|0&0|0&1&1|0&0|0|1&1&0\\nXXXXXXXXXXXXXXXXXXXXXXXXX1&1&0&1&0&0|0|0&1&1&0&1&0\\nXXXXXXXXXXXXXXXXXXXXXXXXXXXXXXXXXXXXXXXXX1|0|1|1&0\\nXXXXXXXXX1&1&1|1|1&0|1|1|0|1&1|1&1&1|1|0&1|1&1|1&1\\nXXXXXXXXXXXXXXXXXXXXXXXXXXXXXXXXXXXXXXXXXXXXXXX1&0\\nXXXXXXXXXXXXXXXXXXXXXXXXXXXXXXX1|1&0&1|1&0|0|0|1|1\\nXXXXXXXXXXXXXXXXXXXXXXXXXXXXXXXXXXX0|0|1&0&0|0&0&0\\nXXXXXXXXXXXXXXXXXXXXXXXXXXXXXXXXXXX1|1|1&0&1&1|0&0\\nXXXXXXXXXXX1&0&1&0&1&1|0&0|0|1&1|0|0|0&0&1&1&0&0|1\\nXXXXXXX1|0|1|1&0&1&1&0&0&1&1|0|1|0&1&0&1&0&0&1|0&1\\nXXXXXXXXXXXXXXXXXXXXXXXXXXXXX0|1|0|1|0&0|1&0&0|1|1\\nX0|1&0&1|0&1&1|1|1|1&0&0|1|0&0|1&1&0|0&1|1|1&0|0&1\\nXXXXXXXXXXXXXXXXXXXXXXXXXXXXXXXXXXXXXXXXXXXXX0&1|0\\nXXXXXXXXXXXXXXXXXXXXXXXXXXXXXXX1&0&0|1&1&0|1&0|1|0\\nXXXXXXXXXXXXXXXXXXXXXXXXXXXXXXXXX1&0&0&1|0&0|1&1&0\\nXXXXXXXXXXXXXXXXXXXXXXXXXXX0&0&0|1|1&1|1|1|0|1|1&1\\nXXXXXXXXXXX1|0&0&1|0&1|0|1&0|1|0|0|0|1&1&0&0&0&0|1\\nXXXXXXXXXXXXXXXXXXXXXXXXXXXXXXXXXXXXXXXXX0&1|1&1&0\\nXXXXX0|0&1|0&1&1&0&1&0|1|0|0|1|0&1|1&0|1|1|1&1|0&0\\nX1|0|0&0&1&1&0|1&1&0|0|1&0&0|1|1|0&0|0&0|1&1|0&0&0\\nXXXXXXXXXXXXXXXXX0&0&0|1&1&0&1&0|1|1&1|1|0&0|0|0&0\\nXXXXX0&0&0|1|1&1|1&0|1&1|0&1&1|1|0|0&0|1&0&0|1&0|1\\nXXXXXXXXXXXXXXXXXXXXXXXXXXXXXXXXXXX1|1|1|1&0&1&0&0\\nXXXXXXXXXXXXXXXXXXXXXXX1&0|0&1|0&0&1|0|1&0&1&1|1|1\\nXXXXXXXXXXXXXXXXXXX1&1&1&1&1&1|1&1&1|0|0|1&1|0&1|1\\nXXXXXXXXXXXXXXXXXXXXXXXXXXXXXXXXXXXXXXXXXXX0&1&1&0\\nXXXXXXXXXXXXXXXXXXXXXXXXXXXXXXX1&0&1|1&0&0|1&0|1&1\\nXXXXXXXXXXXXXXXXXXXXXXX1&0&1|1&1&1&0&0|0|0&1|0|0&1\\nXXX0&0&0&1&1&0|0|0|0|0&0|0|1&1&0&1|0&1&0&0&1|1&1|0\\nXXXXXXXXXXXXXXXXXXXXXXXXXXXXXXXXXXXXX0&1|0&1&0|1|0\\nXXXXXXXXXXXXXXXXXXXXXXXXXXXXXXX1|1&1&0&0&0|1&1&1|0\\nXXXXXXXXXXXXXXXXXXXXXXXXXXXXX0&1&0&1&1&0&1|1|1|0&0\\nXXXXX1|1&0&0&1&1&0|0|1&0|1|0&0&1|1|1&0|0&1&0&1|0&1\\nXXXXXXXXXXXXXXXXXXXXXXXXXXXXXXXXXXX0&1&1|1&0&0|0&0\\nXXXXXXXXXXXXXXXXXXX0&1|0&0&1&0&0&0|0|0|0&0&1|1&0|0\\nXXXXXXXXXXX1&1&1&0|0|0|1|0&0|1&1&1|0|0|0|0|0&1|1&1\\nXXXXXXXXX1&1&1&0|0&0|1|0|0|0|1|1&1&1|1|1|1&0|1|1&0\\nXXXXXXXXXXXXXXXXXXXXXXXXXXXXX0|1&0&0|1|1&0|1&0|0&1\\nXXXXXXXXXXXXXXXXXXXXXXXXXXXXXXXXX1|0|1&1&0|1&0&1&0\\nXXXXXXXXXXXXXXXXXXXXX1&1&0&0&0|0|1&0&0&0|0&0|1|0|0\\nX0&0&1&1&1&1&0&1|1|1&1|0|1|0|1&1|1&1&0|1&0|1&1|0|1\\nXXXXXXXXXXXXXXXXXXX0&0&1&1&0&0&0|1&1&1|0|1|0|0&1&0\\nXXXXXXXXXXXXXXXXXXXXXXXXXXXXXXXXXXXXXXXXX0|0&0&0&0\\nXXXXXXXXXXXXXXXXXXXXXXXXX1|1|1|1&1&1&0|0&0&0|0&1|1\\nXXXXXXXXXXXXXXXXXXXXXXXXXXXXXXXXXXXXXXXXX1|1|1|0|1\\nXXXXXXXXXXXXXXXXXXXXXXXXXXX0|0&1|1&0&0|1&0|1&1|0|1\\nXXXXX0|0|0|0|0&0&1|1|0|1&1&1|1&0|1|1|1|1|0|1|1|1|0\\nXXX0|1|1|1&1|1&1|0|0|1&0&0&0|0|1|1|0&1|0&1|1&1&1&0\\nXXXXXXXXXXXXXXXXXXXXXXXXXXXXXXX0&0|0|0|1&0&1&0|1&0\\nXXXXXXXXXXXXXXXXXXXXX1|0|1&1&0&1&0&1&0|1|1|1&1&0&0\\nXXXXXXXXXXXXXXXXXXXXXXXXX1&0&0&1|0|1&0|1&0&0&1|1&0\\nXXXXXXXXXXXXXXXXXXXXXXXXXXXXXXXXXXXXXXXXXXXXXXX0&1\\nXXXXXXXXXXXXXXXXXXXXXXXXXXXXXXXXXXXXXXXXX1|1|1&1&0\\nXXXXXXXXXXXXXXXXXXXXXXXXXXXXXXXXXXXXXXXXXXXXX0&1|0\\nXXXXX1&0|0&0&1&1|1|1|1|1&0|0|1&1|0|1&1|0|0&0&0|0|1\\nXXXXXXXXXXXXXXXXXXXXXXXXXXXXX1&0&1&1&0|0|1|0|1|1&0\\nXXX1|1|1|0&1|0&1&1|0|0|0|0&1&1|1|1|1&1|0&1&1|0|1&1\\nXXXXXXXXXXXXXXXXXXXXXXXXX1|1&1&0|0|1&0|1|1&0&0&0&0\\nXXX1|1|1|1&1&1|1&1|0|0&1&0&1|1&0&1|0&0&1&1&1&0&0&0\\nXXXXXXXXXXXXXXXXXXXXXXX1&0&0&1|0|1|0&0&0&0&1|1&0&0\\nXXXXXXXXXXXXXXXXXXXXXXXXXXXXXXXXXXXXXXX1&0|1|1|0&1\\nXXXXXXXXXXXXXXXXXXXXXXXXXXXXXXXXXXX1&1|0|0&1&0|1&1\\nXXXXXXXXXXXXXXXXXXXXXXXXXXXXXXXXX1&1&0|1&0|1|1&1|0\\nXXXXXXXXXXXXX0|0|1&1|1&0|1|0|0|0|1|1&1&1|1|1|1|1|0\\nXXXXXXXXXXX1|1|1|1&1&0|0&0&1|0|1|0|1|0&0|0|1&1&1|1\\nXXXXXXXXXXXXXXXXXXXXXXXXX1&1|0&1|0|0|1&1|1|0|1|1&1\\nXXXXXXXXXXXXXXXXXXXXXXXXXXXXX1|0|0&0|1|1|1|0|0&0&1\\nX1&0|1|1&1|1|1&0&1&0|0&0&1|1&0&1&0|1&0|1&0|1&1&0|1\\nXXXXXXXXXXXXXXXXXXXXXXXXXXXXXXXXXXXXXXXXXXXXXXXXX1\\nXXXXXXXXXXXXXXXXXXXXXXXXXXXXXXXXXXXXX1&1|0|1&1|0&0\\nXXXXX0|0|0|1&0|0|0&1&1&0&1|0&1|0&1&0&0|1|1|0&1&0&1\\nXXXXXXXXXXXXXXXXXXXXXXXXXXXXXXXXXXXXXXXXXXXXXXX0&1\\nXXXXXXXXXXXXXXXXXXXXXXXXX1&1&0|1&1&1|0|0|1|0|1&0|1\\nXXXXXXXXXXXXXXXXXXXXXXX0|0&1|0&0|0|0|1&0|1&0|0&1|0\\nXXXXXXXXXXX1|1|0&1|1&0|0&0|1&1&0|0&0&0|1|0|1|1&0&0\\nXXXXXXXXXXXXXXXXXXXXXXXXXXXXX0|0|0&1&1|0&0|0|0&1|1\\nXXXXXXXXXXXXXXXXX1|1&1&1|0|0&1&0|0|0|0&1&1&1&0|0|0\\nXXXXXXXXX0&0|1|1&1&1|1&1|0|1&0&0&0&1|0|1|1&1&1&1&0\\nX1|0|1|0&0|0&1|1&1|0|0&1&0|0|0|0&0&0&1|1&1|1&1|1|1\\nXXXXXXX0|1|0&0&1&1|1|0|1&1&0|1|1|0|1|0|0&0&1|1|1&1\\nXXXXXXXXXXX1|0&1|1|1|1|0&1|0|0&0|0|0|0|1|1&0|0|0|1\\nX0&1|0|1|1|0&1&0&0|0|1&0&0&1|1&1|1&1&1&0|1|1|1&1|0\\nXXXXXXXXXXXXXXXXXXXXXXXXXXXXXXXXX1&1|1&1|0&1&0&0|0\\nXXXXXXXXXXXXXXXXXXX1|1&0|1&0&0|1|1|0|0|1&1|1&1&1|0\\nXXXXXXXXXXXXXXXXXXXXXXXXXXXXXXXXXXXXXXX0&0|1|0&1|0\\nXXXXXXXXXXXXXXXXXXXXXXXXXXXXXXXXXXXXXXXXXXX1|0&1|1\\nXXXXXXXXXXXXXXXXXXXXXXXXXXX1&0|1|0&0|0&0|0&0&0|0&1\\nXXXXXXXXXXXXXXXXX1&1&0|0|0&0&0|1|0&1&0&1|0&1|0&0|0\\nXXXXXXXXXXXXX1|1|0|1|0|0&1|0&1|1|1|1&1|1&0&0&1|1&0\\nXXXXXXXXXXXXXXXXXXXXX0|0|1|0&0&1&1&1&1|1&0|1&1|1|0\\nXXXXXXXXXXXXXXXXXXXXXXXXXXXXXXXXXXXXXXXXX1|0&1|1|1\\nX0|0|0&1&0|1&0|1&0&1|1&1&1&1|1|1&1|1&1&1|1&1|0&1&0\\nXXXXXXXXXXXXXXXXXXXXXXXXXXX1|1&1&0|1|1|0|1&0|0|1&1\\nXXXXXXXXXXXXXXX1&0&1&1|1|1|1&1|0|0&0|0|1|1&1&0&1|1\\nXXXXXXXXXXXXXXXXXXXXXXXXXXXXXXXXXXXXX0&0|1|1&1&1|0\\nXXX0|1&1|1|1|1|0&1&0|1&0&0|1|0&1&1|1&0&1|0&0&0|0|0\\nXXXXXXXXXXXXXXXXXXXXXXXXXXXXXXXXXXXXXXXXXXX1&1|0&1\\nXXX0|0&1|1|0|1|1|1&0|0&0|1|1|1|0|1|1&0&1|0&1|1|1&1\\nXXX0|0&1&0&1&1&1|1|1&0|0&1|0|1|0|0|0&1&1|0|0|1|1|1\\nXXXXXXXXXXXXXXXXXXXXX0&0|1&1&1|0|0|0&0&1&1&1|1&0|0\\nXXXXXXXXXXXXXXXXXXXXXXX1&0&1|1|1&1&1|0&1|1|0|1&0|0\\nXXXXXXXXXXXXXXXXX0|0&0&0|1|1|1|0&1|1|1&0&1|0&0&0&1\\nXXXXXXXXXXXXXXXXXXXXXXX0|1|1&0&1&1&0|1&1&1|1|1&1|0\\nXXXXXXXXXXXXXXXXXXXXXXXXXXXXXXX0&1&1&0&1&0|0|0|1|0\\nXXXXX0|1|1|0|0|1&0|1|1|1|1|1|0|1|1&0&0&0&1|1&0&1|0\\nXXXXXXXXXXXXXXX1&0|1|0|1&0|0&0|0&0&0&1|0|1|1&0|1&0\\nXXXXXXXXXXXXXXXXXXXXXXXXXXXXXXXXXXXXXXXXXXXXX0&1|0\\nXXXXXXXXXXXXXXXXXXX0&0&1|0|0&1&0|0|0&1|0&0|1&0|1&1\\nXXXXXXXXXXXXXXXXXXXXXXXXXXXXXXXXXXXXXXXXXXXXX1|0|0\\nXXXXXXXXXXXXXXXXXXXXXXXXXXXXXXXXXXXXXXXXXXXXXXXXX1\\nXXXXXXXXXXXXX1&0|0|1|0|0&1&1&1&1|1&1|1|1|0&1&0|1|1\\nXXXXXXXXXXXXXXXXXXXXX1&0&0|1|0&0|1|1&0&1&0&0|1|1&1\\nXXXXXXXXXXX1&0&0&1|1|1&1|1&0&1|0|0&0|0&0|0&0&1&1&1\\nXXXXXXXXXXXXXXXXXXXXXXXXXXXXXXX0|0&1|0|0|0|0|0&0&1\\nXXXXXXX1&1&1&0&1&0&0&0|1|0|0&1|0|0&0|0|1|1|1&0|1|0\\nXXXXXXXXX1|0&1&0&1&0|1&1&1&0|1&0|0|0&0&0&0|1&0|1&0\\nXXXXXXXXXXXXXXXXXXXXXXXXXXXXXXXXXXX0|0&1|1&0&1&0|0\\nXXXXXXXXXXXXXXXXXXXXXXXXXXXXXXXXX1|0&1&0&1&0&0&1&0\\nX0|0|1&0&1|0&0|1|0|0|0|0&1&1|1|0&0&1&1&0&0&0|0&1&0\\nXXXXXXXXXXXXXXXXXXXXXXXXXXXXXXXXXXXXXXXXXXXXXXX1&0\\nX0&0&0&0&1|1|1&0&0&1&0&0|1|1&1|1|1|1|1|1|1|0&1|0|0\\nXXXXXXXXXXXXXXXXXXXXXXXXXXXXXXXXXXXXX0|0|1|0&1&1&0\\nXXXXXXXXXXXXXXX1|0|0|0&0&1&0&0|0|0&0|0|0&1&1&0&0&1\\nX0&1&0&1&1|1|0&0|0&1|1&0&1|0&1&1&0&0|1&1|1&1&0|1&1\\nXXXXXXXXXXXXXXXXXXXXXXXXXXX1|0|1&1&1&1|0&0&1|1|0|1\\nXXXXXXXXXXXXXXXXXXX0&0&1&1&0|1|0|1|1|1&0|1&1|1&1|0\\nXXXXXXXXXXXXXXXXXXXXXXXXXXXXXXX1|1|1&1&0|0&1&1|0&0\\nXXXXXXXXXXXXXXXXXXXXXXXXXXXXX0|1&0|0|0|0|1&0|0|0&0\\nX0&0&0&0|0&0|1|1|1&1|1|1&1&0|0|0|0&1&1&0&0|1&0|1|1\\nXXXXXXXXXXXXXXXXXXXXX1&0&0|0&1&1|0&1|0&1&0|0|1&1|1\\nXXX1&1&1|1|0|0&1&1&1&1&0|1&1&1|0|1&1&0|0&0|0|0|0&0\\nXXXXXXXXXXXXXXXXX1&1&0|1|1&1&0&1&0&1|1|1&0&0|0|0&0\\nXXXXX0|0|0|0&0&1&1&0|0&1|0&1&0|0&1&0&0&0&0|0|1|1&1\\nXXXXXXXXXXX0|1&1|0|0|1|0|1|0&1|1&0|1|0|0&0&1|1&1|0\\nXXXXXXXXXXXXXXXXXXXXX1|0&0|1|1|1&1&0&1|0|0|1&1|1|1\\nXXXXXXXXXXX0&1|1&1|0&0|0&0&1|0|0|0|0&1|1&1|0|0&0|0\\nX1|0&1|0&1&1|0|1&0|1|0&1&1|1&0|0&1|1|1|0&1&1|1|1&1\\nXXXXXXXXXXXXXXXXXXXXXXXXXXXXXXXXXXX0&1&0|1|0&0&1&1\\nXXXXXXXXXXXXXXXXXXXXXXXXXXX1|1&1&1|0|0|1|1|1|0&0|1\\nXXXXXXXXXXXXXXXXXXXXXXXXXXXXXXXXXXXXXXX0|0&1&0|1|1\\nXXXXXXXXXXXXXXXXXXXXXXXXXXXXXXXXXXX1|0|0&1&1|0&0|0\\nXXXXXXXXXXXXXXXXXXXXXXXXXXX0|0&1|1&1|0&1|0&1|0&0|0\\nXXXXXXXXXXXXXXXXXXXXXXXXXXXXXXXXXXXXXXXXX1&1&1|0|0\\nXXXXXXXXXXXXXXXXX0|0&0&1|0|1&1|0&0|0|0|0&1&1&0|1|0\\nXXXXXXXXXXXXXXXXXXXXXXX0&0|0&0&0|1&1&1|1|0|0&0|0|0\\nX1|0|0|0|1|1|0&0|1|0|1&1|0&1|1&0|1|0|1|1&1&0|0|0|0\\nXXXXXXXXXXXXXXXXXXXXXXXXXXXXX0|0|0|1&0|0|1|1|0|1|0\\nXXXXXXX1&0|0|1|0|1&1&1&1&1&0&1&0&0&0&0&0|1&1|1&0|1\\nXXXXXXXXXXXXXXXXXXXXXXXXXXXXX1|0|1|0|0|0&0&0|1&0&1\\nXXXXXXXXXXXXXXXXXXXXXXXXXXXXXXX0&1&0&1|1&1|1|0|1|1\\nXXXXXXXXXXXXXXXXXXXXXXXXXXXXX0&0&0&0&1&0|0&0|0&1|1\\nXXXXXXXXXXXXXXXXXXXXXXXXXXXXX0|0|1|0&1&1&1&0|0|1|1\\nXXXXXXXXXXXXXXXXXXXXXXXXXXXXXXXXXXXXX0|0&0|1&1&0&1\\nXXXXXXXXXXXXXXXXXXXXXXXXXXXXXXXXXXXXX1&0|0&1&1|0&0\\nXXXXXXXXXXXXXXXXXXXXXXXXXXXXXXXXXXXXXXX0&0&0&0&0|0\\nXXXXXXXXXXXXXXXXXXXXXXXXXXXXXXXXXXX0|0&1&1|0&0&0|0\\nXXXXXXXXXXXXXXXXXXXXX0&1&1|1|1|1|1&1|1&0|0&1&1|0&1\\nXXXXXXXXXXXXXXXXXXX1|0&1|0|0|0&1|1&1&1|0|0|0|1|1&0\\nXXXXXXXXXXXXXXXXXXXXX0&1&0|1|1&0&0|0|0|0|0&1&1|1|0\\nXXXXXXXXXXXXXXXXXXXXXXXXXXXXXXXXXXXXXXX0&1|1&1|1&1\\nXXXXXXXXXXXXXXXXXXXXXXX1&1&0&1|1|1&0|0&1&1&0&1|1|0\\nXXXXXXXXXXXXXXXXXXXXX0|0&0&0&1&0&1|0|1|0&1|1&1&1&1\\nXXXXXXXXXXXXXXXXXXXXXXXXXXXXXXXXXXXXXXXXXXXXXXX0&0\\nXXXXXXXXXXXXXXXXXXXXXXXXXXXXXXXXX0&1&0|0|0&1&1&0&0\\nXXXXXXXXX1&1&1|0&0|1|1|0|1|0&1&0|1&1&1|0&0&0&1|1|0\\nXXXXXXXXXXXXXXXXXXXXXXXXXXXXXXXXX1|0&0&1|0&0|0|1|0\\nXXXXXXXXXXX0&1|0&1|0|0&0&1|0|0|0|0&0&0&1|1&1|1&1&1\\nXXXXXXX0&0|0|0|0|0|0|0&1&1|0|1|1&0|0&1&0|1|1|1&0|0\\nXXXXXXXXXXXXXXXXXXXXXXXXXXXXX0&1&1|0&1|1&1&0|0&1|1\\nXXXXXXXXXXXXXXXXX0&0|0&0|0|1&1|0&0|1&0&0&0|0&1|1&1\\nXXXXXXXXXXXXXXXXXXXXXXXXXXXXXXXXXXXXXXXXXXX1|1|0&0\\nXXXXXXXXXXXXXXXXXXXXXXXXXXXXXXXXXXXXXXXXX1&0&1&0|1\\nXXXXXXXXXXXXXXXXX1|0&1|1&0&0|1|1&0|1&0&0&0|1&1&1|0\\nXXXXXXXXXXXXX1&0&0|1&1&0&1|0|1|0&0|0|0|1&0|1|0&1&1\\nXXXXXXXXXXXXXXXXXXXXXXXXXXXXXXXXXXXXXXXXX1&0|0|0&1\\nXXXXXXXXXXX0&1|0|1|0&1&1|0|0|1&1|1&0|0|1&0|1&1&0&1\\nXXXXXXXXXXXXXXXXXXXXXXXXXXXXXXXXXXXXXXX0|1|0|1&1&0\\nX1|0|0&0|1|0|0|0&1&1&1&0|0&1&1|0&1|0&0&1&1&1&0&1&1\\nXXXXXXXXXXXXXXXXXXXXXXXXXXXXXXXXXXXXXXXXXXXXXXXXX0\\nXXXXXXXXXXXXXXXXXXXXXXXXXXXXXXXXXXXXXXXXX1|0|1&1&0\\nXXXXXXXXXXXXX1|1&0&0&0&0|0&0&0|0|1|0|0&0&0&0&1&0&0\\nXXXXXXXXXXXXXXXXXXXXXXXXXXXXXXXXXXXXXXXXX0&1&1&0|1\\nXXXXXXXXXXXXXXXXXXXXXXXXXXXXXXXXXXXXXXX0|0|0|0|0&1\\nXXXXXXXXXXXXXXXXXXXXXXXXXXXXXXXXXXXXXXXXXXXXXXX1|1\\nXXXXXXXXXXXXXXXXXXXXXXXXXXX1&1|1|1&1&0&1|1|1|1|1&0\\nXXXXX1|1|1|1|0&0|1|0&0&1&0&0|1&0&1&0&1&1|0|1|1&0&1\\nXXXXXXXXXXXXXXXXXXXXXXXXXXXXXXXXXXXXXXXXXXX0|1&1&0\\nXXXXXXXXX1&1&1&0&0|1&1&0|1|0|0&1|0&0|0&0&1|1|1|1&1\\nXXXXXXXXXXXXX0&0|0&0&0&1|0|0|0|1&0|1|0|0|0&0|1|1&1\\nXXXXXXXXXXXXXXXXX0&0&1&0|1|0&0|1&0|0&1|0|0|0&0|1|1\\nXXXXX1&1&1&0|1&1|0&0&0&0|0|1&1|0&1|1&0|0|1|1|1&1|1\\nXXXXXXXXXXXXXXXXXXXXX0&0|1&1|1&1|0|0&0&1|1&0&0&0|0\\nXXXXXXXXXXXXXXXXXXXXXXXXXXXXXXXXXXXXXXXXXXXXXXX1|1\\nXXXXXXXXXXXXXXXXXXXXXXXXXXXXXXXXXXXXXXXXXXXXXXX0|1\\nX1|1&1|0|1|1&0&1&0&1|0&0&1&1|0|0|0|0&1&1|0&1|0&0&0\\nXXXXXXXXXXXXXXXXXXXXXXXXXXXXXXXXX1|1&0|0&0|0|0&0&1\\nXXXXXXXXXXXXXXXXX0|1&1&0&0&1&1&0|0|1|1|0&1&1&0|0|0\\nXXXXXXXXXXXXXXXXXXXXXXXXXXXXXXXXX1|0|0&0|0&1&1|0|0\\nXXXXXXXXXXXXXXXXXXXXXXXXXXX1|1|1|0&1|1|0&1&1|1&0&1\\nXXXXXXXXXXXXXXXXXXX1&0&0|1&0|1&0&1|1|1|0&0|1|1|0|1\\nXXXXXXXXXXXXXXXXXXXXXXXXXXXXXXXXXXXXXXXXXXXXX1&1&1\\nXXXXXXXXXXXXXXXXXXXXX1|1|1&0|0|0|0|1|1|0|1|0|1|1&0\\nXXXXXXXXXXXXXXX0|0|0|1&1&1|0|0|0|1|0|0&1|0|1|1|0&0\\nXXXXXXXXXXXXXXXXXXXXXXXXXXXXXXXXXXXXXXX0&1|1&1|0|1\\nX0|1&0|1&1&1|0|1&0&0|1&0&1|1&1|1&0|0|1|1|1|1|1&1|1\\nXXXXXXXXXXXXXXXXXXXXXXXXXXX0|1&1&1&1|1&0&1|1&0&0|1\\nXXXXXXXXXXXXXXX0|1&0&0|1|0|0|1&0&0&1|1|0|0|1&0|0&0\\nXXXXXXXXX1&0|1&1|1&0|0|0&1|0&0&0&0|1&1|0&0|0&1|1|0\\nX1&1|0&0&1&1|0&1&1&0|1&0&1|0|1|1|1&1|1&0&1|1|1|0|0\\nXXXXXXXXXXXXXXX1&0&0&1&0&1&0&0&1|0|0|0&1|1&0|1&0|1\\nXXX1|1|0|0&0&1&0&0|1|0&1|0&0&1&0&1|1|1&0|1&1|0|0|1\\nXXXXXXXXXXXXXXXXXXXXXXXXXXXXXXXXXXXXXXXXXXXXX1|0&1\\nXXXXXXXXXXXXXXXXXXXXXXXXXXXXXXXXXXXXXXXXXXX0&1&0&0\\nXXXXXXXXXXXXXXXXXXXXXXXXXXXXXXX1|1|1|0|1|1|1&0&1&0\\nXXXXXXXXXXXXXXXXXXXXXXX0&0|0&1|0&1|0|1|0|0|1&0|1|0\\nXXXXX0|1&0&1&0&0|0&0|1|1&0|0&0|0|1|1&1|1|0|1&0&1|0\\nXXXXXXXXXXXXXXXXXXXXXXXXXXX1|0|1|1&1|1&0&1&0&1&1&0\\nXXXXXXXXXXX0|0|0&1&0&0&0&0|0|0|1|1|1|1&1&1|1|0&0|1\\nXXXXXXXXXXXXXXXXXXXXXXXXXXXXXXXXXXX1|1|0&1&1&1&0|1\\nXXXXXXXXXXXXXXXXXXXXXXX0&1&0&1&0&1&0&1|0|1|0|0&0&0\\nX1|1&0&0&0|1&0|1&0|0|1|1|1&0&0|0&1|0&0|0|1&0&0&1|0\\nXXXXXXXXXXXXXXXXXXXXXXXXXXXXXXXXXXXXX1|0|0&0&0|0&1\\nXXXXXXXXXXXXXXXXXXXXXXXXXXXXX1|1&0&0&0&0&0&1|1|0&0\\nXXXXXXXXXXXXXXXXXXXXXXXXXXXXXXXXXXX1|0&0&0&1|1&0&1\\nXXXXXXXXXXXXXXXXXXXXXXXXXXXXXXXXXXXXXXXXXXXXXXX0|0\\nXXXXXXXXXXXXXXXXXXXXXXXXXXX0|1|1|0&1&1|1|1&1|0&0&1\\nXXXXXXXXXXXXXXXXXXXXXXXXXXXXXXXXXXXXXXXXXXX1&1&1|0\\nXXXXXXXXXXX1&0&0|0|1&1|0&1&0|0|0|1|1|1&0&0&1&1|0&1\\nXXXXXXXXXXXXXXXXXXXXXXXXXXXXXXXXXXXXX0|0|0&1&0&0|0\\nX1|0&0&1|0&0|1&0|1|0&0|1&0&1|1&0&1&1&1&1&0&0|1|1&1\\nXXXXXXXXXXXXXXXXXXXXXXXXXXXXXXXXXXXXXXXXXXXXXXX1|1\\nXXX0|1&0|1&1|0|1|1|1|1&0|1|0&0&1|1|0&0|0&0|0|1&0|0\\nXXXXXXXXXXX1|1&0&1|1|1|0&0&1&1&1&1&1|1&0&0&1|0&1|0\\nXXXXXXXXXXXXXXX1|1|1|1|0|1|1|1|1|1|1&0&1&1|0|1&1|0\\nXXXXXXXXXXXXXXX0&0&1&0|0&0&1&0&1|1|1|1&0&1|0|1&1|0\\nXXXXXXXXXXXXXXXXXXXXXXXXXXXXXXXXX0&1&1|0&0&0&0&0&1\\nXXXXXXXXXXXXXXXXXXXXXXXXXXXXXXXXXXXXX1&0|0&0|0|1&0\\nXXXXXXXXXXXXXXXXXXXXXXXXX1|0|0&1|0&1&1&1&0|1&1&1&0\\nXXXXXXXXXXXXXXX0|1&0|0&1|0|1|0|0|1&1|1|1|0&1|1|0&0\\nXXXXXXXXXXXXXXXXXXXXXXXXXXXXXXXXX0&1|0&1|0&1&0|0|0\\nXXXXXXXXX0&0|1&1&0&0&1|1&1|0|0&0&1&1&0|1&1|0&1&0|1\\nXXXXXXXXXXXXXXXXXXXXXXXXXXXXXXX0&0|1|1|0|0|0&0&1&0\\nXXXXXXXXXXXXXXX1&0|1&0|1|0&1&1|0&1&0&1&0|0|1&1&0|1\\nXXXXXXXXXXXXXXXXXXXXXXXXXXXXXXXXXXXXXXXXXXXXX0|0|1\\nXXXXXXXXXXXXXXXXXXXXXXXXXXXXXXXXXXX0&1|0|0&1|0|1&0\\nXXXXXXXXXXXXXXXXXXXXXXXXXXXXXXXXXXXXXXXXXXX0|1|1&1\\nXXXXX0|0|1|0&0|0&0&1&0&1&1|1&1&0|0|1&0&1&0|0&1&0|1\\nXXXXXXXXXXXXXXXXXXXXXXXXXXXXXXXXXXXXXXXXXXXXXXXXX1\\nXXXXXXXXXXXXXXXXXXXXXXXXXXXXX1&1&1|0&1&0|1|0|0|1|1\\nX0&0&0&0&0&0|0&1&1&0&1&0|1|1|1|0|1&0|0&1|1&0|1|0&0\\nXXXXXXXXXXXXXXXXXXXXXXXXXXXXX0&0&1&0|0&1|1|1|0|1&1\\nXXXXXXXXXXXXXXXXXXX0|1|1|0|0&1|1&1|0|0|0&0|1&1&0&0\\nXXXXXXXXXXXXXXXXXXXXXXXXXXXXXXXXXXX0&0&0&1&1|1&1&1\\nXXXXXXXXX0&1|0&1&1|1&0&1|1&1|0&0&1|0&0&1|0|1|0|1&0\\nXXXXXXX0|1|1&1|1|0&1&1&1&1&0&0|0&0|0&1|0|1|0|1|1|1\\nXXXXXXXXXXXXXXX1|1&1|1&0&1&0|0&1|1|1&0&1|0|1&0|0&1\\nXXXXXXXXXXXXXXXXXXXXXXXXXXX0|0|1|1|1|1|0&1&0|0&1&1\\nXXXXX0&1|0&0|1|1&0&0&0&1|1&0&0|1&0|1|0&1|1|1|0&0&0\\nXXXXXXXXXXXXXXXXXXXXXXXXX0&0&0&0|0|0&1|1|0&0|1|0&0\\nXXXXXXX0&1|0&0&1&0&0&1&0&0&1|0|0&1|0&1|0&0&1|1&0|0\\nXXXXXXX0|0|1&1|1&1|0|0|0&1&0|0&0|0&0&1|1|1|0|0&0&0\\nXXXXXXXXXXXXXXXXXXXXXXXXXXXXXXXXXXXXXXX0&0|1|0|0|1\\nX0&0&1&1&1|0&1&1|1|0&0|1&1|1|0|1|1|0&0&0|1|0|0|0&1\\nXXXXXXXXXXXXXXXXXXXXXXXXXXXXXXXXXXXXXXXXX1&0&0&1&0\\nXXXXXXXXXXXXXXXXXXXXXXXXXXXXXXXXXXXXXXXXXXXXX0&1|1\\nXXXXXXXXXXXXXXXXXXXXXXXXXXXXXXXXXXXXXXXXXXX0&1&0|0\\nXXXXXXXXXXXXXXXXXXXXXXXXXXXXXXXXXXXXXXXXXXXXX1|1&0\\nXXXXXXXXXXXXXXXXXXXXXXXXXXXXXXXXXXXXXXXXXXXXXXX0&0\\nXXXXXXXXXXXXXXXXXXXXXXXXXXXXXXXXXXXXXXXXX1&0&1|1|1\\nXXXXXXXXXXXXXXXXXXXXXXXXXXXXXXXXXXXXXXXXXXXXXXX1&0\\nXXXXXXXXXXXXXXXXXXXXXXXXXXXXXXXXXXXXXXXXXXXXX1|0|0\\nXXXXXXXXXXXXXXX0&0&0&0&1|0&0|1|0&0|1|1|0|0&0|1|1|1\\nXXXXXXXXXXXXXXXXXXXXXXXXXXXXXXX0&0|0|1|1|0|0|0|1|1\\nXXXXX0&0|0|0|0|0|1|1&1&0&1&0|1&1&0|1&0|1&0|1|1|0|0\\nXXXXXXXXXXXXX1&0|0&1&1&0|0&1|1&0&0|0&1&0&0|1&1&0&1\\nXXXXXXXXXXXXXXXXXXXXXXXXXXXXXXX0&0|1&1&0&0&0&0&1|0\\nXXXXXXXXX1|1&1&1&0|0|1|0|1&0|1|1|0|1|0&0&0|0|1&0|0\\nXXX1&1&0|0|0|0|1&1&0|1|1|0&0|0&1|0&1|1&1|1|1|0&0|0\\nXXXXXXXXXXXXXXXXXXXXXXX1&0&1&0&1|0|0&0&1&1|0|1&1&0\\nXXX1&1|1&0&1|1|1|1&1&0|0|1|1&1|0|1|0&0|0|0|1|0&1&1\\nXXXXXXXXXXXXXXXXXXX0|1|1&0|0|0&1&1&0&0|0|0|0&1&1|1\\nXXXXX0&1|1&0&1&1&0&1&0|1|1&0|1&0|1|1|0&0|1&1&0&1|0\\nXXXXXXXXXXXXXXXXX0|0&1|0|0&1|0|1|1&1|0|0&0|0&0&1|0\\nXXXXXXXXXXXXXXXXXXXXXXXXXXXXXXXXXXXXXXXXXXXXXXX1&0\\nXXXXXXXXXXXXXXXXXXXXXXXXXXXXXXXXXXXXXXXXX0|0|1|1&1\\nXXXXXXXXXXXXXXXXXXXXXXXXXXXXXXXXXXXXXXXXXXXXX1|1&1\\nXXXXXXXXXXXXXXXXXXXXXXX0&0&0|1|0|1|1|0|0&1|1|0&1&0\\nXXXXXXXXXXXXXXXXXXXXXXXXX1&1&0|0&0&1&1|0|1|1&1|1&0\\nXXXXXXXXXXXXXXXXXXXXXXXXXXX0&0|1&1&0&1&0&0|0|0&1|1\\nXXXXXXXXXXXXXXXXXXXXXXXXXXXXXXXXXXXXXXX0|0|1|0|1&1\\nXXXXXXXXXXXXXXXXXXXXXXXXXXXXXXXXXXXXXXXXXXX1|1|1&0\\nXXXXXXXXXXXXXXXXXXXXXXXXXXXXX0|1&0|0&0&0&0&0|0&0&0\\nX1&0|0&1|1|1|0&1&0|1&1&0&1|0&0|0|0|1&0&1|1&1&1&1&1\\nXXXXXXXXXXXXXXXXXXXXXXXXXXXXXXXXXXXXXXXXXXXXXXXXX1\\nXXXXXXXXXXXXXXXXXXXXXXX0|0&0&0|1|0&1&0|0&0|1&0&0|0\\nXXXXXXXXXXXXXXXXXXXXXXXXXXXXXXXXXXXXXXX0|1&1&0&1|0\\nXXXXXXXXXXXXXXXXXXXXXXXXX0|1&1&0|0|0|0|0&1&1|0|1&1\\nXXXXX0&1&0&1|0|1&0&1|0|0&0&0&1|0|1&1&0|1&1|1|0&0&0\\nXXXXX0|1&1&0&1&1|1&0|1&0&0|1&1&1|0&0|1|1&1&1&1&0&1\\nXXX1&1|0|0&0&1|0|0|0&0|0|0|1|0|1|0&0&1|1&1|0|1|1&0\\nXXXXXXXXXXXXXXXXXXXXXXXXXXXXXXXXXXXXXXXXXXXXXXXXX0\\nXXXXXXXXXXXXXXXXXXXXXXXXXXXXXXXXXXXXXXXXXXXXXXX1|0\\nXXXXXXXXXXXXXXXXXXXXXXXXX0&1|1|1|0|0|1|0&0&0&0&1|1\\nXXXXXXXXXXXXXXXXXXX0|1&1&1|0|1&0&1|1|0&1|1&1|0&0|1\\nXXXXXXXXXXXXXXX0&0|1&1|1|0&1|0|0&1|0&1|0|0|0&1&0&0\\nX0&0&1|0&0|1&0|0|1|1|0|1|0|0|0&0|0&0&1&1|0|0|0&0&1\\nXXXXXXXXXXXXXXXXXXXXXXXXX1|1|1|1|1&0&0|0&1&1&0|1|1\\nXXXXXXXXXXXXXXXXXXXXXXXXXXXXXXXXXXXXXXXXXXXXXXXXX0\\nXXXXXXXXXXXXXXXXXXXXXXXXXXXXXXXXXXXXXXXXXXXXX1&0&0\\nXXXXXXXXXXXXXXXXXXXXXXXXXXXXXXXXXXXXXXXXX1&1|1|0|0\\nXXXXXXXXXXXXXXXXXXXXXXXXXXXXXXXXXXXXXXX0&0|0&0|0&1\\nXXXXXXXXXXXXXXXXXXXXXXXXXXXXX0&1&0|1|0&1&1&0&1&1|0\\nXXXXXXXXXXXXXXXXXXXXXXXXXXXXXXXXXXXXXXXXXXXXXXXXX1\\nXXXXXXXXXXXXXXXXX1|1&1|1&1&1&0&1|0|0|1|0&0&1&1|0|1\\nXXXXXXXXXXXXXXXXXXXXXXXXXXXXXXX0&0|1&1&0&0&0&0&1|1\\nXXXXXXXXXXXXXXXXX1|0&1|0&0&0|0|0|0|0|1|1&1|0|0&0|1\\nXXXXXXXXXXXXXXXXX1|0&0&1|0&0|1&0|1&0&0|1&1|0&0&1&1\\nXXXXXXXXXXXXXXXXXXXXXXXXXXXXXXXXXXXXXXXXX1&0&1|1&0\\nXXXXX0&0&0|0&0|0&0|0&0|0&0&1|0&1|1&1&0&1&1|1&0|1&0\\nX1|0&0&0|1&0&0|1|1|0&0|0|1|0|1&1&1|0&1|1|1&1|1|0|0\\nXXXXXXXXXXXXXXX0|0&0&1|0&0|0&1|0|1&1|0|1&1|1|1&0|0\\nXXXXXXXXXXXXXXXXXXXXXXXXXXXXXXXXXXXXXXX1|0&1&1|0&1\\nXXXXXXXXXXXXX0|1&0|0&0&1|1|1|1&0&1|1&0&1&0|1&0|1|1\\nXXXXXXXXXXXXXXXXXXXXXXXXXXXXXXX0&1|0&1|1&0|1|0&1|1\\nXXXXXXXXXXXXXXXXXXXXXXXXXXXXXXXXX0|1&0&1&1|0&1&0|0\\nXXXXXXXXXXXXXXXXXXXXXXXXXXXXXXXXXXXXXXX0|0|1|1|0|0\\nX1&0&1&0&1&0&0&0|1|0|1|1|1|0|0|1&1|0|0|1|0&1&1&1&0\\nXXXXXXXXXXXXXXXXXXXXXXXXX0|1|1&0&0|0|1|0|0&0|1&0|1\\nXXXXXXX0|1&0&0|1|0|1&1&1&1|1|0&0|1|0|0|0&0&1|0&0&1\\nXXXXXXXXXXXXXXXXX1|1&0|1&0&1&0|1&1|1|1|0&1|0|0&0|0\\nXXXXX1|1|1|0|0&0|0|0|1&0|1|1&0|1|0&0|0&0&0|0&1&0&1\\nXXXXXXXXXXXXXXX1&1|0|1&0&0&1|1&0&1&1|0|0|0|1|1&0|1\\nXXXXXXXXXXXXXXXXXXXXXXXXXXXXXXXXXXXXXXXXX0&0&1&1&1\\nXXXXXXXXX0|0&0&0|0&1|0|1|0&1&0|0&0|1&0&0|1&1|1|0|0\\nXXXXXXXXX0|0|0|1|0&0&1&1|0&0&1|0&1&0|0|1|1|1&0|1|1\\nXXXXXXXXXXXXXXXXXXXXXXXXXXXXXXXXXXXXXXXXXXXXXXX0&1\\nXXXXXXXXXXXXXXXXXXXXXXXXXXXXXXXXXXXXXXXXX1&0&1|1|1\\nXXXXXXXXXXXXXXXXXXXXXXXXXXXXXXXXXXXXX1|0|1&1|0&1&1\\nXXXXXXXXXXXXXXXXXXXXXXXXXXXXX0|0|0|0&1&1&0|0|0&0&0\\nXXXXXXXXXXXXXXXXXXXXXXXXXXXXXXXXXXXXX1&1|1|1&1&0|0\\nXXXXXXXXXXXXXXXXXXXXXXXXXXXXXXXXXXXXXXX1&0|1|1|1&1\\nXXX0|1|1|1|0&0|0|0|1|1&0|1&0|1|0|0|0&0&1|0|0&0|1|0\\nXXXXXXXXXXXXXXXXXXXXXXXXXXXXXXX0|0|0&0&1&1|0&0&0|1\\nXXXXXXXXXXXXXXXXXXXXXXXXXXXXXXXXXXXXXXXXXXX0&1&0&0\\nXXX0|1&0|1|1&0|1|0&0&0&0&1|1|0|0|1&1|1|1|0&0&1&1|1\\nXXXXXXXXXXXXXXXXXXXXXXXXXXXXXXXXXXXXX0&1|1&1|0&1|0\\nXXXXXXXXXXXXXXXXXXXXXXXXXXXXXXXXXXX1&1|0|1|0&1&0&0\\nXXXXXXXXXXXXXXXXXXXXXXXXXXXXXXXXXXXXX0|1&1&0|0|0|0\\nXXXXXXXXXXXXXXXXXXXXXXXXXXXXX1|1|0&1&1|0|0&0|0&1&0\\nXXXXX0&1&0|0&1|1|0|1|0|1&1&1&0|0|0&0|1&1&1|1&0&0&1\\nXXXXXXXXXXXXX0&1|0&0|1|0|0|1|1&1|1&0&0&0|1&0&0&0&1\\nXXXXXXXXXXXXXXXXX0&0|1&0&0&0&0&1&1|0|1&1|0&0|1&1&1\\nXXXXXXXXXXXXX1|1|0&1|0|0|1|0&0&1&0&1|0|1|1&1|0|1|1\\nXXXXXXXXXXXXXXXXXXXXXXXXXXXXX1&0&1&1|1|0|1&0|0|1&0\\nXXXXXXXXXXXXXXXXXXXXXXXXXXXXXXXXXXXXXXXXXXXXXXX0|0\\nXXXXXXXXXXXXXXXXXXXXXXX0&0&0|1|0&1&0&0&0|0&0&1|1&1\\nXXXXXXXXXXXXXXXXX1&1|1|0&1&0|1|0|1|0&1|1|1|1|0|0|0\\nXXXXXXXXXXXXXXXXXXXXXXXXXXXXXXXXXXXXXXX1&0&1&0&0&1\\nXXXXXXXXXXXXXXXXXXXXXXXXXXXXXXXXXXXXX1&1|0|1&0&0&0\\nXXXXXXXXXXXXXXXXXXXXX0&1|1|1|0|1&0|1&0|1&0&1|0&0|1\\nXXXXXXXXXXXXXXXXXXXXXXXXXXXXXXX1&0&0|1|0&1|0|0|0&1\\nXXXXXXXXXXXXXXXXXXXXXXXXXXXXXXXXXXX0&1|0&0&1|0|0&1\\nXXXXXXXXXXXXXXXXXXXXXXXXXXX0&0|1&1|1|0|0&1&1|0&1|0\\nXXX0&0&0|1&0&0|1|0|0&0|1|1&0|0|1|0|0|1&1|0|0&0&0|0\\nXXXXX0|0|1&1|1|1&1|0|1|0&1|0|1&0&0|1&0&1&0|1|1&1&0\\nXXXXXXXXXXXXXXXXXXXXXXXXXXXXXXX0|1&0&0|0&1&1|1|1|0\\nXXXXXXXXXXXXXXXXXXXXXXXXXXXXXXXXXXXXXXXXXXXXXXXXX1\\nXXXXXXXXXXXXXXXXXXXXXXXXXXXXXXXXXXXXXXX1&0|1|1&0|0\\nXXXXXXXXXXXXXXXXXXXXXXXXXXXXXXX1|0&1|0|1|0&0&1&1&1\\nXXXXXXXXXXXXX1|0|1&1|0|0&0&0&1&1&1&0|0|0&0|0&0&1&0\\nXXXXX0&1|1&1&1|1|0|0|1|1|0&1&0|0&1&0|0|1&0&0|1&1&1\\nXXXXXXXXXXX0|1&1&0&0|1&0&1|1|1&1&0&1|1&1|1&0|0|0&0\\nXXXXXXXXXXXXXXXXXXXXXXXXXXXXXXXXXXXXX0|0&1&1|1|1&0\\nXXXXXXXXXXXXXXXXXXX1|1&1&0&0&0|0|0|1|1&0&1&0|0&1&1\\nXXXXXXXXXXXXXXXXXXXXXXXXXXXXXXXXXXXXXXXXXXXXXXX1|1\\nXXXXXXX0|1&0&0&1|0|0&0&1&1&1&0|1&1|1|1&1&1&0|1|0|1\\nXXXXXXXXX1|0|0&0&0|1|1|1&0|0|0|1&1|1|0&0|0&0|0|0|1\\nXXXXXXXXXXXXXXXXX0|1|1|1&1|0|0&0|1&0&0|0&1&0|0&0|1\\nXXXXXXXXXXXXXXXXXXX0|1|0&0|0|1&0|0&1&0&1&1&1&1&0&1\\nXXXXXXXXXXXXXXXXXXXXXXXXXXX1&0|1|0&0|0|0|1|0|1|0&0\\nXXXXXXXXXXXXXXXXX1&0&1|1|1|1|1&0|1|0|0|1&1|1|1|0&0\\nXXXXXXXXXXXXXXXXXXXXXXXXXXXXXXXXXXXXXXXXXXXXXXXXX0\\nXXXXXXXXXXXXXXXXXXXXX1|0|0|1|1&1&0|1&0&1|1|0|0|1&0\\nXXXXXXXXXXXXXXXXXXXXXXXXXXXXXXXXXXXXXXXXXXXXXXXXX1\\nXXXXXXXXXXXXXXXXXXXXXXXXXXXXXXXXXXXXXXX0&0|0&1|1|0\\nXXXXXXXXXXX1|1&0|1|1&1&0&1|0|1&1|0|1|1|0|1&1&1&1&1\\nXXXXXXXXXXXXXXXXXXXXXXXXXXXXXXXXXXXXXXXXXXX0|0&1&1\\nXXXXXXXXXXXXXXXXXXXXXXXXXXXXXXX0|0|1&1|0&1|0|0&0|1\\nXXXXXXXXXXX0&0|1|0&1|1&0&0&1|1&1|0|0|0&1&0|0|0|1|0\\nXXXXXXXXXXXXXXXXXXX1&0|0&0|1|1|0&0&0&1|1&0|1&0|1&0\\nXXXXXXXXXXXXXXXXXXXXXXXXXXXXXXX0|0&0|0|0|0&0|0&1&1\\nXXXXXXXXXXXXXXXXXXXXXXXXXXXXXXXXX0&0|1&1|1|1&1&0|1\\nXXX0&1&1&1|0|0|0&0|1&0&0|0|1&0|1&0&1&0&0&0&1&0&1|0\\nX0&0&0&1|1|0&1&0&1|0&1&1&1&1&0|1&1|0&1&1&0&1|0&0|1\\nXXXXXXXXXXXXXXXXXXXXXXXXXXXXXXXXXXXXXXXXXXXXXXX1|1\\nXXXXXXXXXXXXXXXXXXXXXXX0|0&1&0|1&1&0|0&1&0|1|1&1&1\\nX1|0|0|0&0&0&1&1|0|0&0|1|0|0&0|1|1|1|1&1|0&1|0|0&0\\nXXX0&1|0&0&1&0&1|0&1&0|1&1|1|0&0|1|1|1|1&1|0|0&0&1\\nXXXXXXXXXXXXXXXXXXXXXXXXXXXXXXXXXXX0|0|1&0&1&1&1&1\\nXXXXX1|0|1&1&0|1&0&1&1&1&1&1|1&0&0&1&1&1&0&1|0|1|1\\nXXXXXXXXXXXXXXX1&0|0|1|0|0|0|1|1&1&0|0&1&0&1|1&1&0\\nXXXXXXXXXXXXXXXXXXXXXXX1&0|0&0|1&1|0|0&1|0&0|1|1&0\\nXXXXXXXXXXXXXXXXXXXXXXXXXXXXXXXXXXXXXXX0&0|0&0&0|0\\nXXXXXXXXXXXXXXXXXXXXXXXXXXXXXXXXXXX1&1|1&1|0|0&1|1\\nXXXXXXXXXXX1&1&1&1&1&1|1&1|0|1&0&1|1|1&0|0&0|0&0&1\\nXXXXXXXXXXXXXXXXXXXXXXXXXXXXXXXXXXXXXXXXXXX0&1|1|1\\nXXXXXXXXXXXXXXXXXXXXXXXXXXXXXXXXXXXXX0|0|0&0&0|1&1\\nXXXXXXXXXXXXXXXXXXXXXXX1|1&1&0|1&1|0&0&0&0&1|1&0&0\\nXXXXXXXXXXXXXXXXXXXXXXXXXXXXXXX0&1&1|0&0&1&1|0|0&0\\nXXXXXXX1|0|1|1|0|0|0|0|0|0|0|1|0&1&1|1|0&1&0&1|1|0\\nXXXXXXXXXXXXXXXXXXXXXXXXXXXXXXXXXXX1|1|0&1&1&0|1|1\\nXXXXXXXXXXXXXXXXXXXXXXXXXXXXXXXXX0&0&1&1|0&0|1&0|1\\nXXXXXXXXXXXXXXXXXXX1|0|0&1&1|0|1|1|1&1&1|0|0&0|1|0\\nXXXXXXXXXXXXXXXXXXXXXXXXXXXXX1|1|1&1&0&1&1|0&0|1|1\\nXXXXXXXXXXXXXXXXX0&0|1&0&0&1|1|0|0|0&1|0|0|1&0&0&1\\nXXXXXXXXXXX1|1&0|1&0|0|0&0|1|1|0&1|0&0&0&0|1|0&0|1\\nXXXXXXXXXXXXXXX0&0|1|1|1&1|1|1&1|1|1&1|1|0|1|1|0|1\\nXXXXXXXXXXXXXXXXXXX1&1|0|1|0&0&1|1&1&0&1&1&1&1|0&0\\nXXXXXXXXXXXXXXXXX0|1|0|0&1|0|0&1|1&0&0|1&1|0|1&1|1\\nXXXXXXXXXXXXXXXXXXXXXXXXXXXXX1&1&0&0&1|0|1|1|0&0|1\\nXXX1|1&1|0&1&1&0&0&1&1|0|1&1|0|0&0|0|0&0&1|1|1&1|0\\nXXXXXXXXXXXXXXXXXXXXXXXXXXXXXXXXXXXXX0&1&1|1&0|1|0\\nXXXXXXXXXXX1&1&0|0|1&1|0|1|1&1|1&0&0&1|1|0&0&0|1|1\\nXXXXXXXXXXXXXXXXXXXXXXXXXXXXXXXXXXXXXXXXXXX0&1|1&1\\nXXXXXXXXXXXXX0&0&0&0|0&1&1&0&0|0&0|1&0|0&1|0|0|0&1\\nXXXXXXXXXXXXXXXXXXXXXXXXXXXXXXXXXXXXXXXXX0|0|1|1|0\\nXXXXXXXXXXXXXXXXXXXXXXXXXXXXXXXXXXXXXXXXXXX0|0&0&0\\nXXXXXXXXXXX1|0&1|0|1&0|0|0|0|0|1&0|1|1|1&1|0|0&1|1\\nXXXXXXXXXXXXXXXXXXXXXXXXXXXXXXXXXXX1&0|1&0|0&1&1&1\\nXXXXXXX0&0|0&1|1|1|0&1|0&1|1|0|1|0|0|0|0|0|1|1|1&0\\nXXXXXXXXXXXXX0&0|1|1|0&1&1|1|1&0&0&0&0&0|0&0&0|0&1\\nXXXXXXXXXXXXXXXXXXXXXXXXXXXXXXXXXXXXXXXXXXX0|1|0|0\\nXXXXXXXXXXXXXXXXXXXXXXXXXXXXXXXXXXXXX0|0|1&1|1&1&1\\nXXXXXXXXXXXXXXXXXXXXXXXXXXXXXXXXXXXXXXXXX0&0&0&1|0\\nXXXXXXXXXXXXXXXXXXX1|0&0&0&1|0|1&0&1&1|1|1&1|0|1&1\\nXXXXXXXXXXXXXXXXXXXXXXXXXXXXXXXXXXXXXXXXX1&0&0|0|1\\nXXXXXXXXXXXXXXXXXXXXXXXXXXXXXXXXXXXXXXXXXXXXXXXXX1\\nXXXXXXXXXXXXXXXXXXXXXXXXXXXXXXXXXXXXXXX1&0|0&1|1|1\\nXXXXXXXXXXXXXXXXXXXXXXX1|1&1|1&1&0&0&0&1|0&1&0&0&0\\nXXXXXXXXXXXXXXXXXXXXXXXXXXXXXXXXXXXXXXXXXXXXXXX0|0\\nXXXXXXXXXXXXXXXXXXXXXXXXXXXXXXXXXXXXXXXXX0|1&0&1&1\\nXXXXXXXXXXX0|0|1|1|1|1|0|1|0&0&0&1|1&0|1&0|0|1|1&0\\nXXXXXXXXXXXXXXXXXXXXXXXXX1&1&0&0|0|1&0&1|0|0&1|1&0\\nXXXXXXXXXXXXXXXXXXXXXXXXXXXXXXXXXXXXXXXXXXXXX0&1&0\\nXXXXXXXXXXXXXXX0|0|1|1|0&0|1|1|1&1&0|0&1&0|1&1|1&1\\nXXX1&1|0|0&0|0|1&0|0|1|1|0&0|1&1|0|1|0|1|0|0&0&0&1\\nXXXXXXXXXXXXXXXXXXXXXXXXXXX0|0|0|0&0&1&1&1&0|1|1|0\\nXXXXX1|1|1&0|1|1|1&1&0&0|0&0&0&1|0|0&1|1|0&0&0&0&1\\nXXXXXXXXX1|1|0&0|0|0&1&0|0|0|0&1|0&0|0|0|0|1|1|0|1\\nXXXXXXXXXXXXX1&0&1|0&0&0&0&0&1|0&0|0&1|1|1|0&1&0&1\\nXXXXXXXXXXXXXXXXXXXXX1&1|1&1|0|0|0&0|0|1&0&1|0|0&0\\nXXXXX1&0&0|0|1&1&1|0&0|1&0|0|1|1|0&1|1|0|0|0|0&0&0\\nXXXXXXXXXXXXXXXXX1|0&0|1&0|1&0|1&1&1|0|1|1|1|0|1|1\\nXXXXXXXXXXXXXXXXXXXXXXXXXXXXXXXXXXXXXXX0|1&0&0&0&1\\nXXXXXXXXXXXXXXXXXXXXXXXXXXXXXXXXXXXXX1|0|0|1&0&0&1\\nXXXXXXXXXXXXXXXXXXX1|0&1&0|1|1|0|0|0|1&0|1|0&0|0&1\\nXXXXXXXXXXXXXXX0&1&1|0&1&1|0&1&1&0|1&0&0|1|1&1|0&1\\nXXXXXXXXXXXXXXXXX1|1&0&1|0&1&0|1|0|0&1&0|1&1&0|0&0\\nXXXXXXX0|1&1|1|0|1&0&0|1&0&0&0|1&0|0|1&0|1|0&0|1|0\\nXXXXXXXXXXXXXXXXXXXXXXXXX1&1|0|1&1|0|0|1|1&0&1&1&1\\nXXXXXXX0|1&1|1|0|1&1|0|1|0|0&0|1|0|0|1|0|1&0&1&1&0\\nXXXXXXXXXXXXXXXXXXXXXXXXXXXXXXXXXXX0|1&0&0|1&1&0|0\\nXXXXXXXXXXXXXXXXXXXXXXXXXXXXXXXXXXX1&1|0|1|1&0&0|1\\nXXXXXXXXXXXXXXXXXXXXXXXXXXX1|0|0|0&0&0|0&0&0&0|1&0\\nXXXXXXXXXXX0|0|1&0&1|1|0&0&1&0&1&0|1|1&0&0&0&0|1&1\\nXXXXXXXXXXXXXXXXX0|0|1|0|1&1|1&0|0|0&1&0&1&0&1&1|1\\nXXXXXXXXXXXXXXXXXXX0&1&1|1|1|1|1&0&1|0|0|1&1|1|1&1\\nXXXXXXXXXXXXXXXXXXXXXXXXXXXXXXXXXXXXXXXXX1&1&0&0&0\\nXXXXXXXXXXXXXXXXXXXXXXXXXXXXX0&0|0&0|1|1&1&0|0&1&0\\nXXXXXXXXXXXXXXXXX1&1|0|0&1&0|0|0&0|1&1&0&1&1|1|1|1\\nXXXXXXXXXXXXXXXXXXXXXXXXXXXXXXXXXXXXXXXXXXXXXXXXX1\\nXXXXXXXXXXXXX0&1|0&1&1|1&1|0|1|0|1&1|0&0|1&0|1|1&0\\nXXXXXXXXXXXXXXXXXXXXXXXXXXXXXXX1|0&0&0|1&0|1|1|0&0\\nXXXXXXXXXXXXXXXXXXXXXXXXXXXXXXXXXXXXXXXXXXXXXXX1|1\\nXXXXXXXXXXXXXXXXXXXXX0|0&1&1&0&1|1|1&1|0&1|0&1|1&1\\nXXXXXXX1&0|0&0|0|0&0|0&0&1|1|0|0|0&0|0&0|0&0|1|0&1\\nXXXXXXXXX0|0|1|1|1&0|1|1&0&0|0&0&1&1&0|1|0&0|0|1|0\\nXXXXXXXXXXXXXXX0&0|1|1&0&0|1|1|1&0|0&0|1&0&1|1&0&1\\nXXXXXXXXXXXXXXXXX1&0&1&0&0&0&0&1|1|0|0|1&1&1|0|0|1\\nXXXXXXXXXXXXXXXXXXXXXXXXXXXXXXXXX0|1&1&0|0&1&1&0|1\\nXXX0&0|1&1&0&0&1&1&1|0&0&1&0&1|1&1&0&0&0&0&0|0|0|0\\nXXXXXXXXXXXXXXXXXXXXXXXXXXXXXXX0|1|1|0|0|1|0|0|1|1\\nXXXXXXXXXXXXXXX1&1&0&1&0|0&1|0&0&1&1&1|0&1&0&0&0|1\\nXXXXXXXXXXXXXXXXXXXXXXX1|0&1|0|0|0|0|0|1&1&1|1&1&0\\nXXXXXXXXXXXXXXXXXXX1&0&1&0|0|0|0|1&0&1|1|1|0|0&0&0\\nXXXXXXXXXXXXXXXXXXXXXXXXXXXXXXXXXXXXX1&1&0&1&0|1|1\\nXXXXXXXXXXXXXXXXXXXXXXXXXXXXX0|1&1|1&0&1|1&0|1|1|1\\nXXXXXXXXXXXXXXXXXXXXXXXXXXXXXXXXXXX0&0&0|0&1|1|0&0\\nXXXXXXXXXXXXXXXXXXXXXXX0&1&1&1&1|1|0|0&0&1&1&1|0&0\\nX0&0&1&1|1|1&1&0&0&1|0|0|1&0|1&1&0&0|0&1&0&0&1|0&1\\nXXXXXXXXXXXXXXXXXXX1|1&1&1&0|1|0|1&0|1|0|0&0|0&0&0\\nXXXXXXXXXXXXX1|1&0|0&1&1&1|1|0|1|1&0|0|0|1|0&1|1|1\\nXXXXXXXXXXXXXXXXXXXXXXXXXXXXX1&1&0|0|0&0|1|1&0&0|1\\nXXXXXXXXXXXXXXX0|0|1|1&1&0|1&0|0&0&1&0|1|1|0&1&1|0\\nXXXXXXXXXXXXXXXXXXXXXXXXXXXXXXX0&0|0|1|1&0|1|1&1|1\\nXXXXXXXXXXXXXXXXXXXXXXXXXXX0|0|1|0&0&0&0|0&1|1&1|1\\nXXXXXXXXXXXXXXXXXXXXXXXXXXXXXXXXXXXXXXXXX0|1|0|0|1\\nXXXXXXXXXXX1|0&1&0|1|0|0&1&1|1|0&0&0|1&1&1|0|0&0&1\\nXXXXXXXXXXXXXXXXXXXXXXX1&0|1&1|1|1|1|1&0&0|1&1|1&1\\nXXXXXXXXXXXXXXXXXXXXXXXXXXXXXXXXXXXXXXXXXXXXX0&0|1\\nXXXXXXXXXXXXXXXXXXXXXXXXX1&1|0|0&0&0&1&0|0&1&1&0|0\\nXXXXXXXXX1&0|1|0|1|0|1|0&0&0|1|0|1|1&0|1|1|1|1&1&1\\nXXXXXXXXXXXXXXXXXXXXXXX1|1&0&1|1|0|0&1|0|1|1&0&0|0\\nXXX0&0|0&1&1&1|0&0|0&1|0|1&0|1|0|1|1&0&0&0|0&0|1|0\\nX0|1|1|0|1&0&1|1|0|1&0&1|1&0&0&1|0|0|0|0&1|0|1|0|0\\nXXXXXXXXXXXXXXXXXXXXXXXXXXXXXXXXX0&0|0|0|1|0&0&1|0\\nXXXXXXXXXXXXX1&1|1|0|1|1|1&0|0|1&1&0|0|1&1&1&0&1&1\\nXXXXXXXXXXXXXXXXXXXXXXXXXXXXXXXXXXXXX1&1|0|1|0&0&1\\nXXXXXXX1&1|1&0|1&0|0|0|1|1&0|1|1&0&0|0|1|1|1|0&0&0\\nXXXXXXXXXXX1|0|1&1|1|1&0&1&1&0&0&1|0|1&0&0&1|0|1|1\\nXXXXXXXXXXXXXXXXXXXXXXXXXXXXXXXXXXXXXXXXXXXXXXX0|1\\nXXXXX0&0|1|1|0|0&0&0|1|1&1|1&0|0|1|0&0|0|0&0|1|0&0\\nXXXXXXXXXXX1|0|1&1&0&0&1|0&1&1|0|1&0|0|0&1|1&1&1|0\\nX1|1&0|0|1|0|1&1|1|1&0&1&1&1&1|1&1&1&0|1&1|1|1&0&1\\nXXXXXXX0|0|0&0&0&0|1&1|0&0&1&1&0&0|0|0|1&0|0&1|0|1\\nXXXXXXXXXXXXXXXXXXXXXXXXXXXXXXXXXXX0&0&0|1|1|1|0|1\\nXXXXXXXXXXXXX1&0&1&0|1|1|1&1&0&1&0|0&0&0&1|1|0|0|1\\nXXXXXXXXXXXXXXXXXXXXXXXXXXXXXXXXX0|0|1&1|0|1|1&1|1\\nXXXXXXXXXXXXXXXXXXXXXXXXXXXXX0|1&1|1&0|1|1|1|0|0&1\\nXXXXXXXXXXXXXXXXXXXXXXXXXXXXXXXXX1|0|0&1&1&1&1|1&0\\nXXXXXXXXXXXXX1&0&0&0|0|1&1|0|0&0&0|0|1|0|0|0|1|0|0\\nXXXXXXX0|1&0&0&0&1&0&1|1|0&0&1|1&1&0&1|1&1|0|1&0&1\\nXXXXXXXXXXXXXXXXXXXXXXXXXXXXXXXXXXXXXXXXXXX0&0|0&1\\nXXXXXXXXXXXXX0&0&0&0|0&0|0|0|1&1&1|1&0|1&0|1&0&1|0\\nXXXXXXXXXXXXX0|1|0|0|1&1&0|0&1&0&0&0|0|0&1|0&0|0|1\\nXXXXXXXXXXXXXXXXXXXXXXX1&0|0|1&1|1&1&1|0&1&1&1&0&0\\nXXXXXXXXXXXXXXXXXXXXXXXXXXXXXXXXXXXXXXXXXXXXX1&0|1\\nXXXXXXXXXXXXXXXXXXXXXXXXXXXXXXXXXXX0|0|1&1|0|0&0|0\\nXXXXXXXXXXXXXXXXXXXXXXXXXXXXXXXXXXXXX1|1&0&0|0|0|1\\nXXXXXXXXXXXXXXXXXXX1|1|1|1&1|1&1|0|1|0|1&0&1|1&0&0\\nXXXXXXXXXXXXXXXXXXXXXXXXXXXXXXXXXXXXXXXXXXXXX1&0&0\\nXXXXXXXXXXXXXXXXXXXXXXXXXXXXXXXXXXXXXXXXXXXXX1|0|0\\nXXXXXXXXXXXXXXXXXXX0&0|0|1|1&0|1&1&1|1|0&0|1|1&1&0\\nXXXXXXXXXXXXXXXXXXXXXXXXXXXXXXX1&1&0|1|1&1|1&1&0&0\\nXXXXXXXXXXXXXXXXXXXXXXXXXXXXX0&0&1&0|1&0|1|1&1&0&1\\nXXXXXXXXXXXXXXXXXXXXXXXXXXXXXXXXXXXXXXXXXXXXX1&0&1\\nXXXXXXXXXXXXXXXXXXXXXXX1&0&1|1&0&0&0&0&0&1&1&1&1&0\\nXXXXX1|1|1&0|1&1&0|1|0|0&1&0|0&0|0|0|0|1|1|1&1|0|0\\nXXXXXXXXXXXXXXXXXXXXXXXXX0&0|1|1|0&1&0|1&1&0&1&0|0\\nX1|1&0&1|1&0|0|1&0|1|0&0&0|0&1&0&1|1&1|0&1|1&0|1|1\\nXXXXXXXXXXXXXXXXXXXXXXXXXXXXXXXXX1|0|1&1&0|0&1&0&1\\nXXX0|0|1|0&0&1|0&1&0|1&0|1|0&1|1&1|1|1|1|1|0|0|0|1\\nXXX0&1|0|0|0|1&0&0&1&1&1|1|1&1&0&1&1|0|0&0&0|0&1&1\\nXXX0&1|0|0|0&0&0&1&0&0|1&1&1|1&0&1|0|1&0&0&0|0|1&1\\nXXXXXXXXXXXXXXXXXXXXXXXXXXXXXXXXXXXXXXXXXXXXX1&1&0\\nXXXXXXXXXXXXX1|1&1|1&0|1|0|0&0&0&1|0&1|1&0&1|1&1|1\\nXXXXXXXXXXXXXXXXXXXXXXXXXXXXXXXXXXXXXXXXXXX1&1&0&0\\nXXXXXXX0&0&1|1|0|1&0|0&0&0|1&0|1|1&0|1&0&1|1|1&1|1\\nXXXXXXXXX0|1|1&1|1&1&0|1&1&0|1|1|1&0|1&0&0|1&0|1|0\\nX1|0&0&1|0&0|0&1&1|1&1|0|0|1&0|1|0|0&0|1|1&1|0&0|1\\nXXXXXXXXXXXXXXXXXXXXXXXXXXXXXXXXXXXXXXXXXXX1|0&0|0\\nXXXXXXXXXXXXX0&0&1|1&0&0|0&0&0|0&0&1&1|1&0|1&1&1|1\\nXXXXXXXXXXXXXXXXXXXXXXXXXXXXXXXXXXXXXXX0&0|1|1|0&0\\nXXXXXXXXXXXXXXXXXXXXXXXXXXXXXXXXXXXXXXXXX1&1|0|0&0\\nXXXXXXXXXXXXXXXXXXXXXXXXXXX1|1&0|1|1|0|1&0&1|0|0&0\\nXXXXXXXXXXXXX1|1&1|1&1|1|1|0|1&1&0|1|1&1|0&0&1|1&1\\nXXXXXXXXXXXXXXXXXXXXXXXXXXXXXXXXXXXXXXXXXXXXXXXXX0\\nXXXXX0|0&1|1|1|1&0|0&0|0|1&1|1&0|0|1|1&0&0|1|0|0&1\\nXXXXXXXXXXXXXXXXXXX0&1&1&1&0|0|0&1|0|0|1&0|1|1|0|1\\nXXXXXXXXXXXXXXXXXXXXXXX1&1|0|1&1&0|1|1&1&0|1&0&0|0\\nX1|1&0|0|0|1|0|0&0&1&0|1&1|0|0&0&1&1&1&0&0&1|0&1&0\\nXXXXXXXXXXXXXXXXXXXXXXX0|1&0|0&1&0|1&1|0&0|0|1|0&1\\nXXXXXXXXXXXXXXXXXXXXXXXXXXXXXXXXXXXXXXXXX0&1|0&1&1\\nXXXXXXXXXXXXXXXXXXXXXXXXXXXXXXXXXXXXXXXXXXX0&0|0&1\\nXXXXXXXXXXXXXXXXXXXXXXXXX1|1|1|1&0&0&0&0|0|1|1&1&0\\nXXXXXXXXXXXXXXXXXXXXXXXXXXXXXXXXXXX1|0|1|0|0|1&1|0\\nX1&1|0&0|1|1|1|1&0|0|1|1&1|0&0&1|0&0|0&0&0|1|0&1&1\\nXXXXXXXXX1&0|0|1&1|1|1|0&0&0&0|0|1|0|0|0|1|0|0|1|1\\nXXXXXXXXXXXXXXXXXXXXXXXXXXXXXXXXXXXXXXX0&0&0|0|0|1\\nXXXXXXXXXXXXXXXXXXXXXXXXX1&0|1|1&0&1|1&0|0&1|0|0|0\\nX1&0&0&0&0|0|0|0|1&0&0|1&0|1&0&1|0&1&1&0|0|0|1&1|0\\nXXXXXXXXXXXXXXXXXXXXX1|1&1&1|0&1&1|1&1|0|1|1&0&0&1\\nXXXXXXXXXXXXXXXXXXXXXXXXXXXXXXXXXXXXXXXXXXX0&0&0|0\\nXXX1&1|1&1|0|1&1&1&1|0&0&0&1|1|0&0|1&1|0&0&1&0&1|0\\nXXXXXXXXXXXXXXXXXXXXXXXXXXXXXXXXXXXXXXXXXXX1&1|0|0\\nXXXXXXXXXXXXXXXXXXX1|0&1&0&1&1|0|0|0|0&1|0|0|1|0|0\\nXXXXXXXXXXXXXXXXXXXXXXXXXXXXX0&0|1&1&1&1|0&0&1&1&1\\nXXXXXXXXXXXXXXXXXXXXXXXXXXXXXXXXXXXXX1&0&1&0|0|0&1\\nXXXXXXXXXXXXXXXXXXXXXXXXXXXXXXXXXXXXXXXXX1|1|1|1|0\\nXXXXXXXXXXX1&0|1&0|1&0&1&0&1|0|0|0|1|0|0|0&0&1&1|0\\nXXXXXXXXXXXXXXXXXXXXXXXXXXXXXXXXXXX0|0&1|0&1|0&0&1\\nXXXXXXXXX1&1&1|1|1&0|1&1|1&1|0&1|1|1&0&1&0&0&1|1|0\\nXXXXXXXXX0|0|1|1|0&1|0|1&0&0|0|0&1|0|0&1|1&1|0&0|1\\nXXXXXXXXXXXXXXXXXXXXXXXXXXXXXXXXXXXXXXXXXXXXXXX0&1\\nXXXXXXXXXXXXXXXXXXXXXXXXXXXXXXXXXXXXX0|1&1&1|1&0|0\\nXXXXXXXXXXXXXXXXXXXXX0&1|0&0|0&1&1&0|0&1&0&0|0&0&1\\nXXXXXXXXXXXXXXXXXXXXXXXXXXXXXXXXXXX0|1&0|0&1&1|1&1\\nXXXXX1|1&1&0|1|0&1&0&0|1|1&0|1|0|1|1&0&0&1|0|1|1&0\\nXXXXXXXXX1|1|1&0&1&0&1&0|0&0|0&1|0|0|0&1&0|0&0|1&0\\nXXXXXXXXXXXXXXXXXXXXXXXXX1&0&0|0&0&0|1|0&1|1&1|0&0\\nXXXXXXXXXXXXXXXXXXXXXXXXXXXXXXX1|1|1&1&1&1|1|1&1|1\\nXXXXXXXXXXXXXXXXXXXXXXXXXXXXXXXXXXXXXXXXXXXXXXX1&1\\nX1|0&1|1&0|0|0|0&0&1|0|0&1|1&0&0|0&1&0&1&0|1|1|1|1\\nXXXXXXXXXXXXXXXXXXXXXXXXXXXXXXX1&1|0&0|1&0|1|0|0&0\\nX0&0&1|0|1&0|1&1|0&1&1|1|1|1|0&0&0|0|1|0&0|0&1|1&1\\nXXXXXXXXXXXXX0&1&1&1&0&0|0|0&0&0&1&1|1|0&1&1|1|0|1\\nX1&1|1|0&0|0|0|1|1&0|1|1&1&1&1&1|0&0|0&1&0|1|0&1|1\\nXXXXXXXXXXX1|0|0|0|0|1&1&0&0&0&0&0|0&0|1&1|0&0&1|0\\nXXXXXXXXXXXXXXXXXXXXX1|1|1&0&0|1|0|1&1|0|1|0|1&0|0\\nXXXXXXXXXXXXXXXXXXXXXXXXXXXXXXXXXXXXXXXXXXXXXXXXX0\\nXXXXXXXXXXXXXXXXXXXXX0|0|0&1|0|1|0&0|0&1&0|0&1&1&1\\nXXX1|0&0&1|0&0|1&1|0&1&0|0&0|0|0|0|1|0&0|0|1&0&0|1\\nXXXXXXXXXXX0&1|1&0|1&1|0|1|1&0&0&0&0|1|1|1|0|0|0|0\\nXXXXXXXXXXXXXXXXXXXXXXXXXXXXXXX0|1&0|0|0&1&0&1&1|1\\nXXXXXXXXXXXXX0&0&1|0|1|0|1&0|1|1&1|0&0&1&1|0&1&1&0\\nXXXXXXXXXXX0&1|0|0|1|0|0|0&1|1&0|0|0&0&0|0|0&1&1&1\\nXXXXXXXXXXXXXXXXXXXXXXXXXXXXXXXXXXXXXXX1&0&0&1&1&0\\nXXXXXXXXXXX1|0&1|0&0&1|0&1|0|0|1|0|1&1&0|1|1|1|0|1\\nXXXXXXXXXXXXXXX1|0&0&1&1&1|1&1|1&0|1&1&0&0|0|0|1&1\\nXXXXXXXXXXXXXXXXXXXXXXXXXXXXX0&1&0|0|0&0&1|0|1|0|1\\nXXXXX1|1&0|0&0|0&1|0&0|0|0&1&1|1|1|0&1&1&1|0&1|0|0\\nXXXXXXXXXXXXXXX1|1|0&0&1|1&0|1&1&0&1|0&0|0|0|0&0&1\\nXXXXXXXXX1&0&1&1|0&1|1|0&1&0|1|0&1|1&1&1|1&0|1|0|1\\nXXXXXXXXXXXXXXXXXXXXXXXXXXXXXXXXXXXXXXXXXXXXX0|0&1\\nXXXXXXXXXXXXXXXXXXXXXXXXXXXXXXXXXXXXXXXXX1&0|0|1&0\\nXXXXXXXXXXXXXXXXXXXXXXXXXXXXXXXXXXXXXXX1|0&1&0&1|1\\nXXXXXXXXXXXXXXXXXXXXXXXXXXXXXXXXXXXXXXXXXXXXXXX0|0\\nXXX0&0&1|1&0|1|1|1&0&1|0&1&0|1|1|1&0|0|0&1|1|0|0&1\\nXXXXXXX1&0&1|0&0&0|1&0&1&0&0|0&0|1&0&0&1|1&0|0|0&0\\nXXXXXXXXXXXXXXXXXXX0&0|1|0&0&0&1&0|1&1&1|0|0&0|0&1\\nXXXXXXXXXXXXXXXXXXXXXXXXXXXXXXXXXXXXXXXXXXXXXXXXX1\\nXXXXXXXXXXXXXXXXXXXXXXXXXXXXXXXXXXX0&0&1&1|1&1|0|1\\nXXXXXXXXXXXXXXXXXXXXX1&0&1|0&1&0&0|0|1&0|0|0|1|0|0\\nXXXXXXXXXXXXXXXXXXXXXXXXXXXXXXXXXXXXXXXXXXXXXXXXX0\\nXXXXXXXXXXXXXXXXXXXXXXXXXXXXXXXXXXXXXXXXXXXXXXXXX0\\nXXXXXXXXXXXXXXXXXXXXXXXXXXX0&0&1|1&0&1&1|0|1|0&0|0\\nXXXXXXX0|0|0&1&0|0&1|1|0&1&1|1&1&1&1&1|1&1|1|1|0|0\\nXXXXXXXXXXXXX1|0&1|1|0&0&1|1|0&0|1&1&0|0&1|1&0&0&1\\nXXXXXXXXXXXXXXXXXXXXXXXXXXXXXXXXXXXXXXXXXXX0|1|0&1\\nXXXXXXXXXXXXXXXXXXXXXXXXXXX1&1|1|0|0&0&0&0|1&1&0|1\\nXXXXXXXXXXXXXXXXXXXXXXXXXXXXXXXXX1|0&1&1|0&0&0&1&1\\nXXXXXXXXXXXXXXXXXXXXXXXXXXXXXXXXXXXXX1&1&1&1&1&1|0\\nXXXXXXXXXXXXXXXXXXXXXXXXXXX0|1|1|1|1|1|1&0&1&1&0&1\\nXXXXXXXXXXXXXXXXXXXXXXXXXXXXX1&0&0|1|0&0|1&1|1&0&0\\nXXXXXXXXXXXXXXXXXXXXXXXXXXXXX0|0&1|0&1&0&1&1|0&1&0\\nXXXXXXXXXXXXXXXXX0&0&1|1&0|0|1&0&0|1|0|0|1&1|0|1&0\\nXXXXXXXXXXX0|1&0&0&1|1&0|1|0&1&1|0|1&1|0&0|0&1&1|0\\nXXXXXXXXXXXXXXXXXXXXXXXXXXXXXXXXXXXXXXX0|1|0|0&0|0\\nXXXXXXXXXXXXXXXXXXXXXXXXXXXXXXXXXXXXXXXXX0&1|0&1|1\\nXXX0&1&0|0&1&0&0|0|0&0&1&1|0&1|1|0|0&0|0&1|1&0|1|1\\nXXXXXXXXXXXXXXXXXXXXX1|0&1&0|1&0&0|1|1&0&0&1&0|0|1\\nXXXXXXXXXXXXXXXXXXXXXXXXXXXXXXX0|0&0&0|1|0|0|1|1&0\\nXXXXXXXXXXXXXXXXXXXXXXXXXXXXXXX0&0&0&0|1&0&0|1&1&1\\nXXXXXXXXXXXXX1|0|0|1&1|0&1|0&0|1|1|0&1&1|0|1|1|1&0\\nXXXXXXXXX1|1&1|0|0|1|1&0&0&0|1&0&0&0|1&1&1|1|1|1|0\\nXXXXXXXXX1|1&1&1|0|0|0&1&1&0&1&0&1|0|0&1&0&1|0|1|0\\nXXXXXXXXXXXXXXXXXXXXXXXXXXXXXXXXXXXXXXXXXXX1&0|1&1\\nXXXXXXXXXXX1|1|0&1|1|1|1&1|0|0&1|0|1&0|0&0&0&1&1&0\\nXXXXXXX1&0|0|0|0&0&0|0|1&0&1&1&1&1&0&0|1&1|0&1&0|1\\nXXX1&0|1&1&1|0&1&1&1&0|0&0|1&1|1|1|0|0&0&1&1&1&1&0\\nXXXXXXXXXXXXXXXXXXXXXXXXXXXXXXXXX0|0&0|0&1&1|1|1|1\\nXXXXXXXXXXXXXXXXXXXXXXXXXXXXXXXXX1&0|0|1&1|1|0&1&1\\nXXXXXXXXXXXXXXXXXXXXXXXXXXXXXXXXXXXXXXX1&1|1|1|1|0\\nXXXXXXXXXXXXXXXXXXXXXXXXXXXXXXXXX1|1|1|1|1|1|1&0|0\\nXXXXXXX1|1|1|1&0&1&0|1&1|1|0|1&0&1|0&1&0&1&0|0|1&0\\nXXXXXXX1&0|0|0|1&1|1&0&0|0&0&0&1|1|0&0&0&1|0&0&0|0\\nXXXXXXXXXXXXXXXXXXXXXXXXXXXXXXXXXXXXXXXXXXX1|1|1&0\\nXXXXXXXXXXXXXXXXXXX0|0&1|1&1&0|0&0&1|1&0|0&0|1|1|1\\nXXXXXXX0|0&1|0&1&1|0&0|1&0&1|1&0|0|0&0&0|0|0|1|1|1\\nXXXXXXXXXXXXXXXXXXXXXXXXXXXXXXXXXXX1|1&0&0&0|0|1|1\\nXXXXXXXXXXXXXXXXXXXXX0|1|1|0|1&1&1&1&0|0&0&0&1&0|0\\nXXXXXXXXX1&0|1|1|1&0&1&0|0&0&1|0|0|1|1|0|0&1|0|1&0\\nXXXXXXXXXXXXXXXXXXXXXXXXXXXXXXXXXXXXXXXXXXXXX0|0|0\\nXXXXXXXXXXXXXXXXXXXXXXXXX0|0&0&0&0&1|1|0|0&0&0&0|1\\nXXXXXXXXXXXXXXXXXXXXXXXXXXXXXXXXXXXXX0&0|0&0|1&1&0\\nXXXXXXXXXXXXXXX0|0&1|0|1&0|1&0&0|0|1|1|0|0|0|0|1&1\\nXXXXXXXXXXXXXXXXXXXXX1&1|1|0|1|1|0|0&1&0|0|0&1&0&1\\nXXXXXXXXXXXXXXXXXXXXXXXXX1&1|1&0&1&0|0|1&0|0|1|1&0\\nXXXXXXXXXXXXXXXXXXXXXXXXXXXXXXXXXXXXX1&1&0&0&1|0|1\\nXXXXXXXXXXX1&1&1&0|1|1&0|0&1|0&1&0|1|1&1|0&1|1|1&0\\nXXX0|0&1|1&1&1&1&1&1&1|0&1&0|1|1|0&0|0&0&1|1&1|0|0\\nXXXXXXXXXXXXXXXXXXXXX1|1&1|1|1&0&0|0|0|1&0&1|0|1&1\\nXXXXXXXXXXXXXXXXX1|1&1|1|1|0&1&0|1&1|1|0&1|1|0&1&0\\nXXXXXXXXXXXXXXXXXXXXXXXXXXXXXXX1&0|0&1|1&1&1&1|0|1\\nXXXXXXXXXXXXXXXXXXXXXXXXXXXXXXXXXXXXXXXXXXXXXXX1&1\\nXXXXXXXXXXXXX0&1&1&1|1|0|0|1&0|1|1|0|1&1|0&1&0|1&1\\nXXXXX1&1&0&0&0&0&1&1&1&0&1&0&0|0|0|1|1&1|1&1&0|0|1\\nX1&1&1&1|1|0&0&1|1&0|1|1&0|0&1|1&1|1|0&0|0|0&1&0|0\\nXXXXXXXXXXXXXXXXXXXXXXXXXXX1|0|0|0&0&0&1&1&0|0&0&0\\nXXXXXXXXXXXXXXXXXXXXXXXXXXXXXXXXX0&1|0|0|0|0&1|1&1\\nXXXXXXXXXXX0&1&0&1&0|1|0&0&1|0&0|1&1&0&0|1|1|1&0|0\\nXXXXXXXXXXXXXXXXXXX0|1&1|1|0|0|0|1|0|0|1&0|1&0|0|0\\nXXXXXXXXXXXXXXXXXXXXXXXXXXXXXXXXXXXXX0&0|1|0&0|1&1\\nX0&1&1&1|1|1&1&1|0&1|0|1&1|0|1&1|1&1&0|0&1&1&0|0|0\\nXXXXX0|1&0|1|1|1|1|0&1&1&0|1|0&0|0|0|0|0|1&0|0&0&0\\nXXXXXXXXXXXXXXXXXXXXXXXXXXXXX1&0&1&0|1|1|1&1&1&0|0\\nXXXXXXX1|1&0|1|1|1&0|0|0&0|1&0&1|1&0&0|1&0&0&0&0&1\\nXXXXXXXXXXXXX0&1&0&1&0&0|1|0|0|0|0|0|0&0|1&1|1&1&1\\nXXXXXXXXXXXXXXXXXXXXXXXXXXXXX1&0&1&0|0|0&0&0&1&1&0\\nX0&0|1&1&0|0|0&1&0&0&1|0|0&1|0|0&1|1|0&0|1|0|1|1&0\\nXXXXXXXXXXXXXXXXXXXXX1&1&1|0&1&0|0&1&0|1|1|1&1&1&1\\nXXXXXXXXXXX1&0|1|0&0&0|1|1|0&0&0|1|0|1|0&0&0|1&1&0\\nXXXXXXX0&1|0|0|1|0|1|0|1|0|1|0|0&1&1|1&0|1|1&1|0&0\\nXXXXXXXXXXXXXXXXXXXXXXXXX0&0|1&1&0|1&1&1&0|0&0&1|1\\nXXXXXXXXXXXXXXXXXXXXXXXXXXXXXXXXXXXXX1|0&1&0&0&1|1\\nXXXXXXXXXXXXXXXXXXXXXXXXXXXXXXXXXXXXX0|1|1|0&1&1|1\\nXXXXXXXXXXXXXXXXXXXXXXXXXXXXXXXXXXXXXXXXXXXXXXXXX1\\nXXXXXXXXXXXXXXXXXXXXXXXXXXXXXXXXXXX0|0&1&0|0|1|0|1\\nXXXXXXXXXXXXXXXXXXXXXXXXXXXXXXXXXXXXXXXXX1&0|0&1|0\\nXXXXX0|1|0&0|0|0|0|1&1&0&0|0|0&1|1|0&0&0|1&0&0|1&0\\nXXXXXXXXXXXXXXXXXXXXXXXXXXXXXXXXXXXXXXXXXXXXX0|0&1\\nXXXXXXXXXXXXXXX1&1|1&0|0&1&0&1|0&0&0&1&0|0&1|1&0|1\\nXXXXXXXXXXXXXXXXXXXXX0&0|0|0&0|1|0&0|0|0|0&1|1&0&0\\nX1&0&0|0|0&1&1&0|0|1|0|1&1|0|1&1|1|1&1&1|0&0&0&0|0\\nXXX0&0|0|1&1&0|0&0&0&1|1|1&1&1|0&1&0&0|0|1&0&0&1&1\\nXXXXXXX0|0|0|0&1&1|0|0|1&0&0&0&0|0&0|0|0&1|1&1&0|1\\nX1&0&0&1&0|0&0|1&0&1&1&0|1|0|1&0|1&1&1|1|0|0&0&0|0\\nX0|1|1&1|0&0&1&0&0&1&0&0|1|1|1|1&0|1|0&1|0|0&0|0&1\\nXXXXXXXXXXXXXXXXXXXXXXXXXXXXXXXXXXXXXXXXXXX0|1&1|1\\nXXXXXXXXXXXXXXXXXXXXXXXXXXXXXXXXXXXXXXXXXXXXXXX0&1\\nXXXXXXXXXXXXXXXXX0|0&0|1&1&1|1&1&0|0&1|1&1|0&1&1|1\\nXXXXXXXXXXXXXXXXXXXXXXX0&0&0&1|1&0|0&0|0|1|1&1&0&1\\nXXXXXXXXXXXXXXXXXXX0&0&1|0&0&0&0|1&0&1|1|1&1|1|0|1\\nXXXXXXXXXXXXXXXXXXXXXXXXXXXXX0|1&1|0|1|1&0|1|1|1|1\\nXXXXXXXXXXXXXXXXXXXXXXXXXXXXXXXXXXXXXXXXX0|1|1&1|1\\nXXXXXXXXXXXXXXXXXXXXXXXXXXX1|0&1&1&1&0&0|0&1|0|0&1\\nXXXXXXXXX1&0&0|0|0|1|0&1&1|0&1&1|0|1&0|0&1|0|0|0|1\\nXXXXXXXXXXXXXXXXXXXXXXXXXXXXXXXXXXXXX0|0&0|0|1|0&1\\nXXXXXXXXX1&0&0&0|0&0&1|0|0|0|1|0|1&0&1&1|1|0&0&1|1\\nXXXXXXXXXXXXXXXXXXXXXXXXXXXXXXXXXXXXXXX1&0|0|0&1&0\\nXXX1&1&0|0|0|1&1|1&1&0&0|0&1&0|0&0&1&1&1|0|0&1&1&0\\nXXXXXXXXXXXXX0|1|0&1&1|0|0|1|1&0&0|0&0|0&1&0|1|1|0\\nXXX0|1&1&1|0|0&0|0&1|1&1&0|0|1|1&1&0&1&0&1|0&0&0&0\\nXXXXXXXXXXXXXXXXXXXXXXX1|1&0|0&0&0&1|1&0|1&0|1&1&1\\nXXXXXXXXXXXXXXX1|1|0|1&0|1&0&1&1&0&1|0&1&1&1&1|1|1\\nXXXXXXXXXXXXXXXXXXXXXXXXXXX0|0&0&1|0&1&1|0|0&1&1&1\\nXXXXXXXXXXXXXXXXXXXXXXX1|0|1|1|1&1&1|1|0|0|1&0&0&1\\nXXXXXXXXX1&1&1&0&0|0&1|1&0|1&0|1|1|1&0|0|1&0&0&0&0\\nXXXXXXXXXXXXXXXXXXXXXXXXXXXXX1&1&1|0|1&0&1|1&1&0|0\\nXXXXXXXXXXXXXXXXXXXXXXXXXXXXXXX0|1|0|1|1&1|0|1|0&0\\nXXXXXXXXXXXXXXXXX0&1|1&1&1|1|0|0|1|0|0|0&0|1|0&1&1\\nXXXXXXXXXXXXXXXXXXXXXXXXXXXXXXXXX1&0&1|1|1&1|0|1|0\\nX1|0&1&1&1|1|1&0&1&0&0&0&1&1&0&0&0&0|1&0|1|0|0|1|0\\nXXXXXXXXXXXXXXXXXXXXXXXXXXXXXXXXX1&0|1|1|0&1|0&0|0\\nXXXXXXXXXXXXXXXXXXXXXXXXXXXXXXXXXXXXXXXXXXX0|0|0|1\\nXXXXXXXXXXXXXXXXXXXXXXXXXXXXXXXXX1|1&1|1&0&1&0|0&0\\nXXXXXXXXXXXXXXXXXXXXXXXXXXXXXXX1&1|1&1&1|1|1&0&1&1\\nXXXXXXX0|1|0|0&0|0&1&0&1&0&1&1|1&1|1|1|0&0|0|1&1&0\\nXXXXXXXXXXXXXXXXXXXXXXX1|0|1&1&0|1|1|0&0|1|0&1&0|1\\nXXXXXXXXXXXXXXXXXXXXX1&1&0|0&1|0&1&0|1&0|1&1&1|0&0\\nXXX1|0&0|1|1|1&1|0&1|0&1|1&0|0|0&0&1&1&0|1&0&1|0&1\\nXXXXXXXXXXXXXXXXXXXXX1&0&1&0&1&0|1&1|0|0|0&1|0&0&1\\nXXXXXXXXXXXXXXXXXXXXXXXXXXXXXXXXXXXXXXXXX1|0|1|1|0\\nXXXXXXXXXXXXXXX0&1|1&1|1|0&0|1&0|1&0&1|1|0|1|0&1|1\\nXXXXXXXXXXXXXXXXXXXXX1&0|1|0|1|1&1&1|0&0|0&0|1&0|1\\nXXX1|1|0|0|1|1|1&0|1|1&0|1&1&0|0|0|1&0&0&1&1|0|1|1\\nXXXXXXXXXXXXXXX0|0&0|1|0&1|1|0&1&1&1|1&0|1&1|1|0|0\\nXXXXXXXXXXXXXXXXXXXXXXXXXXX0&1&1|1&0|1&1|1|1|1&1|1\\nXXXXXXXXXXXXXXXXXXXXXXXXXXXXXXX0|1|0|0|0|0|1|0|0&1\\nXXXXXXXXXXXXXXXXXXX0|0|0&1|1&1|1&1|1&0|1&1&0&0|1&0\\nXXXXXXXXXXXXXXXXXXXXXXX0&0&0|0|0&1|1|0|1&0|1|1|1&0\\nXXXXXXX1|0&0&0&0&1&0&1&0|0&1|1&0|1|1&0|1|1|1&1&0&0\\nXXXXXXXXXXXXXXXXXXX0|0&0|0&0|1&0&1|1&1|1&0&1&0&1|0\\nXXXXXXXXXXXXXXXXX0|1|1&0|1&0&0|0|1|1&0|0|1|0&1&1&0\\nXXXXXXXXXXXXXXXXXXXXXXXXXXXXXXXXXXXXXXXXXXXXXXX0|1\\nXXXXXXXXXXXXXXXXX0|0|0&1&0|1|1|1|0&0&0|0|0|1|1|0&0\\nXXXXXXXXXXXXXXXXXXXXXXXXXXXXXXXXXXXXX0|0|1&1&1|0|1\\nXXXXXXXXXXXXXXXXXXXXXXX0&0|1|0|1|0&1&1&1&0&0|1|1|1\\nXXXXXXXXX0|1&1&0|0&0&1|1|0&0&0&0&1|0&1&1|1&1&1|1|0\\nXXXXXXXXXXXXXXXXXXXXXXXXXXXXXXXXXXXXXXXXXXXXX0|1|0\\nXXXXXXXXXXXXXXXXXXXXXXXXXXXXXXXXX1&1&0|0|1&0|0|1&1\\nXXXXXXXXXXXXXXXXXXXXXXXXXXXXXXXXXXXXXXX1&0&0|0&0&1\\nXXXXXXXXXXXXXXXXXXXXXXXXXXXXXXXXXXXXXXXXXXXXX0&0&1\\nXXXXXXXXXXXXXXXXXXXXXXXXX1&0&1&0&1|1|0&0&0&1|1&1|1\\nXXXXXXXXXXXXXXXXXXXXXXXXXXXXXXXXXXXXX0|1&1&0|0|1&0\\nXXX0&1&1|1&1|1&0|0&0|1&1&0&1&0|1|1|0|1&0|1&0&1&1|0\\nXXXXXXXXXXXXXXXXXXXXXXXXXXXXXXX1|0&0&0|1&0|0&0|1&1\\nXXXXXXXXXXXXX1&1|0|0&1|1|1&1&0|1&0&1|0|0|1&0|1|1&1\\nXXXXXXXXXXXXXXXXXXXXX0&1&0|1&1&0|0|1|0|1|1|1|1&0|0\\nXXXXXXXXXXXXXXXXXXXXXXX1&0|1|0&1&1|0&0&0|1|0|0|1|1\\nXXXXXXXXXXXXXXXXXXXXXXXXX0|1|0|1&0&1&0|0&1&0&1|1|1\\nXXXXXXXXXXXXXXX0|0&1|0|0&1&1|1&1|1&1&0|1&0&1|0&0|0\\nXXXXXXXXXXXXXXX1&0|0&1|1|1|1|0&0&1|0|0&0&0&0&0&1|1\\nXXXXX1&1|0|0|0|1&0&0&0&0&1&0&1&1|0|0|0|1&1&1|0&0|0\\nXXXXXXXXXXXXXXXXXXXXXXXXXXXXXXXXXXXXXXXXXXXXXXXXX1\\nXXXXXXXXXXX0&1|0&0&1|1&1&1|1&1|0&0&0|1&1|0&1&1|1|1\\nXXXXXXXXXXXXXXXXXXXXXXX1|0&1&0|1|0|1&0&1|0&0&1&1&1\\nX0&0|0|1|1&1|0&0&0&1&1|0&1&1&0|1&1&1&0&1&1&0&1&1|0\\nXXXXXXXXXXXXX1|0|1&1&1|0|0&1|1|0|1&1&1&1|0|1&0|0|0\\nXXXXXXXXXXXXXXXXXXXXXXX1|0|1|0&1&0|1&1|0&1&0|1&0&1\\nX0|1&1|0|0&1|0|0&0&0|1|1&1|0|0&1&0&0|1&1&0&1|0&1&0\\nXXXXXXXXXXXXXXXXXXXXXXXXXXXXXXXXXXX0|0&0&0|0|0&0&0\\nXXXXXXXXXXXXXXXXXXXXXXXXXXXXXXXXXXXXXXXXXXXXX0&1|1\\nXXXXXXX1&1|1&1&0|0&1&0|1|1&0|1&1|0|0&0&0&0&0&1|1&1\\nXXXXXXXXXXXXXXXXXXXXXXXXX1|0|1|1&1|0&1|1&1&0|1|0&0\\nXXXXXXX0&0&0&1|0|1&0|0&0&1&1&0&0|0&0&0&0&1|0&1|0|0\\nXXXXXXX1|1&0&0|0&1|1&0|0&0&1&0|1|1&1&1|1|1&0&1&1|1\\nXXXXXXXXXXXXXXXXXXXXXXXXXXXXX1|0&0|1|1|1|0&0&1&1|1\\nXXXXXXXXXXXXXXXXXXXXXXX1&1|1&1&0&1|1&0|0&1|0&1&0&0\\nXXXXXXXXXXX0|0&1&1|1|1&1|0&1&0&1|1|1&1&1&0|0|1|1&0\\nXXXXXXXXXXXXXXXXXXXXXXXXXXXXX1&1&1|1|1|0|1|0&1|0&1\\nXXXXXXXXXXXXXXXXXXXXXXXXXXXXXXXXX1|0|1|1&1&1&1&0&1\\nXXXXXXX1&1|1|1|1&1|0|0|1|1&0&0|0|0&0|0&1|0&1&0&1|1\\nXXXXXXXXXXXXX1|1|1|1&1|0&0&1|0|1&1&0&1&1&0|1|1|0|0\\nXXXXXXXXXXXXXXXXXXXXXXXXXXXXXXXXXXXXXXXXXXX0&1|1|1\\nXXXXXXXXX1|0|0&0|0|1&1|1&1|0&0&0&0&0|0|1&1|0|1|0&1\\nXXXXXXXXXXXXXXXXXXXXXXXXX0&0&1&0|0|0|0|0&1&1|1|1&0\\nX1&1&1&0&0&0|1&1&0&0&1|0&0|1&1|0&1&0&0&0&1&1|0&0|1\\nXXXXXXXXXXXXXXXXXXX1|0|0&0&1&1&1|1&0|0&1|1|0&0|1|0\\nXXXXXXXXXXXXXXXXXXX0&1&0&1|1|0&0|0&0&1|1&1|1&0|0&1\\nXXXXXXXXXXXXXXXXXXX0&1|0|1|0&0&0|1|0|1|1|1&1&1&1|1\\nXXXXXXXXXXXXXXXXXXXXX1&0|1|1&0&0&0&1&1|0|0&0|0|1|0\\nXXXXXXXXXXXXXXXXXXXXXXXXXXX0&0|1|0|1|0&0&0|0&0&1|1\\nXXXXXXXXXXXXXXXXXXXXX1&1&0&0&1|0|1&0|1|1&1&0&0|0&1\\nX1|0|0|1&0|1&0|1|1|0|1|1|0&0&1&0&1&0|0|0&0&0&0|0|0\\nXXXXXXXXXXXXXXXXX1&0|0&0&0|1|1|1|0&0|0|0|0&1&1|1|1\\nXXXXXXXXXXXXXXXXXXXXXXXXXXXXXXXXXXXXXXXXX0&0|0|0&1\\nXXXXXXXXXXXXXXXXXXXXXXXXX1&0&0&0&1|1&0|0|1|0|1&0|1\\nXXXXXXXXXXXXXXXXXXXXX1|1&0|0&1&1&1|0&1&1&0&1|0|0&1\\nXXXXXXXXXXXXXXXXXXXXXXXXXXXXXXXXXXXXXXXXX1&1&0&0|0\\nXXXXXXXXXXXXX0&1|1|1|1&1&1&1&0|0|0&0|1|1&1|1&0|1&0\\nXXXXXXXXXXXXXXXXXXXXXXXXXXX0|0|1&0|1|1&0|1|0&0|1&1\\nXXXXXXXXXXXXXXXXXXXXXXXXXXXXXXXXXXXXXXXXXXX0&0&1&1\\nXXXXXXXXXXXXXXXXXXXXXXXXXXXXXXXXXXXXXXXXXXXXX0&1|1\\nXXXXXXXXXXXXXXXXXXXXXXXXXXXXXXXXXXX1|1&0&1&1&1&0|1\\nXXXXXXXXXXXXXXXXXXXXXXXXXXXXXXX0|0&0|0|0|0&1&0|1&1\\nXXXXXXXXXXXXXXXXXXXXXXXXXXXXXXXXXXXXXXXXXXXXX1|1&1\\nXXXXXXXXXXXXXXXXXXXXXXXXXXX1|1&1&1|1|1&1&0&1|1|1&1\\nXXXXXXXXXXXXXXXXXXXXXXXXXXXXXXXXXXXXXXXXX1&1&0|0|0\\nXXXXXXXXXXXXXXXXXXXXXXXXXXXXXXXXXXXXX0|0|0&0&0&1&1\\nXXXXXXXXXXXXXXXXXXXXXXXXXXXXXXXXXXXXXXXXXXX1|0|0&1\\nXXXXXXXXXXXXXXXXXXXXXXXXXXXXXXXXXXXXXXX0&0&0|1|1&1\\nXXXXXXXXXXXXXXXXX1&0|0&1&1&1&0&0&0&0&1|1|1|1|1|1&1\\nXXXXXXXXXXXXXXXXXXXXXXXXXXXXXXXXX1|0|1&1|0&1|1&0|0\\nXXXXXXX1&0&0|0|0|1&1&1|0&1&0|1|0|1|0&1&0|0|1&1|0&1\\nXXXXXXXXXXXXXXXXXXXXXXXXXXXXXXXXXXXXXXXXX0&0&1&1&1\\nXXXXXXXXXXXXXXXXXXXXXXXXXXXXXXXXXXX0&1|1&1|1|1|1|0\\nXXXXXXXXX1|0&0&0|0|0&1|1|0|0|1|1&0&0&1&1&1&1&1|1&1\\nXXXXXXXXXXXXXXXXXXXXXXXXXXX0|1|0&1|1|0|0&0|1&1&0&1\\nXXXXXXXXXXX1&1&0&1&1&1|1|1|0&1&0&0&0&0|1|1|1|0&1&1\\nXXXXXXXXXXXXXXXXXXXXXXXXXXXXXXXXXXXXXXXXXXXXXXXXX1\\nXXX0|1&1|0&0|1|1&1|1&1|1&0|1&0&0&1|1&1&0|0&0&0|1&1\\nXXXXXXXXXXX0&0|0|1|0&0|1|0|1|1&1|0|1|0&0|0|0|0|0&0\\nXXXXXXXXXXXXXXXXXXXXXXXXXXXXXXX1&0&1|0|0&0|1&0|1&1\\nXXXXXXXXX1|1&1&1&0&0&0|1&0&1&1|0&1&0|1&0&1&0|0|1|1\\nXXXXXXXXXXXXXXXXXXXXXXXXXXX1&0&0&1&0|0&1|0|0|0&0&0\\nXXXXXXXXXXX0&1&1|0&0&0|1|0|0|0&0&1|0|0|1|1&0&0|0|1\\nXXXXXXXXXXXXXXXXXXXXXXXXXXXXX0&0|1&1|0&0|1|1&1&0&1\\nXXXXXXXXXXXXXXXXXXXXXXXXX0|0&1&1|0|0|0|0|1|1&0&1&1\\nXXXXXXXXXXXXXXXXXXXXXXXXXXXXXXXXXXXXXXXXXXXXXXX0|1\\nXXXXXXXXXXXXXXXXXXXXXXXXXXXXXXX0|1&1&0&1&0&1|0&0|0\\nXXXXXXXXX1&1|0|1|0&0&1|1|1|1|1&1|1&0|0&1|0|1|0&0&1\\nXXXXXXXXXXXXXXX0|1|1&0|0&0&1&0&1|1&1|1|0|0&1|1&0&0\\nXXXXXXXXXXXXX1|0&0|0|1&1|0|0|0|1|1&0|0|0&1&0|0&0|1\\nXXXXXXXXXXXXXXXXXXXXXXXXXXXXXXXXXXXXX1&1&1&0|1|1|1\\nXXXXXXX1&1|0&0|0&0|1|0|1|0|0|1&1&1&1|1|1&0&0|1|1|0\\nXXXXXXXXXXXXXXXXXXXXXXX0|1&0|0&0&1|1&1|0|0&1|0|0&0\\nXXXXXXXXXXXXXXXXXXXXX1|1&0|0|0|0&1&0|1&1&1&0&1&0&1\\nXXXXXXXXXXXXXXXXXXXXXXXXXXXXXXXXXXXXXXXXXXXXXXX0&1\\nXXXXX1|1&0|0&0|1&0|1|1|1&0&0|1&1&1|1&0&1&0|1&0&1&0\\nXXXXXXXXXXXXXXXXXXXXXXXXXXX0|1|1|0&0&0|1|0&1|1|1|0\\nXXXXXXXXXXXXXXXXXXXXXXXXXXXXXXXXXXXXXXXXXXX0&0&1|1\\nXXXXXXXXXXXXXXXXXXXXXXXXXXXXXXXXXXXXXXXXX1|0|1&0&1\\nXXXXXXXXXXXXXXXXXXXXXXX0&1&1&1|1&1&1&0|1&1&1&1&1|0\\nX1&0|0|1|0&0&0&0|0&1&0|1&0&0&0&0|0&0&1|0|0&0&0&0&0\\nXXXXXXXXXXXXXXXXXXXXXXXXXXXXXXXXXXXXXXXXXXXXXXX0&1\\nX0&1|1&1&1|1|0&0|1&1|1|1&0&0&0|0|0&0|1&0|0|0&0|1|1\\nXXXXXXXXXXXXX1&1&0|0|1&1&1&0&0&0|1&1|0|1|0|0&0&1|1\\nXXXXXXXXX0&0&1&0|1&0|1&0&1|1&1&0&0|0&0&1&1&1|0|0&1\\nXXXXXXXXXXXXXXXXXXXXXXXXXXXXX1|0&1&1&0&0&1&0&1|0|1\\nXXXXXXXXXXXXXXXXXXXXXXXXXXXXXXXXX0&1&1&0&1|1|0|0&1\\nXXXXXXXXXXXXXXXXXXXXXXXXXXXXXXX1|1&0|0|1|0|1&1&0&1\\nXXXXXXXXXXXXXXXXXXXXXXXXXXXXXXXXXXXXXXXXXXXXXXX0|1\\nXXXXXXXXXXXXXXXXXXXXXXXXXXXXXXXXXXXXXXXXX1|0|0&0&0\\nX1&0&0|0|0|1&1|0|1&1&1|0|1&1|1&0|0&1&1&0&0&0&0|1|0\\nXXXXXXXXXXXXXXXXXXXXXXXXXXXXXXXXXXXXXXXXXXXXXXXXX1\\nXXXXXXXXXXXXXXXXXXXXXXXXXXXXX0&0|1|1&1|1&1&1|0|1&1\\nXXX0|0&1|1&1|0|1|0&1&0&1&1&1&0|1&1&0|0&1|1|1|1|1|1\\nXXXXXXXXXXXXXXXXXXXXXXXXXXXXXXXXXXXXXXXXXXXXXXX1&0\\nXXXXXXXXXXXXXXXXX0&1|0|1|0&0&0&0|0&1&1|0|1&1|0|0|1\\nXXXXXXXXXXXXXXXXXXXXX0&0|0&1|0|1|0|0&0|1&1|0|1&0|1\\nXXX0|0|1&0|1&1&0&1&0&1&1|1&1|1|1&1&1&1|0&0|0&0|1|1\\nXXX1|0&1|1|1|0&0&0|0&1&0|1&0&0&1|1&0|1&1|1&0|1&0&0\\nXXXXXXXXXXXXXXXXXXXXXXXXXXXXXXXXX0&1|1&1&1|1&1|0&1\\nXXXXXXXXXXXXXXXXXXXXXXXXX1|1&1|0|0&1&0|1&1|0|0|0|0\\nXXXXXXXXXXXXXXXXX1|0&1&0|1|1&1&1&1&0|1|1&1&1|0|1&1\\nXXXXXXXXXXXXXXXXXXXXXXXXXXX1&0|0|1|0|1&1&0|0|0|1&0\\nXXXXXXXXXXXXXXXXXXXXXXXXXXXXXXXXXXXXXXXXX0&0&1&0|1\\nXXXXXXXXXXXXXXXXXXX1|1&0|1&1&1&0&1&1|1|1&1&0|1&1|1\\nXXXXXXXXXXXXXXXXXXXXXXX1&0&1&0&1|1|0&1&0&1|0&1&0|0\\nX1&0|0&1&0&0&0&0&1&0&1&0|0|0|1|0&1&0&0&0|1|1&1&0|1\\nXXXXXXXXXXXXXXXXXXXXXXXXX1|1&1|0|1|0&0&1&0|0&0|0&1\\nXXXXXXXXXXXXXXXXXXX0&1&0&1&1|1&1|0&1|0&1&0|1|1&1|0\\nXXXXXXXXXXXXXXXXXXXXXXXXXXXXXXXXXXXXXXXXXXXXX1|0&0\\nXXXXXXXXXXXXXXXXXXXXXXXXXXXXXXXXXXXXX1|0|0|1&0|0|0\\nXXXXXXXXXXXXXXXXXXXXXXXXXXXXXXXXXXXXXXXXXXXXX1|1|0\\nXXXXXXX0|1&1|1|1&1|1|0|1|1|1&0|0&0&1|0&1|0&0|0&1&0\\nXXXXXXXXXXXXXXXXXXXXXXXXXXXXX0|0|0|0&0|0&1|0|1|1&1\\nXXXXXXXXXXXXXXXXXXXXXXXXXXXXXXXXXXXXXXXXXXX1|1&1|0\\nXXXXXXXXXXXXXXXXXXXXXXXXXXXXXXXXXXXXXXXXXXXXX0|1&0\\nXXXXXXXXXXXXXXXXXXXXXXXXXXXXXXXXXXXXXXXXXXX0|1&1|0\\nXXXXXXXXXXX0&0&1|0&0&1|0|1|0&0|0|1&1|1|1|0&1|1&0&0\\nX1|1&0&0&0|1&1|0|0|1&1|0|0|1|1|0&0&0|1&0|1|1&1&1&0\\nXXXXXXXXXXXXXXXXXXXXXXXXXXXXXXXXXXXXXXXXXXXXX1|1|1\\nXXXXXXXXXXXXXXXXXXXXXXXXXXXXX1|1|0&1|0|0&1&1&1&0|0\\nXXXXXXXXXXXXXXXXXXXXXXXXX0&0&1|0&1|1&1|0&1|1&0&1|0\\nXXXXXXXXXXXXXXXXXXXXXXXXXXXXXXX0|1|0|1&1&0&0|1|0|0\\nXXXXXXXXXXXXXXX0&0&1|1|0&0|0&1|0|0&1&1|1&1&0|1|1|0\\nXXXXXXXXXXXXXXXXXXXXXXXXXXXXXXX0|0|0&0&0&0&1|0&1&1\\nXXXXXXXXXXXXXXXXXXXXXXXXXXXXXXXXXXXXXXX1&1|1&1|1|1\\nXXXXXXXXXXXXXXXXXXXXXXXXX0|1|0|1|0|0|0&1&0|1|0&0|1\\nXXX0&1&0&1&0|0|0&0|1|1&0|0&1&0|1&0|1|0|1|0|0&0|1&1\\nXXXXXXXXXXXXXXX1|1|1&0|1|0|0|1|0|0|0&1&1&1|1&0|0&0\\nXXXXXXXXXXXXXXXXXXXXXXXXXXXXXXXXXXXXX1|1|1|0|1|0|0\\nXXXXXXXXXXX1|0|1|1|0|1|0|1&0|1&0&0|1&1|0&1|1|1|1&1\\nXXXXXXXXXXXXXXXXXXXXXXXXXXXXXXXXXXXXXXXXX0|1|0&1|1\\nXXXXXXXXXXXXXXXXXXXXXXXXXXXXXXX0&0|1|0&0|0&1|0|1|0\\nXXXXXXXXXXXXXXXXXXXXXXXXXXXXXXXXXXXXXXXXXXXXX0|1|0\\nXXXXXXXXXXXXXXXXXXXXXXX0&0|0|0|0&0|0|1&0&1&1&0|1|0\\nXXXXXXX0&0|0|1&0|0|0|1&1|0&1|0&1|1&1&0&1&0|1|1|1|1\\nXXXXXXXXXXXXXXXXXXXXXXXXXXXXXXX0&1|1&0|1&1&0|1|1&1\\nXXXXXXXXXXXXXXXXXXX0&1&0|1&0|1&1&0&0|1&1&1&1|0|1&1\\nXXXXXXXXXXXXX0&0&1&1|0|0&0&0|0&0|1&0&0|0&1&1&0|0|0\\nXXXXXXXXXXXXXXXXXXXXXXXXXXX1&1|1&0|0&0&0|0|0|0|1&1\\nXXXXXXXXXXXXXXXXXXXXXXXXX1|0&1&0&1&1&0|0|0|0|1&0|1\\nXXXXXXXXXXXXXXXXXXXXXXXXXXXXX0&0&1&0&1&1&0|1|1&0|1\\nXXXXXXXXXXXXXXX1|0&0&0&1&0&1|1&0&0&1|1|1|0&1|1|1&0\\nXXXXXXXXXXXXXXXXXXXXXXXXXXXXX0|0|1&0|1|0|0&0&0|1&0\\nXXXXXXXXXXXXXXXXXXXXXXXXX1|1&1|1|1|1|0|1|1|0|1&0&0\\nXXXXXXXXXXXXXXXXXXXXXXXXXXXXXXXXXXXXX1&1&1&0|1&1|1\\nXXXXXXXXXXXXXXXXXXXXX0&1&0|1|0|1&1|1&0|1|1&0|0&1|0\\nXXXXXXXXXXXXXXXXXXXXXXXXXXXXXXXXXXXXXXXXXXXXX1|1&0\\nXXXXXXXXXXXXXXXXXXXXXXXXXXX1|1&0&0&0&0|1|1&1|0&0|1\\nXXXXX0&1|1|0|0&1&1|1|0&0&1&1&1|0|1|0&0|1&0|1&0&0&1\\nXXXXXXXXXXXXXXXXXXXXXXXXXXXXXXXXXXX0&1|1|1|1|1&1&0\\nXXXXXXXXXXXXX1|0&1&1&0|1&0&1|1&1|0&1|1&1|0&1&0&0&0\\nXXXXXXXXXXXXXXXXXXXXXXXXXXXXXXXXXXXXXXXXXXX1|1&0&0\\nXXXXXXXXX1|0&0&1&1&0&0|0|0&0&1&0&0|0|1|1|0|0&1&0|1\\nXXXXXXXXXXXXX1&0&1&0&0|1&1|0|0&1|0&0|0|0|0|0&1&1&1\\nXXXXXXXXXXXXXXX1&0&1|1&1&0|1|1|0|1&1|1&0|0|1|0|1|1\\nXXXXXXXXXXXXXXXXXXX1|1|1|1|1&0|0&1|0&0|1&0&0|0&0&0\\nXXX0|0&1&1&1|1|0&0|1|0|0|1&0&0|1|1|1&0|0|1&1&0|1|1\\nXXXXXXXXXXXXXXXXXXXXXXXXXXXXXXXXXXXXXXXXXXXXXXXXX1\\nXXXXXXXXXXXXXXXXXXXXXXXXXXXXX0|1&1&0&0&1|1&1|1|1|0\\nXXXXXXXXXXXXXXXXXXXXXXXXXXXXXXX0&0|1|0&1&1&0|0&1|1\\nXXXXXXXXXXXXXXXXXXXXXXXXXXXXXXXXXXX0|0&1&0&1&1|0|1\\nXXXXXXXXXXXXXXXXXXXXXXXXXXX1&1&1|0&1&0|0|1&1|1|1|0\\nXXXXXXXXXXXXXXXXXXXXXXXXXXXXX0&0&0|0|0&1&1&1|0&1&1\\nXXXXXXXXX1|0&0|0&0&1&0&0|0&1&0|0&1|0&0&0|1&1|0|0&1\\nXXXXXXXXXXXXXXXXXXXXXXXXXXXXXXXXXXXXXXXXX1|1&1|0|1\\nX0|1&0|1|0|0&0|1|0|0|0&0&0&0&1|1&1&1&0&0&0|1&0|1&1\\nXXXXXXXXXXX0|0|1&1|0&1&1&0|1&0&1&1&1|0&0&0&0|0&1&0\\nX1&1&1&1&0|1|1|0|1|1|0&1&0|0|0|0&0&0&0|1&0|0&0|0|1\\nXXXXXXXXXXXXXXXXXXXXXXXXXXXXX1&1|1&1|1|0&1|0&0&0|1\\nXXXXXXXXXXXXXXXXX1|1|1|0|1&0&0&0|1&0|0|0|1|1|1&0&0\\nXXXXXXXXXXXXXXXXXXXXXXX1|1|1&1|1&0|0|0|0&1|0|0|1|1\\nXXX0|1|1|1&0|1&1&0|0&0|0|1&0&1&0&0&0|0&1&0&0|1&0&1\\nXXXXXXXXXXXXXXXXXXXXXXX0&0|1|0&0|0|1|0&0|0&0&0&0&0\\nXXXXXXX0&1|0|1|0&0|0&0&1&0&0|0&1&1&1|1|0&1|0|1&0|0\\nXXXXXXXXXXX0|1&0&0|1&1|0&1|1&0|1|0|0|0&0&1|0&1&0&0\\nXXXXXXXXXXXXXXXXXXXXXXXXX1|1&0|1|1&0|0|1&0|1|0&0&0\\nXXXXXXXXXXXXX0|0&0|0&0&0&0&0&1&0|0|0&1|1|0&0&0&1&1\\nXXXXXXXXXXXXXXXXX1|1&1|0|0|0&1|0&0|1&1&0&0&0|0|1|1\\nXXXXXXXXXXXXXXXXXXXXXXXXXXXXXXXXXXXXX0&0|1&1&0&1&0\\nXXXXXXXXXXXXXXXXXXXXXXXXXXXXXXXXXXXXXXXXX1|1|1&1&1\\nXXXXXXXXXXXXXXX1&0|1&0&1&0&0&0|0&0&0|0|1|1|0|1&1&0\\nXXXXXXXXXXX0&0|0|0&0&1&0|1&1&0|1&1&0&0|1|1&1|0&0&1\\nXXXXXXXXXXXXXXXXXXX0|1&0|0|0&0&0&0|0&1|1&1&1&1|1|1\\nXXXXXXXXXXXXXXXXXXXXXXXXXXXXXXXXXXXXXXXXXXXXXXXXX0\\nXXXXXXXXXXXXXXXXXXXXXXXXXXXXXXXXXXXXXXXXXXXXX1|1&1\\nXXXXXXXXXXXXXXXXXXXXXXXXXXXXXXXXXXXXXXXXXXXXXXXXX0\\nXXXXXXXXXXXXXXXXXXXXXXXXX0&0|1|1&1|1&1&1&0&1&0&1|1\\nXXXXXXXXXXXXXXXXXXXXXXXXXXXXX1&1|1|0&1|1|1&0&0|1&1\\nXXXXXXXXXXXXXXXXXXX1&1|0&0&0|0&1&1|0&1&1&1&0|0|0|1\\nXXXXXXXXXXXXXXXXX0&0&1&1&0&1&1|1|1|1|0&0|0&0|0&0&0\\nXXXXXXXXXXXXX1|0|0|1|1&1|0&0|0|1|0&0&1|0|1|0&1&0|0\\nXXXXXXXXXXXXXXXXXXXXXXXXXXXXX1&1|1|1&1|0|1|1|0|1&0\\nXXXXXXXXXXXXX1&1|1|1|0&0&1&1&1&0|1|1&0|1|0|0&1&0|0\\nXXXXXXXXXXX0|1&0&1&0&1|1|1&1&0&1&0&0|0|1|1&0&1&0&1\\nXXXXX0|0&0|1|0|0&0|1&1&1|0|1&1|0&0&0|0|1|1|0|0&0|1\\nXXXXXXXXXXXXXXXXXXXXXXX1&0|1|1|1|0|1&0|1|1&0&0|0|1\\nXXXXXXXXXXXXXXX0|0|0&1&0|0|0|0&1|1|1&1&1&0|0|0|0|1\\nXXXXXXXXXXXXXXXXXXXXXXXXXXXXXXXXXXXXXXX1|0|1|1|1|1\\nXXXXXXXXXXXXXXXXXXXXXXXXXXXXXXXXXXXXXXXXXXXXXXXXX1\\nXXXXXXXXXXXXXXXXXXXXXXXXXXXXXXXXXXXXXXXXXXX1|0&0|1\\nXXXXXXXXXXXXXXXXXXXXXXXXXXXXXXXXXXXXXXXXXXX1|0&0|0\\nXXXXXXXXXXXXXXXXXXXXXXXXXXXXXXXXX1|1&1&0|0|0|0|1|0\\nXXXXXXXXXXXXXXXXXXXXXXXXXXXXXXXXXXXXXXXXXXXXX1|0|0\\nXXXXXXXXXXXXXXXXXXXXXXXXXXXXXXXXXXXXXXXXXXX0&0&1|0\\nXXXXXXXXXXXXXXXXXXXXXXXXXXXXXXX1|0|0|0&0&1&1&0|0&0\\nXXXXXXXXXXXXXXXXXXXXXXXXXXXXXXXXXXXXXXXXXXXXXXXXX1\\nXXX1|1&1&0|1&1|0&0&0|1&1|0&1&1|1&0|1&0|1&0&1&1|0|1\\nXXXXXXXXXXXXXXXXXXXXXXXXXXXXXXXXXXXXXXX0|0&1&0&1|0\\nXXXXXXXXXXXXXXXXXXXXX0&1|1|0|0&1|0&0&1&0&1|1|1&1&0\\nXXXXXXXXXXXXXXXXXXXXXXXXXXXXXXXXX1&0&0|1&1|0&1&0&1\\nXXXXXXXXXXXXXXXXXXXXXXXXXXXXXXXXXXXXX0&0|1&1&1&1&1\\nXXXXXXXXXXXXXXXXXXXXXXXXXXXXXXX0&0&0&1|0|0|0|0&0&1\\nX0|0|1|1&1&0|1|0&0|1&0&0&0|1|0&0&0|1&0|1|1|1&1&0|0\\nX0&0|1|0|0&0|0&0&0|1|1|0|0|0|1&1|1&1&1&0&1|0&0|1|1\\nXXXXXXXXXXXXXXXXX1|1&0|0|1&0|0|1|0&0&1|1|0&0|1&0|0\\nXXXXXXXXXXXXXXXXXXXXXXXXXXXXX0&1&1&1&1&0|0|0&0|0&0\\nXXXXXXXXXXXXXXXXXXXXXXXXXXXXXXXXX1&0&1|1|0&1|1&0&0\\nXXXXXXXXXXXXXXXXXXXXXXXXXXX1|1&0&0&0|0|1|0|0&1&1&1\\nXXXXXXXXXXXXXXXXXXXXXXXXXXXXX0|0&0|1&0|1|0&0&0&0|1\\nXXXXXXXXXXXXXXXXXXXXXXXXXXXXXXXXXXXXXXXXXXXXXXX0|0\\nXXXXXXXXXXX0&0&0&0&0|1&0&0&0&0&0&1|1|1|1|1&0&1|1&0\\nXXXXXXXXXXXXXXXXXXXXXXXXXXXXXXXXXXXXXXXXXXX0|0&0&1\\nX1&1&0|1|1&1|1|1|0|1&0|0|0&1|0&0&1&0&1&1&0|0|0|0|1\\nXXXXXXXXXXXXXXXXXXXXXXXXXXX1|0&0&0|0&0|1|1|1|1|0|0\\nXXXXXXXXXXXXXXXXXXXXXXXXXXXXXXXXXXXXX0|1&0&0|1&1&0\\nXXXXXXXXXXXXXXXXXXXXXXXXXXXXXXXXXXX1&1|0&0|1&1&0&0\\nXXXXXXXXXXXXXXXXXXXXXXXXXXX1&1&1|0|1&0&0&0|1|1|1|1\\nXXX1&0|1|0&1|0&0|0&0|0&0&0&0|0&0&0|0|0|0|1&1&0|0|0\\nXXXXX0&0&1&1&0&0|1|0|0&0&0|1|0&1&1&1&1&1&0|0|1&0&0\\nXXXXXXXXXXXXXXXXXXXXXXXXX1&0|0|1&1|1&1|0&0&1|0&0|1\\nXXXXXXXXXXXXXXXXXXXXXXXXXXXXXXXXXXXXXXXXX0|0|1&0|1\\nXXXXXXXXXXXXXXXXXXXXXXXXXXX0|1&1|0&1|0&1&0&1&1|0&0\\nXXXXXXXXXXXXXXXXXXX1&0|0&1&0|0|0&1&1&1|1|1|0&0|0&1\\nXXXXXXXXXXXXXXXXXXXXXXXXXXXXXXXXXXXXXXXXXXXXXXX0&1\\nXXX0|0&0|0&0|0|1|1|0|1|0|0|1&0|0&1|1|1|1&0|0&1|1&0\\nXXXXXXXXXXXXXXXXXXXXXXXXXXXXXXX1|0&1|1|1&1|0&0|1&0\\nXXXXXXXXXXX0|1|0&0&0&0|1&0|1|1|1&1&0&1&0|0&0|1&1|0\\nXXXXXXXXX0|0&1&0|1|1|1&0&1|1|0&1&1&1|0|0&0|0&0|0&0\\nXXXXXXXXXXXXXXXXXXXXXXXXXXXXXXXXX0&1|1&0|0|1|1|0&1\\nXXXXXXXXXXXXXXXXXXXXX1&0&1|0|0&1|1|0|1|1&1&1|0&1|0\\nXXXXXXXXXXXXXXXXX1|0|0&1&1&0&0|0&1|1|1|1|1|1|0&0&0\\nXXX0|1&1&1|1|1&1|1|0&0&1|0&0|0|1|1|0|1|1&0&1&0&1|1\\nXXXXXXXXX0|1&0|0|0&1&1|0&0|0&0&1&1|1&0|0|1&0|1&1&1\\nXXXXXXXXXXXXXXXXXXXXXXXXX1|0|1|1&0&0|1|0|0|0&0|0|0\\nXXXXXXXXXXXXXXXXXXXXX1&0&1&0|0|0&1|0|1&1&1&0|0&0|0\\nXXXXXXXXXXXXXXXXXXXXXXXXXXXXXXXXX1&1&1|0&0|1|0|0&0\\nXXXXXXX1|0|0&1&0&1|1&1&1&0&1|0&1|0|0|0&0|0&0&0|1&0\\nXXXXXXXXXXXXXXXXXXXXXXXXXXXXXXXXXXXXXXXXX0|0|1|1&0\\nXXXXXXXXX1&0&0&1&0&1|1&1&0&0|0|0|0|1&1|1|0|0&1|1|1\\nXXXXXXXXXXXXXXXXXXXXXXXXXXXXXXXXXXXXXXXXXXXXXXX0&0\\nXXXXXXXXXXXXXXXXXXXXXXXXXXX1&1&1|1|1&1&1|1&0|1|0&1\\nXXXXXXXXXXXXXXXXXXXXXXXXXXXXXXXXXXXXXXXXX1|0&1|1&0\\nXXXXXXXXXXXXXXX0&0|0&0&1&1|0|1|0&0&0|0&0&0|1&0&0|0\\nXXXXXXXXXXXXXXXXXXXXXXXXX0&1|0&1|0|1|1|1|1&1&0|1&1\\nXXXXXXXXXXXXXXXXXXXXXXXXXXXXX0&1|0&0|0|0|1|1&1&1|1\\nXXXXXXXXXXXXXXXXXXXXXXXXXXXXXXXXXXXXXXXXXXX1&0&1|0\\nXXXXXXXXX0|1&1|0|1|0&1&0|0|0|1&1&0&1|0|1&0|0&1&0|1\\nXXXXXXXXXXXXXXX1|0|0&1|1|0&0|1&1&0&0&1&0|1&0&1|1|0\\nXXXXXXXXXXXXXXXXXXXXXXXXXXXXXXXXX1&1&1|0&0&0&0&0|0\\nXXXXXXXXXXXXXXXXXXX0|0|0&1&1|0|1&0|1&1|0&1|0&1&1|0\\nX0|0|0&0|0&0|1|0&1|0&0&1&0|1|1|0&0&1|0|1&1|1&0&0|1\\nXXXXXXXXXXXXXXX0|1&1|1|0&0|0&1|0|0|0|0&1|1|1|1|1|0\\nXXXXXXXXXXXXXXXXXXXXXXXXXXXXXXXXXXXXXXXXXXXXXXXXX1\\nXXXXXXXXXXXXXXXXXXXXXXXXXXXXXXXXXXXXX1|1|0&0|0&1|0\\nXXXXXXXXXXXXXXXXXXXXXXXXXXXXXXXXXXX1|0|0|1&0|0|0&1\\nXXXXXXXXXXX0&1|1|0&1&1|0|1&1&1|1|1&0&0&1|1&0|0|0|1\\nXXXXX0|0&1&0&0|0&0|1|0|1|0|0|1|1&1|1|0&0&0|1&0|1|0\\nXXXXXXXXXXXXXXX0|0|0|1&1&1|1&1|0&1|0|1&0&0&1|0|1|0\\nXXXXXXXXXXXXXXXXXXXXXXXXXXXXXXXXXXXXX0|0|0|1&0&1|0\\nXXXXXXXXXXXXXXXXXXXXXXXXXXXXXXXXXXXXXXXXXXXXX1&1|1\\nXXXXXXXXXXXXXXXXXXXXXXXXXXXXXXXXXXXXXXXXXXXXXXXXX0\\nXXXXXXXXXXXXX1&1&0|1&0|1|0&0|0&0|0|0&1&1&0&1&0&0&0\\nXXXXXXXXXXXXX1|0&0&1|0&0&1&0|0&1&0|1&0|0|1|0&0&0|0\\nXXXXXXXXXXXXXXXXXXXXXXX1|1|1&0&0|1&1|1&0|1&1&1|1&1\\nXXXXXXXXXXXXXXXXXXX0&0&1|1&1&0&1&0|1|0&1&0|1&1|1&0\\nXXXXXXXXXXXXX1|0&1|1&0&0&0&0&0|0|1&0|1&1|1&1&0|0|1\\nXXXXXXXXXXXXXXXXXXXXXXXXXXXXXXXXX1|0|0|0|0&1|1&0|1\\nXXXXXXXXXXXXXXXXXXXXX0&0|1|1&0&0|0&1|1&0&0|0&1|0|1\\nX0|0&0&1&0&1|1|1|0|0&1|1|0&0|1&1|1|0&0|1|1|0&1|0&0\\nX0|1&0|0|0|0|1|1&0|1&0|0&1|0|0|0|1&0&0|1&1&0&0&1&0\\nXXXXXXXXXXXXXXXXXXXXXXXXX0&1&0&0|1|0|0|1&1&1&1&0|0\\nXXXXXXX0|0&0&1&0&0|1&0&0|1&1|0&0&0|1&0|1|1&0&1&1&0\\nXXXXXXXXXXXXXXXXXXXXXXXXXXXXXXXXXXXXX0|0|1&0|0|1|0\\nXXX0|1&1&1&0|1&0|0&1|0&1|1|1|1&0&0|1|1&0|1|1|0&1&1\\nXXX0&0|1&1|1|0|0|1&1|1&1|0|1&1|1|1|1&0|1&1|0&0|0&0\\nXXXXX1|1|0|1&1&0|1|1|0&1|0&1|0&0&1&0|1&1|1&0&1&1&1\\nX0&1|0&0|1|1&0&1|1|0&0|0&1&0&1|0&0|1&1|1|1&1|1&1|1\\nXXXXXXXXXXXXXXXXXXXXXXXXXXXXXXXXXXXXX1&1|0|1&1|1|1\\nXXXXXXXXXXXXXXXXXXXXXXXXXXXXXXXXXXX0&0|1&1|1&0&1|1\\nXXXXXXXXXXXXXXXXXXXXXXXXXXXXXXXXXXXXXXXXX1|0&0|1&1\\nXXXXXXXXXXXXXXXXXXXXX1|1&1&0&1|1|0|1&0&1&1|0&0|1&0\\nXXXXXXXXXXXXXXXXXXXXXXXXXXXXXXXXXXXXX1&1&0&1&1|1|0\\nXXXXXXXXXXXXXXXXXXXXXXXXXXXXXXXXXXXXX0&1|1|0|0&0&0\\nXXXXXXXXXXXXXXXXXXXXXXXXX0|1&1&1|0&1|1&1|0|1&0|0&0\\nXXXXXXXXXXXXXXXXXXXXXXXXXXXXXXXXXXXXXXXXXXXXX1|1|0\\nXXXXX1&0&1|0&1&0|1|1&0|0|1&1|0&1|1&1|0&0&0|1|0|0&1\\nXXXXXXXXXXXXXXXXXXXXXXXXXXXXXXXXXXXXXXXXX1&1&0&0&0\\nXXXXX0|0&1&0&1|0&0&0&0|0&0&1&0|1|0|1&0|0|1&1&0&1|1\\nXXXXXXXXXXXXXXXXXXXXXXXXXXXXXXXXXXXXXXXXXXXXXXX1|0\\nXXXXXXXXXXXXXXXXXXXXXXXXXXXXXXXXXXXXXXXXXXXXXXX0|0\\nX1&0|0&0&0&1&1&1&1&0|0&0|1|0|1|1&0|0&0|1&0|0|1|1&0\\nXXXXXXXXXXXXXXXXXXXXXXXXXXXXXXXXXXXXXXXXXXXXXXX1|1\\nXXXXXXXXXXXXXXXXXXXXXXXXXXXXXXXXXXXXXXXXXXXXXXXXX1\\nX0|1&0&0|1|1|1|1&0&1|1|0|0|0&0|1|1&1&0&1|0&0|1&1|0\\nXXXXXXXXXXXXXXXXXXXXXXXXXXXXXXXXXXX1|0&1|1|1|0&1&1\\nXXXXXXXXXXX0|1|1&0&1|1&1&0&0&1&1&1|1&1|1&0&1&1|1&1\\nXXXXXXXXXXXXXXXXXXXXXXXXXXXXX0&1&1|0|0|0|0&1|1&1|0\\nXXXXXXX1&0|1&0&1&0|0|0&1|0|1|0|0|1|0&1&0|0|0&1|1|0\\nXXXXXXXXXXXXXXXXXXXXX1&0|0&0&0&1|0|0|0&0&1&0|0|0&0\\nXXXXXXXXXXXXXXXXXXXXXXX1&1|1&1|0&0&0|0&0&0&0|0|0&0\\nXXXXXXXXXXXXXXXXXXXXXXXXXXXXXXXXXXX0&1&0|0|0|1&1|0\\nXXXXXXXXXXXXXXXXXXXXXXXXXXXXXXXXXXXXXXX0|0&0|1|1&0\\nX1&1&1&1&0&1&1|0&1&1&1|0|0&0|1&0&1|1|0|1&1|1|0&1|1\\nXXXXXXXXXXXXXXXXXXXXXXXXXXXXXXXXXXXXXXXXX0|0|1&0&0\\nX1|0&0|0&0&0&0|0|0|1|1&0&0&0&1&1|0&0&1|0|0|1&0&0|0\\nXXXXXXXXXXXXXXXXXXXXXXXXXXXXXXXXXXXXXXXXX0&0|0|1|0\\nXXXXXXXXXXXXXXXXXXXXXXX0|1&0&1|1|1&0|1&0|1|0&1|1&0\\nX1&0|1|0|0&0|0|0|0|1|1|1|0|1|0|0|1&0&1&0&1&0|0&0&0\\nXXXXX0|0&1&0|0&0|0|0&1&1|0&1|0&1&1&0&1|0|1&0&0|1|1\\nXXXXXXXXXXXXXXXXXXXXX1|1&0&0|0|1&1&1&0&0|0&1&1&0|1\\nXXXXXXXXXXXXX1|1&0|0&0&1|0&1|1&0|0&0&1|0|0|0|1|0&1\\nXXXXXXXXXXXXXXXXXXXXXXXXXXXXXXXXXXXXX0|0&0&0|0&0|1\\nX0|1|1|0|0|1&1&0&1&0|1|1&1|0|0&0|0&1&1|0&0&0&0|0|0\\nXXXXXXXXXXXXXXXXXXXXXXX1&0|1&1|0|1&0&0&0|0|0&0|1|0\\nX1|0|1|0|1&0|0|1&1|0|1&1&0&1|1|1|0&1&0&1|0|0|1|0&1\\nXXXXXXXXXXXXXXXXXXXXXXXXXXXXXXXXXXXXXXXXX0&0|0|0|1\\nXXXXXXXXXXXXXXXXXXXXX1&1|0|1|1&1&0|0&1|0&0&1&0|0|1\\nXXXXXXXXXXX1|0&1&0|1&1&0|0&0|0|0&0|1|0|0|0|0|1|0&1\\nXXXXX0|0|1&0&0|1|1|1|0|1&1&0|0&1&0|1&0&0&0|0|0&0&0\\nXXXXXXXXXXXXXXXXXXXXX1&1|1|0|0|0|1&1&0|1|0|0&1&1&0\\nXXXXXXXXXXXXXXXXXXXXXXXXXXX1|0&0|1|0&1|0&0&0&0|0|0\\nXXXXXXXXXXXXXXXXXXXXXXXXXXXXXXXXXXXXXXXXX1&0&1|0&0\\nXXXXXXXXXXXXXXX1&1&0|0|1&1|1&1&1|0|1&0&0|0&1&0|0|0\\nXXXXXXXXXXXXXXX0&0&0&0|0&0|0&1&1&1|0&0&0&1|1&0|1|0\\nXXX0&0|1|0|0&1&0&0&0&0|1|1&1&1|0|1&1|1&0&0|0&0|1|1\\nXXXXXXXXXXXXXXXXXXXXXXXXXXXXXXXXXXXXXXXXXXXXXXX0&0\\nXXXXXXXXXXXXXXXXXXXXXXXXXXXXXXXXXXX0|0|1|0|0|1&0&0\\nXXXXXXX1&1&1|1&1|1&0|0|1|1&0|0&1|0|0|0&0|1|0&0|1|1\\nXXXXXXXXXXXXXXXXXXX1|0&1&0|0&1|1&0&0|1|1|1|1&1&1|0\\nXXXXXXXXXXXXXXXXXXXXXXXXXXXXXXXXXXXXXXXXX1&0&0|1&0\\nXXXXXXXXXXXXXXX1&1|0|1&1|0&1|1&0|1|1&0|0&1|1|0|0&1\\nXXXXXXXXXXXXXXXXXXXXXXXXXXXXXXXXXXXXX1|1|1|1&1&0|0\\nXXXXXXXXXXXXXXXXXXXXXXXXXXXXX1&0|1|1|0|0&1|0&0|0|1\\nXXXXXXXXXXXXXXXXXXXXXXXXXXXXXXXXXXXXX1&0|1&1|1&0|0\\nXXXXXXXXXXXXXXXXXXXXXXXXXXXXXXXXXXXXXXX1&0|1&0&1|1\\nXXXXXXXXXXXXX0&1&0|0|1&0|0|1|1&0|1&0&1|1|1|1|1|1|0\\nXXXXXXXXXXXXXXXXXXXXXXXXXXXXXXXXXXX1&1|0&0&0&1&1|0\\nXXXXXXXXXXXXXXXXXXXXX1&1&0&1|0&1|1&0|1&1|1|0|1|0&1\\nXXXXXXXXXXXXXXXXXXXXXXXXXXXXXXXXXXXXXXX1|1&0&0&0&0\\nXXXXXXXXXXXXXXXXX1|0|0|1&0|1&1&1&0&0|1|1&1&0&1&0&1\\nXXXXXXX1|1&1|1|0&1|1&1&1|0&0&1|1&1&1|1&0&1&1&0|1&0\\nXXXXXXXXXXXXXXXXXXXXXXXXX0&0&1&1&1&1&1|0&1|1|1&1|1\\nXXXXXXXXXXXXXXXXXXXXXXXXXXX1&1|1|1|1&0&1&0&1&0|1|1\\nXXXXXXXXXXXXXXXXXXXXXXXXXXXXXXXXXXXXXXXXX0&1&0&1|1\\nXXXXXXXXXXXXXXXXXXXXXXXXXXXXXXXXXXXXXXX1&0|1&1|1&1\\nXXXXXXXXXXXXXXXXXXXXXXXXXXXXXXXXXXXXXXXXXXXXX1|0&0\\nXXXXXXXXXXXXXXXXXXXXXXXXX1|0&1&0|1|0&1&1&1|1|0|0|1\\nXXXXXXXXXXXXXXXXXXX1&0|0|0&0|1&1&1|1|1|0|1|1|1|1|1\\nXXXXXXXXXXXXXXXXXXXXX0&1&1&1&0&1|0&1|0|0&0&1&0|1|1\\nXXXXXXXXXXX1&0&0|1|0|1|0|1|1|1|0&1|0|0&0&1|1|0|1|1\\nX0&1&1|0|0&1&1&1|1&1&1&1&1&0|0|0|0&1|0&0&1&0|1&0&0\\nX0|1&1&0&1&0&0&0&0|1&1|0&1&0&1&1&0|0|0|1|1&1|1&1|0\\nXXXXXXXXXXXXXXXXXXXXXXX0|1|0|1&0&1|0&0|0&0|1&1&1&0\\nXXXXXXXXXXX0|1|1|0|0|1&1|0&0&0&1&1&1|0&0|0|1&1&0&0\\nXXXXXXXXXXXXXXXXX1&1|0&1|0&0&1|0|0|0|1|1|1|0&1|1|1\\nXXXXXXXXXXXXXXXXXXXXX1&0&1&0|0&0|1|0&1|0&0|1|1|1&0\\nXXXXXXXXXXXXXXXXXXXXXXXXXXXXX0&1|1|0|0&0&1&0|0&1&1\\nXXXXXXXXXXXXXXXXXXXXXXXXXXXXX1&1&1&1|0&1&0|0|0&1|0\\nX0&1|1|1|0|0|1&0|0&1|1|0|0&1&1|0&0|0|0&0&1&0&1|1|0\\nX1|0|0|0&0|0|1&1|1&1&0|1&0|0|0|1|1&1|0&1|1|1&0|0|0\\nXXXXXXXXXXXXXXXXXXXXXXXXXXXXXXXXXXXXXXXXXXXXXXX1&1\\nXXXXXXXXXXXXXXXXXXXXX1|0|0&1|0|0|0&1|1&1&1&0|1&0&0\\nXXXXXXXXXXXXXXXXXXXXXXXXXXXXXXXXXXXXXXX0|0|0&1|1|1\\nXXXXXXXXXXX0|1|0|0|1|0&1|0|0|1&0|0&1|1&0&0&1|1&1&1\\nXXXXXXXXXXXXX1|1&1|0&0&0|1&0&0|0|0|0|1|1|0&1&1|1|0\\nXXXXXXXXXXXXX1&1|1&1|0|1|0|1&1|0|1|1&0|1|0|1&1&1|0\\nXXXXXXXXXXXXXXXXXXXXXXXXXXXXXXX1&0&0|0|0&1|1|0|1&1\\nXXXXXXXXXXXXXXXXXXXXXXXXXXXXXXX0&1|1|0&1&1|1|0|1|0\\nXXXXXXXXXXXXXXXXXXXXXXXXXXXXXXXXX0|0&1|0|1&0|0|1|1\\nXXX1&0|1&1&0|0|1&0&0&0&0&0|1&1|1&0|1&0&0&1&1&1&0&0\\nXXXXXXXXXXXXXXXXXXXXXXXXXXXXXXXXXXXXX1&0&1|0|1|1&1\\nXXXXXXXXXXXXXXXXXXXXX0|1&1|1|0|1|1&1&1|0&1|1|1|0&0\\nXXXXXXXXXXXXXXXXXXXXXXXXX1&1|0|1|0&1|0|0&1|1|0|0&1\\nXXXXXXXXXXXXXXXXXXX1&1|1&1&1&0&0&1&1&1&1|0&0&0|0&0\\nXXXXXXXXXXXXXXXXXXXXXXXXXXXXXXXXXXXXX0&1&0&0&0|1|0\\nXXXXXXXXXXXXXXXXXXXXXXXXXXXXXXXXXXX0|0&1&0|0&0&1&0\\nXXXXXXXXXXXXXXX0|0&1|1&1|1&0&1|0|1|0&1&0|1|0|0&1&0\\nXXXXXXXXXXXXXXX0|0&0|1&0&0&1&0|0|1|1&0&1|0&0&0|0&0\\nXXXXXXXXXXXXXXXXXXXXXXXXXXXXXXX0|1&0|0&1|1&0&1&1|1\\nXXXXXXXXXXXXXXXXXXX0|0|1&0|0&1|1&1|1|0&1|0|0&1&0|0\\nXXXXXXXXXXXXXXXXXXX0|0|1&1|0|0&1|0|0&1|0&1&0|0&1|0\\nXXXXXXXXXXXXXXXXXXXXXXXXXXXXXXXXXXXXX0&1|0&1&1&0|0\\nXXXXXXXXXXXXXXXXXXXXXXXXXXXXXXXXXXXXXXXXXXX1&1|1&0\\nXXXXXXXXXXXXXXXXXXXXXXXXXXXXXXXXX0&1&1|1|1|1|0&1&1\\nXXXXXXXXXXXXXXXXXXXXXXXXXXXXXXXXX1|1&1&1|1|0&0&0&1\\nXXX0&0&1|1&0|0|1&1&1|1|1|0&1|0&1|0&1|1&1|0&1|1&1|1\\nXXXXXXXXXXXXXXXXXXXXXXXXX1&1|1&1|0&1|0|0&1|1|1|1|1\\nXXX0|1|0|1&0|1&1|1|0|0&1|0|0|0|0|0&1|0&0|0&0|0|1&1\\nXXXXXXXXXXX1&0&1&0|1&0|1&0|1|0|1|0|1&1&1&1|0&0|0&0\\nXXXXXXXXXXXXXXX1|1|1&0&0&1&1|0&0|1|0|1&1|1|0|0&0|1\\nXXXXXXXXXXXXXXXXXXXXXXX1&1&0|0&0&0|0|0|0&1|0|1&1&0\\nXXXXXXXXXXXXXXXXXXXXXXXXXXX0|0|1|1&1&1|1|0&1|1&0|0\\nXXXXX0&1|1&1|1|0&0|1|0&1|1|0|1|0|0|1&1&0&1&1|1&1|1\\nXXXXXXXXXXXXXXXXXXXXXXXXXXXXXXXXX0|0&0|1|1&0|1|0|0\\nXXXXXXXXXXXXXXXXX1|1&1|0|0|0&0&1|1|1|1|1&1|1&1|0|0\\nXXXXXXXXXXX0|1&1&0|1&1|1&0&1|0|0&0|0&0&1|1&1&0|1&1\\nXXX0&0&1&1&1&0&1|1&1&1&0&1|1&1|1&1|1|1|0&1|1|0&1&1\\nXXXXXXXXXXXXXXXXXXXXXXXXXXX0|0&0&1|1&1&1|1&1&1&0|0\\nXXXXXXXXX0|0&0|1|0|0&0&0&0&0&0|0&1&1|0|1&1&1&1&1&1\\nX0|0&0&1&0|1&1|1&0|0|0|0|1|0|1|0|1|0&1&0&0|0|0|1|1\\nXXXXXXXXX1|1&1|0|1&1&1|1|0&0&1&0&1&0&0&0&0&1|1&0&1\\nXXXXXXXXXXXXXXXXXXXXXXXXXXX0|1&0|0|1&0|1&1&1&1|1|1\\nXXXXXXXXXXXXXXXXXXXXXXXXXXXXXXXXXXXXXXXXXXXXX1&0&1\\nX1|1&0|0|0&1&1|0&0|1&0&1&1|1&0|0|1&1&0|1&0|0&1&1&1\\nXXXXXXXXXXXXXXXXXXXXXXXXXXXXXXXXXXXXXXXXXXXXX1&0&0\\nXXXXXXXXXXXXXXXXXXXXXXXXXXXXXXXXXXXXXXXXXXX0|1|0|1\\nXXXXXXXXXXXXX1&1|1|1&1&1&1&1&0|0|0|1&0&1&0&1&0|0&1\\nXXXXXXXXXXXXXXXXX0|0&0|1&0|0|0|0|0&1|1|1|1|1&0|1&0\\nXXXXXXXXX1|0&0&1|0|1&1|1&1|0|0&1|0|0|0&0|0&1&0|1|1\\nXXXXXXXXXXX1|1&1|0&1&1|1&1|0&1&1&0|0|0&1&0&0|1&0|1\\nXXXXXXXXXXXXXXXXXXX0|1|1&1|1&0|1&1&0&0|1&0|0|1|0&0\\nXXXXXXXXXXXXXXXXXXXXXXXXXXXXXXXXXXXXXXXXX1&1&0&0&1\\nXXXXXXXXXXXXXXX1&0&0&0&1|1|1&1|0|1|1|1|1&1&0&0&1&1\\nXXXXXXXXXXXXXXXXXXXXX1&1|0|1|1|0|0|1&1|1|1|1&1|1&1\\nXXXXXXXXXXXXXXXXXXXXXXXXXXXXXXXXXXXXXXXXXXX1|0|1|0\\nXXXXXXXXXXXXXXXXX0&1&0&1&0&0|1|1|0&1&0|0|1&0|0|0&0\\nXXXXXXXXXXXXXXXXXXXXXXXXXXXXXXXXXXXXXXXXX1&0&0|0&1\\nXXXXXXXXXXXXXXX1&1|1|1|1|1|0&0&0&0|0&0&0|1&1|0|0&0\\nXXX1&1&0&0&0&1&1&1|1&1|0|1&1&0|1&0|1&0|0|0&1|0&1&0\\nXXXXXXXXXXXXXXXXXXXXXXXXXXXXX1&0|0&0&0|1|0|1|0|0&0\\nXXXXXXXXXXXXXXXXXXXXX1|0&0|1&0|0|0|0|0&0|0&1&0&1&1\\nXXX0|1&1&0&1|0|0&1|0&1|1&0&1&1|0&1&1&0|1|0&0&1&1|1\\nXXXXXXXXXXXXXXXXXXXXXXXXXXXXXXXXXXXXXXX0&1&1&1&0|1\\nXXXXXXXXXXXXXXXXXXXXXXXXXXX0|0&0|1&0&0&0|1|0|1&1|1\\nXXXXXXXXX1&1&0|0&1&0&1|0|1|0&1&0&1&1|0&0&1&1&0&0|1\\nXXXXXXXXXXXXXXXXXXXXXXXXXXX0&0|0|1&1|0&1|1&0|1|0&0\\nXXXXXXXXXXXXXXXXXXX1&0&0&0&1&0|1&1&1&1|0&0&1&0&1&1\\nXXXXXXXXX0&0&0|0&1&0&0&1|1&1|0|1&0&0&0|1&0&0&1|0&1\\nXXXXXXXXXXXXXXXXXXXXXXX1&1&0&0&0|0|0&1|0&0&0&1|1&1\\nXXXXXXXXXXXXXXXXXXXXXXXXXXXXXXXXX0&1&0|0&1|0|1&0|1\\nXXXXXXXXXXXXXXXXXXXXXXXXXXXXXXXXXXXXXXX0|1|0&0&0&1\\nXXXXXXXXXXXXXXX0|0|0|1|1|0&1&0|0&1&1|0&0|0&1|1&1&0\\nXXXXXXXXXXXXXXXXX1|0&0|1&1&1|1&0&0&1&1&1&1|0|1&1&1\\nXXXXXXXXXXXXXXXXXXXXXXXXXXXXXXXXXXXXXXX0&0&1&0&1|1\\nXXXXXXXXXXX0&1|0|1&1&0&1&0&0&1|1&1|0&1|0&1|0|0|1|1\\nXXXXXXXXXXXXXXXXXXXXXXXXXXXXXXXXXXXXX0|0&0&1&0&1&0\\nXXXXXXXXXXXXXXXXXXXXXXXXXXXXXXXXXXXXXXXXXXXXXXX1|0\\nX0|1&0|0&0&1&1|0&1&1&0|0&0|1&1|1&0&1|0&1&0|1&0|0&1\\nXXXXXXXXXXXXXXXXXXXXXXXXXXXXXXXXXXXXXXXXXXXXXXX0&0\\nXXXXXXXXXXXXXXXXXXXXXXXXXXXXXXXXXXXXX1&0&1&1&0|1|1\\nXXXXXXXXXXXXXXXXXXXXXXXXXXXXXXXXXXXXXXXXXXXXX0|0|0\\nXXXXXXXXXXXXXXXXXXXXXXXXXXXXXXXXXXXXXXXXXXXXXXX0&0\\nXXXXXXXXXXXXXXXXXXXXXXXXXXX0|1|1|1|1|1|1|1|1&0&1|0\\nXXXXXXXXXXXXXXXXXXXXXXXXXXXXX0|1&1&1&1&0&1|1&1&1|1\\nX1|1|1&1&1|1&1|1|1&1|1|1&1&0&1|0&0&0|0&0&1&1|1&0|0\\nXXXXXXXXXXXXXXXXXXXXXXXXXXXXXXXXX0&0|0|0&0&1&0|1&0\\nXXXXXXXXXXXXXXXXXXXXXXXXXXXXXXXXXXX0&1|0&1|1|1|0|0\\nXXXXXXXXXXXXXXXXXXXXXXXXXXXXXXXXXXX1&1&1|1|1&0&0|0\\nXXXXXXXXXXXXXXXXXXXXXXXXXXX1|0&1&0|0|0&1&1|0&0&0|1\\nXXXXXXXXXXXXXXXXXXXXXXXXXXXXXXXXXXX1|1|0&0|1&0&0|0\\nX1&1|0|0&1|1|1|0|0&1&0&1|1&0&0|1&0&1|0&0|0|1|0|0|1\\nX0&1&0&1&1&1|1&1&0&1&1|1|1|1|1|1&1&1|0|1|0|0|1&1|0\\nXXXXXXXXXXXXXXXXXXXXXXXXXXXXXXXXX1&0|0|1&1&0&1|1&0\\nXXXXXXXXXXXXXXXXXXXXXXXXXXXXXXXXXXXXXXXXXXX1&1&0&1\\nX1&0|0&1&1&1|0|0&1&1&0&1|1|1&0|0|1|0&1|0&0&0&0|1&0\\nXXXXXXXXXXX1&1&1&0&0&1|0&1|1&0&0&0&0&0&0|1|1&0&1|0\\nXXXXXXX0&1&1&0|1&1|1&1|1&1|0&0|1|0&0&1&0|0&0&0|1&0\\nX1&0|0|0&0|0&1|0|0|0&0&0&1&1&1&1&1&1|1|1&1|1|0|0&0\\nXXXXXXXXXXXXX1|1|1|0|0|0&0|1|0|0&1|1|1|1|0&0|1|1|1\\nX1|1&1|1&1|1|0&1|0&1|0&0&0&1&0|1|1&0|1&0&0&0&0|1&0\\nXXXXXXXXXXXXXXXXXXXXXXXXX1|0|1&0|0|0&0&1|1&0|1&1&0\\nXXXXXXXXXXXXXXXXXXXXXXX1&0&1|1&0&1&0&1|0|0&1&0|1&0\\nXXXXXXXXXXXXXXXXXXXXXXXXXXXXXXXXX0|0&0|0|1&0|0|0|1\\nXXXXXXXXXXXXXXXXXXXXXXXXXXX1&0&1|0&0|0|0|0&0|1&0&1\\nXXXXXXXXXXXXXXXXXXXXX0|1|1&0|1|0|0&1|1&1|0&0&0|1|1\\nXXXXXXXXXXXXXXXXXXXXXXXXXXX1&0|1|1|0&1&1|0&1|1&0|1\\nXXXXXXXXXXX1&1&1|0|0|1&1&0&0|1&1|0|0&0|1&0&1|0|0|1\\nXXXXXXXXXXXXXXXXXXXXXXXXXXXXXXX0|0|0&0|1|1&1|0|1&1\\nXXXXXXXXXXXXXXXXXXXXXXXXXXXXX0&0|0|1&0&0|0|0|0|1&0\\nXXX0&1|1&1&0&0&1|0&0&0&1|0&1|0|1&1&1|1&1&0&0|1|1&1\\nXXXXXXXXXXXXXXXXXXXXXXX1&1&1&1&0&0|0&0|1|0|0|1|0|1\\nXXXXXXXXXXXXXXXXXXXXX1|0|1|0|1|1|1|0|0&0|1&1&0&0&1\\nXXXXXXXXXXXXXXXXXXX0|0&0|1|0|0|1|0|1|1&1|0|1&0&0|1\\nXXXXXXXXXXXXXXXXXXXXXXXXXXXXXXXXXXXXXXXXXXXXX1|1|0\\nXXXXXXXXXXXXXXXXXXXXXXXXXXXXXXXXXXXXXXXXXXXXX1&1|1\\nXXXXXXXXXXXXXXXXXXXXXXXXXXXXXXXXXXXXXXXXXXX0&1|0|0\\nXXX0|0&1|0|1&1&1|0|0&0&1|1|0&0|1&0&0|0&0&0&1|0|1&1\\nXXXXX0&1|0|1&0&0|0&0&1&0&0&0&1&1&1|1&1|1&1&1&0&1|0\\nXXXXXXXXXXXXXXXXXXXXXXXXXXXXX0&0&0|1|0|0&0&1|1|0&1\\nXXXXXXXXXXXXXXXXXXXXXXXXXXXXXXXXXXXXXXXXXXX0&0|1&0\\nXXXXXXXXXXXXXXXXXXXXXXXXXXXXXXXXXXXXXXXXXXXXX0|0|1\\nXXXXXXXXXXXXXXXXXXXXXXXXX1|1|0&1&0|0|0|1|1&1|0&1|0\\nXXXXXXX1&0&1&1|0&0&1|0|0|0&0|1|1&1&0|0|0&1|1|0&0&1\\nXXXXXXX1&1&0&1&0&1&1|0&1|1&1&0&0&0|0&1|1|0|1&1|1&1\\nXXXXXXXXXXX1|1|0|1|1&0|0|0|0|1|0&1&0&1&1&1&1|1&0|0\\nXXXXXXXXXXXXXXXXXXXXXXXXXXXXXXXXXXXXXXX1|1|1|1|1&0\\nXXXXXXXXXXXXXXXXXXXXXXX0|1|0&0|0|0&0|1|1|1|0&0|1|0\\nXXXXXXXXXXXXXXXXXXXXXXXXXXXXXXXXXXX1&1|0|1|1&0|0&1\\nX0&1|1|0&0&0&0&1|1&1|1|1|1|1|1|0|0&0|0|1|1|1&1&1&0\\nXXXXXXXXXXXXXXXXXXXXXXXXXXX1|1&0|0&0&1&1&1&1&0|0&1\\nX1&1&1|1|1&0&1&0&0|1&0|0&1&1&1&0&1|1&0&1|1|0|1&1|1\\nXXXXXXXXXXXXXXX0|1&0|1|1&0&0&1&0&1&0&0&1&1|1&1&1&1\\nXXXXXXXXXXXXXXXXXXXXXXXXXXXXXXXXXXXXXXXXXXX1|0|0&1\\nXXXXXXXXXXXXX1&1|1|1|1&1&1|1|0&0&1&0&0&1|0|0&0&0|0\\nXXXXXXXXXXXXXXXXXXXXXXXXXXXXX1&1&0|1|0|1&0|0&1&1|0\\nXXXXXXXXX0|1|0&0|1|1&1|0&1|0|1&0|0&1&0|0&1&0|0&0&1\\nXXXXXXXXXXXXXXX1|0|1|1|1|0&1|1|1|0&1&1&0|0&1|1&0&1\\nXXXXXXXXX0&0|1|1|0&1&1&0&1&1&0|1|1&1|0&0&1|1&1|0|0\\nXXXXXXXXXXXXXXXXXXXXXXXXXXXXXXXXXXXXX0&0|0&1|0&1&0\\nXXXXXXXXXXXXXXXXXXXXXXXXXXXXXXXXXXXXXXX0&1|0&1|1&0\\nXXXXXXXXXXXXXXXXXXXXXXXXXXXXXXXXXXXXXXXXX0&1&1&0&0\\nXXXXXXXXXXXXXXXXXXXXXXXXXXXXXXXXXXXXXXXXXXX1|1|1&0\\nXXXXX0&0|1&1&0|0|0|1&1&1|0|0&0&0|0|1|1|1&0|0&1&0&1\\nXXX1&0|0|0&1|1&0&1|0&1&0&1|1&1&0|0|0&0|1|0|1|0&1|1\\nXXXXXXXXXXXXXXXXXXXXXXXXXXXXX0&0|1|0|0|0&1&0|0|1&1\\nXXXXXXXXXXXXXXXXXXXXXXXXXXXXXXX1|1|1|0|0|1&1&0&0&0\\nXXXXXXXXXXXXXXXXX0|1&1|0&0&0|0&1&0|0|0&0&1|0|0&0|1\\nXXXXXXXXX0&1&1&0|1&1&0&1&1&1&1&1|1|1&0&0|0&0|0&1|1\\nXXXXXXXXXXXXXXXXXXXXXXX0&0&1|0&0&0&1&0|0|1|1&1|1|0\\nXXXXXXXXX1|0|1&1|0|1|1|1&1|0&1&0&1|1|1|0&0&0|1&0|0\\nXXXXXXXXXXXXXXXXXXXXXXXXXXXXXXXXXXXXXXXXXXXXX0|1&1\\nXXXXXXXXXXXXXXXXXXXXXXXXXXXXXXXXX0&0&1|0|1&1|1|0&1\\nX1&1|0|1|1&1|1&0|1&0|1|0|1&0|1&1|1&0|1&0|0|1|0|1|0\\nXXXXXXX1|0|0|1&0|0&1&1|1&1|0&0|0|0&1&1|0|1|1&0&0&0\\nXXXXXXXXX1|1&0|1|0&0|1&1|1&1|0|1&1|0&0&0|1|0&1|1|1\\nXXXXXXXXXXXXXXXXXXXXXXXXX0|0|1|0&0&1&1|0|0|1|0|0|0\\nXXXXXXX1&0|0&1&1|1&0&1&1|0|0|0&1|0&0|1|1&0|1|0|0&0\\nXXXXX1|0&0&0&0|0&0&1|0&1&0&1|1|1&1|1|1|1|1&0&1|0&1\\nXXXXXXXXXXX1|1&1&0|0&0&0&1&0&0&0&0&0&1|0&0|1&1&1|0\\nXXXXXXXXXXXXXXXXX1|1|1&0&1|0|1&0&1|1|1&1|0&0|1&0|0\\nXXXXXXXXXXXXXXXXXXX1|0&0&1|0&1&0&0&0|1&1&0|0&0|1&0\\nXXXXXXXXXXXXXXXXXXXXXXX0|0|0|1&1|0&0&1|1&0|0|1&1&0\\nX0|0&1|0&1|1&1&1|0|1|1|1&1|1|0&0|0|1|0&0&1&1&1|0&0\\nXXXXXXXXXXXXXXXXXXX0&0&0&1|1&1|0&1&1|0|0|1|1|0&1|1\\nXXXXXXXXXXXXXXXXXXXXXXXXXXXXXXXXXXX0&1&1&0&1|1|0|1\\nXXXXXXXXXXXXXXXXXXXXXXXXXXXXXXXXXXXXXXXXX1&1|1|1&1\\nXXXXXXXXXXX1&0&0&0&0|1&1&1&0|0|0&0&0|0&1&1|0|0&1|0\\nXXX1&0|0&0|0&0|0|0|0|0&1&0|0&1|1&0&1&0&1|0|1&1|1|1\\nXXXXXXXXXXXXXXXXX1&0&0|0|0&1&0&1|1|1&1|0|0|1&0&0|0\\nXXXXXXXXXXXXXXXXX0|1&0&0&0|0&0&0&1&1|0|1&1&0|0|0|1\\nXXXXXXXXXXXXXXXXXXXXXXXXXXXXXXXXXXXXXXXXX0|1&1&1|1\\nXXXXXXXXXXXXXXXXXXXXXXX1|1|0&1&0&1&0|0|1|1|1|1&0|1\\nXXXXXXXXXXXXXXXXXXXXXXXXXXXXXXX0|1&1&1|0&0|0|1&0&1\\nXXXXXXXXXXXXXXXXXXXXXXXXXXXXXXXXX0|0&1&0|1|1|0|1|1\\nXXXXXXXXXXXXX1|0&1&0&0|1|0&0|0&1|0&1|0&1|0|1|1&0|1\\nXXXXXXXXXXXXXXXXXXXXXXXXXXXXXXXXXXXXXXXXX1|1|1&1&1\\nXXXXXXXXXXXXXXXXXXXXXXXXXXXXXXXXXXXXXXXXXXXXXXX0&0\\nXXXXXXXXXXXXXXXXXXXXXXXXXXXXXXX0&1|0&0&0|0&0|1&1&0\\nXXXXXXXXXXXXXXXXXXXXXXXXXXXXXXXXXXXXXXXXXXXXXXX1|1\\nXXXXXXXXXXXXXXXXXXXXXXXXXXXXXXXXXXXXXXXXXXXXX1&0&1\\nX0|0&0|1|1|1&0&1|1&1&1&1&0|0&1|0&0&0&0&0&1|0&1&1|0\\nXXXXXXXXXXXXXXXXX1&0&1&0|0|1|1|1&0|1|1&0|0&1|1|1|1\\nXXXXX0|0&0|1|1|0|0&1&0&1&1&1&1&1&0|1|0|1|1|1|1|1&1\\nXXXXXXXXXXXXXXXXXXXXXXXXXXXXXXXXXXXXXXXXXXXXXXX0&1\\nXXX0|0&0&0&1&1&0|0&0|0&1|1&1&1&0|1&1|0|1&1|0|1|1|0\\nXXXXXXXXXXXXX1&0|1|1|0|1&0|0&1|0|1|0&0&1&1|0|0&1&1\\nXXXXXXXXXXXXXXXXXXXXXXXXXXXXXXXXXXXXX1&0|1&0|0&1&1\\nXXX1&1|1|0&1&0|1|1|1|1|0|0&1|1|1&0|1&0|1&0&1|1&1|0\\nX1|0&0&0|0|1|0&0&0|0&1&0|1&0&1|0&1|1|1|0&1&1&0&0|1\\nXXXXXXXXXXXXXXXXXXXXXXX0|1&1&0|0|1&1|0|0&0|1|1&0|1\\nXXXXXXXXXXXXXXXXXXXXXXXXXXXXXXXXXXXXX0&1|1|0|1&1&0\\nXXXXXXXXXXXXXXXXXXXXXXXXXXXXXXXXXXXXX0|1&0&0&1&1|1\\nXXXXXXXXXXXXXXXXXXXXXXXXXXXXXXXXXXXXX1&0&1|0|0&0&0\\nXXXXXXXXXXXXXXXXXXXXXXXXXXXXXXXXXXXXXXXXXXXXXXXXX1\\nXXXXXXXXXXXXXXXXXXXXXXXXX0&0&1|0&1&1|1&0&1&1&1&1&0\\nXXXXXXXXXXXXX0&1&1|0|0&0&1&0|1&0|0&1|1&0&0|0&0|1|0\\nX1&1|0&1&1|1&0&0|0|0|0|1|1&1|0|1&1|0|0|1|1&1|1|1&1\\nXXXXXXXXXXXXXXXXXXXXXXXXXXXXXXXXX1&0|0&1|0|1|0|1|0\\nXXXXXXXXXXXXXXXXXXXXXXXXXXXXXXXXXXXXXXX0&1|0|0&1|0\\nXXXXXXXXXXXXXXXXXXXXXXXXX0|1&0|1|0|1&1|0|0&1|0&1|1\\nXXXXXXXXXXXXXXXXXXXXXXXXXXXXXXXXXXXXXXX1&0&0&1|0&0\\nXXXXXXXXXXXXXXXXXXXXXXXXXXXXXXXXXXX1|1&0|0|0|0|0|0\\nX0|0&1|1&0&1&0&0|0&0&1|1|0&0&0|1|0|1&0&1|0&0|1&1|1\\nX0&1&1&0|1&1&0|1|1|1|1|0|1|0&1|1&1&1|1|0&0&0&0|1|1\\nXXXXXXXXXXXXXXXXXXXXXXXXX1&0&1|0|1|0|1|1|0|0&0&1|1\\nXXXXXXXXXXXXXXXXXXXXXXXXX1|1|1|0&0&0&1|0&0|0|1&1&1\\nXXXXXXXXXXXXXXXXXXXXXXXXXXX0|1|0|1|1|1|1&1&0&0&1&1\\nXXXXXXXXX0&1&0&0|1&0&0|1|0|1|0|1|1&1|1|1|0&0&0&1&1\\nXXXXXXXXXXXXXXXXXXXXXXXXXXXXXXX0&1&1&1&1|1|1|0&0|1\\nXXXXXXXXXXXXXXXXXXXXXXXXXXXXXXXXXXX0|1|1&0|0|0|0|0\\nXXXXXXXXXXXXXXXXXXXXXXXXXXXXXXXXXXXXXXX0|0&1&0|1&1\\nXXXXXXXXXXXXXXXXXXXXXXXXXXXXXXX1&1&1|0&0&0|0|1|1&0\\nXXXXXXXXXXXXXXXXXXXXXXXXXXXXXXX1&0&0&0|0|0&1&0|1|0\\nXXXXXXXXXXXXXXXXXXXXX1|0|0&1&0|0|1|0&0&1&1&1&0|1|1\\nXXXXXXX1|1|0&1|0|0|1&0|0&1&0&1|0&0|0|0|1|1&1&0|0|0\\nXXXXXXXXXXXXXXXXXXXXXXXXXXXXX0|1&0|1|1&1|0|1|0&0|1\\nXXXXXXXXXXXXXXXXXXXXXXXXXXXXXXXXXXXXXXXXXXX0&1|0&1\\nXXXXXXXXXXXXX0&1&0&1|1&0|0&0&1|1|1|0&1|0&0&0|0&1&0\\nXXXXXXX1&1&1|1&1&0|0|1|0|0&0&1&1&1|1|0&1|0|0|1&1&0\\nXXXXXXXXXXXXXXXXXXXXXXXXXXXXXXXXXXXXXXXXX0|1|0|0&1\\nXXXXXXXXXXX1&1|0|1|0&0&0&1|0&1&1&1|0&1|1|0&1|0&0|1\\nXXXXXXXXXXXXXXXXXXXXXXXXX0&1&1&0&1&1&0&0&0&0&1|1&0\\nXXXXXXXXXXXXXXXXXXXXXXXXXXXXXXXXXXXXXXXXXXX1|1|1&1\\nXXXXXXXXXXXXXXXXXXX1|0|0|0|0&1&0|1|1&1|0&0|0&1|0&0\\nXXXXXXXXXXXXX1|1&0&0&0&1|0&1&1&1&0|1&0|1&1&0&0&1|0\\nXXXXXXXXXXXXXXXXXXXXX1&1|1&1&1|0|0|1|0|1&0&1&1|1&1\\nXXXXXXXXXXXXXXXXXXXXXXXXXXXXXXXXXXXXXXXXXXXXXXXXX0\\nXXXXXXXXX1|1|1&0|1&0&1|0&1&0&0&1|0|1|0&0&0&1&0&0&0\\nXXXXXXXXXXXXXXXXXXXXXXXXXXXXX1|1&1&1&1|0&0|1&1&0&0\\nXXXXXXXXXXXXXXXXXXXXXXXXXXXXXXXXXXXXXXXXXXXXXXX1|0\\nX0&0&0|1|0|0|0|1|1&0&1|0&0|0|1&1|0|0|1|0|0&1&0|0|1\\nXXX0&1|1&0&0|1|0|0|1&1&1|0&0|1&1&1|0&1&0|0|0|0|1&0\\nXXXXXXXXXXXXXXXXXXXXXXXXXXX0&0&1|0|1&0&1&1&1&1|1&1\\nXXXXXXXXXXX0|0|1|1|0|0|0|0|0|1&1|0&1|0|0|0|1&1&1|1\\nXXXXXXXXXXXXXXXXXXXXXXXXXXXXXXXXXXXXXXXXX1|0|0|1|0\\nX0|1|0&0&1&1|0&1|1&0|0&0|0&1|0|1|0&0|0&1&0|1|0|0|1\\nX1&1&1|0|0|1&0|1&1&0|0&0|0|1&0|0&0&1&0|0|1|0&0&0|1\\nX1&1|0&1&0|0&1|0|0&0&1|1|1&1&0&1&1|1&1|0&1|1|0&1|0\\nX0&0&1|1&0|1&1|1&0|0&0|1|1&1&1|0&0&1&1|1|1&1|1&0&1\\nXXXXXXXXXXXXXXXXXXXXXXXXXXXXXXXXXXXXX0|1|0|0|0|0&0\\nX0|0|1|1|0|0|0|0|0&1&0|0&1|1&1&0&0|1&1&1&1&0|1&0|1\\nXXXXXXXXXXXXX1&0|1&0|0|1&1|0&1&1&0&1&0&0|1|0|0|0|1\\nX1&0|0&1|0&0&1&0&1|1&1|0&0|0&1&0|0&0|0&1|1|1|0&1|1\\nXXXXXXXXXXXXXXXXXXXXXXXXXXXXXXXXXXXXX0&1|1&0&0&0|1\\nXXXXXXXXXXXXXXXXXXXXXXXXXXXXXXXXXXXXX0&1&0|0&1|1|1\\nXXXXXXXXXXXXX0&0|0&1|1|0|1&0|1&0&0&1|1&0&1&1|1&1|1\\nXXXXXXXXXXXXXXXXXXXXXXXXXXXXXXXXXXXXX0&0&0|1&0&1&1\\nXXXXXXX0|0&1|0&1&0&0&1&1&1&0&1|1|1|1|1|0&0|0&1&0|1\\nXXXXXXXXXXXXXXXXXXXXXXXXXXXXXXXXXXXXXXXXXXXXXXX0&1\\nX1|0&0|0|1&0&1|0&1|0&1&0|1&1|1|0&0&0|0&0|1|0|1&0&0\\nXXXXXXXXXXXXXXXXXXXXXXXXXXXXXXXXX0|1|1&0|1&0&0|1&0\\nXXXXXXXXXXXXXXXXXXXXXXXXXXXXXXXXXXXXXXXXX0|0|1|1&1\\nXXXXXXXXX0&1|0&0|1&1&0|1&1|1|0&1|1&0&1&1&0&1|0|0|1\\nXXXXXXXXXXX1&0&1|1|1|0&1|0|1&1&0&1|0&0|1|0&0|0|0&0\\nXXXXXXXXXXXXXXXXXXXXXXXXXXXXXXXXX1&0&1|0|0&0&0|1&0\\nXXXXXXXXXXX0&0|1|0&0|1&1|0|0|0|0|1&0|0&1&1|0&0&1&0\\nXXXXXXXXXXXXXXXXXXX1&1&1&1|0&1&1|0|1|1&1&0&0|1|1&0\\nXXXXXXXXXXXXXXXXXXXXXXX1|0&0&0|0|1|0&0&0|1&1&1&1|0\\nXXXXX1|1|1&0|0|0&0|1|0|1|0&0&0|0&0|0&1&1&0|1&1|1|0\\nXXXXXXXXX0&1|1|1&0&0|1|0&1|0&0&1&0|0&1&1&0&1&1|0&1\\nXXXXXXXXXXXXXXXXXXXXXXXXXXXXXXXXXXXXXXXXX0|1&1|1|0\\nXXXXXXXXXXXXXXXXXXX0&0|1&1&1|0|0|0|1&1|1|1|1|1&1|1\\nXXXXXXXXXXXXXXXXXXXXXXXXXXXXXXXXXXXXXXXXXXX1|0|1|0\\nXXXXXXXXXXX1|0|0&0|0|1&1|1|0&0&1&1&1|0&0&1|1&0&1&0\\nX0&0|1|0&0&1|0|1|0&1|1&1|0&1|1&0&0&1|0&0&1&0&0|0|0\\nXXXXXXXXXXXXXXXXXXXXXXXXXXXXXXXXXXXXX0|1|1|1|1&1&0\\nXXXXXXXXXXX1&0&1&0&0&1&0|1|1|1|1&1|1&0&0|0&1|0|0|0\\nXXXXXXXXXXXXXXXXXXXXXXXXXXX1|1|1|0|0&0|1&1|0|1|0|0\\nXXX1|1&0|0&0&0&0|1|1&0|0|1|1&1|0|1&0|0|0|1|0&0&1&1\\nXXXXXXXXXXXXXXXXXXXXXXXXXXXXXXXXXXXXX1|0&0|0|1&0&1\\nXXXXXXXXXXX0&0|1&1&1|0|0&1|0|1&1&1&0&1&1|0|0&1|1|1\\nXXXXXXXXXXXXXXXXXXXXXXXXXXXXXXX1|0&1&0&0&1|1&1&0&1\\nXXXXXXXXXXXXXXXXXXXXXXXXXXXXX0|1&0&1&0&1&0|1&1&1&0\\nXXXXXXXXXXXXXXXXXXXXXXXXX1&1|1|0&1|0|0|0|1&1&0|1|0\\nXXXXXXXXXXXXXXXXXXXXXXXXXXXXXXX0&0|1&0|1&1|0|1|0&1\\nXXXXXXXXXXXXXXXXXXXXXXXXXXXXXXX0&1|0|0|1|1|1&1|0|1\\nXXXXXXXXXXXXXXXXXXXXXXXXXXXXXXX1|1&0|1&1&0|1&0&0|1\\nXXXXXXXXXXXXXXX1&1&1|0&0|0&1|0|1&1&1&1|1&0&1|0|1|1\\nXXX1&1|0|0&1|1|0|1&0|1|1&1|1&1|1|0&1|1&1&0|0&0|0|1\\nXXXXXXXXX1&1|0|1|0&0&0&0&1|0&0|1|0&1&0&0|0|0|1|0&1\\nXXXXXXXXXXXXXXXXXXXXXXXXXXXXXXXXXXXXXXXXXXXXXXXXX1\\nXXXXXXXXXXXXXXXXXXXXXXX0|1|0&0|1&0|1|0|0|0&0&1|0&1\\nXXXXXXXXXXXXXXXXXXX0&1|0|1&0|0|1&0|0&0|1&0|0&1|0|0\\nXXXXXXXXXXXXXXX0&0&0|1&0|0&0&0|0|0&0|0|1|1|1|0&1|1\\nXXXXXXXXXXXXXXXXXXXXXXXXXXXXXXXXXXX0&1|0&0&0|0&1&0\\nXXXXXXXXXXXXXXXXXXXXXXXXXXXXXXXXXXX0&1&1|1|0&0&1|1\\nXXXXXXXXXXXXXXXXXXXXXXXXXXXXXXXXX1&1&1|0&0&1|1&0|0\\nXXXXXXXXXXXXXXXXXXXXXXXXX1|1&0&0|0|1&0&1|0|1|0&1|0\\nXXXXXXXXXXXXXXXXX0|0&1|0&1|1|1&1&1|1|1|0&1|0|1&0|0\\nXXXXXXXXXXXXXXXXXXXXXXXXXXXXXXX1&0|1&1|0&0|1&1&1&1\\nXXXXXXXXXXX0&1|1&0|1|1|1&1|1&1|0|0|1&1&1&1&0|0&0|0\\nXXXXXXXXXXXXXXXXXXXXXXXXXXXXXXXXX1|0|0&0&0|0&1|1|0\\nXXXXXXXXXXXXX0|0&1&0&1&1|1&0&0|1|0&0&0&0&1|1&0|1|0\\nXXXXXXXXXXXXXXXXXXXXXXXXXXX0|1|1&0&1|1|0|0&0&1&1&1\\nXXXXXXXXXXXXXXXXXXXXXXXXXXXXXXX0&1|1&1&1|0|0|0&0|0\\nXXXXXXXXXXXXXXXXXXXXXXX0&0|0&0&0|0&1|1|0&1&1&1&0|0\\nXXXXXXXXXXXXXXXXXXXXXXXXX1&1|0|0&1|1&0|1&0|0&0|0&1\\nXXXXXXXXXXXXXXXXXXXXXXXXXXXXXXXXXXXXXXX1&1&0&1&1|1\\nX1&1&0&1&0&0&1|1&0|1&0&0&0&0&0|1|1|1&0|1|0|0&0&1&1\\nXXXXXXXXXXX1&1|0&0|1|0&1|0&1|1&0&0|0&0&0|0&1&0&1|0\\nXXXXXXXXXXXXXXXXXXXXXXXXXXXXXXXXXXXXXXXXXXXXXXX0&0\\nXXXXXXXXXXX0&0&1|0|0&0&0&1|0&1&1|1|1&1|1&1|1|1&0&0\\nXXXXXXXXXXXXXXXXXXXXXXXXXXXXXXXXXXX1&0&1&0&0&0|1|0\\nX1&0&0&1&0|0|1&1|1|0|1&1&0&0&1&1&1|1&0|1|0|0&1|0|0\\nXXXXXXXXX0&0|1&0|0&0|1&1&1&0|1|0|0|0&0&0&1&0&1&1|0\\nXXXXXXXXXXXXXXXXXXXXXXXXXXXXXXXXXXXXXXXXXXXXX1&1&1\\nXXXXXXXXXXXXXXXXXXXXXXXXXXXXXXXXXXXXXXXXXXX0|1|0|0\\nXXXXXXXXXXXXXXXXXXXXXXX1&0&1|1&0|0&1&1&1&0|1&1|1&0\\nXXXXXXXXXXXXXXXXXXXXXXX0|1|1&1&1|1|1&1&0&1|1|0|0&0\\nXXXXXXXXXXX1|0&0&1|0&1&0|1|1&1&1&0|1&1|0&0|0&1|0|0\\nXXXXXXX1|0|1&1&0&1|1|1&1|0&1|1|1&1&0&0&1|0|0|0&0|1\\nXXXXXXXXXXXXXXXXXXXXXXXXXXXXXXXXXXXXXXXXXXXXX1|0&1\\nXXXXXXXXXXXXXXXXXXXXXXXXXXXXXXXXXXXXXXXXXXX0&0&1&1\\nXXXXXXXXXXXXXXXXXXX1&0&0|1|0|1|0|0&0|1&0|1&1|0&1&0\\nXXXXXXXXXXXXXXXXXXXXXXXXXXX0&1|0|0|0&1|1|0|0&0|0&0\\nXXXXXXXXXXXXXXXXXXXXX0&0&0|0|0|0|0|1&0|0&1|1|0|0&0\\nXXXXXXXXXXXXXXXXXXXXXXXXXXXXXXXXXXXXXXXXXXXXXXX0&0\\nXXXXXXXXXXXXXXXXX0|0&0|0&0|1|1&1|1&0|0|0|1|1&1|0&0\\nXXXXXXXXXXXXXXXXXXXXXXXXXXXXXXXXXXXXXXXXXXX0|1&1&1\\nX1|0|1&1&0&1|0|1|1&0|1|0|0|1|0&0|0&1&0|0|0&0|1&0&1\\nXXXXXXXXXXXXXXXXXXXXXXXXXXXXXXXXXXXXXXXXXXXXXXX1&0\\nX1|0|1&1&0&1|1&1&1&0&1|1&1&1|1&0|1&1&0&1|1|0&0&0|1\\nXXXXXXXXXXXXXXXXXXXXXXXXX1|0|1|0&0|0&1|1|1|0&0&1|0\\nXXXXXXX0|0&1|1|1|0|1|1|0&1&1|0|1&0|0|0&0&1|1|0|1|1\\nXXXXXXXXX0&0|0&0&0&0&1&1&1&1|1|1|0|1&0|1&0|1|0&0|1\\nX1|0|0|1|0&0&1|0|0&0|0&1|0|0|0&1&0|0&1|0|1&0|0|0|0\\nXXXXXXXXXXXXXXXXXXXXXXXXXXXXXXXXXXXXXXXXX1&1|0|1|0\\nXXXXXXXXXXXXXXXXXXXXXXXXXXXXX0&1|1&0&1|0|0&0&0|0&1\\nXXXXXXXXXXXXXXXXXXXXXXXXXXXXXXXXXXXXXXXXX0&0&1&0&0\\nXXXXXXXXXXXXXXXXXXXXXXXXXXXXXXXXXXXXXXXXXXX1|0|0|0\\nXXXXXXXXXXXXXXXXXXXXXXXXXXXXXXXXXXXXXXXXXXXXX0|1&1\\nXXXXXXXXXXXXXXXXXXXXXXXXXXXXXXXXXXXXX1|0|0|0|0&0&0\\nXXXXXXXXXXXXXXXXXXXXXXXXXXXXXXXXXXX0&0|1|0&0|0|1&0\\nXXXXXXXXXXXXXXXXXXXXXXXXXXXXXXXXXXX1|0|1|1&0|1|1&1\\nXXXXXXXXXXXXXXXXX1|1|1|1|0&1&1|1&0|0&0&0|1|0|0&1&0\\nXXXXXXXXXXXXXXXXXXXXXXXXXXXXXXXXXXXXX0&0&1|0&0&1&0\\nXXXXXXXXXXXXXXX0&0|0&1&0&1&1&0|1|0|0|0&0&1&1&1&1&1\\nXXXXXXXXXXX1|1&0&1&1|1&0&0|1|1|0|1|1&0|0|1&0&1&0&1\\nXXXXXXXXXXXXXXXXXXXXXXXXXXX1|0&0|1|1|0&1|0|0&0&1&1\\nXXXXXXXXXXXXXXXXXXXXXXXXXXXXXXX1&1&0|1&1|0&1|1|1|0\\nXXXXXXXXXXXXXXXXXXXXXXXXXXXXXXXXX0&0&1|0&1&0&0|0&1\\nXXXXXXXXXXXXXXXXXXXXX0|1|1&0&0|0&1&1&1&1|0|1&1&0&0\\nXXXXXXXXXXXXXXXXXXXXXXXXXXXXXXX0|1|1|1&1|1&0&0|1&1\\nXXXXXXXXXXXXXXXXXXXXXXXXXXXXXXXXXXXXXXXXXXXXX0|1&1\\nXXX0&1&0&1|0|1&1&0&1&1|1&0&0|1|0|0|0&0&1|0&0&1|0|0\\nXXXXX0|1|1&1|1&1&0|0|0|1|0&1|1&1&1&1&0|0|0&0|1|1|0\\nXXXXXXXXXXXXXXXXXXXXXXXXXXXXXXXXXXXXXXXXXXXXXXX1&1\\nXXXXXXXXXXXXXXXXXXXXXXXXXXXXXXXXXXXXXXXXXXXXX0&0|1\\nXXXXXXXXXXXXXXXXXXXXXXXXXXXXXXXXXXXXXXX0|0&1|0&0&1\\nXXXXXXXXXXXXXXXXXXXXXXXXXXXXXXXXXXXXX1|1&0|0&0|0|1\\nXXXXXXXXXXXXXXXXXXXXXXXXXXXXX1|0&0&0|0&1|0|1|1|0|1\\nXXXXX0&1|1|1&1|0|1|0&1|0&1|1|1&1|0|1|0&0&0&0&0|1|1\\nXXXXXXXXXXXXXXXXXXXXXXXXXXXXXXXXXXXXXXXXXXX1|0&1|1\\nXXXXXXXXXXX1|1|0&0&1|0|1&1&0|0|0&1|0&1|1|0|1|0|0|1\\nXXX1&1&0|1&0&1&1&0|1&0|0|1&1&0|0|0|1&0&1&0|1|0|1|0\\nXXXXXXX0|1|0&0&1|1|0&1&1|1&0&0&1&1&0|0&1&0|1&0&0&1\\nXXXXXXXXXXXXXXXXXXXXXXXXXXXXXXXXXXXXXXXXXXXXXXXXX1\\nXXXXXXXXXXXXXXXXXXXXXXXXXXXXXXXXXXXXXXX1&1|1&0|1|1\\nXXX1&1|0&0|1|0|0|1&0&0&1&0&0&1&1|0&0|1|0&0&0|1|1|1\\nXXXXXXXXXXXXXXXXXXXXXXXXXXXXXXXXXXXXXXXXXXX1&1|0&0\\nXXXXXXXXXXXXX1&1|0|1|0&0&1|0|0&1|1|0&1&0|1|1|1|1|1\\nXXXXXXXXXXXXXXXXX0&1&0&0|1|0|1|1|0&1|0|0&0|0&0&1|1\\nXXXXXXXXXXXXXXXXXXXXXXXXXXXXXXXXX0&1&0&0|0|0&1|1|0\\nXXXXXXXXXXXXXXXXXXXXXXXXXXXXXXXXXXXXXXXXX0&1|1&1|1\\nXXXXXXXXXXXXXXXXXXXXXXXXXXXXXXXXX1&1|0|1&0|1&1|0&0\\nXXXXX0|1|0&0&0&1|1|0|1&1|1|0&1|1|1&0|0|0|1|0|1&1|0\\nXXXXXXXXXXXXXXXXXXXXXXXXXXXXXXXXXXXXX1|0&0&1|0|1|0\\nXXXXXXXXXXXXXXXXXXXXXXXXXXXXXXXXXXX0&1|0&0|0|1|1|0\\nXXXXXXXXXXXXX0&0|1|1&1&1|0&0|0&0&1&0&1|0&1|0&1|1|1\\nXXXXXXXXXXXXXXXXXXXXXXXXXXX1|1|0|0|0|1|0|0&0|0&0&0\\nXXXXX1|0&1|0&1|0|1|1&1&0|1|1|0|0&0|0|1|1&1&0|1|1|0\\nXXXXXXXXXXXXXXX0&0&1|0&1|1&0&1&0&1&0&0|0|0|0&1&0|0\\nX0&1&0|1|0|1|1&0&0&1&1|0&0|0&0|1|1|0|0|0&0|1&0|1&0\\nXXXXXXXXXXXXXXXXXXXXXXX1|0|1&1|1|1&1|1&0|0|1&0|0|0\\nXXXXXXXXXXXXXXXXX0&0&0|0&0|1|1|0|1|0|1&1|1&1|0|0|0\\nXXXXXXXXXXXXXXXXXXXXXXXXXXXXXXXXXXXXXXX0&1|0&1|1|0\\nXXXXXXXXXXXXXXXXXXXXXXXXXXXXXXXXXXXXXXX0|1&1|1&1|1\\nXXX0&1&1|0|0&1|0&0|1|1|0|1|1&1|1|0|0|1&1|1|1|0|0&0\\nXXXXXXXXXXXXXXXXXXXXXXXXX1&1|0&1&0|0|0|0&1&1|0&0|1\\nXXXXX1&1|1&0|1&0&1|0|0|1|0&1|1&0|1&1|0&1&0&1&1&0&0\\nXXXXXXXXXXXXXXXXXXXXXXXXXXXXXXXXXXXXXXXXXXXXXXX1&1\\nXXXXXXXXXXXXXXXXXXX1|1&1&1&1|0|1&1|1&0&1&1|1&1&0|0\\nXXXXXXXXXXXXXXXXXXXXXXXXXXXXXXXXXXX0|1&1|0|0&0|1|0\\nXXX0|0&0|1|1|1|1|1&1&0&0|0&1|0|0|0&1|1&0&1|1|0|1&0\\nXXXXXXXXXXXXXXXXXXXXXXX1&0&0&0|0&1&0|1&0|1|1|0&0&0\\nXXXXXXXXXXXXX0|0|1&0&1|1|1|1|1&0&0|1|1&0|1&1&0|1|1\\nXXX1&0&1&1&1|1|1|0|1|0&1|0&1&0&0|0&0&0&1&0|0&1|0|1\\nXXXXXXXXXXX0&1|1|1|0&0&1|1|0&1&0&0&0|1|0&1|1&0|1|0\\nXXXXXXXXXXXXXXXXXXXXX0&0&1&1|1|0&1&1|0&1|0&1&0|0&1\\nX1&1|1&0|0|0&0|1|0|0|0&1&0|0&1&1&1|0&0&1|1|1|0&0&0\\nXXXXXXXXXXXXXXXXXXXXXXXXXXXXXXXXXXXXXXXXXXXXXXX1&1\\nXXXXXXX1&0|0&1&0|1&0|0&0&0|0&0|1&1|0|1&1&1|1&1|1|0\\nXXXXXXXXXXXXX1&0&0|0&0&1&1|1|1|1&0&1&0|1&1|0&1&0&0\\nXXXXXXXXXXXXXXXXXXXXXXXXXXXXXXXXXXXXX1&1&1|0&1&0|1\\nXXXXXXXXXXXXXXXXXXXXXXXXXXXXX1|0&0|1&0|0|1|0|1|1|1\\nXXXXXXXXXXXXXXXXXXXXXXXXXXXXX1&0&1|1&0|0|0&1&1&1|0\\nX0&0&1|1&1&0&1|1|0|1&0|0|1&1&0&0&0&0&0|1|1&0&0&0|1\\nXXXXXXXXXXXXXXXXXXXXXXXXXXXXXXXXXXX1|0|1|1|1&1&0|1\\nXXXXXXXXXXXXXXXXXXXXXXXXXXXXXXXXXXX0&0|0&0&0&1&1|0\\nXXXXXXXXXXXXXXXXXXXXXXXXXXX0|0|1|1|1&1&0&1|1|0&0&1\\nXXXXXXXXXXXXXXXXXXXXXXXXXXX0|0&0&0&0&0|1|0|0|0&0|0\\nXXXXXXXXXXXXXXXXXXXXXXXXXXXXXXXXXXXXXXXXXXXXX1&0|1\\nXXXXXXXXXXXXXXXXXXXXXXXXXXXXXXXXXXXXXXXXXXX0&0&0&1\\nXXXXXXXXXXXXXXXXXXXXXXXXXXXXXXXXX0|1&1|1|1&0&0|1&0\\nXXXXXXXXXXXXXXXXXXXXXXXXXXXXXXX1|1|1|1&1&1|0&1|0|1\\nXXXXXXXXXXXXXXXXXXXXXXXXXXXXXXX0&1|1&1|0|1&1|0|1&0\\nXXXXXXXXXXXXXXXXXXXXXXXXXXXXXXXXXXXXXXXXXXXXXXXXX1\\nXXXXXXX1&0|1|0|0|0&1&1&1&1&1&1|1&0&1&1|1|0|0&1|0|1\\nXXXXXXXXXXXXXXX1&1|0&1|0|1|1|0&1&0&1&1|0&1|0&1&1|0\\nXXXXXXXXXXXXXXXXXXXXXXXXXXXXXXXXXXX0&0&0|0&1&1&0|1\\nXXXXXXXXXXXXX1|1&1|1|0&1|0&1|0&0&1&1&0|1&1&0|1&1|1\\nX1&0&0&1|0&1&0|0&1&1|0|1&0|0|1&0&1&1|0|0|0&1&0&1&0\\nXXXXXXXXXXXXXXXXXXXXXXXXXXXXXXXXXXXXXXXXX1&1&0|0|1\\nXXXXXXXXXXXXXXXXXXXXXXXXXXXXXXXXXXXXXXXXXXXXXXXXX1\\nXXXXXXXXXXXXXXXXXXXXXXXXX1&0|1&1|1|0|0&0&1&1|1&1|1\\nXXXXXXXXX1|1&1|1|0|1|0|1|1|0&0&0|1|0&0&1&1|1|1&0&0\\nXXX1&1&1|1&0|1|0&0|0&0|1|0&1&0&1|1|0|0&0&1&0|1&1&0\\nXXXXXXXXXXXXXXX0&1|0&1&0|1&0|1&0&0&0|1|1|1|0|0&0|0\\nXXXXXXXXXXXXXXX1|0|0|1&1|1|0|1|1|0&0|0&1|1&0&0&1|1\\nXXXXXXXXXXXXXXXXXXXXXXXXXXXXX1|0&1&1&1&0&1&1&0&0&0\\nXXXXXXXXXXXXXXXXXXXXXXX1&1|1&1&1|1|1|0|1|0|0&0|1&1\\nXXXXXXXXXXXXXXXXXXXXXXXXX1&0&0&1|1|1&1|0&1|0&0&1&0\\nXXXXXXXXXXXXXXXXXXXXXXXXXXXXXXX1|0|1|0|1|1&0&0|0&1\\nXXXXXXXXXXXXX0|1|1&0&0|1|1|1|0&0|1|1&0|0&1|0|1&0|0\\nXXXXXXXXXXXXXXXXXXXXX1|0&1&0|0|0&1|1&1|1|1|0|0&0&0\\nXXXXXXXXXXXXXXXXXXXXXXXXXXXXXXXXXXXXXXXXXXXXX1|0|0\\nXXXXXXXXXXXXXXXXXXXXXXXXXXXXXXXXXXXXXXXXXXXXX0&1&1\\nXXXXX0|0|0|0|1&0&1|1|0|1&0&1|1&1|0&1|1&0&1&1&1|1|1\\nXXXXXXXXXXXXXXX1|0&1|0|0&1&0|0|1|1&1&1|0&1|1&1&1&0\\nXXXXXXXXXXXXXXXXXXXXXXXXXXXXXXXXXXXXXXXXX1|1|0&0&1\\nXXXXXXXXXXXXXXXXXXXXXXXXXXXXXXX0|1|1&0|0&0&1|0&0&0\\nXXXXXXXXXXXXXXXXXXXXX0|0&1|0&0&1|0|0&0&0&1|0|0|1|0\\nXXXXXXX0|0&0&1&1&1&0|0|1&0&0&1|1|0|1&1|1|0|1&0&0|1\\nXXXXXXXXXXXXXXXXXXXXXXXXXXXXXXXXXXXXXXXXXXX0&0|0|1\\nXXXXXXXXXXXXXXXXXXXXXXXXXXXXXXXXXXXXXXXXX1&1|1&1|1\\nXXXXXXXXXXXXXXXXXXXXXXXXXXXXXXXXXXXXXXXXX1&1|0&0|0\\nXXX0|1&0&1&1|0&1&0|1&0&1&0&1&0|0|0|1&0|1|0&0&1|0&1\\nXXXXXXXXXXXXXXXXXXXXXXX1|0|1|0&1&1|1|1&1&0&0&1&0|1\\nXXXXXXXXXXXXXXXXXXXXXXXXXXXXXXX0&1&1&0&0|0|0&1|1&1\\nXXXXXXX1|1|0&1|0|0|0&1|1|0|1|0&0&0|1&1&1|0&1&0|1|0\\nXXXXXXXXXXXXXXXXXXXXXXXXXXXXXXX0|1&1&1|1|0|0&1&1&1\\nXXXXXXXXXXXXXXXXXXXXXXXXXXX1|0|1&1&1&0&1|0&1|0|0&1\\nXXXXXXXXXXXXXXXXXXX0|1|1&1|1|0|0&1&0|1&0&0|0|0&0|1\\nXXXXXXXXXXXXXXXXXXXXXXXXX0&1&0&1|1&0&0|0|1&1|0&1&1\\nXXXXXXXXXXXXX0|1|1|0&0|0|0&0|1&1|0|0|1&1|1|1|1|1&1\\nXXXXXXXXXXX1|0|0|1|0&0&0&1&0|1&0&0&1|0&0&1&1|0|1|0\\nXXXXXXXXXXXXXXXXXXXXXXXXXXXXXXXXXXXXXXXXXXX1&0|1|0\\nXXXXXXXXXXXXXXXXXXXXXXXXXXXXXXXXXXXXX1&1&1|1&1&1&1\\nXXXXXXXXXXXXXXXXXXXXXXXXXXXXXXXXX0|0|1&1&0|1|1|1&1\\nXXXXXXXXXXXXXXXXXXXXXXXXXXXXXXXXXXX0|1|1&0&0&1&1&1\\nXXX0&1&0&1&0&0|0&0|1&1|1|0&1&0|1&1|0|0|0&0|0|0&1|1\\nXXXXXXXXXXXXXXXXXXXXXXXXXXXXX1&0|1&0|0&0&0&1|0&1|0\\nXXXXXXXXXXXXXXXXXXXXXXXXXXXXXXXXXXXXXXX1&1&0|0&0|1\\nXXXXXXXXXXXXXXXXXXXXX0&0&1|1|1|0|0|1|1|1|0|0&1|1&0\\nXXXXXXXXXXXXXXXXXXXXXXXXXXXXXXXXXXXXXXXXXXX0&0|0|0\\nXXXXXXXXXXXXXXXXXXXXXXXXXXXXXXXXXXXXXXXXXXXXXXX0&1\\nXXXXXXXXXXXXXXX1|0&0&1|1&0&0|0|1|0|0&1|1|0|0&0&1&0\\nXXX1&0|1&1|0|0|0&1&1&0|1|0|1&0&0&0|1|1&0|0&0&1&0|1\\nXXXXXXXXXXXXXXXXXXXXXXXXXXXXXXX0|0&0|0&0&1&1&1&0|0\\nX0|0&1|1&0&1|1|0|1|0|0|0|1&1&1|0|0|1|0|0|0|0&0&0|1\\nXXXXXXXXXXXXXXXXXXXXXXXXX0|0|0&1&1&0|0|0|1&0|0|0&0\\nXXXXXXXXX1&0&1|0&0&0&0|0&0|1|1&1|0&1|0&1&0&1&0|1|0\\nXXXXXXXXXXXXXXXXXXXXXXXXXXXXXXXXXXXXXXXXXXXXXXX0|1\\nXXXXXXXXXXXXXXXXXXXXXXXXXXXXXXXXXXXXXXXXXXXXX1&0&0\\nXXXXXXX0&0&1|0|1&0&0|0|0&0|0&0|0|1&1|0|1|0|1&1|1&1\\nXXXXXXXXXXXXXXX1&1|1&0&0|0|1|1&1&0|1|1&0|0&0|0|0&0\\nXXXXXXXXX1|0|0|0&1&1|1|1|0|1|0|0&0|1|1&0|0&0&0&1|1\\nXXXXXXXXXXXXXXXXXXXXXXXXXXXXXXXXXXX1|1|1|0|0|1|1|1\\nXXXXXXXXXXXXXXXXXXXXXXX1&0&1|0|0|1|1&1&0|0&1&0&1&1\\nXXXXXXXXXXXXXXXXXXXXXXXXXXXXXXXXXXX1|0&0|1|0|0|1&0\\nXXXXXXX1|0|1|1|0&1&1&0&0|0|1|0&1&1&1|0|1|0&0&0&1&0\\nX0&0|0|0|0&1|1|0|0&0&1&0&1|1&1&0|0|0&1|1&1|0|0&0|0\\nXXXXXXXXXXXXXXXXX0|0&0|1&0&0|1&1|0|0&0&1&0|1&0&1&0\\nXXXXXXXXXXXXXXXXXXX0|1&0&1|0&0&0|0|1|1|0&0|1|0|0&0\\nXXXXXXXXXXXXXXXXXXXXXXXXXXX0&0|0&0|0|0&1&0&0|0&0&1\\nXXXXXXXXXXXXXXXXXXXXXXXXXXXXX1|1&0|0&0|0|1&1&1|0&1\\nXXXXXXXXXXXXXXXXXXXXXXXXXXXXXXXXXXXXXXXXX1|0&0|0|1\\nXXXXXXXXXXXXXXXXXXXXXXXXXXXXXXXXXXXXXXX1&1|1|1|1&1\\nXXXXXXXXXXXXXXXXXXXXXXXXXXXXXXX0&0&1&1&0&1|0|1|0|1\\nXXXXXXXXXXXXXXXXXXXXXXX0&1|1&0|0&1&1|1|1&1|1&1&0&1\\nXXXXXXXXXXXXXXXXXXXXXXXXXXXXX1|0|0&1|1&1&0&0|0&0&1\\nXXX0|1|0&1|1|0|0|0&1&0&0&1&0|1&1&0|0|1&1&1&0&1&1|1\\nXXXXXXXXXXXXXXXXXXXXXXXXX0&1|0|1&1|0&0&0|1&0&1&1|1\\nXXXXXXXXXXXXXXXXXXXXXXXXXXXXXXXXXXXXXXXXXXXXX0&1|1\\nXXXXXXXXXXXXXXXXXXX1&0|0&1|0|1|1|1&1&1&0&1|1|1|0|0\\nXXXXXXXXXXXXXXXXXXXXXXX1|0|1&1|0|0&0&1|0|0|1|0&0|0\\nX0|0|1&0|1&0&1&1|1&0&0|1|1|1|0|0&0|0|1&1&1&0|1|0|0\\nXXXXXXXXXXXXXXXXXXXXXXXXXXXXXXXXXXXXXXX1|0|0|1|0&0\\nXXXXXXXXXXXXXXXXXXXXXXX1|0|1|0&0|1&1&0|1&0&1&1|1&0\\nXXXXXXXXXXXXXXXXXXXXXXXXXXXXXXXXXXXXXXXXXXXXX0|1&1\\nXXXXXXXXXXXXXXXXXXXXX0&0|1&0|0&0|1&1&0&1|1&1|1&0|0\\nXXXXX0|1&1|1&1&0|0|1|1&1|0&0|1&1|1|0&0&0&1|0&1|0|0\\nXXXXXXXXXXXXXXXXXXXXXXXXXXXXXXXXXXXXXXX0|0&0&1|0|0\\nXXXXXXXXXXXXXXXXXXXXXXXXX0|0|0&0|0&1&1|0|1|1&0&0|0\\nXXXXXXXXXXXXXXXXXXXXXXXXXXXXXXXXXXXXXXXXXXXXXXX0&1\\nX1&0|0&1|0|0&1&1|1|1&0&0&1&1&1|0&1|1|1|1&0&0|0|0&1\\nXXXXXXXXXXXXXXXXXXX0&1&0&1|0&1|0|0&1|0|1|0&0&0|0|0\\nXXXXXXXXXXXXXXXXXXXXXXXXXXXXX0&1|0|1&1|0&0&1|1|0|0\\nXXXXXXXXXXXXXXXXXXXXXXXXXXXXXXXXXXXXXXXXXXXXX0|0|0\\nXXXXXXXXXXXXXXXXXXXXXXXXXXXXXXX1&0&1&1&0&1&0&0|0|0\\nXXXXXXXXXXXXXXXXXXXXXXX1|1|1&1|0&1|1&0|0|0&1|0&0&0\\nXXXXXXXXXXXXXXXXXXXXXXXXXXX1&0&0&0|1|0|1&0&0|1&0&1\\nXXXXXXXXXXXXXXXXXXXXXXXXXXXXXXXXXXX1&1&0&1&0|1|1&0\\nXXXXXXXXXXXXXXXXXXXXXXXXXXXXXXXXXXXXX1|1|0&1&0&0|0\\nXXXXXXXXXXXXXXXXXXXXXXXXXXXXXXXXXXXXXXXXXXXXXXX0|0\\nXXXXXXXXXXXXXXXXXXXXXXXXXXXXXXX0&0|1|1&0&1|0|1|1&1\\nXXXXXXXXXXXXXXXXXXXXXXXXXXXXXXXXXXXXXXXXXXXXXXX1|0\\nXXXXXXX0|0|1|0&0&0&0&0&0&1|0|1|1|0|0|1&1&0&0|1|1|0\\nXXXXXXXXXXXXXXXXXXXXXXXXXXXXXXXXXXXXXXXXX0|0|1|0|0\\nXXXXXXXXXXXXXXXXXXX0&1|0&0&0&1|1&1&1&1|1&1&0|0&0&1\\nXXXXXXXXXXXXXXXXXXXXXXXXXXXXX1&0|0|0&1&1&1&1|0|0|0\\nXXXXXXXXXXXXXXXXXXXXXXXXXXXXXXXXXXX1|0&1&0|0&1|1&1\\nXXXXXXXXXXXXXXXXXXXXXXXXXXXXXXXXXXX1|0&0|1|0|0|1&0\\nX1|1|1&1|0&0&0|0&1|0|0|0|1|0&0&1&1&1&1|0|0|0&1&0&1\\nXXXXXXXXXXXXXXXXXXXXXXXXXXXXXXXXXXXXXXXXXXX1&1|0&1\\nXXX0&1|0|0|1|1|1|0&0&1&0&0|0|1&0|0&1&0&1|0&1|1&1|0\\nXXXXXXXXXXXXXXX1&0|1|1&0|1|1|0|1|1|1|1&0|1&1&0&1|1\\nXXXXXXXXXXXXXXXXXXXXXXXXXXXXXXXXXXXXXXXXXXXXX1|0&1\\nXXXXXXX0&1&0|0|1|1|1|0&0|1&1&1&1|0|1&0|0|1&0|0&1&0\\nXXXXXXXXXXXXXXXXXXXXXXXXXXXXXXXXXXXXXXXXXXXXXXX1&1\\nXXXXXXXXXXXXXXXXXXXXXXXXXXXXX0&1&0|1&0|0&1|0|1&0|0\\nXXXXXXXXXXXXXXXXXXXXXXXXXXXXXXXXXXX0|1&0|1&1&0&0&1\\nXXXXXXXXX1&0|0|1|1&1&0&0|1|0&0|1&1&1|0|0&0|1&0&1&0\\nXXXXX1|1|0|1&0&1&0&0|1&0|0|0&0&1|1&0&1&0|1|1|1&1|1\\nXXXXXXXXXXXXXXXXXXXXXXXXXXX1&1|1|0|0&1|0|1&1|0|0&0\\nX1&0&1|0&0|1&1&0|0|1|1|0&0|1&1|0|1&1&0|0&1&1|1&0|0\\nXXXXXXXXXXXXXXXXXXXXXXXXXXXXXXXXXXX1|1&1|1|0|0|0|1\\nXXXXXXXXX1&0&1&1&0&0|1&1|1&1&1&1&1|1&1|1&1&1&1|1|1\\nXXXXXXXXXXXXXXXXXXXXXXXXXXXXXXXXXXXXXXXXX0|0|1&1&0\\nXXXXXXXXXXXXXXXXXXXXXXXXXXXXXXXXXXXXXXX0|1&1&0&1&1\\nXXXXXXXXXXXXXXXXXXXXXXXXXXXXXXXXXXXXXXXXXXXXXXX0|0\\nXXXXXXXXXXXXX1&1&1&1&0|1&1|0|0&0|0&1|1&1&1|1&1|1|1\\nXXXXXXXXXXXXXXXXXXXXXXXXXXXXXXXXXXXXXXX1&1&0&1|0|0\\nXXXXXXXXXXXXXXXXXXXXXXXXXXXXXXXXXXXXX0&1&1&0|0|0|1\\nXXX0&1|0&1&0|0|0|1|0&0&1|1|1|0&0&1|0|0&0|1&1&1|1|0\\nXXXXXXXXXXX0&0&0&0|1&0&0&0&1|1&0|1|1|0|0&0&1|1|0|0\\nXXXXXXXXXXXXXXXXXXXXXXX0|0&1|1&1&1&0|1|1|1&1|0|0|0\\nX1|0|0&0&0|0&0&1|0|0&0&1&1|0|0|0|1|1&0&1&1&0|1&1|0\\nXXXXXXXXXXXXXXXXXXXXXXXXXXXXXXXXX1&0&0&1&0&0&0&0&1\\nXXXXXXXXXXXXXXXXXXXXXXX1&1|1&0&1&1|0&1|1|0&0|1&1&0\\nXXXXXXXXXXXXXXXXXXXXXXXXXXXXXXXXXXXXXXX1&0|0&1|0|1\\nXXXXXXXXXXXXXXXXXXXXXXXXXXX0|0|1|1&0|1|0|1&1&0|1&0\\nXXXXXXXXXXXXXXXXXXXXXXXXXXXXXXXXX0|0|0&1|0|1&1|0|1\\nXXXXXXXXXXXXXXXXXXXXXXXXXXXXXXXXX1&1&1&1&0&1|0&0|1\\nXXXXXXXXXXXXXXXXXXXXXXXXXXXXXXX1&0|0|0|1&1&0&0|0|0\\nXXXXXXXXXXXXXXXXXXXXXXXXXXXXXXXXX1&1&1&0|1&0&1&1|1\\nXXXXXXXXXXXXXXXXXXXXXXXXXXXXXXXXXXXXXXXXXXXXXXX1|0\\nXXXXX0&0|1&0|0|1|1&0&1|0&0|1|1&0|1&1&1&0&0&0|0|1&0\\nXXXXXXXXX1&0&0&1|1&0&0|0&0|1&1|0|1|0|1|1&0|1&0&1&0\\nXXXXXXXXXXXXXXXXXXXXXXXXXXXXXXXXX1|0|1&0|0|0|0&0|1\\nXXXXXXXXXXXXXXXXXXXXXXXXXXXXX0&1|1|1|1&1|0|0&1&0&0\\nXXXXX0&0|0|1&0|1&1|1&1|1&1&0&0&1&1&0|0|1&1|0&1|0&1\\nXXXXXXX0&0&0&1|0&0|1|1&0|1&0&0&1|1|0|1|1&0&1|0&0|0\\nXXXXXXXXX0|1|0|1&0|0|0|1|0&0|0&0&0|1&0|0|1&1|0|1|1\\nX0|1|0&0&1&1|1&0|1&1|0|0|0|1&1|0|0&0&1|0|1|1&1&0|0\\nXXXXXXXXXXXXXXXXXXXXXXXXXXXXXXXXXXXXXXXXXXXXXXXXX1\\nXXXXXXXXXXXXXXXXXXXXXXXXXXXXXXXXXXXXXXX1|1&1|0&0|1\\nXXXXXXXXXXXXXXXXXXXXXXXXXXXXXXXXXXXXXXXXXXX0|1|1|0\\nXXXXXXXXXXXXXXXXXXXXXXXXXXXXXXXXXXXXXXXXXXX1&1&1&0\\nXXXXXXXXXXXXXXXXXXXXXXXXX0|0&1&1&1&0|1|0&1|0&0|1|0\\nXXXXXXXXXXXXXXXXXXXXXXXXXXXXXXXXXXX1|1|0&0|1&0|1&0\\nXXXXXXXXXXXXXXXXXXXXXXXXXXXXXXXXXXX1|1|1|0|0&1|0&1\\nXXXXXXXXXXXXXXXXXXX0|1|0&1|0&1&0|0&0|1&0&1&0&1|1&0\\nXXXXXXXXXXXXX1|0|1|0|0|1|1&1|1|1|1|0&0|1|0&1|1|0|0\\nXXXXXXXXXXXXXXXXXXXXXXXXXXXXXXXXXXXXXXXXXXXXXXX1|1\\nXXXXXXXXXXXXXXXXXXXXXXXXXXXXXXX0|0&0|1&1&0|1&0|0|0\\nXXXXXXXXXXXXXXXXX1&0&1&0&1&0|1&1&1|1|0|1&0|1|0|1&0\\nXXXXXXXXXXXXXXXXXXXXXXXXX0&0|1|1&0&1&1&1&0|1|0&1&1\\nXXX1|0|0|1&0|0|1&1|0|1|0&1&0|1|1&1|1|0|1|0|1&0&1|0\\nXXXXXXXXXXXXX1&1&1|0|1|0&0|1|0&1&0|0|0&1|1&0|1|0|0\\nXXXXXXXXXXXXXXXXXXXXXXXXXXXXXXXXXXXXXXXXXXX1|0|1|1\\nXXXXXXXXXXXXXXXXXXXXXXXXXXXXX0&1|0&1|0|0|0|1|1|0|0\\nXXXXXXXXXXXXXXX0&1|1|0&1|1&1|0|0&1&0&1&1|1|0|1|1|1\\nXXXXXXXXXXXXXXXXXXXXXXXXXXXXXXX0&1|1&1|0&0|1|1|0|1\\nX0|1|1|1|0&0|0|1&0&1&0|0&0&1|0&1|1&1&0|0|0|0|1&1&1\\nXXXXXXXXXXXXXXXXXXXXX0&1|0&0|0|1&0&1|0&1|1|1&0&0&1\\nXXXXXXXXXXXXX1|1|0|1&0|1|0&0&1|0&0|1&0|1|1&0|1|1&1\\nXXXXXXXXXXXXXXXXXXXXXXXXXXXXXXXXXXXXXXXXXXXXX1&0|0\\nXXXXX0|0&1|1|0&1|1|1&1&0|1|1|1|1&0&1|1&0&0|1&0|0&0\\nXXXXXXXXXXXXXXXXXXXXXXXXXXXXXXXXXXXXXXXXX0|1|1|1|0\\nXXXXXXXXXXXXXXXXX1|1|0|1|1&0&0|1&1|1&0|0|0&1|1|1&0\\nXXXXXXXXXXXXXXX0|1|1&0&0&0&1|0|1&0|0&0|0&0&0&1|1&1\\nXXXXX1&0|0|1|0&0&0|1&0&0&1|0|0&0&0|1&1&0|0|0&0|0&1\\nXXXXXXXXXXXXXXXXXXXXXXXXX1&0|1&1|1|0&1&1|1|0|1|0&0\\nXXXXXXXXXXXXXXXXXXXXXXXXXXXXXXX1|0|1|0&0|0|0&1|1&1\\nXXXXXXXXXXXXXXXXXXXXXXXXXXXXXXXXXXXXXXXXXXXXXXX0|0\\nXXXXXXXXXXXXXXXXXXXXXXXXXXXXXXXXXXXXXXXXXXXXXXX1|1\\nXXXXX1|0|1|1&0|0|1|0&0|0&1&1&0&0&1&0|1|1|1&1|0&1&0\\nXXXXXXXXXXXXXXXXXXXXXXXXXXXXXXXXXXXXXXXXXXXXXXXXX0\\nXXXXXXXXXXXXXXXXXXXXXXXXXXXXXXX0&1|1&0&0|1|0|1|1&0\\nX1|0&1&1&0|0&0|0|1&1&0|0&0|0&0|0|1|0&0|1&1&1|0&1|1\\nXXXXXXXXXXXXXXXXXXX1&0|1|0|0|0|0&0&0|0|1|1&1&0|1|1\\nXXXXXXXXXXXXX0|0&1&0|1|0|1|1|0|0&1&1|1&1|0|0&1&0|1\\nXXXXXXXXXXXXXXXXXXXXX0&1&1|1&0|1&1|1|1|0|1&1&1&0&1\\nXXXXX0|1&0|0&0|0|1|1&0|0|1&0|1&0|0&1&1|1&0&0|1|0&1\\nXXXXX0&1|0|1&0&1|0&1&0|1|1&0&1&1&1&1|0&1&1&0|1|1&0\\nXXXXXXX0|1|0|0|1|1|0&1&0|1&0|1&0|1&1&1&1|1&1&0|1&0\\nXXXXXXXXXXXXX1|0&0&1|1|1|1&0|0&1|0|1|1|0|0|0|0|0&0\\nXXXXXXXXXXXXXXXXXXXXXXXXXXX0&0|1|0&1|0&0&0&1|0&1|0\\nXXXXXXXXX0&1&0&1&0|1|0&0|1&0|0|0|0|1|1&1&1&0|0|1|1\\nXXXXXXXXXXXXXXXXXXX0|1|1&1&0|0|0|0&1|0|1|0|0|1&1&0\\nXXXXXXXXXXXXXXXXXXXXXXXXXXXXXXXXXXX0|1&0&1|1&1&1|0\\nXXXXXXXXX0|1|0|1|0|0|0|1&0&0&0&0|1|1|0|1&1&0|0&1|1\\nXXXXXXXXXXXXXXXXXXXXXXX1&0|1|0|0&1|1&1|0|1|1|0|0&1\\nX1&1|1|1|0|0|0&0|1|0&0|1|0&0|1|1&0&0|0&0&0&1|1&1|1\\nXXXXXXXXXXXXXXXXXXXXXXX0|1|0&1&1|0&1&0|0|0|0|0|1&1\\nXXXXXXXXXXXXXXXXXXXXXXXXX0|0|1|1|1|1|1&0&1|0&0&0&1\\nXXXXXXXXXXXXXXXXXXXXX1|0|0&0|0&0|1&0&1&1&1&1|0|0&0\\nXXXXXXXXXXXXXXXXXXXXX0|1&0|1&0|0|1|1&1&0|1&1|1&1|1\\nXXXXXXXXXXXXXXXXXXXXXXXXXXXXXXXXXXXXXXXXX0|0&0|1|0\\nXXXXXXXXXXXXXXXXXXXXXXXXXXXXXXXXXXXXX0|1&0|0&1|0&0\\nXXXXXXXXXXXXXXXXXXXXX0|0&0|0|1|0|0&0&0|1&0|0|1&1&0\\nXXXXXXXXXXXXXXXXXXXXXXXXXXXXXXXXXXXXXXXXX1&0|1|0|0\\nXXXXXXXXXXXXXXXXXXXXXXXXXXXXXXXXXXX1|0&0&1&0&1|0&1\\nXXX0|1|0&1&0&1&1&1&1&1|0|0|1&0&1&0&1&0&1&0&1|0|1&1\\nX1|1&0&1&1|1|1|1|0|1&0|1|1|1&1|1&1|0|1|0&0&0|1|0&0\\nXXXXXXXXXXXXXXXXXXXXXXX0|1&0|1&1|1|1&0|1|0&0|1&0&1\\nXXXXXXX0|0|0|1|0|1&1&1&1&1|1&0|1|1&0|0|1&1|1&1|0&1\\nXXXXXXXXXXXXX0|1&0&1&0&0&1&0&0&1|0|1&0|0|1&0|1&0&1\\nXXXXXXXXX0&1|0&1|1&0|1&1&0|1&0&0&0&1|0|1|0&1|1&0&1\\nXXXXXXXXXXXXXXXXXXXXXXXXX1&1&0|0&1|0|0&1|1&1|1&0|0\\nXXXXXXXXXXXXXXXXXXXXXXXXXXXXXXXXX0|0|1&1&1|0|1|0|1\\nXXXXXXXXXXXXXXXXXXX1|0|0|0&1&1|0&1&1&1&1&1|0|1|1|0\\nXXXXXXXXXXXXXXXXXXXXXXXXXXXXX0|1&0|1|1|1|1|1|1&0&0\\nXXXXXXXXXXXXX0&0|1&1|0&0|0|1|0&0&1|1&0&1|0&0&0|0|1\\nXXXXXXX1|0|1|0|0&0&1|0&1&0&0|0&1&0&1|1&1&0&1&0|0|1\\nXXXXXXXXXXXXXXXXXXXXXXXXXXXXXXX1|0&1|1|0&0&1&1|1&1\\nXXXXXXXXXXX1&0|0&0&1&1&0&0|0&0|0|0&0|0&0|0&0&1|0&0\\nXXXXXXXXXXXXXXXXX0|0&0|0&1&0&1&1&0|0&0&0&1&0&0&1|1\\nXXXXXXXXXXXXXXXXXXXXXXXXXXXXXXXXXXXXX0|1|0|1|0&0|0\\nXXXXXXXXXXXXXXXXXXXXXXXXXXX0|1|1&1|0|1|1&0&1&1|1&0\\nXXXXXXXXXXXXXXXXXXXXXXXXXXXXXXXXXXXXXXXXXXX0&1|0&1\\nXXXXXXXXXXXXXXXXXXXXXXXXXXXXXXXXXXXXXXXXXXXXXXXXX1\\nXXXXXXXXXXX1|1&1&1|0|1&0&0&1&0|1&1|1&1|0&1&0&0|0&1\\nXXXXXXXXXXXXXXX1|0&0&0|0&0&0&1&1|1|0|0&1|0&1|0&0&1\\nXXXXXXXXXXXXXXXXXXXXXXXXXXXXXXXXXXXXXXXXXXXXXXX1&0\\nX0&1|0&0|1|1|1|0&0&0|0|0&0&0&0|1&0&1&0|1|1&1&1|0&1\\nXXXXXXXXXXXXXXXXXXXXXXXXXXXXXXXXXXXXXXXXX0&0&0|1|0\\nXXXXXXXXXXXXXXXXXXXXXXXXXXXXXXXXXXXXXXX1&1&0|0|1&1\\nXXXXXXXXXXXXXXXXXXXXXXXXXXXXXXXXXXXXXXX1&1|0|0|0&0\\nXXXXXXXXXXXXXXXXXXXXXXXXXXXXXXXXXXXXXXXXXXX1|0&0|1\\nXXXXXXXXXXXXXXXXXXXXXXXXX1&0|0&0|1&1&1&0|0|0&0&1|0\\nXXXXXXXXXXXXXXXXXXX0&1&1&0|0|0|0|0|1|1&0|0&0&1&0&1\\nXXXXXXXXXXXXXXXXXXXXXXXXXXXXXXXXXXXXXXXXXXXXXXX1&1\\nXXXXXXXXXXXXXXXXXXX1&0|1|0&0|0&0&1&1&0|1|0&0&0&0&0\\nXXXXXXXXXXX0&1&0&0&1&1|0&1|1|0&1|1&0|0|1|0|0&1|0|0\\nXXXXXXXXXXXXXXXXXXXXXXXXXXX0|1|1&1|0|1&1&0&0|1&0|1\\nXXXXXXXXXXXXXXXXXXXXXXX0|1|0|0&1|1&0|1|1&0&1&0|0&0\\nXXXXXXXXXXX1&0|0&0&1&1|0&1&0&0&0&0|0|0|0&1&0&0&0|0\\nXXXXXXXXXXXXXXXXXXXXXXXXX1|1&1|0|0&1|0|0|0|0|1|1&1\\nXXXXXXXXXXXXXXXXXXXXXXXXXXX1&0&0&1|1&0&0|0&0|1&0|0\\nXXXXXXXXXXXXXXXXXXXXXXXXXXXXXXXXXXXXXXXXXXXXXXX1&1\\nXXXXXXXXXXXXXXXXXXXXXXXXXXXXXXXXXXXXXXXXXXX0|1&1&1\\nXXXXXXXXXXXXX1|0&0&0&0|0|1|0&1|1&1&1&1&1|1&1|0|1&1\\nXXXXXXX1|0|0|0&0|1&1&0|0|0|1|0|1|1|1|0&1|0&1&0&1|0\\nXXXXXXXXXXXXXXXXXXXXXXXXX0&1|0&0|1|0|1&1&0|1&0|1&0\\nXXXXXXXXXXXXXXXXXXXXXXXXXXXXXXXXXXXXXXXXXXXXX1|0&1\\nXXXXXXXXXXXXXXXXXXX1&0|1&1&1&0&1|1&1|1&0|1|0&0|1|0\\nXXXXXXXXXXXXXXXXXXX1|1|0|1&0&1&0&1&0&0&1&0|0|0|1|1\\nXXXXXXXXXXXXX0|1&1&0&0&0|0|0&1|0&0&0&0|1|1|0|1&0|0\\nXXXXXXX0|1|1&0&1&0&1&1|0&1&0|0&1&1&1|1|0&1|0|1|1|1\\nXXXXXXXXXXXXXXXXXXXXXXXXXXXXXXXXXXXXXXX1|0&1|1&0|1\\nX1&0&0|0&0|0&1|1&1|1&0|1&0|0&1&1&0&1&0&1|0&1&0&1|1\\nXXXXXXX1|1|1&0|0|0|1&0&1&1|1&0&0|0|1|1&0|0|0|0&0|0\\nXXXXXXXXXXXXXXXXXXXXXXXXXXXXXXXXXXXXXXXXXXXXX1|0|1\\nXXXXXXXXXXXXXXXXX0&1&0|0&1|0|1|1|1|0|0|1|1&1&1&0&0\\nXXXXXXXXXXXXX0&1&0&0&0|0&1&0|0&0&0&1&0&0&0&0|1&1|1\\nXXXXXXXXXXXXXXXXXXXXXXXXXXXXXXXXXXXXXXXXXXX0&0&0&0\\nXXX1&0|1&0|1|0&1|1|0|0&0|0&1|0|1|0&0&0|0&1|1&1&0|1\\nXXX1|1|0|0|0|1&1|1|0&0&1|1|1|0|0&0&0|0|1|0&0&0|0|0\\nXXXXXXXXXXXXXXXXXXXXXXXXXXXXXXXXXXXXXXXXXXXXX1&0&0\\nXXXXXXXXXXXXXXXXXXXXXXXXXXXXXXX1|1|1&0&0&0&1|1&0|1\\nXXX1&0&0|0|0&0|0|1&0|0&1|1|0&1&0|0|1|1&0|0|0&1|1|0\\nXXXXXXXXXXXXXXXXXXXXXXXXXXXXXXXXXXXXXXXXX1|1&1|0|1\\nXXXXXXXXXXX1&0&0&0&0&1|1&0&0&0&0&0&0|1|0|1|1&1&1&1\\nXXXXXXXXXXXXXXXXXXXXXXXXXXXXXXXXXXXXXXXXX1&1&1|1&1\\nXXXXXXXXX1|1&0&0&0|1&1|0|0|0&0|1|0&1&1|1&0&0&1|1|1\\nXXXXXXXXXXXXX1&0|0&0&0&1&1&1&1|1|1&0&1|0|1|0|1|0&0\\nXXXXXXX0&0|0|1|1|0&1|0&1|1|1&0&1|0|0&1&1|0|0&0|0|0\\nXXXXXXXXXXXXXXXXXXXXXXXXXXXXXXXXXXXXX1|1|0|1&0|1|1\\nXXXXXXXXXXXXXXXXXXXXXXX0&1|0&0&0|0&1&0&0&1&0|1|0|1\\nXXXXXXXXXXXXXXXXXXXXXXXXXXXXXXX1&0|1&0&0|0&0|0&0|1\\nXXXXXXXXXXXXXXXXXXXXXXXXXXXXXXXXXXX1&0&0&0|0&1|1&0\\nXXXXXXXXXXXXXXXXXXXXXXXXXXXXXXXXXXXXXXXXXXXXXXX1|0\\nXXXXX1&0|0&0&1|1|0|0|1&1&1&0&0|1&1|1&1|0|1|1&1&1&0\\nXXXXXXXXXXXXXXXXXXXXXXXXXXXXXXXXXXXXXXXXXXX1&1&0&0\\nX1&0&0&0&1&1|1|0|1&1|0&1|0&0|0|1&0|0|1&1&1&0|1&1&0\\nXXXXXXXXXXXXXXXXXXX0&1&1&0|0&0|0|1|0|0|0&0|0|0&0|1\\nX0&1&0|1|1|1&0&1&0&1&0&0&0&1&1|1&1&1&0|0&1&1&1&0|0\\nXXXXXXXXXXXXXXXXXXXXXXXXXXXXXXXXXXXXX1&0|1&0|1|1&0\\nXXXXXXXXXXXXXXXXXXXXXXXXXXXXXXXXXXXXXXXXXXXXXXXXX1\\nXXXXXXXXXXXXXXXXXXXXXXXXXXXXXXXXXXXXXXX1&1|0|1|0|1\\nXXXXXXXXXXXXXXXXXXXXXXX1|0|1|0|0|0|0&0&0&1|0&0&0&1\\nXXXXXXXXXXXXX0&0&1|0&0&1&0|1&0&1&0&0|1|1|0|0|0&1|0\\nXXXXXXXXXXXXXXXXXXXXXXXXX0|0&0|0&0|0|0|0|1|1&1&1&1\\nX1&1&0&1&0&1|0|0|1|1|1|0&0&1&0|1&0|0&0&1&0|0|0&0|1\\nXXXXXXXXXXX0|1&1&1|1&0&1|0|0|1|1&1&1|1|1&1|0|0|1&1\\nXXXXXXXXXXXXXXXXXXXXXXXXXXXXXXXXXXXXXXXXXXXXX0&1&0\\nXXXXXXXXXXXXXXXXXXXXXXXXXXXXXXXXXXXXXXXXXXXXX1&0|1\\nXXXXXXXXXXXXXXXXXXXXXXXXXXXXX0|0|0&0&1&0|0|1&1&1|1\\nXXXXXXXXXXX0|0&0&1&0|0&0&1&0|1&1|0&0|0&0|0&0&1&0&0\\nXXXXXXXXXXXXXXXXXXXXX0|1&1&1&1&1|1|0|1|0|1&0&1|0&1\\nXXXXXXX1|1&0|0&0&0&1|1&0|0&1|0&0&1|1|0|1|1&0|1|0|1\\nXXXXXXXXXXXXXXXXXXXXX1&0|0&1&1&1&1&1&0&0&1|0|0|1|0\\nXXXXXXXXXXXXXXXXXXXXXXX0&1|1&1&1|0|1&0|0|0&1&1|0|0\\nXXXXXXXXXXXXXXXXXXXXXXXXXXXXXXXXXXXXX0|0|0&1&0|0&1\\nXXXXXXXXX1&0&0|0|0|1|1&0|0|1|1|0|1&0|1&1|1|0&1|1|1\\nXXXXXXXXXXXXXXXXXXXXXXX0|0&1&1|1|1|1&0|1|0&0&0&0&1\\nXXXXXXXXXXXXXXXXXXXXX1&0&0|0|1|0|0|1|0&1&0|0|1|0&1\\nXXXXXXXXXXXXX0&1|1&1&1&1&1|0|0|1&1|0|0&0|1|1&1|1|0\\nXXXXX1|0|0|1&1&1|0&1&1&1&0|1|0&0&0&0&1|0|1&0|0|1&0\\nXXXXXXXXXXXXXXXXXXXXXXXXXXXXXXXXXXX1&0&0&1&0|1&0&1\\nXXXXXXXXXXXXXXXXXXXXXXXXXXXXXXXXXXXXXXXXXXX1&1&1|0\\nX1|0&0&1&1|1&1&0|1|0&1&0&0|0|1&0&1&0&1|0&0|1|1|1&0\\nXXXXXXXXXXXXXXXXXXXXXXXXXXXXXXX0|1&1&0&1&0|0&0|0|0\\nXXXXXXXXXXXXXXXXXXXXXXXXXXXXXXXXXXXXXXXXXXX0|1|0&1\\nXXXXXXXXXXXXXXXXXXXXXXXXXXXXXXXXXXXXXXX1&0&0&0&1&1\\nXXX0|0&0&0|1|1&0|0&1|0|1&0|1|0&0|0|0|0|1&0|1|1|0&0\\nXXX1&0&0&0&0&1&0&0&1&0&0&0|1&0|1|1|0&1|0|1&1&1|0|1\\nX0&1&1&0&0&0|0&1|0&0&0&1|1&0&1&0|0&1&1|0|0|1&1&0&1\\nXXXXXXXXXXXXXXXXXXXXXXXXX1|1&0&1&1&0|0|0&1&0|1|1&1\\nXXXXXXXXXXXXXXXXXXXXXXXXXXXXXXXXXXX0&1|0|1&1|1&0&1\\nXXXXX0&0&1|0&1|0|1|0&0&0|0&1&1&1|1|0&1&0|0|0&0&1|1\\nXXXXXXXXXXXXXXXXXXXXX1&0|0&0|1|1&1|0&0|1|0|1&1|0|0\\nXXXXXXX0&1|1&1&0&0|1|0|0|1&0&1&0&0&1&1|1|1|0|0|1|1\\nXXX0&0&1|1&0&1|1|1&0|0|1&1&1&0&0&1|0|1&0&0|1&0|1|1\\nXXXXXXXXXXXXXXXXXXXXXXXXXXXXXXXXXXX0|0|0|0&0|0&1&1\\nXXXXXXXXXXXXXXXXXXXXXXXXXXXXXXXXXXXXXXXXXXXXXXXXX1\\nX1|1|0&0&1&0&0|0&0|1&0&1&1|1|0|1|1&0&1&0&0&0|0&1|1\\nXXXXXXXXXXXXX1|0&1|1&1|1&1&0|1&1&1|1|1&1|0&0&0|1|0\\nXXXXXXXXXXXXX1|0|0&0|0&1|1&0|1|0|0|1|1|1&0|1&1|1|0\\nXXXXXXXXXXXXX1|1&1&0|0&1&1&1|0|1&1&1&1|0&0&1&1&0|1\\nXXXXXXXXXXXXXXXXXXXXXXXXXXXXXXXXXXXXXXXXX0|0|0&1&0\\nXXXXXXXXXXXXXXXXXXXXXXXXXXXXXXXXXXX1&0&1&1&1&0|0&1\\nXXX0&0&0|1&0|1|0&1&1|1|0&1|0|1&0&1|1|0|0|1&0|0&1|1\\nXXXXXXXXXXXXX0|0|0&1|0&1&0&0&1|0|1&0|1&1|0&1&0|0|0\\nXXXXXXXXXXXXXXXXXXXXXXXXXXXXXXXXXXXXX0&0|0&0|1|0|0\\nXXXXXXXXXXXXX1|1|0&0|0&0|1&0|0&0|0&1&0&0&1&1|1&1&0\\nXXXXXXXXXXXXXXXXXXXXXXXXXXXXXXXXXXXXXXXXX1&0&1|1&0\\nXXXXXXXXXXXXXXXXXXXXXXXXXXXXXXXXXXXXXXXXXXX0|0&1&1\\nXXXXXXXXXXXXXXXXXXXXXXXXXXXXXXXXXXXXXXXXX0&1|1|1|1\\nXXXXXXXXXXXXXXXXXXXXXXXXXXX1|0|0|1|0|1&0|0|0|0|1&0\\nXXXXXXXXXXXXXXXXXXXXXXX1|0|0&0|1|1&1|1&1&0|0&0&0|1\\nXXXXXXXXXXXXXXXXXXXXXXXXXXXXXXXXXXXXXXXXXXXXXXXXX1\\nXXXXXXXXXXXXXXXXXXXXXXXXX0|1|1|0|1&0&1&0|0|1|1|1&1\\nXXXXXXXXXXXXXXXXXXXXXXXXXXXXXXXXXXXXXXX1|1|1|1|0&0\\nX0&1&0&1&1&1|1&0&0&1|1&1&0|1&0|0&1|0|0|1|1|0|0&1&1\\nXXXXXXXXXXXXXXXXXXXXXXXXXXXXXXXXXXXXXXXXXXXXXXXXX0\\nX0&1|1&1&1|1|1|1&1|1&1|0|0|0&0&1|1&0&0|1|0&0|1|0&1\\nXXXXXXXXXXX0|1&0|1|1|1|0&1|0|0|0&0&1|1|0&1|0|1&1&0\\nXXX1&0&1|0&1&0&1|0&0&1|0|0|0|1&0&0|0|0&0|0|1|0|1|1\\nXXXXXXXXXXXXXXXXXXXXXXXXX0&0&1&0&0&1|1|1|1|1|1|0&1\\nXXXXXXXXXXXXXXXXXXXXXXXXXXXXXXXXXXXXXXXXXXXXXXX0|1\\nXXXXXXXXXXXXXXX1&0&0&0|1|0&1|0|1|0|0|1|1&0&0|1|0&0\\nXXXXXXXXXXXXXXX1&0&1&0&1&1|1&1|1|1&0&0&0&0|1&0&1|0\\nX0|1&1&1|0&0&0&1&0&1&1|1&0|1&1|1|1|1&1&1&0|0&0&1&1\\nXXXXXXXXXXXXXXXXXXXXXXXXXXXXXXXXXXXXX0|0&0&0|1|0|0\\nXXX1&1|1|1|1&0|1&1|0|0&0&0&1&0&1|1&0&1|1|0&1|0&0|0\\nX0&0|0|0|1&0&1|0&0&0&0|1|0|0&0&0|1|0&1|1|0|0&1|1&0\\nXXXXXXXXXXXXXXXXXXXXXXXXXXXXXXXXXXXXXXX0|0&0|1|1|1\\nXXXXXXXXXXXXXXXXXXXXXXX0|0|1|1|1&1|1&0|1|1&1|0&0|1\\nXXXXXXXXXXX1&1|1|0|1|1&1&0|0|1|0&1&0&1|1|1&1|0&1&1\\nXXXXXXXXXXXXXXXXXXXXXXXXXXX1|0|1|0|0|1&1&1|1&1|1&0\\nXXXXXXXXXXXXXXXXXXXXX1&0|1|1&1|1|0|0|1&1&1|0|0|1|1\\nX1&0&0&0&0&1&0|0&1&0|1&0|1|0&1|1|0&1|1|0&0|0|1&0|1\\nXXXXXXXXXXXXXXXXXXXXXXX0&0&0|0|1|1&0&0|1&0&0|0|0&0\\nXXXXX1&0&0|0|1|0&0|0&0|1&0&1|0&0|1&1|0|1|0|0|0|0&0\\nXXXXXXXXXXXXXXXXXXXXXXXXXXXXXXXXXXXXXXXXXXXXXXX1&1\\nXXX0&1|1&0|1|1&1|0&1&0|1|0&1&1&0|0|1&1|1|1|0&0|0&0\\nXXXXXXXXXXXXXXXXXXXXXXXXXXXXXXXXXXXXXXXXXXXXXXX1&0\\nXXXXXXXXXXXXXXXXXXX0&0&1|0|1&0&1|1|1|1&1|1|0|1&1&1\\nXXXXXXXXXXXXXXXXXXXXXXXXXXXXXXX0&0|0|1|0|1&1&0&1&0\\nXXXXXXXXXXXXXXXXXXXXXXXXXXXXXXXXXXXXXXXXXXXXXXXXX0\\nXXXXX0|0&0&0&1|1&0&0&1&1|1&1&1|1|0|0|1&0&0&1|0&0|1\\nXXX0&0&0&1|0|0|1|1&0|1&1&0&1&1&0&1&0&0|0&0|1&1|1|0\\nXXXXXXXXXXXXXXXXX0|1&1&1&0|0|0|0&0&1|0&1|0|1|0|1&1\\nXXXXXXXXXXX1|1&1|0&0|1&0&0|1|1|1|1&0&1|1|1&1&0|1|0\\nXXXXXXXXXXXXXXXXXXXXXXXXXXXXXXXXXXXXXXXXXXXXXXX0&1\\nX0&0|0&1&0&0|1|1&0&0|1|0|0|0|0&0&1&0&1&0|0&0|1|0&1\\nXXXXXXXXXXXXXXXXXXXXXXXXX1|1|0|0|0|0&0&0|1|1&0|0&0\\nXXXXXXXXXXXXXXXXXXXXXXXXX0|0&1|1&0&1&1&1|1&0&0&0&0\\nXXXXXXXXXXXXXXXXXXXXX0&1|1&0|0|0&0|1|1|0|0|0&1&1|1\\nXXXXXXXXXXXXXXXXXXXXXXXXXXXXXXX0&1&1&1&1&0|0|1&1&1\\nXXXXXXXXXXXXXXXXXXXXXXXXX0|1|0&1&1|1|0|1&0|1|1|0&0\\nXXXXXXXXXXXXXXXXXXXXXXXXXXXXXXXXXXXXXXXXXXX0&1&0|0\\nXXXXXXXXXXXXXXXXXXXXXXXXXXXXXXXXXXXXXXXXXXXXX0&0&1\\nXXXXXXXXXXXXXXXXXXXXXXXXXXX1|0&1&0|0|0|1&0|0&0|0&1\\nXXXXXXXXX1|0&0&0|0|1&1&1|0|1&1&0&1|1&1&0|1|1&0&0|1\\nXXX0|1&1|1|0&0|0&0|1&0|1&0&1&1&0|0&0|0&0|0|1&0|0|1\\nXXXXXXXXXXXXXXXXXXXXXXXXXXX0&0|1&1&0&0|0|1&1&1|0&1\\nXXXXXXXXXXXXXXXXXXXXXXXXXXXXX1|0&1|1|0&1|0&1&1|0|1\\nX0|0&1&1|0|0|1|1&1|0&1|0&1&0|1|0|1|1|1|0|0|1&1|1&0\\nXXXXXXXXXXXXXXXXXXXXXXXXXXX0&1&1|1|1|1&1|1|1&1&0&1\\nXXXXXXXXXXXXXXXXXXXXXXXXXXXXXXXXXXXXXXXXXXXXX0&0&0\\nXXXXXXXXXXXXXXXXXXX1&0|1&1|0&0&0|1&0|0&1|1|1&0|0|1\\nXXXXXXXXXXXXXXXXXXXXXXXXXXXXXXXXXXXXXXXXXXXXX0&0&0\\nXXXXXXXXXXXXXXXXXXXXXXXXXXXXXXXXXXXXXXXXXXXXX1|1&0\\nXXXXXXXXXXXXXXXXXXXXXXXXXXXXXXXXXXXXXXXXXXXXX0&0&1\\nXXXXX1|1&1|0&0|0&0|0&0&0|0|0&0|1|0|0|1&0|0|1&1|1|0\\nXXXXXXXXXXXXXXXXXXX0|1|0|0&1&0&1|0&1&1&0|1&1|0|0&0\\nXXXXXXXXXXXXXXXXXXXXXXXXXXXXXXXXXXXXXXXXXXXXX0&1&0\\nXXXXXXXXXXXXXXXXXXXXXXX0&1|1&1&0&0|0|0&0|1&0&0&0&0\\nXXXXXXXXXXXXXXXXXXXXXXXXXXXXXXXXXXXXXXXXX1|0|1&0|0\\nXXXXXXXXXXXXXXXXXXXXXXXXXXX1&1|1|1&0&0&0|1&1&1&1&0\\nXXXXX0|1&0|1&0&0|1|1|1|1&0|1&0|0|1&1&0|1|0&1&1|1&0\\nXXXXXXXXXXXXXXX1|0&1|1&1|1&0|1&0&0&1|0&0&0|0&1|0&0\\nXXX0&0|1&1&1|0&0|1|1|1&1&0|1&0|1|0|0&1|1&1|1|1&1&1\\nXXXXXXXXXXXXXXXXX1|0|1&1|0&1&0&1&1|1&1|0&0|1|1&1|1\\nXXXXXXXXXXXXXXXXXXXXXXXXXXXXX1&1|1|0&1&0|1&0&0&1|1\\nXXXXXXXXXXXXXXXXXXXXXXXXXXX0&0|0&0|1&1|0|0&0|0|1&0\\nXXXXXXXXXXXXXXXXXXXXXXXXXXXXXXXXXXXXXXX1|0&0&0&0&1\\nXXXXXXXXXXXXXXXXXXXXXXXXXXX1|0&0&1&0|1&1|0&1|0&1&0\\nXXXXXXXXXXXXXXXXX1|1|0&1&0&1|1&0|1&1&1&0&0|0|1|0|0\\nX0|1&0&1&1|1|0&1&0&0&1&1&0&0|1|1|0&0&1|1|1&1|0|1|1\\nXXXXX0|0|1|1&1&0|0|1|0|1&1|0|0|1&1&1|1|1|0|0&0&1&0\\nXXXXXXXXX0|1&0|0&0|0&1|0&1&0|0|1|0|0|1|1&0|0&1&0&1\\nXXXXXXXXXXXXXXXXXXX1&1&0&0&1&1|1|0|1&0|1&1|0&0&0&0\\nXXXXXXXXXXXXXXXXXXXXXXXXXXXXXXX0&0|1&0&0|1&1|0&1&1\\nXXX0&1|0|0&1&0|1&1|0|1|0|1|1&0|1&1|0|1|1|1|0|0&1|0\\nXXXXXXXXXXXXXXXXX0|0|0|0&0&1|0|0|1&0|1&1|0&1|0|1|1\\nXXX1|1&1&0&0|0|0|0|0&0&1&1&0|1|1&0&1&0|0|0&1&1|0|0\\nXXXXXXXXXXX0&1&1&1&1&0|0&1&1&0|0&0&1|1|1|0&1|0|1|1\\nXXXXXXXXXXXXXXXXXXXXXXXXXXX0|1&1|1&1|0&1&1|1|1&0&1\\nXXXXXXXXXXXXXXXXXXXXXXX0|0|0|0&1&1|0&0&0|0|0&0&1|0\\nXXXXXXXXXXXXXXXXXXXXXXX0|0|1|0&1&0|1|0&0|1&0|1|0&1\\nXXXXXXXXXXXXXXXXXXXXXXXXXXXXXXXXXXXXXXXXXXXXXXXXX1\\nXXXXXXXXXXXXXXXXXXXXXXXXXXXXXXXXXXX1|1&0|1&1|1&1|1\\nXXXXXXXXXXXXXXXXXXXXXXXXXXXXXXXXXXXXXXX1|1&0&1&0|0\\nXXXXXXXXXXXXXXXXXXXXXXXXX0&1|1&1&1&1&0|1|0&0|1|1&0\\nXXXXXXXXXXXXXXXXXXXXXXXXXXXXXXXXXXX0|0&0&1&1|1&0&1\\nXXXXXXXXXXXXXXX0|1&1&1&1|0|0|0&1&0&1|1&1|1|1&0|0&1\\nXXXXXXXXXXXXXXXXXXXXXXXXX1|1|0&1&0&0|1|1&1&0&0|0|1\\nXXXXXXXXXXXXXXXXXXXXXXXXXXX1|0|0|0|1|1|1|1&0|0|1&1\\nXXXXXXX1&0|1|1&1&0&0&0&1|0&0&0|0|1|0|1|0&0|0|0|1&1\\nXXXXXXXXXXXXXXX0&1&1&0|0&0&0&0|1&0&1&0|0&1&0|0&0|0\\nXXXXXXXXXXXXX0|1|1&1&0&1&1|1|1|0&1|0|0&0|1&1|0|0|1\\nXXXXXXXXXXXXXXXXXXX0&0|0&1&1|1&1&0|0|0&1&1|1|0&1&1\\nXXXXXXXXXXXXXXXXXXXXXXXXXXX0|1|1|0|0|0|1&1&1&0&1&1\\nX0|0|1&1|1&1&1&1|1&0|0|1|1&1|1|0&0|0&0&1&0&1|0&1&1\\nXXXXXXXXXXXXXXXXXXXXXXXXX0&0&0|0|0|0&0|0&1|1&1&1&1\\nXXXXXXXXXXXXXXXXXXXXXXXXXXXXXXXXXXXXXXX1&1|0|1|0|1\\nXXX0&0|0&1|0&0&1&1|0&0|1&1&0&0|0|0|0&0|1&0|0|0&1|0\\nXXXXXXXXXXXXXXXXXXXXXXXXXXXXXXXXXXXXXXXXXXXXX1&0&0\\nXXXXXXXXXXXXXXXXXXXXXXXXXXXXX0|0|1&0&1|1|1|1&1|1|1\\nXXXXXXXXXXX0|1|0&0|0|0|1&0&0|1&0&1|1|1|1|1|1|0&1|0\\nXXXXXXXXX0|0&0|0&0|1&1|0&0|0&0|0|1|1|1&0|0&0&0|0&0\\nX0|1&0|1&1|0|0|0&1&1|0|0&0&1|1&0|0&0&1&1&1|1|1&1&1\\nX1|0&0&0|1&0|1&0&1|0|0&1|0&1|0&0|1|0|1&1|0&1|1|0|1\\nXXXXXXXXXXXXXXXXXXXXXXXXXXXXX0|0|1|0|0|0|0|1&1|0&1\\nXXXXXXXXXXX1|1&0&0|0&0&1&0|0|1|0|1|0|1&0|0&1|0&1&0\\nXXXXXXXXXXXXX1|1|0|0|1|0|0&0|1&0&1|0&1&0&0|1|0|1|0\\nXXXXXXXXXXXXXXXXXXXXXXX0&1|1|1|1|1|0&0|0|1|0&0&0&0\\nXXXXXXXXXXXXXXXXXXX0&0|1|0&0|0|1&0&1|0&1|1|1|0&0|1\\nXXXXXXXXXXXXX0&0&1|0&0&1&0|0|0&1|1&0|0&0|1|0&0&1|1\\nXXXXXXXXXXX1&0&1|0|0|1&1&1&0&1|0&1|1&0&1|0&1&0|0&1\\nXXXXXXXXXXXXXXXXXXXXXXXXX1|1&1&0&1|0&1|1|0|1|0&1&1\\nXXXXXXXXXXXXX1&0|0|1&0&1|1&0|0&0&1&1|0|0&1&0|0|0|0\\nXXXXXXXXXXXXXXXXXXXXXXXXXXXXXXXXXXXXXXXXXXXXX1&1|1\\nXXXXXXXXXXXXXXXXXXX1|1&0&1&0&1|0|0&0|1|0&0&1&0|0|0\\nXXXXXXXXXXXXXXXXXXXXXXXXXXXXXXXXXXXXXXXXXXXXX1|1&0\\nX0&0&1|0&0|1&0&1|1&0|0&0&0|0|1&0|0&1|1|1&0|0&1&1&0\\nXXXXXXXXXXXXXXXXXXXXXXXXX1|0&0&1|1&1&1&1&1|1&0|1|0\\nXXXXX1&0|1&0|0|1&0|0|0&1|0&0&1|1&0|0|1|0&0|1|0&1|0\\nX0|0|1|1&0&0|1&0|1&0&0&0|0&0&1&0&1|0&0&1|1|0&1&0&0\\nXXXXXXXXXXXXXXXXXXX1|0&0|0|1&0|1|1&0&1|0|1|1|1|1&1\\nXXXXXXXXXXXXXXXXXXXXXXX0|1|1&0|1|0&1&0|0|1|1&1&0|1\\nXXXXXXXXXXXXXXXXXXXXXXXXXXXXX1|0&1&0|0&1|1&1|0|0|1\\nXXXXXXXXXXXXXXXXXXXXXXXXXXXXXXXXX1|0|0|1&1|0|0&0&0\\nXXXXXXXXXXXXXXXXXXXXXXXXXXXXX0|0|1|1|1|0|1&0|0&0|1\\nXXXXXXXXXXXXXXXXXXX0|0|0&1&0&0&1&0|0&1&1&1&0|0|0|0\\nXXXXXXXXXXXXXXXXXXXXXXXXXXXXXXXXXXXXXXX1&0&0&0|0&0\\nXXXXX1|0&0&0&0|1&1|0|0&1|0&0|0|1&1&0|1&0|1|1&1|1&1\\nXXXXXXXXXXXXXXXXXXXXXXXXXXXXXXXXXXXXX1&1&0|1&0&0|0\\nXXXXXXXXXXXXXXXXXXXXXXXXXXXXXXXXXXX1&0&0|0&0&0|1|1\\nXXXXXXXXXXXXXXXXXXXXXXXXXXXXXXXXX0|0|1|1&0|1|0|0|1\\nXXXXX1&0|0|0|0|1|0&0&0&1|0|1|1&1&0|0&0&1&1|1&1&1|0\\nXXXXXXXXXXXXXXXXXXXXXXXXXXXXXXXXXXXXXXXXXXXXX1&1|1\\nXXXXXXXXX0&1&0&1&0&0&1&1|1|0|1&1&1|1&1|0|0|1&0&1&1\\nXXXXXXXXXXXXXXX1&1|0&0&1|0&0&0|0&1|0&0&1&0|0|1|1&0\\nXXXXXXXXXXXXXXXXXXX1|1|1&1|1&0|1&0&0|1&0|0|0|0&0&0\\nXXXXXXXXXXXXXXXXXXXXXXXXXXXXXXXXXXXXXXXXX0|1|1&0&0\\nXXX0|0|1|0&0&0|0|1&0&0|0|0&0|1|1|1|1|1|1&1|0|1&1&1\\nXXXXXXXXXXXXXXXXXXXXXXXXXXX0&0&1|1&0|1&0|0&1&1&0|1\\nX0&0&1&0|1&1&0|0&0&0&0&0|0|0|0|1|1&0|0&0&0&1&0&1|0\\nXXXXXXXXXXXXXXXXXXXXX0&1|1|0|0&1|1&1&0|0|0&0|0|0&1\\nXXXXXXXXXXXXXXXXXXXXXXXXXXXXXXXXXXXXXXXXX0&0&0&0|1\\nXXX0|1|0|1|1|0&1&0|0|1&0&1|1|1|0&0|0|1|0|0|1&0&0|0\\nXXXXXXXXXXXXXXXXXXXXXXXXXXXXXXXXXXXXX1&0&0&1|0&1|1\\nX1&0|1&0|1|0&0|1&1|0&0&0|0&1&0&0|0|1|0|0|0&0|0|1|1\\nXXXXXXXXXXXXXXXXXXXXXXXXXXXXXXXXXXXXXXXXXXXXXXX0|0\\nXXXXXXXXXXX1|0|0|0|1|1&0&1|0|1|1&1&1&1|1&1&1&1|1|0\\nXXXXX0|1&1|0&1&1|1|1|1|0|1|1&0&1|0&1&1&0&1|1|0&1|0\\nX1|0|1&1&0&0|1&1&0|0|0&0|0&0|1&0&0&1|1|1&0&1|0&1|1\\nXXXXXXXXXXXXX0&1|0&1&0|1&1&1&1|1|0|1&1|0|1|1|1&0|1\\nXXXXXXXXX1|1&1&1|1&0|1&0|0|1&0&0|1|0&1&0&1|1&0|0|1\\nXXXXXXXXXXXXXXXXXXXXXXXXXXXXXXXXXXXXXXXXXXXXXXXXX1\\nXXXXXXXXXXXXXXXXXXX1|0|0|0|1|0|1&0&1|0&0&1&1&1|0&1\\nXXXXXXXXXXXXXXXXXXXXXXXXXXXXX0|1|0&0&0|1|0|1|0|0&0\\nXXXXXXX1&1|1&0|0|0&0|1&0&1|0|1|1|0&0&0|1&0|0|1&1|1\\nXXXXXXXXXXXXXXXXXXXXXXXXXXXXXXXXXXXXXXX0|1|1|1|1|1\\nXXXXXXXXXXXXXXXXXXXXXXXXXXXXXXXXXXXXXXXXXXXXX0&1&0\\nXXXXXXXXXXXXXXXXXXXXXXXXXXXXXXXXXXXXXXXXX0|1|1|0&1\\nXXXXXXXXXXXXXXXXXXXXXXXXXXXXXXX0&0|0|1|0&1|1&1|1&1\\nXXXXXXXXXXXXXXXXXXXXXXXXXXXXXXXXXXX0&1|1&1|1|1|1|1\\nXXXXXXXXXXXXXXXXXXXXXXXXXXXXXXX0|1&0&0|0&1&1|0|1|1\\nXXXXXXXXXXXXXXXXXXXXXXXXXXX0&0|1&0|1&0&1&1&1&0&1|1\\nXXXXXXXXXXXXXXXXXXXXXXXXXXXXXXXXXXXXXXXXX1&1&0|1|0\\nXXXXXXXXX0&1&1&1|1&0&0&1|0&0|0|1&0&0&0&0|0&0&0&1&1\\nXXX1|0|1|0&0|1&1|1&1|1&0&0&1|1|0|0|1|0|1&0&1|1|1|1\\nXXXXXXXXXXXXXXXXXXXXXXX1&1&0&0|0|1&0&0|0|1&0&0|0|1\\nXXXXXXXXXXXXXXXXXXXXXXXXXXXXXXXXXXX1|1|1|0&1&1&0|0\\nXXXXXXXXXXXXXXXXXXXXXXXXXXXXXXXXXXXXXXXXXXXXXXXXX0\\nXXXXXXXXXXXXXXX0&1&0|0|1&0|0&1&0|0&1|0|0|0&1|0&0|1\\nXXXXXXXXXXXXXXXXXXX0|0&0|1|1|1|0|1&1&1|0&0&1|1&0&1\\nXXXXXXXXX1&1&0&0|1|0&1|0&1|0|1|0|1&0|1|1|0&0&0&1&0\\nXXXXXXXXXXXXXXXXXXX0&0|0|0&0&1|1|0|0&1&1|1|1|0&0|0\\nXXXXXXXXXXX1&1&1|0|1&0&0&0|1|1&1|0|0|1&1|0&1&1|1|1\\nXXXXXXXXXXXXXXXXX0|1|1&1&0|0&1|1&1&0|1&1|0&1|0&0|0\\nXXXXXXXXXXXXXXXXXXXXXXXXXXX1&0|1&0&1&0|0&1&0|1|1&0\\nXXXXXXXXXXXXXXXXXXXXXXXXXXXXXXXXXXXXXXX0|1|0&1&1&0\\nXXXXXXXXXXXXXXXXX1&0&1|0|1|0&1|1|0|1|0&0&1&0&0|0|0\\nXXXXXXXXX0|0&0&1|0|0&1|1|0|0&0|0&0|1&1&0|1|1&1|0|0\\nXXXXXXX1|0&1|1&0&1&0|1|1|0|1|0&1|0|0&1|0&1&0&0&0&1\\nX1&1|0&1&1&1|1|0&1|1&0&0&0&1|0|0&0|0&0|1|0|0|0|0&0\\nXXXXXXXXXXXXXXX0&0|0&0&1|0|1|0|0&0|0&0|1|0|0&1&1&1\\nXXXXXXXXXXXXXXXXXXXXXXXXXXXXXXXXXXXXXXXXXXX0|1|1&1\\nXXXXXXXXXXX0|0|0&0&1&0&0&0&0|1|1&1&1&1&0&0&0|1|1|0\\nXXXXXXXXXXXXXXXXXXXXXXXXXXXXX0&1&1|1&1|1&1|1&1|0&1\\nXXXXXXXXXXXXXXXXXXX0&0|0|1&0&0&1|1|1&1|0|0&1&1&0&1\\nXXXXXXXXXXXXXXXXXXXXXXXXXXXXXXXXXXXXXXXXXXXXX1|0|0\\nXXXXXXXXXXXXXXXXXXXXXXXXXXXXXXXXXXXXXXXXXXXXXXX0&0\\nXXX1&0|1&0|1|1&1|1&1&0|0&0|0&1&1|1&1|0|1&0|0|0|0|1\\nXXXXXXXXXXXXXXXXXXXXXXXXXXX0|0&1|0|0&0|1&1&1|0|0|0\\nXXXXXXXXXXXXXXXXXXXXXXXXXXXXXXXXXXXXX1&1|0&1&0|1|1\\nXXXXXXXXXXXXXXXXXXXXXXXXXXXXXXXXXXXXXXXXXXXXXXXXX1\\nXXXXXXXXXXXXXXXXXXX1&1|0|1|0|1&1|0|0|1|1&1|0&1&0&0\\nXXXXXXXXX0&1&0&1|1|1|0|1&1|1|1|0|0|0|0&1&0&0&0&1&0\\nX1|0|0|0|0|1&0|1&1&0|1|1|1&0&0|1|1|1|0&1&0&1|1|0|1\\nXXXXXXXXX0&1|1|1&0|0|1|1|1&1|1|0&1|1&1&1&0&0&1&0&1\\nXXXXXXXXXXXXXXXXXXXXXXXXXXXXXXXXXXXXXXXXX1|0&1|1&1\\nXXXXXXXXXXXXXXXXXXXXXXXXXXXXXXXXXXX0&0&0|1|0|1&0&1\\nXXXXXXXXXXXXXXXXXXXXXXXXXXXXXXXXXXXXX0&1&1|0|1|1|0\\nX1&1|0|0|1|1|0|0&1&1|1&0|0&1&0&1&0&1|1&0|0&1|1|1&0\\nXXXXXXXXXXXXXXXXXXXXX0|1|0|1&0|0|0|0&1|0&1&0&0&1|1\\nXXXXXXXXXXXXXXXXXXXXXXXXXXXXXXXXXXXXXXXXXXXXX0|1&1\\nXXXXXXXXXXXXXXXXXXXXXXXXXXXXXXXXX0&0|0|0&1|1&1|1|1\\nXXXXXXXXXXXXXXXXXXXXXXX0&0|0&1&0&1|1&1&0|1&1&1|0&0\\nXXXXXXXXXXXXXXXXXXXXXXXXXXXXXXXXXXXXXXX0|0|1&1&0|1\\nXXXXXXXXXXXXXXXXXXX0|0&1|0|1|1|1&1|0|0|0|1|1|1|1&1\\nXXX1&1|0|1|0|1|1|0&0&1|0|0|1|0&0&1|0&1|1|1|1&0&1|0\\nXXXXXXXXXXXXXXXXXXXXXXXXXXXXXXXXXXXXXXXXX1|1&0&0&1\\nXXXXXXXXXXXXXXXXXXXXXXXXXXXXXXXXXXXXXXXXXXXXX0|0&1\\nXXXXXXXXXXXXXXXXXXXXXXXXXXXXXXXXXXXXXXXXX1|1|0&0&1\\nXXXXXXXXXXXXXXXXXXXXX0&0&1|0&1&1&0&0|0&0|1&1&0&0&0\\nXXXXXXXXXXXXXXXXXXXXXXXXXXXXXXX1&1&1|1|1&1&0|0|0&1\\nXXX1&0&0&1&1|1|1|1&1|1|1|0|0&1&0|0&1|0|0|1|1&0|0|0\\nXXXXXXX0|0&0&1|0&0&0|1|0&0&1|1|0&1|0&1&0&0&0&1&0|1\\nXXXXXXXXXXXXXXXXX1&0|1|0|0|1|0|0&1&0&1&1|0&0&1|1|0\\nXXXXXXXXXXXXXXXXXXX0&1|1|0&1&1|0&1|0|1&1&0&1&1&1|1\\nXXXXXXXXXXXXXXX0|1|1|1|1&1|0&0&1&0&0|0&1|0&1&1|1&1\\nXXXXX0&1|1&0&0&0|0&0&0&0&1|1|1&0|1|1|1&0|0&1|1&1&1\\nXXXXXXXXXXXXXXXXXXXXXXX1|1|0|0|0&1|0&1&1&1&1|0|1|1\\nXXXXXXXXXXXXXXXXXXXXXXXXXXXXX1&0|0&0|0&0|1|1&0|1|1\\nXXXXXXXXXXXXX0|0&0|0|1|1&1|1|1|0&0|1|0&0|0&1&0|1|1\\nXXXXX1|1|0&0&0&0&1|0&0&1|0|1&0|0&0&0|1&0|0&0&1|0|0\\nXXXXXXXXXXXXXXXXXXXXX0|1&1|0&0|0&0|0&0&1&0|0|0|0&1\\nXXXXXXXXXXXXXXXXXXXXXXXXX0|0&0&0&1&1&0|0&1|1&0&0|1\\nXXXXXXXXXXXXXXXXX0|0|1&0|0&1|1&0|0|1&1&0&0|1&0&0&1\\nXXXXXXXXXXXXXXXXXXXXXXXXXXX0|1&0|1&1|0&0|0&0&1|0&1\\nXXXXXXXXXXXXXXXXXXXXXXXXXXXXXXXXXXXXXXXXX0&1&0|1|1\\nX0|0|1&1&1|1|0|0|0&0&0&0|1|0&0&0&0|0&1&1|0|0&0|0&1\\nX1&0|0&1|0&0&0|1&1|1&0|1&1&0&0&1|0|0|0&0&1&0&1|1&1\\nXXX1|0&1&1&1|0&0&0&0&1|0&1|0|0&1&1|1|0|1&1|1|0|1|0\\nXXXXXXXXXXXXXXXXXXXXXXXXXXXXXXXXXXXXXXXXXXXXXXX0&1\\nXXXXXXXXXXXXXXXXXXXXXXXXXXXXXXXXXXXXXXXXX0&0|1|0|1\\nXXXXXXXXXXXXXXXXX0|0|0|1&0|0|0|0|1&0|0&1&0&0&0|1&0\\nXXXXXXXXXXXXXXXXXXXXXXXXXXXXXXXXXXX0&0|1|1&1|1|1&0\\nXXXXXXXXX1&1&1|0&0|0&1|0|1&0&0|1&0&0&1|1|0&0|0&1&0\\nXXXXXXXXXXXXXXXXXXXXXXXXXXXXXXXXXXXXXXXXXXX1&0|0|0\\nXXXXXXXXXXXXXXXXXXXXXXXXXXXXXXXXXXXXXXXXXXXXXXX0&1\\nXXXXXXXXXXXXXXXXXXXXXXXXXXXXXXXXXXXXXXXXX1&1|1|0&1\\nXXXXXXXXXXXXXXXXX1&1|0&1&0|0|0|0|0|0&1|0&0&1|0&1&1\\nXXXXXXXXXXXXXXXXXXX0&0&0&0|1|0|1|0|0|0|1|0&0|0|1|1\\nXXXXXXXXXXXXXXXXXXXXXXXXXXXXXXXXXXX0&1&1&1&0|1|0|1\\nXXXXXXXXXXXXXXXXXXXXXXXXXXXXXXXXXXXXXXX1&0|0|0|1|1\\nXXXXXXXXXXXXXXXXXXXXX1|1&1&0&1|1&0|0|1&1&0&1|0&0&0\\nXXXXXXXXXXXXXXXXXXXXXXXXXXXXXXXXXXXXX0|1&1&1&0&1|1\\nXXXXXXXXXXXXXXXXXXXXXXXXX0|0|0&0|0|0|0&0|0&0&0|0&1\\nXXXXXXXXXXXXXXXXXXX0&1&1&1|0|1|1&0&1|0&1&0&0&1|1&0\\nXXXXXXXXXXXXXXXXXXXXXXXXXXX1&0|0&0|1&0&0|1|1&0&1&0\\nXXXXXXXXXXXXXXXXXXXXXXXXXXXXXXXXXXXXXXXXXXXXXXX1|1\\nXXX0|0|1|0|1|1&0|1&1&0|0|0|1|1&1&0|1&0|0|1|0|1&0|1\\nXXXXXXXXXXXXX1&1|1|0&0|0&1|0&0&0|1|0&0|1&0&1&1&1|1\\nXXXXXXXXXXXXX1|1&0&0|1|0|1&0&1&1&1&1|1&0|1&0|1&1&0\\nXXXXXXXXXXXXXXXXXXXXXXXXXXXXXXXXXXXXXXXXX0|1|0&1|1\\nXXXXXXXXXXXXXXX1&1&0&0&0&0&1|1&1|1&0|1&0&1|1&1&1&1\\nXXXXXXXXX1|0&0|0|1|0|0&1|0|0&0&1|0|1&1&0|1&0&0|0|0\\nXXXXXXXXXXXXXXXXXXXXXXXXXXXXXXXXXXXXXXXXXXXXX1&1&0\\nXXXXXXXXXXXXXXXXXXXXXXXXXXXXXXXXXXXXXXX0&1|1&0&1&0\\nXXXXXXXXXXXXXXXXXXXXX1|0|1&0|1&1|1&0|1&0&1|0|1|0&0\\nXXXXXXXXXXXXXXXXXXXXXXXXXXXXXXXXXXXXXXXXXXXXX1&0&1\\nXXX0|0&1&0&0|1&1&0|1|0&1&1|1|0&0&1|1|0|0&1|1&0|1|0\\nXXXXXXXXXXXXXXXXXXXXXXXXXXXXXXXXXXXXXXXXXXXXXXX1&0\\nXXXXXXXXXXXXXXXXXXXXXXXXXXXXXXXXXXXXXXXXXXXXX0&0|1\\nXXXXXXXXXXXXXXXXXXX1&1|0|1|0|1&1&0&0&1|1&0|1|0&0|1\\nXXXXXXXXXXXXXXXXXXXXXXXXXXXXXXXXXXXXXXXXXXX1|0|1&1\\nXXXXXXXXXXXXXXXXXXXXX0|1|0|1&1&1|0|0|0|1|1|1|1&0|1\\nXXXXXXXXXXXXXXXXXXXXXXXXXXXXXXXXXXXXXXXXXXXXXXX0&0\\nXXXXXXXXXXXXXXXXXXXXXXXXXXXXXXX0|0|1|0&0|1|1|1|1|0\\nXXXXXXXXXXXXXXXXXXXXXXX1|1|1|1&1&0&0&0|1&0&1&1|1&0\\nXXXXXXXXXXXXXXXXXXXXXXXXXXXXXXXXXXXXXXXXX1&1|1&0|0\\nXXXXXXXXXXXXXXXXXXXXXXXXXXX1&1|0&1|1&0|1|0|1|1|1&1\\nXXXXXXXXXXXXXXXXXXXXXXXXXXXXXXXXXXXXX0|0&0|0&0&0|0\\nXXXXXXXXXXXXXXXXXXXXXXXXXXXXXXXXXXX1&1|0&0&1|0&1&1\\nX1&0&1&1|0|1&0&1|0&0|0&1|1&0|0|1&1&0|0&1&0|1&1&1&1\\nXXXXXXXXXXXXX1|1|0&0&1|0&1|0|0&1&1&1|1&0&0&1|1&0|0\\nXXXXXXXXXXXXXXXXXXXXXXXXXXXXXXX0&0&1|0|0&1|1|1|0|0\\nXXXXXXXXXXXXXXXXXXXXXXXXXXXXXXXXXXX1|0&0&1|1|0|1|0\\nXXXXXXXXXXXXXXXXXXXXXXXXXXX0|0|1&1&1&0|0&1|1|1|0&1\\nXXXXXXXXXXXXXXXXXXX0|0|0|0|1&0&0|0&1|0&0&1|0|0|1|1\\nXXXXXXXXXXXXXXXXXXXXXXXXXXXXXXXXXXXXXXXXXXX0|0&1|0\\nXXX1&1&1&1|0|1|0&0&1|0&0|1&0|1&1&0|0|1|1|0&1&1&1|1\\nXXXXXXXXXXXXXXX1|0|1|0&0|0&1|0|0|0|1|0|1&0|0|1&0&1\\nXXXXXXXXXXXXXXXXXXXXXXXXXXXXXXXXXXXXXXXXXXXXXXXXX0\\nXXXXXXXXXXXXXXXXXXXXXXXXXXXXXXXXXXX0&0|0&1|1|0|1&0\\nXXXXX1|0|1|1&1|0&0&0|1&0&0|1&1&0|0|0|0|0|1&1|0&1&0\\nXXX0&1&1&1&1&0&0&0|1|0&0&1&0|0|0&1&0|0&1&0|1&1|1|1\\nXXXXXXXXXXXXXXXXXXXXX0|1&0|0|1|1&0|1&1|1|1&0&1&1|1\\nXXXXXXXXXXXXXXXXX0|1|1|1&0&1&1&0|0|1|0&0|1&1|0|1&1\\nXXXXXXXXXXXXXXXXXXXXXXXXXXXXXXXXX1|0|1|1&1|0&0&1&0\\nXXXXXXXXXXXXXXXXXXXXXXXXXXXXXXXXXXXXXXXXXXXXX1|0&0\\nXXXXX0&0&1|0&1&0|1|0&0&0&0|1|0&0|0&1|0&1&0&0&1&1|0\\nXXXXXXXXXXXXX1&1|0|0&1|1&0&1&0&1&1&1&0&0|0&0&1&1&1\\nXXXXXXXXXXXXXXXXXXXXXXXXXXXXXXXXXXXXXXXXXXXXXXX0|0\\nXXXXXXXXXXXXXXXXXXXXXXXXXXXXXXXXXXXXXXXXXXX0&0|1|1\\nXXXXXXXXXXXXXXXXXXXXXXXXXXXXXXXXXXXXXXXXXXXXXXX0|1\\nXXXXXXXXXXXXXXXXXXXXXXXXXXXXX1&1&1|0|0|1&1&1&1&0|0\\nXXXXXXXXXXXXXXXXXXXXXXXXXXXXXXXXXXX0|0&0|0|0|1|1&0\\nXXXXXXXXXXXXXXXXXXXXXXXXXXXXX0|0|1&0&0|0&0&0|0|1|0\\nXXXXXXXXX0|0|0&1&0&0&0&0|1&1|0&0&1&0&0|1&0&1|1|0|1\\nXXXXXXXXXXXXXXXXX1|1|1&1&0|0|0&0&0|1&0&0&1&1|1&1|1\\nXXXXXXXXXXX0&1&1|1&0&0|1&1&0&1&0|0|0&0&0|0|0&1|0|1\\nXXXXXXXXXXXXXXXXXXXXXXXXXXXXXXXXX0|1&1&1|0&1&0|0|1\\nXXXXXXXXX1|1&0|1&1|1&0&0|1|1&1&0&0|0&1&1&1&0&1&0|0\\nXXXXXXXXXXXXXXXXXXXXX0|0&0&0&0|1&1&0&0&0|0|0|0&1|0\\nXXX0|0&0&0&1|1&0|1&1|1|1|0|0|1|0&0&1|1&0|1&0|0|0&0\\nXXXXXXXXXXXXXXXXXXXXXXX1&0&1|0|0|0&0&0|1|1|1|1&1&0\\nX1|1&0|1|1&0|1&1&1|0|0|0&1|0&1&0|0|0&0&0|1&0|1|1&0\\nXXXXXXXXXXX0|1&0&1&0&1|1&0&1&0&1|1|1|1&1&0|1|1&1|0\\nXXXXXXXXXXXXXXXXXXXXXXXXXXXXXXXXXXX0|1&0&1&1|1&1|0\\nXXXXXXXXXXXXXXXXXXXXXXXXXXXXXXXXXXXXXXX0|1&1&0&0&0\\nX1|1|1&1&1|0|0&0&1&1|1|1&0&0|0|1|0&0&0&1|1&0&1|1&1\\nXXXXXXXXXXXXXXXXXXXXXXXXXXXXXXXXXXXXXXXXX0&0&1&0&1\\nXXXXXXXXXXXXXXXXXXXXXXXXXXXXXXXXXXXXXXX1&1&0|0&0&0\\nXXXXXXXXXXXXXXXXXXXXXXXXX0&0|1&0&1&1&1&0|1&0&1&1|1\\nXXXXXXXXXXXXXXXXXXXXXXXXXXXXXXXXX0|0&1&1|0&0&1&1|1\\nXXXXXXXXXXXXXXXXXXXXXXXXXXX0&1&0|0|1&1|0&0|0|1|1|1\\nXXXXX1&0|1&1|1&0&0|0&1|1|1&1&1|1&1&0|1&0|1|1&0|0&1\\nXXXXXXXXXXXXXXXXXXXXXXXXXXXXXXXXXXXXXXXXXXXXX1|1|0\\nXXXXX1&1&1&1&1|0|1|0|1&1|0&1&0|0&0|0&1|1|1&0&0|0|0\\nXXXXXXXXXXXXXXXXXXXXXXXXXXXXXXXXXXX0|1&1&0|1&1|0|1\\nXXXXXXXXXXXXXXXXXXXXXXXXXXXXXXXXXXXXXXXXXXX0&1|1|0\\nXXXXXXXXXXXXXXXXXXXXXXXXXXXXXXXXX1&0&0&0&0|1&0&0|0\\nXXX1|0&1&0|1|0|1|0|0&0|0&0|1|1&1&1|1&0&1|0&1&0&0|0\\nXXXXXXXXXXX0&1&1&0|1&1&0&1|0&1|1|1|1|1&0|1&0&0&1&0\\nXXXXXXXXXXXXXXXXXXXXXXXXXXXXXXXXXXXXXXX1&0&0&0|1&1\\nXXXXXXXXXXXXXXXXXXXXXXX1&0|0&1|0|0|0|0|1|1|0&1&0&0\\nXXXXXXXXXXXXXXXXXXXXX1&0|1&1|1&1&0|1&0&0|0&1|1&0|0\\nXXXXXXXXXXX1&1&1&0|0|0&0&1&1&1|1&1&1&0&0|0&1|1&1&0\\nXXXXXXXXXXXXXXXXXXXXXXXXXXX0|0&1&0|1|0|1|1&1|0|1|1\\nXXXXXXXXXXXXXXXXXXXXXXXXXXXXXXXXXXXXXXXXXXX0|1|1|0\\nXXXXXXXXXXXXXXXXXXXXXXX1|1&1&1&1&0&0&1|0|1&0&0|1&0\\nXXXXXXXXXXXXXXX1|0|0&1|0|0&1&1|1&0&1&0|0&1&1|1&0&0\\nXXXXXXXXXXXXXXXXX1&1|1|1&1|1&0|0|0&0|0&1&0&1|0|0|0\\nXXXXXXXXXXXXXXX0|0&0&1&0&0|0|0&1&0|0|1&1&1|1|1|0&1\\nXXXXXXXXXXXXXXXXXXXXXXXXXXXXXXXXXXXXXXXXXXXXXXX1|0\\nX1&1&0|1|1&0&1|0&1&1|0&1&0&0|1&0|0&0&0&1|0|1|0|0&0\\nXXXXXXXXXXXXXXXXXXXXXXXXXXX0|1|0&1|0&1&0|0&1&0|1&0\\nXXXXXXXXXXXXXXXXXXXXXXXXXXX0&0&0|1&1|1|0&1&1&1&1|1\\nX1&1|1&0&0|0&1&1|1|1|0&0|0&1|0|0&0|0|0|0&0&0&0|0&1\\nXXXXXXXXXXXXXXXXXXX1|1|0|1&0|1|1|1|1|1|1|1&0&0&0|0\\nXXXXX1|0&0|0&0|0&1|0|0|0|1|1&1&1|1&0|0&0&1&0|1&1&1\\nXXXXXXXXXXXXXXXXXXXXXXXXXXXXXXXXXXXXXXXXXXX0|0&1&1\\nXXX0|0&1&1&1|1&1|0&0|0&1&0&1|0|0&0|0|0|1|1|1&1&0&0\\nXXXXXXXXXXXXXXXXXXXXXXXXXXXXXXXXXXXXX1|0|1|1&1&1&1\\nXXXXXXXXXXXXXXXXXXXXXXXXXXXXXXXXXXX1|1|0|1&1|1|1|1\\nXXXXXXXXXXXXXXX0|1|0|0&0&0|0&0|1&1|0|0&1&1&1&0|1&1\\nXXXXXXXXXXXXXXXXXXXXXXXXXXX0|1&0&0|0&1|0|0&1&0|0|1\\nXXXXXXXXXXXXXXXXXXXXXXXXXXXXXXXXXXXXXXXXX1&1|0|0|0\\nXXXXXXXXXXXXXXXXXXXXXXXXXXXXXXXXXXX0|0|1|1&0&0&1&0\\nXXXXXXX0&1&0&1&0&1|1&0|0|1&1&0|0&1&1&0|1|0|0|0&0|0\\nXXXXXXXXXXXXXXXXXXXXXXXXXXXXXXXXXXXXXXXXXXX0|0&1&0\\nXXX0&0|1|0&0&0|1|0&1&0&0|0|1|1|1&0&1&1|0&1&0|0|1&0\\nXXXXXXXXXXXXXXXXXXXXXXX1|0&1&1|0&0|0&0&1|1&1&0&1|0\\nXXXXX1|1|1&1&0&0|1&0|0|0|0&0|1&0|0|0|0&0&0|1|1&0|1\\nXXXXXXX1&0|1&1&1|1&0&0|1&0&0&0&0&1&1|1&0|1|0&0&1|1\\nXXXXXXXXXXXXXXXXXXXXXXXXXXX0&1&1&0|0|0|0&1|1|0&0&0\\nXXX1|1|0&1|0&1|1&1|1&0&1&1|1|0&1|0&0|1&0&0&1|1&1|1\\nXXXXXXXXXXXXXXXXXXXXXXXXXXXXXXXXXXXXXXXXXXXXX1|1|1\\nXXXXXXXXXXXXXXXXXXXXXXXXXXXXXXX0|0|1&1&0&1|0&0&1|1\\nXXXXXXX0&0&1|1&1|0|1|0&0|1&0&1|1&0|1&1&0|1|0&1|1&1\\nXXXXXXXXXXXXXXXXX0|0&0&0&1|0|1|0|1|0|1&0|0&1|1&0|1\\nXXXXXXXXXXXXXXXXXXXXXXXXXXXXXXXXXXXXXXXXX1|0|1&0&0\\nXXXXXXXXXXXXXXXXXXX0&0&1|0|1|0|1|0|0&0|0&1|0&0&0|1\\nXXXXXXXXXXXXXXXXXXXXXXXXXXXXXXXXXXXXXXXXXXX1&1&0|0\\nXXXXXXXXXXXXX1|1&1&1|1&0|0|1|0&0|0&0&0|1|0&1&0|1&1\\nX1|1&0|1&0&1|1|0|1&1&1&0|1|1&0|0&1&0|1&0|1|0&0&1&0\\nXXXXX0&1&0&0|1|1|1&1&1|0&1&1|1|0|0&1&0&0|1&1|1&1&0\\nXXXXXXXXXXXXXXXXXXXXXXXXXXXXX0&1&1|1|1|0&1|1|1|0&1\\nXXXXXXXXXXX0|0&0|0&0&1|0&0|1&1|0|0&1&0&1|1|1|0|1&1\\nXXXXXXXXXXXXXXXXXXXXXXXXXXXXXXXXXXXXXXXXXXX0|1|1&0\\nXXXXXXXXXXXXXXXXXXXXXXXXX1&0|1|1|1|0&0&0&1&0|1|0|1\\nXXXXXXXXXXXXXXXXXXXXXXXXXXXXX0&0|0|1|0|0&1&0|0|1&1\\nXXXXX0|0|1&1&0&1|1|1&0|0&1|0|1&0&0&1|0&0&0&0|0|0|0\\nXXXXXXXXXXXXXXXXXXXXXXXXXXXXXXXXXXXXXXXXXXXXXXX0&1\\nXXXXXXXXXXXXXXX1&1&0&0&0&0&0&1|0|0&0&0|0|1|0|1|0&1\\nXXXXXXXXXXXXXXXXXXXXXXXXXXX1|0&0&0&0&1&0&1|0|0|0|0\\nXXXXXXXXXXXXXXXXXXXXXXXXXXXXXXXXX0&0|0&1&1|1|0|1|1\\nXXXXX0|0&1|1&1|0|0&0&1&1&0|0|1&1&1|0&1|1|1&0&1&1&0\\nXXXXXXXXXXXXXXXXXXXXXXXXXXXXXXXXXXXXX0|1|0&1|0|0&1\\nXXXXXXXXXXXXXXXXXXXXXXXXXXXXXXXXXXXXXXXXXXX0|1&1|1\\nXXXXXXX0&1|0|1|0|1&1|1|1&0&0&0|1|0|1&1&0&0|0&0&0&0\\nX1&0&0&1|1|0|0|1&0|1|1|0&0&1&1|1&0|0&1&1|0|1&1&1&0\\nXXXXXXXXXXXXXXXXXXXXXXXXXXXXXXXXXXXXXXXXX0&1|1&1&0\\nXXXXXXXXXXXXXXXXXXXXX0|1|0|1&0|1&0&1&1|1|0|0|0|0&0\\nXXXXXXXXXXXXX0&0|1&1&0&1&1&0&0&0|1|0&0&0&0&1&0&0|1\\nXXXXX1&1&0&0|1|1&1&1|1|0|1&0&1|0&1|1&0&0|0|0&0&0|1\\nXXXXXXXXXXXXXXXXXXX1|1|1&0&1|0|0|1&1&0&0&0|1|1|0&1\\nX1|1|0&0|0|0|0&0&1&1&0|0&0|1&1|0&0|0&1|1&0|1|0|0&0\\nXXXXXXXXXXXXXXXXXXX0&1&1&0|0&0|0|0|0|1&0|1&1|0&1&1\\nXXXXXXXXXXXXXXXXXXXXX1|1&0&1&1&0&0|0&0&0&0&1&0&0&0\\nXXXXXXXXXXX0|0&1|0|1&0|0&1|0&1&0|1|0|1&0|0&1|1&1&1\\nXXXXXXXXXXXXXXXXXXXXXXXXXXXXXXXXXXXXXXXXX0&0&1|1&1\\nXXXXXXXXXXXXXXXXXXXXXXXXXXXXXXXXXXXXXXX1&1&0&0&1|0\\nXXXXXXXXX0|0&0|1&1|0|1&1&0&0|1&0|0&0|0&0&1|0&1&0&0\\nXXXXXXXXXXXXXXX1&0&1&0|0|0&1|0&1|0|1&1&1&0&0&0|1&1\\nXXXXXXXXXXXXXXXXX0&0&0|0|1|0|0&1|1|1&0|0&0|0&1|0|0\\nX1&1|0|0|0|0&1&1|1|1|1&0|0|0&0|0|1&1|0&0&0|0&1&1|1\\nXXX0|1&0|1|1|1&0&0&1&1&0|1&0|0&1&1&0|0&1|1&0&1|0|1\\nXXXXXXXXXXXXXXXXXXXXXXXXXXXXXXXXXXXXXXXXXXXXX1|0|0\\nXXXXXXXXXXXXXXXXXXXXX1&0&0&0|1&1&0&1|1|0&0&0|0&1|0\\nXXXXXXXXXXXXXXXXXXXXXXXXXXXXXXXXXXXXXXXXXXXXXXXXX1\\nXXXXXXXXXXXXXXXXXXXXXXXXXXXXX1|0&1&1|0|1&0&1&1|0&1\\nXXXXXXXXXXXXX1|0|0|0&0&0&0|0|1&1|1&1&1|0|1|1&1|1|1\\nXXXXXXXXXXX1&1|1|0&0|1|1|0&0|0|0|0|0&0&1&0|1&0&1|1\\nXXXXXXXXXXXXX0&1&1&1&0|0|0|1&0&1&1|1|0&1|1&0&1&0|0\\nXXXXXXXXXXXXXXXXXXX1|0|1&1&0&0|0&0&0|0&1|0&0|1&1&1\\nXXXXXXXXXXXXXXXXXXXXXXXXXXXXXXXXX1&1|0|1|0|0|0&0|0\\nXXXXXXXXXXXXXXXXX1|1|0&0&1&0&1|0|0|1|1&1|1&1&1&1&1\\nXXXXXXXXXXX1|1&0&1|1|1|1|0&1&1|0|0|1|1|1&1&1&1&0|0\\nXXXXX0&0|1&1|0|1|0|0&0|1&0|1|1|0&0&0&0&0&1|1&0|1&1\\nXXXXXXXXX1&1|1|1&0&0&1|0&1|0|0&0&0|1|0&0&1&0|1|0|1\\nXXXXXXXXXXXXXXXXXXXXXXXXXXXXXXXXXXXXXXXXXXXXX0&1&1\\nXXXXXXXXXXXXXXXXXXXXXXXXXXXXXXXXXXXXXXXXXXXXXXX0&0\\nXXXXXXXXXXXXXXXXXXXXXXX1|1|1&1&0&0|0|0|0&0|0|1&1&0\\nXXXXXXXXXXXXXXXXXXX0&0&0&1|1&0|0&1&1|0|0|0|1&0&0&0\\nXXXXXXXXXXXXXXXXXXXXXXXXXXXXX0|0&0|0&1|1|0&0|1|1&0\\nXXXXXXXXXXXXX0&0&0&1|1&0|1|1&0|1&1&1|1&1&0&0&1|1|1\\nXXXXXXXXXXXXXXXXXXXXXXXXXXXXXXX1|1|0&1&1&1|1&1|1|1\\nXXXXXXXXXXXXXXXXXXXXXXX0|0|1|1&1|0&0&1|0|0|0|1|0&1\\nXXX0&0|1&1|1|1&1&1|0|1&0&0|1&0|1|0|1|0|1&1|1|1|1&1\\nX1|0&1&1&1&0&0&1|1|0|1&0|1&1|1&0|0|1|0|1&0&0&0|0|0\\nXXXXXXXXX0|0&1&0&0&0|0|1|1&0|1&0|1&1|0|1&1&1&0&1|1\\nXXXXXXXXXXXXXXX1&0|0&0&0&1|0|0|0|0|1|0|0&1&0|0|1|1\\nXXXXXXXXXXXXXXXXXXXXX0&1&1|1|1&1&1|0|1|0&0|1&0|1|0\\nX1&0|1&1&0&1|0&1&0&0|0&1&0&0|0&0|1|1|0|1|0&0&1&0&0\\nXXXXXXXXXXXXXXXXXXXXXXXXXXX1|0&0&0|0&1&0|0&1|0&0&0\\nXXXXXXXXXXXXXXX1&0|1|0|1|0|0&0|0&1&0&0|1&0|0|1&1&1\\nXXXXXXXXXXXXXXXXXXXXX0|1&0|1|0&0&0|0|0|0&1&1&0&0|1\\nXXXXXXXXXXXXXXXXXXXXXXXXXXXXXXXXXXXXXXXXXXXXXXX0|1\\nXXXXXXXXXXXXXXXXXXXXXXXXXXXXXXXXXXXXXXX1&1|1&0|0&1\\nXXXXXXX0|1&0|1|0|0&0&0&1&0|0|1|0&0|0&1|1|0&0|1&1&0\\nXXXXXXXXXXXXXXXXXXXXXXXXXXXXXXXXXXXXXXXXXXX1|1&1&1\\nXXXXXXXXXXXXXXXXXXXXXXXXXXXXXXXXXXX1&0&0&1|1|0|0&0\\nXXXXXXXXXXXXXXXXXXXXXXXXX0|1&1&0|0&1|1|1|0|1&1&1|1\\nXXXXXXXXXXXXXXXXXXXXXXXXXXX1&1&0|1&1|0|0|1|1&1&1|0\\nX0&0&0|1|1&0&0&0|1&0|1|1|0&0|0&1|0&1&0|0&1|0|0|1&1\\nXXXXXXXXXXXXXXXXXXXXXXXXXXXXXXXXXXXXXXXXXXXXXXX0&1\\nXXXXXXXXXXXXXXXXXXXXX0&0|0|1|1|0&1&0&1&1&0&0&0&1|0\\nXXXXXXXXXXXXXXXXXXXXXXXXXXXXXXXXXXXXXXXXXXXXXXX0&0\\nXXXXXXXXX1&0|1|0|1|1&0&0|0|0|1&1|1|0&0&1&0|1&0&0|1\\nXXXXXXXXXXXXXXXXXXXXXXXXXXXXXXXXXXXXXXXXXXXXX1|1|1\\nXXX0&1|1|1&1|0|0&0&0&0&0&1&1|0|0|1&1|0|1|0|0|1&1&0\\nXXXXXXXXX1|1&1|1&1&0|0|0&1|0|1|1|0&1|0&0&1&0&1&0&1\\nXXXXXXX0|0&1|1|1|1|0|1&0&1&1|1|0|0|0|1&1|0&0|1|0&0\\nXXXXXXXXXXXXXXXXXXX0&0|0&0|1&0|0&0&0&1|1|0&1&0|1|0\\nXXXXXXXXXXXXXXXXXXXXXXXXXXXXXXXXXXXXXXXXXXXXXXX0&1\\nXXXXXXXXXXXXXXXXXXXXXXXXX0|1|0&1&1|0&0|0&1&1&0|1|0\\nXXXXXXXXXXXXXXXXXXXXXXXXXXXXXXXXXXXXXXX0&1&0&1|0&1\\nXXXXXXXXXXXXXXXXXXXXXXXXXXXXXXXXXXX1&0|1|0&0&0|0&1\\nXXXXXXXXX0|0&1&0|1&0|0|0&1|0&1&1&1|0|1&1|1&0&0|0&1\\nXXXXXXXXXXXXXXXXXXXXXXXXXXXXXXXXXXXXXXX0&0|0|1|1|0\\nXXX0|0&0&0|1|0&1&0|0|1&0&0|1|1&1|1&1|0&1&1|1|0|1&1\\nXXXXXXXXXXXXXXXXXXXXXXXXXXXXXXXXXXXXXXXXXXXXX0|1&1\\nXXX0&1&0|0&0|1&1&1|1|0|1&0|1|1|1|1&0|0|0|0|1|0|1|1\\nXXXXXXXXXXXXXXXXXXXXXXXXXXXXXXXXXXXXXXXXX0&0&1|0&1\\nXXXXXXXXXXXXXXXXXXXXXXXXXXXXXXXXXXXXXXXXXXX0&1&0|1\\nXXXXXXXXXXXXXXXXX0&0|0|1|1&0&0|1&1|1|0&1&0|0&1|1|0\\nX1&0&0&1|1|0&1|1&1|1|1&0|1|1&1&0|0|1&0&0|0|1|0|0|0\\nXXXXXXXXXXXXXXX0&0&0&0&1&1|0&0|0&0&1|1|0|1&1&1|1&1\\nXXXXXXXXXXXXXXXXXXXXXXX0|1&1&1|0|0&1|1&0&1&0|1&0&0\\nXXXXXXXXXXXXXXXXX1|1&0|1|1&1|1&0&0|1|0&1&0&0&1|1&0\\nXXXXXXXXXXXXXXXXXXXXXXXXXXX0|0&0&0|1|1|0&0|0&1&1|0\\nXXXXXXXXXXXXXXXXXXXXXXXXXXXXXXXXXXXXXXXXXXXXX1|1|0\\nXXXXX1&1|1|0&1|0|1&0&1&0&1&1|0|0|0&0&1&1&0|1&0&0&1\\nXXXXXXXXX1|0|0&0|0|1&0&0|0|0&0&0&1|0&1&1&0|1&1|1&0\\nXXXXXXXXXXXXXXXXXXXXXXXXX1&0|1&1|0&1|0|0|1|1|1&1|0\\nXXXXXXXXXXXXXXXXXXXXXXXXXXXXXXXXX0&1|1|1|1|1&0&0|1\\nXXX1&1&0&1|0&1|1|1|1&1&1|1&0&0&0|1|0&0|0|0|0&0|0|1\\nXXXXXXXXXXXXXXXXXXXXXXXXXXX1&1&0|0&0&1&1&0|0|0&1&0\\nXXXXXXXXXXXXXXXXXXXXXXXXXXXXXXXXX1|1&1&1|1|0|1|0|1\\nXXXXXXXXXXXXXXXXXXXXXXXXXXXXXXXXXXXXXXXXX0|0&1&1&0\\nXXXXXXXXXXXXXXXXXXXXXXXXXXXXXXXXXXXXXXXXXXXXXXX0&1\\nX0&1&0&0|1|0&1|1|0&1&0&1&0|1&1|1&0|0&1|1|0&1&1|1&0\\nXXXXXXXXXXXXXXXXXXXXXXXXXXXXXXXXXXXXX1&0|0&1&1&0|0\\nXXXXXXXXXXXXXXXXXXXXXXXXX1|1&0|1&1&1&1&0&0&0|1&1|1\\nXXXXXXX0&0|0|1&0&1&1&1&0&1|0&0|1&1|1&0|1&0&0|1&1|0\\nXXXXXXXXXXXXXXXXXXXXXXXXXXXXX1&1|1|0|0|1|1&1|1&1&0\\nX1&1|0&1&1&0|0|1|1&0&0&1&1&0&1&1&0&1|0&1&1|1|1&1&0\\nXXXXXXXXXXXXXXXXXXXXXXXXXXXXXXXXXXXXXXX1&0&1&0|0&0\\nXXXXXXXXXXXXXXXXXXXXXXX0|1&0|0&0&1|1|0&1&1|1&0&1|1\\nXXXXXXXXX0|0&0|1&1|1&0&0|1|1&0&1&0&1&0&0&0|1|0&0&0\\nXXXXXXXXXXXXXXXXXXX1&1|1|0|1&1|0&1&0|0|0&1|0&0|1&1\\nXXXXX0&0|0|0&0|0&0&1|0&0&0|0|0&0&1&1&0&1|0&1|1|1|1\\nXXXXXXXXXXXXXXXXXXXXXXXXX0&0|1|0|1|1&1|1&0&1|0|1|1\\nXXXXXXXXXXXXXXXXXXXXXXXXXXXXXXXXXXXXXXXXX0|1&1|1&0\\nXXXXXXXXXXXXXXXXXXXXXXXXXXXXXXX1|0&1&0&0&0|0&1|1|0\\nXXXXXXXXXXXXXXXXXXXXXXXXXXXXXXXXXXXXXXXXXXX1&0|1&1\\nXXXXXXXXX0|0|1|0|1|0|1&1|1|1&0&1|0|0|0&0|1&1|0&0&0\\nX0|1&0|0|0|0|1|1|0&1&1|0&1&1&1|1|1|1|0&0|0&0|1|0&1\\nXXXXXXXXXXXXXXXXXXXXXXXXXXXXXXXXXXXXXXXXXXXXXXX1|1\\nXXXXXXXXXXXXXXXXXXXXXXXXX1&1|0&0&1&0&1&1|1&0&0|0&0\\nXXXXXXXXXXXXXXXXXXXXXXXXXXXXXXXXXXXXX1|0|1&0|1|1|1\\nXXXXXXXXXXXXXXXXXXXXXXXXXXXXXXXXXXX0&0&1|1|1|0&1|1\\nXXXXXXXXXXX1|1|1&0|0|1|0|1|1|0|0&1|0&1&1&0&1&0|1&1\\nXXXXXXXXXXXXXXXXXXXXX1&0&1&1&0&1&1|0|0|1|1|0&1&1|0\\nXXXXX1|0|1&0|1|0|1|0|1|1|1|1|0&1&1&1&0&1|0&1|1&0&1\\nXXXXXXXXXXXXXXXXXXXXXXXXXXXXXXXXXXXXXXXXXXX1|0&0|0\\nXXXXXXXXXXXXXXXXXXXXXXXXXXXXXXXXXXXXX0|1|1|0|1&1|0\\nXXXXXXXXXXXXXXXXXXXXXXXXXXXXXXXXX1|0&0|0|0&0&1|0|1\\nXXXXXXXXXXXXXXXXXXXXXXXXXXXXXXXXXXXXX0|1|1|1|0&0&1\\nXXX1|1&0|0&0&1|0|1|0|0|1|0&0&0&0&0|1|0&0|0&0|1|1&1\\nXXXXXXXXXXXXXXXXX0&0&1&0&0|0|0|1|0&0&0&1&1&0&1|0&1\\nXXXXXXXXXXXXXXXXXXXXXXXXXXXXXXXXXXXXX1|1&0&1&0&0|0\\nXXXXXXXXXXXXX1|0&1|1|0|1|0|0|0|1&0&1&0|0&1&1|0|1|1\\nXXXXXXXXXXXXXXXXXXXXXXXXX0&0&1&0|1|1&1&1&1&1|0&0|1\\nXXX0&0&0|0|1&1&1&1|0|0|0|1|0|1|1|1&0|1|0|1|0|0&1|0\\nXXXXXXXXXXXXXXXXXXXXXXXXXXX0|0|0|0|0|1|1&0&1|1&1&1\\nXXXXXXXXXXX1&1&1&1&1|0|1|1|0|1&1|0&0&1&1&1&1|1|0|0\\nXXXXXXXXXXXXXXX0|1|1|0&1|0&1&1|0|1|1|1|0|0|0|1|1&1\\nXXXXXXXXXXXXXXXXXXXXXXX0|0|0|0|0&1&1&0&0|0&0|1&1&1\\nXXXXXXXXX1&0|0|0&1|1|0&0&1|1|0|1|1|0&0&0|1&0|0&1&1\\nXXXXXXXXX1&0|1|1|1|0|1&0&1&0&0&0&1&1&0|0|0|1|0|0&1\\nXXXXXXXXXXXXXXXXXXXXXXXXX0|1&0&0&0|0&1|0&0&0&1|1&0\\nXXXXXXX1&1|1&1|1&1&1|1|1&1&0&1|0&1&0&0&1|1|1&1|0|1\\nXXXXXXXXXXXXXXXXXXXXXXXXXXXXXXXXXXXXXXXXXXXXX1&1|1\\nXXXXXXXXXXXXXXXXXXXXXXXXXXX0|1|0|1&1|1|0&1|0|0|1|1\\nXXXXXXXXXXXXXXXXXXXXXXXXXXXXXXXXXXXXXXX0|0|1|1&0|0\\nXXXXXXXXXXXXXXXXXXXXXXXXXXXXXXXXXXXXXXXXXXXXXXX1&1\\nXXXXXXXXXXXXXXXXXXXXXXXXXXXXXXXXXXXXXXXXX1|0&1|1&0\\nXXXXXXXXXXXXXXXXXXXXXXXXXXXXXXXXXXXXXXX1&0|1|0|0&1\\nXXXXXXXXXXXXXXXXXXXXXXXXXXXXXXXXXXXXX1|1|1|0|0|1&0\\nXXXXXXXXXXXXXXXXXXXXXXX0&1&0|1&1|1&1|0&1|1|0&0&0&1\\nXXXXXXXXXXX0&1&0|0&0|0&0&0&0|1&1|0&1&1|0&1&0|1&0&0\\nXXXXXXXXXXXXXXXXXXXXXXXXXXXXXXXXXXXXXXXXX1|0&1|0|0\\nXXXXXXXXX1|0|0|0|0|0&0&0|1&1&0&0&1&1|1|0&1&1&1|1|0\\nXXXXXXXXXXXXXXX0|1&0&0|0|1|1|1|1&0&0&0|1|1&1|0|1&1\\nXXXXXXXXXXXXXXXXXXXXXXXXXXXXXXX0|0|1&1|1|1&0&1&1&0\\nXXXXXXXXXXXXX0|1|0&0|1|0&1&1&1&1|0&0|1|0&1|0|1|0&1\\nXXXXXXXXXXXXXXXXXXXXXXXXXXXXXXXXXXX0&0|0&0&1&1|0|1\\nXXXXXXXXXXXXXXXXX0|1&1&0|0&0&0|0&0|1&1&0|0|1|0|0|1\\nXXXXXXXXXXXXXXXXXXXXXXXXXXX0&0|0&1&1|1|1|1|0|1|1&1\\nXXXXXXXXXXXXXXXXXXXXXXXXXXX1&1&1|1&0|0&0|1&1|0|1&1\\nXXXXXXXXXXXXXXXXXXXXXXXXXXXXXXXXXXXXXXXXX0|0|0&0|0\\nXXXXXXXXXXXXXXXXXXXXXXXXXXXXXXXXXXXXXXXXX1|1|0&1|1\\nXXXXXXXXXXXXXXXXXXXXXXXXXXXXXXXXXXXXXXX1|0|0|1|0|0\\nXXXXXXXXXXXXX0&0|1&1|0&0&0&1&0|1&0&0|0&0|0&0&0|0|1\\nXXXXXXXXXXXXXXXXXXXXXXXXXXXXXXXXXXXXXXXXX0&1&1&1&0\\nXXXXXXXXXXXXXXXXXXXXXXXXXXXXXXXXXXXXXXXXX0|0&1|1&1\\nX1|1&1|0&0&1&0&0|1&1&1&1|1&1&0|1&1&0|1&1&0&1&0&0|0\\nXXXXXXXXXXXXXXXXXXXXXXXXXXXXXXXXXXXXXXX1&0|0|1&0|1\\nXXXXXXXXXXXXXXXXXXXXXXXXXXXXXXXXXXXXXXXXXXXXXXXXX1\\nXXXXXXXXXXXXXXXXX1&0|0|0&0|0&1&0|0&0|1|0&0&0|0|1|1\\nXXXXXXXXXXXXXXXXXXXXXXXXXXXXXXX1|1&1|0&1&1|0&0&0|1\\nXXXXXXXXXXX1&0|1&0&1&1&0|0|1|0|1&0&0&0|1&0&1|1&0&0\\nXXX1|1|1|0|1&0&1|0&0&1&0&1&1&1|1|0&0|1|0|0&0|1|0&0\\nXXXXXXXXXXXXXXXXXXXXXXXXXXXXXXXXXXXXXXXXXXXXXXXXX0\\nXXX0&1&1&0|1&0&0&1&0&1&1&0&1|0&1&1&1|1|1|0&1&0&1|0\\nXXXXXXXXXXXXXXXXXXXXXXXXXXX1|0|0&0|0|1&1|0|1|0|1&1\\nXXX1&0|1|0&0&0&0|0&0&0|0&1|1&1&0|0&1&1&0|1|0&1|1&1\\nX1|0|0&1|1|1&1&1|0&1|0|1&1&0|0&1|0|1&1&0&1&1&1&0|1\\nXXXXXXXXXXXXXXXXX1&1&1|1|1&1|0|0|1|1&1|0|1|1&0|0&0\\nXXXXXXXXXXXXXXXXXXXXXXX1|1&0|1&0|1&0|1|0&1|0&0|0&0\\nXXXXXXXXXXXXXXXXXXXXXXXXXXXXX0|0|1&0&1&1&0&0|0|1&1\\nXXXXXXX0&1&1|0|1|0|0&0|1|1&1|1|1&0&0|0&0&0&0|1|1&0\\nXXXXXXXXXXXXXXXXXXXXXXXXXXXXXXXXXXX0|0|1|1&0|1&1&1\\nXXXXXXXXXXXXXXXXXXXXXXX1&0|1&1&0&0&0&1&1|0|0&0&1&0\\nXXXXXXXXX0|1&0|0|0|1&0&1|0&1|0|1&0&0&1|1&1&1&0&1&0\\nXXXXXXXXXXXXXXXXXXXXXXXXXXXXXXXXXXXXXXXXXXXXXXX0&0\\nXXXXXXXXXXXXXXXXX1&0&1&1&0|0&1|1&0&1&1&0&0|0|1|1&1\\nXXXXXXXXXXXXXXXXXXXXXXXXXXX0&0&1&1|0|0|1&1&0|1|0&0\\nXXXXXXXXXXXXXXXXXXXXXXXXXXXXXXXXXXXXXXXXXXXXXXX1|0\\nXXXXXXXXXXXXXXX0&1&1|0&1|1&0&0&0&1&0|0&0|0&0&0|1&0\\nXXXXXXXXX1&1|0&0|1|1&1&0&1|1|1&0&1|1&1&1|0|1|0|0|0\\nXXXXXXXXXXXXXXXXXXXXX1|0&0&0|0|1&0&0&1|1|0&1|1&0&0\\nXXXXXXXXXXXXXXXXXXXXXXXXX0|0&0|1&0&1|0|1&0|0&1|0&1\\nXXXXXXXXXXXXXXXXXXXXXXXXXXXXXXXXXXX1&0&1&0|0|0|0|0\\nXXXXX0&1|1&1|0&1|0|0&1&1|0&1|1|1|0&0&1|0|0|1|1|0&1\\nXXXXXXXXXXXXXXXXXXXXXXXXXXX1|1&0&0&0|1&1&0&0&0|1|1\\nXXXXXXXXXXXXXXXXXXXXXXXXXXXXXXXXXXXXXXXXXXXXXXXXX0\\nXXXXXXXXXXXXXXXXXXXXXXXXXXX1&1|1&0&0&0|0|1&0&1|0|0\\nXXXXXXX1&1&1|0|1|0|1|0&0|0&1&0&1&1&0|0|0&1&0&1&1&1\\nXXXXXXXXXXXXXXXXXXXXXXXXXXXXXXXXXXXXXXXXXXXXXXX1&1\\nXXXXXXX1&0|0|1|0&1&0&0|0&1|1|0|0|1|0&0|1&1|0|0&0&0\\nXXXXXXXXXXXXXXXXXXXXXXXXXXXXXXXXXXXXXXX0|1|0&1|1|0\\nX0&0|0&0|0&0|1&1&1&0|0&1&1|1|0&1|0|1&0|1|1|0|1&0&1\\nXXXXXXXXXXX0|1|1&1|1|0&1&1&1|0|0&1&0|1&0|0&1|1|1&0\\nXXXXXXXXXXXXXXXXXXXXXXXXXXXXXXXXXXXXXXX1|0|0&0|1|0\\nXXXXXXXXXXXXXXXXXXXXX1&1|1|1|1&0&1|1&0|1|0|1|1&1|0\\nXXXXXXXXXXXXXXXXXXXXXXXXXXXXXXXXXXXXX0|0&1|1&0|0&0\\nXXXXXXXXX1&0&1&0&1&0|1|1&0&0&1&1|0&0|1&1&1&1|1|1|0\\nXXX1|1|1|0|0&0|1|1&0|0&0|0|0&0&1&0|0|1|0&0&0&0&1|0\\nXXXXXXXXXXXXXXXXXXXXXXXXX1|1|1|0|1|0|1|0&0&1|0|1&0\\nXXXXXXXXXXXXXXXXXXXXX1&0|1&1&0|0&0&1&1&0&1|0|1|0|1\\nXXXXXXXXXXXXXXXXXXXXXXXXXXXXXXXXXXXXXXX1&1&1|0&0&0\\nXXXXXXXXXXXXXXXXXXXXXXXXXXXXXXXXXXXXXXXXX1|0|1|1&0\\nXXXXXXXXXXXXXXXXX0&1&1&1&1|0|0|0|1&0&1|0&1&1|1&1|0\\nXXXXXXXXXXXXXXXXXXXXXXXXXXXXXXX0&1|1|0&0&1|0&0&0&0\\nXXXXXXXXXXXXXXXXXXX0&1&0|1&1|1&0|0&1&1|0|1|0|0|1&1\\nXXXXXXX1|1&1|0|0|0|1&0|1&1|0|0&0&0&1|0|0&1&1&0&0|1\\nXXXXXXXXXXXXXXXXXXXXXXXXXXXXXXX1|1&0&0|0&1|0|1&0&0\\nX0|1&0&0&0&0&0&1|1|1&0|0|0|1|1|0|1&1|1&0&0|0&1&1|0\\nXXXXXXXXXXXXXXXXXXXXXXXXXXXXXXXXXXXXXXXXXXXXXXX0&0\\nXXXXXXXXXXX0|0|0&1|0&1&0|1|0&1|0|1&1&0|1|1&1&1|1&0\\nX0&0&1&0&0&0&0&1&1|1|1|1|1|0|1|0&1|0&0|0&0|1|1|0&1\\nXXXXXXXXXXX1|0|1&0&1&0&0|1&1&0|0|1&0|0|0&0|0|0|0&1\\nXXXXXXXXXXXXXXXXXXXXXXXXXXXXXXX1|0&0|1&0&1|0&1&0|1\\nXXXXXXXXXXX1|0|0|0&0|1&1&1|1|1&0&0&0|1&1&1&1&0&0|0\\nXXXXXXXXXXXXXXXXXXXXX0|0|1&1|1&0|0|0&0|0|0|1&1|0|1\\nXXXXXXXXXXXXXXXXXXXXXXX1|1|0|0&1|1&1&1|0&0|1|0&0|0\\nXXXXXXXXXXXXXXXXXXXXXXXXXXXXXXXXXXXXXXX0|0|1&0|0|0\\nXXXXXXXXX1|1|0&0&0|0|1&0&1&0|0&0|0|1&1&0&0&1|1|1&1\\nXXXXX0|0&0&0&1|1|1&0|0|0|0&0&1|1|0&1|1&0&0|1&1&0|1\\nXXXXXXXXXXXXXXX1|0&1|0|1&0|0|1&0|0|1&0&1&0|0&1|1|1\\nXXXXXXXXXXXXXXXXXXXXXXXXXXXXXXXXXXXXX1&1|0&0&0&1&0\\nXXXXXXXXXXXXXXXXXXXXXXXXXXXXXXXXXXX1&0|1|0&0&1|1&1\\nXXXXXXXXXXXXXXXXXXXXXXXXXXXXXXXXXXXXXXXXXXXXX1|0&0\\nXXXXXXXXXXXXX0|1|1&0&1&0|1&1|1&1|0&0&0&0|1|0|1|0&0\\nXXXXXXXXXXXXXXXXXXXXXXXXXXXXXXXXXXXXXXXXXXXXXXXXX0\\nX0&1|1&1&0&1&1|0|1|1|1&0&1&1|0&1&0|1|0&0&0|0|1&0|0\\nXXXXXXXXXXXXXXXXXXX0|1|0&1|1&0&1|1|0|1&1&1|1&0|1&0\\nXXXXXXXXXXX1&1|1&1|0&1&0&0&0|1&1|0|1|1&0|0|0&0|0|0\\nXXXXXXXXXXXXXXXXXXXXX0|0|1&1&0|1|1|0|0|1&1|0&1|1|0\\nXXXXXXXXXXXXXXXXXXXXXXXXXXXXXXXXXXXXXXXXX1&1|0&1&1\\nXXXXXXXXXXXXXXXXXXXXXXXXXXXXXXXXXXXXXXXXXXXXX0&0&1\\nXXXXXXXXXXXXXXXXXXXXXXXXX1|0|0&0|1&0|1&1&0|1&0|1&1\\nXXXXX0|0&0&1|1|1&1&1&1|1&0&0&1|0&1|1|1&0|0|0&1&1&1\\nXXXXXXXXXXXXXXXXXXXXXXXXXXXXXXXXXXXXXXXXXXX1|0|1|0\\nXXX0|1|0&1|1|0&1|1|1|0&1|0&0|1|0&1&1|0&0|0|1|1|0&1\\nXXXXXXXXXXXXXXXXX1&1|0&0&1&0|0|0&1&0|1|0&0&0&0|1|0\\nXXXXXXXXXXXXXXXXXXXXXXXXXXXXXXXXXXX1&0&0&0|1&0&1|1\\nXXXXX0&1&1&0|0&0&1|0|1&0&0|1|0|0&0|1&0|1|0&0&0&1|1\\nXXXXXXXXXXXXXXXXXXXXXXXXX0&0|1|1|0|0|0&0|1&0|1|0&1\\nXXXXXXXXXXXXXXXXXXXXXXXXXXXXXXXXXXXXXXXXXXXXX1|1|1\\nXXXXXXX0|0|1&1|1|0&0|1|1|1|1&0|1|1&0&1&1|1|0|1|1|1\\nXXXXXXXXXXXXXXXXXXXXXXXXXXXXXXX1&0|0|1|0|0|1|1&1&0\\nXXX1|0|1&1|1&0|1|0|0&1|1&0&1|1&0&0&0&1|0|1&0&1|1&1\\nXXXXXXXXXXXXXXXXXXXXXXXXXXX0|1&0&1&1|1&1|0|0|1|1|0\\nXXXXXXXXXXXXXXXXXXXXXXXXXXXXXXXXXXXXXXXXXXXXX1|1|1\\nXXXXXXXXXXXXXXXXXXXXXXXXXXXXXXXXXXXXXXXXXXXXXXXXX1\\nXXXXXXXXXXXXXXXXXXXXX1|0&0|1&1|0&1|0|1&0|0&1&1|1&1\\nXXXXXXXXXXXXXXXXXXXXXXXXXXXXXXXXXXX1|1&0&0&0|1&1|0\\nXXXXXXXXXXXXXXXXXXXXXXXXXXXXXXXXX1&0|1|0|1|0|0&0&0\\nXXXXXXXXXXXXXXXXXXXXXXXXX0&0|1|1&0&1&1|1&0|1&1|0&0\\nX0|1|0&1&0|0|1|1|1|0|1&0&0|0|1|0|1|1|1&0|1|0|0|1|1\\nXXXXXXX0|0|1|0&1&1|1&0|1&1|0&1|0&1&1&1&1&1&1&0&1&0\\nXXXXX1&1|0|1&1&1|0&1|1|1&0|0&0|1&1|1|0|0|1&0&0&1|0\\nXXXXXXXXXXX0&1|0|0&1&0&1|1|0|1&1&1|0|1|0|1&1&0&0|1\\nXXXXXXXXXXXXXXXXXXXXXXXXXXXXXXXXXXXXXXX0&1&0|1|1|0\\nXXXXXXX1|1&0|1|1&0&0|0&0|0|0|0&1&0&0|0&1&0|0&1&1|1\\nXXXXXXXXXXXXXXXXXXXXXXXXXXXXXXXXXXX1|0|1&0&1&0|0&1\\nXXXXXXXXXXXXXXXXXXXXX0|0&0&0|0&1&1&0|0|0|1&0|1&0&0\\nXXXXXXXXXXXXXXXXXXXXXXXXXXXXXXXXXXXXX1&1|1|1|0|1|1\\nXXX0&1&1&1|1&1&0|1&0|0&1|1|1|1&0|0|0|1|1|1&1&1|0&0\\nXXXXXXXXXXXXXXXXXXXXXXXXXXXXXXXXXXXXXXXXXXXXX1|0|1\\nXXXXXXXXXXXXXXXXXXXXXXXXXXXXXXX0|0&0&1&0|0|1&1&0|0\\nXXXXXXXXXXXXXXXXXXXXXXXXXXXXXXXXXXXXXXX0|1|0|1|1&0\\nXXXXXXXXXXXXXXX0&0&0&0|0&0|0|1|1&1|0|1&0|0|0|1&0|1\\nXXXXX1&1|0|0&0&0&0|0&1&1|0&0&0|0|0|0|0|0&1|1|1&1&1\\nXXXXXXXXXXXXXXXXXXXXXXXXXXXXXXXXXXXXXXXXXXX1&0&1&0\\nXXX1|1|0&0|1|0|0&1|1|0&0|0&1|0|1|1&1|1|0&0|0&1&0|0\\nXXXXXXXXXXXXX0|0|0|1&1&0|0&0|0|0&1&1|1|1&0|0|1|1&1\\nXXXXXXXXXXXXXXXXXXXXXXXXXXXXXXXXXXXXX0&1&1&0|0|0|0\\nXXX0|1|0&0&0&1&1|0|1|0|1&1&1&0|0&1|1&0&1|0|1|0|0|1\\nXXXXXXXXXXXXXXXXXXXXXXXXXXXXXXXXXXXXXXXXX0|1&0|1|1\\nXXXXXXXXXXXXXXXXXXXXXXXXXXXXXXXXXXXXXXXXXXX0|0&1|1\\nXXXXXXXXXXXXXXXXXXXXXXXXXXXXX1&1|1&1&1|0&1&1|1&1&1\\nXXXXXXXXX1&1|1&0|0|1&1&0&0&1&1|0|1&1&0&1|0&1&0&0&1\\nXXXXXXXXXXXXXXXXXXXXXXXXXXXXXXX0&0&1&1|0|1&1|1|1&1\\nX1|0|0|1&1&1&0&0&0|0&0&1|1|1|0|0|0&0|0&0&0&0|1|1&0\\nXXXXXXXXXXXXXXXXX0&1&0&0&0&1&0&0|0&0|1|1|0&0|0|0|0\\nXXXXXXXXXXXXXXXXXXXXXXXXXXXXXXX0&0&1|1|0&0|0&0|0&0\\nXXXXXXXXXXXXXXXXXXXXXXXXXXXXXXXXX0&1&1&1&1&1&0&1|1\\nXXXXXXXXXXXXXXX1|0|1&0&1&0&0&1&1|0|0|0|0|1&0&0|1&0\\nXXXXXXXXXXXXXXXXXXXXXXXXX0|0|0&0&0&1&0|0&0|1|0|1&0\\nXXXXXXXXXXXXXXXXXXXXXXXXXXXXXXXXXXXXXXXXXXXXXXXXX0\\nXXXXXXXXXXXXXXXXXXXXXXXXXXXXXXXXXXX1|0&1&1&0&0|0&0\\nX0&1|1&0|1|0&0&0&1&1&0&0|0&0|0|1&1|0|0|0|1|0&1|0|1\\nXXXXXXXXXXXXXXX0|1&1&1&1|0&0&0|1&1&0&1|0&0&1&0&0&0\\nXXXXXXX0&1&1&0&1|1|1|1&1|1&0&0&1&1&0&0|0|1&0|0&0|1\\nXXXXXXXXXXXXXXXXXXXXXXXXXXXXX0&0|1&0&0|1|0&0|0&0&1\\nX0|0|0&0|1&0&1|0|1|0&1|1&0|0|0|0&0&1&0|0&0|1&1|0|1\\nXXXXXXXXX0|0&1|1|1&0|0&1&0&0|1|1&1|1&0|0&1&0|0&0&0\\nXXX1|0&1&1|1|1|1&0|1|1&1|1&1|0|0|0&1&0&1|1|1&1&0|0\\nXXXXXXXXXXXXXXXXXXXXXXXXXXXXXXXXXXXXXXXXXXX0|0|0|0\\nXXXXXXXXXXXXXXXXXXX1&0&0|0|1&1|0|0|0|1|0&1|0&1&0|0\\nXXXXXXXXXXXXXXXXXXXXXXXXXXXXXXXXXXXXXXXXXXXXX1&0|0\\nXXXXXXXXXXXXXXXXXXXXXXXXXXXXXXXXXXX0|0|0|1&0&1|1&0\\nXXX0|1|1|0&0|0&0&1&0|0|0&1&0&1|0&1|0|1&1|1|1&0|0|0\\nXXXXXXXXXXXXXXXXXXXXXXXXX0&0|1&1|0&1&0&1&0&1&0&1&1\\nXXXXXXXXXXXXXXXXXXXXXXXXXXXXXXX1&1|1|1|0&0|0|1|0&0\\nX0&1|0&0&1&0&0|1&0&0|1&0&1&0&1|1&0&1|0|1|0&1&0|0|1\\nXXXXXXXXXXXXXXXXXXXXXXXXXXXXXXXXXXXXXXX1|1|1&1|1&1\\nXXXXXXXXXXXXX0|0&1&1|0&1|0&1&1&1|1&0|1&0&1&1|0&0&0\\nXXXXXXX0&0&0&1&0&1&1|1&0&1|1|0&0|1|1&0&0|0&1|1&0&1\\nXXXXXXXXXXX1|0|0|0|0&0&1&1&0|1&0|0&1&1|0&1|0&0&1|1\\nXXXXX1|1&1|1|1&1|0|0&1|0&0|1|1|1&0|0|0&0&0&1&1&1|1\\nX1&1&1|1|1|0&1|1|0|0|1|1|1|0|0&0|1&0|0|1&1&1|1&1|1\\nXXXXXXXXXXXXXXXXXXXXXXXXX0&1|1&1|1|1&1|1|1|0|0|0&1\\nXXXXXXXXXXXXXXXXXXX0&0|1&0|0&0|1&1&0|1|1&0&1|1&1|0\\nXXXXXXXXXXXXXXXXXXXXXXXXXXXXXXXXXXXXXXX0|0&0|0|0&1\\nXXXXXXXXXXXXXXXXXXXXXXXXXXXXXXXXXXXXX1&0&0|0|1&0|1\\nXXXXXXXXX0&1&1|0&1|1|1&1&0&0|1&1|1&0|0|1&0&1&1|0|1\\nXXXXXXXXX0|0|0&0&0&1|1&0&1&0&0|0|1&1|1&0&1|0|1|1&0\\nXXXXXXXXXXXXXXXXXXXXXXXXXXXXXXXXXXXXX1|1&0|0|0&0|0\\nXXXXXXXXXXXXXXX1&1&1&0|0|0|0&0|1|1|0|0&1|0|1|1&1&1\\nXXXXXXXXXXXXXXXXXXXXXXXXXXXXXXXXXXXXX0|0|1&1&1&0|0\\nXXXXXXXXXXXXXXXXXXXXXXX0&0&0|1&1|0|1&0|0&1|0&0|1&1\\nXXXXXXXXXXXXXXXXXXXXXXXXXXXXXXXXXXXXXXXXXXXXXXX0|1\\nXXXXXXXXXXXXXXXXXXXXXXXXXXXXXXXXXXXXXXX1&0|1|1&1|0\\nXXXXX0|0|1&0|0&1|1&1|0|1|0|1|0|0&0|0&0&0&0|1&1&0|0\\nXXXXXXXXXXXXXXXXXXXXXXXXXXXXXXXXXXXXX1&0|0|0|0|0&0\\nX1|0&0&1|0&1|0|1&0|1&1&0|1|0&1|0|1&0&0&0|0&1|0&0&1\\nXXXXXXXXXXXXXXXXXXXXXXXXXXXXXXXXXXXXXXXXXXXXXXX1&1\\nXXXXXXX0|0|0&0&0&1|0|0|0|1&0|1|0&0|1|1|0|0&0&1|0&1\\nXXXXXXXXXXXXXXXXX0&0&0&1&1&1|0&1&1&1&0|1|1&0|1|1|1\\nXXXXXXXXXXXXXXXXXXXXXXXXXXXXX1|1|1|1&1&1|1&0|0&1|1\\nXXXXXXXXXXXXXXXXXXX1|0|1|0|0|1|1|1&1|0|0|0|1&1&1|0\\nXXXXXXXXXXXXXXXXXXXXXXXXXXXXXXX0|1&1|0|1|0&0|0&1&1\\nXXXXXXXXXXXXXXXXXXXXX1|0|1|0|1&0&0&1&0|0|1|1|0&0|0\\nXXXXXXXXXXXXXXXXXXXXXXXXXXXXXXXXXXX0|1|1&0|0&0|0&1\\nXXXXXXXXXXXXXXXXXXXXXXXXXXXXXXXXXXXXXXXXXXXXX1&1|0\\nXXXXXXXXXXXXXXXXXXXXXXXXXXXXXXXXXXXXX0&0|1|1|0&0|0\\nX0&1|1&0|1|0|1&0|1&0|0|0|1|0|0&0&0&1&1&1&0&0&1&0|1\\nXXXXXXXXXXXXXXXXXXXXXXXXXXX1|1|0|1&1|1&1&1|0&1&0|0\\nXXXXXXXXXXXXXXXXXXXXXXXXXXXXXXXXXXX0&1|0|1|0&0&0|1\\nXXX0|0|0&0&0|0&1|0|0|0&1|0|0&1|0|0&0|1|1|0|0|0|1|0\\nXXXXXXXXXXXXXXXXXXXXXXXXXXXXXXXXX1|0&0&1&1|0&1|1|1\\nXXXXX0|1&1&0|1|1&0|1&0|1&1|1&0|1|0|0|0&1&1|1&0&0&1\\nXXXXXXXXXXXXXXXXXXXXXXXXXXXXXXXXXXXXXXXXXXX1|0&1|1\\nXXXXXXXXXXXXXXXXXXXXXXXXX1&0&0&0|1|0|0|0&0&0|0&0|0\\nXXXXXXXXXXXXXXXXXXXXXXXXXXXXXXX0&0&0&1|1&0|0|1|0|1\\nX1&1|1|1&1|1|1|1&0|0|0|1|1&1|1&1&0&0|1&0&0&0&1&1&1\\nXXX1&0&1&1&1&1&0|0|0|0|1|0&1|0|0|0&1&1&1|1&1&0|0&0\\nXXXXXXXXXXXXXXXXXXXXXXXXX1|0&0&1|0|0|1&1&1|0|0|1&1\\nXXXXXXXXXXXXXXXXXXXXXXXXXXXXXXXXXXXXXXXXX1|1&1|1|1\\nXXX0|0|1|1|1&0&0|0&1|0&1|0&1&0|0|1|1&1|1&0&1|1|0&0\\nXXXXXXXXXXXXXXXXXXXXXXXXXXXXXXXXXXXXX1&1|0&0&0&0|1\\nXXXXXXXXXXXXXXXXX1|1|0|0|1&1&1&1|0|0&0&0|0&1|1&0|0\\nX1&0&1|0&0&0|1&0&1|1|0|0|0|1&1|0|1|0|0|1&0|0|1|1&1\\nXXXXXXXXXXXXXXXXXXXXXXXXXXXXXXX1&1&1&1|0&0&1|1|1|1\\nXXXXXXXXXXXXX1&1|0|0|0&0|0&0&0|1|1|0&1|1&1|0&1&0|1\\nX1&0&1|0&0&1|1&1&1&0|1&1&1&1&1&1|0&0&1&1|1|1|1&1&1\\nXXXXX0&1&1|0|1&1&1|1&1&0|1&1|0|1|1|1&1&0|0&0|1|1&0\\nXXXXXXXXXXXXXXXXXXXXX0|0|0|0&1|0|0|0|0|0&0&0|1|0|0\\nXXXXXXXXXXXXXXXXXXXXXXXXXXXXXXXXXXXXXXXXXXXXX1&1&0\\nXXXXXXXXXXXXXXXXXXXXXXXXXXXXXXXXX0&0|1|0&1&0|1|0&0\\nXXXXXXXXXXXXXXXXXXXXXXXXXXXXXXXXXXXXXXXXX0&1|1&1|1\\nXXXXXXXXXXXXX1&0&1|1&1|0|1|0|0|0&1|0|1&1|0|0|1&1|1\\nXXXXXXXXXXXXXXXXXXXXXXXXXXXXXXXXXXXXX0&0&1&1&0|1|0\\nXXXXXXXXXXXXX0&1|1|1|0|1|0|1&0|0&1&1|1&0|1&0|1|0|1\\nXXXXXXXXXXXXXXXXXXXXXXXXX1&1|1|1|0|1&1&1&1&1&1&1|0\\nXXXXXXXXXXXXXXXXXXXXXXXXXXXXXXXXXXXXXXXXXXXXX0|0|1\\nXXXXXXXXXXXXXXXXXXXXXXXXXXXXXXXXXXXXX0|1|1&0|0&0|0\\nXXXXXXXXXXXXX0&1|1&0|0&0|0&1&1|0|1|0|1|0&1|1&0&1|1\\nXXXXXXXXXXXXX1&0&0&1&1|0|0&0&0&0|0|1|0&1&1&1|1|0&0\\nXXXXXXXXXXXXXXXXXXXXXXXXXXXXXXXXXXXXXXXXX0|1&0|1|1\\nXXXXXXXXXXXXXXXXXXXXXXXXXXXXXXXXXXXXXXXXXXXXX0|0|0\\nXXXXXXXXXXX1|0|0|1|0|0&0|0|0&0&0|1|1&1|1&1&1&1&0&0\\nXXXXXXXXXXXXXXXXXXXXX1&1&1|1|1&1&0&1&0|0|0&0|0|1|0\\nXXXXXXXXXXXXXXXXXXXXXXXXXXXXXXXXXXXXXXXXXXX1&0|0&0\\nXXXXXXXXXXXXXXXXXXXXXXXXXXXXXXX1|1&0&0|0&0|1|1|0|1\\nXXXXXXXXXXXXXXXXXXXXXXXXXXXXXXXXXXXXXXXXX0&0|0&1|0\\nXXXXXXXXXXXXXXXXXXXXXXXXXXXXXXXXX1|1&0|0|1&0&1|1|0\\nXXXXXXXXXXXXX0|1|1&1&0&1|1&0&0|0&1|0|1&0|1|0&1&0&0\\nXXXXXXXXXXXXXXXXXXXXXXXXXXXXXXXXXXXXXXXXXXXXX0|1&1\\nXXXXXXXXXXXXXXXXXXXXXXXXXXXXXXXXXXXXXXXXXXXXX1|1|0\\nXXXXXXXXXXXXXXXXXXXXXXXXXXXXXXXXXXX1|0|0&0&0|0|0&0\\nXXXXXXXXXXXXXXXXXXXXXXXXXXXXXXXXXXXXXXXXXXXXX0&1|1\\nXXXXXXXXXXXXXXXXXXXXXXXXXXX1&1|1&1|0|1&1&0&1|1|1&1\\nXXXXXXXXXXXXXXXXXXXXXXXXXXXXXXXXXXXXXXXXXXXXXXX1&1\\nXXXXX0&1|0|1&1&1&1&1|0|1|0&0&1|0|0|1&0|0|1|1|1|0|0\\nXXXXXXXXXXXXXXXXXXX1|0&0|1|1|1&0|1&0|1|1&0&1|1&0&0\\nX0|0&1|1&1&1|0&1&1&0|0&0&1|0&0&1|0&0|0&1|0|0|1|0&1\\nXXXXXXXXXXXXXXXXXXXXXXXXXXXXXXX0|0|0&1|1&1&1&1&0|0\\nXXXXXXXXXXXXXXXXXXXXXXXXXXXXXXXXXXXXXXXXX1&1|0&1&0\\nX0|0|1&0&1&0&1&1|1&1&0|1|0&0|1|0|1&1&0|1&0|0|0|1&0\\nXXXXXXXXXXXXXXXXXXXXXXX0&1|1|1|1&0|1|0|0|0&1&1&1|1\\nXXXXX1|0&0&0|0&1&0|1|1|1&1&1&1&0|0|1&1&1&0|0&1&0|0\\nXXXXXXXXXXXXXXXXXXXXXXXXXXXXXXXXXXXXXXX1|1|1|1|1|1\\nXXXXXXXXXXXXXXXXXXXXXXXXXXXXXXX0|0|0&0&1&0&0&1&1|1\\nXXXXXXXXXXX1&0&0&0|0|0&0|1&1|1|0|1&1&0|1|0|0&0&0&1\\nXXXXXXXXXXXXX1&0&0&1&0&1|0|0|1&1&1|1|1|1|1|1&0|0|1\\nXXX0|0&1&0&1|0|1&1&1|1|1|1&1|0|1|1&0&1|0&1&0|1|0|0\\nXXXXXXXXXXXXXXXXXXXXXXXXXXXXXXXXXXXXXXXXXXXXXXXXX0\\nXXXXXXXXXXXXXXXXXXXXXXXXXXXXXXXXXXX0&1&1&1&0|0&1|0\\nXXXXXXX1|1|0|1&0|0&1|1&1&0&0|0&0&0|1|1|1|0&0&1&0|1\\nXXXXXXXXXXXXXXXXXXXXXXXXXXXXXXXXXXX1|0|0|0|0&0&0&1\\nXXXXXXXXXXXXXXXXXXXXXXXXXXXXXXXXXXXXXXXXX0|0|0&1|1\\nXXXXXXXXXXXXXXXXXXXXXXXXXXXXXXXXXXXXX1&0|1&0|0&1&0\\nXXXXXXXXXXXXXXX0|0&0&0|0&1&1&0|0&0&1&1|1|0|0&0&0&0\\nXXXXXXXXXXXXXXXXXXX0|1&1|1&0|1&1|1|1&1&0|0|1|0&0&1\\nXXXXXXXXXXXXX0|1|1&0|0|0|1&0|1|0|0&0|0|1&0|1|0|1&1\\nXXXXXXXXXXXXXXXXXXXXXXXXXXXXXXX1&1&0&1&0|0&0&0&1|0\\nXXX0|1|1|1|1|1&0|0|1&0&0&1&1|0&1|0&1&0&0|0|1|0|1|1\\nXXXXXXXXX0|0&1&0&0|0&1|0|1&1&1&0&1|1&0|0|0&1&1|1|1\\nX0|0&1|1&1|1&1|1&0|1|0&1|1|1&1|1|1|0&1|1|0&0&0&0|1\\nXXXXXXXXXXXXXXXXXXX1|0&0|0&0|1&0|1|0&0&1&0&0&0|1|0\\nXXXXXXXXXXXXXXXXXXXXXXXXXXXXXXXXXXXXXXXXX1&0&0|0|0\\nXXXXXXXXXXXXXXX1|1|1&0&1|1|0|1&0|1&0|0|1|0|1&1|0&0\\nXXXXXXX1&1|0&1&0&0|0|0|0&1&1&1&1&0&0|0&1|0|1|1|0&0\\nXXXXXXXXXXXXXXXXXXXXXXXXXXXXXXXXXXXXXXX0&0&1|0&1&0\\nXXXXX1|1|0|1&0|0&0|1&0&0|1|1&0|0&1|1|1|1|0|0&1|1&1\\nXXXXXXXXXXXXX0&1&1&0|1&0|0|1&0|1|0|0&0|1|0|0&0&1|1\\nXXXXXXXXXXXXXXXXXXXXXXXXXXXXXXXXXXXXXXX0&1&0&1&0|0\\nXXXXXXXXXXXXXXXXXXXXXXXXXXXXXXXXXXXXXXXXXXXXXXX0|0\\nXXXXXXXXXXXXXXXXXXXXXXX1&1&1|1|1|0|0|1&0&1|0|1&0|1\\nXXXXXXXXXXXXXXXXXXXXXXXXXXXXXXXXXXXXXXXXX1&1&1&0&1\\nXXXXXXXXXXX1&0&1&1&0|0&1|0|1|0&1|1&1|0&1&0&1&0|0&1\\nXXXXXXXXX1&0&1|0&1&0&0|0|1|0&1&0&0|1|0&1&0&1&1|1&0\\nXXXXXXXXXXXXXXXXXXXXXXXXXXXXXXXXXXXXXXXXXXXXX1&1&0\\nXXXXXXXXXXXXXXXXXXX0|1&1&0|0&0&1&0&1&0&0|1|0&1|0|1\\nXXXXXXXXXXXXXXXXXXXXXXX1&0&1|1&0&1&1|0&1&0&1|0|0&1\\nXXXXXXXXXXXXXXXXXXXXXXXXXXX1|0|0&0&1|1&0|1&1|0|1&1\\nXXXXXXXXXXXXXXXXXXXXXXXXXXXXXXXXXXXXXXXXXXXXXXX0|1\\nXXXXXXXXXXXXXXXXXXXXXXXXXXXXXXXXXXXXX0&1|0&0&0&0|0\\nXXXXXXXXX1&0|0&0|1|1|1&0&0|0|0|1&0|1&0&0|0|1&1|1|0\\nXXXXXXXXXXXXXXXXXXXXXXXXXXX1|1&1&0|0&1|0|1&1|1&1&1\\nXXXXXXXXXXXXXXXXXXXXXXXXXXXXXXXXXXXXXXXXXXXXXXXXX0\\nXXXXXXXXXXXXXXXXXXXXXXX1&1&1&0&0&0|0|0&0|0|0|0|0|1\\nXXXXXXXXXXXXXXX1&0|1|1|0&1&0|1|1|1&1&0|1&1&1&1&1&1\\nX1&0&0|0|1&1|0&1&1|1&1|0|1&0|1|1&0&1&1|0&1&1|1|0|1\\nXXXXXXXXXXXXX0&1&1|0&1&1&0|0|0&1|1&0&0|0&0|0|0|1&0\\nXXXXXXXXXXXXXXXXXXXXXXXXXXXXXXXXXXXXX1|0&0&0|1|0|0\\nXXXXX0&1&0&1|1&1|0&1&1&0|1&0|1|1|1&1&1|1&0&0&1|1&1\\nXXXXXXXXXXXXXXXXXXX0|0|1&1&0|1&0|1|1&1|1&1&0|1&1&0\\nXXXXXXXXXXXXXXXXX0&1|0|0|0|1|1|0|1&0|1|0&1&0|1&0|1\\nXXXXXXXXXXXXXXXXXXXXXXXXXXXXXXXXXXXXXXXXXXXXXXX1&1\\nXXXXXXXXXXXXXXXXXXXXXXXXXXXXXXX1&1&1|1&0|1|1&0|0&1\\nXXXXXXXXXXXXXXXXXXXXXXXXXXX0&1|0&0|0&0|0|0|1&0&1&0\\nXXXXXXXXX1&1&1&0&1|0&0|0&0&0&1|1|0|1&1&0|1&0|0&0&1\\nX1&0&1&0&0&1|0&0|0&0&0&1|1&1|0&1|0&0&0&1&1&1&0&0|0\\nX1&0&1&1|0|0|1&0|0&1|0&0|0|1|0|0|0&1|1&1|1&1&1&0|0\\nXXXXXXXXXXXXXXXXXXXXX0&1|1&0&0&0|0|0&1&1|1&1|0|1|0\\nXXXXXXXXXXXXXXXXXXXXXXXXXXXXXXXXXXXXXXXXX0&1&0|0&1\\nXXXXXXXXX0&0|0&0&1|1|1|0|0&1&0|1&0&1&0|0|1|1|0&1&0\\nXXXXXXXXXXXXXXXXXXXXXXXXXXXXXXXXXXXXX1&1|1&0|0|1&1\\nXXXXXXXXXXXXXXXXXXXXXXXXXXXXXXXXXXXXXXXXXXXXX1|1|1\\nX1|0&0&1|0|1&1&1|1&0&1|0&0&0&1&1&1&1|0&1&0&1&0|0|0\\nXXXXXXXXXXXXXXXXXXXXXXXXXXXXX0&0|1|1&1&0|1&1&1|1|0\\nXXXXXXXXXXXXXXXXXXXXXXXXXXX1&0|0|1&0&0&1|0&0&1|0|0\\nXXXXXXXXXXXXXXXXXXXXXXXXXXXXXXXXXXXXXXXXXXXXXXXXX1\\nXXXXXXXXXXXXXXXXXXX1|1|1|0&0|0|1&1&0|1&1&1&1&0&0|1\\nXXXXXXXXXXXXXXXXX1|0&0|0|0|1|1&0|0&1&1&0&1|0|0|0|0\\nXXXXXXXXXXXXXXXXXXXXXXXXXXXXXXXXXXXXXXX1|1&0&0|1|1\\nXXXXXXXXXXXXXXXXXXXXXXXXXXXXXXXXXXX1&1&0&0&0|0|1&0\\nXXXXXXXXXXXXXXXXXXXXXXXXXXXXXXXXXXXXXXXXXXXXX1|1&1\\nXXXXXXXXXXXXXXXXXXXXXXXXXXXXXXXXXXXXXXXXXXXXXXXXX1\\nXXXXXXXXXXXXXXXXXXXXXXX1&1|0|0|0|0|0|0&0|0&0|0|0|1\\nXXXXXXXXXXXXXXXXXXXXXXXXXXXXXXXXXXXXXXXXXXXXXXXXX1\\nXXXXXXXXXXXXXXXXXXXXXXXXXXXXXXXXXXX1|1|1|0|1|0&1&1\\nXXXXXXXXXXXXXXXXXXXXXXX1&1&1|0|0&0&0|1|1|1&0|0&0&0\\nXXXXXXXXXXXXXXXXXXXXXXXXXXXXXXXXXXXXXXXXXXXXXXXXX1\\nXXXXXXXXXXX1|1|1|1|1&1&1|0&1|1|0&0&0|0&0|0|1&0&0|1\\nXXX0|0|1|0&1|1|1|1|0|0&0|0|1|0&0&1&0|0&0|0&1&1&0&1\\nXXXXXXXXXXXXXXXXX1&1|0&1|1&0&1&0&0&1&0|1|1&1|0&1|0\\nXXXXXXXXXXXXXXXXXXXXXXXXXXXXXXXXXXXXXXXXXXXXXXX0&0\\nXXXXXXXXXXXXXXXXXXXXXXXXXXXXXXXXXXX0&1|1&0&1&0|0&1\\nXXXXX1&1|0&0|1|0&0|0|0|0&1|0|0|1|0|1&0&0|1&1&0|1|1\\nXXXXXXXXXXX0|1|0&1&0&1&0&0&0|0|1|1&1&1&0|1|0|0&1&0\\nXXXXXXXXXXXXXXXXX1&0|0&1&1|1|1&1&1&0|1|1|0|1|1|1|0\\nXXXXXXXXXXXXXXXXXXXXXXXXXXXXX0|1&1|0|0|0|1|0|1|0|1\\nXXXXXXXXXXXXXXXXXXXXXXXXXXXXX1&1|1|0&1&0|1|0&1&1&1\\nXXXXXXXXXXXXX0&0&1&1|0&0|1|1&1|1&1|0&1|1|1&1&1|0|1\\nXXXXXXXXXXXXXXXXXXXXXXXXXXXXXXXXXXXXXXXXXXX0|0|0&1\\nXXXXXXXXXXXXXXXXXXXXXXXXXXXXXXXXXXX0|1|1|1&1|0|0&0\\nXXXXXXXXXXXXXXXXXXXXXXXXXXXXXXXXXXXXXXXXX1&0|1|1|1\\nXXXXXXXXXXXXXXXXXXXXXXXXXXXXXXXXXXXXXXXXXXXXX1|1|1\\nXXXXX1&1&1&0|1&1&0|1&0|1|1&0|1|1|0&0|0&0|1|1&0&0&1\\nXXXXXXXXX0|1&1&1|0&0&0|1|1|0&0|1|0&0&1|0|0|1&0&1&0\\nXXXXXXXXXXXXXXXXXXXXXXXXXXXXXXXXXXXXXXX0|1|0&1|0&1\\nXXXXXXXXXXXXXXXXX1|1|1|0|0&1|0|1&1|1|0&1|1|0&0&1&0\\nXXXXXXXXXXXXXXXXXXXXXXXXXXXXXXXXX1&1&1|1&1|0|1&0|1\\nXXXXXXXXXXXXXXXXXXXXXXXXXXXXXXXXXXXXXXXXXXXXX0&1&0\\nXXXXXXXXXXXXXXXXXXXXXXXXXXXXXXXXXXXXXXXXXXXXX0|0&1\\nXXXXXXXXXXXXXXXXXXXXXXX1|1|1&0|1|0|1|1|1&0&1&0|0&1\\nXXXXXXXXXXXXXXXXX0|0|0&1&1&1&1|0|1&1|0|0&0|1&1|0&1\\nXXXXXXXXXXXXXXXXXXXXXXXXXXXXXXXXX0&1&1&0|1|1&0|1|0\\nXXXXXXXXXXXXXXXXXXXXXXXXXXXXXXXXXXXXXXXXXXX1|0|0&1\\nXXXXXXXXXXXXXXXXX1|1|1|1|1&1|1&0|1|1|1&0|0|0&0|0&1\\nXXXXXXXXXXXXXXXXX1|1&1&0|0|0&0|1|0&0|0|1|0|1|1&0&1\\nXXXXXXXXXXXXXXXXXXX0&1|0|0|0|0|1|0&1|1&1|1&0|1&0&0\\nXXXXXXXXXXXXXXXXXXXXXXXXXXXXXXXXXXXXX0&1&0&1|0&0&1\\nXXXXXXXXXXXXXXXXXXXXXXXXXXXXXXXXXXXXXXXXXXXXXXXXX1\\nXXXXXXXXXXXXXXX1&1&0|0|0&0|1&1|1&1|1&0|0&1|0&0&1&1\\nXXXXXXXXXXXXXXXXXXXXXXXXXXXXXXXXX1&1&0&1|1&1|1|0&1\\nXXXXXXXXXXXXXXXXXXXXXXXXX0&0&1&0|1&0&1&1|1&0&1&1&1\\nXXXXXXXXXXXXXXXXXXXXXXXXXXXXXXXXX0&0|0&0|0|0&1|0&1\\nXXXXXXXXXXXXXXXXXXXXXXXXXXXXXXXXXXX1&0|1|0&1&1&1&1\\nXXXXXXXXXXXXXXXXXXXXXXXXXXX1|0|0|1&0|0&0&1|1&1&1|0\\nX0|1&0|1|1|1|0&1|1&0|0&0&0|1|0&1&1&0&1&0|1&1|1&1&1\\nXXXXXXXXXXXXXXXXXXXXXXXXXXXXXXXXXXXXXXXXXXX0&0|0|0\\nXXXXXXXXXXXXXXXXXXXXX1&0|1&1|1|1|1&0|1&1&0|1&1&1|1\\nXXXXXXXXXXXXXXX1|1|0&1&0|0|0|0&1&0|1&1&1|0|1&0&0&1\\nXXXXXXXXXXXXXXXXXXXXXXXXXXXXXXXXXXXXXXXXXXXXXXXXX1\\nXXXXXXXXXXXXXXXXXXXXXXXXXXXXXXXXX0|0|0&0|1|1|1|1&1\\nXXXXXXXXXXXXXXXXXXX0&0|1&1&1&1|0&1|0&0|1|0&0|0|1&0\\nXXXXXXXXXXXXXXXXXXXXXXXXXXXXXXXXXXXXX0|1&0&0|0|1|0\\nXXXXXXXXXXXXXXXXXXXXXXXXXXXXXXX1&0&0&0|0|0&0|1|1&0\\nXXXXXXXXXXXXXXXXX0|0|1&1|1&1&1|0&1&1|0&0&0&1&1&1|0\\nXXXXXXXXXXXXXXX0|1|1&0&1|0&1|0&1|0&1&1|1|1|0&0|0|0\\nXXXXXXXXXXXXXXXXXXXXXXXXXXXXX0|0&0&0&0&1&0&1&1&1&1\\nXXXXXXXXXXXXXXXXXXXXXXXXXXXXXXXXXXXXX1&0&0|0&1|1|1\\nXXXXXXXXXXXXXXXXXXXXXXXXXXXXXXXXX0&1&1|1|1&0|1&1&1\\nXXXXXXXXXXXXXXX0|1&0&0&0|0|0|1|1&1&1&1&1&1&0|1&1&0\\nXXXXXXXXXXXXXXXXXXXXXXXXXXXXXXXXXXXXXXXXXXXXX0&0&0\\nXXXXXXX0&0&0&1|0&0|1&1|1&0&1&1|1&0&1&0&0|0&0|1|1|0\\nXXXXXXXXXXXXXXXXXXXXXXXXX1&1|1&0|1|1&0|0&0&1&1&0&0\\nXXXXXXXXXXXXX1&1&1&0&0|1|0&0&0&1|0&0&1&0&1&0&1|1&1\\nXXX1|0&1|0&1&0|0&1&0&1|1|1|0&1|0|0&1|0&0|0&0|1|1&0\\nXXX0&1|1&1&1&0|0|0&0&1|0&0|1&0|0&0|0|0|1&1|1&1|1|0\\nXXXXX1|0|1|0|1&0&0|1|1&1|1&0&1&1|0&0&1&1&1&1|0&1|0\\nXXXXXXXXXXXXXXX1&0&0&1&1&1|1&1&1&1|1|0|1|1|0|0|1&0\\nXXXXXXXXXXXXXXXXXXXXXXXXXXXXXXXXX0&1&1&1&0|0&0&0|0\\nXXXXXXXXXXXXXXXXXXXXXXXXXXXXXXXXXXXXXXXXX0&0|0&0&0\\nXXXXXXXXXXXXXXXXXXXXXXXXXXXXXXX0|0|0|1|0|1|0|0&1&0\\nXXXXXXXXXXXXX1|0&0&0&0&1|0&0|1|1&1&0&1|1|0&1|1&1&1\\nXXXXXXXXXXXXXXXXXXXXXXXXXXXXXXX0|1|0&1|0|1|1|1|1&1\\nXXXXXXXXXXXXXXXXXXXXXXXXXXXXXXXXXXXXX0&0&0&1&0&1&0\\nXXX0|0|1|0|1|1&0&0|1|1&1&0&1|0&1&0&0|1&1&0&1|0|1&0\\nXXXXXXXXXXXXXXXXXXXXXXXXXXXXXXXXXXXXXXXXXXX0|1|1|0\\nXXXXXXXXXXXXXXXXXXXXXXXXXXXXXXXXXXXXXXXXXXX1&0|1&1\\nX1&1|0&0|1|1&1&0|0&0&1|1|0&1&0&1&1&0|1|0&1|0|0&1&1\\nXXXXXXXXXXXXXXXXXXXXXXXXXXXXXXXXXXXXXXXXXXXXX1&0|0\\nX1&1&1|0|0&0&0|0&1&0&0|1&1|0&1&0&0|1|0&1|0|0&0&0&1\\nXXXXXXXXXXXXXXXXXXXXXXXXXXXXX0&0&1|0&1&1&1&1|1|1|0\\nXXXXXXXXXXXXXXXXXXXXXXXXXXXXXXXXXXX0&1&1&0&1&0&0&0\\nXXXXXXXXXXXXXXXXXXXXXXXXXXXXXXXXXXXXXXXXXXXXX0|0|0\\nXXXXXXXXXXXXXXXXXXXXX1|0|1&0&1|0|0&1|1&0|0|1|0|1|1\\nXXXXXXXXXXXXXXXXXXXXXXXXX1&1&0|1|0&1|1|0|0|1|1|1&0\\nXXXXXXX0|0|0|1|1&1|0|0&0|0&1|0|1&0&0|1&1&0&1&1|1&0\\nXXXXXXXXXXXXXXXXXXXXXXXXXXXXXXXXXXX0|0&0|0|0&1&0|0\\nXXXXXXXXXXXXXXXXXXXXXXXXXXXXXXXXXXXXX0&1&1|1&1|1&0\\nXXXXXXXXXXXXXXXXXXXXX0&0|1|0|1&1&1&0|1&0|0&1|1|0&1\\nXXXXXXXXXXXXX1&1&1&1|1|0|1|0&0&1&0&1|0|1&1&1|0&0|0\\nXXXXXXX1&1&1|0|0|1&0|1&0|1|1|1|0|1|1|1|1&0&1&0&1&1\\nXXXXXXXXX1&0&1|0&1|0&1&1&1&0|1&1|1&0&0|0&1&1&0|1|1\\nXXXXXXXXXXXXX0&0&0&0&1&0|0|1&0&1|0|1|1|1|0|0&1&1&0\\nXXXXXXXXXXXXXXXXXXXXX1|1|0|0&1&1|0&1&0&1&1|0|1|0|1\\nXXXXXXXXXXXXXXXXXXXXXXXXXXX1|1|1|1|0&1|1&0&0|0|1|1\\nXXXXX0|0&1|1&0|0|1|0&0|0&0&0&0&0&1|1|0&0|0&0|1&1|1\\nXXXXXXXXXXXXXXXXXXXXXXXXXXXXXXXXX1&0&0&0&0|0|0&1&0\\nXXXXXXXXXXXXXXX1&0&0|1&0&1|1&0&1&0&0|1&0|1&0|0&0|0\\nXXXXXXXXXXXXXXXXXXXXXXXXXXXXXXXXXXXXXXXXXXXXXXXXX0\\nX1&1&1|0&1|1|1|1|1|0|0|1&1|1&1|1|1|0|0|0&0|0&0|1|1\\nXXXXXXXXXXXXXXXXXXXXXXXXXXXXXXXXXXXXX1&1|0|0|0|1|1\\nXXX1&1&0&1|0&0&0|0&0&1|1&0&1&1|1&1&0|0|1|0|1&0&1|1\\nXXXXXXXXXXXXXXXXXXXXXXXXXXXXXXX0&1|0&0|1|0&1&0&0&1\\nXXXXXXXXXXXXXXXXXXXXXXXXXXXXXXXXXXXXXXXXXXXXXXX1|0\\nXXXXXXX1&0&1&0&1&0&1|1|0|0&1&0&0&1&0&1&1&0|0&1&0&1\\nXXXXXXXXXXXXXXXXXXXXXXXXXXXXXXXXXXXXXXXXXXXXX0&1|0\\nXXXXXXXXXXXXX0|0|1|1|1&0&0&0&0&1&1&1|1|0|0|0|0|1|1\\nXXXXXXXXXXXXXXXXXXXXXXXXXXXXXXXXXXXXXXXXXXXXXXX1&0\\nXXXXXXXXXXXXXXXXXXXXXXXXXXXXXXXXXXXXXXX1&0|1&1&1&1\\nXXXXXXXXXXXXXXXXXXXXXXXXXXXXXXXXXXX1&1&1&0&1&1|1&0\\nXXXXX0|0|0&0&1|1|1&1&0|0|0|1&1|0&0&1&0|0|0|0&1&0&1\\nXXXXX0|0&0|0&0&1&1&1|0&0&0&1|0|1|0&0&1&0&0&0|1|1&0\\nXXXXXXXXXXX0&0|0|1&0&1|0|1&0&1&0&1|1&0&0|1&0&1|1&0\\nXXXXXXXXXXXXXXXXXXXXXXX0&1|1&1|1|1|1&0|0|0&1&0&1|1\\nXXXXXXXXXXXXXXX0&1&0|0&1&0&0|0&1&0|1|0|0|0|0&0|0|0\\nXXXXXXX1|0&1|0&1|0|0&1|0&1|1&0&1&0|1|0&0&0|0&1|0&0\\nXXXXXXXXXXXXXXXXXXXXXXXXXXXXXXXXXXXXXXXXXXX0|1&1|0\\nXXXXXXXXXXXXXXX0|0|0|0&0&0|0&1|1&1&1|0|1|1&1&1|0|1\\nXXXXXXXXXXXXXXXXXXXXXXXXX0&1|1|1&1&0|0|0|0&0|1&1&0\\nXXXXXXXXXXXXXXXXXXXXXXXXXXXXXXXXX1&0&0&0|0|1|0&1&0\\nXXXXXXXXXXXXXXXXXXXXXXXXXXXXXXX0&1&0|1|1&0|0|0&1&1\\nXXXXXXXXXXXXXXXXXXXXXXXXXXXXXXXXXXXXXXXXXXX0&0&1|0\\nXXXXXXXXXXXXXXXXXXXXX0|1|0&0&1|0&1&0|1&1|0&0&0|1&0\\nXXXXXXXXXXXXXXXXXXXXXXXXXXXXXXXXXXXXXXXXXXXXX1|0|0\\nXXXXXXXXXXXXXXXXXXXXXXX1|1|1&1&0&0&1&0|0|0|0|0&0|1\\nXXXXXXXXXXXXXXXXXXXXXXXXXXXXXXX0&1|1&0&0|0&0&1|1|1\\nXXXXXXXXXXXXXXXXXXXXXXX1&0|0|0&0&1|1&1|0&1&0&0&0&0\\nXXXXXXXXXXXXXXXXXXXXXXXXXXXXXXXXXXXXXXXXX1&0|0&1|0\\nXXXXXXXXXXXXXXXXXXXXXXXXXXXXXXXXXXXXXXXXXXX0&0&0&0\\nXXXXXXXXXXXXXXXXXXXXXXXXXXXXXXXXXXXXXXXXXXXXXXX0|1\\nXXXXXXXXX0&0&1&1&0|1&1&1&0|0&1&0|1&0|1&1&1&0|1|1&0\\nXXXXX0|0|1&0|0&1|1&1&1|1|1|0&0|0|1&1|0&0&0&1&0&1&1\\nX0&0|1|0|0|1&1|1|1&1|0|1|1|1|1&0|1|1|0|1|0|1&0|0&0\\nXXXXXXXXXXXXXXXXXXXXXXXXXXXXX1|0|0&0|0|1|0&1|0&0|0\\nXXXXXXXXXXXXXXXXXXXXXXXXXXXXX0|0&0|0|1|1&0&0|0|0&0\\nXXXXXXXXX1&0&0&0|1|0&1&0&0|0|0&1&1|1&1&0|1|0|0&1|1\\nXXXXXXXXXXXXXXXXX0&0|1&1&1|0&0&1&1|0&1|0&1&0&1|1&1\\nXXXXXXXXXXXXXXXXXXXXXXXXXXXXXXXXXXX1|0&0&0|1|0&0|1\\nXXXXXXXXXXX1&0|1|1|1|1|1|1|1|0|1&1&1|0&0|1|1|1&1|0\\nXXXXXXXXXXXXXXXXXXXXX1|1|0|1&0|0|1&0|1|1&0&0|1|0&1\\nXXXXXXXXXXXXXXXXXXXXXXXXXXXXXXXXXXXXXXXXX1|0&1|1|1\\nXXXXXXXXXXXXXXXXXXXXXXXXX0|1|1&1|1&0&0&1|0|0|0|0&0\\nXXXXXXXXXXXXXXXXXXX1|1&0|0|0|0&1|0|0|0&0&1&1&1|0|0\\nXXXXXXXXXXXXXXXXXXXXXXXXXXXXX0&0|1|1|1&1|0|1|1&1|0\\nXXXXXXXXXXXXXXXXXXXXXXXXXXXXXXXXXXXXXXXXXXX1&0|0|0\\nXXXXXXXXXXXXXXXXXXXXXXXXXXXXX1&1&1|1|0&1|0&0&0&1|1\\nXXXXXXXXXXXXXXXXX0|1|0&0|1&0&0&1|0|0|0|1&0&1&0|0|1\\nXXXXXXXXXXXXXXXXXXXXXXXXXXXXXXXXXXX0&0&1|0&1|1&0&1\\nXXXXXXXXXXXXXXXXXXXXXXXXXXXXXXXXXXXXXXXXXXXXXXX1|1\\nXXXXXXXXXXX0|1&1&1&0&1|0&0|1|0|1|1|1|1|0|0&0|0|1&1\\nX0|1|1|1|1&1|1&0|1&0&1&1&1|0|0&0&0|0|1&0|0&1&1|1&1\\nXXXXXXXXXXXXXXXXXXXXXXXXXXXXXXXXXXX0|1|1&0|1&0&1|0\\nXXXXXXX1&0&0|1|0&0&0&1&0|0|1&0|0&0|0|0|0&1&0|0&0|1\\nXXXXXXXXXXXXXXXXXXXXXXXXXXXXXXXXX1&1&0&0|1&1|0|0&0\\nXXXXXXX1|1|0|0|0&0|1|0|0&1|0|1&0|1|1|0|1&0&1&0&1&0\\nXXXXXXXXXXX1&0&1&1|0&1&0&0|0&1&1|1&0|0&1&0&0&0&0&1\\nXXXXXXXXXXXXXXXXX0&1&1&1&1&0|1|0|1|0|0|1&0&0&1&1&1\\nXXX1|1&0&1|0&1&1&1&0|1|0&0|0|1|0&1&1&1|0&0&1&0&1&1\\nXXXXXXXXXXXXXXXXXXXXXXXXXXXXXXXXXXXXX0|1|1&1&0&1|0\\nXXXXXXXXXXXXXXXXXXXXXXXXXXXXXXXXXXXXXXXXXXXXXXXXX0\\nXXXXXXXXXXXXXXXXXXXXXXXXXXXXXXXXX1&0&1|1&0|0|1|1&1\\nXXXXXXXXXXXXXXXXXXXXXXXXXXXXXXXXXXXXXXXXX0&1&1|0|1\\nXXXXXXXXXXXXXXXXXXXXXXXXXXXXXXXXXXXXXXXXXXX1&1&0&1\\nXXXXXXXXXXXXXXXXXXX0&0&0|0&1&0|0|0|0|1|1&0|1|1|0&0\\nXXXXXXXXXXXXXXXXXXXXXXXXXXXXX0|0&0&0|0|1|0&0&0|0&0\\nXXXXXXXXXXXXXXXXXXXXXXXXXXXXXXXXXXXXX0&0|1|1|1|0&0\\nXXXXXXXXXXXXXXXXXXXXXXXXXXXXXXXXXXXXXXXXX0&0&1&0|0\\nXXXXXXXXXXXXXXXXXXXXXXXXXXXXXXXXXXXXXXXXX1|1|0|0&0\\nXXXXX0|1|1&0|0&0&0&1&1&0&0&1|0|1|0|0&1|0&0&1|1&1&0\\nXXXXXXXXXXXXXXXXXXXXXXX0&0|1|0|1&1|1&1|1&1|1|0|1&0\\nXXXXXXXXXXXXXXXXXXX1|0&0&1&1|1&0&1|0|1|1&0|0&1|0|0\\nXXXXXXXXXXXXXXXXXXXXXXXXXXXXXXXXXXXXXXXXXXX0&0|0|0\\nXXXXXXXXXXXXXXXXX0&0|1|1|1&1&0&1&1&1|1&1&1&1&0&1&0\\nXXXXXXXXXXXXXXXXXXXXXXXXXXXXXXXXXXXXXXXXX1&1|1|1|1\\nXXXXXXX0|1&1|1|0|1|0&1|0|1|0|0&1&0&0&1|1&0&0|0&1|1\\nXXXXXXXXXXXXXXXXXXXXXXXXXXXXXXXXX0&0&0|1&1|1&1&0&0\\nXXXXXXXXXXXXXXXXXXXXXXXXXXXXXXXXXXXXX0|0&1&1|1|1|1\\nXXXXXXXXXXXXXXXXXXXXXXXXXXX1|1&1&0|1|0|0&1|0&1&1&0\\nXXXXXXXXXXX1|0&0|0&1|0&1&0&0|1&0|1|1|0&1|0|0|1|1&0\\nXXXXXXXXXXXXXXXXXXXXXXXXXXXXXXXXXXXXXXXXXXX1|0|1&0\\nXXXXXXXXXXXXXXXXXXXXXXXXXXX0&0&1|1&0|1|0|0&1|0|1|0\\nXXXXXXX0|0&1|1&0&0|0&0&1|0|0&1|0&1&0|1|0&0|1|0&1&0\\nXXXXXXXXXXXXXXXXXXXXXXXXXXXXXXXXX1|1&1&1&0&0&0|0|0\\nXXXXXXXXXXXXXXXXXXX0|0|1&0|0|1|1|1|1|0|1|1|0&1&0&1\\nXXXXXXX1|1&0|1|0|1&1|0|1|0|0|0|1|0&1|1|0|1|0&1&1|0\\nXXXXXXXXXXXXXXXXXXXXXXXXXXXXXXXXXXXXXXXXXXXXXXX0|0\\nXXXXX0&0|1&1&1&0|0&1&1&0&1&0|0|0|0|0&0|1|1&1|1|1|1\\nXXXXXXXXXXXXXXXXXXXXXXXXX1&0&0|0|1|1|1|1|1|1|1&1&0\\nXXXXXXXXXXXXXXXXXXXXXXXXX1|0&1|0&0|1|1&0&0|1|0|1|1\\nX0|1&0&0|1&1|0|0|1&1|0&0&0&1|1|1|0|1&1|1&0&1|1|0|1\\nXXXXXXXXXXXXXXXXXXXXX1|1&1&0|1&1&0|0&0&1&0&0|1&1&1\\nXXXXXXXXXXXXXXXXXXXXXXX0|0|1|0&1&1&1|0&0|0&1&1|0&0\\nXXXXXXXXXXXXXXXXXXXXXXXXXXXXXXXXXXXXXXXXXXX1&1&0&1\\nXXXXXXXXXXXXXXXXXXXXXXXXXXXXXXXXXXX0&1|1&0&1|1|0|1\\nXXXXXXXXXXXXXXXXXXXXXXX0&1|1&0|1|1|1&1|1&0&0&1&0|1\\nX0&0|1|1&0&0&0|1&1&1&1|1|1&1&0|0&1&0|1|1&1|1&0&1&0\\nXXXXXXXXXXXXXXXXXXXXXXXXXXXXXXX1|1|1&1&1|0|1&1|0&0\\nXXXXXXXXXXXXXXXXXXXXXXXXXXXXXXXXXXXXXXXXXXXXXXX0&0\\nXXXXXXXXXXXXXXXXXXXXXXXXXXXXXXXXX1|1&1&1|1&1|0|1&0\\nXXXXXXXXXXXXXXXXXXXXXXXXX0&0&0&0|1|1|0&1|0&0|1|1&1\\nX0|1&1&0|1&1|1&1|1|0|1&1&0&1|1|1&1&0|1|0&1|0&1&1&0\\nXXXXXXXXXXXXXXXXXXXXXXXXXXXXXXXXXXXXXXXXXXX0&1&1&0\\nXXXXXXXXXXXXXXXXXXXXXXXXXXXXXXX1&0&0|1|0|1&1&1|1|0\\nX0&1&1&0&0&1&0|0&1&0&1|1|1&0&1&0|1|0&1&0|0|1&0&1|0\\nX0|1&1&0|1&1&1|0|0|1&1|1&0&0|0&0&0&0&0|1&0|1&1&1|1\\nXXXXXXXXXXX1|0&0&0|0|1&1|1&0&0|0&1&0&1&1&1&0&0&0&0\\nXXXXXXXXXXXXXXXXXXXXXXXXXXXXXXXXXXXXXXXXXXXXX1&0|0\\nXXX1&1|1|0|1&0&1&0|0&1|0&1|1&0&1&1|1|1&0&0&0&0&0|1\\nXXXXX1&1&1&1|0|0&1&1&0&1|1|1|0&1|1&0&1|0|0&1&0&1|0\\nXXXXXXXXXXXXXXXXXXXXXXXXXXXXXXXXXXXXXXXXXXX1&0|0|0\\nXXXXXXX0&1&0&0|0&1|1&1&0|1|0&1&1&0&0&0&0|1&0&1|0&0\\nXXXXXXXXXXXXXXXXXXXXX1&0&1&0&0&0|0&0|0&0&0|1|1|1&0\\nXXXXX1&0&0&1|1|0|0|1|0&0|0|1&0|1&0|1&0|1&0&0&0&1|1\\nXXXXXXXXXXXXXXXXXXXXXXXXXXXXX1|1|1&0&1|0|1&0&0&0&1\\nXXXXXXXXXXXXXXXXXXXXXXXXXXXXXXXXX1&1|0&0|1&0&0&1|1\\nXXXXXXXXXXXXXXXXXXXXXXXXXXXXXXXXXXXXX1|1|1&0|0|0&1\\nXXXXXXXXXXXXXXXXXXXXXXXXXXXXXXXXXXXXXXX0&0|1&1|1|0\\nXXXXXXXXXXXXXXXXXXXXXXXXXXXXXXX0|0|1|0|0&1|1|1&1|1\\nXXXXXXXXXXXXXXXXXXXXXXXXXXXXXXX1|1&0|0|1|0&1|0|0|1\\nXXXXXXXXXXXXXXXXXXXXXXXXXXXXXXXXXXXXXXX0|1|1|1|1|0\\nXXXXXXXXXXXXXXXXXXXXXXXXXXXXXXXXXXXXXXXXXXXXX1|0|0\\nXXXXXXXXXXXXXXX0|0&1|1|1|1|1|1|1&0&1&1|1|0&1&1|0&1\\nXXXXXXXXXXX1|0&0|0|1&0&0&0&0|0&0&1&1|1|0&1|0|0&0&1\\nX0|1&1|0|1&0&0|1&0|1&1&0|0|1|1|1&1|0|1|1|1|0|1|0&0\\nXXXXXXXXXXXXXXXXXXXXXXXXXXXXXXX1|1&0|1&0|0|0&0|0|1\\nXXXXXXXXXXXXXXXXXXXXXXXXX0|1&1|1&1&0&0&1&1&0&1|0&0\\nXXX1&0&0|1&1|1&0&1|1&1|0|1|0|0&0|1&0&1&1&0|1&1|0|0\\nXXXXXXXXXXXXXXXXXXXXXXX0|0|0&1&0|1|0|1&0&0&0&1|0&1\\nXXXXXXXXXXXXXXXXXXXXXXXXXXXXXXXXXXXXXXXXXXX0|1|0&0\\nXXXXXXXXXXXXXXXXXXXXXXXXXXXXXXXXXXXXX1&1&1|1&1|0|1\\nXXXXXXXXXXXXXXXXXXXXXXXXXXXXX0&0&0|0&1|1|0&1&0&1&1\\nXXXXXXXXXXX1&1&1&1&0&1&0&0&0|1&1|0|1|1&1|0|0&0|0|1\\nXXXXXXXXXXXXXXXXXXXXX1|1|1|0|0|1&1|1|0|0&0&0|0|1&1\\nXXXXXXXXXXXXXXXXXXXXXXXXXXXXXXXXXXXXXXXXXXXXXXX1&0\\nXXXXXXXXXXXXXXXXXXXXXXXXXXXXXXXXXXXXXXXXXXX0|0&0|0\\nXXXXXXXXXXX1&0|1&1|1|1&1|0|1|1&1&0&1&1&0&1|1|0|0&1\\nXXXXXXXXXXXXXXXXXXXXXXX1|1|1&1&1|1|0|0&0&1&1|1|1|0\\nXXXXXXXXXXXXXXX0&1|0|0|1|1|0|1|1&1|0&1|0|0|0|1&1&1\\nXXXXXXXXXXXXXXXXXXXXX1&1&1|0|0&0|1&1&1|1|0|1|1|0|1\\nXXXXXXXXXXXXXXXXXXX0&0&0&0&0|1|1|0|0|1&1|0&0|1&1|1\\nXXXXXXXXX1&0&1|0&1&0&0&1|1&0&0&1&0|1&0|1|0|1&1|1|0\\nXXXXXXXXXXXXXXXXXXXXXXXXXXXXXXXXXXXXXXXXXXXXXXX1|0\\nXXXXXXXXXXXXXXXXXXXXXXXXXXXXXXX0&1&1|1&0|0|0&1&1&0\\nXXXXXXXXXXXXXXXXXXXXXXXXXXXXXXXXXXX1|1&0|1|1&0&0&0\\nXXXXXXXXXXXXXXX0|0&1|0&0|1&1|1|0|0|0|0&0|0&1|0|0|1\\nXXXXX0|1&1&0&0|0&1|1&1|1|1|0&1&1&1&1|1&0&0|0|0|0&1\\nXXXXXXXXXXXXXXXXXXXXXXXXXXXXXXXXXXXXX1&0|0|1&0&0&1\\nXXXXXXXXXXXXXXX1|0&0|0|0&0|0|0&1|1&0&0&0|0|0&1|0|0\\nXXXXXXXXXXXXXXXXXXXXXXXXXXXXXXXXX1&1&0|0|1|0&0&0&1\\nXXXXXXX0|0|0|1|0&0&1&1|0|0&0|0|1&1|0&0|0&0&1|1|1&1\\nXXXXXXXXXXXXXXXXXXXXX0&0&0|1|1|0&1&1|0|0|0|0|1|0&0\\nXXXXXXXXXXXXXXXXXXXXX1&1&1&1|0&1&1|1&1|0|0&0&1|0&1\\nXXX1|1&0|0&0|0|1|0|1|0|1&0|0|0&1|0&1&0&0|1&1|0|0|1\\nXXXXXXXXXXXXXXXXXXXXXXXXXXXXXXXXXXXXXXX0&0&1&0|0|0\\nXXXXXXXXXXXXXXXXXXXXXXXXX1&0|0|0|1&1|1&1&1|0|0|1&1\\nXXXXXXXXXXXXXXXXXXXXXXXXXXXXXXXXXXXXX0&1&0|1&0&1|0\\nXXXXXXXXXXXXXXXXXXXXXXXXXXXXX0&1&0|1&0&1&1|1|0&1|0\\nXXXXXXXXXXXXXXXXX1|0|0&1|0&1|1&0|1|0|0&0&0&0&0&0|0\\nXXXXXXXXX1|1|1|1&0&1&0|1&1&1|1&1|0|0|0&1|1|0|1|1|1\\nXXXXXXXXXXXXXXXXXXXXXXXXXXXXXXXXXXXXX0|1|0&0|1&1|1\\nXXXXXXXXXXXXXXXXXXXXXXXXXXXXXXXXXXXXXXXXX0&0|1&0|0\\nXXXXXXXXXXX1&1&0&0&0&0&0&1|1&1|1&1|0|0|0&1|1&0|0&0\\nXXXXXXXXXXXXXXXXXXXXXXXXXXXXXXXXX1|1&1|0&1&1&0&1|0\\nXXXXXXXXXXXXXXXXXXXXXXXXXXX1&0|1|1|1|1|1|0|0&0&0|0\\nXXXXXXXXXXXXXXXXXXXXXXXXXXXXXXXXXXXXXXX1&1|1|1|0&1\\nXXXXXXXXXXXXXXX0&1|0|1&1|0&1&0|0&1|1|1&1|1|1&1|0|0\\nXXXXXXXXXXXXXXXXXXXXXXXXXXXXXXXXX1|0|1|1&1&1&1&0&1\\nXXXXXXXXXXXXXXXXXXXXXXXXXXXXXXXXX1|0|0&1&0&1|1|0|1\\nXXXXXXXXXXXXXXXXXXXXXXXXXXXXXXXXXXXXX0&0&1&1|0|1|0\\nXXXXXXXXXXXXXXXXXXXXXXXXXXXXXXXXXXXXXXXXXXXXXXXXX1\\nXXXXXXXXXXXXXXXXXXXXXXXXXXXXXXXXXXXXXXXXXXXXXXXXX0\\nXXXXXXXXXXXXXXXXXXXXXXXXXXXXXXXXXXXXXXXXXXXXX0&0&0\\nXXXXXXX1&1|1&0|0|1|1&0&1|0&1&0|1&0&0|0|0&1|0|0|1&0\\nXXXXXXXXXXXXXXXXXXXXXXXXXXXXXXXXXXXXX1|0&0&1&0&1&0\\nXXXXXXXXXXXXXXXXXXXXXXXXXXXXXXXXXXXXXXX0&1|1&0|1|1\\nXXXXXXXXXXXXXXXXXXXXXXXXX0&1&0|0&1|1&0&0&1&1&0&0|1\\nXXXXXXXXXXXXXXXXXXXXXXXXXXXXXXXXXXX1&0|0|0&0|0|0|1\\nXXXXXXXXXXXXXXXXXXXXX1&0&0|1|0|1&0|0|0|1&1|0&1&0|0\\nXXXXXXXXXXX1|1&1|0&0|0|1&1&1|0|0|1|0|0|1&0&0&0&1|0\\nXXX0&1|1|1&1|1&1&0&1&1|1|1&1|1|1&1&0&1|0&0&1|0&0|1\\nXXXXXXXXXXXXXXXXXXXXXXX0|0|1&1&0|0&0&0&0|1&1&1&1|1\\nX1&0&0|1|1|0|1&0|1&1&0&0|1&1&0|0|0&0|0&1&0&1&1&0&0\\nXXXXXXXXXXXXXXXXXXXXX1&1|1&1&0|0&0|1|0|0|1&1|1|1|0\\nXXXXXXXXXXXXXXXXXXXXXXXXXXXXXXXXXXXXXXXXXXXXX1&1&1\\nXXXXXXXXXXXXXXXXXXXXXXXXXXXXXXXXXXXXXXXXX1|1&1|0&0\\nXXXXXXXXXXX0&1&0|1&0|0|1|1|1|0|1|0|1&0|1&1|1|0&0&0\\nXXXXXXXXXXXXXXXXXXXXXXXXXXXXXXXXXXXXXXXXX0&0&0|1&0\\nXXXXXXXXXXXXXXXXXXXXXXXXXXXXXXXXXXXXX0|1&0&1&0|1|0\\nXXXXXXXXXXXXXXXXXXXXXXXXXXXXXXXXXXXXXXXXX1|1&0&1&1\\nXXXXXXXXXXXXXXXXXXXXXXXXXXXXXXXXXXXXXXXXXXX0&0&0&0\\nXXXXXXXXX1&1|1|0&1&0|1&0&1|0&0|1&1|1&1|1&1|1&1&0&0\\nXXXXXXXXXXXXXXXXXXX1|1|0&1&0|1|1&0|0|0&0|1|0|0&1&1\\nXXXXXXXXXXXXXXXXXXXXX0|0&1|1|0&0|1|0&0|0&1|0|0|1&0\\nXXXXXXXXXXXXXXXXXXXXXXXXXXXXXXX0|1&0&0|0&1|1|1|1&1\\nXXXXXXXXXXXXXXXXXXXXXXXXXXXXXXXXXXXXXXX0|1&0|0|1|0\\nXXXXXXXXXXXXXXXXXXXXXXXXXXXXXXXXXXXXX0|0|1&0&0|0&0\\nXXXXXXXXXXXXXXX0&1|0&1&1|1&0&0|0&1&0|1|1|1&0|1|0|0\\nX1&1&0|1&1|0|1|1&1&0&1|1&0|0|1|0&1&1|0&1&0|1|0|1&1\\nXXXXXXXXXXXXXXXXXXXXXXXXX1&1|0|0|1&0&1|0|1|1&1&1|1\\nXXXXXXXXXXX0|0&1|0|1&0&0|0&0&1|0|1|0&1|1&0&0&0&0&0\\nXXXXXXXXXXXXXXXXXXXXX0&0&0&1|0|1|1|0|1|1&0|1&0&1|1\\nXXXXXXXXXXXXXXXXXXXXXXXXXXXXX1|1|0|1|0|0|1&1|1&1&0\\nXXXXXXXXXXXXXXXXXXXXX1|0&0|0&1|1&1&0&0&1|1&0&0&0|1\\nXXXXXXXXXXX0&0&0|1&1|0&1&0|1&1&1&1|0|1&0|1|0|1&0|1\\nXXXXXXX1|0|1&0&1&0&1&0|1&0|1|0&1|0|1&0&1&1&1|0|0|0\\nXXXXXXXXXXXXXXXXXXXXXXXXXXXXXXXXXXXXXXXXXXXXX0&0&0\\nXXXXXXXXXXXXXXXXXXXXXXXXXXXXX1&0&0&0|1&0&1|0|0|1|0\\nXXXXXXXXXXXXXXXXXXXXXXXXXXXXXXXXXXX1&1&1|1&1|0&1&0\\nXXXXXXXXXXXXXXXXX1|0|0|1&1&0|1&1&0&0&0|1&1|0&1|0|0\\nXXXXXXXXXXXXXXXXXXXXXXXXXXXXXXXXXXX0&0&0|0|0|1|1|1\\nXXXXXXXXXXXXXXXXX1|0|0|0&1&1&1|0|0&1|1&0|1&1|1|1&1\\nX0&0|1|1|1|1&0|1&0|1&1&1|0&1&1&1&0&0|0&0|0|0&1|0&1\\nXXXXXXXXXXXXXXX0|1&0&0&1&0|1&1&0&1|0&1|0|1|1|0&0|1\\nXXXXXXXXXXXXXXXXX1|1&1&0|0|0&0&0|1|0&0&0|1|1&1|1&1\\nXXXXXXXXXXXXX0|1&1&1&1&1|1&1|0|1|1|0|0|0|1|1&0|1&1\\nXXXXXXXXXXXXX1|0|0&1&1&1|1|0|0&1|1&0&1&0|0&1|0|1&0\\nXXXXXXXXXXXXXXXXX1|0&0|0&1|0|1&1|1&1|1&0&1&1|0|0|0\\nXXXXXXXXXXXXXXXXXXXXXXXXXXXXXXXXXXX1|0&0|0|1&1&1|1\\nX0&1|0&0|1&0&0|0&0|0|1&0&0&0|1|1|1&0&1|0|0|0&0&0&1\\nXXXXX1|1|1&0&1|0&1|0&1|0&1|1&0|0&0&1&0|0|1|1&1|0|0\\nXXXXXXXXXXXXXXXXXXXXXXXXXXXXXXXXXXXXX1|1|0&0&0&0&0\\nXXXXXXXXXXXXXXXXXXXXXXXXXXXXXXXXXXXXXXXXX1|1&0&1|1\\nXXXXX0&0&0&1|1|0&1|1|0|1&0&1&1&1|1&1&0&0|1|1&1&0|1\\nX1&1|0|0&1&1|0&0|1|1&1|1&1&0&1|0&0|1&1|1&0&0&0|1&0\\nXXXXXXXXXXXXXXXXXXXXXXXXXXXXXXX0|0&1|0&1|1|1|1|0|1\\nXXXXXXXXXXXXXXXXXXXXXXXXXXXXXXXXXXXXXXX1|0&0|0|0|0\\nXXXXXXXXXXXXXXXXXXXXXXXXXXXXXXXXXXXXXXXXXXXXX0|0&1\\nXXX0&0|0|1|1&1&0|0&1|0|1&1|0|1&1|1|0&0&1&0&0|1|1&0\\nXXX1|0&1|0|1&0&0|0&0|0&1|1&1|1&1|1|1|1|1&1|0|0|1&0\\nXXXXXXXXXXXXXXXXXXXXXXXXXXXXXXXXXXX0|0|1&1&0&0|0&1\\nXXXXXXXXXXXXXXXXX1&1|0&1|1|1|1&0&0&0|0|1|1|1&1|1&0\\nXXXXXXX0|0|0|1&1|0|0&0&0|0|1|0&0&1|0|0|1&1|0|1|1|0\\nXXXXXXXXXXXXXXX0&1&1&0|0|0&1|1|1|0|1|1|0|0&0&0|1|0\\nXXXXX1&0|1&0&0|1&1&1&1|1|1&0&1|1|1|0&1&1&0&1|0|0|0\\nXXXXXXXXXXXXXXXXXXXXXXXXXXXXXXXXXXXXXXXXXXXXX0&0&0\\nXXXXX0|0&0&0&0|1|1&0|1|0|1|0|0|0&0&0|0|0&1&1|1|1&1\\nXXXXXXXXXXXXXXXXXXXXXXXXXXXXXXXXXXXXXXXXXXXXX1&1|1\\nXXXXXXXXXXXXXXXXXXX1&0&0|1&1|0&0|0|1&0&0&0&1&1|0|0\\nXXXXXXXXXXXXXXX1|0&1|0|0&0|1|0|1|1|1|0|0&1&1&1&0&0\\nXXXXXXXXXXXXXXXXXXX0&1&0|1|1&1|0&1&1&0|0|0&0|1&1|0\\nXXXXXXXXXXXXXXXXXXXXXXXXXXXXXXXXX1|1&0|0&1|1&0|0|0\\nXXXXXXXXXXXXXXXXXXXXXXXXXXXXXXXXXXXXXXX1|1|1&0|1|0\\nXXXXXXXXXXXXX1&1|1|1|0|1|0|1|1|0&1|1&1|0&0&1|1&1|1\\nXXXXXXXXXXXXXXXXXXXXXXXXXXXXXXXXXXXXXXX1&1&1|1&1|1\\nXXXXXXXXXXXXXXXXXXXXXXXXXXXXXXXXXXXXXXXXXXXXXXXXX0\\nXXX1&1|1|0&0|0|0&1&0&1&1&0|0|1|1&1|1|0&0|0&1&0&1|0\\nXXXXXXXXXXXXXXXXXXXXX1&1|1&1|1&1|0|0&0&0|0&0&1&0|1\\nXXXXXXXXXXXXXXXXXXXXXXXXX1|1|0&1|1|1|0&1|0&0&0&1|0\\nXXXXXXXXXXXXXXXXXXXXXXXXXXXXXXX0&1|1|0|1&0|1&1|1&0\\nXXXXXXXXXXXXXXXXXXXXXXX1|0&1|1|1|1&1&0|1&1|0&1|0|1\\nXXX1|1&1&1|0|1&0|1|1|0&1&0|0&1|1&0&1&0|0&1|1&0&0|0\\nXXXXXXXXXXXXXXXXXXXXXXX0&1&0&1|1&0|0&0|1|0&0&0|0&1\\nXXXXXXXXXXXXXXXXXXXXXXXXXXXXXXXXXXXXXXXXXXXXXXX1|0\\nX0|1&0&1&0|1&1&1&0&1&1|0&0&0|0|1|1|0|1&0|0&0&1|0|0\\nXXXXXXXXXXXXXXXXXXXXXXXXXXXXX0|0|0&1|0|0|0|1&1&0&0\\nXXXXXXX0|1&1|1&0|0|0&1|1|1|1&1&1|0|1|0&0|1&1&0|1|1\\nXXXXXXXXXXX0|1&1&0&1|1&1|1&1|1|1&0&1&0|1&1&1|1|0&0\\nXXXXXXXXXXXXXXXXXXXXXXXXXXXXXXXXXXXXX1&0&0|1&0&1&1\\nXXXXXXXXXXXXXXXXXXXXXXXXXXXXXXXXX1&1|0|1&0|1&0&1&1\\nXXXXXXXXX1|1&0|1|0|0&1|0|1&1|0|1|0|1&1&0|0&0|1|1|0\\nXXXXXXXXXXXXXXXXXXXXXXXXXXXXXXXXXXXXXXXXXXX1&0&0&0\\nXXXXXXXXXXXXXXXXXXXXXXXXXXX0&1|1&0|1&0&0|0|0|1|1&1\\nXXXXXXXXXXXXXXXXXXXXXXXXXXXXXXXXXXX0|0&0|1|0|0|0&0\\nXXXXXXXXXXXXXXXXX1|1&0|0|1|1&1|0|1|1|1&0|0|1&1|1&0\\nXXXXXXXXXXXXXXXXX1&0|0|0|1&1&1&1&1|1&0|0&0|0|1|0|0\\nXXXXXXXXXXXXXXXXXXXXXXXXXXXXXXXXXXXXX0&1&0|1&0|0|0\\nXXXXX1&1&1&1|0|1&0&0|0|0&0|0&1&0&1&0&0&0&0|1&0|0&1\\nXXXXXXXXXXXXXXXXXXXXXXXXXXXXXXXXXXXXX1|1|1|0&0|0&1\\nXXXXXXXXXXX1&0|1|1|1&1|1|1|1|1&1&0&1&1|0|1|1|1|0&0\\nXXXXXXXXXXXXXXXXXXXXXXXXXXXXXXXXXXXXXXX1&1&1|0&1|0\\nXXXXXXXXXXXXXXXXXXXXXXXXXXXXXXXXX1&1|0|1&1|1&1|0&1\\nXXXXXXXXXXXXXXXXXXXXXXXXXXXXXXXXXXXXXXX0|1&1|1|0|1\\nXXXXXXXXXXXXXXXXX1|0|1|1|1|1|0|0&1|0&1|1&1|0|1|0|0\\nXXX1&0&1|1|0&0&0&1&0&1&0|0|0|1&1&1|1&1&0&1|1&1|0&0\\nXXXXXXXXXXXXXXXXXXXXXXXXXXXXXXX1|0|1|0|1|0|0|0|0&1\\nXXXXXXXXXXXXXXXXXXXXXXXXXXX1&0|0|0|0|0|0&0&0|1|0|1\\nXXXXXXXXXXXXXXXXXXXXXXXXXXXXX0&1|0|0&0|0|1&0&0|0|0\\nXXXXXXXXXXXXXXXXXXXXXXXXXXXXXXXXXXXXXXXXX0|0&0|1&0\\nXXXXXXXXXXXXXXXXXXXXXXXXXXXXXXXXXXXXXXX1&1|0|0&1&0\\nX1|0|1&0&0|0|1|1|1&1|0&0&0|1&0|0&0&0&1&0&1|0|1&1|1\\nXXXXXXXXXXXXX0&1&0|0|0|0&1&1|0&0&0&1|0|1&1&0|0&0&0\\nXXXXXXXXXXXXXXXXXXXXXXXXXXXXXXXXXXXXXXXXXXXXX0&0&1\\nXXX1&1&1&1|0&0|1|1|1|0|0|0&1|0|1&1|0|1&1|1|1&0|1&1\\nXXXXXXX0&1|1|1&1|1&0|1&0|1|1|0&0&0|1|0|0&1|1|0|0&1\\nXXXXXXXXXXXXXXXXXXXXXXXXXXX1|1&1|1|0&1|0&0|0&1|1|0\\nXXXXXXXXXXXXX1|1|0&0&0&1|1&0&1&1|1&0&0&1|1&0&1|0|1\\nXXXXXXXXXXXXXXXXXXXXXXXXXXXXXXXXXXXXXXXXX0|1&1|1&0\\nXXXXXXXXXXXXXXXXXXXXX0|0|1&0|0|1&0|1|1|0|1&1|0&1|1\\nXXXXXXXXXXXXXXX0|1&0&1&0|1&1|1|0&1&0|0&1&1|0|0|1&0\\nXXXXXXXXXXXXXXXXXXXXXXXXX1|1&1&1|1|0&0&0&0|0&0|0|0\\nXXXXXXXXXXXXXXX0&1&0&1|1|0|0|0|1&0&1|1&0|0|1|0|1&0\\nXXXXXXXXXXXXXXXXXXX1&1|1&0&1&1&0&0&1|1|1&1&0&0&0|1\\nXXXXXXXXXXXXXXXXXXXXXXXXXXXXXXXXX0|0|1|1&0|1&0|1&1\\nXXXXX0&1|0&1&0&1&1|0&1&1|0&0&1|1|1&1&0|1&0|0&0|0|1\\nXXXXXXXXXXXXXXX1|1|1&0|0&0&0|0&1&0&0&1|1|0|1&1&0|0\\nXXXXXXXXXXXXXXXXXXXXXXXXXXXXXXXXXXXXX0|1&1|0|0|1|1\\nXXXXXXXXX1|0|1&0&0|0|1&0&1&1&1&1|0|1|0|1&0|0|1|0&1\\nXXXXXXXXXXXXXXXXXXXXXXXXXXXXXXXXXXXXXXXXXXXXXXXXX0\\nXXXXXXXXXXXXXXXXXXXXXXXXXXXXXXXXXXXXX0&1|0|1&0&0|1\\nXXXXXXXXXXXXXXXXXXXXXXXXXXXXXXXXXXXXXXXXX1&1|1&1|1\\nXXXXXXXXXXXXXXXXXXXXXXXXXXXXXXXXXXX0&1&0|1&1&0&1&0\\nXXXXXXXXXXXXXXXXXXXXXXXXXXXXXXXXXXX1&1|1|1&0|1|0|0\\nXXXXXXXXXXXXXXXXXXX1|0|0|0&1&0&0&1|1|1&1&0|1&0&1|1\\nXXXXXXXXXXXXXXXXXXX0&1|0|0&0&0|0|0|1|1&1&0|0&0&1&0\\nXXXXXXXXXXXXXXXXXXX1|1|1|1|1|1&1&1|1&0&1|0&0&0&0&1\\nXXXXXXXXXXXXXXXXXXXXX0|1|1&1|1&1&0&0|1|0|0&1&1&0&1\\nXXXXXXXXXXXXXXXXXXX0&0&1&0&1|0&0|0|0|0|0|0&0&1|1|1\\nXXXXXXXXXXXXXXXXXXXXXXXXX1&0&0|1|1&1|1&0|0|0|0|0|0\\nXXXXXXXXXXXXXXXXXXXXXXXXXXXXXXXXXXXXXXXXX1&1|0|0&1\\nX0|0|1&1&0|1&0|0&1|0|1&1|1&0|1|1|0|0&1|1&0|1&0&1|1\\nXXXXXXXXXXXXXXXXXXXXXXXXXXXXXXXXXXXXXXXXXXXXX0|1&1\\nX1&0|1&0|1|0&1|0&0|0|0&0|1&0|0|1|1&1|1|0&1|1|0|0&1\\nX1&0|1|0&0|1|1&0|0&1|0|0|0&0&1&0|1|1|0&1&1|0&0|1&1\\nXXXXXXXXXXXXXXXXXXXXXXXXXXXXXXXXXXXXX1|0|0&0|0&0|1\\nXXXXXXXXXXXXXXXXXXXXXXXXXXXXXXXXXXXXXXX0|0|0&0&1|1\\nXXXXXXXXXXXXXXXXX1|0&1|0&1|1|1&1|0&1&1|0&1&0&1&0&0\\nXXXXXXXXXXXXXXX1|0&1&1&0|0|1|1|0&0|1|1|0&1&1&0&1&1\\nXXXXXXXXXXXXXXX1|0&0&1&0&0&1&0|0&0&0|1&1|1&0|1&1|1\\nX0|1|0&1&1|0|0&1&1|1|0&0|1|1|1|0&1|0&0|0&0|1|0&1|1\\nXXXXXXXXXXXXXXXXXXXXXXXXXXXXXXXXXXXXXXXXXXX0&1|1|0\\nXXXXXXXXXXXXXXX1|0&0|0&0|0&1|1&0|1|0|0&0|1&0&1|1|0\\nXXXXXXXXXXXXXXXXXXXXXXXXXXXXXXXXX0&0&0|0&1|0|0&1|1\\nXXX1&0|0&1&0&0&0|1|1&0&1|0&1&0&1|0&0&0|0|1|0&0&1&0\\nX1|0&1|0&1|1|1&1|1&0|1&1&0&0&1&1|1&0|1&0&0|0|1|0&0\\nXXXXXXXXXXXXXXXXXXXXXXXXXXXXXXX1|0|0&0&0|0|1&1|1&0\\nXXXXXXXXXXXXXXXXXXXXXXXXXXXXXXXXXXXXXXXXX0|0|0&1|0\\nXXXXXXXXXXXXXXXXXXXXXXXXXXX1|0&1&0&0|0&0&0|1&1|1|1\\nXXXXXXXXXXXXXXXXXXXXX0|0&0&0|0&0&0|0&1&1&0|0&1&1|0\\nXXXXXXXXXXXXXXX1&1&0|0|1|0|0|1|0&1|1&1&0|1|1&0&1|0\\nXXXXX1&1|0&1&0|0|1&0&1|0&1&0|0&0&1|0|1&0&0|1|0&0&1\\nXXXXX0&1&1|0|0&0&1|1&1&0|0|1|1|0|0|1|0&0&1|0|1&0&0\\nXXXXXXXXX1|0&0&0|1&0|0&1|1&1&1|0&1|0&1|0|1|0|0&0|1\\nXXXXXXXXXXXXXXXXXXX1&1|1|1|1&0|1|1&1|1&1|1|0&0|1|1\\nXXXXXXXXXXXXXXXXXXXXXXXXXXXXXXXXXXXXXXXXXXXXXXXXX1\\nXXXXXXXXXXXXXXXXXXXXXXXXXXXXXXXXXXXXXXXXXXXXX1|1&1\\nXXXXXXXXXXXXXXXXXXXXXXX1&1|1|0&0|1|0&1|0&0&1&1|0&0\\nXXXXXXXXXXXXXXXXXXXXXXXXXXXXXXXXXXXXXXXXX0&0&1&1&0\\nX0|0|1|1|1|0&1&0&1|1|1|1&1|0&0&1|1|1|0&0&0|1|0&0|1\\nXXXXXXXXXXXXXXXXXXXXXXXXXXXXXXXXXXXXXXX0&0|1|0&0|0\\nX1&0|1&1|0&1|0&1|0&1|0|0|0|1|1&1|0|1|0|0|1|0|1&1&0\\nXXXXXXXXXXXXXXXXXXXXXXXXXXXXXXXXXXXXX0&0|0&1|0|0&1\\nXXXXXXXXXXXXXXXXXXXXXXXXXXX1|0|0&0|1&0&0&1&1&0|0|1\\nXXXXXXXXXXXXXXXXX0|0|0|0&1&0|0|0|1|1&0|1|1&0&1|0|1\\nXXXXX1&0|0&1|1|0&0|0|0|0|0|0&1&1&1&0|0|0&0|0|0&1|1\\nXXXXXXXXXXXXXXXXXXXXXXX0|0&1|1|1|0&1&0&1|0&1|0|1&0\\nXXXXXXXXXXX1|1|1|1&1|0&1&0|1|0&1|0|1&0&1|1|1&1|0|0\\nXXXXXXXXXXXXXXXXXXXXXXXXXXX1|0&0&1|0|0&0|0&1|0&1&0\\nXXXXXXXXXXXXXXXXXXXXXXXXXXXXXXXXXXXXXXXXX1|1&0|0&1\\nXXXXXXXXXXXXX1|1|1&1&0&1&1&0&0&1&1&1|0&1&0&1|1&1&0\\nXXXXXXXXXXXXXXXXXXXXXXXXXXXXXXXXX0&1&1|0&1&1&0|0&1\\nXXXXX1|0&1&0|1&0&0&0|0&0|0&0&0&0&1|1&1&1&0|0|1&1|0\\nX1&1|1&0&0|0&0|1&0|1|1&1&0&0&0&1|0&1|0|0|1&0|1&0&0\\nXXXXXXXXXXX0&0|0|1&1&0&0|1&0|1|1|1|1|0&0&0|1|0&0&0\\nXXXXXXXXXXXXXXXXXXXXXXXXXXXXXXXXXXX0|0&1|0&0&0&0&1\\nXXXXXXXXXXXXXXXXXXXXXXXXX1|0&1&0|0|0|0|0&1&1&0&1|1\\nXXXXXXXXXXXXXXXXX0|1|1&0&0|0|0&1|1|1|0|0&0&1&0&0&1\\nXXXXXXXXXXXXXXXXX0&1|0|0|1&1|0|0|0|0&1|1&1&0&0&0|0\\nXXXXXXXXXXXXXXXXXXXXXXXXX1|0&0|1&0&1|1|0|0|0&1&0&1\\nX1&1|1|0|0|0|1|0&1&0&1|1|1&0&1|0|1&1&0&1&1|0&0&0|0\\nXXXXX0&1&1|1|0|1|1&1|0&0&1&0|0&0|1&1|1|1|0|0|0&0|0\\nX1&0&0|0&0&1&1&1&1|0&0|0&0&1&1&1|0|0&1|0|0|0&0|0|0\\nXXXXXXXXXXXXXXXXXXXXXXXXXXXXXXXXX1|0&0|1|0&0|1|0|1\\nXXXXXXXXXXXXXXXXXXX1&0&1|0&1|1&0&0|0&1&1&0|1&0&0|0\\nXXX0&1|1&0|0|1|1&1&0&1|0|1|0&0&0|1&1|1&1&0|1|1|0&0\\nXXXXXXXXXXXXXXXXXXXXXXXXXXX0|1&0|1&0|0&0&1&0|0&0|0\\nXXXXXXXXXXXXXXXXXXXXXXXXXXXXXXXXX1&0&0|1&0&1|0|1&1\\nXXXXXXXXXXXXXXXXXXXXXXXXXXXXXXXXXXXXXXXXXXXXX1&0|0\\nXXXXXXX0&0&0|0|0|1&1&1&0|1|0&1&1&0&0&0|1|1&1&0|1&0\\nXXXXXXXXXXXXXXXXXXXXXXXXXXXXXXXXXXXXXXXXXXXXXXX0&0\\nXXXXXXXXXXXXXXXXXXXXXXXXXXXXXXXXXXX0&1|1&0&1|0|0&0\\nXXXXX1|1|1|0&1|1&1|1|1|0|0|0&0&0&0|1|0|1&1|1&1&0|0\\nXXXXXXXXXXXXXXX1&0&0|0|1|0&0&1|1&0&1|1|1&0&1|0|0|0\\nXXXXXXXXXXXXXXXXXXXXXXXXXXXXXXXXXXXXXXX1|1&0&0&1|0\\nXXXXXXX1&0|1|0&0&0|1|0&1&1&1&1&1|0&1|0&0&0|1&0|0&0\\nXXXXXXXXXXXXXXXXXXXXXXXXXXXXXXXXXXXXXXXXXXX1&1|0&0\\nXXXXXXXXXXXXXXXXXXXXXXX1&1|1&0&1&0|0&1&0|0|0|0|1&1\\nXXXXXXXXXXXXXXXXXXXXX1&0|1|0&1|0&0&1&1|0|1|0|1&0|0\\nXXXXXXXXXXXXXXXXXXXXX0|0&1|1&0&0&1&1&1|0|1&0&0&0&0\\nXXXXXXXXXXXXXXXXX0|1&0&0&1&0|0&1&1&0&0|0|0&0&0&1&0\\nXXXXXXXXXXXXXXXXXXXXXXXXXXXXXXXXXXXXXXXXXXXXXXXXX0\\nXXXXXXXXXXXXXXXXXXXXX0&1|0|0&1|1&0|1|1|1&0&0&1|1|1\\nXXXXXXXXXXXXXXXXXXXXXXXXXXXXXXXXXXXXXXX0&1&1&1|0|1\\nXXXXXXXXXXXXXXXXXXXXXXXXXXXXXXXXXXXXX0&0&0|1&0&0|1\\nXXXXXXXXXXXXXXXXXXX1&1|0|0|1|0&0|1&1|0|0|1|0|0&1|1\\nXXXXXXXXX0&1&1|0&1|1&1&1|1|1&0|1|1|0|0|0|1&0&0|0&1\\nXXXXXXXXXXXXXXXXXXXXXXXXXXXXXXXXX0|1|0|0&0&0&0|1|0\\nXXXXXXXXXXXXXXXXXXXXXXXXXXXXXXXXX0|0&0&0|1&1|1|0|0\\nXXXXXXXXXXXXXXXXXXXXXXXXXXXXXXXXXXXXXXX1&1&1|0&1|0\\nXXXXXXXXXXXXXXXXXXXXXXXXXXXXXXXXXXX0&1&0|1&1&0|1&1\\nXXXXXXXXX1&1|1|0&0|0|0&0&0&0|1&1&0|1&0&1&0|0|0&1|0\\nXXXXXXXXXXXXXXXXXXXXXXXXXXXXXXXXXXXXX1|0|0|1&0&0|0\\nXXXXXXXXXXXXXXXXXXXXXXXXXXXXXXX0&1&0|0|0&0&1&0|0&1\\nX1&1&0|0&1&1&0|0&1|1&0&1|1|0&1&0&0&1|0&1|0&1&1|0&1\\nXXXXXXXXXXXXXXXXXXXXXXX0&1|0|0&0&1&0&0&0|1|0|1&0|0\\nXXXXXXXXXXXXXXXXXXXXXXXXXXXXXXXXXXXXXXXXXXX0&1|0|1\\nXXXXXXXXXXXXXXXXXXXXXXXXXXXXXXXXXXXXXXXXXXXXXXXXX1\\nXXXXXXXXXXXXXXXXXXXXXXXXXXXXXXXXXXX0&1&0&0|0&0|0&1\\nXXXXXXXXXXXXXXXXXXX1&0&0&1&1&0|1|0&0&0&0&0|0&1|1|1\\nXXXXXXXXXXXXXXXXXXX1&0&0&0|0&0|1|1|0&1|1&0|0|0|0&1\\nXXXXXXXXXXXXXXXXXXXXXXXXXXXXXXXXX1&1|1&0&1|0&1&0|1\\nXXXXXXXXXXXXXXXXXXXXXXXXXXXXXXXXXXXXXXXXXXX0|1|1|0\\nXXXXXXXXXXXXXXXXX1|1&1&1&1|1|1|0&0&1|0&1&1|1&1&0&1\\nXXXXXXXXXXX0|1&0&0|0&1|0&1|0&0&0|1&0|1|0&1|1&1|0|1\\nXXXXXXXXXXXXXXXXX1|0&0&1&0|0&1|0|0&0&0&0|1|0&1|1|0\\nXXXXXXXXXXXXXXXXXXXXXXXXXXXXXXXXXXXXXXXXXXXXXXX1&1\\nXXXXXXXXXXXXXXXXXXXXXXXXXXXXXXXXXXXXXXXXXXXXXXX0&1\\nXXXXXXXXXXXXXXXXXXXXXXXXXXXXXXXXXXX0|0&0&1&0&1&0|1\\nXXXXXXXXXXXXX0&1&1&0&0&1&0|1|0|0&1&0&1&0&0|0&1&0&1\\nXXXXXXXXXXXXXXXXX1|0|1|1|1|1&1|0|1|1&0|1&1|1&1&0|0\\nXXXXXXXXXXXXXXXXXXXXXXXXXXXXXXXXXXXXXXXXXXXXX0|1|0\\nXXXXXXXXXXX0|0&1&0|0&1|0|0&0|0&0|0&0|0&0&1&1&0|1&0\\nXXXXXXXXXXXXXXXXXXX0|1|0|1&0&1&1|0&0&0&0&0&1|0|1|1\\nXXXXXXXXXXXXXXXXXXX0|1|0|1|0&0|0|0|0|0|0&0|1|0&1&1\\nXXXXXXXXXXXXXXXXXXXXXXXXXXXXXXXXXXXXXXXXXXXXXXXXX1\\nXXXXXXXXXXXXXXXXXXXXXXXXX1&1|0&0|0&0|1&1|0|0&0&0&0\\nXXXXXXXXXXXXXXXXXXXXXXXXXXXXXXXXXXXXXXXXXXXXXXX1&1\\nXXXXXXXXXXXXXXXXX1&1&0|1|1|1&0|1|1|1&1|1&0|1&0&1&1\\nXXXXXXXXXXXXXXXXXXXXXXXXXXXXX0&0&0|0|1|0&0|1&1|1&1\\nXXXXXXXXXXXXXXXXXXXXXXXXXXXXXXXXXXXXXXXXX1|1|1&1&0\\nXXXXXXXXXXXXXXXXXXXXXXX0&0&0&1&1&1&0|0|1|0&1&0&0&1\\nXXXXXXXXXXXXXXXXXXXXXXXXXXXXXXXXXXXXX0&0&0&0&0&0|1\\nX1&0|1|1&1&1&0|0&1|0|0&1&0&0&0&0|1&0&0|0&1&0|1&0|0\\nXXXXXXXXX0|0|0&1&1&1&1|0|0|0|1|1&0|0|1&0|1&0|0&1&1\\nXXXXXXXXXXXXX0&1|1&1&1&0&1|1|1|1&1&0&1|1|1|0&0|1&1\\nXXXXXXXXXXXXXXXXX1&0|1|1&0&0|1&0|0&1|0&0&0|0|1|1|0\\nXXXXXXXXXXXXXXXXXXXXXXXXXXXXXXXXXXXXXXXXXXX0|1&0|1\\nXXXXXXXXXXXXXXXXXXXXXXXXXXXXXXXXXXXXXXXXXXXXX0&1&1\\nXXXXXXXXXXXXXXX0&1&0|0&1&0|0|1|1&1|0|0&1&1|0&0|0&1\\nXXXXX1&0|1|1|0&0&1|1&0|0&0&0&1|0&1&1&1|1&0&1&0&0|1\\nXXXXXXXXXXXXXXXXXXXXXXXXXXX1&1|1|0|0&0|1|0|0&1&1|0\\nXXXXXXXXXXXXXXXXX0&1|0&0|1|1|0|1&1&0|1|1&1|0&0&1&0\\nXXXXXXXXXXXXXXXXXXXXXXXXXXXXXXXXXXXXXXXXXXX0|1|1|0\\nXXXXXXXXXXXXXXXXXXXXXXXXXXXXXXXXXXXXXXX0|1&1|0&0|1\\nX0|0&0&0&1&1&1&1|1|1&0&1|1|0|1&0&1&0|1&1&1|1&1|0&0\\nXXXXXXXXX1|0&0|0|1|1&0&1|0&0|1&1|0|1|1&0|1|1&0&1|1\\nXXXXXXXXXXXXXXXXXXXXXXXXXXXXXXXXX0|0|0&1&1|0|0|0|1\\nXXXXXXXXXXXXXXXXXXXXX0&0&0|0|1|0|1&0&0&0&1|1|0|0&1\\nXXXXXXXXXXXXXXXXXXXXXXXXXXXXX1|1|0|0|1|0|0&1|1|1&0\\nX0&1|0&1|1&1|1&1&1&1&0|1&0&1&0&0&0&0&0&0|0|0&0|0|0\\nXXX1|1&1|1|0&0&1|0|1|0|0&0|0&0&1|0|1|0|0&0&0|0|1&1\\nXXXXXXXXXXXXXXXXXXXXXXXXXXXXXXXXXXXXXXXXXXXXX1|0&0\\nXXXXXXXXXXXXXXXXXXXXXXXXXXXXXXX0|0&0|1|1&0|0&1&0|0\\nXXXXX1&1&0&0&0&1|1|0&1&1&1|0|1|1&1|0&0|1&1|1|0&1|1\\nX1|1|0&1|1&1|0|0|0|0&1&0&0|1&1&0|0|1|1&0&0&1&0&1&1\\nXXXXXXX0&0&1|1&0&0|0|0|1&1&0&1|0&1|0&0&1&1&1|1|0|0\\nXXXXXXXXXXXXXXXXXXXXXXXXXXXXXXXXXXXXXXXXXXXXX1|0&1\\nXXXXXXXXXXXXXXXXX1|1&1&0|0|0&0&1&1|1|0|0|0|1&0&0|1\\nX0|1|0|0|1&1&1&1|1&0&1|0&1&1&1|0&0&1|1|1|1|0|0|1&1\\nXXXXXXXXXXXXXXXXXXXXXXX1|0&1|0&0&0|1|0|1|1&0|1|1&0\\nXXXXXXXXXXXXXXXXXXXXX0|0|0&0|0&0|1|1&1&0|0&1&0|0|0\\nXXXXXXXXXXXXXXXXXXXXXXXXXXXXXXXXXXXXXXXXX0&0|0&0|0\\nXXXXXXXXXXXXXXXXXXXXXXXXXXXXXXXXX1|0|1|1&0&1&0&0|0\\nXXXXXXXXX0&1&1|1|0|0|0&0&0|0|0&0&0&0|1|0&1&0|1|1|1\\nXXXXXXXXXXXXXXXXXXXXXXXXX1&1|1|0&0&1|1&1&1&1&1&0|0\\nXXXXXXXXXXXXXXXXXXXXXXXXXXXXXXXXXXXXXXXXXXXXXXX1|1\\nXXXXXXXXXXXXXXXXXXXXXXXXXXXXX0|1&1&1|0&0|1|0|0&0&0\\nXXXXXXXXX1&1|0&0|1|0|0&0|0|1|0|1|1&1&0&0|0|1|0|1|1\\nX0&0&1|0|1|1&1|1|0|1|0&1&0&1&0&0|1&0|1&1&0&0&1&0&1\\nXXXXXXXXXXXXXXXXXXXXXXXXXXXXXXXXX1&0&0&0&1&1|1|0|1\\nXXXXXXXXXXXXXXXXX0|0&0|0|1&0|1&1&1|1|0|1|1|0|0|0|0\\nXXXXXXXXXXXXXXXXXXXXXXX0|0&1&0|0|0|0|0|0|1|1&0|0&1\\nXXXXXXXXXXXXXXXXX0|0|0|1&1&0|1|0&0&1|0|1&0|0&0|1|1\\nXXXXXXXXXXXXXXXXXXXXXXXXXXX1|0|1|0&1|0&0|1&1&1|1&0\\nXXX1|0&1|0|1|1&1|0|0&1&0|1|0|1|1&1|1|1|0&0|1|1&0|0\\nXXXXXXXXXXXXXXXXXXXXXXX0|0&1&0&1&1|0|0&0|1&0|1|0|1\\nXXXXXXXXXXXXXXX1&0|1&0|1&0&0|0|0|1&1&1|0&0&1|1|0&0\\nXXXXXXXXXXXXXXXXXXXXXXXXXXXXXXXXXXXXXXXXX1|1|0|0&1\\nXXXXXXXXXXXXXXXXXXXXXXXXXXXXXXX0&0|0&0|0&1|0&1|1&0\\nXXXXXXXXXXXXXXXXXXXXXXXXXXXXXXXXXXXXXXX1&0&1|1&0|1\\nXXXXXXXXX1|1&0&1&0|1|1&1|1|1|0&1|0&1|1&0|0&0|0|0|1\\nXXXXXXXXXXXXXXXXXXXXXXXXXXXXXXXXXXXXXXXXXXXXXXX0&0\\nXXXXXXXXXXXXXXXXXXXXXXXXXXXXXXX1&1&0|1&1&0&1&1|1|0\\nXXXXXXXXXXXXXXXXXXXXXXXXXXXXXXX1|1|1|0|0&1&0&1&1|1\\nXXXXXXXXXXX1&1&1|1|1|0&1|0&1|1|0&1|1&1&1|0&1&1&1|1\\nXXXXXXXXXXXXX1&0|0&0&0|0&0&0|1|1&1&1&0|0&1|0|1&0|0\\nXXXXXXXXXXXXXXXXXXXXX1|0&1|0|1&0|0|1&1&1|0&0&1|1&0\\nXXXXXXXXXXXXXXXXXXXXXXXXXXXXXXXXXXX1&0&0&0|0&0|1|1\\nXXXXXXXXXXXXXXXXXXXXXXXXXXXXXXXXXXX0&1&1|1&1|1|0|1\\nXXXXXXXXXXXXXXXXX0|1|1&0&0&0|1&1&1&0|0&1|1&1&0&0&0\\nXXXXXXXXXXXXXXXXXXXXXXXXXXXXXXXXXXXXXXXXX1|0|1&0&0\\nXXXXXXX0|1&0&0&0|1&1&1|0&0&1&1|1|1&1&0&1&1&0|1&0|1\\nXXXXXXXXXXXXXXXXXXXXX1&0&0|1|0|0|0|1|0|1&0&0|1&0|1\\nXXXXXXXXXXXXXXXXXXXXXXXXXXXXX1&0|1&1|1|0|1&0|1&0|1\\nXXXXXXXXXXXXX1&1&1|1&0&0&1&0|0&1|0|0|1|0&0|0&0&1|0\\nXXXXXXX1&1|0&0|0&1&0&1|0|0&0|1&1&1&1|1|0&0&1|0&0&0\\nXXXXXXXXXXXXXXXXXXXXX0&0&1|0|1&1&0|0|1|0&1|1&0&0|0\\nXXXXXXXXX0|1&0|1|0|0|1|1&1&0&0&1&1&1|0|1&0&1&1&0&1\\nXXXXXXXXXXXXXXXXXXXXXXXXXXX0&0|0|0|0|1|0|0&0&1&0|1\\nXXXXXXXXXXXXXXXXXXXXXXXXXXXXXXX1&1|1|1&1&0&0&1&0|0\\nXXXXXXXXXXXXXXXXXXXXXXXXXXXXXXXXX0&0|1|1|1|1|0|0|1\\nXXX1|1&1&0&1&1&0|1&1&0&1|1&0&1|0&1&0&0&1|0|1|0&1&0\\nXXXXXXXXXXXXXXXXXXXXXXXXXXXXXXXXXXXXXXXXXXXXX0|0&1\\nXXXXXXXXXXXXXXXXXXXXXXXXXXXXX0|1|0|0|0&1&1&1&1|0&1\\nXXXXXXXXXXXXXXXXXXXXXXXXXXXXXXXXXXXXX0|1&1|1&0|1&1\\nXXXXXXXXXXXXXXXXXXXXXXXXXXXXXXXXXXXXXXXXXXXXX1&1&1\\nXXXXXXXXX0|0&0&0&0|0|1&0|1&1|0&1|0&0&0&1|0|1&0|1|0\\nXXXXXXXXXXXXXXXXXXXXXXXXXXX1&0|1&0|0|1|1|1|0&0&1&0\\nXXXXXXXXXXXXXXXXXXXXXXXXXXXXXXXXXXXXXXXXXXX0&1&1&1\\nXXXXXXXXXXX0&0&0|1|0|0|1&1&1|1&0|0|1&1&1|1|1&0&1&0\\nXXXXXXXXXXXXXXXXXXXXXXXXXXXXX0&1&0|1|1&1|0&0|1|1|0\\nXXXXXXXXXXXXXXXXXXXXXXXXXXXXXXXXXXXXX1|1|0|0|1|1|1\\nXXXXXXXXXXXXXXXXXXXXXXXXXXXXXXXXXXXXXXXXX1|0|1|1|0\\nXXXXXXXXXXXXXXXXXXXXX0|0&0&0&0|0|0|0&0|0&1|1&0&0|1\\nXXXXXXXXXXXXXXXXXXXXXXXXXXXXXXXXX0|0|0|1|0&0|1|0|1\\nXXXXXXXXXXXXXXXXXXXXXXXXXXXXXXXXXXXXXXXXX0&0&1&0&0\\nXXXXXXXXXXXXXXXXXXXXXXXXXXXXXXXXXXXXXXXXXXXXXXX0&0\\nXXXXXXXXXXXXXXXXXXXXXXXXXXXXX1|0|0&0|0&0&0&0&0|1&1\\nXXX1&1|1|1&1|0&0&1&0|1&1|1&1&0&0&1&0&1&0&0|0|0|0|0\\nXXXXXXXXXXXXXXXXXXXXXXXXX0|1&0&0&1|0&1|0|0|0|0&1|1\\nXXXXXXXXXXX0|0|1|1&1|1&1&1&0|1&0|1|0&1&1&0|1|0&1&1\\nXXXXXXXXXXXXXXX1&0|0&1|1|1&0&1&0|0&0&1|1&0&1|1|0|0\\nXXXXXXXXXXXXXXXXXXXXXXXXXXXXXXXXXXXXXXXXXXXXX1|1|1\\nXXXXXXXXXXXXXXXXXXXXXXXXXXXXXXXXXXXXXXXXXXXXXXX1|1\\nXXXXXXXXXXXXXXXXXXXXXXXXXXX1&1|1|0|0|0&0|0|0|0&0&1\\nXXXXXXXXXXXXXXXXXXXXXXX0&1|0|0|1&1&1&0|0&1|1|0|1&0\\nXXXXXXXXXXXXXXXXXXXXXXXXXXXXXXXXX1&1|0&1|1|1|1|0|0\\nXXXXXXXXXXXXXXXXX1|0|0|1|0|0|0&0|1&1&0|1|0|0|0|1|1\\nXXXXXXXXXXXXXXX0|0&1|1&1&1&0|1&1&1&0&1&1|0|0|0&0&0\\nXXXXXXXXXXXXXXXXXXXXXXXXXXXXX1&0&0|1|0&1|1|0|1&0|1\\nXXXXXXXXXXX0&0|0|0|1&1&0&0&0|1|1|1|0|1&1|0|0|1&1|1\\nXXXXXXXXXXXXXXXXX0&0&1&1&0|0|0&1|1|1|1|0|0|1&1|1&0\\nXXXXXXXXXXXXXXX1|0|1&0|0&1|1|1|1|0|1|0&0|1&1|0&0&0\\nXXXXXXXXXXXXXXXXXXXXXXXXXXXXXXXXXXXXXXXXXXXXX0|1&0\\nXXXXXXXXXXXXXXXXXXXXXXXXXXXXXXX1|1|1|1&0&1|1&0&0|1\\nX0|1|0&1|0|0&1|1&1|1&1|0|0|0|1&1&0&0|0|1&0|1&0|0|1\\nXXXXXXXXX1&1|0&1|0|1|1&0|0&0&0|1|1&0|1|0&1&0|0&0|0\\nXXXXXXXXXXX1&0|0|0&1&1&1|0|0|0&0&1|1&0|1|1&0&0|0|0\\nXXXXXXXXXXXXXXXXXXXXXXXXXXXXXXXXXXXXX1&0&0|1|0|1|1\\nXXXXXXXXXXXXXXXXXXXXXXXXXXXXXXXXXXXXXXX1|1|1&0|0&0\\nXXXXXXXXXXXXXXXXXXXXXXXXXXXXXXXXXXXXXXXXX0&0&0&0&0\\nXXX1|1&0&1|0|0&0|1|1&1&1&0&1&0|0&1|0|0|1&0&1&0&1&0\\nXXXXXXXXXXXXXXXXXXXXXXX0&0|1&0&1|1|0&0|0&0&1|0|0|1\\nXXXXXXXXXXXXXXXXXXXXXXXXXXXXXXXXXXXXXXXXXXX1|1|0&0\\nXXXXXXXXXXXXXXXXXXXXX0|0&0&0|0&1|0&0&0&0|0|0|1|0|1\\nXXXXXXXXXXXXXXXXX1|1|1|0&0&1&1|0&0|0&1|1&1&0|0&1&1\\nXXXXXXXXXXXXXXXXXXXXXXXXXXXXXXX0|0|1|1|0|0&1&1|0&0\\nXXXXXXXXXXXXXXXXXXX0&0|0&1|0|1&0|0|1&1|0&0|0|0&1|0\\nXXXXXXXXXXX1|0|1&0|0&1|0|0&0&1|1|1|0&0|0|1&0|0&0&0\\nXXXXXXXXXXXXX0|0|0&0|1|1|0&1|0&1&0&0&1|1&1&1&1|1&0\\nXXXXXXXXXXXXXXXXXXXXXXXXXXXXXXXXXXXXXXXXXXXXX1&1&0\\nXXXXXXXXXXXXXXXXXXXXXXXXXXXXXXXXXXXXXXXXXXXXXXXXX1\\nX1|1&0|0&1|1|0|0&1&0&1|1&0|1&1&0|0|0&0|1&1&0|1|1&1\\nXXXXXXXXXXXXXXXXXXXXXXXXXXXXX0|1&1&0|0|0|1&1|1|0|1\\nXXXXXXXXXXXXXXXXXXXXXXXXXXXXXXXXXXX0|0|0&1|1|1|0|0\\nXXXXXXXXXXXXXXXXXXXXX1|1|1|0|0|1&1|0&0|0&1|1|1|0|1\\nXXXXXXXXXXXXXXXXXXXXXXXXXXX0&1|0|0&1&1|0|0|1&1&1&0\\nXXXXXXXXXXXXXXXXXXXXXXXXXXXXXXX0|1|1&1|1&0&1&1|1&0\\nXXXXXXXXXXXXX0|1|1|0&0&0&0|0&0|0&0&0|0|1&0&1|0&0|1\\nXXXXXXXXXXXXXXXXXXXXXXXXXXXXXXXXXXXXXXXXXXXXX0&0|0\\nXXXXXXXXXXXXXXXXXXXXXXXXXXXXXXXXXXX1&1|1&1|0|0&1|0\\nXXXXXXXXXXXXXXXXXXXXXXXXXXXXXXXXXXXXXXXXXXXXXXXXX0\\nXXXXXXXXXXXXXXXXXXXXXXX0|0&0|1&0|0&0&1&0|1&1|0&0|0\\nXXX1|1&0&1|1&1|1&0&0&0&1&1|0|1|0|0|1&1|0|1&0|1|0&0\\nXXXXXXXXXXX0&0|1|0&1&0|0&0&1|0&1|0|0|1|0&1|1&0&0&0\\nXXXXXXXXX1&1&1&1&1&0|1|1|1&1|1|0|0&1&0|0|1|0&1|1|1\\nXXXXXXXXXXXXXXXXXXXXXXXXXXXXXXXXXXXXXXXXXXXXXXX0&1\\nXXXXXXXXXXXXXXXXXXXXXXXXXXXXXXXXXXXXXXXXX1&1|0|1|1\\nXXXXXXXXXXXXXXXXXXXXXXXXXXXXXXXXXXXXXXXXXXX1&1|0&0\\nX0&1|0&1&1|0&1|0&1&0|0&0|1|1&1|1&1&1|0&1&0|1&1&0|1\\nXXXXXXXXXXX1|1&1|0&1&0|0&0&1|1&1|0|1&1|1&1&1|1&1&0\\nXXXXXXXXXXXXXXXXXXXXXXXXXXXXXXXXXXXXXXX0&1|1|1&1&1\\nXXXXXXXXXXXXXXXXXXX1|1&1&1|1&0&1|1&0|0|1&0|0|0|0|0\\nXXXXXXXXXXXXXXXXXXXXXXXXXXX1|1&0&0&1&0|0&0|0|0&1&0\\nXXXXXXXXXXXXXXXXXXXXXXXXX0|0&1|0|0&1&0|1|0&1|1&0|0\\nXXXXXXXXXXXXXXXXXXXXXXXXXXXXXXX0&0&1&0|0|1|1|1|1|0\\nXXXXXXXXXXXXXXXXXXXXXXXXXXXXXXXXXXXXXXXXX1&1|1|0|0\\nX0|0&0&1|1|0&1|1|0|1&0|0|1&0&0&0|0|0&1&0&0|1&1|0&1\\nXXXXXXXXXXXXXXXXXXXXXXXXXXXXXXXXX1&1|1&0|1&1&1&1&1\\nXXXXXXX0|1|1&1|1&1|0&0|0|0|1|0|1|0|0&1|0&1&0&1|0|0\\nXXXXXXXXXXXXXXXXXXXXXXXXXXXXXXXXXXXXXXXXXXXXXXX1&1\\nXXXXXXXXXXXXXXXXXXXXXXX0&1&0&1|0&1&0&0|0&0&1|1&0&1\\nXXXXXXXXXXXXXXXXXXXXXXXXXXXXXXXXX0|1|1|1&0&1&1&0&0\\nXXXXXXXXXXXXXXXXXXXXXXXXXXXXXXXXXXXXXXXXXXXXXXX1&0\\nXXXXXXXXXXXXXXXXXXXXXXXXXXXXXXXXX0|0|0&0&0|1&0|1|0\\nXXXXXXXXXXXXXXX0|0|0|0|0|0&1&1&0|0&1|1|0&1|1&0|0|1\\nXXXXX1&0|0&1|0&1|0&1|0|0|0&0|0|0|1|1&0|0&1&1|0&1|0\\nX1&1&1&1&0|1|0|1&0&0&1|1&0|1|1&1|1&1|1&0|0&1|0|1&0\\nXXXXXXXXXXXXXXXXXXX1&1|1&1&1|1|0|0&0|0|0&1&0|1|1&0\\nXXXXXXXXXXXXXXXXXXXXXXXXXXXXXXXXXXXXXXXXXXXXXXXXX1\\nXXXXXXXXXXXXXXXXXXXXXXXXXXXXXXXXXXXXXXXXXXXXX1&1|1\\nXXXXXXXXXXXXXXXXXXX0|0|0|0|0|0|1|1&0|0|0|0&0|0&1&1\\nX0&1&0&1&1&0|0|0&1|0&1&1&0&1|1|0&0|1|0|1|0&1|0|0&0\\nXXXXXXXXXXXXXXXXX0|0&1|0|1|1&0|0&0&1|1&1&0&1|1&1&1\\nXXXXXXXXXXXXXXXXXXXXXXXXXXX0&1&1|0|1&1|0&1&0|0|1&1\\nXXXXXXXXXXXXXXXXXXXXXXXXXXXXX0|0|0&0|0&0|1&1|0|0|0\\nXXXXXXXXXXXXXXXXXXXXXXXXXXXXX0&1&1&0&0|0|0|0&0&1|1\\nXXXXXXXXXXXXXXXXXXXXX0&0|0&1&0&0&1&1&1&0&1|0|0|1|1\\nXXXXXXXXXXXXXXXXXXXXXXXXXXXXXXXXX0|0&1|1|1&1|0&0&0\\nXXXXXXXXXXXXXXXXXXXXXXXXXXXXX1&1|1&1|0|1|1|0|1|1|1\\nXXXXXXXXXXXXXXXXXXXXX1|1|1&1|0&0&1|1|1&1&0&0&0|0|1\\nXXXXXXXXXXXXXXXXXXXXXXXXX0|0|1&0|0&1&0&0|0&1|0&1&1\\nX0&0|1&0|0&1|0&0|1&0|0&1|0|1|0&0|0|1&0|0|0|0|1|0&1\\nX1&0&0|1&0|0&1|0|0|0&0&0&0|1&0&1&1|1|1&0|1|0|0|1|1\\nXXXXXXXXXXXXXXXXXXXXXXXXXXXXXXXXXXXXXXXXXXXXX0&0|0\\nXXXXXXXXXXXXXXXXXXXXXXXXXXXXXXXXXXXXXXXXXXXXXXXXX0\\nXXXXXXXXXXXXXXXXXXXXX1|0|1|0|0|0&1&0&1&0&1&0&1|0|0\\nXXXXXXXXXXXXXXXXXXXXXXXXXXXXXXXXXXXXXXX1&0&0&0&0&0\\nXXXXXXXXXXXXXXXXXXXXXXXXXXXXXXXXXXX0|1|0|1|1|0&1&1\\nXXXXXXXXXXXXXXXXXXXXXXXXXXXXXXXXXXXXXXXXXXXXXXX0|0\\nXXXXXXXXXXXXXXXXXXXXXXXXXXXXXXXXXXXXXXXXXXXXXXX1|1\\nXXX0|0&0&0|0&0&1&0&0|1|0&0&1|0|0|1|1&1&0|1|1&0|0&0\\nXXXXXXXXXXXXXXXXXXXXXXXXXXX0&1|0&1|0|1|0|0|1&0&0|0\\nXXXXX0&1&1&1&0&0|0|0&1&0&0|0|1|1|0&1|0|1&0|0|1&1|1\\nXXXXXXXXXXXXXXXXXXXXXXXXXXXXXXXXXXXXXXXXXXXXXXXXX1\\nXXXXXXXXXXXXXXXXXXX0|0|1|1&0&0|0|1&1&0|1|0|1&0&0&1\\nXXXXXXXXXXXXXXXXXXXXXXXXXXXXXXXXXXXXXXXXXXXXX0&1&1\\nXXX0&0&1|0|1|0|1&1&1&1&0|0&1|0|0&1|0|0|0|1&1|1|0|1\\nX0|1&0|0|0&1&1&1|1&0|0&1&1&0|0&0|0|1|1&0|0|1|1&0&0\\nXXXXXXXXXXXXXXXXXXXXXXXXXXXXXXX0&1|1&0&1|1|0&0|0|0\\nXXXXXXXXXXXXXXXXXXXXXXXXXXXXXXXXXXXXXXXXXXX1&0|1&1\\nXXXXXXXXX0|0&0|0|0|0|0&0&0&0|1&0|0&0&0&1&1|0&0|0&0\\nXXXXXXXXXXXXXXXXXXXXXXXXXXXXXXX1|0|1|1|0&1|1&0|0&0\\nXXXXXXXXXXXXXXXXXXXXXXXXXXXXXXXXXXXXXXXXXXXXXXX1&0\\nXXXXXXXXXXXXXXXXXXXXXXXXXXXXXXXXX0|1&1|0|1&0|0&1|1\\nXXXXXXXXXXXXXXXXXXXXXXXXXXXXXXXXXXXXXXXXXXX1|0|0&1\\nXXXXXXXXXXXXXXXXX1|0|1|0|1|0|0|1|0&1&1|1|0|1&0&1&0\\nXXXXXXXXXXXXX0|0&0&1&0&0&0&1|0&1|1|0|0|1&1|0|0&0&1\\nXXXXXXXXXXXXX0|0&1|1|0|1&0|1|0&0&0|0&1&1|1|0|0|0|1\\nXXXXXXXXXXXXXXXXXXXXXXXXXXXXXXXXX0&0|1|1&0&1|1|1&1\\nXXXXXXXXXXXXXXXXXXXXXXXXX0&1&0|0&0|0&0&1|0&0|1&1|1\\nXXXXXXXXXXXXXXX0&0|1&1&0&1&0|0&0&0|1&1&1|1|1|0&1|1\\nXXXXXXXXXXX1|0&0|1|1&0&1&0&0|0|0&0|1&1&0&1&0&0&1&0\\nXXXXXXXXXXXXXXXXXXX1&1|0|0&1|1|1&1&0|1|0&1|1&0|1&1\\nXXXXXXXXXXXXXXXXXXXXXXXXXXXXXXXXX1|0&1|1|0|0&0|1&0\\nXXXXXXXXXXXXXXXXXXXXXXXXXXXXXXXXXXX1&0&0|0|0|1&0|0\\nXXXXX1|0&1|1&1|0|1&0|0&1&1&0|0&0&0|1&1&1|0|1&0|1|0\\nXXXXXXXXXXXXXXXXXXXXX1|1&0&0|1&1|0|0&0|1|1|1|0&0|0\\nXXXXXXXXXXX1&1|1&0&0|0&0&0|0&1|1&0&1|0&1&0&0|0&1&0\\nXXXXXXXXXXXXXXXXXXXXXXXXXXXXXXXXX1|1&1|0&1|1&0&0|0\\nXXXXXXXXXXX0|0|1|0&0&1&1&1|0&0&0|1|1&1|0|1|1|1&1&0\\nXXXXXXXXXXXXX1|0&0|1&0|0&0&1&1|0|0&0&1|0|0|0&0|1&1\\nXXXXXXXXXXXXXXXXX1|1|1&0&0|0|1|0|0|1&0&0|0|0&0&1|1\\nXXXXXXXXX0&1|0|1&1|0&1&1&0&1|0&0|1|0&1&1&0|1|1&0|0\\nXXXXXXXXXXX1&1&1|0|1|0|0&0|1|1&0&0|0|1&0&0&0|1&0&1\\nXXXXXXXXX1&0|0|0&1&0|1|1|1|0&0&0&1&1|1|0&1|1|1&0|1\\nXXXXXXXXXXXXXXXXXXXXXXXXXXX1&0|1|1|1&1&1|1|1|0|1|1\\nXXXXXXXXXXXXXXXXXXXXXXXXXXXXXXXXXXXXX0&0|0&1&1&0|1\\nXXXXXXXXXXXXXXXXXXXXXXXXXXXXX0&0|0|0&0&0&0&1|1|1|1\\nXXXXXXXXXXX0&1&0|1|1&0&0|1|1|0&1&1&0&1|0&0|1&1|1|1\\nXXXXXXXXXXXXXXXXXXX1|0&0|0|0|0&0|0|1|0&1&1|1|1|0&1\\nXXXXX0|0|1&1|1&0&1|1|0|0|0|0|1&1|1|0|0|1|1&1|1&1&1\\nXXXXXXXXXXXXXXXXXXXXXXXXXXXXXXXXXXXXXXX0&0|1&0|0&0\\nXXXXXXXXX0|0|1|1&0&1|0&1&0&1|0&1|0&0|1|0|0|1&0&1&1\\nXXXXXXXXXXXXXXXXXXXXXXXXXXXXXXXXXXXXXXXXXXX0|1|1&0\\nXXXXXXXXXXXXX1|0&1|1|0|1|1|1|0&0|1|0|0&0&1|0&1&0|1\\nXXXXXXXXXXXXXXXXXXXXXXXXXXXXX0|1|1&1|1|0&0&0|0&1|0\\nXXXXXXXXXXXXXXXXXXXXXXXXXXXXXXXXX0|1&0&1&1&0&1|1|1\\nXXXXXXXXX1|1|1&1&1|1&0|0|1|1&0&0|0|0|1&1&0&1&1&1|1\\nXXXXXXXXXXXXXXXXXXXXXXXXXXXXXXXXXXXXXXXXXXXXXXX1&0\\nXXXXXXXXXXXXXXXXXXX1&1|0&1|0|1&0|1|1|1&0|0|0&1|0|1\\nXXXXXXXXXXXXXXXXXXXXXXXXXXXXXXXXX1&0&0&1|0&0&1&1|0\\nXXXXXXXXXXXXXXXXXXXXXXXXXXXXXXXXXXXXXXX0|1|1|1|1|0\\nXXXXXXXXXXXXXXXXXXXXXXXXXXXXXXXXXXX1|1|0|1|0&1|1|0\\nXXXXXXXXXXXXXXXXXXXXXXXXXXXXXXX0|0&1|1|0|0&1&1&0&0\\nXXXXXXX1&1&1|0|1|0&1|0|0|0|1&0|1|1|1|1|1&0&1|1|1|0\\nXXXXXXXXXXXXXXXXXXXXX1&1|0&0|1|0|1&1&1|1&1&0|1|1&1\\nXXXXXXXXXXXXXXXXX0&0&1|0|1&0|1&1|0&1|1|1&1|1|0|0&0\\nXXXXXXXXXXXXXXXXXXXXXXXXXXXXXXX0&0|1|1&1|0&1&0&0&0\\nXXXXXXXXXXXXXXXXXXXXXXXXXXXXXXXXXXX1|1&1|1&0&0|1&1\\nXXXXX1&1&0|1&0|1|1&0|0&1|0&1|1|1|0&1|1|1|0&1&0|0|1\\nXXXXXXXXXXXXXXXXX1&0|1|1|0|1&0&1|1&1&0|0|0|1&1&0&0\\nXXXXXXXXXXXXXXXXXXXXXXX1&1|1|1|0|0|1&0&1&0&1&1|1|0\\nXXXXXXXXXXXXXXXXXXXXXXXXXXXXXXXXXXXXXXXXXXXXX0|1|1\\nXXXXXXXXXXXXXXXXXXXXXXXXXXXXXXXXXXXXXXX0&1&1&1&1&0\\nXXXXXXXXXXXXXXXXXXXXXXXXXXXXXXXXXXX0&0|0&0|0&1&1&0\\nXXXXXXXXXXXXXXXXXXXXX1&0&1|0|1|1&1&0|1&0&0&0|0|1&1\\nXXXXXXXXXXXXXXXXX1&1&1&0&0|0&1&0&1|1|0&1&0&0&0&1|0\\nXXXXXXXXXXXXXXXXXXXXXXXXXXXXXXXXXXXXXXXXXXXXX1|1&1\\nXXXXXXXXXXX0&1&1|1&1&1&0|1&0|1|0|1|1&1|1|0&1&0&1|1\\nXXXXXXXXXXXXXXXXXXXXX0|0&0&0|0|1|0|0&1&0|1|0&1|0|0\\nXXXXXXXXXXXXXXXXXXXXXXXXXXXXXXXXXXXXXXXXX0&1&1|1|0\\nXXXXXXXXXXXXXXXXXXXXXXXXXXXXXXXXXXXXXXXXX1&0|1&0|1\\nXXXXXXXXXXXXXXXXXXXXXXXXXXXXXXXXXXXXXXXXXXXXX0&0&1\\nXXXXXXXXXXXXXXXXX0&1&0|1&1|0|0&0&1&0&1|1&0|1&1&1|0\\nXXXXXXXXXXXXXXXXXXXXXXXXXXXXXXXXXXXXXXXXXXXXXXX1&0\\nXXXXXXXXXXXXXXX1|1|0|0|0&0&0&1|1|0|1|0&0&0&1|1&1|1\\nXXXXXXX0&0&0&1&0|1|0|0|1|0&1|1&1&0&1&1&0|1|1|0&1|1\\nX0&1|0|1|1&1|1|0|1&0&0&1&0|0&1&1&0&1&1|1&1&1|1|1|1\\nXXXXXXXXX1|1&1&1|0|0|0&1|1|0|1|0|0&1&1&1&1&0&1|0|0\\nXXXXXXXXXXXXXXXXXXXXXXXXXXXXX0&0|0&0|1&1|0&0|0&1|1\\nXXXXXXXXXXXXXXXXXXXXXXXXXXXXXXXXXXXXXXXXXXXXXXX0|0\\nXXXXXXXXXXXXXXXXXXXXXXXXXXXXXXXXXXXXXXXXX0&0&0&0&0\\nX0&1|1|1|0|0|0|1&1&0|1&0|1|0&0|1&0|1|0&0|1|0&1|1|0\\nXXXXXXXXXXXXX0|1&0|0&0&1|0|0|0&1|1&1&0&1|0|0|0&1|0\\nXXXXXXXXXXXXXXXXXXXXXXXXXXXXXXXXXXXXXXXXXXXXXXX0|1\\nXXXXXXXXXXXXXXXXXXXXX0|0|0|0&0&1|0&0&1|1&0|1|1&0|1\\nXXXXX1&0&0|1|1|0|0&0|0&1|1&1&1|1&0&0&0&0&0&0|1&1&0\\nXXXXXXXXXXXXXXXXXXXXXXXXXXXXXXX0&0&0|0|0|1&1&0&0&0\\nXXXXXXXXXXX0|0&1&1&1&1&0&1&1|0|0|0|0|0&0&0&1&0|0|1\\nX1&1&0&0|1&0|1&0&1|1|0|0|1&0&0|1|1|1|1|0&0|1&0|1&0\\nXXXXXXXXXXXXXXXXXXXXXXXXXXXXXXXXXXXXXXXXX1&0|1|0|0\\nXXXXXXXXXXXXXXXXXXXXXXXXXXXXXXXXX1&1&1|1|1&0&1&0|1\\nXXXXXXXXXXXXXXXXXXXXXXXXXXXXXXXXXXXXXXXXXXXXXXX1|0\\nXXXXXXXXXXXXXXXXXXXXX1|1|1|0|0&1|1&0&1|1&0&1|1&1&1\\nXXXXXXXXXXXXXXXXXXXXXXXXXXXXX0&0&1&1&1&0|1|0&1&1&1\\nX1|0&1|1|0&1&0|0&1|1&1|0|0&0|1&1|0&0&0&0&0&1|0&1&0\\nXXXXXXXXXXXXXXXXXXXXXXXXX1&1&1&0|0|0&1&1|0|0&0|1|1\\nXXX1|0&1|0|1|0&1|0&0&1&0&0&0|1&1|1|1|0&0&1&0&1&1|1\\nX0&1&0|0|1|1&0&1&0|0&0|1|0|1&0|0|0&1&1|0|1&1&0|0&1\\nXXXXXXXXXXXXXXXXXXXXXXXXXXXXXXX0|1|0&1&0|1&0&0&0&1\\nXXXXXXXXXXXXXXXXXXXXXXXXXXXXXXXXXXXXXXXXXXX0&1&1&0\\nX1&1&1&0&0&0&0|0&0&1|0|1&1|0|0&0&0|0|1&0&1&0&0|1|1\\nXXXXXXXXXXXXXXXXX1&0&0|0&1&0|0|1|0|0|0&0|0|1|1&1&1\\nXXXXXXXXXXXXXXXXXXXXXXXXXXXXXXX0|0&1&1&1&1&0&0|1|1\\nXXXXXXXXXXXXXXXXXXXXXXXXXXXXXXXXXXXXXXX1|0&0|0&1&0\\nXXXXX1&1&0&0|1&0|1|0&0&1|0&1&0&0|1&0|1&1|0&1&0|0&0\\nXXXXXXXXXXXXXXXXXXXXXXXXXXXXX0&0|0&0|1|1&1&0&1&0|0\\nXXXXXXXXXXXXXXXXXXXXXXXXXXXXXXXXXXXXXXXXXXXXXXXXX0\\nXXXXXXXXXXXXXXXXXXXXXXXXXXXXXXXXXXXXXXX1&1&0|0|0&0\\nXXXXXXXXXXXXXXXXXXXXXXXXXXXXX0|1|1&0|1&0|0|1|1|0|1\\nXXXXXXXXXXXXXXXXXXXXXXXXXXXXXXXXXXXXXXXXX1|0|0|1&0\\nXXXXXXXXXXXXXXXXXXXXXXXXXXXXXXXXXXX0&0&0&0&0&1&0|1\\nXXXXXXXXXXXXXXX0|1&0&0&1|0&1|1|1&1|0|0|0|1|1&0&1|0\\nXXXXXXXXXXXXXXXXX1&1|1|0&1|1&1|1&0|0&0&0|0|0|1&1&0\\nX0&1&1&1&1|1|0|0|1|1|1|1&0|1&0&0&0&1|0&1|1|1|1|0&1\\nXXXXX0&1|1&1|1|1&1|0|1|1|0|0|1&1&1|0&0|1&0|1&0&0|0\\nXXXXXXXXXXXXXXXXXXX1|1|1&0|1|0|1&1&1&0&1|0|1|1&0|0\\nXXXXXXXXXXXXXXXXXXXXXXXXXXXXXXXXXXXXXXXXXXXXXXXXX1\\nXXXXXXXXXXXXXXXXXXXXXXXXXXXXXXXXXXXXXXXXXXXXXXX1&1\\nXXXXXXXXXXXXX0&1|0&1&0&1&1&0|1|1&0|1&0|0|1|0&0|0&0\\nXXXXXXXXXXXXXXXXXXXXXXXXXXXXXXXXXXXXXXXXX1|1&0&0&1\\nXXXXXXXXXXXXXXXXXXXXXXXXXXXXXXXXXXXXXXX1&1&1&1&0&0\\nXXXXXXXXXXXXXXXXXXXXXXX1&1&1|0|1|1&0|1|0|0&1|0|0|0\\nXXXXXXXXXXXXXXXXXXXXXXXXXXXXXXXXX0|0&0&0&0|0|1|0|0\\nXXXXXXXXXXXXXXXXXXXXX0&1|0|1|1|0|0&1|1&1|1&1|0|0&0\\nXXXXXXXXXXXXXXXXXXXXXXXXXXX0|0&0|0&1|1&1&0&0&0&0|0\\nXXXXXXXXXXXXXXXXXXXXXXXXXXXXXXXXXXXXXXXXX0&1|1&0&0\\nXXXXXXXXXXXXXXXXXXXXXXXXXXXXXXXXXXXXXXXXXXX0&0|1|0\\nX1|1&1&0&1|0|0|0&0&0|1|0&0|0&0&0|1|0|0|0&0|1&1&0&0\\nXXXXXXXXXXXXXXXXXXXXXXXXXXXXXXX1|0|0|0&0&0|0&0&0&0\\nXXXXXXXXXXXXXXX0|0&1&0|0|1|1&0|1|1&1&1&0&0&1|0&1&0\\nXXXXXXXXXXXXXXXXXXXXXXX1&1|1&1|0&1|1|0|0&0|0&1|0|1\\nXXXXXXXXXXXXX0|0&1|1|1&1&1&1&0&1|0|1&1&0|0&0|0|0&0\\nXXXXXXXXXXXXXXXXXXXXXXXXXXXXXXXXXXXXX1|1&0|1&1&0&1\\nXXXXXXXXXXXXXXXXXXXXXXXXX0|0|1|0|1&0&1&0|1|1|1&1|1\\nXXXXXXXXXXXXXXXXXXXXXXXXXXXXXXXXXXXXXXX1&0|1|1|1&1\\nXXXXXXXXXXXXXXXXXXXXXXXXXXX1&1&0|0&1|0&1|1|0&0&0|1\\nXXXXXXXXXXXXXXXXXXXXXXXXXXXXXXXXXXXXXXXXXXXXXXXXX0\\nXXXXXXXXXXXXXXX0|0&1|0|0|0&1|0|1&0|1&1&1&1|0&0&0&1\\nXXXXXXXXXXXXXXXXXXX1&1|1&1|0&0|0|0|1&1|0&0|0&1|1&0\\nXXXXXXXXXXXXXXX0|0|1&0&0|1&1&1&1&1|0&1&0&1&0|0|0|1\\nXXXXXXXXXXXXXXXXXXX0&1|1&0&1|0&0|1|1&1|1|0|1&1&1&1\\nXXXXXXXXXXXXXXXXXXXXXXXXXXXXXXXXXXXXXXXXXXXXXXX0&1\\nXXXXXXXXXXXXXXXXXXXXXXX0|1&0|1|0&0|1&0&1&0&0|1|1&1\\nXXXXXXXXXXXXXXXXXXXXXXXXX1&1|1&1|0|1|1|0|0&1&1&1&1\\nXXXXXXXXXXXXXXXXXXX1|0&0|0|0&1&1|0&1|1|1|0|0&1&1|0\\nXXXXXXXXXXXXXXXXXXXXXXXXXXX1|1&0|0|0&0|0&0&0|1&1&0\\nXXXXXXXXX1|0|1|0&0|0&0|1|1&0|0&1|1&1|1&1&1|1|1|1|1\\nXXXXXXXXXXXXXXXXXXXXXXXXXXXXXXXXXXXXXXX0|0|1|0|0|1\\nXXXXXXXXXXXXXXXXXXXXXXXXXXXXXXXXXXX1&0&0&0|1&0|0&1\\nXXXXXXXXXXXXXXXXXXXXXXXXXXXXXXXXXXXXXXXXXXXXXXX0|0\\nXXXXXXXXXXXXXXXXXXXXXXXXXXXXXXXXXXXXXXXXXXXXX1&0|0\\nXXXXXXXXXXXXXXXXXXXXXXX0|0|0&1&1&1&1&1&1|0&0|1|0&0\\nXXXXXXXXXXXXXXXXXXXXXXX1|0&1|1|0|1|0|1|0&1|1&1|1&0\\nXXXXXXXXXXXXXXXXXXXXXXXXXXXXXXXXXXXXXXXXXXXXXXX1|0\\nXXXXXXXXXXX1&0|0|0|0&1|1|0|0|0&1&0|0&0&0&1|1&0|1&0\\nXXXXXXXXXXXXXXXXXXXXXXXXXXXXXXXXXXXXXXXXXXXXX1&0|0\\nX0&1|0&0&1|1|1&1|0&1&0&0|0|0|0|0|1&1&1|0&1|1&1&1&0\\nXXXXXXXXXXXXXXXXXXXXXXX0|0&1&1|1&1&1|0|1|0&1|0|0&1\\nXXXXX0&0&1&0|0|1&0&1&1&1&0&0|0|1|0|1|1|1&1|1|0&1&1\\nXXXXXXXXXXXXXXXXXXXXXXXXXXXXX1|1|0&0&1&1&0&1|1&1|1\\nXXXXXXXXXXXXXXXXXXXXXXX1&0|1&1&0|1|0&0&0|1&0|1|0&1\\nXXXXXXXXXXXXXXXXXXXXXXXXXXXXXXXXXXXXXXXXXXX1|1|0&1\\nXXXXXXXXXXXXXXXXXXXXXXXXX0&1|0|0|1|1&1&1|1&1&0|0|1\\nXXXXXXXXXXX0|1&1|1&1&0&0|1|0&1&0&1&0|0&1|1|1|0|0|0\\nXXXXXXXXXXXXXXXXXXXXXXXXXXXXXXXXXXXXXXXXX0&1|0&1|1\\nX0&0&0|0&1|0|0&1&1|0|1|0&0|0|0|1&1|1&1|0|1|1|0|0&1\\nXXXXXXXXXXXXXXXXXXXXXXXXXXXXXXXXXXXXXXXXXXXXXXX0|0\\nX0&1|0|0&1|1&0|0|1|0&1&0&1|0|0&0|1&1&0&1&0|1|1&0&1\\nXXXXXXXXXXXXXXXXXXXXXXXXXXXXXXXXX0|0&1|1|0&1&1|0|0\\nX1&1|1&1|1&0&0|1&0&1|1&0|0|0&1&0|0&1|1|0|0|1&0|1&0\\nXXXXXXXXXXXXXXXXXXXXXXXXXXX1&0&1|1&1|0&0|0|0&0|0&0\\nXXXXXXXXX1|1|0&1|0|1|1&0|1|0|1&0&0&0&1&0|1|1&1|1|0\\nXXXXXXXXXXX1&1&0&0&1&0&1|1&0|0|1|1|0&1|1&0&1&0|1&1\\nXXXXXXXXXXXXXXXXXXXXXXXXXXXXXXXXXXXXXXXXXXXXX1|0|0\\nXXXXXXXXXXXXXXXXXXXXX0|0|0|0&0&0|1|1|0&0|0&0|1|0|0\\nXXXXXXXXXXXXXXXXXXXXX0&1&1&1|1&0|0&0|1&1&1&0|0&1|0\\nXXXXXXXXXXXXXXXXXXXXXXXXXXXXXXXXXXXXX1&0|0&0|0&0|0\\nXXXXXXXXXXXXXXXXXXXXXXXXX1|1|1&1|1&1|0&1|1|0&0&0|1\\nXXXXXXXXXXXXXXXXXXXXXXX0&0&1&0|1&0&0&1|1|1&0&1|1|1\\nXXXXXXXXXXXXXXXXXXXXXXXXXXXXXXXXXXXXXXXXX0|0|1|1|1\\nXXXXXXXXXXX0&0|0&0|1|0&0&1&0&0&0|0&1|0|0&1|0&0|1|1\\nXXX1|1&1&1&1&1&1&1|0&1|0|1&0|1&1|1&1|0|0&0&1&0|0|0\\nXXXXXXXXXXXXXXXXXXXXXXXXXXXXXXXXX1|1&1|0&1|1&0|1&1\\nXXXXXXXXXXXXXXXXXXXXXXXXXXXXXXXXXXXXXXXXXXXXX0&1|0\\nXXXXXXX1|0|1&0|0&0&1&0|0|1&1|0|0|0&1&1&0&0|0&1|0&1\\nXXXXXXXXXXXXXXXXXXXXXXXXXXXXXXXXXXX1|1&1&0|1|0|0&1\\nXXXXXXXXXXXXXXXXXXXXX0|1&1&1|1&1&0|0|1&1&1|1&1&0&1\\nXXXXXXXXXXXXXXXXXXXXXXXXXXXXXXXXXXXXXXX0&1&1&1|1&0\\nXXXXXXXXXXXXXXXXXXXXXXXXXXX0|0&1|0&1|1|0|1|1|1|1&0\\nXXXXXXXXXXXXXXXXXXXXXXXXXXXXXXXXXXXXX1&1|1&0|1|0|1\\nXXXXXXXXXXXXXXXXX1|0|1&1&1&1&0|1|0&0&0|0|0|0|1|0|1\\nXXX0|1&0|1&1|0&0&1&1|0|1&1|0&0|1|0&1|0|1|1&1&1|1|0\\nX0|1&0|0|0&1|0|0|1|0&1&1&1&0&0|0|1&0|1|0|1&1&0|1&1\\nXXXXXXXXXXXXXXXXXXXXXXXXXXXXXXX1&0&0&1|1|1|1|0&1|0\\nXXXXXXXXXXXXX1&1&0|0|0&0&1&1|0&0|0&1&1|1|1&0|1&0&1\\nXXXXXXXXXXXXXXXXXXX1|0|1|1&0&0|0|1&0&0&1&1|0|1|0&0\\nXXXXXXXXXXXXXXXXXXXXXXXXXXXXXXXXXXXXX1|1&1&1&1&1&1\\nXXXXXXXXXXX0|0&0|1&0&0|0|1|0|1|0|0&1|0|1&0&1|0&1|0\\nXXXXXXXXXXXXXXXXXXXXXXXXXXXXXXXXX0|1&1&0|1&1&0|0&1\\nXXXXXXXXXXXXXXXXXXXXXXXXXXXXX0|0|1&0|1|0&1&1&0&1|0\\nXXXXXXXXXXXXXXXXXXX0&0&0&0|0|0|1&1|0&1|1|0&0|1|0&0\\nXXXXXXXXXXXXXXXXXXXXXXXXXXXXXXXXX1&0|1|0&1&1&1&0&1\\nXXXXXXXXXXXXXXXXXXXXXXXXXXXXXXXXXXXXX0|0&1|1&1&0&0\\nXXXXXXXXXXXXXXXXX1&0&1|1|1&0|1|1&1|1&0|0|1&1|1|1&0\\nXXXXXXXXXXXXXXXXXXXXXXXXX1|0&1&1&1&0&1|0|0|1&0&1|1\\nXXXXXXXXXXXXXXXXXXXXX1|1&0&1|1|1|1&0&1&0|0&1|1&0|1\\nXXXXXXXXXXXXXXXXXXXXXXXXXXXXXXXXXXX1&0&1&1&1&1&1&0\\nXXXXXXXXXXXXXXXXXXXXXXXXXXXXXXXXXXXXXXXXXXXXXXX1&0\\nXXX1&0&1&1|0&1&1&1|1&1|1&0&1|0&1&1|0&1|0&0|0&1|0|0\\nXXXXXXXXXXX0&0|0&0&0|0&1|0|0|1|0|1|1|0&0&1&1&0|0|1\\nXXXXXXXXXXXXXXXXXXXXXXXXXXXXXXXXXXXXXXX0&0|1|1|1&1\\nXXXXXXXXXXX0|0|0|0&0|1&1&1|1|1|1|0&1|1|0&1&1&0&1&0\\nX0&0|1|0&0&0|1&0|1|1|0&0|1&0|1&1&0&1|0&0&1&0|0|0&0\\nXXXXXXXXXXXXXXXXXXXXXXXXXXXXXXXXXXXXXXXXX0&1&1|1|1\\nXXXXXXXXXXXXXXXXXXXXXXXXXXXXXXXXXXXXX1&0|1&1&0&1&0\\nXXXXXXXXXXX0|1|1|1&0&1|0&1&0|1|0&0|1|0&0|1&0&0&0|0\\nX0|1&0&0&0&0|0|0|1|0|0|0|1|1&1&1|0&1&0|0|0&1|1|0|0\\nXXXXXXXXXXXXXXXXXXXXXXXXXXXXX1|1&1|1&0|0&1&0|1&0&0\\nXXXXXXXXXXXXXXX0|1|1|1&0|1&0|1&1&0|1|1&1&1&0&0&0|1\\nXXX0|1&1&1&0&0|1|1&1|1&0|0|1|1&0&0|0&1&1|1|0|0|1&1\\nXXXXXXXXXXXXXXXXXXXXXXXXXXXXXXXXX0&1&1&0|1&0&0|1&1\\nXXXXXXXXXXXXXXXXXXXXXXXXXXXXXXXXXXXXXXXXXXXXXXX0|1\\nXXXXXXXXXXXXXXX1&1|1&1&1&0&1&0&0|1|1&0|1|1&0|1|0&0\\nXXXXXXXXX1|0&1|1|0&0&0|1|0&0|1|0&0&0&0|1&1|1&0&0&0\\nXXXXXXXXXXXXXXXXXXXXXXXXXXXXXXXXXXXXX1|1&0&0&0|1&1\\nXXXXXXXXXXXXXXXXX1&0|1|0|0&0&0&1|0&0&0&1&1|0|0|1&0\\nXXXXXXXXXXXXXXXXXXXXXXXXXXXXX1&0&1&0|1&1&0&1|0&0&1\\nXXXXXXXXXXXXXXXXXXXXXXXXXXXXXXX1&1|1&0|1&1&1&1|0|0\\nXXXXXXXXXXXXXXXXXXX1&0&0|1&0|0&0|0|0|0|1&1|0|1|0|1\\nXXXXXXXXXXXXXXX0&0|0&1&1&0&1&0|1&1|0&0&0&1&1|1&1|1\\nXXXXXXXXXXXXXXXXXXXXX0|0&1&0|0|1&0&1|1&1&1|0|0&0|1\\nXXXXXXXXXXXXXXXXXXXXXXXXXXXXXXX1&1&0&1&0&1&0&1|0|1\\nXXXXXXXXXXXXX0&0|0&0&0&1&1|1|1|1|1|1&0&1|1&1|0&0&1\\nXXXXXXXXXXXXXXXXXXXXXXXXXXX0|0&1|1|1&1|0&1&0&0&0|1\\nXXXXXXXXXXXXXXXXXXXXXXXXXXXXXXXXXXXXXXXXXXXXXXX0&0\\nXXXXXXXXXXX1&1&1&0|1|1|1&1&0|1&0&0&0&1|0|1&1&1&0&1\\nXXXXXXXXXXXXX0|1|1&1&1&1|0&1&0&1|0&0&0&0|1|1&1|1|0\\nXXXXXXXXXXXXXXXXXXXXX1&0|1|0&0&0|1&1|1&1|1|1&1|0|0\\nXXXXXXXXXXXXXXXXXXX0&1|1|0|1&0|0|1&1|1|0|1|0|1|1|1\\nXXXXXXXXXXXXXXXXXXXXX0|0|1|1&1&1|0|0|1|0&1|0&0&0|0\\nXXX1|0&0&0|0|1|0&1|0&0|0|1&0|0&0&0&1|1&0|1|1|0|0&0\\nXXXXX1&1|0&1|0&1&1&1|0&1|0|0&1|0|0&0|0&0&1&1|0&1|0\\nXXXXXXXXXXXXXXXXXXXXXXXXXXXXXXXXXXXXXXX0&0&1&0|1&1\\nXXXXXXXXXXXXXXXXXXXXXXXXX0|0&0&1&1&0|1|1&0&1|1|0|1\\nX1|1&1&0&0&1&0|0|1|1&1|0&1|0|1&1|1&1&0|1&1&0|1&0|1\\nXXXXXXXXXXXXXXXXXXXXXXXXXXXXXXXXXXXXXXXXX0|1&1&1&0\\nXXXXXXXXXXXXXXXXXXXXXXXXXXXXXXXXXXXXX0|1&0|0&0|1|1\\nXXXXXXXXXXXXXXXXX1|1&0|0|1&0&1|1|1|0|1|0|1&0|1&1|0\\nXXXXXXXXXXXXXXXXXXXXXXX1|0&0&1&0|1&1|1&0&0&0|1&1|1\\nXXXXXXXXXXXXXXXXXXXXXXXXXXXXXXXXXXXXXXXXXXX1&0&1&0\\nXXXXXXXXXXXXX1&1&0&1&0&1|1|0|1&1|0|0&1|1|0|0|0|0&0\\nXXXXXXXXXXXXX1|0|0|0|1&1|1|0|1|0|0|1&1|0&0|0&1|1&0\\nXXXXXXXXXXXXXXX1&0&0&1|1|0|1|1&0&1|1|1&1&1|0&0&1&0\\nXXXXXXXXXXXXXXXXXXXXXXXXXXXXXXXXXXXXXXXXXXXXXXX0&0\\nXXXXXXXXXXXXXXXXXXXXXXXXXXXXXXX0|0|1&1&0&1&1|1&1|1\\nXXXXXXXXXXXXXXXXXXXXXXXXXXXXXXXXXXXXX1&0|1&1&1&1&0\\nXXXXXXXXXXXXXXXXXXXXXXXXXXXXXXXXXXXXXXXXX0&0&1|0|1\\nXXXXXXXXXXXXX0|0|1|0&0&0|0&0&1|0|1&1&0&1|0&1&1|0|0\\nXXXXXXX1|1&0|1|1&0&1|1|0|1|1&1|0|1&0&0&0|0&0|0|0&0\\nXXXXXXXXXXXXXXXXXXXXXXXXXXXXXXXXXXXXXXXXXXXXXXX1&1\\nXXXXXXXXXXXXXXXXXXXXXXXXXXXXXXX1|1&0&0|1|1&0&0|0&0\\nXXXXXXX0|1&0|0&0&0|0|1&1|0&1|0&0&0&0&0|0&1&1|0&1&1\\nXXXXXXXXXXXXXXXXXXXXXXXXXXXXXXXXXXX0&0&0|1&1|1&0&0\\nX1|1&1|1|1&0|0|0&1|1|1|0|1|0|1|1|1|0&1&1&0&1|1|0|1\\nXXXXXXXXXXXXXXXXXXXXXXXXXXXXXXXXXXXXXXXXXXXXX0|1&0\\nXXXXXXX1&0&1&1&1&0|1|0|1|1&1&1|1&1|0|1|1|1&0|0|1&0\\nXXXXXXXXXXXXXXXXXXXXXXXXXXXXXXXXX1&1|0&0|1&1|1|1&1\\nXXXXXXXXXXXXXXXXXXXXXXXXXXXXXXXXXXXXXXX1&0|0|1|0&0\\nXXXXXXXXXXXXXXXXXXX0|1&0|1&1&0|1&0|0&1|1|0|1|0|0|1\\nXXXXXXXXXXXXXXXXXXXXXXX1|0|0&1|0&1|0|0|0|1|1|0&1|1\\nXXXXXXXXXXXXXXXXXXXXXXXXXXX1|1&1|0&1&0|1|1&1&1|1&0\\nXXX0|0|1&1&1&1&1|0|0&1&0&1&0&1&0&1|0&0|1&0|1|0|1|1\\nXXXXXXXXXXXXXXXXXXXXXXXXXXXXXXXXXXX0|0&1&0|1|0|0|0\\nXXXXXXXXXXXXXXXXXXXXXXXXXXXXXXXXXXXXX1|0|1&0&0|1|0\\nX0|1&0|1|0|1&0&0&0&1&0&0|1&0|1&1|1|0&0|1|1|0|0&1|0\\nXXXXXXXXXXXXXXXXXXXXXXXXXXXXXXXXXXX1|0|0&0&1&1&1&0\\nXXXXXXXXXXX0&1|0|0|0|1|1|0|0|0|0&1&0|0|0&1|0|1|1&0\\nXXXXXXXXXXXXXXXXX0&0&1&1&0|0|1|0&1&1|0&0&0|1|1|0&1\\nXXXXXXXXXXXXXXXXXXXXXXXXXXXXXXXXXXX0&1&1|1&1|0&0&1\\nXXXXXXXXXXXXXXXXXXXXXXXXXXXXXXX0|0&0&0&1&0|1|0&1|0\\nXXXXXXXXXXXXXXXXXXXXXXXXXXXXXXXXXXXXXXX0|1|0|1|1&1\\nXXXXXXXXXXXXXXXXXXXXXXXXX1&0&0|0|1|0&1&0|0|1&1|1|0\\nXXXXXXXXXXXXXXXXXXXXXXXXXXXXXXXXXXXXXXXXXXXXXXXXX1\\nXXXXXXXXXXXXXXXXXXXXX1&0|1|0&1&0|1&0&0|1|1|1|1|1|0\\nXXX0&1|0&1|1&0&0&0|0|0|1|1|0|0&0&1&0&0|1|1&0&0&0|1\\nXXXXXXXXXXXXXXXXXXX1&0|1&1|0&1&0&0|0&0&0&0&1&1|1|1\\nXXXXXXXXXXX1|1|1|0|1&0&1&1|1&1|1|0|0&1|1|1&1|1&1|0\\nXXXXXXXXX0&1&0&1|0&1&1|1&0|0|0&1&1|1&0|0&0|0|1&1|0\\nXXXXXXXXXXXXXXXXXXXXXXXXXXX1&0|1|0|1|0&0|1|0|1&0&1\\nXXX0|0|0&1|0|0|1&0|0&0|1&1|1&1&0&1|1&1&0|0&0&0|0&0\\nXXXXXXXXXXXXXXXXXXXXXXX0|0&0|0&1&0|1&0|0&1&1&1&0&1\\nXXXXXXXXXXXXXXXXXXXXXXXXXXXXXXXXXXXXXXXXXXXXXXX1|1\\nXXXXXXXXXXXXXXXXXXXXXXXXXXXXX0|1|0&1&0&0|0|1|1&1|1\\nXXXXXXXXXXXXXXXXXXXXXXXXXXXXXXXXX1|0|0|0&1&0|0&0&0\\nXXXXXXXXXXXXXXXXXXXXXXXXXXXXXXX1|1&1&0|1|1|0&0&0&0\\nXXXXXXXXXXXXXXXXXXXXXXXXXXX0&0|0&1&0&0&1|1&0|1&1&0\\nXXXXXXXXXXXXXXXXX0&0|0|1&0|1&1&0&1&0|0|1&1|1|0|1&1\\nXXXXXXXXXXXXXXXXXXXXXXXXXXXXXXXXXXXXXXXXXXXXXXX0&1\\nXXXXXXXXXXXXX1&0|1&1|1|0&0&0&1&0|1|0|0&1|1&0|0|1|0\\nXXXXXXXXXXXXXXXXXXXXXXXXXXXXXXXXXXXXXXXXXXXXXXXXX1\\nXXXXXXXXXXXXXXXXXXXXXXXXXXXXXXXXXXXXXXXXXXXXXXX0&1\\nXXXXXXXXXXXXXXXXXXXXX1&1|0&0|1&1&1|1|1&0&0&0|0&0&1\\nX0|1&1&0&1|0|0&0&1&0&0&1|0|0&1&0|0&0&1|1&0|1&1|1&0\\nXXXXXXXXXXXXXXXXXXXXXXXXX1|1&0|0&1|1&0&0|1|1|1&1|1\\nXXXXXXXXXXXXXXXXXXXXXXXXXXXXXXXXXXXXXXXXXXXXXXX0&1\\nXXXXXXXXXXXXXXXXXXXXXXXXXXXXXXXXXXXXXXX1&1|0|1&1|1\\nXXXXXXXXXXXXXXXXXXXXXXXXXXXXXXXXXXXXXXXXXXX0|0|0&1\\nXXXXXXXXXXXXXXXXXXXXXXXXX0|1&1|0|0|0|0|1|1|0&0|1|1\\nXXXXXXXXXXXXXXXXXXXXXXXXXXXXXXXXX1|1|0|1|0|0&1&0|0\\nXXXXXXXXXXXXXXXXXXXXXXXXXXXXXXXXXXXXXXXXXXXXXXX1&1\\nXXXXXXXXXXXXXXX1|1|1&0&0|0|1&0&0&0|0|0&1|1|1&0&0&0\\nXXXXXXXXXXXXXXXXX0&1|1&1|0|0&0|1&0&1|1&1&0&1&1|1|1\\nX0|0&1|0&1&1&1&0|0|1&1|0&1&1|1|1|1|0|1|0&1|1&1|0&1\\nXXXXXXXXXXXXX0|1&0&1|0&0&0&0|1&0&0|1&1&1&1|0&1|0|0\\nXXXXXXXXXXXXXXXXXXXXXXXXXXXXXXXXXXX1|1&1&1|1&1|1&0\\nXXXXX0&1|1|1|0&1|0|0|0&1|1&0|0&1&0|0&0&0&1|0|0&1&0\\nXXXXXXXXXXXXXXXXXXXXXXXXXXXXXXXXXXXXXXXXXXX1|1&1&0\\nXXXXXXXXXXXXXXXXXXXXXXXXXXXXXXXXXXXXXXXXXXX1&0&1|1\\nXXXXXXXXXXXXXXXXXXXXXXXXXXXXXXXXXXXXXXXXXXXXX1|0|1\\nXXXXXXXXXXXXXXXXX0&1|1&1&1|0&1&1|1|0&0&1&0|0|1|1|0\\nXXXXXXXXXXXXXXXXXXXXXXXXXXX1|0|1&0|1&0&0|0&1&1&0|1\\nXXXXXXXXXXXXX0&0&0&1&0&1&0|0|1&0|0&0&1|0|1|1|1&1&1\\nXXXXXXXXXXXXXXXXXXXXXXXXX0|0|1|0&0|1|0&1&1|1|1&1|0\\nXXXXXXXXXXXXX0&1|0|1&0|0&1&0|1&1&1|0&0|1&0|1|1|0&1\\nXXXXXXXXXXXXXXXXXXXXXXXXXXXXXXXXXXXXXXXXXXXXXXXXX0\\nXXXXXXXXXXXXXXX0&0&1|0&1|0|0|0&1&0|0&0|1|0&0|0&1&0\\nXXXXXXXXXXXXXXXXXXXXX1|1&0&0&0&0|1&1&1&0&0|1&0&1|0\\nXXXXXXX0&1|0|0&0&1&1|1&1|1|1&1|0&1&0|1&1&0|0|0|0&0\\nXXXXXXXXXXXXXXXXXXXXXXXXXXXXXXXXXXXXXXXXXXX1|0&0|1\\nXXXXXXXXXXXXXXXXXXXXXXXXXXXXXXX1&0|0&0&1|0|0&0|0&1\\nXXXXXXXXXXXXXXXXXXXXXXXXXXXXXXXXXXXXXXXXX0|0|0&0|1\\nXXXXXXXXXXXXXXXXX0&1&0|1|0|1&0|0|0|1&0|0|1|0|0|0&1\\nX0&0&1|0|1&1&1&1&0|0|0|0&0&0&1|1&0|1|0&0&0&1|0&0|1\\nX0&1|1&1|0&1&0|0&0&1|1&1&0&0&0|1|1|1&1&0&1|1&1|1|1\\nXXXXXXXXXXXXXXX1|1&0&0|0|1&0|0|0&1|1&0&1|1|1&0&0|0\\nXXXXXXXXX0&0&0&0&0&1&0&0|0|0&1&1&0|1&0&1&0|1&0&1&0\\nXXXXXXXXXXXXXXXXXXXXXXXXXXXXXXXXX0|1&0|0&0|1|1|1|1\\nXXXXXXXXXXXXXXXXXXXXXXXXXXXXXXX0|1&1&1&1&1|0&0&1|1\\nXXXXXXXXXXXXXXXXXXXXXXXXXXXXXXXXX1&0&0&1|0&1&1&1|1\\nXXXXXXXXXXXXXXXXXXXXXXXXXXXXXXXXXXXXXXXXXXXXXXX0&1\\nXXXXX0&1|0&0|1|0&1|0|0|1|1&0|0&0|1|0|0|0|1|1|0&1|1\\nXXXXXXXXXXXXXXXXXXXXXXX0&0&0|1&1&1&0&1&1|1&0|0|1|1\\nXXXXXXXXXXXXXXXXXXXXXXXXXXXXXXXXXXXXXXXXXXXXXXX0&0\\nXXXXXXXXXXXXXXXXXXXXXXXXXXXXXXXXXXXXX0&1|0|1&0&0&1\\nXXXXXXXXXXXXXXXXXXXXX1|1|1&0|1&0&0&0&1&1&1|1&0|1|0\\nXXXXXXXXXXXXXXXXXXXXXXXXXXXXXXXXXXXXXXXXXXXXXXX1|1\\nXXXXXXXXXXXXXXXXXXXXXXXXXXXXXXXXXXX0&1|0|0&0|0&0|0\\nXXXXXXXXXXXXXXXXXXXXXXXXXXXXXXXXXXXXXXXXXXX0|1|0&1\\nXXXXXXXXXXXXXXXXXXXXXXXXXXXXXXXXXXXXXXXXX0&1&0|0&1\\nXXXXXXXXX0|0&1|1|0&0&0|1|1&0|0|0&0&0|1|1|0&1|0&1|1\\nXXXXXXXXXXXXXXXXXXX0|0|0&1&1|1|1|0&0&1|1|0|1|1&0|0\\nXXXXXXXXXXXXXXXXXXXXXXXXXXXXXXXXX1&1|0&1&1|0|1|1&0\\nXXXXXXXXXXXXXXXXXXXXXXXXXXXXXXXXXXXXXXX1|0|1&1|0|1\\nXXXXXXX0|1&1&1|0|1&1&1&0|1&1&0&1&0|0&1|0|0&1&0|1&0\\nXXXXXXXXXXXXX0|0&1|0&1|1|0&0&0&1&0|1|1&0&1|0&0|1|1\\nXXXXXXXXXXXXXXXXXXXXXXXXXXXXXXX1&1|1|0|1&0|1|0|0&0\\nXXXXXXXXXXXXX1&0|0&1|0&1&0|1|1|0&0&0&0&0|1|0|1&0&0\\nXXXXXXXXXXXXXXXXXXXXX0|0&0&0&1&0&0&0&0&1|1&0|1&0|1\\nXXXXXXXXXXXXXXXXXXXXXXXXX0&0&1&1&1|0&0&1&0|0&0&1|1\\nXXXXXXXXXXXXXXXXXXXXXXXXXXXXXXXXXXXXXXXXX0|1&1&1|1\\nXXX1|0|1|1|0&1|1|1|1&0&1&1|1|1|0&0|1&1&1&1&0|0|1&0\\nXXXXXXXXXXXXXXXXXXXXXXXXXXXXXXXXXXXXXXXXX1&1|1&0|1\\nXXXXXXXXXXXXXXXXXXXXXXXXXXXXXXXXXXXXXXXXX0&1&0|1|0\\nXXX0|0|1&1&0|1&0|1|0|1|1|0|1|1&1&1|1|0&1|0|0|0|0&1\\nXXXXXXXXX1&0&0&0|1|0&0|0&0|1|0|1&0&1|0|1|0|0|0|1|0\\nXXXXXXXXX0|1&1|0&1&0&1&1&1&1&1&0|1&0&1|1&0&1|0|0&1\\nXXXXXXXXXXXXXXXXXXXXXXXXXXXXX1&0&1&0&1&1|1&1&1|1|1\\nXXXXXXXXXXX0&0|0|1|1&0|1|1|0&1|0|1&1|0&0|1&0&1&1|1\\nXXXXXXXXXXXXXXXXXXXXX1&0&1&0&0&0|1&1&0&0|1&0&0&0&0\\nXXXXXXXXXXXXXXXXXXXXXXXXXXXXXXXXX1&0&0|0|1|0|1&1|0\\nX0|1|0|0|1&1|1|0|1|0&1&1|1&1&0&1|0|1|0|1&1&1&0&0|1\\nXXXXXXXXXXX0|1|1&1&1&1&1|1|0&1&1&0|0&1|0|1&1&1&0|0\\nXXXXXXXXXXXXXXXXXXXXXXXXXXXXXXXXXXXXXXXXXXXXXXX0|0\\nXXXXXXXXXXX1&1&0|1|0|0&1|1&1|1&0&1|1|0|0|0&1|0|0|0\\nXXXXXXXXXXXXXXXXXXXXXXXXXXXXXXXXXXXXXXXXX0|1|0&1&0\\nXXXXX0|0|1&0|0|0&0|1&1|0|1|0|1&0|1|0|1&1&0|0|1|0|1\\nXXXXXXXXXXXXXXX0&1|1|0|0&1&0&1|1|1&1|0|0&1|1|0|0|0\\nXXXXXXXXXXXXXXXXXXXXXXXXXXXXXXXXXXXXXXXXXXXXXXXXX0\\nXXXXXXXXXXXXXXXXXXXXXXXXXXXXXXXXXXXXXXXXXXXXX1|0|1\\nXXXXXXXXXXXXXXXXXXXXXXXXXXXXXXXXXXXXXXXXXXXXXXX1|1\\nXXXXXXXXXXXXXXXXXXXXXXXXX1&1&1&1|1&0&0&0|1&1&1|0&0\\nXXXXXXXXXXXXXXXXXXXXXXXXXXX0&0&0&0|1&0|0|0&0&0|0|0\\nXXXXXXXXXXXXXXXXXXXXXXXXXXXXXXX1&0|0|0&1&1|1&1&0|0\\nXXXXXXXXXXXXXXXXXXXXXXXXXXX0&1&0&1|1&1|1&1|1|0|1|1\\nXXXXXXXXXXXXXXXXX1|0|0&0&1|0&0&0&1|1|1&1|0|1&0&1&0\\nXXXXXXXXXXXXXXXXXXXXXXXXXXXXXXXXXXXXXXXXX0|1&0&0|0\\nXXXXXXXXXXXXXXX1&1&1|0&0|0&0&1|0|1|1&0|0&1&1|1|1|0\\nXXXXXXXXXXXXXXXXX1|0&0&0&0&1&0|0|0&1|0&1|1&1&1&0&1\\nXXXXXXXXXXXXXXXXXXXXXXXXXXXXXXXXXXXXXXXXX1&0&0&0|1\\nXXXXXXXXXXXXXXXXXXX1&0&0|1&0&1&1|1&0|1|1|1|0|0&0&0\\nXXXXXXXXXXXXXXXXXXXXXXXXX1&0&0&1|0&0|0|1&1|1&1|1&1\\nXXXXXXXXXXXXXXXXXXXXX1|0|0|1&0|0|1|1|0|1&1&0|1|0|1\\nXXXXXXXXXXXXXXXXXXXXXXXXXXX1|0&1|1&0&1&1&0|0&1|1|1\\nXXXXXXXXXXXXXXXXXXXXXXXXX0&1|0|0|0|1|1&1&1&1&1&0&1\\nXXXXXXXXXXXXXXXXXXXXXXXXXXXXXXXXX0&0|0&1&1&1&1&0|0\\nXXXXXXXXXXXXXXXXXXXXXXXXXXX1&0&0|0|1&0&0&0|1&1&0&1\\nX0|1&1&1|1|0|1&1|1|1&0|0&0|0|1|1&1|0&0&1|1|0|0|1|1\\nXXXXXXXXXXXXXXXXXXXXXXXXXXXXX0|1&1|0|1&0&1|0|0|1&1\\nXXXXXXXXXXXXXXXXXXXXXXXXXXXXXXXXXXXXXXX1&0&0|1|0|1\\nXXXXXXXXX1&0|1&1|0&0|0|0&1|1|0|1&1|1|0&1&0|1|0|1|1\\nXXXXXXXXXXXXXXXXX0|0|0&1|1&0&0&1&1|0|1&0|0&1&0|1&0\\nXXXXXXX0|0&1&0&1&0|1|1&0|1|0&0|1&1|0|1&1|0&0|0|1&0\\nXXXXXXXXXXXXX1|1|0|0&1|1&1|1&0|0|0|0|1&1|1|1&1&0|1\\nXXXXXXXXXXXXXXXXXXXXXXXXX1&0&1&0|1|1&1&0|1&0|1|0|1\\nXXXXXXXXXXXXXXXXX1&0|1|1|1&0&1&0&1|0&1&1&0&0|1|0&0\\nXXXXXXXXXXXXXXXXXXXXXXXXXXXXX0&0|1|1&1&1|1&0|1|1|1\\nXXXXXXXXX1|0|0|0|1|0&1|0|0|0|0&0|0&0&1&1&0&1&0|1&1\\nX1&0|0|1|0|0&1|1&1&1|1&0&1|0|0&0|1&0&0|0&1|0&0|0|1\\nXXXXXXXXXXXXXXXXXXXXXXX1&0|0|1|0&0&0|0|0|1|0|1&0|1\\nXXXXXXXXXXXXXXXXXXX1&1&1|0|1|1&0&0|1&1|0&0|1&0|1|0\\nXXXXXXXXXXX0&1|0&0&1&0&0&1&0&0|0|1&1|1|1|0|1|1|1|1\\nXXXXXXXXXXXXXXX0|0&0&1|0&1&0|0|1&1|1&1|1|1&1|0&0&0\\nXXXXXXXXXXXXX0&1|1&0&0&1|0&0|1&1|0|1&0&1&1|0&0|0&0\\nXXXXXXXXX0|1&1|0&0|0|1|0&0&1|1|0|1|0&0&0&1&0|0|1&0\\nXXXXXXXXXXXXX1|0&0&0&1|1|1|0&0&1|0&1|0|1&0&0|0&1|1\\nXXXXXXXXXXXXXXX1&1|1|1|1&0&0|1&0|0&0&1&1|0|1|0&0&1\\nXXXXXXX1|0&1|0&1&0|1|1|1|1&1&0&0&1|1&1&0&0|1&1&1&0\\nXXXXXXXXXXX0&0&1|0&0|1|0|1&0|1|0|1|0&1&0|0&0&1&1&1\\nXXXXXXX1|1&0&1|0|0|1&0|1|1|1|0&0&0|0&1|1&0|0|0|1|1\\nXXXXXXXXXXXXXXXXXXXXXXXXXXXXXXX1|0|0&1&1&0&0&0&1&1\\nXXXXXXXXXXXXXXXXXXXXXXXXXXXXXXXXXXXXX0|1|0&0|1&0|1\\nXXXXXXXXXXXXXXXXXXXXXXXXXXXXXXXXXXXXXXX0|0&0|0&0|1\\nXXXXXXXXXXXXXXXXX1&0&1|1&1|0&1&1&1&1&0|1&1|1&0|0|0\\nXXXXXXXXXXXXXXXXXXXXXXXXXXXXXXXXXXXXXXXXXXXXXXX1|0\\nXXXXXXXXXXXXXXXXXXXXXXXXXXXXXXXXX0&1|1|1|0&1&1&1|1\\nXXXXXXXXXXXXXXXXXXXXXXXXXXXXXXXXXXXXXXXXXXX0|0|1&1\\nXXXXXXXXXXXXXXXXXXXXXXXXX0&1&0&0&1&1&1&0&1&1|1|0|1\\nXXXXX1|1|0&0|0&0|0|0&0|1&1|1&1|1&0|1|1|0|1&0&1&1&1\\nXXXXXXXXXXXXXXXXXXXXXXXXXXXXXXXXXXXXX0&1|1&1&1|1&1\\nXXXXXXXXXXXXXXXXXXXXXXX1|1&0&0&0|0&0|0|0&0&1&0|0|0\\nXXXXXXXXXXXXXXX1&1&0|1&0|0|0|1|0&1&1|0|1&0&0&1|0&0\\nXXXXXXXXXXXXXXXXXXXXXXXXXXXXXXXXXXXXXXXXXXX1|1&1&0\\nXXXXXXXXXXXXXXXXXXX1|1&0|1&0|1|1&0&1&1&1|0&1|1&0|1\\nXXXXXXXXXXXXXXX0&1|0|1&0|1|1|1|0&1&1&1&0&0&1|1|0&1\\nXXXXXXXXX0&1|0&1&0|0&0|0|0&0|1|1|1&1|0&1&0&1&1&0&1\\nXXXXXXXXXXXXXXXXXXXXXXXXXXXXXXXXXXX1&1|1&1&0&1|0&1\\nX0|1&0|0&0&1&1&0&0|1&1|1&0&1&0&0&0|0|0&1&0|0&0&1|1\\nXXXXXXXXXXXXXXXXXXXXXXXXXXXXXXXXXXXXXXXXX0|1|0&0&1\\nX1&1|0&0&0|0&1&0&1|0&1|1&0|1&0|0|1&0|1|1&1&1&0|0&1\\nXXXXXXXXXXXXXXXXXXXXXXXXXXXXXXXXXXXXXXXXXXXXXXX1&1\\nXXXXXXXXXXXXXXXXXXXXXXXXXXXXXXXXXXXXX1&0&1&1|1|0|0\\nXXXXXXXXXXXXXXXXX0&0|1&0|1&0|1|0&1&1&0&1&0&1&1|1&0\\nXXXXXXXXXXXXXXXXXXXXXXXXXXXXXXXXX0&1|1&0|1&1|1&0&0\\nXXXXX1|0|0&1&1|1|0&1&0|1|1&0|0|0&0|0|1&0|0&1|1&1|1\\nXXXXXXXXXXXXXXXXXXXXXXXXXXXXXXXXXXXXXXXXXXXXXXX0&0\\nX0&1&1|1|0|1&1&0|1|0|1&0|1|1&0&1&1&0|1|1|0&1|1|0&0\\nXXXXXXXXXXXXXXXXXXXXXXXXXXXXXXXXXXXXXXXXXXXXXXX1|1\\nXXXXXXXXXXXXXXXXXXX1|0|0&1&0|0|0|1|1|0&0|1&0|1|0&1\\nXXXXXXXXXXXXXXXXX1&1|0&0&1&1|0&1&1|0|0|1|1|0&1&1&0\\nXXXXXXXXXXXXXXXXXXXXXXXXXXXXXXXXX1&0|1|0&0|1&1&0|0\\nXXXXXXXXXXXXXXXXXXXXXXXXXXXXXXXXXXXXXXXXXXXXXXXXX1\\nXXXXXXXXXXX0&0|0|0|0|1&0&1&1&0|1|0&1|1|0|0&1|1&1|1\\nXXXXXXXXXXXXXXXXXXXXXXXXXXXXXXXXXXXXXXXXXXX1|0&1&0\\nXXX0&1|1&1|0&0|0|0|0|0&0|0|0|0|0&0&0&0&0|0|1&1&0&1\\nX1&1|1|1|1&0|1&1|0|0|1&1&1|0|1|0|1&1|0&1&0&0|0&1|0\\nXXXXXXXXXXXXXXXXXXX0|1|1&1|0|1&1|0|0&0&0&1|1&1&1&1\\nXXXXXXXXXXXXXXX0|1|0&0&0&1&1&0|1&1&0&1|0&1|1|1&1|0\\nXXXXXXXXXXXXXXX1&1&0&0&0|0&0|1|0|1|1&0&0&0|0|1|1|0\\nXXXXXXXXXXXXXXXXXXXXXXXXXXXXX1&0|0|1&0&0|1|0|1&0&1\\nXXXXXXXXXXXXXXXXXXXXXXXXXXXXXXXXXXXXXXXXXXXXX0|0|0\\nXXXXXXXXXXXXXXXXXXXXX1|1|0&0|0&0|0&1|0|0&1|1&0|1&1\\nXXXXXXXXXXXXXXXXXXXXXXX1&1|0&1|1|0|1|1&1&1&1|1&1&0\\nXXXXXXXXXXXXXXXXXXXXXXXXXXXXXXXXXXXXXXXXXXXXXXXXX0\\nX0&1&1|1&0&1|0&1&0|0&1&0&1&1&1|1&0|0&1|0&1&1|0|0&0\\nXXXXXXXXXXXXXXXXXXXXXXXXXXXXXXXXX0|1&0&1|1&1|0|1&1\\nXXXXXXXXXXX0&0|1&0|1&1&1|1&0|1|1&1&0&0|1|0&0|0|1&0\\nXXXXXXXXXXXXXXXXXXXXXXXXXXXXXXXXXXXXX1&0|1|1&1|0|0\\nXXXXXXXXXXXXXXXXXXXXXXXXXXXXX1|1|1&0&1&1|1|1|0&1&0\\nXXXXXXXXXXXXXXXXXXXXXXXXXXXXXXXXXXXXXXXXXXXXX0&0|1\\nXXXXXXXXXXXXXXXXXXX0&1|1&0|1&0|1&1&0|1|1&0|1|0&0|0\\nXXXXXXXXXXXXXXXXXXXXXXXXXXXXXXXXXXXXXXXXXXXXX0&0|1\\nXXXXXXXXXXXXXXXXXXXXXXXXX0|1|0|0|0&0&0&0|0|1|0&1&0\\nXXXXXXXXXXX1|1&1&0&1|0&1|1&1|1&1|0|0|1|0&1|0&1&1&1\\nXXXXXXXXXXXXXXXXX0&0|1&0|1|0&1&1&1&0|1&0&1|0|0|1&0\\nXXXXXXXXXXXXXXXXXXXXXXXXXXX1&0|0|1|0|0|0|0|0&0&0&0\\nXXXXXXXXXXXXXXX1&1&1&0|1|1&0&1&1|0|0&0|1&0|0&0|1|0\\nXXXXXXXXX1|0|1|0&1&1&0|1|1|0&1&0&1|0|1|0|1&0&0|0|1\\nXXXXXXXXXXXXXXXXXXXXXXXXXXXXXXXXXXXXXXXXXXXXX1|0&1\\nXXXXXXXXXXXXXXXXXXXXXXX0&1|0&0|0&0&1&1&0|1&1|0|0&1\\nXXXXXXXXXXXXXXX0|0&1&0|0&0|1&0&1|0&1|1|0|0|0&1|1&1\\nXXXXXXXXXXXXXXXXXXXXXXXXXXXXXXXXXXXXXXXXXXX1&1|1&1\\nXXXXXXXXXXXXXXXXXXXXXXXXXXXXXXX0&0&0&0|1|1|0|0&0&0\\nXXXXXXX1&0&1&1|0&1&0&0|1&0|0&0&0&0|0&0&0&0&0&1|0|0\\nXXXXXXXXXXXXXXXXXXXXXXXXXXXXXXX1&1|0|1&1|1|1&1|1&1\\nXXXXXXXXXXXXXXXXXXXXXXX0&0|0|0&1&1&0&0&0&1&0&0&0|0\\nXXXXX1|0&1|1|0&1|1&1&1|1|1&1&0&0|0&0&0&1&0|1|1|0&1\\nXXXXXXXXXXXXXXX0&0&1|0|0&1&1|0&0&0&1&0|0|1&0&0&1&0\\nXXXXXXXXXXXXXXXXX0|1&1|0|0&1&1&0&0&0|1&1|0|0|1&0|0\\nXXXXXXXXXXX1&1&1&0|1&1|1&0&1&1&0&0&0&0|0|0&0|1|1|1\\nXXX1|0|0&1|0&0&0|0|1|1&1&0|0|0&1|1&0|1&0|0&0|0|0|0\\nXXXXXXXXXXXXXXXXXXXXXXXXXXXXXXXXXXXXXXX1&0|0&1&0&0\\nX0&0&0&0&1&1&1&0|1|0&0|1|1|0|1&0&1&1|0|0&0|0&0|0&0\\nXXXXXXXXXXXXXXXXX1|0&1|1&1|0&0|1&0&1|0|0|1&1|0&0&0\\nX0&1&1|0&1&1|0&1|0&0|1|1|1|0&0&0&1|0|0&1|1&1|0|0&1\\nXXXXXXXXXXXXXXX1|1&1|0&0&0|0&1|1|1|0|1|1&0&1|1|0|1\\nXXX0&0|1&1|1&0&1&0|0&0&0&1&1&0&1&0|1&0|1&0|0&1&1&1\\nXXXXXXXXXXXXXXX0&0&0|1&1&0|1&0&0&0|0|1|1&0|1|1|1|1\\nXXXXXXXXXXXXXXXXXXXXXXXXXXXXXXXXXXXXXXXXX0&1|1|0&0\\nXXXXXXXXXXXXXXXXXXX0|1|1|0&1&1|1|1&0&0|0&1|1|1|1&1\\nXXXXXXXXXXXXXXXXXXXXXXXXXXX0&0&1&0&1|0&0|0&1&1&1&1\\nXXXXXXXXXXXXX1|1&1&0|0&0|0&0|1&0|1|0&1|0&1|0&1&0|0\\nXXXXXXXXXXXXX1|1|1|1&0|1|1&1|0|1|0|0&1|0|1&1&1|1|0\\nXXXXXXXXXXXXXXXXXXXXXXXXXXXXXXXXXXXXXXXXX0&0&0|0|1\\nXXXXXXXXXXX0&0|1|0&1|1|0|1|1&0&0&0|1&0&0&0|1|0|1|1\\nX1|1&0&1&0&1|1|1&1|1&1&0|1|1|0|1&0|0|1&0&0|1&0|0&1\\nXXXXXXX1&0|0&0|1|0|1&1|0|0&0&1&0|1|0&1|1|1|1&0|0|0\\nXXXXXXXXXXXXXXXXX0|1|0&0|0|1|1|0&1|0&0&0&1&1|1|0|0\\nXXXXXXXXXXX1&0|1|0|1&1|1&1&1&1&0&0|1|1|0&1|1|0|1|0\\nXXXXXXXXXXX1|0&1|0|1&1|1&1&1&0|0|1&1|1&1|1|0&0&0|0\\nXXXXX0|1&0|1&1|0&0&1&0&0&0|1&0|1|0|1|1&0&0&1|0|0&1\\nXXX0|1|0|1&0|1|0|1&1&1&1&1&1&0|0|0|1|0&0|1&0|0|0|0\\nXXXXXXXXXXXXXXXXXXXXXXXXXXXXXXXXXXXXXXXXXXXXXXX0&1\\nXXXXXXXXXXXXXXXXXXXXXXXXXXXXXXXXXXXXX0|1&1&0|0|0|0\\nXXXXXXXXXXXXXXXXXXXXXXXXXXX0&0&1|0|0|1&0|1|1&0|0&1\\nXXXXXXXXXXXXXXX0&1|0|1&1|1|0|1|0&0|0|1|1&0|1|0|1&1\\nXXXXXXXXXXXXXXXXXXXXXXXXXXXXXXXXXXXXXXXXXXX1&0&0|1\\nXXXXXXXXXXXXXXXXXXXXXXXXX0|0|1|0|1|0|0|1|1|1|1|1&1\\nXXXXXXXXXXXXXXXXXXXXX1&1&1&1|1|1|0|0&1|1|0|1|1&1&1\\nXXXXXXXXXXXXXXXXXXXXXXXXX0&1&0|1&0&1|1|1&1&0|0|1&1\\nXXXXXXXXXXXXXXXXXXXXX0&0&0|1|0&1&1&1&0&1&1&1|1&1&0\\nXXXXXXXXXXXXXXXXXXXXXXXXXXXXXXXXXXX0&1|0&1|0&1&1&0\\nXXXXXXXXXXXXXXXXXXXXXXXXXXXXXXXXXXXXX1&1|0|0&1&0&0\\nXXXXXXXXXXXXXXXXX0&0|0|1&1&1|0&0|1|1&0|1&0|1|0&0|0\\nX0&1|0|1|0|1|0&0&1|1&0&0&1&1|1&0|1|0&0&0&0&0&1|0|0\\nXXXXXXXXXXXXXXXXXXXXXXXXXXXXX0|0&0&1|1&1&1&0|0|0&0\\nXXXXXXXXXXXXX0&0|1&1|0|0&1|1|1|0|0|1|1&1&1&1|1&1|0\\nXXXXXXXXXXXXXXXXXXXXXXXXXXX0|1|0&0&0&0|0&1|0|1|1|1\\nXXXXXXXXXXXXXXXXXXXXXXXXXXX1&1|0|1&0&0&0&0|1|0|1|1\\nXXXXXXXXXXX1|1&0&0|0|0&0&1&0&1|0|0|0&1|1&0|1&0&0|0\\nXXXXXXXXXXXXXXXXXXXXXXXXXXXXXXXXXXXXXXXXXXX0|1&0|1\\nXXXXX0|0&1|0&0&1|0&1|0&0|1|1&1&0&1|1|1&1&0|0&1&0&0\\nXXXXXXXXXXXXXXXXX1|1|0|0|0|1&1&0&1&0&0|1|1|0|0|0&0\\nXXXXXXXXXXX1&0|1&1&1&1|1&0|1|0|0&1|0&1&1|0&0|1|0&0\\nXXXXXXX0&1|1|0&1&1&0|1|0|0|0|0|0&0&0&0&1|1|1|1|1|0\\nXXXXXXXXXXXXXXXXXXXXXXXXX1&0|0|0|0|1|0&0&1&1&0&1&0\\nXXXXXXXXXXXXXXXXXXX0|0&1|1&1&0&1|0|0|1&1|1|0|1&1|1\\nXXXXXXXXXXXXXXX1&0|0&0|0|1|0&0|1|0&0&1|1|0&0&1&0&1\\nXXXXXXXXXXXXXXXXXXXXXXXXXXXXXXXXXXX0&1|0&0|1|1|1|1\\nXXX1|0&0|0&0&1|0&0|1&1&1&1|1|1|0&1&0&0&1&1&1&1|1&1\\nXXXXXXXXXXXXXXXXXXXXXXXXXXXXXXXXXXX1&1&1|1&1|1|1|1\\nXXXXXXXXXXXXXXXXXXXXXXXXXXXXXXXXXXXXXXXXXXXXX1|0&0\\nXXXXXXXXXXXXXXXXXXXXXXXXXXXXXXXXXXXXXXX0|0|1|0&1&0\\nXXXXXXXXXXXXXXXXXXXXXXXXXXXXX1|0|0&1|1&0|0|0|1&0|1\\nXXXXX0&0|1|1|1|0&0|0|0|0&0&0&1|0&0|0|0&0|0|0|1|0&1\\nXXXXXXXXXXXXXXXXXXXXX1&0&0|1|0|0|0|0|0|1&0&0|1&0&1\\nXXXXX0|0|1&1|1&0&0&0&0&0|0&1|1|0|0&0|1|1|1|1&0&0&0\\nX0|0|1|0|1&0|1|0|1|0|1|1&0&1&1&0&0&1&0&1&0|0|1&1|0\\nXXXXXXXXXXXXXXX1&0|0|0|0&0|0|1&0&0&0&0&0&1&0&1|0|0\\nXXXXXXXXXXXXXXXXXXXXXXXXXXXXXXXXXXXXX1|0|0|1&0|0&1\\nXXXXXXXXXXX0|0|1&0|0&0&1|0|1|0|0|1&0&1&0|0|1&0|0|1\\nXXXXXXXXXXXXXXXXXXXXXXXXXXXXXXXXXXXXX1&1&0|0&0|0|0\\nXXXXXXXXXXXXXXXXXXXXXXXXXXXXXXXXXXXXXXXXXXXXXXX1|1\\nXXXXXXXXXXXXXXXXXXXXX0&1|1&1&0&0&0|1|1|1|0&0|1&1|0\\nXXXXXXXXXXXXXXXXXXXXXXXXXXXXXXXXXXX0|0|0|0&1|0|1|1\\nXXXXXXXXXXXXXXXXXXXXX0|1&0&0&1|0|1|0&0|0&0&0|0|1&1\\nX0|1|1|1&1&1&1&1|1&0|1|0&1&1&1&0&1&0&1&1&0&1&1|0&0\\nXXXXXXXXXXXXXXXXXXXXXXXXXXXXXXXXXXXXXXXXXXX1|1&1&1\\nXXXXXXXXXXXXXXXXXXXXXXXXXXXXX1&0|0|0|1|0|0|0|0|1|0\\nXXXXXXXXXXXXXXXXXXXXXXXXXXXXXXXXXXXXXXXXXXXXXXX0|0\\nXXXXXXXXXXXXXXXXXXXXXXXXXXXXXXXXXXXXXXXXX0&1|1&1&0\\nXXXXXXXXXXXXXXXXXXXXXXXXXXXXXXXXXXXXXXXXXXXXXXX0|0\\nXXX1&0|1&0&0|1&0|1|0&0&0&1&1|0&0&0|1|1|0&1|1|1&1&0\\nXXXXXXXXXXXXXXXXXXXXXXXXXXXXXXXXXXXXXXXXXXXXX1&0|0\\nXXXXXXXXXXXXXXXXXXXXXXXXXXXXXXXXXXXXXXXXXXX1&0|1&0\\nXXXXXXXXXXXXXXXXXXXXXXXXXXX0&0&1&0&1&1&0&1&1&1&0|0\\nXXXXXXXXXXXXXXXXXXX0|0&0&1&1|1&1|1&0&1|1&0&0&1&0|0\\nXXXXXXXXXXXXXXXXX1&1|1&1&1|0&0|1|1&1|1&1|1|1|0&0&1\\nXXXXXXXXXXXXXXXXXXXXXXXXXXXXXXX0&1|1|1|0&1&0|1|1|0\\nXXXXXXXXXXXXXXXXXXXXXXXXXXXXXXXXXXXXXXXXXXXXXXXXX1\\nXXXXXXXXXXXXXXXXXXXXXXXXXXXXXXXXXXXXXXXXX0&0&0&0&0\\nXXXXXXXXXXXXXXXXXXXXXXXXXXXXXXXXXXXXXXXXXXXXX1&1|1\\nXXXXXXXXXXXXXXXXXXXXXXXXXXXXXXXXXXXXXXXXXXXXX1&1|1\\nXXXXXXXXXXX1|0&0|1&0&0|1&1&1&1&1|0|1|0&0&0|0|1|1&1\\nXXXXXXXXXXXXXXXXXXXXX0&1&0|0&0|0&0|0|0&0&1&0&0&1&1\\nXXXXXXXXXXX0&1&0&0&1|0|1&0&0&0&1|0|0|0&1|0|1&1|0&0\\nXXXXXXXXXXXXXXXXXXXXXXXXXXXXXXXXXXXXX1|1|1|0|1&0&0\\nXXXXXXXXXXXXXXXXXXXXXXXXXXX1&1|1&0|1&0|0&0&0&1&0|0\\nXXXXXXXXXXXXXXXXXXXXXXXXXXXXXXXXXXXXXXX0&0|0&0|0|0\\nX0|1&0&1&1&1|1|1|1&1&1|0|0&1&1|1|1|1&0|0|0&0&1&0&1\\nXXX0&1&0|0|1|1&1&1|1&0|1&0&0|0&1|1|1|1&0&0|0&0|0&0\\nXXXXXXXXXXXXXXXXXXXXXXXXX1|1&1|0|0|0&0|0|1|0&0|0&1\\nXXX1&0&1|1|1&1&1&1|0&1|0|0|1&1&1&1&0&1|1&0&1|1|0&1\\nX0|0&0|0&0|1|1&0&1|0|0&0&1&0&1|0&0&1|1&1&0|1&0|1|0\\nXXXXXXXXXXXXXXXXXXXXXXXXXXXXXXXXXXXXXXXXX1&0|1|1&0\\nXXXXXXXXXXXXXXXXXXXXX0|1|1|0&0&1&1|0&0|0&0|1&1|1|1\\nXXXXXXXXXXXXXXX0|1|0|0|0&0&1&1|1&0|0&0|1&1&1&1&1|0\\nXXXXXXXXXXXXXXXXXXXXXXXXXXXXXXX1|1|1|1&0|1&1|1&1|0\\nXXXXXXXXXXXXXXXXXXXXXXXXXXXXXXXXXXXXXXXXXXX1&0&1&0\\nXXXXXXXXXXXXXXX1|1|1&1&0&1&0|1&1&0&1|0|0|1&1&1&0|0\\nXXX1|0|1&1|0|0|1|1&1&1&0&1|1&0&1&0&0&0|1|0&0|0|0|1\\nXXXXXXXXXXXXXXXXX0&1|0&0&1|1|0|0&1|0|0&1|1|0|1|1&1\\nXXXXXXXXXXXXXXXXXXXXXXXXXXXXXXXXX0|0&0&0|1&1|1&1&0\\nXXXXXXXXXXXXXXXXXXXXXXXXXXXXXXXXX1&0&0&0&1&1&1|0&0\\nXXXXXXXXXXXXXXXXXXXXXXXXXXXXX0&1|1|0&0&1&1|1|0|1|1\\nXXXXXXXXXXXXXXXXXXXXX1&1|1|0|0&1|1|1&0|1|1|1&1&1|1\\nXXXXXXXXXXXXXXXXXXXXXXXXXXXXXXXXX1|0|1&1&1&1&1&0|0\\nXXXXXXXXXXXXXXXXXXXXXXXXXXXXXXXXX0|1|0&1&0&1&0&0|1\\nXXXXXXXXXXXXXXXXXXXXXXXXXXXXXXXXXXXXXXXXX1|0|1&0|0\\nXXXXXXXXXXXXXXXXXXXXXXXXXXXXXXXXXXXXX0|0|1&1|0|1&1\\nXXXXXXXXXXXXXXXXXXXXXXXXXXXXXXXXXXXXXXXXXXXXXXXXX1\\nXXX0&0|1|0|0|0|0&1&0|1&0|1|0|1&1&0&0&0&1&0&1|0&1&1\\nXXXXXXXXXXX0&0&0|1|1|0|0|0&1&1&1|1|0&0|0|0&0|1|1&0\\nXXXXXXXXXXXXX0&0|0|1&1&1&1&0|1|1&1&1&0|1|0|0|0&0&1\\nXXXXXXXXXXXXXXXXX1|0&0|0|0&1|1&0|1&1&0&1|0&1&1&0&0\\nXXXXXXXXXXXXXXXXXXXXXXXXX1&1&1&0&1&1&1&0&0&1|0|0&0\\nXXXXXXXXXXXXXXXXX1&0|1|0|1|0|1&0&1|1&1&0&0&1|1|1|0\\nXXXXXXXXXXXXXXXXXXXXXXXXXXXXXXX0|0&0&0|1|1|1&0&1&0\\nX0&1|0&1|0|1|0|1|0&0|0&0&0&1|0|1|1&0&1|0|1|1|1|0|0\\nX1&1&1|1&1|0&0&1&1|1&1|1|0|0|1|0|0|0&0&1|1|1|1&1&0\\nXXXXXXXXXXXXXXXXXXXXX1|0|1&0|1|0|0|1&1&0&1&0|0|0|0\\nXXXXXXXXXXXXXXXXXXXXXXX0|1&1&1&1|0&1|0&0|1|0|1|1|0\\nXXXXXXXXXXX0&1|1|1|0&1|1|1&0|1|1&0|0&1|1&1|0|1|1&1\\nXXXXXXXXXXXXXXXXXXXXXXXXXXXXXXXXXXXXXXXXXXX1|1&0|1\\nXXXXXXXXX1|1|1&0|1|1|1&1&0|1&1|0&1|0|0|1&1|0|0|0|1\\nXXXXXXXXXXXXXXXXX0|0|0&0&1&1&0&0|0&0|1|0|0|0&1|0|1\\nX0&1&1|0&1&1&1&0&0|1|1|0|0|1&0|1|0&0&1|0|1&1&1&0|1\\nXXXXXXXXX0|1|0&0|0&0&1|1|0&0&0|0|0&1&1&1&0|1|0&1&1\\nXXXXXXXXXXXXXXXXXXXXXXXXXXXXXXXXXXX0|0&0&1&0&0|1|0\\nXXX1|1&0&0|1|0|1|1|0|0&0&0|0&0&1&1|0&1&1|1|0|1&0|0\\nXXXXXXXXXXXXXXXXXXXXXXXXX0&0|1&1&1&1&1&1&0&1&0&0|0\\nXXXXXXXXXXX1|0|0|0|1|0&1&0&1&1&0&1|1|0|1|0&0&0|1|1\\nXXXXXXXXXXXXXXXXXXXXXXXXXXXXXXXXXXXXXXXXX1|0&1|0&1\\nXXXXXXXXXXXXXXXXXXX0&1|0&0&0&0&1|0&1&1|1&0&1|0|1|1\\nXXXXXXXXXXXXXXXXXXXXXXXXXXXXXXXXXXXXXXXXXXX0|1|1&1\\nXXXXXXXXXXXXXXXXXXXXXXXXXXXXXXXXXXXXXXXXXXXXX0|1|1\\nXXXXXXXXXXXXXXXXXXXXXXXXXXXXXXXXXXXXXXXXXXXXX0&1&0\\nXXXXXXX0|1&0&1&1|1&0&0|0|0&1|1&1&0&1|0&0|1&1&1|1&1\\nXXXXXXXXXXXXXXXXXXXXXXXXXXXXXXXXXXXXXXX0&0|1&1|0|1\\nXXXXXXXXXXXXXXXXX1&0&0&1&0&1&1|0|0|1|1|0&1|1&1|0&0\\nXXX0&1|1&1|1|0|1|1&1|0|1&1&0&0|1&0|1|0|0|0&0&0|0|0\\nX0&1|0|1&0&0|0&0|0&0&0|1|0&0|0|1|0&1|0|0|1|0|1&1&0\\nXXXXXXXXXXXXXXXXXXXXXXXXXXXXXXX0&1&0&0|0|0&1&1&0&0\\nXXXXXXXXXXXXXXXXXXXXXXXXXXXXX0|1&1|0|1|0|0|0|1&0&0\\nXXXXXXXXXXXXXXXXXXXXXXXXXXXXXXXXXXXXXXXXXXXXXXX1&1\\nXXXXXXXXXXXXXXXXXXXXXXXXXXXXXXXXXXXXXXXXXXX1|0&0&1\\nXXXXXXXXXXXXXXXXXXXXXXXXXXXXXXXXXXXXXXXXXXX0|0&1|1\\nXXXXXXXXXXXXX0|1|1|1&0&1&0&1|1|0|1|1&0&0|0&0&1&0|0\\nXXXXXXXXXXXXXXXXXXXXXXXXXXXXXXXXXXXXXXXXXXXXXXX0&0\\nXXXXXXXXXXXXXXXXXXXXX0&1|1&0&0|0&1&1|0&0&0&0&0|1&1\\nXXXXXXXXXXXXXXXXXXXXXXXXXXXXXXXXXXXXXXXXXXXXX0|0&0\\nXXXXXXXXXXXXXXXXXXXXXXXXX1&0&1&1|1&1&1|0&0&0|0|1&0\\nXXXXXXXXXXXXXXXXXXXXX1&0&0&0|1|0&0|1|0|1&0|1&0&0|1\\nXXXXXXXXXXXXXXXXXXXXXXXXXXXXXXXXXXXXXXX0&1&1&0|0|1\\nXXXXXXXXXXXXXXX0&1&1&1&0&1|1|1&1|1&0|1|1|1|0&1|1|1\\nXXXXXXXXXXXXXXXXXXXXX0&1|1|0|1|0|1|1&0|1&0&1&1|1|0\\nXXXXXXXXX0|1&0|1&0|0|1|0|0|0|0&0|1&0&0|0|1&1&0&0|1\\nXXXXXXXXXXXXXXXXXXXXXXXXX1&1&0|1|0|1&1&0&0&0&0|1&1\\nXXXXXXXXXXXXXXXXXXXXXXXXXXXXXXXXXXXXXXXXXXXXXXX0|0\\nXXXXXXXXXXXXXXXXXXX0|1|0|1&0&0|0|1|0&1|0|1&1|1&0&1\\nXXXXXXXXXXXXXXXXXXXXX1|1&1|1|0|1|1|0|0|1|0|1&0&1|1\\nXXXXXXXXXXXXXXX1|1|1&1&0&1|1&1&0&1&1&0&1&0&0&1|0|0\\nXXXXXXXXXXXXXXXXXXXXXXXXX0&1|1&0|1|0&0&1|1|0|0|0|0\\nXXXXXXXXXXXXXXXXXXXXXXXXXXXXXXXXX1&0|0&1|1&0&1&1&1\\nXXXXXXXXXXXXXXXXXXXXXXXXXXXXXXXXXXXXXXXXXXXXXXX0|1\\nXXXXXXXXXXXXXXXXXXXXXXXXXXXXXXXXXXXXXXXXXXX1&1|0|0\\nXXXXXXXXXXXXXXXXXXXXXXXXXXXXXXXXXXX0|0&0|1&0&0&1&0\\nXXXXXXXXXXXXXXXXXXX1|0&0&0|0&0|1&1&0|0&1|1|0&1&1&0\\nX1|1|1&1|1|1&0&1&1|1&0&0&1&1|0|1&0|0|1|1|1|1&1|0|0\\nXXXXXXXXXXXXXXXXXXXXXXXXXXXXXXXXXXXXXXXXXXXXXXX0&0\\nXXXXXXXXXXXXXXXXXXXXXXXXXXXXXXXXXXX0|1|1&1|0&0|1|1\\nXXXXXXXXXXX0|0|1&0&1|1|0|0|1|0|0|0|1|0|1&0|1&1|1&1\\nXXXXX1|1&1|1&0|0&1|1|0&1|1|1|0&0|0|1&0&1&0&1|1&0|1\\nXXXXXXXXXXXXX1|1&1&1|0&0|1|1&1&0|0&0&1|0&0|1&0&0&0\\nXXXXXXXXXXXXXXXXXXXXXXXXXXXXXXXXXXXXXXXXXXXXXXXXX1\\nXXXXXXXXXXXXX1|1|0&1|0&0|0&0&0|0|0|0&1|1&0|1|0|1|0\\nXXXXXXX1|1|1&0|1&1&0|1|0&1&0&0&0&1&0&1|0&1&0&0|0|0\\nXXXXXXXXXXXXX0&1|0|1&0&1&1|0&0&0&1|0&0|1|0&0&0&0|1\\nXXXXX0&1|1&0|1|1&1|1|1&1&0|1|1|1&0|0&0&1&1&0&0&1&0\\nX1|1&1|0|0|1&0&1|0|1&1|1&0&0&1&0|0&0|0|0|0&0|0&1&0\\nXXXXXXXXXXXXXXXXXXXXXXX0&0&1|1|0&1&1&0&0|0|0&0|0|0\\nXXXXXXXXXXXXXXX1&0&1&1&1&0&0&0|0&0|1|0|0&0&1&0|0&0\\nXXXXXXXXXXXXXXXXXXXXXXX0|0|1|1&0|1|1|0&1&1&0|1|0|0\\nXXXXXXXXXXXXXXXXXXXXXXXXXXXXXXXXXXXXXXXXXXX0|0|1&0\\nXXXXXXXXXXXXXXXXX0|1|0|0|0&1&0&0&0|1&1&0|1&1&1|0|0\\nX0|0|0&0|1|1|0&0|1|1|0|0|0|1&0&0|0|1&1|1|1&0&1&1|1\\nXXXXXXXXXXXXXXXXXXXXXXXXX0|1&0&1&1&1&0&1|0|0&1&1&1\\nXXXXXXX0&0|0&0&0&0&0&1|1&0|0&0&0&1&1&1&0|0&0|0&1&0\\nXXXXXXXXXXXXXXXXXXXXXXXXXXXXXXXXXXXXXXXXXXXXXXXXX0\\nXXXXX1|0|1|0|1&1&1&1&1|0&0&0|0&1|1&0&1&0|0&1|0&0|0\\nXXXXXXXXXXXXXXXXXXXXXXXXXXXXXXXXXXXXXXXXXXXXX0|0&1\\nXXXXXXXXXXXXXXXXXXXXXXXXXXXXXXX1&0|0|1&1|0|0|0&0&1\\nXXXXX1|0&0&0&1&0&0|1|0&1|0&0|1|1|0&0&0&0&0&0|1&0&1\\nXXXXXXXXXXXXXXXXXXX1|0&0|1|1&1&0&1&0&1&1|1&0|1&1&0\\nXXXXXXXXXXXXXXXXXXXXXXXXXXX0&1|0&1&1|1|1|0&0|1|1&1\\nXXXXXXXXXXXXXXXXXXXXXXXXXXXXXXX0&1|1|1&1|0&0&1&1|1\\nXXXXXXXXXXXXXXXXXXXXXXX1|1|1|0&0&1|1&0|1|1&1|0&1|0\\nXXXXXXXXXXXXXXXXXXXXX1|1&0|1|0|1&1|1|1|0&1|1&0|0|1\\nXXXXXXXXXXXXXXXXXXXXX0|1|1|0&1&0|0&1|1|0|1&1&0|1|1\\nXXXXXXXXXXXXXXXXXXXXXXX1|0|0&1|1&1|1|0&1&0|0|1&1&0\\nXXXXXXXXXXXXXXXXXXXXXXXXXXXXXXXXXXXXXXX0|1&1|0&0|1\\nXXXXXXXXXXXXXXXXXXXXXXXXXXXXXXXXX1|0&0|1&0|0&1&0|0\\nXXXXXXXXXXXXXXXXXXX1|1&1&1|0&0&1&0&0|0&1&0&0|1&1&1\\nXXXXXXXXXXXXXXXXXXXXXXXXXXXXXXXXXXXXXXXXX0|0|1&0|0\\nXXXXXXXXXXXXX1&0&0|0&0&1|0|1|1|1&0&0&1&1|1&0&1&1|1\\nXXXXXXXXXXXXXXXXXXXXXXXXXXXXXXXXXXXXXXXXXXXXXXX0|1\\nXXXXXXXXXXXXXXXXXXXXXXXXX0|0&0|1|0&0&1&0|0|0&1&0&1\\nXXXXXXXXXXXXX1&1&1&1&0|0|1|0|1&0|1|1|0&0|1|1|0&1&0\\nXXXXXXXXXXXXX1&0|0&1|0|0|0&1&1|0|1&1&1&0|1&0&1&0&0\\nXXXXXXXXXXXXXXXXXXXXXXXXXXXXX1&0|0|1|0|0&0|1|0&1&0\\nX0&0|1&1&1|1|1|1|1&0&0|1&0|1|0&1|1&0&1|1&0&1&0|0|0\\nXXXXXXXXXXXXXXXXXXXXXXXXXXX0|1&1&0&1|1|1&0&1&0|0|0\\nXXXXXXXXXXXXXXXXXXXXXXXXXXXXXXXXXXX0|1&0|0&1|1|0&0\\nXXXXXXXXX1&0|1&0|1|0&0|1|1|1&0|0|1|0|0&0|0|0&1&1|0\\nXXXXXXXXXXXXXXX0&0&0|0|0&0|0|1|1|1&0|0&0|0|1&1&0&0\\nXXXXXXXXXXXXXXXXXXXXXXXXXXX1|0|1|1|0|1|0&0&1&0&1|1\\nXXXXXXXXXXXXXXXXXXXXX1|1|0|0&1|1&0&1&0&1|0|1&0|1&1\\nXXXXXXXXXXXXXXXXX1&0&1&0&0|1|1&1|1&1|1|0&0|0&1&0|1\\nXXXXXXXXXXXXXXX1&1&1|1&1|0|1|1&1|0&0|0|0&1|0&1|0&1\\nXXXXXXXXXXXXXXXXXXXXXXXXX0&0&1|0&1&0&1&0|1|0|0&1&1\\nXXXXXXXXXXX1|0|1|1&0|0|1|1&1|1&0&0&0|1&0|0|1|1|0|0\\nXXXXXXXXXXXXXXXXXXXXXXXXXXXXXXXXXXXXXXXXXXX0|0&1|1\\nXXXXXXXXXXXXXXXXXXXXXXXXXXX1&1&0|0&0&1&1|0&1&1|1&1\\nXXXXX0|1|0|1&1&1|0|1&0&0&1&0|0|0|0|1&0|0|1|1&1&0&0\\nXXXXXXX1|0&0|1|1&0|1&0|1|0|0&1|0&1&1&1&0&1|1|0&0|1\\nXXXXXXX0|1&0|0|1&1&1&1|0&1&1&1&0|0|1|1&1|0&1|1|1|1\\nXXXXX1|1&1|1&0&0&1|1&0|1&0|0&0&0&0&0&0&1|0&1|0&0&1\\nXXXXXXXXXXXXXXXXXXXXXXXXXXXXXXXXXXXXXXXXX0|0&1|1&0\\nXXXXXXXXXXXXXXX1|0|1&0&0|1&1|1&1&1|1|0&0|0|1&1&0|0\\nXXXXXXXXXXXXXXXXXXXXXXXXXXXXXXXXXXX1&1&0|1|1&1|1|1\\nXXXXXXXXXXXXXXXXXXXXXXXXXXXXX1&1&1|1&1|1&1&1|0|0&1\\nXXXXXXXXXXX1|0&0|1|1&1&1&1&0|1&1&0|1|0&1&1&0|0|1&1\\nXXXXXXXXXXXXXXXXXXXXXXX1&1|1&1|1|0|0|0|1&0&0&0&1&0\\nXXXXXXXXXXXXXXXXXXXXX0&0&0&0&1|1&0|0&1&0|1|1&1|1&0\\nXXXXX1|1&0&0|1|1&1|0|0|1|1|0|0|0|1|1|1&0|1&1&0|0|0\\nXXXXXXXXXXXXXXXXXXXXXXXXXXXXXXXXXXXXXXX1&1&1&1|1&1\\nXXXXXXXXXXXXX1|0&1&1|0|0&0|1|0&1|0&1|1|0|1|1&0|0|0\\nXXXXXXXXXXXXXXXXXXXXX1|1&0&0|1|1&0&1|1|1&1&1|1|1&1\\nXXXXXXXXXXXXXXXXXXXXX1&0|0&1&1&0&0|0&0&0|0&0|0&1&1\\nXXXXXXXXXXXXXXXXXXX1&0|1&0&1&0&1&1&0|1|0|0|0|0|0|0\\nXXXXXXXXXXXXXXXXXXXXXXXXXXXXXXXXXXXXXXX0|1&0&0|1&1\\nXXXXX1&1|1|1&1&1&1|1|1&0|1&0&1|1&1&1|1&0|1&0&1&1&0\\nXXXXXXXXXXXXXXXXXXXXXXXXXXX1&0|1&1&0&0|1&0|0|1&1|0\\nX0|1&0|1&0&0&0|0&0|1&0&1&0|1&0&1|1|0|0&1&1|0|1|1&0\\nXXXXXXXXXXXXXXXXXXXXXXXXXXX0|1&1&0|1&0&1|1&0&0&1&1\\nXXXXXXXXXXXXXXXXXXXXXXXXXXXXX0|1&0&0|1|1&0|1|1|1|0\\nXXXXXXXXXXXXXXXXXXXXXXXXXXXXXXXXXXXXXXX1&0|1|1&1|0\\nXXX1|0|1&1&1&0&1|0|0&0|1|0&0|0&1|0|0&1|1&0&1|0&1|0\\nXXXXXXXXXXXXX1|0&0&1&1&1|0|0&0|1&1&0|1&1&1&1|1|1|1\\nXXXXXXXXXXXXXXXXXXXXXXXXXXXXXXXXXXX0&1&1&0|1|1|1&0\\nXXXXXXXXXXX1&0|1&1&1&0|0|1|0|1&1|1|0|0&0|1|1|1&0|1\\nXXXXXXXXXXX1|0&0|1&0|0|1|1&0&0|0|1&0&1&0&0&0|0|0|0\\nXXXXXXXXX0&0|1|0&1|1&0&0|1&0&1|0&1|0|0&0|1|0&1|1|0\\nXXXXXXXXXXXXXXXXXXXXXXXXXXXXXXXXXXXXX0&1&0|1&0&1|1\\nXXX0|1|0|0|1|1&1|0|0|1&0&0&1|1|1|1&0&0&0&0&1&0&1|1\\nX1|0|0&0|1|0&0|1|1&0&0&1&0|0&1|0&1|0&0|1|0&1&0&1&0\\nXXXXXXXXX0&0&0&0&0|0&0&1&0|0|0&1&1&0|0|0|1|1|1|1&1\\nXXXXXXXXXXXXXXXXXXXXXXXXXXXXXXXXXXXXXXXXXXX1&1|1&0\\nXXXXXXXXXXXXXXXXXXXXXXXXXXXXXXXXXXXXX0&1&1|1&1|1|1\\nXXXXXXXXXXX0|1|0|0|0&0&1&1&1|1|0|1|1|1&0&0|0|1&1|0\\nXXXXXXXXXXXXXXXXXXX0|0&1|1|1|1|1&0|0&0|0|0|0&1&0|1\\nXXXXXXXXXXXXXXXXXXXXXXX0&0|0|0&0|0|0&1|0&1|0|1|0&0\\nXXXXXXXXXXXXXXXXXXXXXXXXX1|1&0&1|1|0&0|1&1|0&0|1&0\\nXXXXXXXXXXXXXXXXXXXXXXXXXXXXX0|1&1&1&0&0|1|0|0&0&1\\nXXXXXXXXXXXXXXXXX0|1&1|1|0&1&0|1&0&0&0&1|0&0&1|1&1\\nXXXXXXXXXXXXXXXXXXXXXXXXXXXXXXXXXXXXXXXXXXXXX1&1|1\\nXXXXXXXXXXXXX1|0|1&0|1&0|1&1|0&1&0|0|1&0&1&1&1&0&1\\nX1&1|0|0&1|1&1&1|1|1|0|0|0|0&0&1&0|1|1|0&0|0&0|0|0\\nXXXXXXX1&1&1|0|1|1&0&1&0&0&1&1|1|0|0&1&0&1&1|1&0|0\\nXXXXXXXXXXXXXXXXX0|1&0&1|1|0&1|0|0&0&0|0|1&1&1&0&0\\nXXXXXXXXXXXXXXXXXXXXXXXXXXXXXXXXXXXXX1|1|0&1&1|1|0\\nXXXXXXXXXXXXXXXXXXX0&1&1&0|1&1|0|1&1|1&0|0|0|0|1|1\\nXXXXXXXXXXXXXXXXXXXXX1|0|1|0|1&0|0|0|1&1|0&0&0|1&0\\nXXX0|1|0|0|1&1|1|1&1|1&0|0&1|0&1&0|0|0|0&1&0&1|1|0\\nXXXXXXXXXXXXXXXXXXXXXXXXXXXXXXXXXXXXXXXXXXXXXXX0|1\\nXXXXXXXXXXXXX0|0&1&0&1&1|0&1&1&1|0|0|1|1|1&0|1&0&0\\nXXXXXXXXXXXXX1&0|1&0&1&1|1&0&1&0&0|1|0|1|0&1&0|1|0\\nXXX0|0|0&1|1&1|0|1|1|0&1|1&0|1|0&0&1|0&0&0&0|1|0|0\\nXXXXXXXXXXXXXXXXXXXXX0&1&1&1&1|1&0&0|0&0|1&1&0&1|1\\nXXXXXXXXXXXXXXXXXXXXXXXXXXXXXXXXXXXXXXXXXXX0&0&0|1\\nXXXXXXXXXXXXXXXXXXXXXXXXXXXXXXXXX0|1&1|1|1&1&0&0&1\\nXXXXXXXXXXXXXXXXXXX1&0|0|0|0|0&1|1&1|0&1&1|0&1&0&1\\nXXXXXXXXXXXXXXXXXXXXXXXXXXXXX1&1&1&0&1&0&0&0&1&1|1\\nXXXXXXXXXXXXXXXXXXXXX0|1|0|1&1&0&1|0&0|1&1&0&0&0|0\\nX0&1&0&0|0|0|1&1|1|1&1&0&0&0&0|1|0&0&0|1|0|0|0|1|1\\nXXXXXXXXXXXXXXXXXXXXXXXXXXXXXXXXX0&0|1&0|1|1|0&1|0\\nXXXXXXXXXXXXXXXXXXXXXXXXXXXXXXXXXXXXXXXXXXXXXXX1|1\\nXXXXXXXXXXXXXXX1|0|0|1&1|0|1|0|1|0&1&1|0|1|0&0&1&0\\nXXXXXXXXXXXXXXXXXXXXXXXXXXXXXXXXXXXXXXXXXXXXXXX0|1\\nXXX1|0&1|0&1&1|0|0|0&0&1&1&0|1&0|0|0&1|0&1&0|1|1|1\\nXXXXXXXXXXXXXXXXX0&0|0|0&0&1&1&0|0&1&0&0|1&1&1|0&0\\nXXXXXXXXXXXXXXXXXXXXXXXXXXXXXXXXXXXXXXXXXXXXXXX0|0\\nXXXXXXXXXXXXXXXXXXXXX0&1|0|1&1&0|0&1&1|1|0&1|0|0|1\\nXXXXXXXXXXXXXXXXXXXXXXXXXXX1&0&0&1|0|0|1|1|1|0|1|0\\nXXXXXXXXXXXXXXXXXXXXXXXXXXXXXXXXX0&1|0|0&1|0&0&0|1\\nXXXXXXXXXXXXXXXXXXXXXXXXXXXXXXXXXXXXX0|0|1&1|0|1&0\\nXXXXXXXXXXXXXXXXXXXXXXXXXXXXXXXXXXXXXXXXXXXXXXX1|1\\nXXXXXXXXXXX0|1&1|0|0|1&1|0|0|0&1&1&1&1&1&1&0|0|1&1\\nXXXXXXXXXXXXXXX1&0&0&0&0&0|1|1&0&0|0|0&1|0|0|1|0|1\\nXXXXXXXXXXXXXXXXXXXXXXX1&0|1&1&1&0&1&0&0|1|1&0|1&0\\nXXXXXXXXX0&0|0&0&1&0|0|1&1|1|1&1&0&0|1&1&1&0|0|1|0\\nX0|0|1|1&0&0&0|1|1&1&1&1|1&1|0|0&0&1|0|1&1|1|1|1&0\\nXXXXXXXXX1|0&0&1&0|0|1&1|1|0&0&0|0&0|1&0&0&0&0|0|0\\nXXXXXXXXXXXXXXXXXXX0|1&1&0&0|1|0|1|0|0|0|1|0|0&1&0\\nXXXXXXXXXXXXXXXXXXXXXXXXXXXXXXXXXXXXXXXXXXXXX1&0&0\\nX1|0|0|0&1|1|0|0&0|0|1|0&1&1&1&1&1&0|0|0|1|0|1&1|0\\nXXXXXXXXX1|0|0&1|1|0|0&0|0|1&1&1&1&1|1&0&0|1|1|0&1\\nX0|0|1|0|1&1&0|0&0|1&1|1|1|0&1&0|0&1&0&0&1|1&1|0&1\\nXXXXXXXXXXXXXXXXXXXXXXXXXXXXXXXXXXX1|0&0&1&1|1|1&1\\nXXXXXXXXXXXXXXXXX1|0|1&0|1&1|0&0&1|0&1|0|1|0|1|1&1\\nXXXXXXXXXXXXXXXXXXXXXXXXXXXXXXXXXXXXXXXXXXXXXXX1|1\\nXXX1|1&1|1|1&1|1|1&1|1|0&1|1|0&0&0&1|1|0|0&1|1|1&0\\nXXXXXXXXXXXXXXXXXXXXX1&1&1&1&1|1|0|1&1|1&0&1&1|0&0\\nXXXXXXXXXXXXXXXXXXXXXXXXXXXXXXX1|0|0|0|0|0&1&1&0&1\\nXXXXXXXXXXXXXXXXXXXXXXX0&1|1|0&1&1&1&1&0|1|0&1|1&0\\nXXXXXXXXXXXXXXXXXXXXXXXXXXXXXXXXXXXXXXXXXXXXX0|1|1\\nXXX0|0&0|1&1|1|0&0&1&1|1&0|0&1|1|1&0|0&0|1&0&0&0&1\\nXXX1&0|1&0&1&0|1|0|1&0|0|1&1&0|1|1|1|0&1|1|0|0|0&1\\nXXX1|1|1|1&0|0&1&0&1|0|1|0&1|1&0|1|0|1&1|0&0&0&1|0\\nXXXXXXXXXXXXXXXXXXXXXXXXXXXXXXXXX1|0|1&0&1&1|1|0|0\\nX1&0|0&1|1|1&1|0&1&0|0|1&0&0|0|0&1&1|0&1&1&1|0|0&0\\nXXXXXXXXXXXXXXXXX1|1&0&0&1&1|0|0|1|1&0|1&0|0&1&0&1\\nXXXXXXXXXXXXXXXXXXXXXXXXXXXXXXXXXXXXXXXXXXX1&1&1&0\\nXXXXXXX1&0&1&0|1&0|1|1|1|1|1|1|0|1|1&0|1|0&0|0|0&1\\nXXXXXXXXXXXXXXXXXXXXXXXXXXXXX0&1|1|1&1&1&1|0|1|1|0\\nXXXXXXXXXXXXXXX0|0&0|0|0&1|0|1|0&1|0|0&0&0|0&1&1|1\\nXXXXXXXXXXXXXXXXXXXXXXXXXXXXXXXXXXXXXXXXX0|1|0&0&1\\nXXXXXXXXXXXXXXXXXXXXXXXXXXXXX0&1&1|0|1|0&1&1&0&1&0\\nXXXXXXXXXXXXX1&0|1|0&0&1&0|1&1|0&1|0&1|0&0&0|1&1|1\\nXXXXXXXXX0|1&1|0|1|0|1&0&0&0&0&0|1|1&0&0|0&1|1&1&1\\nXXXXXXXXXXXXXXXXXXXXXXXXXXX0|1&1|0|0&0&1|1|1|1&0&1\\nX0|1&0|0&1&1|0&1&0&1|1&1|1&0&0|0&0&1&0&1&1|1&0&0&0\\nXXXXXXXXXXXXXXXXXXX0|1&1|0&0&0|1|1|1&0|1&1&1&0|1&1\\nXXXXXXXXXXXXXXXXXXXXXXXXXXXXXXXXXXXXX1&0|0|0&1|1&0\\nXXXXXXXXXXXXXXXXXXXXXXX1|1&1&1&0&0&0|1|0&0&1|1|1&1\\nXXXXXXXXXXXXXXXXXXXXXXXXXXXXXXXXXXXXXXXXXXXXX1&1|1\\nXXXXXXXXXXX0&0|1|0|1|1&1|0|1&1|0&0&1|1|1&0|0&0&1|0\\nXXXXXXXXXXXXXXXXXXXXXXXXXXXXXXXXXXXXX1|1&0&0&1&1&0\\nXXXXXXXXXXXXXXXXXXXXXXXXXXXXXXXXXXXXX0&1&1|0|1|1&1\\nXXXXXXXXXXXXXXXXXXXXXXX1|1|1|0|0|1|1&0&1&0|1|1&0|1\\nXXXXX0&0|1|0&0|1&1&0&0|1|1&1&1&0&0&1|0&1&1|1&0&0|1\\nXXXXXXXXXXXXXXXXXXXXXXXXXXXXXXXXXXXXXXXXXXXXXXXXX0\\nXXXXXXXXXXXXXXXXXXXXXXX1&1|0&1&0|0|1&1&0|1&1&0|1&1\\nXXXXXXXXXXXXXXXXXXXXXXXXXXXXXXXXXXX0&1|0&0&0&1&1|1\\nXXXXXXXXXXXXXXXXXXXXXXXXXXXXX0&0|0&1&0&1&0|0&0&0|1\\nXXXXXXXXXXX0|0&0|1|1&0&1|0&1|0&0&0&1|1&0|0&0|0&1|1\\nXXXXXXXXXXXXXXXXXXXXXXXXXXXXXXX1&1&1|0&0&1|0&0&0|1\\nXXXXXXXXXXXXXXXXXXXXXXXXXXXXXXX0&1&1&1|1|0&1|1|0|0\\nXXXXXXXXXXXXXXXXXXXXXXX1&1&1&0|1|1|0&0|1&1&1&1|0|1\\nXXXXXXXXXXXXXXXXXXXXXXXXX1&1|0|0&0|1|0&1|1&0&0|1&1\\nXXXXXXXXXXXXXXXXXXXXXXXXXXXXXXXXXXXXXXX1&0&1&1|0&0\\nXXX0&1&1&1|0&0&0|0|0&0|1|1&0&1&0&1&0&1|0|1&0|1|1&0\\nXXXXXXXXXXXXXXXXXXX1&1&1&0&0&0|1&1|0&1&0|0&0|1&1|1\\nXXXXXXXXXXXXXXXXXXXXXXXXXXXXXXXXXXXXXXXXXXXXXXXXX0\\nXXXXXXXXXXXXXXXXXXXXXXX0|0|0&0|1|1&1|1&0&0|0|1&0&1\\nXXXXXXXXXXXXXXXXXXXXXXXXXXXXXXXXXXXXX1&1|1&1|0|0|1\\nXXXXXXXXXXXXXXXXXXXXXXXXXXX1|0|1&0&1|1|1&1&1&0&1|1\\nXXXXXXXXXXXXXXXXXXXXXXXXXXXXXXXXXXXXXXXXXXXXXXX1|1\\nXXXXXXXXXXXXXXXXXXXXX0&0|1|1|1|1&0|1&0&0&0|0&1|0|1\\nXXXXXXXXXXXXXXXXXXXXXXXXXXXXX1&0&1|1&0|0&1|0|0|0&0\\nXXXXXXXXXXXXXXXXXXXXXXXXXXXXXXXXXXXXXXXXXXXXXXXXX0\\nXXXXXXXXXXXXXXXXXXXXXXXXXXXXXXXXXXX0&1|0&0&1|1&0&0\\nXXXXXXXXXXXXXXXXXXXXXXXXXXXXXXXXXXXXXXX0|0&1&0&0|1\\nXXXXXXXXX1&0|0|1&1&0|0&0&0&0&0|0&1|1|0&0|1|0&1&1|0\\nXXXXXXXXX0|1&0|1&1|0&1&0&1&1|1|1&1&0&0|0|1|0|1|1&1\\nXXXXXXXXXXXXXXXXXXXXXXXXX0|0|1&1&1|0&0|1&1|0&0&0&0\\nXXXXXXXXXXXXXXXXX0|1&1|1|1&1|1&1|1&1&0&1|1&1|0&0&1\\nXXXXXXXXXXXXXXXXX1|0&0|1|1&0&1&1&1|1|0|0&1&0&1&1&0\\nXXXXX1|1|0&1&0&1|1&0&1&1&0&0&1&1|1|0|0|0|1|0|1|1&1\\nXXXXXXXXXXXXXXXXXXXXXXX0|1&1&1&0|0|0&1&0|0|1|1|1&1\\nXXXXXXXXXXXXXXXXXXXXXXXXXXXXXXXXXXX1&0&0|0&0&0|0&0\\nXXXXXXXXXXXXXXX0|0|0|1&1&1|0|1&1|0|0|1&1|1|1&1&0|0\\nXXX0|0&1&0|1|1&1&0|1|1|1|0|0|0|1|1&0&0&1&0&0&1&0|1\\nXXXXXXXXXXXXXXXXXXXXXXX0&0&1|0&1&0|0&0&1|1|1&0|0&0\\nXXXXXXXXXXXXXXXXXXXXXXXXXXXXXXXXXXX1|0|0&0|1&0|0&0\\nXXXXXXXXXXXXXXXXXXXXXXXXXXXXXXXXXXXXXXXXX0|0&1|0|0\\nXXXXXXXXXXXXXXXXX1&1&1|0&0&0&0|0&1&1|1|0|0&1&1|1|1\\nXXXXXXXXXXXXXXXXXXXXXXXXX1&0&1|0&0&0|1&1&1|1|1&0&1\\nXXXXXXXXXXXXXXXXXXXXXXXXXXXXXXXXXXXXXXXXXXXXXXXXX0\\nXXXXXXXXXXXXXXXXXXX1|1|0&0|1&1&1|1|1|0|0&1&1&1&0&1\\nXXX0&0|0&1|0|0|1&1&1|1&1|0&1&1&0&0|0|1&1&1&0&1&0|1\\nXXXXX0&1&1&1|1|0&0|1|0|0|0&0&1&1|1&1|0&1|0&0&0&0&1\\nXXXXXXXXXXXXXXXXXXXXXXXXXXXXXXXXXXXXXXXXX1&0&0&0|0\\nXXXXXXXXX0&0&1|1&1&0|1&1&0&1&1&1|0&1|1&1|0&0&0|0&1\\nXXXXXXXXXXXXXXXXXXXXX0|1&0|1|1|1|1|1&0&1|1|0&1|1|0\\nXXXXXXXXXXXXXXXXXXXXXXXXXXXXXXXXXXX1|1|1&0|1&1&1|0\\nXXXXXXXXXXXXXXXXXXXXXXXXXXXXX0&1|1|0|1|1&0|0&0|0&0\\nXXXXXXXXXXXXXXXXXXXXXXXXXXXXXXXXXXXXX1|0|1|1|0|1&1\\nXXXXXXXXXXXXXXXXXXXXXXXXXXXXXXXXXXXXXXXXXXXXX1&1|1\\nXXXXXXXXXXXXXXXXXXXXXXXXXXXXX0|1&1|0|0&1|1&1&1|0|0\\nXXXXXXXXXXX0|1&1&1|1&0|1|0|1&1&0|0&0&1|1&0|1&0|1|1\\nXXXXXXXXXXXXXXXXX0&1&0|0|0&0|1&1|1|1&0&0|1&1&1&1&1\\nXXXXXXXXXXXXXXXXXXXXXXXXXXXXXXXXXXX1|0&0|0&1&1|0&1\\nXXXXXXXXXXXXXXXXXXXXXXXXXXXXXXXXXXXXXXXXXXX1&0&1&0\\nXXXXXXXXXXXXXXXXXXXXXXXXX0&0|0|0|1|1|1|0|1|0|1|1|1\\nXXXXXXXXX1&0&1&0&0&1&1&1|1&1&1|0|1|1|0|0&0|0|0|0&0\\nXXX1&0|0|0|1&0|0&1&1|0&1&1|1|0|1&0|0|1|0&0|0|1&1&0\\nXXXXXXXXXXXXXXXXXXXXXXXXXXXXX0|1&0&0|1|0&0&1|1&1&1\\nXXXXXXXXXXXXXXXXXXXXXXXXXXX0|0|1&1&1|0&0&0|1|1&0&1\\nXXXXXXXXXXXXXXX1&1&1&0|1|0|0&1&0|1|0&1&0&0|1|1&0|1\\nXXXXXXXXXXXXXXXXXXXXXXXXXXXXXXXXXXXXXXXXXXX1|1&1&0\\nXXXXXXXXXXXXXXXXXXXXXXXXXXXXXXXXXXXXXXXXX0|1|1&0&0\\nXXXXXXXXXXXXXXXXXXXXXXXXXXXXXXXXXXX0&0&1&1|0&1&0|0\\nX1&0|0&0&1|1|0&0|1&0|0&1&1&1|0&1|0&0&1&0|1&0&0|0&1\\nXXXXXXXXXXXXXXXXXXXXXXXXXXXXXXXXXXXXXXXXXXX1&0|1&0\\nXXXXX1&1&0|0&1|0&0&1&0&1&1&1|0&1|0|1&0|0|0&0|1&0&1\\nXXXXXXXXXXXXXXXXXXXXXXXXXXXXXXXXX0&0|0&0&1&1|0&1&0\\nXXXXXXXXXXXXXXXXXXXXXXXXXXXXXXXXXXXXXXXXX1&0&1&1|0\\nXXXXXXXXXXXXXXXXXXXXXXXXXXXXXXXXXXX0|0|1|1&0&1&0&1\\nX1|1|1&0&1|1&1|0|1|0&1|0&1|1|0|0|0|0|1|0|1|0&1&1&1\\nXXX1|1&1|0&0&0&1|0|1|0&0|0|0&0&0|0|0|1&0|1|0|0|1&1\\nXXXXXXXXXXXXXXXXXXXXXXXXXXXXXXXXXXXXX1&0&0|0|0&0&1\\nXXXXXXXXXXXXXXXXXXXXXXXXXXXXX1&1&0|0|0|1|1&1|1|0&1\\nXXXXXXXXXXXXXXXXXXXXXXXXXXX0&1|1|1|0|1|0&1|1|0|0|1\\nXXXXXXXXXXXXXXXXXXXXXXXXXXXXXXXXXXXXXXX1&0|1|0|1|1\\nXXXXXXXXXXXXXXXXX0&1|1&1|1|0&1&0|0|1|0&1|0&1&1|1|1\\nXXXXXXXXXXXXXXXXXXXXX0&1|0|0&1&0|0&0&1&1&1|0|0|1|0\\nXXXXXXX0&1&1&1|0|1|0&0&0|0&1&1&0&0&1|0&0|0|1&0|1&0\\nX0&0|1|0&0&0&1|0&1&0|0&0|0|1&0|1|0|1&1|0|1&0&0|1|1\\nXXXXXXXXXXXXXXXXX0|1|1&1|1|0|0|0&1&1&0|1|0&0|1|0&1\\nXXXXXXX0&0|0&1|1|0&1&0|1&1&0&1|0&0|0|0&1&0|0&0|0|0\\nXXXXXXXXXXXXXXXXXXXXXXXXX1&1|0&1|1|1|1&1&1|0|0|0|1\\nXXXXXXXXXXXXXXXXXXXXXXXXXXXXXXXXXXXXXXXXXXXXX1|1|1\\nXXXXXXXXXXXXXXXXXXXXXXXXX0&1|0&0|0&1&1|0|0&0|0|1|0\\nXXXXXXXXXXXXXXXXXXXXXXXXXXXXXXXXXXXXXXXXXXXXXXX0|0\\nXXXXXXXXXXXXXXXXXXXXXXXXXXXXXXX1|0|0|1|0|1|1&0&0|1\\nXXXXXXXXXXXXXXXXXXXXXXXXXXXXXXXXXXXXX1&0|0&1|0|0|0\\nXXXXXXX1|1&0&1&0|1&0|1|1|1|1&1&1&1|1|1|0|0&1|1&0&1\\nX1|1|0&1&1|0&0&1|0|1|1&1&1&1&0|0|0&1|1&1|0&1|1|1&1\\nX1&1&1|0&0&1|0|1|0|0&0|1&1|0|1&0&0&0&0&1&1|0&0|0&0\\nXXXXXXXXXXXXXXXXXXXXXXXXXXXXXXXXXXXXXXXXXXXXXXX0&1\\nXXXXXXXXXXXXXXXXXXXXXXXXXXX0|1|1&0|0&0|1|1|1&1&0|0\\nXXXXXXXXXXXXXXXXXXXXXXXXXXXXXXXXXXXXX0|1&0|1&0&0|0\\nXXXXXXXXXXXXXXXXXXXXXXXXXXXXXXXXX1|0|1|1|1&0|1|0&0\\nXXXXXXXXXXXXXXXXXXXXXXXXXXXXXXXXXXXXXXXXXXXXXXX0&1\\nXXXXXXXXXXXXXXXXXXX0&1&1&1|0|0|1&0|1&0&1&1|0|1&1&0\\nXXXXXXXXX0&0&0|1|0|0|1&1&0|0&1|1|0|0&0&0|0|1&1|1&0\\nXXX0|0|1&1|1|1&0|0&0|0&0&0&1|0|0|0&0&1|1|1&0&1|1|1\\nXXXXXXXXXXXXXXXXXXXXXXXXXXXXXXX1|0|0|1|0|1|1|1&1|1\\nXXXXXXX1|0|1|1&0&1&0&0&0|1|0&1|1|1|1|0|1|0|1|0&0&1\\nXXXXXXXXXXXXXXXXXXXXXXXXXXXXXXXXXXXXXXX1|0&0&1|1|1\\nXXXXXXXXXXXXXXX0&0&1&1|0|1|1&1|0|0|0&1|1|1|0|0|0&1\\nX1|1&1&0&1&1&0|1&0|0&1|0&0&1|0|1&0&0|0&1&1&1&0&0&1\\nX0&0&1|1|1&1|0&1|1&0|0&1|1|1|0|1&0|1|0|0&1|1&0&1&1\\nXXXXXXXXXXXXXXX1|0&0&1&0|1&0|0&1&1&1&0|1|1&1&1|0&1\\nXXXXXXXXXXXXXXXXXXXXXXX0|1|0|1&1|1|0|0|0|1|0&1|1|1\\nXXXXXXXXXXXXXXX0&0&0&1&0|0&0&1|0|0|1&1&1&0|1&0&1|1\\nXXXXXXXXX0|1&0|1|0|0&0&0&1&1&0&0&1&1&1|1|1|0|1|0|1\\nXXXXXXXXXXXXXXX1|1&1|1|0|0&1&0&1&1|1|0&0&1&1&0&0|0\\nXXXXXXXXXXXXXXXXX0|1|1&1&1|1|0&1&1|1|0&1&1&1&0|1|0\\nXXXXXXXXXXXXXXX0|1|1&0|0|0&0&1|0|1&1&1|1&1|0|0|0|0\\nXXXXXXXXXXXXXXXXXXXXXXXXXXXXXXXXXXX1&1&1&0&1|1|0&0\\nXXXXXXXXXXXXXXX0&0&1|0&0|1|0|0|1|0|0|0&1|0|1|0&0&1\\nXXXXXXXXXXXXXXXXXXXXXXXXXXXXXXXXXXXXXXXXX1|1|1|0&1\\nXXXXXXXXXXXXXXXXXXXXXXXXXXX0|1|1&0|1|1|0&0|1&1|1|0\\nXXX1|0&0|0|0|1&1|0|0|1|1|1&0|0|1|0&1|1&0&0|1&0&0&1\\nXXXXXXXXX1|0|0&1&1&1|1|1|0&1|1&1|1|1|1&0&1|0&0&1&0\\nXXXXXXXXXXXXXXXXXXXXXXXXXXX1|0&1&0&0|0|1|0&1&0&1|1\\nXXXXXXXXX1&0|1|0&1|0&1|1&0&0|1&0&1&1|0|0&0|0&0|0&1\\nXXXXXXXXXXXXXXXXX1|1&1|1&0|0&0|1|0|1&0&0|1&0&0|0|0\\nXXX0&1|1&1&1|0&1|1&1|0|0&1|0&1|1&0&0|1|0|0|0|0&0&1\\nXXXXXXXXXXXXXXXXXXXXXXXXXXXXXXX0&1|0&1|1&0|0|0|0|1\\nXXXXXXXXXXXXX1&1|1&1&1|0&0|1|0&0&1&0|0|0&1&0&0|0|0\\nXXXXXXXXXXX0|0&1&0&1&1&0|0|0|1&0&0|0|1&1&1&1|0&1&1\\nXXXXX1|0&0&1|0&1|1|1&0&1&1&0|0&0|0|1|1|1|0|1|1|1|0\\nXXXXXXXXXXXXX0&1|0&0|1|0&0&1|1|1|1&1&0&0|1&0&1|1|1\\nXXXXXXXXXXXXXXXXXXXXXXXXXXXXXXXXXXXXX1|1&1&1&1&1&1\\nXXXXXXXXXXXXXXXXXXXXXXXXXXXXXXXXXXXXXXXXX0|1&1&1|1\\nXXXXXXXXXXXXXXXXXXXXXXXXXXX0&0|1|0&0&0&0|0|1|1|0&1\\nXXXXXXXXXXXXXXXXXXXXXXXXXXXXXXXXXXXXX1&1|1|0&1|0&1\\nXXXXXXXXXXXXXXXXXXX0|1&1|1&1&0&0|0&1&0|0&1&1&1|0|0\\nXXXXXXXXXXXXXXXXXXXXXXXXX0&1|0&0&0&1|1|1|1|1&1|0|1\\nXXXXXXXXXXXXXXXXXXXXX0&0|0|1&0&1&0|0|1|0&0|1&0&1&0\\nXXXXXXXXXXXXXXXXX0|0&0|1|0|1&0&1|1|1&1&1|0&1|0|0|0\\nXXXXXXXXXXXXXXXXXXXXXXXXXXXXXXXXXXXXXXXXXXX0&0&0|0\\nX1|0|0|1&1|0|0|0&0&1&0|1&0&0&1&0|0&1|1|0&1&1&0|0|0\\nXXXXXXXXXXXXXXXXXXXXX0|0|0&0&1|0|0|0&1|1&1&0|0|0&1\\nXXXXXXXXXXXXX0&0|1&1|1|1&0&1|1&1|0&0|0|1|0&0&1&0&0\\nXXXXXXXXXXXXXXXXXXXXXXXXXXXXXXXXXXXXXXX0&1|0|0&0|0\\nXXXXXXXXXXXXXXXXXXXXXXX0|1|0&0|1&0|1&1|0|1|1&0&0|0\\nXXXXXXXXXXXXXXXXX0&0|0&1|1&0|1&0&1&0|0&1|0&0&0|1|1\\nXXXXXXXXXXXXXXXXX0&0|0&0&0&1|1&1|0&0&1|0|1|0&1|1|1\\nX1|0&1&1&1|1&0&0&1&0|0|0|1&0|1|1|1&1&0|0|1&1&1|0|1\\nXXXXXXXXXXXXXXXXXXXXXXXXXXXXXXXXXXXXX0|1&0&0&1&0|1\\nXXXXXXXXXXXXXXXXXXXXXXXXXXX0|0|0|0&0&1|0|1|1|0&0&1\\nXXXXXXX0|0|1|1&0|0|0|1|1|1|0|1|0&0|0|1|1|0&1|0&1|1\\nXXXXXXXXXXXXXXXXX1|0|1|0&1|1|0&0|0|0|1&0&0&1&1|1&1\\nXXXXXXXXXXXXXXXXXXXXXXXXXXXXXXXXXXXXXXXXXXXXXXXXX1\\nXXXXXXXXXXXXXXXXXXXXXXXXXXXXXXXXXXX1|0|1|0&0|0&0&0\\nXXXXXXXXXXXXXXXXXXXXXXXXX0|0&1|0|0&1|0&1&1|1&1&0|1\\nXXXXXXXXX0|1&1|0|1|1|1&0&1&0|0|0|0|0&1&1&0|1|0&0&0\\nXXXXXXXXXXXXXXXXXXXXXXXXXXX1|0&1&0|1|1&0|0&0&1|1&0\\nXXXXXXXXXXXXXXXXXXXXXXXXX1|0&1|1|0&1|1&1|0|1&1|1|0\\nXXXXX1&0&1&0&0|1|1|1&1|0&1|1&0|0|1&1&1|1&0|0&1&1&1\\nXXXXXXXXXXXXXXXXXXXXXXXXX0&1|0|0&1&1|0|1|0&1&1|1|1\\nXXXXXXXXXXXXXXX1|0&1&0|1|0&1&1|0&1|0&1&1|1|0|0&0|1\\nXXXXXXXXXXXXXXXXXXXXXXXXX0|1&0&0|0&0&0&0&1|0|0|0|1\\nX1|1&1|0|1&0|0&1|0|0&0|1|0&0|1|1|0&0&0&0&0&1|1&0&0\\nXXXXXXXXXXXXXXXXXXXXX0|1&0&1|0|1&0&1&1|1|0|0&1&0&1\\nXXXXXXXXXXXXXXXXXXXXXXX1|0|1&0&0|1&0&1&1&1|1|1&1&0\\nXXXXXXXXXXXXXXXXXXXXXXXXXXXXXXXXXXXXXXX0&0&1&1&1|0\\nXXXXXXXXXXXXXXXXXXX1&1&1&1&0&0|1&0&1|1&0&0|0|0&1|0\\nXXXXX0|0|0&1|0&0&0&1&1&0&0&0|0|1&0|0|0&1|1&1|1&1|1\\nXXXXXXX1|1|1|1|1|1|0&1&1|0|0&1&0&0|0|0&1|1|0&1&0&1\\nXXXXXXXXXXXXX0&1&1&1&1&1&0&1&0&0|1|1&0&0|1|1|1&1|1\\nXXXXXXXXXXXXXXXXX0|1&1|0|1|0&0&0&1&0|1&1&0&0|1&0|0\\nXXXXXXXXXXXXXXXXXXXXXXXXXXXXXXXXXXXXXXXXXXXXX1&0|1\\nX0&1&1&0&0&0|0&0&1|1&1|1&0|1&0&1|0&1|0&1|0|1|0|0&1\\nXXXXXXXXXXX1&1&1&0&1|1&0&1&1&1|0|0|0&0&0&1|0&0&1&1\\nXXXXX0&1&1|1&1&0|1&0&0|1|0|0|1|1&1|1&0&0|1&0&0&1&1\\nX0|1&1&0|0&0&1|0&1|1|0|0|1&1&1&0&0&1&1&0|1&1|0|1&1\\nXXXXXXXXXXXXXXXXXXXXXXXXXXXXXXXXXXXXXXXXXXXXX1|0&1\\nXXXXXXXXXXXXXXXXXXXXXXXXXXXXXXXXXXXXXXXXXXXXX0&0&0\\nXXXXXXXXXXXXXXXXXXXXXXX0|0&1&0|0&1|1&1|1|1&1|1|0|0\\nXXXXX0|0&1|0|1|1|1|0|1&0|0|1|1&1|0|0|1|0&1|1|1|1|1\\nX0&0&1&0|0|1|1&0|1&0&1|0&0|0|0&0|0&1&1|1&1|1&1&0&0\\nXXXXXXXXXXXXXXXXXXXXXXXXXXXXX1|0&0&0|0|1|1&1&0&0&0\\nXXXXXXXXXXXXXXXXXXXXXXXXXXX0&0|0|1|1|1&0|0|1&0&0&1\\nXXXXXXXXXXXXXXXXXXX1|0&1|1&1&1&1|1&0&1&0|0|0&0&1&1\\nXXXXXXXXXXXXXXXXXXXXXXXXXXXXXXXXXXXXXXXXXXXXX0&1&1\\nXXXXXXXXXXXXXXXXXXXXXXXXXXXXXXXXXXXXXXXXXXX0|0&1&0\\nXXX1|1|1|1&1|0|0|0|0&1&1&0|0|1&1|1|1|1|0&1&0|0&1&0\\nXXXXXXXXXXXXXXXXXXXXXXXXXXXXXXXXXXXXXXXXXXX1&1&1&0\\nXXX1|1|0&1|1&1|0|0|1|1&1|0|0|0|1|1&1&1&0&1|0|1&1|1\\nXXXXXXXXXXXXX1|1|1&1|0|1|0&0&1&1|1&0&1&0&0&0|0&0&1\\nXXXXXXXXXXXXXXXXXXXXXXXXX0&1|1&0|0&0|1|1&1&1|0&1|1\\n'"
      ]
     },
     "execution_count": 242,
     "metadata": {},
     "output_type": "execute_result"
    }
   ],
   "source": [
    "%time\n",
    "decoded_s = s.decode(\"utf-8\") \n",
    "decoded_s"
   ]
  },
  {
   "cell_type": "code",
   "execution_count": 243,
   "metadata": {},
   "outputs": [
    {
     "data": {
      "text/plain": [
       "str"
      ]
     },
     "execution_count": 243,
     "metadata": {},
     "output_type": "execute_result"
    }
   ],
   "source": [
    "type(decoded_s)"
   ]
  },
  {
   "cell_type": "code",
   "execution_count": 245,
   "metadata": {},
   "outputs": [],
   "source": [
    "final_s = decoded_s.split('\\n')"
   ]
  },
  {
   "cell_type": "code",
   "execution_count": 251,
   "metadata": {},
   "outputs": [
    {
     "data": {
      "text/plain": [
       "4992"
      ]
     },
     "execution_count": 251,
     "metadata": {},
     "output_type": "execute_result"
    }
   ],
   "source": [
    "len(final_s)"
   ]
  },
  {
   "cell_type": "code",
   "execution_count": 250,
   "metadata": {},
   "outputs": [],
   "source": [
    "if final_s[-1] == '':\n",
    "    del final_s[-1]"
   ]
  },
  {
   "cell_type": "code",
   "execution_count": 252,
   "metadata": {},
   "outputs": [
    {
     "data": {
      "text/plain": [
       "True"
      ]
     },
     "execution_count": 252,
     "metadata": {},
     "output_type": "execute_result"
    }
   ],
   "source": [
    "final_s == train_sequences"
   ]
  },
  {
   "cell_type": "code",
   "execution_count": null,
   "metadata": {},
   "outputs": [],
   "source": []
  }
 ],
 "metadata": {
  "kernelspec": {
   "display_name": "Python 3",
   "language": "python",
   "name": "python3"
  },
  "language_info": {
   "codemirror_mode": {
    "name": "ipython",
    "version": 3
   },
   "file_extension": ".py",
   "mimetype": "text/x-python",
   "name": "python",
   "nbconvert_exporter": "python",
   "pygments_lexer": "ipython3",
   "version": "3.5.3"
  }
 },
 "nbformat": 4,
 "nbformat_minor": 2
}
