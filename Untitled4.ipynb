{
 "cells": [
  {
   "cell_type": "code",
   "execution_count": 344,
   "metadata": {},
   "outputs": [
    {
     "name": "stderr",
     "output_type": "stream",
     "text": [
      "2019-11-05 23:54:44,382\tWARNING worker.py:1268 -- WARNING: Not updating worker name since `setproctitle` is not installed. Install this with `pip install setproctitle` (or ray[debug]) to enable monitoring of worker processes.\n"
     ]
    },
    {
     "data": {
      "text/plain": [
       "{'node_ip_address': '10.128.0.51',\n",
       " 'object_store_address': '/tmp/ray/session_2019-11-05_16-45-18_491016_1575/sockets/plasma_store',\n",
       " 'raylet_socket_name': '/tmp/ray/session_2019-11-05_16-45-18_491016_1575/sockets/raylet',\n",
       " 'redis_address': '10.128.0.51:6379',\n",
       " 'session_dir': '/tmp/ray/session_2019-11-05_16-45-18_491016_1575',\n",
       " 'webui_url': None}"
      ]
     },
     "execution_count": 344,
     "metadata": {},
     "output_type": "execute_result"
    }
   ],
   "source": [
    "# TODO support layers, units\n",
    "import ray\n",
    "import dni\n",
    "import importlib\n",
    "importlib.reload(dni)\n",
    "import numpy as np\n",
    "ray.shutdown()\n",
    "ray.init(address=\"10.128.0.51:6379\")"
   ]
  },
  {
   "cell_type": "code",
   "execution_count": 345,
   "metadata": {},
   "outputs": [
    {
     "name": "stderr",
     "output_type": "stream",
     "text": [
      "2019-11-05 23:54:44,954\tWARNING actor.py:583 -- Actor is garbage collected in the wrong driver. Actor id = ActorID(f7fa17dd1d000000), class name = Act_extract.\n",
      "2019-11-05 23:54:44,956\tWARNING actor.py:583 -- Actor is garbage collected in the wrong driver. Actor id = ActorID(58aee56f1c000000), class name = Act_extract.\n",
      "2019-11-05 23:54:44,956\tWARNING actor.py:583 -- Actor is garbage collected in the wrong driver. Actor id = ActorID(9c22d9f91d000000), class name = F_Extractor.\n",
      "2019-11-05 23:54:44,957\tWARNING actor.py:583 -- Actor is garbage collected in the wrong driver. Actor id = ActorID(d12f1c181d000000), class name = F_Extractor.\n",
      "2019-11-05 23:54:44,958\tWARNING actor.py:583 -- Actor is garbage collected in the wrong driver. Actor id = ActorID(bfe8cd4d1d000000), class name = F_Extractor.\n",
      "2019-11-05 23:54:44,958\tWARNING actor.py:583 -- Actor is garbage collected in the wrong driver. Actor id = ActorID(e118fa741d000000), class name = F_Extractor.\n",
      "2019-11-05 23:54:44,959\tWARNING actor.py:583 -- Actor is garbage collected in the wrong driver. Actor id = ActorID(073417f91d000000), class name = F_Extractor.\n",
      "2019-11-05 23:54:44,959\tWARNING actor.py:583 -- Actor is garbage collected in the wrong driver. Actor id = ActorID(e7ed64551d000000), class name = F_Extractor.\n",
      "2019-11-05 23:54:44,960\tWARNING actor.py:583 -- Actor is garbage collected in the wrong driver. Actor id = ActorID(a61816ad1d000000), class name = Scanner.\n"
     ]
    }
   ],
   "source": [
    "@ray.remote\n",
    "class Scanner(dni.access.Scan):\n",
    "    def __init__(self):\n",
    "        from google.cloud import storage\n",
    "        import numpy as np\n",
    "        storage_client = storage.Client()\n",
    "        bucketn = \"dni-storage\"\n",
    "        bucket = storage_client.get_bucket(bucketn)\n",
    "        self.blob = bucket.get_blob('Datasets/data.txt')\n",
    "        self.curr = 0\n",
    "        self.step = 128 # fetch how many data at one time\n",
    "    def Next(self):\n",
    "        if not self.HasMore():\n",
    "            return \"\"\n",
    "        # fetch data\n",
    "        s = self.blob.download_as_string(start=self.curr*51*self.step, \n",
    "                                         end=self.curr*51*self.step+51*self.step-1)\n",
    "        self.curr += 1\n",
    "        return self.process_raw(s)\n",
    "\n",
    "    def HasMore(self):\n",
    "        return self.curr * self.step < 4992\n",
    "    \n",
    "    def process_raw(self,s):\n",
    "        s = s.decode(\"utf-8\") \n",
    "        s = s.split(\"\\n\")\n",
    "        if s[-1] == '':\n",
    "            del s[-1]\n",
    "        char2int = {'X': 0, '0':1, '1':2, '|':3, '&':4}\n",
    "        encoded_seqs = [[char2int[x] for x in seq] for seq in s]\n",
    "        n_chars = max(char2int.values()) + 1\n",
    "        seq_len = len(encoded_seqs[0])\n",
    "        X = np.zeros((len(encoded_seqs), seq_len, n_chars), dtype=np.int)\n",
    "        for i, enc_seq in enumerate(encoded_seqs):\n",
    "            for j, x in enumerate(enc_seq):\n",
    "                X[i, j, x] = 1\n",
    "        return X\n",
    "    \n",
    "@ray.remote\n",
    "class Act_extract(dni.model.Extractor):\n",
    "    def __init__(self, modelname, layer):\n",
    "        from google.cloud import storage\n",
    "        storage_client = storage.Client()\n",
    "        bucket = storage_client.get_bucket(\"dni-storage\")\n",
    "        blob = bucket.get_blob(modelname)\n",
    "        import os.path\n",
    "        if not os.path.isfile(modelname.split(\"/\")[-1]):\n",
    "            blob.download_to_filename(modelname.split(\"/\")[-1])\n",
    "        from keras.models import Model, load_model\n",
    "        self.model = load_model(modelname.split(\"/\")[-1])\n",
    "        self.model._make_predict_function()\n",
    "        outputs = [self.model.layers[l].output for l in layer]\n",
    "        self.model = Model(inputs = self.model.input, outputs = outputs)\n",
    "    def extract(self,input,unit):\n",
    "        pred = self.model.predict(input)\n",
    "        if not isinstance(pred, list):\n",
    "            pred = [pred]\n",
    "        for i in range(len(pred)):\n",
    "            pred[i] = pred[i][...,unit]\n",
    "        return pred\n",
    "    \n",
    "# feature builder    \n",
    "def fsm_states(transition_table, dictionary, init_state = 0, id_fsm = None):\n",
    "    def F(seq_raw):\n",
    "        int2char = {0:'X', 1:'0', 2:'1', 3:'|', 4:'&'}\n",
    "        seq = ''\n",
    "        #latter not 0\n",
    "        for i in seq_raw:\n",
    "            for k in range(len(i)):\n",
    "                if i[k] == 1:\n",
    "                    seq = seq + int2char[k]\n",
    "        features = np.zeros(len(seq))\n",
    "        cur_state = init_state\n",
    "        for i, x in enumerate(seq):\n",
    "            cur_state = transition_table[cur_state][dictionary[x]]\n",
    "            features[i] = cur_state\n",
    "        return features\n",
    "    return F\n",
    "\n",
    "fsm_dict = {'X': 0, '0':1, '1':2, '|':3, '&':4}\n",
    "fsm_tbl =  [[0, 2, 1, -1, -1],\n",
    "            [0, -1, -1, 4, 3],\n",
    "            [0, -1, -1, 6, 5],\n",
    "            [0, 2, 1, -1, -1],\n",
    "            [0, 1, 1, -1, -1],\n",
    "            [0, 2, 2, -1, -1],\n",
    "            [0, 2, 1, -1, -1]]\n",
    "fsm_states_7 = fsm_states(fsm_tbl, fsm_dict, id_fsm = '7')\n",
    "\n",
    "fsm_tbl4 = [[0,2,1,-1,-1],\n",
    "            [0,1,1,1,3],\n",
    "            [0,2,2,3,2],\n",
    "            [0,2,1,2,1]]\n",
    "fsm_states_4 = fsm_states(fsm_tbl4, fsm_dict, id_fsm = '4')\n",
    "\n",
    "\n",
    "fsm_tbl3 = [[0,2,1,-1,-1],\n",
    "           [0,2,1,1,0],\n",
    "           [0,2,2,0,2]]\n",
    "fsm_states_3 = fsm_states(fsm_tbl3, fsm_dict, id_fsm = '3')\n",
    "\n",
    "\n",
    "features = [fsm_states_7, fsm_states_4, fsm_states_3]\n",
    "\n",
    "def random_fsm(n_states, fsm_dict=fsm_dict):\n",
    "    s = np.random.randint(n_states, size=n_states*len(fsm_dict))\n",
    "    tran = np.reshape(s, (n_states, len(fsm_dict)))\n",
    "    return tran\n",
    "\n",
    "fsm_states_3rd = fsm_states(random_fsm(3), fsm_dict, id_fsm = 'rd_3')\n",
    "fsm_states_4rd = fsm_states(random_fsm(4), fsm_dict, id_fsm = 'rd_4')\n",
    "fsm_states_7rd = fsm_states(random_fsm(7), fsm_dict, id_fsm = 'rd_7')\n",
    "\n",
    "features += [fsm_states_3rd, fsm_states_4rd, fsm_states_7rd]\n",
    "feature_names = [\"states_7\", \"states_4\", \"states_3\",\"states_3rd\",\"states_4rd\",\"states_7rd\"]\n",
    "\n",
    "@ray.remote  \n",
    "class F_Extractor(dni.feature.Batch_Feature_Extractor):\n",
    "    pass\n",
    "    \n",
    "@ray.remote \n",
    "class corr_metric(dni.metric.Batch_Exhaustive_Correlation):\n",
    "    pass\n",
    "\n",
    "Metric_names = [\"Corr\"]"
   ]
  },
  {
   "cell_type": "code",
   "execution_count": 346,
   "metadata": {},
   "outputs": [
    {
     "name": "stderr",
     "output_type": "stream",
     "text": [
      "2019-11-05 23:54:46,680\tWARNING worker.py:1268 -- WARNING: Not updating worker name since `setproctitle` is not installed. Install this with `pip install setproctitle` (or ray[debug]) to enable monitoring of worker processes.\n"
     ]
    },
    {
     "name": "stdout",
     "output_type": "stream",
     "text": [
      "\u001b[2m\u001b[36m(pid=7812)\u001b[0m Using TensorFlow backend.\n"
     ]
    },
    {
     "name": "stderr",
     "output_type": "stream",
     "text": [
      "2019-11-05 23:54:48,428\tWARNING worker.py:1619 -- WARNING: 12 PYTHON workers have been started. This could be a result of using a large number of actors, or it could be a consequence of using nested tasks (see https://github.com/ray-project/ray/issues/3644) for some a discussion of workarounds.\n"
     ]
    },
    {
     "name": "stdout",
     "output_type": "stream",
     "text": [
      "\u001b[2m\u001b[36m(pid=7812)\u001b[0m WARNING:tensorflow:From /usr/local/lib/python3.5/dist-packages/tensorflow_core/python/ops/resource_variable_ops.py:1630: calling BaseResourceVariable.__init__ (from tensorflow.python.ops.resource_variable_ops) with constraint is deprecated and will be removed in a future version.\n",
      "\u001b[2m\u001b[36m(pid=7812)\u001b[0m Instructions for updating:\n",
      "\u001b[2m\u001b[36m(pid=7812)\u001b[0m If using Keras pass *_constraint arguments to layers.\n",
      "\u001b[2m\u001b[36m(pid=7812)\u001b[0m 2019-11-05 23:54:51.127444: I tensorflow/core/platform/cpu_feature_guard.cc:145] This TensorFlow binary is optimized with Intel(R) MKL-DNN to use the following CPU instructions in performance critical operations:  AVX2 FMA\n",
      "\u001b[2m\u001b[36m(pid=7812)\u001b[0m To enable them in non-MKL-DNN operations, rebuild TensorFlow with the appropriate compiler flags.\n",
      "\u001b[2m\u001b[36m(pid=7812)\u001b[0m 2019-11-05 23:54:51.134380: I tensorflow/core/platform/profile_utils/cpu_utils.cc:94] CPU Frequency: 2300000000 Hz\n",
      "\u001b[2m\u001b[36m(pid=7812)\u001b[0m 2019-11-05 23:54:51.134666: I tensorflow/compiler/xla/service/service.cc:168] XLA service 0x560408ee71e0 initialized for platform Host (this does not guarantee that XLA will be used). Devices:\n",
      "\u001b[2m\u001b[36m(pid=7812)\u001b[0m 2019-11-05 23:54:51.134700: I tensorflow/compiler/xla/service/service.cc:176]   StreamExecutor device (0): Host, Default Version\n",
      "\u001b[2m\u001b[36m(pid=7812)\u001b[0m 2019-11-05 23:54:51.136979: I tensorflow/core/common_runtime/process_util.cc:115] Creating new thread pool with default inter op setting: 2. Tune using inter_op_parallelism_threads for best performance.\n",
      "\u001b[2m\u001b[36m(pid=7812)\u001b[0m WARNING:tensorflow:From /usr/local/lib/python3.5/dist-packages/tensorflow_core/python/ops/nn_impl.py:183: where (from tensorflow.python.ops.array_ops) is deprecated and will be removed in a future version.\n",
      "\u001b[2m\u001b[36m(pid=7812)\u001b[0m Instructions for updating:\n",
      "\u001b[2m\u001b[36m(pid=7812)\u001b[0m Use tf.where in 2.0, which has the same broadcast rule as np.where\n",
      "\u001b[2m\u001b[36m(pid=7812)\u001b[0m WARNING:tensorflow:From /usr/local/lib/python3.5/dist-packages/keras/backend/tensorflow_backend.py:422: The name tf.global_variables is deprecated. Please use tf.compat.v1.global_variables instead.\n",
      "\u001b[2m\u001b[36m(pid=7812)\u001b[0m \n",
      "+-------------------+--------+------------+--------+-----------------------+\n",
      "|       Model       | Metric |  Feature   | Neuron |         Score         |\n",
      "+-------------------+--------+------------+--------+-----------------------+\n",
      "| Models/boolean.h5 |  Corr  |  states_7  | (0,0)  |  0.34056969772108825  |\n",
      "| Models/boolean.h5 |  Corr  |  states_4  | (0,0)  |   0.5108451076628742  |\n",
      "| Models/boolean.h5 |  Corr  |  states_3  | (0,0)  |   0.4080477708620373  |\n",
      "| Models/boolean.h5 |  Corr  | states_3rd | (0,0)  |   0.4303037751549833  |\n",
      "| Models/boolean.h5 |  Corr  | states_4rd | (0,0)  |  0.05804268284880394  |\n",
      "| Models/boolean.h5 |  Corr  | states_7rd | (0,0)  |  -0.1200511083591369  |\n",
      "| Models/boolean.h5 |  Corr  |  states_7  | (0,1)  |  0.04836190930617687  |\n",
      "| Models/boolean.h5 |  Corr  |  states_4  | (0,1)  |  -0.05841510834432777 |\n",
      "| Models/boolean.h5 |  Corr  |  states_3  | (0,1)  |  -0.2041188792865357  |\n",
      "| Models/boolean.h5 |  Corr  | states_3rd | (0,1)  |  -0.3320637414944473  |\n",
      "| Models/boolean.h5 |  Corr  | states_4rd | (0,1)  |  -0.3762319851463987  |\n",
      "| Models/boolean.h5 |  Corr  | states_7rd | (0,1)  |  0.05333580665654359  |\n",
      "| Models/boolean.h5 |  Corr  |  states_7  | (0,2)  | -0.058012313859639494 |\n",
      "| Models/boolean.h5 |  Corr  |  states_4  | (0,2)  |  -0.23732040735222787 |\n",
      "| Models/boolean.h5 |  Corr  |  states_3  | (0,2)  |  -0.29294439045381654 |\n",
      "| Models/boolean.h5 |  Corr  | states_3rd | (0,2)  |  -0.36348571996274426 |\n",
      "| Models/boolean.h5 |  Corr  | states_4rd | (0,2)  |  -0.12711593826845316 |\n",
      "| Models/boolean.h5 |  Corr  | states_7rd | (0,2)  |  0.10468871624135812  |\n",
      "| Models/boolean.h5 |  Corr  |  states_7  | (0,3)  |  -0.1265589977496405  |\n",
      "| Models/boolean.h5 |  Corr  |  states_4  | (0,3)  |  -0.2217454443542483  |\n",
      "| Models/boolean.h5 |  Corr  |  states_3  | (0,3)  |  -0.3752386289031937  |\n",
      "| Models/boolean.h5 |  Corr  | states_3rd | (0,3)  |  -0.3219147942773094  |\n",
      "| Models/boolean.h5 |  Corr  | states_4rd | (0,3)  |  -0.15953111472271828 |\n",
      "| Models/boolean.h5 |  Corr  | states_7rd | (0,3)  |   0.0435869302127184  |\n",
      "+-------------------+--------+------------+--------+-----------------------+\n"
     ]
    }
   ],
   "source": [
    "import dni\n",
    "import importlib\n",
    "importlib.reload(dni)\n",
    "dni.inspect(clusterid = \"10.128.0.51:6379\",\n",
    "            AccessMethod= Scanner,\n",
    "            ActivationExt = Act_extract, Neuron = [[[0],[0,1,2,3]]], Models = [\"Models/boolean.h5\"],\n",
    "            FeaturesFunctions = features, FeatureNames = feature_names, FeatureExtractor = [F_Extractor]*6,\n",
    "            MetricExtractor = [corr_metric], MetricName = Metric_names)"
   ]
  },
  {
   "cell_type": "code",
   "execution_count": 329,
   "metadata": {},
   "outputs": [
    {
     "name": "stdout",
     "output_type": "stream",
     "text": [
      "\u001b[2m\u001b[36m(pid=7179)\u001b[0m Using TensorFlow backend.\n"
     ]
    },
    {
     "name": "stderr",
     "output_type": "stream",
     "text": [
      "2019-11-05 23:34:54,389\tWARNING worker.py:1619 -- WARNING: 12 PYTHON workers have been started. This could be a result of using a large number of actors, or it could be a consequence of using nested tasks (see https://github.com/ray-project/ray/issues/3644) for some a discussion of workarounds.\n",
      "2019-11-05 23:34:54,413\tWARNING worker.py:1619 -- WARNING: 13 PYTHON workers have been started. This could be a result of using a large number of actors, or it could be a consequence of using nested tasks (see https://github.com/ray-project/ray/issues/3644) for some a discussion of workarounds.\n"
     ]
    },
    {
     "name": "stdout",
     "output_type": "stream",
     "text": [
      "\u001b[2m\u001b[36m(pid=7179)\u001b[0m WARNING:tensorflow:From /usr/local/lib/python3.5/dist-packages/tensorflow_core/python/ops/resource_variable_ops.py:1630: calling BaseResourceVariable.__init__ (from tensorflow.python.ops.resource_variable_ops) with constraint is deprecated and will be removed in a future version.\n",
      "\u001b[2m\u001b[36m(pid=7179)\u001b[0m Instructions for updating:\n",
      "\u001b[2m\u001b[36m(pid=7179)\u001b[0m If using Keras pass *_constraint arguments to layers.\n",
      "\u001b[2m\u001b[36m(pid=7179)\u001b[0m 2019-11-05 23:34:55.685597: I tensorflow/core/platform/cpu_feature_guard.cc:145] This TensorFlow binary is optimized with Intel(R) MKL-DNN to use the following CPU instructions in performance critical operations:  AVX2 FMA\n",
      "\u001b[2m\u001b[36m(pid=7179)\u001b[0m To enable them in non-MKL-DNN operations, rebuild TensorFlow with the appropriate compiler flags.\n",
      "\u001b[2m\u001b[36m(pid=7179)\u001b[0m 2019-11-05 23:34:55.697433: I tensorflow/core/platform/profile_utils/cpu_utils.cc:94] CPU Frequency: 2300000000 Hz\n",
      "\u001b[2m\u001b[36m(pid=7179)\u001b[0m 2019-11-05 23:34:55.697720: I tensorflow/compiler/xla/service/service.cc:168] XLA service 0x555a0a9ad0b0 initialized for platform Host (this does not guarantee that XLA will be used). Devices:\n",
      "\u001b[2m\u001b[36m(pid=7179)\u001b[0m 2019-11-05 23:34:55.697743: I tensorflow/compiler/xla/service/service.cc:176]   StreamExecutor device (0): Host, Default Version\n",
      "\u001b[2m\u001b[36m(pid=7179)\u001b[0m 2019-11-05 23:34:55.698096: I tensorflow/core/common_runtime/process_util.cc:115] Creating new thread pool with default inter op setting: 2. Tune using inter_op_parallelism_threads for best performance.\n",
      "\u001b[2m\u001b[36m(pid=7179)\u001b[0m WARNING:tensorflow:From /usr/local/lib/python3.5/dist-packages/tensorflow_core/python/ops/nn_impl.py:183: where (from tensorflow.python.ops.array_ops) is deprecated and will be removed in a future version.\n",
      "\u001b[2m\u001b[36m(pid=7179)\u001b[0m Instructions for updating:\n",
      "\u001b[2m\u001b[36m(pid=7179)\u001b[0m Use tf.where in 2.0, which has the same broadcast rule as np.where\n",
      "\u001b[2m\u001b[36m(pid=7179)\u001b[0m WARNING:tensorflow:From /usr/local/lib/python3.5/dist-packages/keras/backend/tensorflow_backend.py:422: The name tf.global_variables is deprecated. Please use tf.compat.v1.global_variables instead.\n",
      "\u001b[2m\u001b[36m(pid=7179)\u001b[0m \n"
     ]
    }
   ],
   "source": [
    "Scanner\n",
    "\n",
    "Act_extract\n",
    "\n",
    "features\n",
    "feature_names\n",
    "Feature_functions = [F_Extractor]*6\n",
    "\n",
    "corr_metric\n",
    "\n",
    "\n",
    "layer = [[[0],[0,1,2,3]]]\n",
    "models = [\"Models/boolean.h5\"]\n",
    "\n",
    "Metric_names\n",
    "metric = [corr_metric]\n",
    "\n",
    "layers = []\n",
    "units = []\n",
    "for i in range(len(layer)):\n",
    "    layers.append(layer[i][0])\n",
    "    units.append(layer[i][1])\n",
    "ModelActor = Act_extract.remote(models[0],layers[0])\n",
    "FeatActor = [None]*len(feature_names)\n",
    "for i in range(len(feature_names)):\n",
    "    FeatActor[i] = Feature_functions[i].remote(features[i],feature_names[i])"
   ]
  },
  {
   "cell_type": "code",
   "execution_count": 330,
   "metadata": {},
   "outputs": [
    {
     "name": "stdout",
     "output_type": "stream",
     "text": [
      "\u001b[2m\u001b[36m(pid=7177)\u001b[0m python3: ../nptl/pthread_mutex_lock.c:352: __pthread_mutex_lock_full: Assertion `INTERNAL_SYSCALL_ERRNO (e, __err) != ESRCH || !robust' failed.\n",
      "+-------------------+--------+------------+--------+-----------------------+\n",
      "|       Model       | Metric |  Feature   | Neuron |         Score         |\n",
      "+-------------------+--------+------------+--------+-----------------------+\n",
      "| Models/boolean.h5 |  Corr  |  states_7  | (0,0)  |  0.34056969772108825  |\n",
      "| Models/boolean.h5 |  Corr  |  states_4  | (0,0)  |   0.5108451076628742  |\n",
      "| Models/boolean.h5 |  Corr  |  states_3  | (0,0)  |   0.4080477708620373  |\n",
      "| Models/boolean.h5 |  Corr  | states_3rd | (0,0)  |  0.24628394815099017  |\n",
      "| Models/boolean.h5 |  Corr  | states_4rd | (0,0)  |  0.10662299815667474  |\n",
      "| Models/boolean.h5 |  Corr  | states_7rd | (0,0)  |  -0.12809287518661072 |\n",
      "| Models/boolean.h5 |  Corr  |  states_7  | (0,1)  |  0.04836190930617687  |\n",
      "| Models/boolean.h5 |  Corr  |  states_4  | (0,1)  |  -0.05841510834432777 |\n",
      "| Models/boolean.h5 |  Corr  |  states_3  | (0,1)  |  -0.2041188792865357  |\n",
      "| Models/boolean.h5 |  Corr  | states_3rd | (0,1)  |  -0.10064580552480469 |\n",
      "| Models/boolean.h5 |  Corr  | states_4rd | (0,1)  |  0.16449663763706454  |\n",
      "| Models/boolean.h5 |  Corr  | states_7rd | (0,1)  |  0.10756699482070144  |\n",
      "| Models/boolean.h5 |  Corr  |  states_7  | (0,2)  | -0.058012313859639494 |\n",
      "| Models/boolean.h5 |  Corr  |  states_4  | (0,2)  |  -0.23732040735222787 |\n",
      "| Models/boolean.h5 |  Corr  |  states_3  | (0,2)  |  -0.29294439045381654 |\n",
      "| Models/boolean.h5 |  Corr  | states_3rd | (0,2)  |  -0.19069364606822928 |\n",
      "| Models/boolean.h5 |  Corr  | states_4rd | (0,2)  |  0.07061287810769673  |\n",
      "| Models/boolean.h5 |  Corr  | states_7rd | (0,2)  |  0.23828757511541787  |\n",
      "| Models/boolean.h5 |  Corr  |  states_7  | (0,3)  |  -0.1265589977496405  |\n",
      "| Models/boolean.h5 |  Corr  |  states_4  | (0,3)  |  -0.2217454443542483  |\n",
      "| Models/boolean.h5 |  Corr  |  states_3  | (0,3)  |  -0.3752386289031937  |\n",
      "| Models/boolean.h5 |  Corr  | states_3rd | (0,3)  |  -0.14290648726155694 |\n",
      "| Models/boolean.h5 |  Corr  | states_4rd | (0,3)  |  0.07358516660033532  |\n",
      "| Models/boolean.h5 |  Corr  | states_7rd | (0,3)  |   0.1776262347669936  |\n",
      "+-------------------+--------+------------+--------+-----------------------+\n"
     ]
    }
   ],
   "source": [
    "ScannerActor = Scanner.remote()\n",
    "act = []\n",
    "feature = [[] for i in range(len(feature_names))]\n",
    "while ray.get(ScannerActor.HasMore.remote()):\n",
    "    data = ScannerActor.Next.remote()\n",
    "    Ext = ModelActor.extract.remote(data,units[0])\n",
    "    act.append(ray.get(Ext))\n",
    "    for i in range(len(feature_names)):\n",
    "        feature[i].append(ray.get(FeatActor[i].extract.remote(data)))\n",
    "\n",
    "from prettytable import PrettyTable\n",
    "t = PrettyTable(['Model','Metric','Feature','Neuron','Score'])\n",
    "\n",
    "\n",
    "#for each model\n",
    "for i in range(len(models)):\n",
    "    # for each layer\n",
    "    for j in range(len(layers[i])):\n",
    "        # for each unit\n",
    "        for k in range(len(units[i])):\n",
    "            # for each feature\n",
    "            for l in range(len(feature_names)):\n",
    "                m = mmm.extract.remote(input1[:,j,:,:,k],input2[l])\n",
    "                t.add_row([models[i],Metric_names[j],feature_names[l],\"(\"+str(layers[i][j])+\",\"+str(units[i][k])+\")\",ray.get(m)])\n",
    "\n",
    "print(t)"
   ]
  },
  {
   "cell_type": "code",
   "execution_count": 256,
   "metadata": {},
   "outputs": [
    {
     "name": "stderr",
     "output_type": "stream",
     "text": [
      "2019-11-05 22:43:45,104\tWARNING actor.py:583 -- Actor is garbage collected in the wrong driver. Actor id = ActorID(33908ead19000000), class name = Act_extract.\n"
     ]
    },
    {
     "name": "stdout",
     "output_type": "stream",
     "text": [
      "\u001b[2m\u001b[36m(pid=6576)\u001b[0m Using TensorFlow backend.\n",
      "\u001b[2m\u001b[36m(pid=6576)\u001b[0m WARNING:tensorflow:From /usr/local/lib/python3.5/dist-packages/tensorflow_core/python/ops/resource_variable_ops.py:1630: calling BaseResourceVariable.__init__ (from tensorflow.python.ops.resource_variable_ops) with constraint is deprecated and will be removed in a future version.\n",
      "\u001b[2m\u001b[36m(pid=6576)\u001b[0m Instructions for updating:\n",
      "\u001b[2m\u001b[36m(pid=6576)\u001b[0m If using Keras pass *_constraint arguments to layers.\n",
      "\u001b[2m\u001b[36m(pid=6576)\u001b[0m 2019-11-05 22:43:48.599817: I tensorflow/core/platform/cpu_feature_guard.cc:145] This TensorFlow binary is optimized with Intel(R) MKL-DNN to use the following CPU instructions in performance critical operations:  AVX2 FMA\n",
      "\u001b[2m\u001b[36m(pid=6576)\u001b[0m To enable them in non-MKL-DNN operations, rebuild TensorFlow with the appropriate compiler flags.\n",
      "\u001b[2m\u001b[36m(pid=6576)\u001b[0m 2019-11-05 22:43:48.607827: I tensorflow/core/platform/profile_utils/cpu_utils.cc:94] CPU Frequency: 2300000000 Hz\n",
      "\u001b[2m\u001b[36m(pid=6576)\u001b[0m 2019-11-05 22:43:48.608223: I tensorflow/compiler/xla/service/service.cc:168] XLA service 0x55c015219670 initialized for platform Host (this does not guarantee that XLA will be used). Devices:\n",
      "\u001b[2m\u001b[36m(pid=6576)\u001b[0m 2019-11-05 22:43:48.608293: I tensorflow/compiler/xla/service/service.cc:176]   StreamExecutor device (0): Host, Default Version\n",
      "\u001b[2m\u001b[36m(pid=6576)\u001b[0m 2019-11-05 22:43:48.610391: I tensorflow/core/common_runtime/process_util.cc:115] Creating new thread pool with default inter op setting: 2. Tune using inter_op_parallelism_threads for best performance.\n",
      "\u001b[2m\u001b[36m(pid=6576)\u001b[0m WARNING:tensorflow:From /usr/local/lib/python3.5/dist-packages/tensorflow_core/python/ops/nn_impl.py:183: where (from tensorflow.python.ops.array_ops) is deprecated and will be removed in a future version.\n",
      "\u001b[2m\u001b[36m(pid=6576)\u001b[0m Instructions for updating:\n",
      "\u001b[2m\u001b[36m(pid=6576)\u001b[0m Use tf.where in 2.0, which has the same broadcast rule as np.where\n",
      "\u001b[2m\u001b[36m(pid=6576)\u001b[0m WARNING:tensorflow:From /usr/local/lib/python3.5/dist-packages/keras/backend/tensorflow_backend.py:422: The name tf.global_variables is deprecated. Please use tf.compat.v1.global_variables instead.\n",
      "\u001b[2m\u001b[36m(pid=6576)\u001b[0m \n"
     ]
    }
   ],
   "source": [
    "\n",
    "# Ext = ModelActor.extract.remote(A,units[0])\n",
    "# act = ray.get(Ext)\n",
    "# act[0].shape"
   ]
  },
  {
   "cell_type": "code",
   "execution_count": 273,
   "metadata": {},
   "outputs": [],
   "source": []
  },
  {
   "cell_type": "code",
   "execution_count": 301,
   "metadata": {},
   "outputs": [
    {
     "name": "stdout",
     "output_type": "stream",
     "text": [
      "128\n",
      "128\n",
      "128\n",
      "128\n",
      "128\n",
      "128\n"
     ]
    }
   ],
   "source": [
    "for i in range(len(feature_names)):\n",
    "        print(len(ray.get(FeatActor[i].extract.remote(A))))\n",
    "    "
   ]
  },
  {
   "cell_type": "code",
   "execution_count": 310,
   "metadata": {},
   "outputs": [],
   "source": [
    "feature = [[] for i in range(len(feature_names))]"
   ]
  },
  {
   "cell_type": "code",
   "execution_count": 311,
   "metadata": {},
   "outputs": [],
   "source": [
    "feature[0].append(1)"
   ]
  },
  {
   "cell_type": "code",
   "execution_count": 312,
   "metadata": {},
   "outputs": [
    {
     "data": {
      "text/plain": [
       "[[1], [], [], [], [], []]"
      ]
     },
     "execution_count": 312,
     "metadata": {},
     "output_type": "execute_result"
    }
   ],
   "source": [
    "feature"
   ]
  },
  {
   "cell_type": "code",
   "execution_count": 328,
   "metadata": {},
   "outputs": [
    {
     "name": "stdout",
     "output_type": "stream",
     "text": [
      "+-------------------+--------+------------+--------+-----------------------+\n",
      "|       Model       | Metric |  Feature   | Neuron |         Score         |\n",
      "+-------------------+--------+------------+--------+-----------------------+\n",
      "| Models/boolean.h5 |  Corr  |  states_7  | (0,0)  |  0.34056969772108825  |\n",
      "| Models/boolean.h5 |  Corr  |  states_4  | (0,0)  |   0.5108451076628742  |\n",
      "| Models/boolean.h5 |  Corr  |  states_3  | (0,0)  |   0.4080477708620373  |\n",
      "| Models/boolean.h5 |  Corr  | states_3rd | (0,0)  |  0.24628394815099017  |\n",
      "| Models/boolean.h5 |  Corr  | states_4rd | (0,0)  |  0.10662299815667474  |\n",
      "| Models/boolean.h5 |  Corr  | states_7rd | (0,0)  |  -0.12809287518661072 |\n",
      "| Models/boolean.h5 |  Corr  |  states_7  | (0,1)  |  0.04836190930617687  |\n",
      "| Models/boolean.h5 |  Corr  |  states_4  | (0,1)  |  -0.05841510834432777 |\n",
      "| Models/boolean.h5 |  Corr  |  states_3  | (0,1)  |  -0.2041188792865357  |\n",
      "| Models/boolean.h5 |  Corr  | states_3rd | (0,1)  |  -0.10064580552480469 |\n",
      "| Models/boolean.h5 |  Corr  | states_4rd | (0,1)  |  0.16449663763706454  |\n",
      "| Models/boolean.h5 |  Corr  | states_7rd | (0,1)  |  0.10756699482070144  |\n",
      "| Models/boolean.h5 |  Corr  |  states_7  | (0,2)  | -0.058012313859639494 |\n",
      "| Models/boolean.h5 |  Corr  |  states_4  | (0,2)  |  -0.23732040735222787 |\n",
      "| Models/boolean.h5 |  Corr  |  states_3  | (0,2)  |  -0.29294439045381654 |\n",
      "| Models/boolean.h5 |  Corr  | states_3rd | (0,2)  |  -0.19069364606822928 |\n",
      "| Models/boolean.h5 |  Corr  | states_4rd | (0,2)  |  0.07061287810769673  |\n",
      "| Models/boolean.h5 |  Corr  | states_7rd | (0,2)  |  0.23828757511541787  |\n",
      "| Models/boolean.h5 |  Corr  |  states_7  | (0,3)  |  -0.1265589977496405  |\n",
      "| Models/boolean.h5 |  Corr  |  states_4  | (0,3)  |  -0.2217454443542483  |\n",
      "| Models/boolean.h5 |  Corr  |  states_3  | (0,3)  |  -0.3752386289031937  |\n",
      "| Models/boolean.h5 |  Corr  | states_3rd | (0,3)  |  -0.14290648726155694 |\n",
      "| Models/boolean.h5 |  Corr  | states_4rd | (0,3)  |  0.07358516660033532  |\n",
      "| Models/boolean.h5 |  Corr  | states_7rd | (0,3)  |   0.1776262347669936  |\n",
      "+-------------------+--------+------------+--------+-----------------------+\n"
     ]
    }
   ],
   "source": []
  },
  {
   "cell_type": "code",
   "execution_count": 314,
   "metadata": {},
   "outputs": [
    {
     "name": "stdout",
     "output_type": "stream",
     "text": [
      "(39, 1, 128, 50, 4)\n",
      "(6, 39, 128, 50)\n"
     ]
    }
   ],
   "source": [
    "input1 = np.array(act)\n",
    "input2 = np.array(feature)\n",
    "print(input1.shape)\n",
    "print(input2.shape)"
   ]
  },
  {
   "cell_type": "code",
   "execution_count": 284,
   "metadata": {},
   "outputs": [
    {
     "data": {
      "text/plain": [
       "228"
      ]
     },
     "execution_count": 284,
     "metadata": {},
     "output_type": "execute_result"
    }
   ],
   "source": [
    "len(feature[0])"
   ]
  },
  {
   "cell_type": "code",
   "execution_count": 297,
   "metadata": {},
   "outputs": [
    {
     "data": {
      "text/plain": [
       "234"
      ]
     },
     "execution_count": 297,
     "metadata": {},
     "output_type": "execute_result"
    }
   ],
   "source": [
    "len(feature[3])"
   ]
  },
  {
   "cell_type": "code",
   "execution_count": 318,
   "metadata": {},
   "outputs": [
    {
     "data": {
      "text/plain": [
       "['Models/boolean.h5']"
      ]
     },
     "execution_count": 318,
     "metadata": {},
     "output_type": "execute_result"
    }
   ],
   "source": [
    "models"
   ]
  },
  {
   "cell_type": "code",
   "execution_count": null,
   "metadata": {},
   "outputs": [],
   "source": []
  },
  {
   "cell_type": "code",
   "execution_count": 325,
   "metadata": {},
   "outputs": [
    {
     "name": "stdout",
     "output_type": "stream",
     "text": [
      "+-------+--------+---------+--------+-------+\n",
      "| Model | Metric | Feature | Neuron | Score |\n",
      "+-------+--------+---------+--------+-------+\n",
      "+-------+--------+---------+--------+-------+\n"
     ]
    }
   ],
   "source": []
  },
  {
   "cell_type": "code",
   "execution_count": 326,
   "metadata": {},
   "outputs": [
    {
     "name": "stdout",
     "output_type": "stream",
     "text": [
      "+-------------------+----------+------------+--------+-----------------------+\n",
      "|       Model       |  Metric  |  Feature   | Neuron |         Score         |\n",
      "+-------------------+----------+------------+--------+-----------------------+\n",
      "| Models/boolean.h5 | Abs_Corr |  states_7  | (0,0)  |  0.34056969772108825  |\n",
      "| Models/boolean.h5 | Abs_Corr |  states_4  | (0,0)  |   0.5108451076628742  |\n",
      "| Models/boolean.h5 | Abs_Corr |  states_3  | (0,0)  |   0.4080477708620373  |\n",
      "| Models/boolean.h5 | Abs_Corr | states_3rd | (0,0)  |  0.24628394815099017  |\n",
      "| Models/boolean.h5 | Abs_Corr | states_4rd | (0,0)  |  0.10662299815667474  |\n",
      "| Models/boolean.h5 | Abs_Corr | states_7rd | (0,0)  |  -0.12809287518661072 |\n",
      "| Models/boolean.h5 | Abs_Corr |  states_7  | (0,1)  |  0.04836190930617687  |\n",
      "| Models/boolean.h5 | Abs_Corr |  states_4  | (0,1)  |  -0.05841510834432777 |\n",
      "| Models/boolean.h5 | Abs_Corr |  states_3  | (0,1)  |  -0.2041188792865357  |\n",
      "| Models/boolean.h5 | Abs_Corr | states_3rd | (0,1)  |  -0.10064580552480469 |\n",
      "| Models/boolean.h5 | Abs_Corr | states_4rd | (0,1)  |  0.16449663763706454  |\n",
      "| Models/boolean.h5 | Abs_Corr | states_7rd | (0,1)  |  0.10756699482070144  |\n",
      "| Models/boolean.h5 | Abs_Corr |  states_7  | (0,2)  | -0.058012313859639494 |\n",
      "| Models/boolean.h5 | Abs_Corr |  states_4  | (0,2)  |  -0.23732040735222787 |\n",
      "| Models/boolean.h5 | Abs_Corr |  states_3  | (0,2)  |  -0.29294439045381654 |\n",
      "| Models/boolean.h5 | Abs_Corr | states_3rd | (0,2)  |  -0.19069364606822928 |\n",
      "| Models/boolean.h5 | Abs_Corr | states_4rd | (0,2)  |  0.07061287810769673  |\n",
      "| Models/boolean.h5 | Abs_Corr | states_7rd | (0,2)  |  0.23828757511541787  |\n",
      "| Models/boolean.h5 | Abs_Corr |  states_7  | (0,3)  |  -0.1265589977496405  |\n",
      "| Models/boolean.h5 | Abs_Corr |  states_4  | (0,3)  |  -0.2217454443542483  |\n",
      "| Models/boolean.h5 | Abs_Corr |  states_3  | (0,3)  |  -0.3752386289031937  |\n",
      "| Models/boolean.h5 | Abs_Corr | states_3rd | (0,3)  |  -0.14290648726155694 |\n",
      "| Models/boolean.h5 | Abs_Corr | states_4rd | (0,3)  |  0.07358516660033532  |\n",
      "| Models/boolean.h5 | Abs_Corr | states_7rd | (0,3)  |   0.1776262347669936  |\n",
      "+-------------------+----------+------------+--------+-----------------------+\n"
     ]
    }
   ],
   "source": []
  },
  {
   "cell_type": "code",
   "execution_count": 265,
   "metadata": {},
   "outputs": [
    {
     "data": {
      "text/plain": [
       "(36, 128, 50)"
      ]
     },
     "execution_count": 265,
     "metadata": {},
     "output_type": "execute_result"
    }
   ],
   "source": [
    "input1[:,0,:,:,0].shape"
   ]
  },
  {
   "cell_type": "code",
   "execution_count": 323,
   "metadata": {},
   "outputs": [
    {
     "name": "stdout",
     "output_type": "stream",
     "text": [
      "+-------+--------+---------+--------+-------+\n",
      "| Model | Metric | Feature | Neuron | Score |\n",
      "+-------+--------+---------+--------+-------+\n",
      "|   0   |   0    |    0    |   0    |   0   |\n",
      "+-------+--------+---------+--------+-------+\n"
     ]
    }
   ],
   "source": []
  },
  {
   "cell_type": "code",
   "execution_count": 246,
   "metadata": {},
   "outputs": [],
   "source": [
    "k = np.array(act)"
   ]
  },
  {
   "cell_type": "code",
   "execution_count": 247,
   "metadata": {},
   "outputs": [
    {
     "data": {
      "text/plain": [
       "(37, 1, 128, 50, 4)"
      ]
     },
     "execution_count": 247,
     "metadata": {},
     "output_type": "execute_result"
    }
   ],
   "source": [
    "k.shape"
   ]
  },
  {
   "cell_type": "code",
   "execution_count": null,
   "metadata": {},
   "outputs": [],
   "source": [
    "k[:,0,:,:,0]"
   ]
  },
  {
   "cell_type": "code",
   "execution_count": 204,
   "metadata": {},
   "outputs": [
    {
     "data": {
      "text/plain": [
       "37"
      ]
     },
     "execution_count": 204,
     "metadata": {},
     "output_type": "execute_result"
    }
   ],
   "source": [
    "len(feature)"
   ]
  },
  {
   "cell_type": "code",
   "execution_count": 248,
   "metadata": {},
   "outputs": [
    {
     "data": {
      "text/plain": [
       "(4736, 50)"
      ]
     },
     "execution_count": 248,
     "metadata": {},
     "output_type": "execute_result"
    }
   ],
   "source": [
    "np.concatenate(k[:,0,:,:,0]).shape"
   ]
  },
  {
   "cell_type": "code",
   "execution_count": 222,
   "metadata": {},
   "outputs": [
    {
     "ename": "SyntaxError",
     "evalue": "invalid syntax (<ipython-input-222-6445bb649d0b>, line 1)",
     "output_type": "error",
     "traceback": [
      "\u001b[0;36m  File \u001b[0;32m\"<ipython-input-222-6445bb649d0b>\"\u001b[0;36m, line \u001b[0;32m1\u001b[0m\n\u001b[0;31m    act[][0][:,:,0]\u001b[0m\n\u001b[0m        ^\u001b[0m\n\u001b[0;31mSyntaxError\u001b[0m\u001b[0;31m:\u001b[0m invalid syntax\n"
     ]
    }
   ],
   "source": [
    "act[][0][:,:,0]"
   ]
  },
  {
   "cell_type": "code",
   "execution_count": 253,
   "metadata": {},
   "outputs": [
    {
     "ename": "RayTaskError(ValueError)",
     "evalue": "\u001b[36mray_worker\u001b[39m (pid=6540, host=instance-14)\n  File \"/home/zh2408/metric.py\", line 46, in extract\n    return self.metric(input1,input2)[1,0]\n  File \"<__array_function__ internals>\", line 6, in corrcoef\n  File \"/usr/local/lib/python3.5/dist-packages/numpy/lib/function_base.py\", line 2526, in corrcoef\n    c = cov(x, y, rowvar)\n  File \"<__array_function__ internals>\", line 6, in cov\n  File \"/usr/local/lib/python3.5/dist-packages/numpy/lib/function_base.py\", line 2390, in cov\n    X = np.concatenate((X, y), axis=0)\n  File \"<__array_function__ internals>\", line 6, in concatenate\nValueError: all the input array dimensions for the concatenation axis must match exactly, but along dimension 1, the array at index 0 has size 236800 and the array at index 1 has size 37",
     "output_type": "error",
     "traceback": [
      "\u001b[0;31m---------------------------------------------------------------------------\u001b[0m",
      "\u001b[0;31mRayTaskError(ValueError)\u001b[0m                  Traceback (most recent call last)",
      "\u001b[0;32m<ipython-input-253-df03824fc498>\u001b[0m in \u001b[0;36m<module>\u001b[0;34m\u001b[0m\n\u001b[1;32m      1\u001b[0m \u001b[0mm\u001b[0m \u001b[0;34m=\u001b[0m \u001b[0mmmm\u001b[0m\u001b[0;34m.\u001b[0m\u001b[0mextract\u001b[0m\u001b[0;34m.\u001b[0m\u001b[0mremote\u001b[0m\u001b[0;34m(\u001b[0m\u001b[0mk\u001b[0m\u001b[0;34m[\u001b[0m\u001b[0;34m:\u001b[0m\u001b[0;34m,\u001b[0m\u001b[0;36m0\u001b[0m\u001b[0;34m,\u001b[0m\u001b[0;34m:\u001b[0m\u001b[0;34m,\u001b[0m\u001b[0;34m:\u001b[0m\u001b[0;34m,\u001b[0m\u001b[0;36m0\u001b[0m\u001b[0;34m]\u001b[0m\u001b[0;34m,\u001b[0m\u001b[0mnp\u001b[0m\u001b[0;34m.\u001b[0m\u001b[0marray\u001b[0m\u001b[0;34m(\u001b[0m\u001b[0mfeature\u001b[0m\u001b[0;34m)\u001b[0m\u001b[0;34m)\u001b[0m\u001b[0;34m\u001b[0m\u001b[0m\n\u001b[0;32m----> 2\u001b[0;31m \u001b[0mray\u001b[0m\u001b[0;34m.\u001b[0m\u001b[0mget\u001b[0m\u001b[0;34m(\u001b[0m\u001b[0mm\u001b[0m\u001b[0;34m)\u001b[0m\u001b[0;34m\u001b[0m\u001b[0m\n\u001b[0m",
      "\u001b[0;32m/usr/local/lib/python3.5/dist-packages/ray/worker.py\u001b[0m in \u001b[0;36mget\u001b[0;34m(object_ids)\u001b[0m\n\u001b[1;32m   2119\u001b[0m                     \u001b[0mworker\u001b[0m\u001b[0;34m.\u001b[0m\u001b[0mdump_object_store_memory_usage\u001b[0m\u001b[0;34m(\u001b[0m\u001b[0;34m)\u001b[0m\u001b[0;34m\u001b[0m\u001b[0m\n\u001b[1;32m   2120\u001b[0m                 \u001b[0;32mif\u001b[0m \u001b[0misinstance\u001b[0m\u001b[0;34m(\u001b[0m\u001b[0mvalue\u001b[0m\u001b[0;34m,\u001b[0m \u001b[0mRayTaskError\u001b[0m\u001b[0;34m)\u001b[0m\u001b[0;34m:\u001b[0m\u001b[0;34m\u001b[0m\u001b[0m\n\u001b[0;32m-> 2121\u001b[0;31m                     \u001b[0;32mraise\u001b[0m \u001b[0mvalue\u001b[0m\u001b[0;34m.\u001b[0m\u001b[0mas_instanceof_cause\u001b[0m\u001b[0;34m(\u001b[0m\u001b[0;34m)\u001b[0m\u001b[0;34m\u001b[0m\u001b[0m\n\u001b[0m\u001b[1;32m   2122\u001b[0m                 \u001b[0;32melse\u001b[0m\u001b[0;34m:\u001b[0m\u001b[0;34m\u001b[0m\u001b[0m\n\u001b[1;32m   2123\u001b[0m                     \u001b[0;32mraise\u001b[0m \u001b[0mvalue\u001b[0m\u001b[0;34m\u001b[0m\u001b[0m\n",
      "\u001b[0;31mRayTaskError(ValueError)\u001b[0m: \u001b[36mray_worker\u001b[39m (pid=6540, host=instance-14)\n  File \"/home/zh2408/metric.py\", line 46, in extract\n    return self.metric(input1,input2)[1,0]\n  File \"<__array_function__ internals>\", line 6, in corrcoef\n  File \"/usr/local/lib/python3.5/dist-packages/numpy/lib/function_base.py\", line 2526, in corrcoef\n    c = cov(x, y, rowvar)\n  File \"<__array_function__ internals>\", line 6, in cov\n  File \"/usr/local/lib/python3.5/dist-packages/numpy/lib/function_base.py\", line 2390, in cov\n    X = np.concatenate((X, y), axis=0)\n  File \"<__array_function__ internals>\", line 6, in concatenate\nValueError: all the input array dimensions for the concatenation axis must match exactly, but along dimension 1, the array at index 0 has size 236800 and the array at index 1 has size 37"
     ]
    }
   ],
   "source": []
  },
  {
   "cell_type": "code",
   "execution_count": 214,
   "metadata": {},
   "outputs": [
    {
     "ename": "AttributeError",
     "evalue": "'list' object has no attribute 'ndim'",
     "output_type": "error",
     "traceback": [
      "\u001b[0;31m---------------------------------------------------------------------------\u001b[0m",
      "\u001b[0;31mAttributeError\u001b[0m                            Traceback (most recent call last)",
      "\u001b[0;32m<ipython-input-214-50c2e5f2a9f6>\u001b[0m in \u001b[0;36m<module>\u001b[0;34m\u001b[0m\n\u001b[1;32m      1\u001b[0m \u001b[0minput2\u001b[0m \u001b[0;34m=\u001b[0m \u001b[0mfeature\u001b[0m\u001b[0;34m\u001b[0m\u001b[0m\n\u001b[0;32m----> 2\u001b[0;31m \u001b[0;32mwhile\u001b[0m \u001b[0;34m(\u001b[0m\u001b[0;34m(\u001b[0m\u001b[0mtype\u001b[0m\u001b[0;34m(\u001b[0m\u001b[0minput2\u001b[0m\u001b[0;34m)\u001b[0m \u001b[0;32mis\u001b[0m \u001b[0mlist\u001b[0m\u001b[0;34m)\u001b[0m \u001b[0;32mand\u001b[0m \u001b[0minput2\u001b[0m\u001b[0;34m[\u001b[0m\u001b[0;36m0\u001b[0m\u001b[0;34m]\u001b[0m \u001b[0;32mis\u001b[0m \u001b[0mlist\u001b[0m\u001b[0;34m)\u001b[0m \u001b[0;32mor\u001b[0m \u001b[0minput2\u001b[0m\u001b[0;34m.\u001b[0m\u001b[0mndim\u001b[0m \u001b[0;34m!=\u001b[0m \u001b[0;36m1\u001b[0m\u001b[0;34m:\u001b[0m\u001b[0;34m\u001b[0m\u001b[0m\n\u001b[0m\u001b[1;32m      3\u001b[0m     \u001b[0minput2\u001b[0m \u001b[0;34m=\u001b[0m \u001b[0mnp\u001b[0m\u001b[0;34m.\u001b[0m\u001b[0mconcatenate\u001b[0m\u001b[0;34m(\u001b[0m\u001b[0minput2\u001b[0m\u001b[0;34m)\u001b[0m\u001b[0;34m\u001b[0m\u001b[0m\n",
      "\u001b[0;31mAttributeError\u001b[0m: 'list' object has no attribute 'ndim'"
     ]
    }
   ],
   "source": [
    "input2 = feature\n",
    "while ((type(input2) is list) and input2[0] is list) or input2.ndim != 1:\n",
    "    input2 = np.concatenate(input2)"
   ]
  },
  {
   "cell_type": "code",
   "execution_count": 213,
   "metadata": {},
   "outputs": [
    {
     "data": {
      "text/plain": [
       "[ObjectID(96b1faa5763739c7e2c81800000000c001000000),\n",
       " ObjectID(8ab71f63c3ef39c7e2c81800000000c001000000),\n",
       " ObjectID(8b6778e5ad6f39c7e2c81800000000c001000000),\n",
       " ObjectID(524b3a863f4739c7e2c81800000000c001000000),\n",
       " ObjectID(446b4c37009739c7e2c81800000000c001000000),\n",
       " ObjectID(583ae901fb5939c7e2c81800000000c001000000),\n",
       " ObjectID(3a4c3c75519b39c7e2c81800000000c001000000),\n",
       " ObjectID(803a79754fff39c7e2c81800000000c001000000),\n",
       " ObjectID(34d4ab5d465a39c7e2c81800000000c001000000),\n",
       " ObjectID(ff5099304dfc39c7e2c81800000000c001000000),\n",
       " ObjectID(2382b5e8700839c7e2c81800000000c001000000),\n",
       " ObjectID(c5c0f6c29f6139c7e2c81800000000c001000000),\n",
       " ObjectID(7b7345f95f9d39c7e2c81800000000c001000000),\n",
       " ObjectID(5be243e6a15b39c7e2c81800000000c001000000),\n",
       " ObjectID(e53c098f3b1339c7e2c81800000000c001000000),\n",
       " ObjectID(a9db0142463b39c7e2c81800000000c001000000),\n",
       " ObjectID(33b21451fac039c7e2c81800000000c001000000),\n",
       " ObjectID(6c9974a3479639c7e2c81800000000c001000000),\n",
       " ObjectID(e2ae7931378139c7e2c81800000000c001000000),\n",
       " ObjectID(3916b5f9435339c7e2c81800000000c001000000),\n",
       " ObjectID(bfa7dafb126a39c7e2c81800000000c001000000),\n",
       " ObjectID(0b49205e309839c7e2c81800000000c001000000),\n",
       " ObjectID(58ae461a88ef39c7e2c81800000000c001000000),\n",
       " ObjectID(35afee59b6c539c7e2c81800000000c001000000),\n",
       " ObjectID(68618272068339c7e2c81800000000c001000000),\n",
       " ObjectID(30092f99e5c639c7e2c81800000000c001000000),\n",
       " ObjectID(e0ea0c061ef539c7e2c81800000000c001000000),\n",
       " ObjectID(5ca04550feea39c7e2c81800000000c001000000),\n",
       " ObjectID(a75992ac70ff39c7e2c81800000000c001000000),\n",
       " ObjectID(840195129dde39c7e2c81800000000c001000000),\n",
       " ObjectID(809dfd37ffa939c7e2c81800000000c001000000),\n",
       " ObjectID(7074c633f24439c7e2c81800000000c001000000),\n",
       " ObjectID(c489678609b739c7e2c81800000000c001000000),\n",
       " ObjectID(23850522d8cd39c7e2c81800000000c001000000),\n",
       " ObjectID(e8c702c6a40239c7e2c81800000000c001000000),\n",
       " ObjectID(046eba3f8d5e39c7e2c81800000000c001000000),\n",
       " ObjectID(ea4a57b8b2ba39c7e2c81800000000c001000000)]"
      ]
     },
     "execution_count": 213,
     "metadata": {},
     "output_type": "execute_result"
    }
   ],
   "source": [
    "input2"
   ]
  },
  {
   "cell_type": "code",
   "execution_count": 159,
   "metadata": {},
   "outputs": [
    {
     "name": "stderr",
     "output_type": "stream",
     "text": [
      "2019-11-05 22:09:42,713\tWARNING actor.py:583 -- Actor is garbage collected in the wrong driver. Actor id = ActorID(fe5d89d614000000), class name = F_Extractor.\n"
     ]
    }
   ],
   "source": [
    "FeatActor = F_Extractor.remote(features[0],feature_names[0])\n",
    "feature = ray.get(FeatActor.extract.remote(A))"
   ]
  },
  {
   "cell_type": "code",
   "execution_count": 252,
   "metadata": {},
   "outputs": [],
   "source": [
    "mmm = corr_metric.remote()"
   ]
  },
  {
   "cell_type": "code",
   "execution_count": 196,
   "metadata": {},
   "outputs": [
    {
     "data": {
      "text/plain": [
       "0.31771260150364106"
      ]
     },
     "execution_count": 196,
     "metadata": {},
     "output_type": "execute_result"
    }
   ],
   "source": [
    "m = mmm.extract.remote([feature,feature],[act[0][:,:,0],act[0][:,:,0]])\n",
    "ray.get(m)"
   ]
  },
  {
   "cell_type": "code",
   "execution_count": 169,
   "metadata": {},
   "outputs": [
    {
     "data": {
      "text/plain": [
       "(128, 50)"
      ]
     },
     "execution_count": 169,
     "metadata": {},
     "output_type": "execute_result"
    }
   ],
   "source": [
    "act[0][:,:,0].shape"
   ]
  },
  {
   "cell_type": "code",
   "execution_count": null,
   "metadata": {},
   "outputs": [],
   "source": []
  },
  {
   "cell_type": "code",
   "execution_count": 188,
   "metadata": {},
   "outputs": [
    {
     "data": {
      "text/plain": [
       "True"
      ]
     },
     "execution_count": 188,
     "metadata": {},
     "output_type": "execute_result"
    }
   ],
   "source": [
    "type([1,2]) is list"
   ]
  },
  {
   "cell_type": "code",
   "execution_count": 189,
   "metadata": {},
   "outputs": [
    {
     "data": {
      "text/plain": [
       "False"
      ]
     },
     "execution_count": 189,
     "metadata": {},
     "output_type": "execute_result"
    }
   ],
   "source": [
    "np.concatenate([act[0][:,:,0]]).ndim == 1"
   ]
  },
  {
   "cell_type": "code",
   "execution_count": 190,
   "metadata": {},
   "outputs": [
    {
     "data": {
      "text/plain": [
       "True"
      ]
     },
     "execution_count": 190,
     "metadata": {},
     "output_type": "execute_result"
    }
   ],
   "source": [
    "np.concatenate(act[0][:,:,0]).ndim == 1"
   ]
  },
  {
   "cell_type": "code",
   "execution_count": 146,
   "metadata": {},
   "outputs": [
    {
     "data": {
      "text/plain": [
       "(6400,)"
      ]
     },
     "execution_count": 146,
     "metadata": {},
     "output_type": "execute_result"
    },
    {
     "name": "stderr",
     "output_type": "stream",
     "text": [
      "2019-11-05 22:05:33,119\tERROR worker.py:1559 -- Possible unhandled error from worker: \u001b[36mray_worker\u001b[39m (pid=5988, host=instance-14)\n",
      "  File \"/home/zh2408/metric.py\", line 42, in extract\n",
      "    return self.metric(input1,input2)[1,0]\n",
      "  File \"<__array_function__ internals>\", line 6, in corrcoef\n",
      "  File \"/usr/local/lib/python3.5/dist-packages/numpy/lib/function_base.py\", line 2526, in corrcoef\n",
      "    c = cov(x, y, rowvar)\n",
      "  File \"<__array_function__ internals>\", line 6, in cov\n",
      "  File \"/usr/local/lib/python3.5/dist-packages/numpy/lib/function_base.py\", line 2390, in cov\n",
      "    X = np.concatenate((X, y), axis=0)\n",
      "  File \"<__array_function__ internals>\", line 6, in concatenate\n",
      "ValueError: all the input array dimensions for the concatenation axis must match exactly, but along dimension 1, the array at index 0 has size 6400 and the array at index 1 has size 50\n"
     ]
    }
   ],
   "source": [
    "input1 = np.concatenate(act[0][:,:,0])\n",
    "input1.shape"
   ]
  },
  {
   "cell_type": "code",
   "execution_count": 123,
   "metadata": {},
   "outputs": [
    {
     "name": "stderr",
     "output_type": "stream",
     "text": [
      "2019-11-05 21:54:34,251\tWARNING actor.py:583 -- Actor is garbage collected in the wrong driver. Actor id = ActorID(d323783b13000000), class name = Act_extract.\n"
     ]
    },
    {
     "name": "stdout",
     "output_type": "stream",
     "text": [
      "\u001b[2m\u001b[36m(pid=5689)\u001b[0m Using TensorFlow backend.\n",
      "\u001b[2m\u001b[36m(pid=5689)\u001b[0m WARNING:tensorflow:From /usr/local/lib/python3.5/dist-packages/tensorflow_core/python/ops/resource_variable_ops.py:1630: calling BaseResourceVariable.__init__ (from tensorflow.python.ops.resource_variable_ops) with constraint is deprecated and will be removed in a future version.\n",
      "\u001b[2m\u001b[36m(pid=5689)\u001b[0m Instructions for updating:\n",
      "\u001b[2m\u001b[36m(pid=5689)\u001b[0m If using Keras pass *_constraint arguments to layers.\n",
      "\u001b[2m\u001b[36m(pid=5689)\u001b[0m 2019-11-05 21:54:36.916232: I tensorflow/core/platform/cpu_feature_guard.cc:145] This TensorFlow binary is optimized with Intel(R) MKL-DNN to use the following CPU instructions in performance critical operations:  AVX2 FMA\n",
      "\u001b[2m\u001b[36m(pid=5689)\u001b[0m To enable them in non-MKL-DNN operations, rebuild TensorFlow with the appropriate compiler flags.\n",
      "\u001b[2m\u001b[36m(pid=5689)\u001b[0m 2019-11-05 21:54:36.923927: I tensorflow/core/platform/profile_utils/cpu_utils.cc:94] CPU Frequency: 2300000000 Hz\n",
      "\u001b[2m\u001b[36m(pid=5689)\u001b[0m 2019-11-05 21:54:36.924346: I tensorflow/compiler/xla/service/service.cc:168] XLA service 0x5571c9cf5ba0 initialized for platform Host (this does not guarantee that XLA will be used). Devices:\n",
      "\u001b[2m\u001b[36m(pid=5689)\u001b[0m 2019-11-05 21:54:36.924402: I tensorflow/compiler/xla/service/service.cc:176]   StreamExecutor device (0): Host, Default Version\n",
      "\u001b[2m\u001b[36m(pid=5689)\u001b[0m 2019-11-05 21:54:36.924751: I tensorflow/core/common_runtime/process_util.cc:115] Creating new thread pool with default inter op setting: 2. Tune using inter_op_parallelism_threads for best performance.\n",
      "\u001b[2m\u001b[36m(pid=5689)\u001b[0m WARNING:tensorflow:From /usr/local/lib/python3.5/dist-packages/tensorflow_core/python/ops/nn_impl.py:183: where (from tensorflow.python.ops.array_ops) is deprecated and will be removed in a future version.\n",
      "\u001b[2m\u001b[36m(pid=5689)\u001b[0m Instructions for updating:\n",
      "\u001b[2m\u001b[36m(pid=5689)\u001b[0m Use tf.where in 2.0, which has the same broadcast rule as np.where\n",
      "\u001b[2m\u001b[36m(pid=5689)\u001b[0m WARNING:tensorflow:From /usr/local/lib/python3.5/dist-packages/keras/backend/tensorflow_backend.py:422: The name tf.global_variables is deprecated. Please use tf.compat.v1.global_variables instead.\n",
      "\u001b[2m\u001b[36m(pid=5689)\u001b[0m \n"
     ]
    },
    {
     "data": {
      "text/plain": [
       "(128, 50, 4)"
      ]
     },
     "execution_count": 123,
     "metadata": {},
     "output_type": "execute_result"
    }
   ],
   "source": []
  },
  {
   "cell_type": "code",
   "execution_count": 86,
   "metadata": {},
   "outputs": [
    {
     "name": "stdout",
     "output_type": "stream",
     "text": [
      "\u001b[2m\u001b[36m(pid=5360)\u001b[0m Using TensorFlow backend.\n",
      "\u001b[2m\u001b[36m(pid=5360)\u001b[0m WARNING:tensorflow:From /usr/local/lib/python3.5/dist-packages/tensorflow_core/python/ops/resource_variable_ops.py:1630: calling BaseResourceVariable.__init__ (from tensorflow.python.ops.resource_variable_ops) with constraint is deprecated and will be removed in a future version.\n",
      "\u001b[2m\u001b[36m(pid=5360)\u001b[0m Instructions for updating:\n",
      "\u001b[2m\u001b[36m(pid=5360)\u001b[0m If using Keras pass *_constraint arguments to layers.\n",
      "\u001b[2m\u001b[36m(pid=5360)\u001b[0m 2019-11-05 21:28:56.534612: I tensorflow/core/platform/cpu_feature_guard.cc:145] This TensorFlow binary is optimized with Intel(R) MKL-DNN to use the following CPU instructions in performance critical operations:  AVX2 FMA\n",
      "\u001b[2m\u001b[36m(pid=5360)\u001b[0m To enable them in non-MKL-DNN operations, rebuild TensorFlow with the appropriate compiler flags.\n",
      "\u001b[2m\u001b[36m(pid=5360)\u001b[0m 2019-11-05 21:28:56.543511: I tensorflow/core/platform/profile_utils/cpu_utils.cc:94] CPU Frequency: 2300000000 Hz\n",
      "\u001b[2m\u001b[36m(pid=5360)\u001b[0m 2019-11-05 21:28:56.544134: I tensorflow/compiler/xla/service/service.cc:168] XLA service 0x55d1c95042d0 initialized for platform Host (this does not guarantee that XLA will be used). Devices:\n",
      "\u001b[2m\u001b[36m(pid=5360)\u001b[0m 2019-11-05 21:28:56.544202: I tensorflow/compiler/xla/service/service.cc:176]   StreamExecutor device (0): Host, Default Version\n",
      "\u001b[2m\u001b[36m(pid=5360)\u001b[0m 2019-11-05 21:28:56.544550: I tensorflow/core/common_runtime/process_util.cc:115] Creating new thread pool with default inter op setting: 2. Tune using inter_op_parallelism_threads for best performance.\n",
      "\u001b[2m\u001b[36m(pid=5360)\u001b[0m WARNING:tensorflow:From /usr/local/lib/python3.5/dist-packages/tensorflow_core/python/ops/nn_impl.py:183: where (from tensorflow.python.ops.array_ops) is deprecated and will be removed in a future version.\n",
      "\u001b[2m\u001b[36m(pid=5360)\u001b[0m Instructions for updating:\n",
      "\u001b[2m\u001b[36m(pid=5360)\u001b[0m Use tf.where in 2.0, which has the same broadcast rule as np.where\n",
      "\u001b[2m\u001b[36m(pid=5360)\u001b[0m WARNING:tensorflow:From /usr/local/lib/python3.5/dist-packages/keras/backend/tensorflow_backend.py:422: The name tf.global_variables is deprecated. Please use tf.compat.v1.global_variables instead.\n",
      "\u001b[2m\u001b[36m(pid=5360)\u001b[0m \n"
     ]
    },
    {
     "data": {
      "text/plain": [
       "(32, 50, 4)"
      ]
     },
     "execution_count": 86,
     "metadata": {},
     "output_type": "execute_result"
    }
   ],
   "source": []
  },
  {
   "cell_type": "code",
   "execution_count": 91,
   "metadata": {},
   "outputs": [],
   "source": [
    "\n"
   ]
  },
  {
   "cell_type": "code",
   "execution_count": 93,
   "metadata": {},
   "outputs": [
    {
     "data": {
      "text/plain": [
       "list"
      ]
     },
     "execution_count": 93,
     "metadata": {},
     "output_type": "execute_result"
    }
   ],
   "source": [
    "type(a1)"
   ]
  },
  {
   "cell_type": "code",
   "execution_count": 102,
   "metadata": {},
   "outputs": [],
   "source": []
  },
  {
   "cell_type": "code",
   "execution_count": 106,
   "metadata": {},
   "outputs": [
    {
     "data": {
      "text/plain": [
       "array([ 4.8889272e-04,  9.3079545e-04,  1.2901225e-03,  1.5700043e-03,\n",
       "        1.7843596e-03,  1.9477402e-03,  2.0723476e-03,  2.1676428e-03,\n",
       "        2.2407547e-03,  2.2970124e-03,  2.3404087e-03,  2.3739489e-03,\n",
       "        2.3999116e-03,  2.4200284e-03,  2.4356304e-03,  2.4477406e-03,\n",
       "        2.4571414e-03,  2.4644434e-03,  2.4701168e-03,  2.4745238e-03,\n",
       "        2.4779509e-03,  2.4806140e-03,  2.4826846e-03,  2.4842916e-03,\n",
       "        2.4855421e-03,  2.4865153e-03,  2.4872711e-03,  2.4878595e-03,\n",
       "        2.4883172e-03,  2.4886727e-03,  2.4889500e-03,  2.4891668e-03,\n",
       "        2.4893347e-03,  2.4894653e-03,  2.4895642e-03,  2.4896432e-03,\n",
       "        2.4897044e-03,  2.4897512e-03,  2.4897866e-03,  2.4898141e-03,\n",
       "        2.4898374e-03,  2.4898546e-03,  2.4898688e-03,  2.4898800e-03,\n",
       "        2.4898872e-03,  4.7461429e-01,  2.1423253e-01, -3.3533663e-01,\n",
       "        3.7080324e-01,  6.6535527e-01], dtype=float32)"
      ]
     },
     "execution_count": 106,
     "metadata": {},
     "output_type": "execute_result"
    }
   ],
   "source": [
    "act[0][0,:,0]"
   ]
  },
  {
   "cell_type": "code",
   "execution_count": 103,
   "metadata": {},
   "outputs": [],
   "source": []
  },
  {
   "cell_type": "code",
   "execution_count": 104,
   "metadata": {},
   "outputs": [
    {
     "data": {
      "text/plain": [
       "0.524378852388879"
      ]
     },
     "execution_count": 104,
     "metadata": {},
     "output_type": "execute_result"
    }
   ],
   "source": []
  },
  {
   "cell_type": "code",
   "execution_count": 126,
   "metadata": {},
   "outputs": [
    {
     "data": {
      "text/plain": [
       "[array([0., 0., 0., 0., 0., 0., 0., 0., 0., 0., 0., 0., 0., 0., 0., 0., 0.,\n",
       "        0., 0., 0., 0., 0., 0., 0., 0., 0., 0., 2., 6., 2., 6., 1., 3., 1.,\n",
       "        3., 1., 4., 1., 3., 2., 5., 2., 6., 1., 4., 1., 3., 2., 5., 2.]),\n",
       " array([0., 0., 0., 0., 0., 0., 0., 0., 0., 0., 0., 0., 0., 0., 0., 1., 3.,\n",
       "        1., 3., 1., 3., 2., 6., 1., 4., 1., 4., 1., 3., 1., 3., 2., 6., 1.,\n",
       "        4., 1., 3., 1., 3., 2., 5., 2., 6., 1., 4., 1., 3., 2., 6., 1.]),\n",
       " array([0., 0., 0., 0., 0., 0., 0., 0., 0., 0., 0., 0., 0., 0., 0., 0., 0.,\n",
       "        0., 0., 0., 0., 0., 0., 0., 0., 0., 0., 0., 0., 0., 0., 0., 0., 0.,\n",
       "        0., 0., 0., 0., 0., 0., 0., 0., 0., 1., 4., 1., 3., 1., 3., 2.]),\n",
       " array([0., 0., 0., 0., 0., 0., 0., 0., 0., 0., 0., 0., 0., 0., 0., 0., 0.,\n",
       "        0., 0., 0., 0., 0., 0., 0., 0., 0., 0., 0., 0., 0., 0., 0., 0., 0.,\n",
       "        0., 0., 0., 0., 0., 0., 0., 2., 6., 1., 4., 1., 3., 2., 5., 2.]),\n",
       " array([0., 0., 0., 0., 0., 0., 0., 0., 0., 0., 0., 0., 0., 0., 0., 0., 0.,\n",
       "        0., 0., 0., 0., 0., 0., 0., 0., 0., 0., 0., 0., 0., 0., 0., 0., 0.,\n",
       "        0., 2., 5., 2., 5., 2., 5., 2., 6., 2., 5., 2., 5., 2., 6., 2.]),\n",
       " array([0., 1., 3., 2., 6., 2., 5., 2., 5., 2., 6., 1., 4., 1., 3., 2., 6.,\n",
       "        1., 3., 2., 6., 2., 5., 2., 5., 2., 5., 2., 6., 2., 5., 2., 6., 2.,\n",
       "        5., 2., 5., 2., 5., 2., 6., 1., 3., 2., 5., 2., 6., 2., 5., 2.]),\n",
       " array([0., 0., 0., 0., 0., 0., 0., 0., 0., 0., 0., 0., 0., 0., 0., 0., 0.,\n",
       "        0., 0., 0., 0., 0., 0., 0., 0., 0., 0., 0., 0., 0., 0., 0., 0., 0.,\n",
       "        0., 0., 0., 0., 0., 0., 0., 0., 0., 1., 3., 2., 6., 1., 3., 2.]),\n",
       " array([0., 0., 0., 0., 0., 1., 3., 1., 3., 2., 6., 2., 5., 2., 6., 2., 5.,\n",
       "        2., 5., 2., 5., 2., 5., 2., 5., 2., 5., 2., 6., 2., 5., 2., 6., 2.,\n",
       "        6., 1., 3., 2., 6., 2., 6., 2., 5., 2., 6., 1., 3., 2., 5., 2.]),\n",
       " array([0., 0., 0., 0., 0., 0., 0., 0., 0., 0., 0., 0., 0., 0., 0., 0., 0.,\n",
       "        0., 0., 0., 0., 0., 0., 0., 0., 0., 0., 0., 0., 0., 0., 0., 0., 2.,\n",
       "        5., 2., 6., 2., 5., 2., 5., 2., 5., 2., 6., 2., 5., 2., 5., 2.]),\n",
       " array([0., 0., 0., 0., 0., 0., 0., 0., 0., 0., 0., 0., 0., 0., 0., 0., 0.,\n",
       "        0., 0., 0., 0., 0., 0., 0., 0., 0., 0., 0., 0., 0., 0., 0., 0., 0.,\n",
       "        0., 0., 0., 0., 0., 0., 0., 1., 3., 2., 5., 2., 5., 2., 6., 2.]),\n",
       " array([0., 0., 0., 0., 0., 0., 0., 0., 0., 0., 0., 0., 0., 0., 0., 0., 0.,\n",
       "        0., 0., 0., 0., 0., 0., 0., 0., 0., 0., 0., 0., 0., 0., 0., 0., 0.,\n",
       "        0., 2., 6., 2., 6., 1., 4., 1., 3., 2., 5., 2., 5., 2., 5., 2.]),\n",
       " array([0., 1., 4., 1., 4., 1., 3., 2., 5., 2., 6., 1., 3., 1., 4., 1., 4.,\n",
       "        1., 4., 1., 3., 1., 4., 1., 3., 1., 4., 1., 4., 1., 4., 1., 4., 1.,\n",
       "        4., 1., 4., 1., 4., 1., 4., 1., 4., 1., 3., 1., 3., 1., 3., 1.]),\n",
       " array([0., 0., 0., 1., 4., 1., 3., 1., 4., 1., 3., 2., 5., 2., 5., 2., 6.,\n",
       "        2., 6., 1., 4., 1., 3., 2., 6., 2., 6., 2., 5., 2., 5., 2., 6., 2.,\n",
       "        6., 2., 6., 1., 3., 2., 6., 1., 4., 1., 4., 1., 4., 1., 3., 1.]),\n",
       " array([0., 0., 0., 0., 0., 0., 0., 0., 0., 0., 0., 0., 0., 0., 0., 0., 0.,\n",
       "        0., 0., 0., 0., 0., 0., 0., 0., 0., 0., 0., 0., 0., 0., 0., 0., 0.,\n",
       "        0., 0., 0., 1., 3., 2., 5., 2., 6., 2., 6., 2., 5., 2., 5., 2.]),\n",
       " array([0., 0., 0., 0., 0., 0., 0., 0., 0., 0., 0., 0., 0., 0., 0., 0., 0.,\n",
       "        0., 0., 0., 0., 0., 0., 0., 0., 0., 0., 0., 0., 1., 3., 1., 3., 2.,\n",
       "        6., 2., 6., 2., 6., 1., 4., 1., 3., 1., 4., 1., 4., 1., 3., 1.]),\n",
       " array([0., 0., 0., 0., 0., 0., 0., 0., 0., 0., 0., 0., 0., 0., 0., 0., 0.,\n",
       "        0., 0., 0., 0., 0., 0., 0., 0., 0., 0., 2., 5., 2., 6., 1., 4., 1.,\n",
       "        4., 1., 4., 1., 4., 1., 3., 1., 4., 1., 4., 1., 4., 1., 4., 1.]),\n",
       " array([0., 0., 0., 0., 0., 0., 0., 0., 0., 0., 0., 0., 0., 0., 0., 0., 0.,\n",
       "        0., 0., 0., 0., 0., 0., 0., 0., 0., 0., 0., 0., 0., 0., 0., 0., 0.,\n",
       "        0., 0., 0., 0., 0., 1., 3., 2., 6., 1., 4., 1., 4., 1., 4., 1.]),\n",
       " array([0., 0., 0., 0., 0., 0., 0., 0., 0., 0., 0., 0., 0., 0., 0., 0., 0.,\n",
       "        2., 5., 2., 6., 1., 3., 1., 4., 1., 4., 1., 3., 1., 3., 2., 6., 2.,\n",
       "        6., 1., 4., 1., 3., 1., 4., 1., 3., 1., 3., 1., 4., 1., 4., 1.]),\n",
       " array([0., 0., 0., 0., 0., 0., 0., 0., 0., 0., 0., 0., 0., 0., 0., 0., 0.,\n",
       "        0., 0., 0., 0., 2., 5., 2., 6., 2., 6., 2., 5., 2., 5., 2., 6., 2.,\n",
       "        5., 2., 5., 2., 5., 2., 5., 2., 6., 2., 6., 2., 6., 1., 4., 1.]),\n",
       " array([0., 0., 0., 0., 0., 0., 0., 2., 5., 2., 5., 2., 5., 2., 6., 2., 6.,\n",
       "        1., 4., 1., 3., 2., 5., 2., 6., 2., 5., 2., 5., 2., 5., 2., 5., 2.,\n",
       "        5., 2., 6., 2., 5., 2., 6., 2., 6., 1., 3., 2., 6., 1., 3., 2.]),\n",
       " array([0., 2., 5., 2., 6., 1., 4., 1., 3., 2., 5., 2., 5., 2., 6., 2., 5.,\n",
       "        2., 5., 2., 6., 2., 5., 2., 6., 2., 6., 1., 3., 2., 6., 1., 4., 1.,\n",
       "        4., 1., 3., 1., 4., 1., 4., 1., 3., 2., 5., 2., 6., 1., 4., 1.]),\n",
       " array([0., 0., 0., 0., 0., 0., 0., 0., 0., 0., 0., 0., 0., 0., 0., 0., 0.,\n",
       "        2., 6., 1., 4., 1., 3., 1., 4., 1., 4., 1., 4., 1., 4., 1., 3., 1.,\n",
       "        3., 1., 3., 2., 6., 1., 4., 1., 3., 2., 6., 1., 4., 1., 3., 1.]),\n",
       " array([0., 0., 0., 0., 0., 0., 0., 2., 5., 2., 6., 2., 5., 2., 6., 1., 4.,\n",
       "        1., 3., 1., 3., 2., 6., 1., 3., 1., 3., 2., 5., 2., 6., 2., 5., 2.,\n",
       "        6., 2., 6., 2., 5., 2., 5., 2., 6., 2., 5., 2., 6., 2., 6., 2.]),\n",
       " array([0., 0., 0., 0., 0., 0., 0., 0., 0., 0., 0., 0., 0., 0., 0., 0., 0.,\n",
       "        0., 0., 0., 0., 0., 0., 0., 0., 1., 3., 1., 4., 1., 3., 1., 4., 1.,\n",
       "        4., 1., 4., 1., 3., 1., 3., 1., 4., 1., 4., 1., 4., 1., 4., 1.]),\n",
       " array([0., 0., 0., 0., 0., 0., 0., 0., 0., 0., 0., 0., 0., 0., 0., 0., 0.,\n",
       "        0., 0., 0., 0., 0., 0., 0., 0., 0., 0., 0., 0., 0., 0., 0., 0., 0.,\n",
       "        0., 0., 0., 0., 0., 0., 0., 0., 0., 0., 0., 1., 4., 1., 4., 1.]),\n",
       " array([0., 0., 0., 0., 0., 0., 0., 0., 0., 0., 0., 0., 0., 0., 0., 0., 0.,\n",
       "        0., 0., 0., 0., 0., 0., 0., 0., 2., 5., 2., 6., 2., 5., 2., 6., 2.,\n",
       "        5., 2., 5., 2., 6., 2., 6., 2., 5., 2., 6., 2., 6., 1., 4., 1.]),\n",
       " array([0., 0., 0., 0., 0., 0., 0., 0., 0., 0., 0., 0., 0., 0., 0., 0., 0.,\n",
       "        0., 0., 0., 0., 0., 0., 0., 0., 0., 0., 0., 0., 0., 0., 0., 0., 0.,\n",
       "        0., 0., 0., 0., 0., 0., 0., 0., 0., 0., 0., 0., 0., 2., 6., 2.]),\n",
       " array([0., 0., 0., 0., 0., 0., 0., 0., 0., 0., 0., 0., 0., 0., 0., 0., 0.,\n",
       "        0., 0., 0., 0., 0., 0., 0., 0., 0., 0., 0., 0., 0., 0., 1., 4., 1.,\n",
       "        4., 1., 4., 1., 4., 1., 4., 1., 4., 1., 3., 2., 5., 2., 6., 1.]),\n",
       " array([0., 0., 0., 0., 0., 0., 0., 0., 0., 0., 0., 0., 0., 0., 0., 0., 0.,\n",
       "        0., 0., 0., 0., 0., 0., 0., 0., 0., 0., 0., 0., 0., 0., 0., 0., 0.,\n",
       "        0., 0., 0., 1., 3., 2., 6., 2., 5., 2., 6., 2., 6., 2., 6., 2.]),\n",
       " array([0., 0., 0., 0., 0., 0., 0., 1., 4., 1., 3., 2., 5., 2., 5., 2., 6.,\n",
       "        1., 3., 2., 6., 1., 4., 1., 4., 1., 4., 1., 3., 1., 3., 1., 3., 1.,\n",
       "        4., 1., 4., 1., 4., 1., 4., 1., 3., 1., 4., 1., 3., 2., 5., 2.]),\n",
       " array([0., 1., 4., 1., 4., 1., 3., 1., 3., 1., 4., 1., 3., 2., 5., 2., 6.,\n",
       "        2., 6., 1., 4., 1., 3., 1., 3., 1., 3., 1., 3., 2., 6., 2., 6., 2.,\n",
       "        5., 2., 6., 1., 3., 1., 4., 1., 3., 1., 4., 1., 4., 1., 3., 1.]),\n",
       " array([0., 1., 3., 1., 3., 1., 4., 1., 3., 2., 5., 2., 6., 2., 6., 1., 4.,\n",
       "        1., 4., 1., 3., 2., 6., 1., 3., 1., 4., 1., 4., 1., 3., 2., 5., 2.,\n",
       "        5., 2., 5., 2., 5., 2., 5., 2., 6., 2., 5., 2., 6., 2., 5., 2.]),\n",
       " array([0., 0., 0., 0., 0., 0., 0., 0., 0., 0., 0., 0., 0., 0., 0., 0., 0.,\n",
       "        0., 0., 0., 0., 0., 0., 0., 0., 0., 0., 0., 0., 0., 0., 0., 0., 0.,\n",
       "        0., 0., 0., 0., 0., 0., 0., 0., 0., 0., 0., 0., 0., 2., 5., 2.]),\n",
       " array([0., 0., 0., 0., 0., 0., 0., 0., 0., 0., 0., 0., 0., 0., 0., 0., 0.,\n",
       "        0., 0., 0., 0., 0., 0., 0., 0., 0., 0., 2., 6., 1., 4., 1., 3., 2.,\n",
       "        6., 2., 5., 2., 6., 1., 4., 1., 4., 1., 3., 1., 3., 2., 6., 2.]),\n",
       " array([0., 0., 0., 0., 0., 0., 0., 0., 0., 0., 0., 0., 0., 0., 0., 0., 0.,\n",
       "        0., 0., 0., 0., 0., 0., 0., 0., 0., 0., 0., 0., 0., 0., 0., 0., 0.,\n",
       "        0., 0., 0., 2., 6., 1., 3., 2., 6., 1., 3., 2., 5., 2., 6., 2.]),\n",
       " array([0., 0., 0., 0., 0., 0., 0., 0., 0., 0., 0., 0., 0., 0., 0., 0., 0.,\n",
       "        0., 0., 0., 0., 0., 0., 0., 0., 0., 0., 0., 0., 0., 0., 0., 0., 1.,\n",
       "        4., 1., 4., 1., 4., 1., 4., 1., 3., 2., 6., 1., 4., 1., 3., 2.]),\n",
       " array([0., 0., 0., 0., 0., 0., 0., 0., 0., 0., 0., 0., 0., 0., 0., 0., 0.,\n",
       "        0., 0., 0., 0., 0., 0., 0., 0., 0., 0., 0., 0., 0., 0., 0., 0., 0.,\n",
       "        0., 0., 0., 0., 0., 0., 0., 0., 0., 0., 0., 0., 0., 2., 5., 2.]),\n",
       " array([0., 0., 0., 0., 0., 0., 0., 0., 0., 0., 0., 0., 0., 0., 0., 0., 0.,\n",
       "        0., 0., 2., 5., 2., 5., 2., 5., 2., 6., 2., 6., 2., 6., 1., 3., 2.,\n",
       "        6., 1., 3., 2., 5., 2., 5., 2., 6., 2., 6., 1., 3., 1., 3., 2.]),\n",
       " array([0., 0., 0., 0., 0., 0., 0., 0., 0., 2., 5., 2., 5., 2., 6., 1., 4.,\n",
       "        1., 4., 1., 4., 1., 3., 1., 3., 2., 6., 2., 5., 2., 6., 1., 4., 1.,\n",
       "        4., 1., 3., 2., 5., 2., 6., 2., 6., 1., 3., 1., 4., 1., 3., 2.]),\n",
       " array([0., 0., 0., 2., 6., 2., 6., 1., 3., 1., 4., 1., 4., 1., 3., 2., 6.,\n",
       "        2., 5., 2., 6., 2., 5., 2., 5., 2., 5., 2., 6., 2., 6., 2., 6., 2.,\n",
       "        5., 2., 5., 2., 6., 1., 4., 1., 3., 2., 5., 2., 6., 1., 4., 1.]),\n",
       " array([0., 0., 0., 0., 0., 0., 0., 0., 0., 0., 0., 0., 0., 0., 0., 0., 0.,\n",
       "        0., 0., 0., 0., 0., 0., 0., 0., 0., 0., 0., 0., 0., 0., 1., 4., 1.,\n",
       "        4., 1., 4., 1., 4., 1., 4., 1., 4., 1., 4., 1., 3., 1., 4., 1.]),\n",
       " array([0., 0., 0., 0., 0., 0., 0., 1., 4., 1., 4., 1., 4., 1., 3., 2., 5.,\n",
       "        2., 5., 2., 5., 2., 5., 2., 6., 1., 4., 1., 3., 1., 4., 1., 4., 1.,\n",
       "        4., 1., 4., 1., 4., 1., 4., 1., 4., 1., 4., 1., 3., 2., 5., 2.]),\n",
       " array([0., 0., 0., 0., 0., 0., 0., 0., 0., 0., 0., 0., 0., 0., 0., 0., 0.,\n",
       "        0., 0., 0., 0., 0., 0., 0., 0., 0., 0., 0., 0., 0., 0., 0., 0., 0.,\n",
       "        0., 0., 0., 0., 0., 1., 4., 1., 3., 2., 5., 2., 6., 1., 4., 1.]),\n",
       " array([0., 0., 0., 0., 0., 0., 0., 0., 0., 0., 0., 0., 0., 0., 0., 2., 5.,\n",
       "        2., 5., 2., 5., 2., 6., 2., 6., 1., 4., 1., 3., 1., 4., 1., 4., 1.,\n",
       "        4., 1., 3., 1., 4., 1., 4., 1., 4., 1., 4., 1., 4., 1., 3., 1.]),\n",
       " array([0., 1., 4., 1., 3., 1., 3., 2., 5., 2., 5., 2., 5., 2., 6., 1., 3.,\n",
       "        2., 6., 2., 5., 2., 6., 2., 5., 2., 5., 2., 6., 2., 6., 1., 3., 2.,\n",
       "        5., 2., 6., 2., 5., 2., 5., 2., 5., 2., 5., 2., 5., 2., 5., 2.]),\n",
       " array([0., 2., 5., 2., 5., 2., 6., 1., 4., 1., 3., 1., 4., 1., 3., 1., 4.,\n",
       "        1., 3., 2., 6., 2., 5., 2., 6., 1., 4., 1., 4., 1., 4., 1., 3., 2.,\n",
       "        6., 1., 4., 1., 4., 1., 3., 1., 4., 1., 3., 2., 5., 2., 5., 2.]),\n",
       " array([0., 0., 0., 0., 0., 0., 0., 0., 0., 0., 0., 0., 0., 0., 0., 1., 4.,\n",
       "        1., 3., 2., 5., 2., 5., 2., 6., 1., 3., 2., 6., 2., 5., 2., 5., 2.,\n",
       "        5., 2., 5., 2., 6., 1., 4., 1., 3., 1., 3., 1., 4., 1., 3., 1.]),\n",
       " array([0., 0., 0., 0., 0., 0., 0., 0., 0., 0., 0., 0., 0., 0., 0., 0., 0.,\n",
       "        0., 0., 0., 0., 0., 0., 2., 6., 1., 4., 1., 4., 1., 3., 1., 4., 1.,\n",
       "        4., 1., 4., 1., 4., 1., 4., 1., 4., 1., 3., 1., 4., 1., 4., 1.]),\n",
       " array([0., 0., 0., 0., 0., 0., 0., 0., 0., 0., 0., 0., 0., 0., 0., 2., 5.,\n",
       "        2., 5., 2., 5., 2., 5., 2., 6., 2., 5., 2., 5., 2., 6., 2., 6., 2.,\n",
       "        6., 1., 3., 1., 3., 1., 3., 2., 6., 1., 3., 2., 5., 2., 6., 1.]),\n",
       " array([0., 0., 0., 0., 0., 0., 0., 0., 0., 2., 6., 1., 3., 2., 6., 1., 4.,\n",
       "        1., 4., 1., 3., 2., 5., 2., 5., 2., 5., 2., 5., 2., 5., 2., 5., 2.,\n",
       "        5., 2., 5., 2., 6., 1., 4., 1., 4., 1., 4., 1., 4., 1., 4., 1.]),\n",
       " array([0., 0., 0., 0., 0., 0., 0., 0., 0., 0., 0., 0., 0., 0., 0., 1., 4.,\n",
       "        1., 3., 1., 4., 1., 4., 1., 4., 1., 3., 1., 3., 2., 5., 2., 5., 2.,\n",
       "        6., 1., 4., 1., 3., 2., 5., 2., 5., 2., 5., 2., 5., 2., 6., 2.]),\n",
       " array([0., 0., 0., 0., 0., 0., 0., 0., 0., 0., 0., 0., 0., 0., 0., 0., 0.,\n",
       "        2., 6., 1., 4., 1., 3., 1., 3., 1., 4., 1., 4., 1., 3., 1., 3., 1.,\n",
       "        4., 1., 4., 1., 3., 1., 3., 1., 3., 1., 3., 2., 6., 1., 4., 1.]),\n",
       " array([0., 0., 0., 0., 0., 0., 0., 0., 0., 0., 0., 0., 0., 0., 0., 2., 6.,\n",
       "        1., 4., 1., 3., 2., 6., 2., 6., 2., 5., 2., 5., 2., 6., 2., 6., 1.,\n",
       "        3., 1., 3., 1., 4., 1., 3., 1., 4., 1., 4., 1., 4., 1., 4., 1.]),\n",
       " array([0., 0., 0., 0., 0., 0., 0., 0., 0., 0., 0., 0., 0., 0., 0., 0., 0.,\n",
       "        0., 0., 0., 0., 0., 0., 0., 0., 0., 0., 0., 0., 0., 0., 0., 0., 0.,\n",
       "        0., 1., 3., 1., 3., 1., 3., 2., 5., 2., 6., 1., 4., 1., 3., 2.]),\n",
       " array([0., 0., 0., 0., 0., 0., 0., 0., 0., 0., 0., 0., 0., 0., 0., 2., 5.,\n",
       "        2., 5., 2., 6., 2., 5., 2., 6., 1., 4., 1., 4., 1., 4., 1., 4., 1.,\n",
       "        4., 1., 4., 1., 3., 1., 4., 1., 4., 1., 4., 1., 3., 2., 5., 2.]),\n",
       " array([0., 0., 0., 0., 0., 0., 0., 0., 0., 0., 0., 0., 0., 0., 0., 0., 0.,\n",
       "        0., 0., 0., 0., 0., 0., 0., 0., 0., 0., 0., 0., 0., 0., 0., 0., 0.,\n",
       "        0., 0., 0., 0., 0., 0., 0., 1., 4., 1., 4., 1., 4., 1., 3., 1.]),\n",
       " array([0., 0., 0., 0., 0., 0., 0., 0., 0., 0., 0., 0., 0., 0., 0., 0., 0.,\n",
       "        0., 0., 0., 0., 0., 0., 0., 0., 0., 0., 2., 6., 1., 4., 1., 3., 2.,\n",
       "        6., 1., 4., 1., 4., 1., 3., 2., 6., 1., 3., 1., 4., 1., 4., 1.]),\n",
       " array([0., 0., 0., 1., 4., 1., 3., 2., 6., 2., 6., 2., 6., 1., 3., 1., 4.,\n",
       "        1., 4., 1., 4., 1., 4., 1., 4., 1., 3., 2., 6., 2., 6., 1., 4., 1.,\n",
       "        3., 1., 4., 1., 3., 2., 5., 2., 6., 1., 3., 2., 5., 2., 5., 2.]),\n",
       " array([0., 0., 0., 0., 0., 0., 0., 0., 0., 1., 4., 1., 4., 1., 3., 1., 3.,\n",
       "        1., 3., 1., 4., 1., 4., 1., 4., 1., 3., 1., 4., 1., 3., 1., 4., 1.,\n",
       "        4., 1., 4., 1., 3., 2., 5., 2., 6., 2., 5., 2., 5., 2., 5., 2.]),\n",
       " array([0., 0., 0., 0., 0., 0., 0., 0., 0., 0., 0., 0., 0., 0., 0., 0., 0.,\n",
       "        0., 0., 0., 0., 0., 0., 0., 0., 0., 0., 1., 4., 1., 3., 1., 3., 2.,\n",
       "        5., 2., 6., 2., 6., 1., 4., 1., 3., 1., 3., 2., 5., 2., 6., 1.]),\n",
       " array([0., 0., 0., 0., 0., 0., 0., 0., 0., 1., 3., 2., 6., 1., 4., 1., 3.,\n",
       "        1., 4., 1., 3., 1., 4., 1., 3., 2., 5., 2., 6., 1., 3., 2., 5., 2.,\n",
       "        5., 2., 6., 2., 6., 2., 5., 2., 6., 2., 5., 2., 6., 2., 5., 2.]),\n",
       " array([0., 0., 0., 0., 0., 0., 0., 0., 0., 0., 0., 0., 0., 0., 0., 0., 0.,\n",
       "        1., 4., 1., 3., 1., 4., 1., 3., 2., 6., 2., 5., 2., 6., 1., 4., 1.,\n",
       "        4., 1., 3., 2., 5., 2., 6., 1., 3., 2., 5., 2., 6., 2., 6., 2.]),\n",
       " array([0., 0., 0., 2., 5., 2., 6., 1., 3., 1., 3., 1., 4., 1., 3., 1., 4.,\n",
       "        1., 3., 1., 4., 1., 4., 1., 3., 1., 4., 1., 3., 1., 4., 1., 3., 2.,\n",
       "        5., 2., 6., 1., 4., 1., 4., 1., 4., 1., 4., 1., 3., 2., 5., 2.]),\n",
       " array([0., 0., 0., 0., 0., 0., 0., 0., 0., 0., 0., 0., 0., 0., 0., 0., 0.,\n",
       "        0., 0., 0., 0., 0., 0., 0., 0., 0., 0., 0., 0., 0., 0., 2., 5., 2.,\n",
       "        6., 2., 5., 2., 6., 1., 3., 2., 6., 2., 6., 2., 6., 2., 6., 1.]),\n",
       " array([0., 0., 0., 0., 0., 0., 0., 0., 0., 0., 0., 0., 0., 1., 3., 1., 4.,\n",
       "        1., 3., 1., 3., 1., 4., 1., 3., 2., 6., 1., 4., 1., 3., 2., 5., 2.,\n",
       "        5., 2., 6., 2., 6., 2., 5., 2., 5., 2., 5., 2., 6., 2., 6., 2.]),\n",
       " array([0., 0., 0., 0., 0., 0., 0., 0., 0., 0., 0., 2., 6., 2., 5., 2., 5.,\n",
       "        2., 5., 2., 5., 2., 5., 2., 6., 2., 6., 2., 6., 1., 3., 2., 5., 2.,\n",
       "        6., 2., 6., 1., 3., 1., 3., 1., 3., 1., 4., 1., 3., 1., 3., 1.]),\n",
       " array([0., 0., 0., 0., 0., 1., 4., 1., 3., 2., 5., 2., 6., 2., 5., 2., 6.,\n",
       "        1., 4., 1., 3., 2., 5., 2., 5., 2., 5., 2., 6., 2., 5., 2., 6., 2.,\n",
       "        6., 1., 4., 1., 4., 1., 4., 1., 4., 1., 4., 1., 4., 1., 4., 1.]),\n",
       " array([0., 0., 0., 0., 0., 0., 0., 0., 0., 0., 0., 0., 0., 2., 5., 2., 6.,\n",
       "        2., 5., 2., 6., 1., 4., 1., 3., 2., 5., 2., 6., 1., 4., 1., 4., 1.,\n",
       "        3., 1., 3., 2., 5., 2., 6., 1., 3., 2., 5., 2., 6., 1., 4., 1.]),\n",
       " array([0., 0., 0., 0., 0., 0., 0., 0., 0., 0., 0., 0., 0., 0., 0., 0., 0.,\n",
       "        0., 0., 0., 0., 0., 0., 0., 0., 0., 0., 0., 0., 0., 0., 0., 0., 0.,\n",
       "        0., 0., 0., 1., 4., 1., 3., 1., 3., 1., 3., 1., 3., 1., 3., 1.]),\n",
       " array([0., 0., 0., 0., 0., 0., 0., 0., 0., 0., 0., 0., 0., 0., 0., 0., 0.,\n",
       "        0., 0., 0., 0., 0., 0., 0., 0., 0., 0., 0., 0., 0., 0., 0., 0., 0.,\n",
       "        0., 0., 0., 0., 0., 0., 0., 2., 6., 1., 3., 1., 3., 1., 4., 1.]),\n",
       " array([0., 0., 0., 0., 0., 0., 0., 0., 0., 0., 0., 0., 0., 0., 0., 0., 0.,\n",
       "        0., 0., 0., 0., 0., 0., 0., 0., 0., 0., 2., 5., 2., 6., 1., 4., 1.,\n",
       "        3., 2., 5., 2., 5., 2., 6., 2., 6., 1., 4., 1., 4., 1., 3., 1.]),\n",
       " array([0., 0., 0., 0., 0., 0., 0., 0., 0., 0., 0., 0., 0., 0., 0., 0., 0.,\n",
       "        0., 0., 0., 0., 0., 0., 0., 0., 0., 0., 0., 0., 0., 0., 0., 0., 0.,\n",
       "        0., 0., 0., 1., 3., 1., 4., 1., 4., 1., 3., 1., 4., 1., 3., 1.]),\n",
       " array([0., 0., 0., 0., 0., 0., 0., 0., 0., 0., 0., 0., 0., 0., 0., 0., 0.,\n",
       "        0., 0., 2., 6., 1., 3., 1., 4., 1., 3., 1., 3., 2., 5., 2., 6., 2.,\n",
       "        5., 2., 5., 2., 6., 2., 5., 2., 5., 2., 5., 2., 6., 2., 6., 2.]),\n",
       " array([0., 0., 0., 0., 0., 0., 0., 0., 0., 0., 0., 0., 0., 0., 0., 0., 0.,\n",
       "        0., 0., 0., 0., 0., 0., 0., 0., 2., 5., 2., 6., 2., 5., 2., 5., 2.,\n",
       "        5., 2., 6., 1., 4., 1., 4., 1., 4., 1., 3., 1., 4., 1., 4., 1.]),\n",
       " array([0., 0., 0., 0., 0., 0., 0., 0., 0., 0., 0., 0., 0., 0., 0., 0., 0.,\n",
       "        0., 0., 0., 0., 2., 5., 2., 6., 2., 6., 1., 3., 2., 5., 2., 5., 2.,\n",
       "        6., 2., 6., 1., 4., 1., 3., 2., 6., 1., 3., 2., 5., 2., 5., 2.]),\n",
       " array([0., 0., 0., 0., 0., 0., 0., 0., 0., 0., 0., 0., 0., 0., 0., 0., 0.,\n",
       "        2., 6., 2., 5., 2., 6., 1., 4., 1., 4., 1., 3., 2., 5., 2., 6., 1.,\n",
       "        4., 1., 3., 1., 3., 1., 4., 1., 3., 1., 4., 1., 4., 1., 4., 1.]),\n",
       " array([0., 0., 0., 0., 0., 0., 0., 0., 0., 0., 0., 0., 0., 0., 0., 0., 0.,\n",
       "        0., 0., 0., 0., 0., 0., 0., 0., 0., 0., 0., 0., 0., 0., 0., 0., 0.,\n",
       "        0., 0., 0., 0., 0., 0., 0., 0., 0., 2., 5., 2., 5., 2., 6., 2.]),\n",
       " array([0., 1., 4., 1., 4., 1., 4., 1., 3., 1., 4., 1., 4., 1., 4., 1., 3.,\n",
       "        2., 5., 2., 5., 2., 6., 1., 3., 2., 5., 2., 5., 2., 5., 2., 6., 2.,\n",
       "        5., 2., 6., 1., 4., 1., 3., 1., 3., 1., 3., 2., 6., 2., 6., 2.]),\n",
       " array([0., 0., 0., 0., 0., 0., 0., 0., 0., 0., 0., 0., 0., 0., 0., 0., 0.,\n",
       "        0., 0., 0., 0., 2., 6., 2., 6., 2., 5., 2., 5., 2., 6., 2., 6., 2.,\n",
       "        6., 2., 5., 2., 6., 1., 3., 1., 3., 2., 6., 2., 6., 2., 5., 2.]),\n",
       " array([0., 0., 0., 0., 0., 0., 0., 0., 0., 0., 0., 0., 0., 2., 5., 2., 6.,\n",
       "        1., 3., 1., 4., 1., 4., 1., 3., 2., 5., 2., 6., 1., 3., 1., 4., 1.,\n",
       "        3., 2., 6., 2., 6., 1., 4., 1., 3., 2., 5., 2., 5., 2., 5., 2.]),\n",
       " array([0., 0., 0., 0., 0., 0., 0., 0., 0., 0., 0., 0., 0., 0., 0., 0., 0.,\n",
       "        0., 0., 0., 0., 0., 0., 0., 0., 0., 0., 0., 0., 0., 0., 0., 0., 0.,\n",
       "        0., 0., 0., 0., 0., 2., 5., 2., 6., 2., 6., 2., 5., 2., 6., 2.]),\n",
       " array([0., 0., 0., 0., 0., 0., 0., 0., 0., 0., 0., 0., 0., 0., 0., 0., 0.,\n",
       "        0., 0., 0., 0., 0., 0., 2., 6., 1., 4., 1., 3., 2., 6., 1., 3., 2.,\n",
       "        6., 1., 3., 1., 4., 1., 4., 1., 4., 1., 3., 2., 5., 2., 6., 2.]),\n",
       " array([0., 0., 0., 0., 0., 0., 0., 0., 0., 0., 0., 0., 0., 0., 0., 0., 0.,\n",
       "        2., 5., 2., 6., 2., 5., 2., 6., 1., 3., 2., 6., 1., 3., 2., 5., 2.,\n",
       "        5., 2., 6., 2., 5., 2., 6., 2., 5., 2., 5., 2., 6., 1., 4., 1.]),\n",
       " array([0., 0., 0., 0., 0., 0., 0., 0., 0., 0., 0., 0., 0., 0., 0., 0., 0.,\n",
       "        2., 5., 2., 6., 2., 5., 2., 5., 2., 5., 2., 6., 1., 3., 1., 4., 1.,\n",
       "        3., 2., 5., 2., 6., 2., 6., 1., 4., 1., 3., 1., 4., 1., 4., 1.]),\n",
       " array([0., 1., 4., 1., 3., 1., 3., 1., 3., 1., 4., 1., 3., 2., 5., 2., 5.,\n",
       "        2., 5., 2., 6., 2., 6., 2., 6., 1., 3., 2., 6., 1., 4., 1., 4., 1.,\n",
       "        3., 1., 3., 2., 6., 2., 6., 1., 3., 1., 3., 1., 4., 1., 4., 1.]),\n",
       " array([0., 0., 0., 0., 0., 0., 0., 0., 0., 0., 0., 0., 0., 0., 0., 0., 0.,\n",
       "        0., 0., 0., 0., 0., 0., 0., 0., 0., 0., 0., 0., 0., 0., 0., 0., 0.,\n",
       "        0., 0., 0., 2., 6., 1., 3., 2., 5., 2., 5., 2., 5., 2., 6., 1.]),\n",
       " array([0., 0., 0., 0., 0., 0., 0., 0., 0., 0., 0., 0., 0., 0., 0., 0., 0.,\n",
       "        0., 0., 0., 0., 0., 0., 0., 0., 0., 0., 2., 6., 2., 6., 2., 6., 2.,\n",
       "        5., 2., 5., 2., 6., 2., 6., 1., 4., 1., 4., 1., 3., 2., 5., 2.]),\n",
       " array([0., 0., 0., 0., 0., 0., 0., 2., 6., 2., 6., 1., 4., 1., 3., 2., 6.,\n",
       "        2., 6., 2., 6., 1., 4., 1., 4., 1., 4., 1., 4., 1., 4., 1., 3., 2.,\n",
       "        6., 2., 6., 1., 4., 1., 4., 1., 3., 1., 4., 1., 3., 1., 4., 1.]),\n",
       " array([0., 0., 0., 0., 0., 0., 0., 0., 0., 0., 0., 0., 0., 0., 0., 0., 0.,\n",
       "        1., 4., 1., 4., 1., 4., 1., 3., 1., 4., 1., 4., 1., 3., 2., 6., 2.,\n",
       "        6., 2., 6., 1., 3., 2., 5., 2., 5., 2., 5., 2., 6., 1., 3., 1.]),\n",
       " array([0., 0., 0., 0., 0., 0., 0., 0., 0., 0., 0., 0., 0., 0., 0., 0., 0.,\n",
       "        0., 0., 0., 0., 0., 0., 0., 0., 0., 0., 0., 0., 0., 0., 0., 0., 0.,\n",
       "        0., 0., 0., 0., 0., 0., 0., 0., 0., 0., 0., 0., 0., 0., 0., 1.]),\n",
       " array([0., 0., 0., 0., 0., 0., 0., 0., 0., 0., 0., 0., 0., 0., 0., 0., 0.,\n",
       "        0., 0., 0., 0., 0., 0., 0., 0., 0., 0., 0., 0., 0., 0., 0., 0., 0.,\n",
       "        0., 1., 4., 1., 4., 1., 4., 1., 3., 2., 6., 2., 5., 2., 5., 2.]),\n",
       " array([0., 0., 0., 0., 0., 0., 0., 0., 0., 0., 0., 0., 0., 0., 0., 0., 0.,\n",
       "        0., 0., 0., 0., 0., 0., 0., 0., 2., 6., 2., 5., 2., 6., 2., 6., 2.,\n",
       "        5., 2., 6., 2., 5., 2., 5., 2., 6., 1., 3., 1., 3., 2., 6., 1.]),\n",
       " array([0., 0., 0., 0., 0., 0., 0., 0., 0., 2., 6., 1., 3., 1., 4., 1., 4.,\n",
       "        1., 4., 1., 4., 1., 3., 2., 5., 2., 5., 2., 6., 2., 6., 2., 6., 2.,\n",
       "        6., 2., 5., 2., 5., 2., 5., 2., 6., 1., 4., 1., 3., 2., 5., 2.]),\n",
       " array([0., 0., 0., 0., 0., 0., 0., 0., 0., 0., 0., 0., 0., 0., 0., 0., 0.,\n",
       "        0., 0., 0., 0., 0., 0., 0., 0., 0., 0., 1., 4., 1., 3., 1., 3., 2.,\n",
       "        6., 1., 4., 1., 3., 2., 6., 2., 5., 2., 5., 2., 6., 1., 3., 2.]),\n",
       " array([0., 0., 0., 0., 0., 0., 0., 0., 0., 0., 0., 0., 0., 0., 0., 0., 0.,\n",
       "        0., 0., 0., 0., 0., 0., 0., 0., 1., 4., 1., 3., 1., 4., 1., 4., 1.,\n",
       "        3., 1., 4., 1., 3., 1., 4., 1., 4., 1., 3., 1., 4., 1., 4., 1.]),\n",
       " array([0., 0., 0., 0., 0., 1., 3., 2., 5., 2., 5., 2., 5., 2., 6., 1., 4.,\n",
       "        1., 4., 1., 3., 1., 4., 1., 3., 1., 4., 1., 3., 2., 6., 2., 6., 1.,\n",
       "        3., 1., 3., 1., 4., 1., 3., 2., 6., 2., 5., 2., 5., 2., 5., 2.]),\n",
       " array([0., 0., 0., 0., 0., 0., 0., 0., 0., 0., 0., 0., 0., 0., 0., 0., 0.,\n",
       "        0., 0., 0., 0., 0., 0., 0., 0., 2., 5., 2., 6., 2., 6., 2., 5., 2.,\n",
       "        5., 2., 6., 2., 6., 1., 4., 1., 3., 1., 3., 1., 4., 1., 4., 1.]),\n",
       " array([0., 0., 0., 0., 0., 0., 0., 0., 0., 0., 0., 0., 0., 0., 0., 1., 4.,\n",
       "        1., 3., 1., 3., 2., 6., 1., 4., 1., 3., 1., 3., 1., 4., 1., 3., 1.,\n",
       "        4., 1., 3., 1., 3., 1., 4., 1., 4., 1., 4., 1., 3., 2., 6., 1.]),\n",
       " array([0., 0., 0., 0., 0., 0., 0., 0., 0., 0., 0., 0., 0., 0., 0., 0., 0.,\n",
       "        0., 0., 0., 0., 0., 0., 0., 0., 2., 6., 1., 3., 2., 5., 2., 6., 2.,\n",
       "        5., 2., 5., 2., 5., 2., 5., 2., 6., 2., 6., 2., 6., 2., 6., 1.]),\n",
       " array([0., 1., 4., 1., 3., 1., 4., 1., 4., 1., 3., 2., 6., 2., 5., 2., 6.,\n",
       "        2., 6., 2., 5., 2., 6., 1., 4., 1., 3., 2., 6., 1., 4., 1., 4., 1.,\n",
       "        3., 2., 5., 2., 5., 2., 5., 2., 5., 2., 6., 1., 3., 2., 5., 2.]),\n",
       " array([0., 0., 0., 0., 0., 0., 0., 0., 0., 0., 0., 0., 0., 0., 0., 0., 0.,\n",
       "        0., 0., 0., 0., 2., 6., 1., 3., 2., 5., 2., 6., 2., 6., 1., 3., 2.,\n",
       "        5., 2., 5., 2., 6., 1., 4., 1., 4., 1., 3., 1., 3., 2., 5., 2.]),\n",
       " array([0., 0., 0., 0., 0., 0., 0., 0., 0., 0., 0., 0., 0., 0., 0., 0., 0.,\n",
       "        0., 0., 0., 0., 0., 0., 1., 4., 1., 4., 1., 3., 2., 5., 2., 6., 1.,\n",
       "        3., 2., 5., 2., 5., 2., 5., 2., 6., 1., 4., 1., 3., 1., 3., 2.]),\n",
       " array([0., 0., 0., 0., 0., 0., 0., 0., 0., 0., 0., 0., 0., 0., 0., 0., 0.,\n",
       "        0., 0., 0., 0., 0., 0., 0., 0., 0., 0., 0., 0., 0., 0., 0., 0., 0.,\n",
       "        0., 0., 0., 0., 0., 2., 5., 2., 5., 2., 5., 2., 5., 2., 6., 2.]),\n",
       " array([0., 0., 0., 0., 0., 0., 0., 0., 0., 0., 0., 0., 0., 0., 0., 0., 0.,\n",
       "        0., 0., 1., 3., 1., 3., 1., 3., 1., 3., 2., 5., 2., 6., 1., 3., 2.,\n",
       "        5., 2., 6., 1., 3., 2., 5., 2., 6., 2., 6., 2., 5., 2., 6., 2.]),\n",
       " array([0., 0., 0., 0., 0., 2., 6., 2., 6., 2., 5., 2., 6., 2., 5., 2., 5.,\n",
       "        2., 5., 2., 5., 2., 5., 2., 5., 2., 5., 2., 6., 2., 6., 1., 3., 2.,\n",
       "        6., 2., 6., 2., 5., 2., 6., 1., 3., 1., 4., 1., 3., 1., 4., 1.]),\n",
       " array([0., 0., 0., 0., 0., 0., 0., 1., 4., 1., 4., 1., 4., 1., 4., 1., 4.,\n",
       "        1., 4., 1., 3., 1., 3., 1., 4., 1., 4., 1., 3., 1., 3., 2., 5., 2.,\n",
       "        6., 2., 6., 2., 5., 2., 6., 1., 4., 1., 3., 1., 3., 2., 5., 2.]),\n",
       " array([0., 0., 0., 0., 0., 0., 0., 0., 0., 0., 0., 0., 0., 2., 5., 2., 5.,\n",
       "        2., 5., 2., 5., 2., 5., 2., 5., 2., 5., 2., 5., 2., 5., 2., 6., 1.,\n",
       "        4., 1., 3., 2., 5., 2., 6., 1., 4., 1., 4., 1., 3., 1., 4., 1.]),\n",
       " array([0., 0., 0., 0., 0., 0., 0., 0., 0., 0., 0., 0., 0., 0., 0., 0., 0.,\n",
       "        2., 6., 1., 3., 1., 4., 1., 4., 1., 4., 1., 3., 2., 5., 2., 5., 2.,\n",
       "        5., 2., 6., 1., 3., 1., 3., 2., 5., 2., 6., 1., 3., 2., 6., 2.]),\n",
       " array([0., 0., 0., 0., 0., 0., 0., 0., 0., 0., 0., 0., 0., 0., 0., 0., 0.,\n",
       "        0., 0., 0., 0., 0., 0., 0., 0., 0., 0., 0., 0., 0., 0., 0., 0., 0.,\n",
       "        0., 0., 0., 0., 0., 0., 0., 0., 0., 0., 0., 1., 3., 2., 6., 1.]),\n",
       " array([0., 2., 5., 2., 5., 2., 5., 2., 5., 2., 5., 2., 6., 2., 5., 2., 5.,\n",
       "        2., 6., 1., 3., 1., 4., 1., 3., 2., 6., 1., 3., 2., 5., 2., 6., 2.,\n",
       "        5., 2., 6., 2., 5., 2., 6., 2., 6., 1., 4., 1., 4., 1., 3., 1.]),\n",
       " array([0., 0., 0., 0., 0., 0., 0., 0., 0., 0., 0., 1., 3., 1., 3., 1., 3.,\n",
       "        2., 5., 2., 6., 1., 3., 2., 5., 2., 5., 2., 5., 2., 6., 2., 6., 2.,\n",
       "        6., 2., 5., 2., 5., 2., 5., 2., 6., 2., 5., 2., 5., 2., 5., 2.]),\n",
       " array([0., 0., 0., 0., 0., 2., 5., 2., 5., 2., 6., 1., 3., 1., 3., 2., 6.,\n",
       "        1., 3., 2., 5., 2., 6., 1., 4., 1., 4., 1., 4., 1., 4., 1., 3., 1.,\n",
       "        4., 1., 3., 2., 5., 2., 6., 1., 3., 2., 5., 2., 5., 2., 5., 2.]),\n",
       " array([0., 2., 6., 1., 3., 1., 3., 2., 6., 2., 5., 2., 5., 2., 6., 2., 5.,\n",
       "        2., 6., 1., 4., 1., 4., 1., 4., 1., 3., 1., 3., 1., 3., 2., 5., 2.,\n",
       "        5., 2., 5., 2., 5., 2., 6., 1., 3., 1., 4., 1., 4., 1., 3., 1.]),\n",
       " array([0., 0., 0., 0., 0., 0., 0., 0., 0., 0., 0., 0., 0., 0., 0., 0., 0.,\n",
       "        0., 0., 0., 0., 0., 0., 0., 0., 0., 0., 0., 0., 0., 0., 0., 0., 0.,\n",
       "        0., 0., 0., 0., 0., 0., 0., 0., 0., 0., 0., 1., 4., 1., 3., 1.]),\n",
       " array([0., 0., 0., 0., 0., 0., 0., 0., 0., 0., 0., 0., 0., 0., 0., 0., 0.,\n",
       "        0., 0., 0., 0., 0., 0., 0., 0., 0., 0., 0., 0., 0., 0., 0., 0., 0.,\n",
       "        0., 0., 0., 0., 0., 0., 0., 0., 0., 0., 0., 2., 5., 2., 5., 2.]),\n",
       " array([0., 0., 0., 0., 0., 0., 0., 0., 0., 0., 0., 0., 0., 0., 0., 0., 0.,\n",
       "        0., 0., 0., 0., 0., 0., 2., 6., 2., 5., 2., 5., 2., 6., 2., 5., 2.,\n",
       "        6., 1., 3., 1., 4., 1., 4., 1., 3., 1., 4., 1., 4., 1., 4., 1.]),\n",
       " array([0., 0., 0., 0., 0., 2., 6., 2., 5., 2., 6., 2., 6., 1., 4., 1., 4.,\n",
       "        1., 4., 1., 4., 1., 3., 2., 6., 2., 6., 1., 4., 1., 3., 1., 4., 1.,\n",
       "        4., 1., 4., 1., 4., 1., 3., 1., 4., 1., 4., 1., 4., 1., 4., 1.]),\n",
       " array([0., 2., 5., 2., 5., 2., 5., 2., 6., 2., 6., 1., 4., 1., 3., 2., 6.,\n",
       "        1., 3., 2., 5., 2., 6., 2., 5., 2., 6., 2., 6., 2., 5., 2., 6., 2.,\n",
       "        5., 2., 5., 2., 6., 1., 3., 1., 4., 1., 3., 1., 3., 2., 5., 2.]),\n",
       " array([0., 0., 0., 0., 0., 0., 0., 0., 0., 0., 0., 0., 0., 0., 0., 0., 0.,\n",
       "        0., 0., 0., 0., 0., 0., 0., 0., 0., 0., 0., 0., 1., 4., 1., 3., 2.,\n",
       "        5., 2., 6., 2., 6., 1., 4., 1., 3., 1., 3., 2., 5., 2., 5., 2.]),\n",
       " array([0., 0., 0., 0., 0., 0., 0., 0., 0., 0., 0., 0., 0., 0., 0., 0., 0.,\n",
       "        0., 0., 0., 0., 0., 0., 0., 0., 0., 0., 2., 5., 2., 6., 2., 6., 1.,\n",
       "        4., 1., 4., 1., 3., 2., 6., 2., 6., 1., 3., 2., 5., 2., 5., 2.]),\n",
       " array([0., 0., 0., 0., 0., 0., 0., 0., 0., 0., 0., 0., 0., 0., 0., 0., 0.,\n",
       "        0., 0., 1., 4., 1., 3., 1., 4., 1., 3., 1., 3., 1., 3., 1., 4., 1.,\n",
       "        3., 2., 5., 2., 5., 2., 6., 2., 6., 2., 5., 2., 5., 2., 5., 2.]),\n",
       " array([0., 0., 0., 0., 0., 0., 0., 0., 0., 0., 0., 0., 0., 0., 0., 0., 0.,\n",
       "        0., 0., 0., 0., 0., 0., 0., 0., 0., 0., 0., 0., 0., 0., 0., 0., 0.,\n",
       "        0., 0., 0., 0., 0., 0., 0., 0., 0., 0., 0., 2., 5., 2., 5., 2.]),\n",
       " array([0., 0., 0., 0., 0., 0., 0., 0., 0., 0., 0., 0., 0., 0., 0., 0., 0.,\n",
       "        0., 0., 0., 0., 0., 0., 0., 0., 0., 0., 0., 0., 0., 0., 0., 0., 0.,\n",
       "        0., 0., 0., 0., 0., 0., 0., 0., 0., 2., 6., 2., 5., 2., 5., 2.]),\n",
       " array([0., 0., 0., 1., 4., 1., 4., 1., 4., 1., 3., 1., 4., 1., 4., 1., 4.,\n",
       "        1., 4., 1., 3., 1., 3., 1., 3., 2., 6., 2., 6., 1., 3., 1., 4., 1.,\n",
       "        4., 1., 4., 1., 4., 1., 3., 1., 3., 2., 6., 2., 5., 2., 5., 2.]),\n",
       " array([0., 0., 0., 0., 0., 0., 0., 0., 0., 0., 0., 0., 0., 0., 0., 0., 0.,\n",
       "        0., 0., 0., 0., 0., 0., 0., 0., 0., 0., 0., 0., 0., 0., 0., 0., 0.,\n",
       "        0., 0., 0., 0., 0., 0., 0., 0., 0., 1., 3., 1., 3., 1., 3., 2.]),\n",
       " array([0., 0., 0., 1., 4., 1., 4., 1., 3., 1., 4., 1., 3., 1., 4., 1., 4.,\n",
       "        1., 4., 1., 4., 1., 3., 1., 4., 1., 4., 1., 4., 1., 4., 1., 4., 1.,\n",
       "        3., 1., 3., 1., 3., 2., 5., 2., 6., 2., 6., 1., 3., 1., 4., 1.]),\n",
       " array([0., 0., 0., 0., 0., 0., 0., 0., 0., 0., 0., 0., 0., 1., 4., 1., 4.,\n",
       "        1., 3., 1., 4., 1., 4., 1., 4., 1., 3., 2., 5., 2., 5., 2., 6., 1.,\n",
       "        3., 2., 5., 2., 5., 2., 5., 2., 5., 2., 6., 2., 5., 2., 5., 2.]),\n",
       " array([0., 0., 0., 0., 0., 0., 0., 0., 0., 0., 0., 0., 0., 0., 0., 0., 0.,\n",
       "        0., 0., 0., 0., 0., 0., 0., 0., 2., 5., 2., 6., 1., 3., 2., 6., 2.,\n",
       "        5., 2., 6., 1., 4., 1., 3., 1., 3., 1., 4., 1., 3., 1., 4., 1.])]"
      ]
     },
     "execution_count": 126,
     "metadata": {},
     "output_type": "execute_result"
    }
   ],
   "source": [
    "a1"
   ]
  },
  {
   "cell_type": "code",
   "execution_count": null,
   "metadata": {},
   "outputs": [],
   "source": []
  },
  {
   "cell_type": "code",
   "execution_count": 50,
   "metadata": {},
   "outputs": [],
   "source": []
  },
  {
   "cell_type": "code",
   "execution_count": 51,
   "metadata": {},
   "outputs": [],
   "source": []
  },
  {
   "cell_type": "code",
   "execution_count": 95,
   "metadata": {},
   "outputs": [
    {
     "data": {
      "text/plain": [
       "0.524378852388879"
      ]
     },
     "execution_count": 95,
     "metadata": {},
     "output_type": "execute_result"
    }
   ],
   "source": []
  },
  {
   "cell_type": "code",
   "execution_count": 57,
   "metadata": {},
   "outputs": [],
   "source": [
    "aaa = np.concatenate([a1,a1,a1])"
   ]
  },
  {
   "cell_type": "code",
   "execution_count": 58,
   "metadata": {},
   "outputs": [
    {
     "data": {
      "text/plain": [
       "(150,)"
      ]
     },
     "execution_count": 58,
     "metadata": {},
     "output_type": "execute_result"
    }
   ],
   "source": [
    "aaa.shape"
   ]
  },
  {
   "cell_type": "code",
   "execution_count": 23,
   "metadata": {},
   "outputs": [
    {
     "data": {
      "text/plain": [
       "'f'"
      ]
     },
     "execution_count": 23,
     "metadata": {},
     "output_type": "execute_result"
    }
   ],
   "source": [
    "ray.get(FeatActor.get_name.remote())"
   ]
  },
  {
   "cell_type": "code",
   "execution_count": 92,
   "metadata": {},
   "outputs": [],
   "source": [
    "s =ray.get(A)"
   ]
  },
  {
   "cell_type": "code",
   "execution_count": 93,
   "metadata": {},
   "outputs": [
    {
     "data": {
      "text/plain": [
       "(32, 50, 5)"
      ]
     },
     "execution_count": 93,
     "metadata": {},
     "output_type": "execute_result"
    }
   ],
   "source": [
    "s.shape"
   ]
  },
  {
   "cell_type": "code",
   "execution_count": 112,
   "metadata": {},
   "outputs": [],
   "source": [
    "feature_list = []\n",
    "for i in range(len(s)):\n",
    "    feature_list.append(features[0](s[i]))"
   ]
  },
  {
   "cell_type": "code",
   "execution_count": 115,
   "metadata": {},
   "outputs": [
    {
     "data": {
      "text/plain": [
       "(32, 50, 4)"
      ]
     },
     "execution_count": 115,
     "metadata": {},
     "output_type": "execute_result"
    }
   ],
   "source": [
    "act[0].shape"
   ]
  },
  {
   "cell_type": "code",
   "execution_count": 99,
   "metadata": {},
   "outputs": [
    {
     "data": {
      "text/plain": [
       "32"
      ]
     },
     "execution_count": 99,
     "metadata": {},
     "output_type": "execute_result"
    }
   ],
   "source": [
    "len(s)"
   ]
  },
  {
   "cell_type": "code",
   "execution_count": 12,
   "metadata": {},
   "outputs": [
    {
     "data": {
      "text/plain": [
       "array([[[1, 0, 0, 0, 0],\n",
       "        [1, 0, 0, 0, 0],\n",
       "        [1, 0, 0, 0, 0],\n",
       "        ...,\n",
       "        [0, 0, 1, 0, 0],\n",
       "        [0, 0, 0, 0, 1],\n",
       "        [0, 1, 0, 0, 0]],\n",
       "\n",
       "       [[1, 0, 0, 0, 0],\n",
       "        [1, 0, 0, 0, 0],\n",
       "        [1, 0, 0, 0, 0],\n",
       "        ...,\n",
       "        [0, 0, 1, 0, 0],\n",
       "        [0, 0, 0, 0, 1],\n",
       "        [0, 1, 0, 0, 0]],\n",
       "\n",
       "       [[1, 0, 0, 0, 0],\n",
       "        [1, 0, 0, 0, 0],\n",
       "        [1, 0, 0, 0, 0],\n",
       "        ...,\n",
       "        [0, 1, 0, 0, 0],\n",
       "        [0, 0, 0, 0, 1],\n",
       "        [0, 1, 0, 0, 0]],\n",
       "\n",
       "       ...,\n",
       "\n",
       "       [[1, 0, 0, 0, 0],\n",
       "        [1, 0, 0, 0, 0],\n",
       "        [1, 0, 0, 0, 0],\n",
       "        ...,\n",
       "        [0, 1, 0, 0, 0],\n",
       "        [0, 0, 0, 0, 1],\n",
       "        [0, 1, 0, 0, 0]],\n",
       "\n",
       "       [[1, 0, 0, 0, 0],\n",
       "        [1, 0, 0, 0, 0],\n",
       "        [1, 0, 0, 0, 0],\n",
       "        ...,\n",
       "        [0, 0, 1, 0, 0],\n",
       "        [0, 0, 0, 0, 1],\n",
       "        [0, 1, 0, 0, 0]],\n",
       "\n",
       "       [[1, 0, 0, 0, 0],\n",
       "        [1, 0, 0, 0, 0],\n",
       "        [1, 0, 0, 0, 0],\n",
       "        ...,\n",
       "        [0, 1, 0, 0, 0],\n",
       "        [0, 0, 0, 1, 0],\n",
       "        [0, 0, 1, 0, 0]]])"
      ]
     },
     "execution_count": 12,
     "metadata": {},
     "output_type": "execute_result"
    }
   ],
   "source": []
  },
  {
   "cell_type": "code",
   "execution_count": 116,
   "metadata": {},
   "outputs": [],
   "source": [
    "from prettytable import PrettyTable\n"
   ]
  },
  {
   "cell_type": "code",
   "execution_count": 117,
   "metadata": {},
   "outputs": [
    {
     "name": "stdout",
     "output_type": "stream",
     "text": [
      "+-------+-----+\n",
      "|  Name | Age |\n",
      "+-------+-----+\n",
      "| Alice |  24 |\n",
      "|  Bob  |  19 |\n",
      "+-------+-----+\n"
     ]
    }
   ],
   "source": []
  },
  {
   "cell_type": "code",
   "execution_count": null,
   "metadata": {},
   "outputs": [],
   "source": []
  },
  {
   "cell_type": "code",
   "execution_count": 41,
   "metadata": {},
   "outputs": [
    {
     "name": "stdout",
     "output_type": "stream",
     "text": [
      "\u001b[2m\u001b[36m(pid=4998)\u001b[0m Using TensorFlow backend.\n",
      "\u001b[2m\u001b[36m(pid=4998)\u001b[0m WARNING:tensorflow:From /usr/local/lib/python3.5/dist-packages/tensorflow_core/python/ops/resource_variable_ops.py:1630: calling BaseResourceVariable.__init__ (from tensorflow.python.ops.resource_variable_ops) with constraint is deprecated and will be removed in a future version.\n",
      "\u001b[2m\u001b[36m(pid=4998)\u001b[0m Instructions for updating:\n",
      "\u001b[2m\u001b[36m(pid=4998)\u001b[0m If using Keras pass *_constraint arguments to layers.\n",
      "\u001b[2m\u001b[36m(pid=4998)\u001b[0m 2019-11-05 20:54:11.704045: I tensorflow/core/platform/cpu_feature_guard.cc:145] This TensorFlow binary is optimized with Intel(R) MKL-DNN to use the following CPU instructions in performance critical operations:  AVX2 FMA\n",
      "\u001b[2m\u001b[36m(pid=4998)\u001b[0m To enable them in non-MKL-DNN operations, rebuild TensorFlow with the appropriate compiler flags.\n",
      "\u001b[2m\u001b[36m(pid=4998)\u001b[0m 2019-11-05 20:54:11.715756: I tensorflow/core/platform/profile_utils/cpu_utils.cc:94] CPU Frequency: 2300000000 Hz\n",
      "\u001b[2m\u001b[36m(pid=4998)\u001b[0m 2019-11-05 20:54:11.716322: I tensorflow/compiler/xla/service/service.cc:168] XLA service 0x555d49d3d200 initialized for platform Host (this does not guarantee that XLA will be used). Devices:\n",
      "\u001b[2m\u001b[36m(pid=4998)\u001b[0m 2019-11-05 20:54:11.716378: I tensorflow/compiler/xla/service/service.cc:176]   StreamExecutor device (0): Host, Default Version\n",
      "\u001b[2m\u001b[36m(pid=4998)\u001b[0m 2019-11-05 20:54:11.716787: I tensorflow/core/common_runtime/process_util.cc:115] Creating new thread pool with default inter op setting: 2. Tune using inter_op_parallelism_threads for best performance.\n",
      "\u001b[2m\u001b[36m(pid=4998)\u001b[0m WARNING:tensorflow:From /usr/local/lib/python3.5/dist-packages/tensorflow_core/python/ops/nn_impl.py:183: where (from tensorflow.python.ops.array_ops) is deprecated and will be removed in a future version.\n",
      "\u001b[2m\u001b[36m(pid=4998)\u001b[0m Instructions for updating:\n",
      "\u001b[2m\u001b[36m(pid=4998)\u001b[0m Use tf.where in 2.0, which has the same broadcast rule as np.where\n",
      "\u001b[2m\u001b[36m(pid=4998)\u001b[0m WARNING:tensorflow:From /usr/local/lib/python3.5/dist-packages/keras/backend/tensorflow_backend.py:422: The name tf.global_variables is deprecated. Please use tf.compat.v1.global_variables instead.\n",
      "\u001b[2m\u001b[36m(pid=4998)\u001b[0m \n"
     ]
    }
   ],
   "source": []
  },
  {
   "cell_type": "code",
   "execution_count": 42,
   "metadata": {},
   "outputs": [],
   "source": []
  },
  {
   "cell_type": "code",
   "execution_count": null,
   "metadata": {},
   "outputs": [],
   "source": []
  },
  {
   "cell_type": "code",
   "execution_count": 43,
   "metadata": {},
   "outputs": [
    {
     "data": {
      "text/plain": [
       "(32, 50, 4)"
      ]
     },
     "execution_count": 43,
     "metadata": {},
     "output_type": "execute_result"
    }
   ],
   "source": [
    "act[0].shape"
   ]
  },
  {
   "cell_type": "code",
   "execution_count": 56,
   "metadata": {},
   "outputs": [
    {
     "data": {
      "text/plain": [
       "[0]"
      ]
     },
     "execution_count": 56,
     "metadata": {},
     "output_type": "execute_result"
    }
   ],
   "source": [
    "layers"
   ]
  },
  {
   "cell_type": "code",
   "execution_count": 50,
   "metadata": {},
   "outputs": [
    {
     "data": {
      "text/plain": [
       "1"
      ]
     },
     "execution_count": 50,
     "metadata": {},
     "output_type": "execute_result"
    }
   ],
   "source": [
    "len(layer)"
   ]
  },
  {
   "cell_type": "code",
   "execution_count": null,
   "metadata": {},
   "outputs": [],
   "source": []
  },
  {
   "cell_type": "code",
   "execution_count": null,
   "metadata": {},
   "outputs": [],
   "source": []
  },
  {
   "cell_type": "code",
   "execution_count": 47,
   "metadata": {},
   "outputs": [],
   "source": [
    "aaa = spy_model.predict(ray.get(A))"
   ]
  },
  {
   "cell_type": "code",
   "execution_count": 62,
   "metadata": {},
   "outputs": [
    {
     "data": {
      "text/plain": [
       "[0, 1, 2, 3, 4]"
      ]
     },
     "execution_count": 62,
     "metadata": {},
     "output_type": "execute_result"
    }
   ],
   "source": [
    "units[0]"
   ]
  },
  {
   "cell_type": "code",
   "execution_count": 64,
   "metadata": {},
   "outputs": [
    {
     "data": {
      "text/plain": [
       "(32, 50, 4)"
      ]
     },
     "execution_count": 64,
     "metadata": {},
     "output_type": "execute_result"
    }
   ],
   "source": [
    "aaa[...].shape"
   ]
  },
  {
   "cell_type": "code",
   "execution_count": 10,
   "metadata": {},
   "outputs": [],
   "source": []
  },
  {
   "cell_type": "code",
   "execution_count": 11,
   "metadata": {},
   "outputs": [],
   "source": []
  },
  {
   "cell_type": "code",
   "execution_count": null,
   "metadata": {},
   "outputs": [],
   "source": []
  },
  {
   "cell_type": "code",
   "execution_count": null,
   "metadata": {},
   "outputs": [],
   "source": []
  },
  {
   "cell_type": "code",
   "execution_count": null,
   "metadata": {},
   "outputs": [],
   "source": []
  },
  {
   "cell_type": "code",
   "execution_count": 29,
   "metadata": {},
   "outputs": [],
   "source": []
  },
  {
   "cell_type": "code",
   "execution_count": 30,
   "metadata": {},
   "outputs": [
    {
     "data": {
      "text/plain": [
       "array([ 4.8889272e-04,  9.3079545e-04,  1.2901225e-03,  1.5700043e-03,\n",
       "        1.7843596e-03,  1.9477402e-03,  2.0723476e-03,  2.1676428e-03,\n",
       "        2.2407547e-03,  2.2970124e-03,  2.3404087e-03,  2.3739489e-03,\n",
       "        2.3999116e-03,  2.4200284e-03,  2.4356304e-03,  2.4477406e-03,\n",
       "        2.4571414e-03,  2.4644434e-03,  2.4701168e-03,  2.4745238e-03,\n",
       "        2.4779509e-03,  2.4806140e-03,  2.4826846e-03,  2.4842916e-03,\n",
       "        2.4855421e-03,  2.4865153e-03,  2.4872711e-03,  2.4878595e-03,\n",
       "        2.4883172e-03,  2.4886727e-03,  2.4889500e-03,  2.4891668e-03,\n",
       "        2.4893347e-03,  2.4894653e-03,  2.4895642e-03,  2.4896432e-03,\n",
       "        2.4897044e-03,  2.4897512e-03,  2.4897866e-03,  2.4898141e-03,\n",
       "        2.4898374e-03,  2.4898546e-03,  2.4898688e-03,  2.4898800e-03,\n",
       "        2.4898872e-03,  4.7461429e-01,  2.1423253e-01, -3.3533663e-01,\n",
       "        3.7080324e-01,  6.6535527e-01], dtype=float32)"
      ]
     },
     "execution_count": 30,
     "metadata": {},
     "output_type": "execute_result"
    }
   ],
   "source": [
    "act1 = act[0,:,0]\n",
    "act1"
   ]
  },
  {
   "cell_type": "code",
   "execution_count": 81,
   "metadata": {},
   "outputs": [],
   "source": [
    "def fsm_states(transition_table, dictionary, init_state = 0, id_fsm = None):\n",
    "    def F(seq_raw):\n",
    "        int2char = {0:'X', 1:'0', 2:'1', 3:'|', 4:'&'}\n",
    "        seq = ''\n",
    "        #latter not 0\n",
    "        for i in seq_raw[0]:\n",
    "            for k in range(len(i)):\n",
    "                if i[k] == 1:\n",
    "                    seq = seq + int2char[k]\n",
    "        features = np.zeros(len(seq))\n",
    "        cur_state = init_state\n",
    "        for i, x in enumerate(seq):\n",
    "            cur_state = transition_table[cur_state][dictionary[x]]\n",
    "            features[i] = cur_state\n",
    "        name = 'states' if id_fsm is None else 'states_' + id_fsm\n",
    "        return features, name\n",
    "    return F"
   ]
  },
  {
   "cell_type": "code",
   "execution_count": 82,
   "metadata": {},
   "outputs": [],
   "source": [
    "fsm_dict = {'X': 0, '0':1, '1':2, '|':3, '&':4}\n",
    "fsm_tbl =  [[0, 2, 1, -1, -1],\n",
    "            [0, -1, -1, 4, 3],\n",
    "            [0, -1, -1, 6, 5],\n",
    "            [0, 2, 1, -1, -1],\n",
    "            [0, 1, 1, -1, -1],\n",
    "            [0, 2, 2, -1, -1],\n",
    "            [0, 2, 1, -1, -1]]\n",
    "\n",
    "fsm_states_7 = fsm_states(fsm_tbl, fsm_dict, id_fsm = '7')"
   ]
  },
  {
   "cell_type": "code",
   "execution_count": 83,
   "metadata": {},
   "outputs": [],
   "source": [
    "f1 = fsm_states_7(ray.get(A))"
   ]
  },
  {
   "cell_type": "code",
   "execution_count": 84,
   "metadata": {},
   "outputs": [
    {
     "data": {
      "text/plain": [
       "(array([0., 0., 0., 0., 0., 0., 0., 0., 0., 0., 0., 0., 0., 0., 0., 0., 0.,\n",
       "        0., 0., 0., 0., 0., 0., 0., 0., 0., 0., 0., 0., 0., 0., 0., 0., 0.,\n",
       "        0., 0., 0., 0., 0., 0., 0., 0., 0., 0., 0., 2., 6., 1., 3., 2.]),\n",
       " 'states_7')"
      ]
     },
     "execution_count": 84,
     "metadata": {},
     "output_type": "execute_result"
    }
   ],
   "source": [
    "f1"
   ]
  },
  {
   "cell_type": "code",
   "execution_count": null,
   "metadata": {},
   "outputs": [],
   "source": []
  },
  {
   "cell_type": "code",
   "execution_count": 85,
   "metadata": {},
   "outputs": [
    {
     "ename": "NameError",
     "evalue": "name 'act1' is not defined",
     "output_type": "error",
     "traceback": [
      "\u001b[0;31m---------------------------------------------------------------------------\u001b[0m",
      "\u001b[0;31mNameError\u001b[0m                                 Traceback (most recent call last)",
      "\u001b[0;32m<ipython-input-85-46cfb176804f>\u001b[0m in \u001b[0;36m<module>\u001b[0;34m\u001b[0m\n\u001b[0;32m----> 1\u001b[0;31m \u001b[0mact1\u001b[0m\u001b[0;34m.\u001b[0m\u001b[0mshape\u001b[0m\u001b[0;34m\u001b[0m\u001b[0m\n\u001b[0m",
      "\u001b[0;31mNameError\u001b[0m: name 'act1' is not defined"
     ]
    }
   ],
   "source": [
    "act1.shape"
   ]
  },
  {
   "cell_type": "code",
   "execution_count": 36,
   "metadata": {},
   "outputs": [
    {
     "data": {
      "text/plain": [
       "(50,)"
      ]
     },
     "execution_count": 36,
     "metadata": {},
     "output_type": "execute_result"
    }
   ],
   "source": [
    "fg1[0].shape"
   ]
  },
  {
   "cell_type": "code",
   "execution_count": 37,
   "metadata": {},
   "outputs": [],
   "source": [
    "@ray.remote\n",
    "def correlation(a,b):\n",
    "    return np.corrcoef(a, b)[1,0]"
   ]
  },
  {
   "cell_type": "code",
   "execution_count": 38,
   "metadata": {},
   "outputs": [],
   "source": [
    "co1 = correlation.remote(act1,fg1[0])"
   ]
  },
  {
   "cell_type": "code",
   "execution_count": 39,
   "metadata": {},
   "outputs": [
    {
     "data": {
      "text/plain": [
       "0.5783246604097833"
      ]
     },
     "execution_count": 39,
     "metadata": {},
     "output_type": "execute_result"
    }
   ],
   "source": [
    "ray.get(co1)"
   ]
  },
  {
   "cell_type": "code",
   "execution_count": null,
   "metadata": {},
   "outputs": [],
   "source": []
  },
  {
   "cell_type": "code",
   "execution_count": null,
   "metadata": {},
   "outputs": [],
   "source": []
  },
  {
   "cell_type": "code",
   "execution_count": null,
   "metadata": {},
   "outputs": [],
   "source": []
  },
  {
   "cell_type": "code",
   "execution_count": null,
   "metadata": {},
   "outputs": [],
   "source": []
  },
  {
   "cell_type": "code",
   "execution_count": null,
   "metadata": {},
   "outputs": [],
   "source": []
  },
  {
   "cell_type": "code",
   "execution_count": 205,
   "metadata": {},
   "outputs": [
    {
     "name": "stderr",
     "output_type": "stream",
     "text": [
      "2019-11-03 22:22:43,990\tWARNING worker.py:1268 -- WARNING: Not updating worker name since `setproctitle` is not installed. Install this with `pip install setproctitle` (or ray[debug]) to enable monitoring of worker processes.\n",
      "2019-11-03 22:22:43,991\tERROR worker.py:1274 -- Calling ray.init() again after it has already been called.\n"
     ]
    },
    {
     "data": {
      "text/plain": [
       "(32, 50, 5)"
      ]
     },
     "execution_count": 205,
     "metadata": {},
     "output_type": "execute_result"
    }
   ],
   "source": [
    "dni.inspect(\"10.128.0.48:6379\",Scanner)"
   ]
  }
 ],
 "metadata": {
  "kernelspec": {
   "display_name": "Python 3",
   "language": "python",
   "name": "python3"
  },
  "language_info": {
   "codemirror_mode": {
    "name": "ipython",
    "version": 3
   },
   "file_extension": ".py",
   "mimetype": "text/x-python",
   "name": "python",
   "nbconvert_exporter": "python",
   "pygments_lexer": "ipython3",
   "version": "3.5.3"
  }
 },
 "nbformat": 4,
 "nbformat_minor": 2
}
